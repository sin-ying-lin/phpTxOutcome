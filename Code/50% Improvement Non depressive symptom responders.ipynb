{
 "cells": [
  {
   "cell_type": "code",
   "execution_count": 2,
   "id": "encouraging-oriental",
   "metadata": {},
   "outputs": [
    {
     "name": "stderr",
     "output_type": "stream",
     "text": [
      "\n",
      "Attaching package: ‘dplyr’\n",
      "\n",
      "\n",
      "The following objects are masked from ‘package:stats’:\n",
      "\n",
      "    filter, lag\n",
      "\n",
      "\n",
      "The following objects are masked from ‘package:base’:\n",
      "\n",
      "    intersect, setdiff, setequal, union\n",
      "\n",
      "\n",
      "Classes and Methods for R developed in the\n",
      "Political Science Computational Laboratory\n",
      "Department of Political Science\n",
      "Stanford University\n",
      "Simon Jackman\n",
      "hurdle and zeroinfl functions by Achim Zeileis\n",
      "\n"
     ]
    }
   ],
   "source": [
    "library('dplyr')\n",
    "library('effsize')\n",
    "library('ggplot2')\n",
    "library('foreign')\n",
    "library('pscl')\n",
    "library('ggrepel')"
   ]
  },
  {
   "cell_type": "code",
   "execution_count": 9,
   "id": "convertible-committee",
   "metadata": {},
   "outputs": [
    {
     "name": "stderr",
     "output_type": "stream",
     "text": [
      "Warning message in read.spss(\"../Data/DemosDx/Tx Day Consent Log_1.sav\"):\n",
      "“Undeclared level(s) 0, 11, 12 added in variable: DC_status_1”\n",
      "Warning message in read.spss(\"../Data/DemosDx/Tx Day Consent Log_1.sav\"):\n",
      "“Duplicated levels in factor DC_status_1: Other”\n",
      "Warning message in read.spss(\"../Data/DemosDx/Tx Day Consent Log_1.sav\"):\n",
      "“Undeclared level(s) 2 added in variable: SCID_1”\n",
      "Warning message in read.spss(\"../Data/DemosDx/Tx Day Consent Log_1.sav\"):\n",
      "“Undeclared level(s) 0 added in variable: Referral_1”\n"
     ]
    },
    {
     "data": {
      "text/html": [
       "844"
      ],
      "text/latex": [
       "844"
      ],
      "text/markdown": [
       "844"
      ],
      "text/plain": [
       "[1] 844"
      ]
     },
     "metadata": {},
     "output_type": "display_data"
    },
    {
     "name": "stderr",
     "output_type": "stream",
     "text": [
      "Warning message in read.spss(\"../Data/DemosDx/Demographics Form_1.sav\"):\n",
      "“Undeclared level(s) 6 added in variable: Race_1”\n",
      "Warning message in read.spss(\"../Data/DemosDx/Demographics Form_1.sav\"):\n",
      "“Undeclared level(s) 8 added in variable: Relationship_1”\n",
      "Warning message in read.spss(\"../Data/DemosDx/Diagnosis_1.sav\"):\n",
      "“../Data/DemosDx/Diagnosis_1.sav: Long string value labels record found (record type 7, subtype 21), but ignored”\n",
      "Warning message in read.spss(\"../Data/DemosDx/Diagnosis_1.sav\"):\n",
      "“Undeclared level(s) 22 added in variable: eatnos_1”\n",
      "Warning message in read.spss(\"../Data/DemosDx/Diagnosis_1.sav\"):\n",
      "“Undeclared level(s) 10 added in variable: addhpr_1”\n"
     ]
    }
   ],
   "source": [
    "dfMDD = read.csv('../Data/dfMDDMDDCurrPrin_satisfaction_rdq_dx_demo.csv')\n",
    "log = read.spss('../Data/DemosDx/Tx Day Consent Log_1.sav')\n",
    "nrow(dfMDD)\n",
    "demo = read.spss('../Data/DemosDx/Demographics Form_1.sav')\n",
    "dx = read.spss('../Data/DemosDx/Diagnosis_1.sav')"
   ]
  },
  {
   "cell_type": "code",
   "execution_count": 10,
   "id": "located-sleeping",
   "metadata": {
    "scrolled": true
   },
   "outputs": [
    {
     "name": "stdout",
     "output_type": "stream",
     "text": [
      "List of 13\n",
      " $ ID1             : num [1:7210] 1 2 3 4 5 6 7 8 9 10 ...\n",
      " $ Initials        : chr [1:7210] \"FG                              \" \"MB                              \" \"MM                              \" \"ET                              \" ...\n",
      " $ Age_1           : num [1:7210] 65 67 44 31 47 28 23 47 22 54 ...\n",
      " $ DOB_1           : num [1:7210] 1.15e+10 1.15e+10 1.22e+10 1.26e+10 1.21e+10 ...\n",
      " $ Sex_1           : Factor w/ 4 levels \"Female\",\"Male\",..: 1 1 2 1 1 1 1 1 1 1 ...\n",
      " $ Gender_1        : Factor w/ 5 levels \"Female\",\"Male\",..: 1 1 2 1 1 1 1 1 1 1 ...\n",
      " $ OtherGender_1   : chr [1:7210] \"                              \" \"                              \" \"                              \" \"                              \" ...\n",
      " $ Race_1          : Factor w/ 7 levels \"White\",\"Black\",..: 1 1 1 1 3 1 1 1 1 1 ...\n",
      " $ Relationship_1  : Factor w/ 7 levels \"Married\",\"Living with someone\",..: 5 3 1 1 4 1 6 6 6 5 ...\n",
      " $ Education_1     : Factor w/ 9 levels \"Grade 6 or less\",..: 6 6 5 8 5 5 5 6 5 7 ...\n",
      " $ Sexuality_1     : Factor w/ 4 levels \"Straight\",\"Gay or lesbian\",..: NA NA NA NA NA NA NA NA NA NA ...\n",
      " $ OtherSexuality_1: chr [1:7210] \"                              \" \"                              \" \"                              \" \"                              \" ...\n",
      " $ PrimaryLast     : Factor w/ 2 levels \"Duplicate Case\",..: 2 2 2 2 2 2 2 2 2 2 ...\n",
      " - attr(*, \"label.table\")=List of 13\n",
      "  ..$ ID1             : NULL\n",
      "  ..$ Initials        : NULL\n",
      "  ..$ Age_1           : NULL\n",
      "  ..$ DOB_1           : NULL\n",
      "  ..$ Sex_1           : Named num [1:4] 3 2 1 0\n",
      "  .. ..- attr(*, \"names\")= chr [1:4] \"Unknown (ID as Trans, genderqueer, or other before 12.18)\" \"Intersex\" \"Male\" \"Female\"\n",
      "  ..$ Gender_1        : Named num [1:5] 4 3 2 1 0\n",
      "  .. ..- attr(*, \"names\")= chr [1:5] \"Unknown (ID as Trans Before Demos Change 12.18)\" \"Other\" \"Non-Binary\" \"Male\" ...\n",
      "  ..$ OtherGender_1   : NULL\n",
      "  ..$ Race_1          : Named num [1:6] 5 4 3 2 1 0\n",
      "  .. ..- attr(*, \"names\")= chr [1:6] \"Other\" \"Portuguese\" \"Asian\" \"Hispanic\" ...\n",
      "  ..$ Relationship_1  : Named num [1:6] 5 4 3 2 1 0\n",
      "  .. ..- attr(*, \"names\")= chr [1:6] \"Never married\" \"Divorced\" \"Separated\" \"Widowed\" ...\n",
      "  ..$ Education_1     : Named num [1:9] 8 7 6 5 4 3 2 1 0\n",
      "  .. ..- attr(*, \"names\")= chr [1:9] \"Completed graduate/professional school\" \"Some graduate/professional school\" \"Graduated 4 year college\" \"Graduated 2 year college\" ...\n",
      "  ..$ Sexuality_1     : Named num [1:4] 4 3 2 1\n",
      "  .. ..- attr(*, \"names\")= chr [1:4] \"Other\" \"Bisexual\" \"Gay or lesbian\" \"Straight\"\n",
      "  ..$ OtherSexuality_1: NULL\n",
      "  ..$ PrimaryLast     : Named num [1:2] 1 0\n",
      "  .. ..- attr(*, \"names\")= chr [1:2] \"Primary Case\" \"Duplicate Case\"\n",
      " - attr(*, \"variable.labels\")= Named chr [1:13] \"\" \"\" \"\" \"\" ...\n",
      "  ..- attr(*, \"names\")= chr [1:13] \"ID1\" \"Initials\" \"Age_1\" \"DOB_1\" ...\n",
      " - attr(*, \"codepage\")= int 65001\n"
     ]
    }
   ],
   "source": [
    "str(demo)"
   ]
  },
  {
   "cell_type": "code",
   "execution_count": 11,
   "id": "difficult-montgomery",
   "metadata": {},
   "outputs": [
    {
     "data": {
      "text/plain": [
       "\n",
       " no yes   2 \n",
       "467 357  18 "
      ]
     },
     "metadata": {},
     "output_type": "display_data"
    }
   ],
   "source": [
    "#SCID'd patients\n",
    "table(merge(dfMDD, log, by = 'ID1')$SCID_1 )\n"
   ]
  },
  {
   "cell_type": "code",
   "execution_count": 11,
   "id": "sized-directive",
   "metadata": {
    "scrolled": true
   },
   "outputs": [
    {
     "data": {
      "text/plain": [
       "\n",
       "                                         Female \n",
       "                                            550 \n",
       "                                           Male \n",
       "                                            265 \n",
       "                                     Non-Binary \n",
       "                                             10 \n",
       "                                          Other \n",
       "                                              8 \n",
       "Unknown (ID as Trans Before Demos Change 12.18) \n",
       "                                             10 "
      ]
     },
     "metadata": {},
     "output_type": "display_data"
    },
    {
     "data": {
      "text/plain": [
       "\n",
       "                                         Female \n",
       "                                           65.2 \n",
       "                                           Male \n",
       "                                           31.4 \n",
       "                                     Non-Binary \n",
       "                                            1.2 \n",
       "                                          Other \n",
       "                                            0.9 \n",
       "Unknown (ID as Trans Before Demos Change 12.18) \n",
       "                                            1.2 "
      ]
     },
     "metadata": {},
     "output_type": "display_data"
    },
    {
     "data": {
      "text/html": [
       "2.13270142180095"
      ],
      "text/latex": [
       "2.13270142180095"
      ],
      "text/markdown": [
       "2.13270142180095"
      ],
      "text/plain": [
       "[1] 2.132701"
      ]
     },
     "metadata": {},
     "output_type": "display_data"
    },
    {
     "data": {
      "text/plain": [
       "   Min. 1st Qu.  Median    Mean 3rd Qu.    Max. \n",
       "  18.00   25.00   34.00   36.76   47.00   82.00 "
      ]
     },
     "metadata": {},
     "output_type": "display_data"
    },
    {
     "data": {
      "text/html": [
       "13.8560674165272"
      ],
      "text/latex": [
       "13.8560674165272"
      ],
      "text/markdown": [
       "13.8560674165272"
      ],
      "text/plain": [
       "[1] 13.85607"
      ]
     },
     "metadata": {},
     "output_type": "display_data"
    }
   ],
   "source": [
    "dfMDD_demo = merge(dfMDD, demo, by = 'ID1')\n",
    "table(dfMDD_demo$Gender_1)\n",
    "round(table(dfMDD_demo$Gender_1)/844*100,1)\n",
    "18/844*100\n",
    "summary(dfMDD_demo$Age_1)\n",
    "sd(dfMDD_demo$Age_1)\n"
   ]
  },
  {
   "cell_type": "code",
   "execution_count": 6,
   "id": "bizarre-measure",
   "metadata": {},
   "outputs": [
    {
     "ename": "ERROR",
     "evalue": "Error in table(dfMDD_demo$Relationship_1): object 'dfMDD_demo' not found\n",
     "output_type": "error",
     "traceback": [
      "Error in table(dfMDD_demo$Relationship_1): object 'dfMDD_demo' not found\nTraceback:\n",
      "1. table(dfMDD_demo$Relationship_1)"
     ]
    }
   ],
   "source": [
    "table(dfMDD_demo$Relationship_1)\n",
    "\n",
    "round(table(dfMDD_demo$Relationship_1)/844*100,1)"
   ]
  },
  {
   "cell_type": "code",
   "execution_count": 13,
   "id": "worldwide-voice",
   "metadata": {},
   "outputs": [
    {
     "data": {
      "text/plain": [
       "\n",
       "                       Grade 6 or less       Grade 7-12 without graduating HS \n",
       "                                     0                                     30 \n",
       "                          Graduated HS                           Received GED \n",
       "                                    85                                     34 \n",
       "                          Some college               Graduated 2 year college \n",
       "                                   276                                    102 \n",
       "              Graduated 4 year college      Some graduate/professional school \n",
       "                                   172                                     46 \n",
       "Completed graduate/professional school \n",
       "                                    99 "
      ]
     },
     "metadata": {},
     "output_type": "display_data"
    },
    {
     "data": {
      "text/plain": [
       "\n",
       "                       Grade 6 or less       Grade 7-12 without graduating HS \n",
       "                                   0.0                                    3.6 \n",
       "                          Graduated HS                           Received GED \n",
       "                                  10.1                                    4.0 \n",
       "                          Some college               Graduated 2 year college \n",
       "                                  32.7                                   12.1 \n",
       "              Graduated 4 year college      Some graduate/professional school \n",
       "                                  20.4                                    5.5 \n",
       "Completed graduate/professional school \n",
       "                                  11.7 "
      ]
     },
     "metadata": {},
     "output_type": "display_data"
    },
    {
     "data": {
      "text/html": [
       "317"
      ],
      "text/latex": [
       "317"
      ],
      "text/markdown": [
       "317"
      ],
      "text/plain": [
       "[1] 317"
      ]
     },
     "metadata": {},
     "output_type": "display_data"
    },
    {
     "data": {
      "text/html": [
       "37.5592417061611"
      ],
      "text/latex": [
       "37.5592417061611"
      ],
      "text/markdown": [
       "37.5592417061611"
      ],
      "text/plain": [
       "[1] 37.55924"
      ]
     },
     "metadata": {},
     "output_type": "display_data"
    }
   ],
   "source": [
    "table(dfMDD_demo$Education_1)\n",
    "\n",
    "round(table(dfMDD_demo$Education_1)/844*100,1)\n",
    "\n",
    "172 + 46 + 99\n",
    "(172 + 46 + 99)/844*100"
   ]
  },
  {
   "cell_type": "code",
   "execution_count": 110,
   "id": "failing-republic",
   "metadata": {},
   "outputs": [
    {
     "data": {
      "text/plain": [
       "\n",
       "     White      Black   Hispanic      Asian Portuguese      Other          6 \n",
       "       649         43         70         27         18         37          0 "
      ]
     },
     "metadata": {},
     "output_type": "display_data"
    },
    {
     "data": {
      "text/plain": [
       "\n",
       "     White      Black   Hispanic      Asian Portuguese      Other          6 \n",
       "      76.9        5.1        8.3        3.2        2.1        4.4        0.0 "
      ]
     },
     "metadata": {},
     "output_type": "display_data"
    },
    {
     "data": {
      "text/html": [
       "55"
      ],
      "text/latex": [
       "55"
      ],
      "text/markdown": [
       "55"
      ],
      "text/plain": [
       "[1] 55"
      ]
     },
     "metadata": {},
     "output_type": "display_data"
    },
    {
     "data": {
      "text/html": [
       "6.51658767772512"
      ],
      "text/latex": [
       "6.51658767772512"
      ],
      "text/markdown": [
       "6.51658767772512"
      ],
      "text/plain": [
       "[1] 6.516588"
      ]
     },
     "metadata": {},
     "output_type": "display_data"
    }
   ],
   "source": [
    "table(dfMDD_demo$Race_1)\n",
    "\n",
    "round(table(dfMDD_demo$Race_1)/844*100,1)\n",
    "\n",
    "18+37\n",
    "(18+37)/844*100"
   ]
  },
  {
   "cell_type": "code",
   "execution_count": 15,
   "id": "vulnerable-locking",
   "metadata": {},
   "outputs": [
    {
     "data": {
      "text/plain": [
       "\n",
       "        0         1         2         3         4 \n",
       " 3.436019  7.701422 21.445498 41.706161 25.710900 "
      ]
     },
     "metadata": {},
     "output_type": "display_data"
    }
   ],
   "source": [
    "table(dfMDD$imprv1)/844*100"
   ]
  },
  {
   "cell_type": "code",
   "execution_count": 16,
   "id": "activated-extra",
   "metadata": {},
   "outputs": [
    {
     "data": {
      "text/html": [
       "67.417061"
      ],
      "text/latex": [
       "67.417061"
      ],
      "text/markdown": [
       "67.417061"
      ],
      "text/plain": [
       "[1] 67.41706"
      ]
     },
     "metadata": {},
     "output_type": "display_data"
    }
   ],
   "source": [
    "41.706161 + 25.710900 "
   ]
  },
  {
   "cell_type": "code",
   "execution_count": 12,
   "id": "inner-channels",
   "metadata": {},
   "outputs": [],
   "source": [
    "dfMDD$pre_cope_r = abs(dfMDD$pre_cope-2)\n",
    "dfMDD$pre_pmh_r = abs(dfMDD$pre_pmh-2)\n",
    "dfMDD$pre_fun_r = abs(dfMDD$pre_fun-2)\n",
    "dfMDD$pre_well_r = abs(dfMDD$pre_well-2)\n",
    "dfMDD$post_cope_r = abs(dfMDD$post_cope-2)\n",
    "dfMDD$post_pmh_r = abs(dfMDD$post_pmh-2)\n",
    "dfMDD$post_fun_r = abs(dfMDD$post_fun-2)\n",
    "dfMDD$post_well_r = abs(dfMDD$post_well-2)"
   ]
  },
  {
   "cell_type": "code",
   "execution_count": 13,
   "id": "hydraulic-soccer",
   "metadata": {},
   "outputs": [],
   "source": [
    "dfMDD$pre_dsym_sum = rowSums(dfMDD[grep('rdqpre_[1-9]_1|rdqpre_1[0-4]_1', colnames(dfMDD))])\n",
    "dfMDD$pre_ndsym_sum = rowSums(dfMDD[grep('rdqpre_1[5-9]_1|rdqpre_2[0-5]_1', colnames(dfMDD))])\n",
    "dfMDD$pre_cope_r_sum = rowSums(abs(dfMDD[grep('rdqpre_2[6-9]_1|rdqpre_30_1', colnames(dfMDD))]-2))\n",
    "dfMDD$pre_pmh_r_sum = rowSums(abs(dfMDD[grep('rdqpre_3[1-9]_1|rdqpre_4[0-2]_1', colnames(dfMDD))]-2))\n",
    "dfMDD$pre_fun_r_sum = rowSums(abs(dfMDD[grep('rdqpre_4[3-9]_1|rdqpre_5[0-2]_1', colnames(dfMDD))]-2))\n",
    "dfMDD$pre_well_r_sum = rowSums(abs(dfMDD[grep('rdqpre_5[3-9]_1|rdqpre_69_1', colnames(dfMDD))]-2))\n",
    "\n",
    "dfMDD$post_dsym_sum = rowSums(dfMDD[grep('rdqpost_[1-9]_1|rdqpost_1[0-4]_1', colnames(dfMDD))])\n",
    "dfMDD$post_ndsym_sum = rowSums(dfMDD[grep('rdqpost_1[5-9]_1|rdqpost_2[0-5]_1', colnames(dfMDD))])\n",
    "dfMDD$post_cope_r_sum = rowSums(abs(dfMDD[grep('rdqpost_2[6-9]_1|rdqpost_30_1', colnames(dfMDD))]-2))\n",
    "dfMDD$post_pmh_r_sum = rowSums(abs(dfMDD[grep('rdqpost_3[1-9]_1|rdqpost_4[0-2]_1', colnames(dfMDD))]-2))\n",
    "dfMDD$post_fun_r_sum = rowSums(abs(dfMDD[grep('rdqpost_4[3-9]_1|rdqpost_5[0-2]_1', colnames(dfMDD))]-2))\n",
    "dfMDD$post_well_r_sum = rowSums(abs(dfMDD[grep('rdqpost_5[3-9]_1|rdqpost_69_1', colnames(dfMDD))]-2))\n",
    "                                                            "
   ]
  },
  {
   "cell_type": "code",
   "execution_count": 14,
   "id": "extra-qualification",
   "metadata": {},
   "outputs": [
    {
     "data": {
      "text/html": [
       "<table class=\"dataframe\">\n",
       "<caption>A data.frame: 517 × 302</caption>\n",
       "<thead>\n",
       "\t<tr><th></th><th scope=col>X</th><th scope=col>ID1</th><th scope=col>rdqpre_1_1</th><th scope=col>rdqpre_2_1</th><th scope=col>rdqpre_3_1</th><th scope=col>rdqpre_4_1</th><th scope=col>rdqpre_5_1</th><th scope=col>rdqpre_6_1</th><th scope=col>rdqpre_7_1</th><th scope=col>rdqpre_8_1</th><th scope=col>⋯</th><th scope=col>pre_cope_r_sum</th><th scope=col>pre_pmh_r_sum</th><th scope=col>pre_fun_r_sum</th><th scope=col>pre_well_r_sum</th><th scope=col>post_dsym_sum</th><th scope=col>post_ndsym_sum</th><th scope=col>post_cope_r_sum</th><th scope=col>post_pmh_r_sum</th><th scope=col>post_fun_r_sum</th><th scope=col>post_well_r_sum</th></tr>\n",
       "\t<tr><th></th><th scope=col>&lt;int&gt;</th><th scope=col>&lt;dbl&gt;</th><th scope=col>&lt;int&gt;</th><th scope=col>&lt;int&gt;</th><th scope=col>&lt;int&gt;</th><th scope=col>&lt;int&gt;</th><th scope=col>&lt;int&gt;</th><th scope=col>&lt;int&gt;</th><th scope=col>&lt;int&gt;</th><th scope=col>&lt;int&gt;</th><th scope=col>⋯</th><th scope=col>&lt;dbl&gt;</th><th scope=col>&lt;dbl&gt;</th><th scope=col>&lt;dbl&gt;</th><th scope=col>&lt;dbl&gt;</th><th scope=col>&lt;dbl&gt;</th><th scope=col>&lt;dbl&gt;</th><th scope=col>&lt;dbl&gt;</th><th scope=col>&lt;dbl&gt;</th><th scope=col>&lt;dbl&gt;</th><th scope=col>&lt;dbl&gt;</th></tr>\n",
       "</thead>\n",
       "<tbody>\n",
       "\t<tr><th scope=row>1</th><td> 1</td><td>1359</td><td>1</td><td>2</td><td>2</td><td>0</td><td>2</td><td>2</td><td>0</td><td>1</td><td>⋯</td><td> 4</td><td>20</td><td>17</td><td>14</td><td>15</td><td> 8</td><td> 1</td><td> 9</td><td> 9</td><td> 8</td></tr>\n",
       "\t<tr><th scope=row>3</th><td> 7</td><td>1400</td><td>2</td><td>2</td><td>2</td><td>1</td><td>1</td><td>2</td><td>0</td><td>2</td><td>⋯</td><td>10</td><td>22</td><td>15</td><td>14</td><td>18</td><td>18</td><td> 7</td><td>14</td><td>14</td><td> 8</td></tr>\n",
       "\t<tr><th scope=row>5</th><td>14</td><td>1420</td><td>2</td><td>2</td><td>2</td><td>1</td><td>0</td><td>1</td><td>2</td><td>2</td><td>⋯</td><td> 9</td><td>22</td><td>13</td><td>13</td><td>20</td><td>11</td><td> 8</td><td>17</td><td> 9</td><td>11</td></tr>\n",
       "\t<tr><th scope=row>7</th><td>17</td><td>1426</td><td>2</td><td>2</td><td>2</td><td>0</td><td>1</td><td>2</td><td>0</td><td>2</td><td>⋯</td><td> 9</td><td>19</td><td>20</td><td>13</td><td>21</td><td>22</td><td> 8</td><td>13</td><td>15</td><td>13</td></tr>\n",
       "\t<tr><th scope=row>8</th><td>18</td><td>1429</td><td>2</td><td>1</td><td>2</td><td>1</td><td>0</td><td>1</td><td>1</td><td>2</td><td>⋯</td><td> 7</td><td>17</td><td> 8</td><td>10</td><td>14</td><td>11</td><td> 7</td><td>16</td><td> 8</td><td> 9</td></tr>\n",
       "\t<tr><th scope=row>10</th><td>22</td><td>1463</td><td>2</td><td>2</td><td>2</td><td>2</td><td>2</td><td>0</td><td>2</td><td>2</td><td>⋯</td><td> 8</td><td>24</td><td>18</td><td> 0</td><td>15</td><td> 3</td><td> 2</td><td>14</td><td>11</td><td>11</td></tr>\n",
       "\t<tr><th scope=row>11</th><td>23</td><td>1467</td><td>2</td><td>2</td><td>2</td><td>0</td><td>0</td><td>0</td><td>0</td><td>2</td><td>⋯</td><td>10</td><td>22</td><td>11</td><td>12</td><td>11</td><td> 2</td><td> 5</td><td>10</td><td> 8</td><td> 8</td></tr>\n",
       "\t<tr><th scope=row>12</th><td>24</td><td>1486</td><td>2</td><td>1</td><td>1</td><td>2</td><td>0</td><td>1</td><td>1</td><td>1</td><td>⋯</td><td> 5</td><td>14</td><td>13</td><td>12</td><td> 9</td><td> 3</td><td> 3</td><td>15</td><td> 4</td><td> 9</td></tr>\n",
       "\t<tr><th scope=row>13</th><td>27</td><td>1510</td><td>2</td><td>2</td><td>2</td><td>0</td><td>2</td><td>0</td><td>2</td><td>2</td><td>⋯</td><td> 5</td><td>18</td><td>17</td><td> 6</td><td>16</td><td>15</td><td> 7</td><td>17</td><td>16</td><td>10</td></tr>\n",
       "\t<tr><th scope=row>15</th><td>29</td><td>1525</td><td>1</td><td>0</td><td>1</td><td>0</td><td>0</td><td>1</td><td>0</td><td>1</td><td>⋯</td><td> 4</td><td> 7</td><td> 3</td><td> 3</td><td> 6</td><td> 3</td><td> 2</td><td> 1</td><td> 0</td><td> 0</td></tr>\n",
       "\t<tr><th scope=row>16</th><td>32</td><td>1543</td><td>2</td><td>2</td><td>2</td><td>2</td><td>0</td><td>2</td><td>0</td><td>1</td><td>⋯</td><td> 7</td><td>22</td><td>11</td><td>14</td><td>14</td><td>12</td><td> 5</td><td>14</td><td>10</td><td> 7</td></tr>\n",
       "\t<tr><th scope=row>17</th><td>34</td><td>1554</td><td>2</td><td>2</td><td>2</td><td>2</td><td>0</td><td>2</td><td>0</td><td>1</td><td>⋯</td><td> 7</td><td>13</td><td>18</td><td>10</td><td>12</td><td> 3</td><td> 2</td><td> 7</td><td>11</td><td> 3</td></tr>\n",
       "\t<tr><th scope=row>18</th><td>36</td><td>1559</td><td>2</td><td>2</td><td>2</td><td>0</td><td>0</td><td>2</td><td>0</td><td>2</td><td>⋯</td><td> 5</td><td>24</td><td>12</td><td>14</td><td>18</td><td>15</td><td> 7</td><td>18</td><td>13</td><td>12</td></tr>\n",
       "\t<tr><th scope=row>19</th><td>41</td><td>1581</td><td>2</td><td>2</td><td>2</td><td>0</td><td>0</td><td>2</td><td>0</td><td>2</td><td>⋯</td><td> 7</td><td>18</td><td>13</td><td>13</td><td>10</td><td> 6</td><td> 5</td><td> 0</td><td> 5</td><td> 5</td></tr>\n",
       "\t<tr><th scope=row>20</th><td>46</td><td>1609</td><td>2</td><td>1</td><td>2</td><td>2</td><td>0</td><td>1</td><td>0</td><td>2</td><td>⋯</td><td> 8</td><td>17</td><td>11</td><td> 9</td><td> 9</td><td>11</td><td> 5</td><td>12</td><td>10</td><td> 7</td></tr>\n",
       "\t<tr><th scope=row>21</th><td>47</td><td>1610</td><td>2</td><td>2</td><td>1</td><td>1</td><td>0</td><td>2</td><td>0</td><td>1</td><td>⋯</td><td> 4</td><td> 7</td><td> 8</td><td> 4</td><td>14</td><td>18</td><td> 6</td><td>11</td><td>11</td><td> 8</td></tr>\n",
       "\t<tr><th scope=row>22</th><td>49</td><td>1620</td><td>1</td><td>2</td><td>2</td><td>2</td><td>0</td><td>2</td><td>0</td><td>0</td><td>⋯</td><td>10</td><td>22</td><td>17</td><td>13</td><td> 8</td><td> 6</td><td> 5</td><td> 8</td><td> 7</td><td> 7</td></tr>\n",
       "\t<tr><th scope=row>23</th><td>53</td><td>1640</td><td>2</td><td>2</td><td>2</td><td>2</td><td>0</td><td>2</td><td>0</td><td>2</td><td>⋯</td><td> 7</td><td>21</td><td>16</td><td>12</td><td>10</td><td> 7</td><td> 5</td><td>10</td><td> 7</td><td> 7</td></tr>\n",
       "\t<tr><th scope=row>24</th><td>55</td><td>1675</td><td>2</td><td>2</td><td>2</td><td>2</td><td>0</td><td>2</td><td>0</td><td>2</td><td>⋯</td><td> 6</td><td>21</td><td>17</td><td>14</td><td>16</td><td>12</td><td>10</td><td>10</td><td>10</td><td>10</td></tr>\n",
       "\t<tr><th scope=row>25</th><td>56</td><td>1675</td><td>2</td><td>2</td><td>2</td><td>2</td><td>0</td><td>2</td><td>0</td><td>2</td><td>⋯</td><td> 6</td><td>21</td><td>17</td><td>14</td><td>16</td><td>12</td><td>10</td><td>10</td><td>10</td><td>10</td></tr>\n",
       "\t<tr><th scope=row>26</th><td>59</td><td>1685</td><td>2</td><td>1</td><td>2</td><td>1</td><td>1</td><td>2</td><td>2</td><td>2</td><td>⋯</td><td>10</td><td>17</td><td>10</td><td> 9</td><td>13</td><td> 9</td><td> 5</td><td>13</td><td>10</td><td> 7</td></tr>\n",
       "\t<tr><th scope=row>27</th><td>61</td><td>1691</td><td>2</td><td>1</td><td>2</td><td>0</td><td>2</td><td>0</td><td>1</td><td>1</td><td>⋯</td><td> 7</td><td>16</td><td>14</td><td>14</td><td> 9</td><td> 7</td><td> 3</td><td> 9</td><td> 6</td><td> 7</td></tr>\n",
       "\t<tr><th scope=row>28</th><td>63</td><td>1696</td><td>2</td><td>2</td><td>2</td><td>1</td><td>0</td><td>2</td><td>2</td><td>2</td><td>⋯</td><td> 8</td><td>18</td><td>14</td><td>13</td><td>20</td><td>17</td><td> 8</td><td>19</td><td>12</td><td>13</td></tr>\n",
       "\t<tr><th scope=row>32</th><td>71</td><td>1725</td><td>2</td><td>1</td><td>2</td><td>1</td><td>0</td><td>1</td><td>0</td><td>2</td><td>⋯</td><td>10</td><td>22</td><td>13</td><td>14</td><td>24</td><td>18</td><td> 9</td><td>22</td><td>14</td><td>14</td></tr>\n",
       "\t<tr><th scope=row>33</th><td>76</td><td>1745</td><td>2</td><td>1</td><td>1</td><td>1</td><td>2</td><td>2</td><td>0</td><td>2</td><td>⋯</td><td> 8</td><td>15</td><td>10</td><td> 5</td><td>17</td><td>15</td><td> 7</td><td>14</td><td>13</td><td>11</td></tr>\n",
       "\t<tr><th scope=row>36</th><td>87</td><td>1785</td><td>2</td><td>2</td><td>2</td><td>2</td><td>0</td><td>2</td><td>0</td><td>2</td><td>⋯</td><td> 9</td><td>21</td><td>19</td><td>14</td><td>13</td><td>11</td><td> 5</td><td> 5</td><td>10</td><td> 5</td></tr>\n",
       "\t<tr><th scope=row>37</th><td>88</td><td>1785</td><td>2</td><td>2</td><td>2</td><td>2</td><td>0</td><td>2</td><td>0</td><td>2</td><td>⋯</td><td> 9</td><td>21</td><td>19</td><td>14</td><td>13</td><td>11</td><td> 5</td><td> 5</td><td>10</td><td> 5</td></tr>\n",
       "\t<tr><th scope=row>38</th><td>89</td><td>1786</td><td>2</td><td>1</td><td>1</td><td>1</td><td>1</td><td>2</td><td>1</td><td>1</td><td>⋯</td><td> 9</td><td>19</td><td>16</td><td>14</td><td>19</td><td>18</td><td> 8</td><td>15</td><td>13</td><td>11</td></tr>\n",
       "\t<tr><th scope=row>40</th><td>94</td><td>1803</td><td>1</td><td>1</td><td>1</td><td>0</td><td>0</td><td>1</td><td>0</td><td>1</td><td>⋯</td><td> 8</td><td>20</td><td>11</td><td>11</td><td>14</td><td>16</td><td> 7</td><td>18</td><td>11</td><td>11</td></tr>\n",
       "\t<tr><th scope=row>41</th><td>97</td><td>1816</td><td>2</td><td>2</td><td>1</td><td>0</td><td>0</td><td>1</td><td>1</td><td>2</td><td>⋯</td><td> 8</td><td>20</td><td>12</td><td>14</td><td>17</td><td>12</td><td> 6</td><td>17</td><td> 9</td><td>12</td></tr>\n",
       "\t<tr><th scope=row>⋮</th><td>⋮</td><td>⋮</td><td>⋮</td><td>⋮</td><td>⋮</td><td>⋮</td><td>⋮</td><td>⋮</td><td>⋮</td><td>⋮</td><td>⋱</td><td>⋮</td><td>⋮</td><td>⋮</td><td>⋮</td><td>⋮</td><td>⋮</td><td>⋮</td><td>⋮</td><td>⋮</td><td>⋮</td></tr>\n",
       "\t<tr><th scope=row>787</th><td>1695</td><td>6852</td><td>2</td><td>2</td><td>2</td><td>2</td><td>0</td><td>2</td><td>1</td><td>2</td><td>⋯</td><td> 6</td><td>23</td><td>16</td><td>14</td><td>21</td><td>22</td><td>7</td><td>17</td><td>15</td><td>11</td></tr>\n",
       "\t<tr><th scope=row>788</th><td>1696</td><td>6852</td><td>2</td><td>2</td><td>2</td><td>2</td><td>0</td><td>2</td><td>1</td><td>2</td><td>⋯</td><td> 6</td><td>23</td><td>16</td><td>14</td><td>21</td><td>22</td><td>7</td><td>17</td><td>15</td><td>11</td></tr>\n",
       "\t<tr><th scope=row>790</th><td>1698</td><td>6856</td><td>2</td><td>2</td><td>2</td><td>0</td><td>0</td><td>1</td><td>2</td><td>2</td><td>⋯</td><td> 7</td><td>18</td><td>16</td><td>12</td><td>13</td><td> 5</td><td>3</td><td>10</td><td> 9</td><td> 7</td></tr>\n",
       "\t<tr><th scope=row>791</th><td>1700</td><td>6860</td><td>2</td><td>1</td><td>2</td><td>1</td><td>0</td><td>2</td><td>1</td><td>2</td><td>⋯</td><td> 9</td><td>18</td><td> 9</td><td>11</td><td>10</td><td> 5</td><td>4</td><td>15</td><td> 9</td><td>11</td></tr>\n",
       "\t<tr><th scope=row>798</th><td>1718</td><td>6901</td><td>2</td><td>2</td><td>2</td><td>2</td><td>1</td><td>1</td><td>1</td><td>2</td><td>⋯</td><td> 8</td><td>20</td><td>11</td><td>11</td><td>16</td><td>11</td><td>5</td><td>19</td><td> 7</td><td>11</td></tr>\n",
       "\t<tr><th scope=row>799</th><td>1723</td><td>6926</td><td>2</td><td>2</td><td>2</td><td>0</td><td>2</td><td>2</td><td>2</td><td>2</td><td>⋯</td><td>10</td><td>21</td><td>19</td><td>14</td><td>11</td><td> 7</td><td>5</td><td>14</td><td> 4</td><td> 7</td></tr>\n",
       "\t<tr><th scope=row>800</th><td>1725</td><td>6933</td><td>2</td><td>2</td><td>2</td><td>0</td><td>0</td><td>0</td><td>0</td><td>2</td><td>⋯</td><td> 7</td><td>20</td><td>12</td><td>13</td><td>11</td><td> 3</td><td>1</td><td>11</td><td>10</td><td> 9</td></tr>\n",
       "\t<tr><th scope=row>801</th><td>1727</td><td>6942</td><td>2</td><td>2</td><td>2</td><td>2</td><td>0</td><td>1</td><td>0</td><td>2</td><td>⋯</td><td> 6</td><td>20</td><td>14</td><td>10</td><td>13</td><td> 8</td><td>6</td><td>17</td><td>11</td><td> 8</td></tr>\n",
       "\t<tr><th scope=row>802</th><td>1729</td><td>6947</td><td>2</td><td>2</td><td>2</td><td>1</td><td>0</td><td>2</td><td>2</td><td>2</td><td>⋯</td><td> 7</td><td>19</td><td>12</td><td> 9</td><td>11</td><td> 5</td><td>4</td><td>15</td><td>12</td><td> 9</td></tr>\n",
       "\t<tr><th scope=row>803</th><td>1730</td><td>6952</td><td>2</td><td>2</td><td>2</td><td>0</td><td>1</td><td>0</td><td>2</td><td>2</td><td>⋯</td><td> 7</td><td>22</td><td>17</td><td>11</td><td>12</td><td> 4</td><td>5</td><td>12</td><td>10</td><td> 7</td></tr>\n",
       "\t<tr><th scope=row>806</th><td>1738</td><td>7004</td><td>1</td><td>1</td><td>1</td><td>1</td><td>1</td><td>1</td><td>1</td><td>2</td><td>⋯</td><td> 7</td><td>19</td><td> 8</td><td>11</td><td>13</td><td> 7</td><td>5</td><td>14</td><td> 8</td><td> 7</td></tr>\n",
       "\t<tr><th scope=row>808</th><td>1741</td><td>7011</td><td>2</td><td>2</td><td>2</td><td>1</td><td>1</td><td>2</td><td>2</td><td>2</td><td>⋯</td><td> 6</td><td> 5</td><td>11</td><td>14</td><td>13</td><td> 8</td><td>5</td><td>19</td><td> 1</td><td>14</td></tr>\n",
       "\t<tr><th scope=row>810</th><td>1746</td><td>7018</td><td>2</td><td>2</td><td>2</td><td>2</td><td>0</td><td>1</td><td>0</td><td>2</td><td>⋯</td><td> 6</td><td>21</td><td>11</td><td>10</td><td>19</td><td>13</td><td>6</td><td>23</td><td>12</td><td>12</td></tr>\n",
       "\t<tr><th scope=row>811</th><td>1748</td><td>7022</td><td>2</td><td>2</td><td>2</td><td>1</td><td>1</td><td>0</td><td>0</td><td>2</td><td>⋯</td><td> 8</td><td>21</td><td>16</td><td>14</td><td>13</td><td>14</td><td>5</td><td>17</td><td>14</td><td> 9</td></tr>\n",
       "\t<tr><th scope=row>813</th><td>1752</td><td>7043</td><td>1</td><td>1</td><td>1</td><td>1</td><td>0</td><td>1</td><td>1</td><td>1</td><td>⋯</td><td> 3</td><td>10</td><td>10</td><td>10</td><td> 7</td><td> 5</td><td>8</td><td> 5</td><td>14</td><td> 8</td></tr>\n",
       "\t<tr><th scope=row>814</th><td>1753</td><td>7044</td><td>2</td><td>2</td><td>2</td><td>2</td><td>0</td><td>1</td><td>2</td><td>2</td><td>⋯</td><td> 9</td><td>19</td><td>13</td><td>11</td><td>18</td><td>12</td><td>7</td><td>14</td><td>12</td><td>13</td></tr>\n",
       "\t<tr><th scope=row>815</th><td>1755</td><td>7046</td><td>2</td><td>2</td><td>2</td><td>0</td><td>2</td><td>0</td><td>2</td><td>2</td><td>⋯</td><td>10</td><td>24</td><td>20</td><td>14</td><td>20</td><td>22</td><td>9</td><td>24</td><td>17</td><td>14</td></tr>\n",
       "\t<tr><th scope=row>816</th><td>1757</td><td>7052</td><td>2</td><td>1</td><td>2</td><td>1</td><td>0</td><td>1</td><td>2</td><td>2</td><td>⋯</td><td> 6</td><td>23</td><td>15</td><td>14</td><td>20</td><td>15</td><td>5</td><td>24</td><td> 9</td><td>14</td></tr>\n",
       "\t<tr><th scope=row>817</th><td>1758</td><td>7052</td><td>2</td><td>1</td><td>2</td><td>1</td><td>0</td><td>1</td><td>2</td><td>2</td><td>⋯</td><td> 6</td><td>23</td><td>15</td><td>14</td><td>20</td><td>15</td><td>5</td><td>24</td><td> 9</td><td>14</td></tr>\n",
       "\t<tr><th scope=row>820</th><td>1764</td><td>7065</td><td>1</td><td>2</td><td>2</td><td>1</td><td>0</td><td>0</td><td>1</td><td>2</td><td>⋯</td><td> 6</td><td>20</td><td>17</td><td>11</td><td>14</td><td> 5</td><td>6</td><td>19</td><td>16</td><td>11</td></tr>\n",
       "\t<tr><th scope=row>821</th><td>1768</td><td>7072</td><td>2</td><td>2</td><td>2</td><td>2</td><td>0</td><td>2</td><td>2</td><td>2</td><td>⋯</td><td>10</td><td>22</td><td> 8</td><td>14</td><td>15</td><td>13</td><td>5</td><td>19</td><td>14</td><td>13</td></tr>\n",
       "\t<tr><th scope=row>822</th><td>1770</td><td>7075</td><td>1</td><td>1</td><td>2</td><td>1</td><td>1</td><td>1</td><td>1</td><td>1</td><td>⋯</td><td> 5</td><td>19</td><td>12</td><td>14</td><td>16</td><td>12</td><td>5</td><td>15</td><td> 9</td><td> 8</td></tr>\n",
       "\t<tr><th scope=row>832</th><td>1790</td><td>7130</td><td>1</td><td>1</td><td>1</td><td>1</td><td>1</td><td>1</td><td>1</td><td>1</td><td>⋯</td><td> 3</td><td>14</td><td>10</td><td> 7</td><td>10</td><td> 6</td><td>5</td><td>16</td><td> 8</td><td> 7</td></tr>\n",
       "\t<tr><th scope=row>833</th><td>1791</td><td>7131</td><td>2</td><td>1</td><td>1</td><td>2</td><td>0</td><td>1</td><td>1</td><td>1</td><td>⋯</td><td> 8</td><td>20</td><td>15</td><td>10</td><td>11</td><td>14</td><td>7</td><td>18</td><td> 7</td><td>11</td></tr>\n",
       "\t<tr><th scope=row>834</th><td>1793</td><td>7136</td><td>2</td><td>2</td><td>2</td><td>1</td><td>1</td><td>0</td><td>2</td><td>2</td><td>⋯</td><td> 9</td><td>21</td><td>19</td><td>14</td><td>11</td><td> 4</td><td>3</td><td> 8</td><td> 7</td><td> 5</td></tr>\n",
       "\t<tr><th scope=row>839</th><td>1804</td><td>7171</td><td>2</td><td>1</td><td>2</td><td>1</td><td>1</td><td>2</td><td>2</td><td>2</td><td>⋯</td><td> 6</td><td>21</td><td>14</td><td>13</td><td>13</td><td> 8</td><td>3</td><td> 9</td><td> 7</td><td> 4</td></tr>\n",
       "\t<tr><th scope=row>840</th><td>1805</td><td>7173</td><td>1</td><td>1</td><td>2</td><td>0</td><td>0</td><td>0</td><td>1</td><td>2</td><td>⋯</td><td> 9</td><td>20</td><td>10</td><td> 9</td><td>10</td><td>11</td><td>7</td><td>13</td><td>11</td><td> 7</td></tr>\n",
       "\t<tr><th scope=row>842</th><td>1807</td><td>7185</td><td>2</td><td>2</td><td>2</td><td>2</td><td>1</td><td>2</td><td>2</td><td>2</td><td>⋯</td><td> 6</td><td>15</td><td>13</td><td>12</td><td>12</td><td> 5</td><td>1</td><td>16</td><td> 9</td><td>11</td></tr>\n",
       "\t<tr><th scope=row>843</th><td>1810</td><td>7190</td><td>1</td><td>1</td><td>1</td><td>0</td><td>1</td><td>0</td><td>0</td><td>1</td><td>⋯</td><td> 4</td><td>12</td><td> 9</td><td> 9</td><td> 7</td><td> 2</td><td>4</td><td>13</td><td> 7</td><td> 6</td></tr>\n",
       "\t<tr><th scope=row>844</th><td>1811</td><td>7190</td><td>1</td><td>1</td><td>1</td><td>0</td><td>1</td><td>0</td><td>0</td><td>1</td><td>⋯</td><td> 4</td><td>12</td><td> 9</td><td> 9</td><td> 7</td><td> 2</td><td>4</td><td>13</td><td> 7</td><td> 6</td></tr>\n",
       "</tbody>\n",
       "</table>\n"
      ],
      "text/latex": [
       "A data.frame: 517 × 302\n",
       "\\begin{tabular}{r|lllllllllllllllllllll}\n",
       "  & X & ID1 & rdqpre\\_1\\_1 & rdqpre\\_2\\_1 & rdqpre\\_3\\_1 & rdqpre\\_4\\_1 & rdqpre\\_5\\_1 & rdqpre\\_6\\_1 & rdqpre\\_7\\_1 & rdqpre\\_8\\_1 & ⋯ & pre\\_cope\\_r\\_sum & pre\\_pmh\\_r\\_sum & pre\\_fun\\_r\\_sum & pre\\_well\\_r\\_sum & post\\_dsym\\_sum & post\\_ndsym\\_sum & post\\_cope\\_r\\_sum & post\\_pmh\\_r\\_sum & post\\_fun\\_r\\_sum & post\\_well\\_r\\_sum\\\\\n",
       "  & <int> & <dbl> & <int> & <int> & <int> & <int> & <int> & <int> & <int> & <int> & ⋯ & <dbl> & <dbl> & <dbl> & <dbl> & <dbl> & <dbl> & <dbl> & <dbl> & <dbl> & <dbl>\\\\\n",
       "\\hline\n",
       "\t1 &  1 & 1359 & 1 & 2 & 2 & 0 & 2 & 2 & 0 & 1 & ⋯ &  4 & 20 & 17 & 14 & 15 &  8 &  1 &  9 &  9 &  8\\\\\n",
       "\t3 &  7 & 1400 & 2 & 2 & 2 & 1 & 1 & 2 & 0 & 2 & ⋯ & 10 & 22 & 15 & 14 & 18 & 18 &  7 & 14 & 14 &  8\\\\\n",
       "\t5 & 14 & 1420 & 2 & 2 & 2 & 1 & 0 & 1 & 2 & 2 & ⋯ &  9 & 22 & 13 & 13 & 20 & 11 &  8 & 17 &  9 & 11\\\\\n",
       "\t7 & 17 & 1426 & 2 & 2 & 2 & 0 & 1 & 2 & 0 & 2 & ⋯ &  9 & 19 & 20 & 13 & 21 & 22 &  8 & 13 & 15 & 13\\\\\n",
       "\t8 & 18 & 1429 & 2 & 1 & 2 & 1 & 0 & 1 & 1 & 2 & ⋯ &  7 & 17 &  8 & 10 & 14 & 11 &  7 & 16 &  8 &  9\\\\\n",
       "\t10 & 22 & 1463 & 2 & 2 & 2 & 2 & 2 & 0 & 2 & 2 & ⋯ &  8 & 24 & 18 &  0 & 15 &  3 &  2 & 14 & 11 & 11\\\\\n",
       "\t11 & 23 & 1467 & 2 & 2 & 2 & 0 & 0 & 0 & 0 & 2 & ⋯ & 10 & 22 & 11 & 12 & 11 &  2 &  5 & 10 &  8 &  8\\\\\n",
       "\t12 & 24 & 1486 & 2 & 1 & 1 & 2 & 0 & 1 & 1 & 1 & ⋯ &  5 & 14 & 13 & 12 &  9 &  3 &  3 & 15 &  4 &  9\\\\\n",
       "\t13 & 27 & 1510 & 2 & 2 & 2 & 0 & 2 & 0 & 2 & 2 & ⋯ &  5 & 18 & 17 &  6 & 16 & 15 &  7 & 17 & 16 & 10\\\\\n",
       "\t15 & 29 & 1525 & 1 & 0 & 1 & 0 & 0 & 1 & 0 & 1 & ⋯ &  4 &  7 &  3 &  3 &  6 &  3 &  2 &  1 &  0 &  0\\\\\n",
       "\t16 & 32 & 1543 & 2 & 2 & 2 & 2 & 0 & 2 & 0 & 1 & ⋯ &  7 & 22 & 11 & 14 & 14 & 12 &  5 & 14 & 10 &  7\\\\\n",
       "\t17 & 34 & 1554 & 2 & 2 & 2 & 2 & 0 & 2 & 0 & 1 & ⋯ &  7 & 13 & 18 & 10 & 12 &  3 &  2 &  7 & 11 &  3\\\\\n",
       "\t18 & 36 & 1559 & 2 & 2 & 2 & 0 & 0 & 2 & 0 & 2 & ⋯ &  5 & 24 & 12 & 14 & 18 & 15 &  7 & 18 & 13 & 12\\\\\n",
       "\t19 & 41 & 1581 & 2 & 2 & 2 & 0 & 0 & 2 & 0 & 2 & ⋯ &  7 & 18 & 13 & 13 & 10 &  6 &  5 &  0 &  5 &  5\\\\\n",
       "\t20 & 46 & 1609 & 2 & 1 & 2 & 2 & 0 & 1 & 0 & 2 & ⋯ &  8 & 17 & 11 &  9 &  9 & 11 &  5 & 12 & 10 &  7\\\\\n",
       "\t21 & 47 & 1610 & 2 & 2 & 1 & 1 & 0 & 2 & 0 & 1 & ⋯ &  4 &  7 &  8 &  4 & 14 & 18 &  6 & 11 & 11 &  8\\\\\n",
       "\t22 & 49 & 1620 & 1 & 2 & 2 & 2 & 0 & 2 & 0 & 0 & ⋯ & 10 & 22 & 17 & 13 &  8 &  6 &  5 &  8 &  7 &  7\\\\\n",
       "\t23 & 53 & 1640 & 2 & 2 & 2 & 2 & 0 & 2 & 0 & 2 & ⋯ &  7 & 21 & 16 & 12 & 10 &  7 &  5 & 10 &  7 &  7\\\\\n",
       "\t24 & 55 & 1675 & 2 & 2 & 2 & 2 & 0 & 2 & 0 & 2 & ⋯ &  6 & 21 & 17 & 14 & 16 & 12 & 10 & 10 & 10 & 10\\\\\n",
       "\t25 & 56 & 1675 & 2 & 2 & 2 & 2 & 0 & 2 & 0 & 2 & ⋯ &  6 & 21 & 17 & 14 & 16 & 12 & 10 & 10 & 10 & 10\\\\\n",
       "\t26 & 59 & 1685 & 2 & 1 & 2 & 1 & 1 & 2 & 2 & 2 & ⋯ & 10 & 17 & 10 &  9 & 13 &  9 &  5 & 13 & 10 &  7\\\\\n",
       "\t27 & 61 & 1691 & 2 & 1 & 2 & 0 & 2 & 0 & 1 & 1 & ⋯ &  7 & 16 & 14 & 14 &  9 &  7 &  3 &  9 &  6 &  7\\\\\n",
       "\t28 & 63 & 1696 & 2 & 2 & 2 & 1 & 0 & 2 & 2 & 2 & ⋯ &  8 & 18 & 14 & 13 & 20 & 17 &  8 & 19 & 12 & 13\\\\\n",
       "\t32 & 71 & 1725 & 2 & 1 & 2 & 1 & 0 & 1 & 0 & 2 & ⋯ & 10 & 22 & 13 & 14 & 24 & 18 &  9 & 22 & 14 & 14\\\\\n",
       "\t33 & 76 & 1745 & 2 & 1 & 1 & 1 & 2 & 2 & 0 & 2 & ⋯ &  8 & 15 & 10 &  5 & 17 & 15 &  7 & 14 & 13 & 11\\\\\n",
       "\t36 & 87 & 1785 & 2 & 2 & 2 & 2 & 0 & 2 & 0 & 2 & ⋯ &  9 & 21 & 19 & 14 & 13 & 11 &  5 &  5 & 10 &  5\\\\\n",
       "\t37 & 88 & 1785 & 2 & 2 & 2 & 2 & 0 & 2 & 0 & 2 & ⋯ &  9 & 21 & 19 & 14 & 13 & 11 &  5 &  5 & 10 &  5\\\\\n",
       "\t38 & 89 & 1786 & 2 & 1 & 1 & 1 & 1 & 2 & 1 & 1 & ⋯ &  9 & 19 & 16 & 14 & 19 & 18 &  8 & 15 & 13 & 11\\\\\n",
       "\t40 & 94 & 1803 & 1 & 1 & 1 & 0 & 0 & 1 & 0 & 1 & ⋯ &  8 & 20 & 11 & 11 & 14 & 16 &  7 & 18 & 11 & 11\\\\\n",
       "\t41 & 97 & 1816 & 2 & 2 & 1 & 0 & 0 & 1 & 1 & 2 & ⋯ &  8 & 20 & 12 & 14 & 17 & 12 &  6 & 17 &  9 & 12\\\\\n",
       "\t⋮ & ⋮ & ⋮ & ⋮ & ⋮ & ⋮ & ⋮ & ⋮ & ⋮ & ⋮ & ⋮ & ⋱ & ⋮ & ⋮ & ⋮ & ⋮ & ⋮ & ⋮ & ⋮ & ⋮ & ⋮ & ⋮\\\\\n",
       "\t787 & 1695 & 6852 & 2 & 2 & 2 & 2 & 0 & 2 & 1 & 2 & ⋯ &  6 & 23 & 16 & 14 & 21 & 22 & 7 & 17 & 15 & 11\\\\\n",
       "\t788 & 1696 & 6852 & 2 & 2 & 2 & 2 & 0 & 2 & 1 & 2 & ⋯ &  6 & 23 & 16 & 14 & 21 & 22 & 7 & 17 & 15 & 11\\\\\n",
       "\t790 & 1698 & 6856 & 2 & 2 & 2 & 0 & 0 & 1 & 2 & 2 & ⋯ &  7 & 18 & 16 & 12 & 13 &  5 & 3 & 10 &  9 &  7\\\\\n",
       "\t791 & 1700 & 6860 & 2 & 1 & 2 & 1 & 0 & 2 & 1 & 2 & ⋯ &  9 & 18 &  9 & 11 & 10 &  5 & 4 & 15 &  9 & 11\\\\\n",
       "\t798 & 1718 & 6901 & 2 & 2 & 2 & 2 & 1 & 1 & 1 & 2 & ⋯ &  8 & 20 & 11 & 11 & 16 & 11 & 5 & 19 &  7 & 11\\\\\n",
       "\t799 & 1723 & 6926 & 2 & 2 & 2 & 0 & 2 & 2 & 2 & 2 & ⋯ & 10 & 21 & 19 & 14 & 11 &  7 & 5 & 14 &  4 &  7\\\\\n",
       "\t800 & 1725 & 6933 & 2 & 2 & 2 & 0 & 0 & 0 & 0 & 2 & ⋯ &  7 & 20 & 12 & 13 & 11 &  3 & 1 & 11 & 10 &  9\\\\\n",
       "\t801 & 1727 & 6942 & 2 & 2 & 2 & 2 & 0 & 1 & 0 & 2 & ⋯ &  6 & 20 & 14 & 10 & 13 &  8 & 6 & 17 & 11 &  8\\\\\n",
       "\t802 & 1729 & 6947 & 2 & 2 & 2 & 1 & 0 & 2 & 2 & 2 & ⋯ &  7 & 19 & 12 &  9 & 11 &  5 & 4 & 15 & 12 &  9\\\\\n",
       "\t803 & 1730 & 6952 & 2 & 2 & 2 & 0 & 1 & 0 & 2 & 2 & ⋯ &  7 & 22 & 17 & 11 & 12 &  4 & 5 & 12 & 10 &  7\\\\\n",
       "\t806 & 1738 & 7004 & 1 & 1 & 1 & 1 & 1 & 1 & 1 & 2 & ⋯ &  7 & 19 &  8 & 11 & 13 &  7 & 5 & 14 &  8 &  7\\\\\n",
       "\t808 & 1741 & 7011 & 2 & 2 & 2 & 1 & 1 & 2 & 2 & 2 & ⋯ &  6 &  5 & 11 & 14 & 13 &  8 & 5 & 19 &  1 & 14\\\\\n",
       "\t810 & 1746 & 7018 & 2 & 2 & 2 & 2 & 0 & 1 & 0 & 2 & ⋯ &  6 & 21 & 11 & 10 & 19 & 13 & 6 & 23 & 12 & 12\\\\\n",
       "\t811 & 1748 & 7022 & 2 & 2 & 2 & 1 & 1 & 0 & 0 & 2 & ⋯ &  8 & 21 & 16 & 14 & 13 & 14 & 5 & 17 & 14 &  9\\\\\n",
       "\t813 & 1752 & 7043 & 1 & 1 & 1 & 1 & 0 & 1 & 1 & 1 & ⋯ &  3 & 10 & 10 & 10 &  7 &  5 & 8 &  5 & 14 &  8\\\\\n",
       "\t814 & 1753 & 7044 & 2 & 2 & 2 & 2 & 0 & 1 & 2 & 2 & ⋯ &  9 & 19 & 13 & 11 & 18 & 12 & 7 & 14 & 12 & 13\\\\\n",
       "\t815 & 1755 & 7046 & 2 & 2 & 2 & 0 & 2 & 0 & 2 & 2 & ⋯ & 10 & 24 & 20 & 14 & 20 & 22 & 9 & 24 & 17 & 14\\\\\n",
       "\t816 & 1757 & 7052 & 2 & 1 & 2 & 1 & 0 & 1 & 2 & 2 & ⋯ &  6 & 23 & 15 & 14 & 20 & 15 & 5 & 24 &  9 & 14\\\\\n",
       "\t817 & 1758 & 7052 & 2 & 1 & 2 & 1 & 0 & 1 & 2 & 2 & ⋯ &  6 & 23 & 15 & 14 & 20 & 15 & 5 & 24 &  9 & 14\\\\\n",
       "\t820 & 1764 & 7065 & 1 & 2 & 2 & 1 & 0 & 0 & 1 & 2 & ⋯ &  6 & 20 & 17 & 11 & 14 &  5 & 6 & 19 & 16 & 11\\\\\n",
       "\t821 & 1768 & 7072 & 2 & 2 & 2 & 2 & 0 & 2 & 2 & 2 & ⋯ & 10 & 22 &  8 & 14 & 15 & 13 & 5 & 19 & 14 & 13\\\\\n",
       "\t822 & 1770 & 7075 & 1 & 1 & 2 & 1 & 1 & 1 & 1 & 1 & ⋯ &  5 & 19 & 12 & 14 & 16 & 12 & 5 & 15 &  9 &  8\\\\\n",
       "\t832 & 1790 & 7130 & 1 & 1 & 1 & 1 & 1 & 1 & 1 & 1 & ⋯ &  3 & 14 & 10 &  7 & 10 &  6 & 5 & 16 &  8 &  7\\\\\n",
       "\t833 & 1791 & 7131 & 2 & 1 & 1 & 2 & 0 & 1 & 1 & 1 & ⋯ &  8 & 20 & 15 & 10 & 11 & 14 & 7 & 18 &  7 & 11\\\\\n",
       "\t834 & 1793 & 7136 & 2 & 2 & 2 & 1 & 1 & 0 & 2 & 2 & ⋯ &  9 & 21 & 19 & 14 & 11 &  4 & 3 &  8 &  7 &  5\\\\\n",
       "\t839 & 1804 & 7171 & 2 & 1 & 2 & 1 & 1 & 2 & 2 & 2 & ⋯ &  6 & 21 & 14 & 13 & 13 &  8 & 3 &  9 &  7 &  4\\\\\n",
       "\t840 & 1805 & 7173 & 1 & 1 & 2 & 0 & 0 & 0 & 1 & 2 & ⋯ &  9 & 20 & 10 &  9 & 10 & 11 & 7 & 13 & 11 &  7\\\\\n",
       "\t842 & 1807 & 7185 & 2 & 2 & 2 & 2 & 1 & 2 & 2 & 2 & ⋯ &  6 & 15 & 13 & 12 & 12 &  5 & 1 & 16 &  9 & 11\\\\\n",
       "\t843 & 1810 & 7190 & 1 & 1 & 1 & 0 & 1 & 0 & 0 & 1 & ⋯ &  4 & 12 &  9 &  9 &  7 &  2 & 4 & 13 &  7 &  6\\\\\n",
       "\t844 & 1811 & 7190 & 1 & 1 & 1 & 0 & 1 & 0 & 0 & 1 & ⋯ &  4 & 12 &  9 &  9 &  7 &  2 & 4 & 13 &  7 &  6\\\\\n",
       "\\end{tabular}\n"
      ],
      "text/markdown": [
       "\n",
       "A data.frame: 517 × 302\n",
       "\n",
       "| <!--/--> | X &lt;int&gt; | ID1 &lt;dbl&gt; | rdqpre_1_1 &lt;int&gt; | rdqpre_2_1 &lt;int&gt; | rdqpre_3_1 &lt;int&gt; | rdqpre_4_1 &lt;int&gt; | rdqpre_5_1 &lt;int&gt; | rdqpre_6_1 &lt;int&gt; | rdqpre_7_1 &lt;int&gt; | rdqpre_8_1 &lt;int&gt; | ⋯ ⋯ | pre_cope_r_sum &lt;dbl&gt; | pre_pmh_r_sum &lt;dbl&gt; | pre_fun_r_sum &lt;dbl&gt; | pre_well_r_sum &lt;dbl&gt; | post_dsym_sum &lt;dbl&gt; | post_ndsym_sum &lt;dbl&gt; | post_cope_r_sum &lt;dbl&gt; | post_pmh_r_sum &lt;dbl&gt; | post_fun_r_sum &lt;dbl&gt; | post_well_r_sum &lt;dbl&gt; |\n",
       "|---|---|---|---|---|---|---|---|---|---|---|---|---|---|---|---|---|---|---|---|---|---|\n",
       "| 1 |  1 | 1359 | 1 | 2 | 2 | 0 | 2 | 2 | 0 | 1 | ⋯ |  4 | 20 | 17 | 14 | 15 |  8 |  1 |  9 |  9 |  8 |\n",
       "| 3 |  7 | 1400 | 2 | 2 | 2 | 1 | 1 | 2 | 0 | 2 | ⋯ | 10 | 22 | 15 | 14 | 18 | 18 |  7 | 14 | 14 |  8 |\n",
       "| 5 | 14 | 1420 | 2 | 2 | 2 | 1 | 0 | 1 | 2 | 2 | ⋯ |  9 | 22 | 13 | 13 | 20 | 11 |  8 | 17 |  9 | 11 |\n",
       "| 7 | 17 | 1426 | 2 | 2 | 2 | 0 | 1 | 2 | 0 | 2 | ⋯ |  9 | 19 | 20 | 13 | 21 | 22 |  8 | 13 | 15 | 13 |\n",
       "| 8 | 18 | 1429 | 2 | 1 | 2 | 1 | 0 | 1 | 1 | 2 | ⋯ |  7 | 17 |  8 | 10 | 14 | 11 |  7 | 16 |  8 |  9 |\n",
       "| 10 | 22 | 1463 | 2 | 2 | 2 | 2 | 2 | 0 | 2 | 2 | ⋯ |  8 | 24 | 18 |  0 | 15 |  3 |  2 | 14 | 11 | 11 |\n",
       "| 11 | 23 | 1467 | 2 | 2 | 2 | 0 | 0 | 0 | 0 | 2 | ⋯ | 10 | 22 | 11 | 12 | 11 |  2 |  5 | 10 |  8 |  8 |\n",
       "| 12 | 24 | 1486 | 2 | 1 | 1 | 2 | 0 | 1 | 1 | 1 | ⋯ |  5 | 14 | 13 | 12 |  9 |  3 |  3 | 15 |  4 |  9 |\n",
       "| 13 | 27 | 1510 | 2 | 2 | 2 | 0 | 2 | 0 | 2 | 2 | ⋯ |  5 | 18 | 17 |  6 | 16 | 15 |  7 | 17 | 16 | 10 |\n",
       "| 15 | 29 | 1525 | 1 | 0 | 1 | 0 | 0 | 1 | 0 | 1 | ⋯ |  4 |  7 |  3 |  3 |  6 |  3 |  2 |  1 |  0 |  0 |\n",
       "| 16 | 32 | 1543 | 2 | 2 | 2 | 2 | 0 | 2 | 0 | 1 | ⋯ |  7 | 22 | 11 | 14 | 14 | 12 |  5 | 14 | 10 |  7 |\n",
       "| 17 | 34 | 1554 | 2 | 2 | 2 | 2 | 0 | 2 | 0 | 1 | ⋯ |  7 | 13 | 18 | 10 | 12 |  3 |  2 |  7 | 11 |  3 |\n",
       "| 18 | 36 | 1559 | 2 | 2 | 2 | 0 | 0 | 2 | 0 | 2 | ⋯ |  5 | 24 | 12 | 14 | 18 | 15 |  7 | 18 | 13 | 12 |\n",
       "| 19 | 41 | 1581 | 2 | 2 | 2 | 0 | 0 | 2 | 0 | 2 | ⋯ |  7 | 18 | 13 | 13 | 10 |  6 |  5 |  0 |  5 |  5 |\n",
       "| 20 | 46 | 1609 | 2 | 1 | 2 | 2 | 0 | 1 | 0 | 2 | ⋯ |  8 | 17 | 11 |  9 |  9 | 11 |  5 | 12 | 10 |  7 |\n",
       "| 21 | 47 | 1610 | 2 | 2 | 1 | 1 | 0 | 2 | 0 | 1 | ⋯ |  4 |  7 |  8 |  4 | 14 | 18 |  6 | 11 | 11 |  8 |\n",
       "| 22 | 49 | 1620 | 1 | 2 | 2 | 2 | 0 | 2 | 0 | 0 | ⋯ | 10 | 22 | 17 | 13 |  8 |  6 |  5 |  8 |  7 |  7 |\n",
       "| 23 | 53 | 1640 | 2 | 2 | 2 | 2 | 0 | 2 | 0 | 2 | ⋯ |  7 | 21 | 16 | 12 | 10 |  7 |  5 | 10 |  7 |  7 |\n",
       "| 24 | 55 | 1675 | 2 | 2 | 2 | 2 | 0 | 2 | 0 | 2 | ⋯ |  6 | 21 | 17 | 14 | 16 | 12 | 10 | 10 | 10 | 10 |\n",
       "| 25 | 56 | 1675 | 2 | 2 | 2 | 2 | 0 | 2 | 0 | 2 | ⋯ |  6 | 21 | 17 | 14 | 16 | 12 | 10 | 10 | 10 | 10 |\n",
       "| 26 | 59 | 1685 | 2 | 1 | 2 | 1 | 1 | 2 | 2 | 2 | ⋯ | 10 | 17 | 10 |  9 | 13 |  9 |  5 | 13 | 10 |  7 |\n",
       "| 27 | 61 | 1691 | 2 | 1 | 2 | 0 | 2 | 0 | 1 | 1 | ⋯ |  7 | 16 | 14 | 14 |  9 |  7 |  3 |  9 |  6 |  7 |\n",
       "| 28 | 63 | 1696 | 2 | 2 | 2 | 1 | 0 | 2 | 2 | 2 | ⋯ |  8 | 18 | 14 | 13 | 20 | 17 |  8 | 19 | 12 | 13 |\n",
       "| 32 | 71 | 1725 | 2 | 1 | 2 | 1 | 0 | 1 | 0 | 2 | ⋯ | 10 | 22 | 13 | 14 | 24 | 18 |  9 | 22 | 14 | 14 |\n",
       "| 33 | 76 | 1745 | 2 | 1 | 1 | 1 | 2 | 2 | 0 | 2 | ⋯ |  8 | 15 | 10 |  5 | 17 | 15 |  7 | 14 | 13 | 11 |\n",
       "| 36 | 87 | 1785 | 2 | 2 | 2 | 2 | 0 | 2 | 0 | 2 | ⋯ |  9 | 21 | 19 | 14 | 13 | 11 |  5 |  5 | 10 |  5 |\n",
       "| 37 | 88 | 1785 | 2 | 2 | 2 | 2 | 0 | 2 | 0 | 2 | ⋯ |  9 | 21 | 19 | 14 | 13 | 11 |  5 |  5 | 10 |  5 |\n",
       "| 38 | 89 | 1786 | 2 | 1 | 1 | 1 | 1 | 2 | 1 | 1 | ⋯ |  9 | 19 | 16 | 14 | 19 | 18 |  8 | 15 | 13 | 11 |\n",
       "| 40 | 94 | 1803 | 1 | 1 | 1 | 0 | 0 | 1 | 0 | 1 | ⋯ |  8 | 20 | 11 | 11 | 14 | 16 |  7 | 18 | 11 | 11 |\n",
       "| 41 | 97 | 1816 | 2 | 2 | 1 | 0 | 0 | 1 | 1 | 2 | ⋯ |  8 | 20 | 12 | 14 | 17 | 12 |  6 | 17 |  9 | 12 |\n",
       "| ⋮ | ⋮ | ⋮ | ⋮ | ⋮ | ⋮ | ⋮ | ⋮ | ⋮ | ⋮ | ⋮ | ⋱ | ⋮ | ⋮ | ⋮ | ⋮ | ⋮ | ⋮ | ⋮ | ⋮ | ⋮ | ⋮ |\n",
       "| 787 | 1695 | 6852 | 2 | 2 | 2 | 2 | 0 | 2 | 1 | 2 | ⋯ |  6 | 23 | 16 | 14 | 21 | 22 | 7 | 17 | 15 | 11 |\n",
       "| 788 | 1696 | 6852 | 2 | 2 | 2 | 2 | 0 | 2 | 1 | 2 | ⋯ |  6 | 23 | 16 | 14 | 21 | 22 | 7 | 17 | 15 | 11 |\n",
       "| 790 | 1698 | 6856 | 2 | 2 | 2 | 0 | 0 | 1 | 2 | 2 | ⋯ |  7 | 18 | 16 | 12 | 13 |  5 | 3 | 10 |  9 |  7 |\n",
       "| 791 | 1700 | 6860 | 2 | 1 | 2 | 1 | 0 | 2 | 1 | 2 | ⋯ |  9 | 18 |  9 | 11 | 10 |  5 | 4 | 15 |  9 | 11 |\n",
       "| 798 | 1718 | 6901 | 2 | 2 | 2 | 2 | 1 | 1 | 1 | 2 | ⋯ |  8 | 20 | 11 | 11 | 16 | 11 | 5 | 19 |  7 | 11 |\n",
       "| 799 | 1723 | 6926 | 2 | 2 | 2 | 0 | 2 | 2 | 2 | 2 | ⋯ | 10 | 21 | 19 | 14 | 11 |  7 | 5 | 14 |  4 |  7 |\n",
       "| 800 | 1725 | 6933 | 2 | 2 | 2 | 0 | 0 | 0 | 0 | 2 | ⋯ |  7 | 20 | 12 | 13 | 11 |  3 | 1 | 11 | 10 |  9 |\n",
       "| 801 | 1727 | 6942 | 2 | 2 | 2 | 2 | 0 | 1 | 0 | 2 | ⋯ |  6 | 20 | 14 | 10 | 13 |  8 | 6 | 17 | 11 |  8 |\n",
       "| 802 | 1729 | 6947 | 2 | 2 | 2 | 1 | 0 | 2 | 2 | 2 | ⋯ |  7 | 19 | 12 |  9 | 11 |  5 | 4 | 15 | 12 |  9 |\n",
       "| 803 | 1730 | 6952 | 2 | 2 | 2 | 0 | 1 | 0 | 2 | 2 | ⋯ |  7 | 22 | 17 | 11 | 12 |  4 | 5 | 12 | 10 |  7 |\n",
       "| 806 | 1738 | 7004 | 1 | 1 | 1 | 1 | 1 | 1 | 1 | 2 | ⋯ |  7 | 19 |  8 | 11 | 13 |  7 | 5 | 14 |  8 |  7 |\n",
       "| 808 | 1741 | 7011 | 2 | 2 | 2 | 1 | 1 | 2 | 2 | 2 | ⋯ |  6 |  5 | 11 | 14 | 13 |  8 | 5 | 19 |  1 | 14 |\n",
       "| 810 | 1746 | 7018 | 2 | 2 | 2 | 2 | 0 | 1 | 0 | 2 | ⋯ |  6 | 21 | 11 | 10 | 19 | 13 | 6 | 23 | 12 | 12 |\n",
       "| 811 | 1748 | 7022 | 2 | 2 | 2 | 1 | 1 | 0 | 0 | 2 | ⋯ |  8 | 21 | 16 | 14 | 13 | 14 | 5 | 17 | 14 |  9 |\n",
       "| 813 | 1752 | 7043 | 1 | 1 | 1 | 1 | 0 | 1 | 1 | 1 | ⋯ |  3 | 10 | 10 | 10 |  7 |  5 | 8 |  5 | 14 |  8 |\n",
       "| 814 | 1753 | 7044 | 2 | 2 | 2 | 2 | 0 | 1 | 2 | 2 | ⋯ |  9 | 19 | 13 | 11 | 18 | 12 | 7 | 14 | 12 | 13 |\n",
       "| 815 | 1755 | 7046 | 2 | 2 | 2 | 0 | 2 | 0 | 2 | 2 | ⋯ | 10 | 24 | 20 | 14 | 20 | 22 | 9 | 24 | 17 | 14 |\n",
       "| 816 | 1757 | 7052 | 2 | 1 | 2 | 1 | 0 | 1 | 2 | 2 | ⋯ |  6 | 23 | 15 | 14 | 20 | 15 | 5 | 24 |  9 | 14 |\n",
       "| 817 | 1758 | 7052 | 2 | 1 | 2 | 1 | 0 | 1 | 2 | 2 | ⋯ |  6 | 23 | 15 | 14 | 20 | 15 | 5 | 24 |  9 | 14 |\n",
       "| 820 | 1764 | 7065 | 1 | 2 | 2 | 1 | 0 | 0 | 1 | 2 | ⋯ |  6 | 20 | 17 | 11 | 14 |  5 | 6 | 19 | 16 | 11 |\n",
       "| 821 | 1768 | 7072 | 2 | 2 | 2 | 2 | 0 | 2 | 2 | 2 | ⋯ | 10 | 22 |  8 | 14 | 15 | 13 | 5 | 19 | 14 | 13 |\n",
       "| 822 | 1770 | 7075 | 1 | 1 | 2 | 1 | 1 | 1 | 1 | 1 | ⋯ |  5 | 19 | 12 | 14 | 16 | 12 | 5 | 15 |  9 |  8 |\n",
       "| 832 | 1790 | 7130 | 1 | 1 | 1 | 1 | 1 | 1 | 1 | 1 | ⋯ |  3 | 14 | 10 |  7 | 10 |  6 | 5 | 16 |  8 |  7 |\n",
       "| 833 | 1791 | 7131 | 2 | 1 | 1 | 2 | 0 | 1 | 1 | 1 | ⋯ |  8 | 20 | 15 | 10 | 11 | 14 | 7 | 18 |  7 | 11 |\n",
       "| 834 | 1793 | 7136 | 2 | 2 | 2 | 1 | 1 | 0 | 2 | 2 | ⋯ |  9 | 21 | 19 | 14 | 11 |  4 | 3 |  8 |  7 |  5 |\n",
       "| 839 | 1804 | 7171 | 2 | 1 | 2 | 1 | 1 | 2 | 2 | 2 | ⋯ |  6 | 21 | 14 | 13 | 13 |  8 | 3 |  9 |  7 |  4 |\n",
       "| 840 | 1805 | 7173 | 1 | 1 | 2 | 0 | 0 | 0 | 1 | 2 | ⋯ |  9 | 20 | 10 |  9 | 10 | 11 | 7 | 13 | 11 |  7 |\n",
       "| 842 | 1807 | 7185 | 2 | 2 | 2 | 2 | 1 | 2 | 2 | 2 | ⋯ |  6 | 15 | 13 | 12 | 12 |  5 | 1 | 16 |  9 | 11 |\n",
       "| 843 | 1810 | 7190 | 1 | 1 | 1 | 0 | 1 | 0 | 0 | 1 | ⋯ |  4 | 12 |  9 |  9 |  7 |  2 | 4 | 13 |  7 |  6 |\n",
       "| 844 | 1811 | 7190 | 1 | 1 | 1 | 0 | 1 | 0 | 0 | 1 | ⋯ |  4 | 12 |  9 |  9 |  7 |  2 | 4 | 13 |  7 |  6 |\n",
       "\n"
      ],
      "text/plain": [
       "    X    ID1  rdqpre_1_1 rdqpre_2_1 rdqpre_3_1 rdqpre_4_1 rdqpre_5_1 rdqpre_6_1\n",
       "1    1   1359 1          2          2          0          2          2         \n",
       "3    7   1400 2          2          2          1          1          2         \n",
       "5   14   1420 2          2          2          1          0          1         \n",
       "7   17   1426 2          2          2          0          1          2         \n",
       "8   18   1429 2          1          2          1          0          1         \n",
       "10  22   1463 2          2          2          2          2          0         \n",
       "11  23   1467 2          2          2          0          0          0         \n",
       "12  24   1486 2          1          1          2          0          1         \n",
       "13  27   1510 2          2          2          0          2          0         \n",
       "15  29   1525 1          0          1          0          0          1         \n",
       "16  32   1543 2          2          2          2          0          2         \n",
       "17  34   1554 2          2          2          2          0          2         \n",
       "18  36   1559 2          2          2          0          0          2         \n",
       "19  41   1581 2          2          2          0          0          2         \n",
       "20  46   1609 2          1          2          2          0          1         \n",
       "21  47   1610 2          2          1          1          0          2         \n",
       "22  49   1620 1          2          2          2          0          2         \n",
       "23  53   1640 2          2          2          2          0          2         \n",
       "24  55   1675 2          2          2          2          0          2         \n",
       "25  56   1675 2          2          2          2          0          2         \n",
       "26  59   1685 2          1          2          1          1          2         \n",
       "27  61   1691 2          1          2          0          2          0         \n",
       "28  63   1696 2          2          2          1          0          2         \n",
       "32  71   1725 2          1          2          1          0          1         \n",
       "33  76   1745 2          1          1          1          2          2         \n",
       "36  87   1785 2          2          2          2          0          2         \n",
       "37  88   1785 2          2          2          2          0          2         \n",
       "38  89   1786 2          1          1          1          1          2         \n",
       "40  94   1803 1          1          1          0          0          1         \n",
       "41  97   1816 2          2          1          0          0          1         \n",
       "⋮   ⋮    ⋮    ⋮          ⋮          ⋮          ⋮          ⋮          ⋮         \n",
       "787 1695 6852 2          2          2          2          0          2         \n",
       "788 1696 6852 2          2          2          2          0          2         \n",
       "790 1698 6856 2          2          2          0          0          1         \n",
       "791 1700 6860 2          1          2          1          0          2         \n",
       "798 1718 6901 2          2          2          2          1          1         \n",
       "799 1723 6926 2          2          2          0          2          2         \n",
       "800 1725 6933 2          2          2          0          0          0         \n",
       "801 1727 6942 2          2          2          2          0          1         \n",
       "802 1729 6947 2          2          2          1          0          2         \n",
       "803 1730 6952 2          2          2          0          1          0         \n",
       "806 1738 7004 1          1          1          1          1          1         \n",
       "808 1741 7011 2          2          2          1          1          2         \n",
       "810 1746 7018 2          2          2          2          0          1         \n",
       "811 1748 7022 2          2          2          1          1          0         \n",
       "813 1752 7043 1          1          1          1          0          1         \n",
       "814 1753 7044 2          2          2          2          0          1         \n",
       "815 1755 7046 2          2          2          0          2          0         \n",
       "816 1757 7052 2          1          2          1          0          1         \n",
       "817 1758 7052 2          1          2          1          0          1         \n",
       "820 1764 7065 1          2          2          1          0          0         \n",
       "821 1768 7072 2          2          2          2          0          2         \n",
       "822 1770 7075 1          1          2          1          1          1         \n",
       "832 1790 7130 1          1          1          1          1          1         \n",
       "833 1791 7131 2          1          1          2          0          1         \n",
       "834 1793 7136 2          2          2          1          1          0         \n",
       "839 1804 7171 2          1          2          1          1          2         \n",
       "840 1805 7173 1          1          2          0          0          0         \n",
       "842 1807 7185 2          2          2          2          1          2         \n",
       "843 1810 7190 1          1          1          0          1          0         \n",
       "844 1811 7190 1          1          1          0          1          0         \n",
       "    rdqpre_7_1 rdqpre_8_1 ⋯ pre_cope_r_sum pre_pmh_r_sum pre_fun_r_sum\n",
       "1   0          1          ⋯  4             20            17           \n",
       "3   0          2          ⋯ 10             22            15           \n",
       "5   2          2          ⋯  9             22            13           \n",
       "7   0          2          ⋯  9             19            20           \n",
       "8   1          2          ⋯  7             17             8           \n",
       "10  2          2          ⋯  8             24            18           \n",
       "11  0          2          ⋯ 10             22            11           \n",
       "12  1          1          ⋯  5             14            13           \n",
       "13  2          2          ⋯  5             18            17           \n",
       "15  0          1          ⋯  4              7             3           \n",
       "16  0          1          ⋯  7             22            11           \n",
       "17  0          1          ⋯  7             13            18           \n",
       "18  0          2          ⋯  5             24            12           \n",
       "19  0          2          ⋯  7             18            13           \n",
       "20  0          2          ⋯  8             17            11           \n",
       "21  0          1          ⋯  4              7             8           \n",
       "22  0          0          ⋯ 10             22            17           \n",
       "23  0          2          ⋯  7             21            16           \n",
       "24  0          2          ⋯  6             21            17           \n",
       "25  0          2          ⋯  6             21            17           \n",
       "26  2          2          ⋯ 10             17            10           \n",
       "27  1          1          ⋯  7             16            14           \n",
       "28  2          2          ⋯  8             18            14           \n",
       "32  0          2          ⋯ 10             22            13           \n",
       "33  0          2          ⋯  8             15            10           \n",
       "36  0          2          ⋯  9             21            19           \n",
       "37  0          2          ⋯  9             21            19           \n",
       "38  1          1          ⋯  9             19            16           \n",
       "40  0          1          ⋯  8             20            11           \n",
       "41  1          2          ⋯  8             20            12           \n",
       "⋮   ⋮          ⋮          ⋱ ⋮              ⋮             ⋮            \n",
       "787 1          2          ⋯  6             23            16           \n",
       "788 1          2          ⋯  6             23            16           \n",
       "790 2          2          ⋯  7             18            16           \n",
       "791 1          2          ⋯  9             18             9           \n",
       "798 1          2          ⋯  8             20            11           \n",
       "799 2          2          ⋯ 10             21            19           \n",
       "800 0          2          ⋯  7             20            12           \n",
       "801 0          2          ⋯  6             20            14           \n",
       "802 2          2          ⋯  7             19            12           \n",
       "803 2          2          ⋯  7             22            17           \n",
       "806 1          2          ⋯  7             19             8           \n",
       "808 2          2          ⋯  6              5            11           \n",
       "810 0          2          ⋯  6             21            11           \n",
       "811 0          2          ⋯  8             21            16           \n",
       "813 1          1          ⋯  3             10            10           \n",
       "814 2          2          ⋯  9             19            13           \n",
       "815 2          2          ⋯ 10             24            20           \n",
       "816 2          2          ⋯  6             23            15           \n",
       "817 2          2          ⋯  6             23            15           \n",
       "820 1          2          ⋯  6             20            17           \n",
       "821 2          2          ⋯ 10             22             8           \n",
       "822 1          1          ⋯  5             19            12           \n",
       "832 1          1          ⋯  3             14            10           \n",
       "833 1          1          ⋯  8             20            15           \n",
       "834 2          2          ⋯  9             21            19           \n",
       "839 2          2          ⋯  6             21            14           \n",
       "840 1          2          ⋯  9             20            10           \n",
       "842 2          2          ⋯  6             15            13           \n",
       "843 0          1          ⋯  4             12             9           \n",
       "844 0          1          ⋯  4             12             9           \n",
       "    pre_well_r_sum post_dsym_sum post_ndsym_sum post_cope_r_sum post_pmh_r_sum\n",
       "1   14             15             8              1               9            \n",
       "3   14             18            18              7              14            \n",
       "5   13             20            11              8              17            \n",
       "7   13             21            22              8              13            \n",
       "8   10             14            11              7              16            \n",
       "10   0             15             3              2              14            \n",
       "11  12             11             2              5              10            \n",
       "12  12              9             3              3              15            \n",
       "13   6             16            15              7              17            \n",
       "15   3              6             3              2               1            \n",
       "16  14             14            12              5              14            \n",
       "17  10             12             3              2               7            \n",
       "18  14             18            15              7              18            \n",
       "19  13             10             6              5               0            \n",
       "20   9              9            11              5              12            \n",
       "21   4             14            18              6              11            \n",
       "22  13              8             6              5               8            \n",
       "23  12             10             7              5              10            \n",
       "24  14             16            12             10              10            \n",
       "25  14             16            12             10              10            \n",
       "26   9             13             9              5              13            \n",
       "27  14              9             7              3               9            \n",
       "28  13             20            17              8              19            \n",
       "32  14             24            18              9              22            \n",
       "33   5             17            15              7              14            \n",
       "36  14             13            11              5               5            \n",
       "37  14             13            11              5               5            \n",
       "38  14             19            18              8              15            \n",
       "40  11             14            16              7              18            \n",
       "41  14             17            12              6              17            \n",
       "⋮   ⋮              ⋮             ⋮              ⋮               ⋮             \n",
       "787 14             21            22             7               17            \n",
       "788 14             21            22             7               17            \n",
       "790 12             13             5             3               10            \n",
       "791 11             10             5             4               15            \n",
       "798 11             16            11             5               19            \n",
       "799 14             11             7             5               14            \n",
       "800 13             11             3             1               11            \n",
       "801 10             13             8             6               17            \n",
       "802  9             11             5             4               15            \n",
       "803 11             12             4             5               12            \n",
       "806 11             13             7             5               14            \n",
       "808 14             13             8             5               19            \n",
       "810 10             19            13             6               23            \n",
       "811 14             13            14             5               17            \n",
       "813 10              7             5             8                5            \n",
       "814 11             18            12             7               14            \n",
       "815 14             20            22             9               24            \n",
       "816 14             20            15             5               24            \n",
       "817 14             20            15             5               24            \n",
       "820 11             14             5             6               19            \n",
       "821 14             15            13             5               19            \n",
       "822 14             16            12             5               15            \n",
       "832  7             10             6             5               16            \n",
       "833 10             11            14             7               18            \n",
       "834 14             11             4             3                8            \n",
       "839 13             13             8             3                9            \n",
       "840  9             10            11             7               13            \n",
       "842 12             12             5             1               16            \n",
       "843  9              7             2             4               13            \n",
       "844  9              7             2             4               13            \n",
       "    post_fun_r_sum post_well_r_sum\n",
       "1    9              8             \n",
       "3   14              8             \n",
       "5    9             11             \n",
       "7   15             13             \n",
       "8    8              9             \n",
       "10  11             11             \n",
       "11   8              8             \n",
       "12   4              9             \n",
       "13  16             10             \n",
       "15   0              0             \n",
       "16  10              7             \n",
       "17  11              3             \n",
       "18  13             12             \n",
       "19   5              5             \n",
       "20  10              7             \n",
       "21  11              8             \n",
       "22   7              7             \n",
       "23   7              7             \n",
       "24  10             10             \n",
       "25  10             10             \n",
       "26  10              7             \n",
       "27   6              7             \n",
       "28  12             13             \n",
       "32  14             14             \n",
       "33  13             11             \n",
       "36  10              5             \n",
       "37  10              5             \n",
       "38  13             11             \n",
       "40  11             11             \n",
       "41   9             12             \n",
       "⋮   ⋮              ⋮              \n",
       "787 15             11             \n",
       "788 15             11             \n",
       "790  9              7             \n",
       "791  9             11             \n",
       "798  7             11             \n",
       "799  4              7             \n",
       "800 10              9             \n",
       "801 11              8             \n",
       "802 12              9             \n",
       "803 10              7             \n",
       "806  8              7             \n",
       "808  1             14             \n",
       "810 12             12             \n",
       "811 14              9             \n",
       "813 14              8             \n",
       "814 12             13             \n",
       "815 17             14             \n",
       "816  9             14             \n",
       "817  9             14             \n",
       "820 16             11             \n",
       "821 14             13             \n",
       "822  9              8             \n",
       "832  8              7             \n",
       "833  7             11             \n",
       "834  7              5             \n",
       "839  7              4             \n",
       "840 11              7             \n",
       "842  9             11             \n",
       "843  7              6             \n",
       "844  7              6             "
      ]
     },
     "metadata": {},
     "output_type": "display_data"
    }
   ],
   "source": [
    "dfMDD = dfMDD[dfMDD$pre_dsym_sum-dfMDD$post_dsym_sum <= dfMDD$pre_dsym_sum*0.5,]\n",
    "dfMDD"
   ]
  },
  {
   "cell_type": "code",
   "execution_count": 21,
   "id": "abroad-anchor",
   "metadata": {},
   "outputs": [
    {
     "data": {
      "text/plain": [
       "             \n",
       "               no yes   2\n",
       "  Curr         62  39   7\n",
       "  Curr, Prin    0   0   0\n",
       "  Not present 235 163   9"
      ]
     },
     "metadata": {},
     "output_type": "display_data"
    }
   ],
   "source": [
    "dfMDD_log = merge(dfMDD, log, all.X = T, by = 'ID1')\n",
    "table(dfMDD_log$bord_1, dfMDD_log$SCID_1)"
   ]
  },
  {
   "cell_type": "code",
   "execution_count": 22,
   "id": "failing-working",
   "metadata": {},
   "outputs": [
    {
     "data": {
      "text/html": [
       "108"
      ],
      "text/latex": [
       "108"
      ],
      "text/markdown": [
       "108"
      ],
      "text/plain": [
       "[1] 108"
      ]
     },
     "metadata": {},
     "output_type": "display_data"
    }
   ],
   "source": [
    "62+39+7"
   ]
  },
  {
   "cell_type": "code",
   "execution_count": 1,
   "id": "daily-pound",
   "metadata": {},
   "outputs": [
    {
     "ename": "ERROR",
     "evalue": "Error in str(dfMDD): object 'dfMDD' not found\n",
     "output_type": "error",
     "traceback": [
      "Error in str(dfMDD): object 'dfMDD' not found\nTraceback:\n",
      "1. str(dfMDD)"
     ]
    }
   ],
   "source": [
    "str(dfMDD)"
   ]
  },
  {
   "cell_type": "code",
   "execution_count": 123,
   "id": "loving-estonia",
   "metadata": {
    "scrolled": true
   },
   "outputs": [
    {
     "data": {
      "text/html": [
       "<table class=\"dataframe\">\n",
       "<caption>A data.frame: 6 × 4</caption>\n",
       "<thead>\n",
       "\t<tr><th></th><th scope=col>Admission M(SD)</th><th scope=col>Discharge M(SD)</th><th scope=col>Cohen's d</th><th scope=col>Responders %(n)</th></tr>\n",
       "\t<tr><th></th><th scope=col>&lt;fct&gt;</th><th scope=col>&lt;fct&gt;</th><th scope=col>&lt;fct&gt;</th><th scope=col>&lt;fct&gt;</th></tr>\n",
       "</thead>\n",
       "<tbody>\n",
       "\t<tr><th scope=row>dsym</th><td>19.21 (4.36)</td><td>14.7 (4.76) </td><td>0.99</td><td>7.35% (38)  </td></tr>\n",
       "\t<tr><th scope=row>ndsym</th><td>14.39 (4.9) </td><td>10.92 (5.29)</td><td>0.68</td><td>21.47% (111)</td></tr>\n",
       "\t<tr><th scope=row>cope_r</th><td>7.37 (2.07) </td><td>5.73 (2.25) </td><td>0.76</td><td>19.92% (103)</td></tr>\n",
       "\t<tr><th scope=row>pmh_r</th><td>19.23 (4.1) </td><td>14.81 (5.28)</td><td>0.94</td><td>14.31% (74) </td></tr>\n",
       "\t<tr><th scope=row>fun_r</th><td>13.24 (3.77)</td><td>10.32 (4.28)</td><td>0.72</td><td>18.38% (95) </td></tr>\n",
       "\t<tr><th scope=row>well_r</th><td>11.68 (2.61)</td><td>9.14 (3.36) </td><td>0.84</td><td>16.83% (87) </td></tr>\n",
       "</tbody>\n",
       "</table>\n"
      ],
      "text/latex": [
       "A data.frame: 6 × 4\n",
       "\\begin{tabular}{r|llll}\n",
       "  & Admission M(SD) & Discharge M(SD) & Cohen's d & Responders \\%(n)\\\\\n",
       "  & <fct> & <fct> & <fct> & <fct>\\\\\n",
       "\\hline\n",
       "\tdsym & 19.21 (4.36) & 14.7 (4.76)  & 0.99 & 7.35\\% (38)  \\\\\n",
       "\tndsym & 14.39 (4.9)  & 10.92 (5.29) & 0.68 & 21.47\\% (111)\\\\\n",
       "\tcope\\_r & 7.37 (2.07)  & 5.73 (2.25)  & 0.76 & 19.92\\% (103)\\\\\n",
       "\tpmh\\_r & 19.23 (4.1)  & 14.81 (5.28) & 0.94 & 14.31\\% (74) \\\\\n",
       "\tfun\\_r & 13.24 (3.77) & 10.32 (4.28) & 0.72 & 18.38\\% (95) \\\\\n",
       "\twell\\_r & 11.68 (2.61) & 9.14 (3.36)  & 0.84 & 16.83\\% (87) \\\\\n",
       "\\end{tabular}\n"
      ],
      "text/markdown": [
       "\n",
       "A data.frame: 6 × 4\n",
       "\n",
       "| <!--/--> | Admission M(SD) &lt;fct&gt; | Discharge M(SD) &lt;fct&gt; | Cohen's d &lt;fct&gt; | Responders %(n) &lt;fct&gt; |\n",
       "|---|---|---|---|---|\n",
       "| dsym | 19.21 (4.36) | 14.7 (4.76)  | 0.99 | 7.35% (38)   |\n",
       "| ndsym | 14.39 (4.9)  | 10.92 (5.29) | 0.68 | 21.47% (111) |\n",
       "| cope_r | 7.37 (2.07)  | 5.73 (2.25)  | 0.76 | 19.92% (103) |\n",
       "| pmh_r | 19.23 (4.1)  | 14.81 (5.28) | 0.94 | 14.31% (74)  |\n",
       "| fun_r | 13.24 (3.77) | 10.32 (4.28) | 0.72 | 18.38% (95)  |\n",
       "| well_r | 11.68 (2.61) | 9.14 (3.36)  | 0.84 | 16.83% (87)  |\n",
       "\n"
      ],
      "text/plain": [
       "       Admission M(SD) Discharge M(SD) Cohen's d Responders %(n)\n",
       "dsym   19.21 (4.36)    14.7 (4.76)     0.99      7.35% (38)     \n",
       "ndsym  14.39 (4.9)     10.92 (5.29)    0.68      21.47% (111)   \n",
       "cope_r 7.37 (2.07)     5.73 (2.25)     0.76      19.92% (103)   \n",
       "pmh_r  19.23 (4.1)     14.81 (5.28)    0.94      14.31% (74)    \n",
       "fun_r  13.24 (3.77)    10.32 (4.28)    0.72      18.38% (95)    \n",
       "well_r 11.68 (2.61)    9.14 (3.36)     0.84      16.83% (87)    "
      ]
     },
     "metadata": {},
     "output_type": "display_data"
    }
   ],
   "source": [
    "facets = c('dsym', 'ndsym', 'cope_r', 'pmh_r', 'fun_r', 'well_r')\n",
    "prePostMean = matrix(0, nrow = 6, ncol = 4)\n",
    "\n",
    "for (i in 1:length(facets)){\n",
    "    facet = facets[i]\n",
    "    preScore = dfMDD[,grep(paste0('pre_', facet,'_sum'), colnames(dfMDD))]\n",
    "    postScore = dfMDD[,grep(paste0('post_', facet,'_sum'), colnames(dfMDD))]\n",
    "    prePostMean[i, 1] = paste0(round(mean(preScore),2),' (', round(sd(preScore),2),')')\n",
    "    prePostMean[i, 2] = paste0(round(mean(postScore),2),' (', round(sd(postScore),2),')')\n",
    "    prePostMean[i, 3] = round(cohen.d(preScore, postScore)$estimate, 2)\n",
    "    prePostMean[i, 4] = paste0(\n",
    "        round(sum(ifelse((preScore-postScore) >= 0.5*preScore, 1, 0))/nrow(dfMDD )*100, 2),'% (', \n",
    "        sum(ifelse((preScore-postScore) >= 0.5*preScore, 1, 0)),')')   \n",
    "}\n",
    "\n",
    "prePostMean = as.data.frame(prePostMean)\n",
    "colnames(prePostMean) = c('Admission M(SD)', 'Discharge M(SD)', \"Cohen's d\", 'Responders %(n)')\n",
    "rownames(prePostMean) = facets\n",
    "write.csv(prePostMean, '../Results/prePostRDQMeanSD_Cohen_50Responder.csv')\n",
    "\n",
    "prePostMean"
   ]
  },
  {
   "cell_type": "code",
   "execution_count": 124,
   "id": "physical-avenue",
   "metadata": {},
   "outputs": [
    {
     "data": {
      "text/html": [
       "<table class=\"dataframe\">\n",
       "<caption>A data.frame: 5 × 3</caption>\n",
       "<thead>\n",
       "\t<tr><th scope=col>Var1</th><th scope=col>Freq</th><th scope=col>percent</th></tr>\n",
       "\t<tr><th scope=col>&lt;fct&gt;</th><th scope=col>&lt;int&gt;</th><th scope=col>&lt;chr&gt;</th></tr>\n",
       "</thead>\n",
       "<tbody>\n",
       "\t<tr><td>0</td><td>366</td><td>70.79%</td></tr>\n",
       "\t<tr><td>1</td><td> 75</td><td>14.51%</td></tr>\n",
       "\t<tr><td>2</td><td> 39</td><td>7.54% </td></tr>\n",
       "\t<tr><td>3</td><td> 26</td><td>5.03% </td></tr>\n",
       "\t<tr><td>4</td><td> 11</td><td>2.13% </td></tr>\n",
       "</tbody>\n",
       "</table>\n"
      ],
      "text/latex": [
       "A data.frame: 5 × 3\n",
       "\\begin{tabular}{lll}\n",
       " Var1 & Freq & percent\\\\\n",
       " <fct> & <int> & <chr>\\\\\n",
       "\\hline\n",
       "\t 0 & 366 & 70.79\\%\\\\\n",
       "\t 1 &  75 & 14.51\\%\\\\\n",
       "\t 2 &  39 & 7.54\\% \\\\\n",
       "\t 3 &  26 & 5.03\\% \\\\\n",
       "\t 4 &  11 & 2.13\\% \\\\\n",
       "\\end{tabular}\n"
      ],
      "text/markdown": [
       "\n",
       "A data.frame: 5 × 3\n",
       "\n",
       "| Var1 &lt;fct&gt; | Freq &lt;int&gt; | percent &lt;chr&gt; |\n",
       "|---|---|---|\n",
       "| 0 | 366 | 70.79% |\n",
       "| 1 |  75 | 14.51% |\n",
       "| 2 |  39 | 7.54%  |\n",
       "| 3 |  26 | 5.03%  |\n",
       "| 4 |  11 | 2.13%  |\n",
       "\n"
      ],
      "text/plain": [
       "  Var1 Freq percent\n",
       "1 0    366  70.79% \n",
       "2 1     75  14.51% \n",
       "3 2     39  7.54%  \n",
       "4 3     26  5.03%  \n",
       "5 4     11  2.13%  "
      ]
     },
     "metadata": {},
     "output_type": "display_data"
    }
   ],
   "source": [
    "nRDQResponder = matrix(0, ncol = 6, nrow = nrow(dfMDD))\n",
    "for (i in 3:length(facets)){\n",
    "    facet = facets[i]\n",
    "    preScore = dfMDD[,grep(paste0('pre_', facet,'$'), colnames(dfMDD))]\n",
    "    postScore = dfMDD[,grep(paste0('post_', facet,'$'), colnames(dfMDD))]\n",
    "    \n",
    "    nRDQResponder[,i] = ifelse((preScore-postScore) > 0.5*preScore, 1, 0)\n",
    "    \n",
    "}\n",
    "\n",
    "nRDQResponderTable = as.data.frame(table(rowSums(nRDQResponder)))\n",
    "nRDQResponderTable$percent = paste0(round(nRDQResponderTable$Freq/nrow(dfMDD)*100,2),'%')\n",
    "#write.csv(nRDQResponderTable, '../Results/nRDQResponderTable.csv', row.names = F)\n",
    "nRDQResponderTable"
   ]
  },
  {
   "cell_type": "code",
   "execution_count": 118,
   "id": "chubby-tyler",
   "metadata": {},
   "outputs": [
    {
     "data": {
      "image/png": "[encoded data removed]",
      "text/plain": [
       "plot without title"
      ]
     },
     "metadata": {
      "image/png": {
       "height": 420,
       "width": 420
      }
     },
     "output_type": "display_data"
    }
   ],
   "source": [
    "ggplot(nRDQResponderTable, aes(x=as.numeric(Var1), y = Freq)) +\n",
    "    geom_bar(stat = 'identity', fill = 'light grey') + \n",
    "    geom_text(aes(label=paste0('n = ',Freq)), position='identity', size=5, vjust = -0.5) +\n",
    "    geom_text(aes(label=percent), position='identity', size=5, vjust=1) +\n",
    "    scale_x_continuous(breaks = seq(0, 6, by = 1)) +\n",
    "    theme_classic() +\n",
    "    xlab(\"Number of RDQ Subscales\\non which the Patient Responded\") + \n",
    "    ylab(\"Number of Patients\") +\n",
    "    theme(\n",
    "      axis.title.x = element_text(size = 14),\n",
    "      axis.title.y = element_text(size = 14),\n",
    "      axis.text.x = element_text(size = 12),\n",
    "      axis.text.y = element_text(size = 12)) \n",
    "#+ ggsave('../Results/RDQResponderImprv.pdf',width = 8, height = 8)\n"
   ]
  },
  {
   "cell_type": "code",
   "execution_count": 56,
   "id": "polar-conjunction",
   "metadata": {},
   "outputs": [
    {
     "data": {
      "text/html": [
       "0.719535783365571"
      ],
      "text/latex": [
       "0.719535783365571"
      ],
      "text/markdown": [
       "0.719535783365571"
      ],
      "text/plain": [
       "[1] 0.7195358"
      ]
     },
     "metadata": {},
     "output_type": "display_data"
    },
    {
     "data": {
      "text/html": [
       "1.1397782054982"
      ],
      "text/latex": [
       "1.1397782054982"
      ],
      "text/markdown": [
       "1.1397782054982"
      ],
      "text/plain": [
       "[1] 1.139778"
      ]
     },
     "metadata": {},
     "output_type": "display_data"
    }
   ],
   "source": [
    "mean(rowSums(nRDQResponder))\n",
    "sd(rowSums(nRDQResponder))"
   ]
  },
  {
   "cell_type": "code",
   "execution_count": 125,
   "id": "pretty-montana",
   "metadata": {},
   "outputs": [
    {
     "data": {
      "text/html": [
       "<table class=\"dataframe\">\n",
       "<caption>A matrix: 7 × 6 of type chr</caption>\n",
       "<thead>\n",
       "\t<tr><th scope=col>dsym</th><th scope=col>ndsym</th><th scope=col>cope_r</th><th scope=col>pmh_r</th><th scope=col>fun_r</th><th scope=col>well_r</th></tr>\n",
       "</thead>\n",
       "<tbody>\n",
       "\t<tr><td>NA  </td><td>0%    </td><td>0%    </td><td>0%    </td><td>0%    </td><td>0%    </td></tr>\n",
       "\t<tr><td>NaN%</td><td>NA    </td><td>42.86%</td><td>26.87%</td><td>40.74%</td><td>33.33%</td></tr>\n",
       "\t<tr><td>NaN%</td><td>30.93%</td><td>NA    </td><td>35.82%</td><td>40.74%</td><td>45.61%</td></tr>\n",
       "\t<tr><td>NaN%</td><td>18.56%</td><td>34.29%</td><td>NA    </td><td>37.04%</td><td>61.4% </td></tr>\n",
       "\t<tr><td>NaN%</td><td>34.02%</td><td>47.14%</td><td>44.78%</td><td>NA    </td><td>61.4% </td></tr>\n",
       "\t<tr><td>NaN%</td><td>19.59%</td><td>37.14%</td><td>52.24%</td><td>43.21%</td><td>NA    </td></tr>\n",
       "\t<tr><td>NaN%</td><td>20.62%</td><td>32.29%</td><td>31.94%</td><td>32.35%</td><td>40.35%</td></tr>\n",
       "</tbody>\n",
       "</table>\n"
      ],
      "text/latex": [
       "A matrix: 7 × 6 of type chr\n",
       "\\begin{tabular}{llllll}\n",
       " dsym & ndsym & cope\\_r & pmh\\_r & fun\\_r & well\\_r\\\\\n",
       "\\hline\n",
       "\t NA   & 0\\%     & 0\\%     & 0\\%     & 0\\%     & 0\\%    \\\\\n",
       "\t NaN\\% & NA     & 42.86\\% & 26.87\\% & 40.74\\% & 33.33\\%\\\\\n",
       "\t NaN\\% & 30.93\\% & NA     & 35.82\\% & 40.74\\% & 45.61\\%\\\\\n",
       "\t NaN\\% & 18.56\\% & 34.29\\% & NA     & 37.04\\% & 61.4\\% \\\\\n",
       "\t NaN\\% & 34.02\\% & 47.14\\% & 44.78\\% & NA     & 61.4\\% \\\\\n",
       "\t NaN\\% & 19.59\\% & 37.14\\% & 52.24\\% & 43.21\\% & NA    \\\\\n",
       "\t NaN\\% & 20.62\\% & 32.29\\% & 31.94\\% & 32.35\\% & 40.35\\%\\\\\n",
       "\\end{tabular}\n"
      ],
      "text/markdown": [
       "\n",
       "A matrix: 7 × 6 of type chr\n",
       "\n",
       "| dsym | ndsym | cope_r | pmh_r | fun_r | well_r |\n",
       "|---|---|---|---|---|---|\n",
       "| NA   | 0%     | 0%     | 0%     | 0%     | 0%     |\n",
       "| NaN% | NA     | 42.86% | 26.87% | 40.74% | 33.33% |\n",
       "| NaN% | 30.93% | NA     | 35.82% | 40.74% | 45.61% |\n",
       "| NaN% | 18.56% | 34.29% | NA     | 37.04% | 61.4%  |\n",
       "| NaN% | 34.02% | 47.14% | 44.78% | NA     | 61.4%  |\n",
       "| NaN% | 19.59% | 37.14% | 52.24% | 43.21% | NA     |\n",
       "| NaN% | 20.62% | 32.29% | 31.94% | 32.35% | 40.35% |\n",
       "\n"
      ],
      "text/plain": [
       "     dsym ndsym  cope_r pmh_r  fun_r  well_r\n",
       "[1,] NA   0%     0%     0%     0%     0%    \n",
       "[2,] NaN% NA     42.86% 26.87% 40.74% 33.33%\n",
       "[3,] NaN% 30.93% NA     35.82% 40.74% 45.61%\n",
       "[4,] NaN% 18.56% 34.29% NA     37.04% 61.4% \n",
       "[5,] NaN% 34.02% 47.14% 44.78% NA     61.4% \n",
       "[6,] NaN% 19.59% 37.14% 52.24% 43.21% NA    \n",
       "[7,] NaN% 20.62% 32.29% 31.94% 32.35% 40.35%"
      ]
     },
     "metadata": {},
     "output_type": "display_data"
    }
   ],
   "source": [
    "nRDQResponderPairwisePercent = matrix(0, ncol = 6, nrow = 7)\n",
    "\n",
    "for (i in 1:length(facets)){\n",
    "    for (j in 1:length(facets)){\n",
    "        facet1 = facets[i]\n",
    "        facet2 = facets[j]\n",
    "        \n",
    "        preScore1 = dfMDD[,grep(paste0('pre_', facet1,'$'), colnames(dfMDD))]\n",
    "        postScore1 = dfMDD[,grep(paste0('post_', facet1,'$'), colnames(dfMDD))]\n",
    "        preScore2 = dfMDD[,grep(paste0('pre_', facet2,'$'), colnames(dfMDD))]\n",
    "        postScore2 = dfMDD[,grep(paste0('post_', facet2,'$'), colnames(dfMDD))]\n",
    "    \n",
    "        facet2Res = which((preScore2-postScore2) > 0.5*preScore2)\n",
    "        facet1ResIn2 = sum(preScore1[facet2Res] - postScore1[facet2Res] > 0.5*preScore1[facet2Res]\n",
    "                          )/length(facet2Res)*100\n",
    "        \n",
    "        nRDQResponderPairwisePercent[i,j] =  facet1ResIn2\n",
    "    }\n",
    "}\n",
    "diag(nRDQResponderPairwisePercent) = NA\n",
    "nRDQResponderPairwisePercent[7,] = colMeans(nRDQResponderPairwisePercent[1:6,], na.rm = T)\n",
    "nRDQResponderPairwisePercent = as.data.frame(nRDQResponderPairwisePercent)\n",
    "colnames(nRDQResponderPairwisePercent) = rownames(nRDQResponderPairwisePercent)[1:6] = facets\n",
    "rownames(nRDQResponderPairwisePercent)[7] = 'average'\n",
    "nRDQResponderPairwisePercent = apply(nRDQResponderPairwisePercent, 2, function(x) paste0(round(x,2),'%'))\n",
    "diag(nRDQResponderPairwisePercent) = NA\n",
    "\n",
    "#write.csv(nRDQResponderPairwisePercent, '../Results/nRDQResponderPairwisePercent.csv')\n",
    "\n",
    "nRDQResponderPairwisePercent"
   ]
  },
  {
   "cell_type": "code",
   "execution_count": 126,
   "id": "interstate-rochester",
   "metadata": {},
   "outputs": [
    {
     "data": {
      "text/html": [
       "2.42166344294004"
      ],
      "text/latex": [
       "2.42166344294004"
      ],
      "text/markdown": [
       "2.42166344294004"
      ],
      "text/plain": [
       "[1] 2.421663"
      ]
     },
     "metadata": {},
     "output_type": "display_data"
    },
    {
     "data": {
      "text/html": [
       "1.03624000676779"
      ],
      "text/latex": [
       "1.03624000676779"
      ],
      "text/markdown": [
       "1.03624000676779"
      ],
      "text/plain": [
       "[1] 1.03624"
      ]
     },
     "metadata": {},
     "output_type": "display_data"
    },
    {
     "data": {
      "text/plain": [
       "\n",
       "  0   1   2   3   4 \n",
       " 28  63 156 203  67 "
      ]
     },
     "metadata": {},
     "output_type": "display_data"
    },
    {
     "data": {
      "text/plain": [
       "\n",
       "   0    1    2    3    4 \n",
       " 3.3  7.5 18.5 24.1  7.9 "
      ]
     },
     "metadata": {},
     "output_type": "display_data"
    },
    {
     "data": {
      "text/html": [
       "569"
      ],
      "text/latex": [
       "569"
      ],
      "text/markdown": [
       "569"
      ],
      "text/plain": [
       "[1] 569"
      ]
     },
     "metadata": {},
     "output_type": "display_data"
    },
    {
     "data": {
      "text/html": [
       "67.4170616113744"
      ],
      "text/latex": [
       "67.4170616113744"
      ],
      "text/markdown": [
       "67.4170616113744"
      ],
      "text/plain": [
       "[1] 67.41706"
      ]
     },
     "metadata": {},
     "output_type": "display_data"
    }
   ],
   "source": [
    "mean(dfMDD$imprv1)\n",
    "sd(dfMDD$imprv1)\n",
    "table(dfMDD$imprv1)\n",
    "round(table(dfMDD$imprv1)/844*100,1)\n",
    "352 +217\n",
    "(352 +217)/844*100"
   ]
  },
  {
   "cell_type": "code",
   "execution_count": 127,
   "id": "furnished-herald",
   "metadata": {
    "scrolled": true
   },
   "outputs": [
    {
     "name": "stderr",
     "output_type": "stream",
     "text": [
      "`summarise()` ungrouping output (override with `.groups` argument)\n",
      "\n"
     ]
    },
    {
     "data": {
      "text/html": [
       "<table class=\"dataframe\">\n",
       "<caption>A tibble: 5 × 3</caption>\n",
       "<thead>\n",
       "\t<tr><th scope=col>nRDQRespond</th><th scope=col>n</th><th scope=col>M(SD)</th></tr>\n",
       "\t<tr><th scope=col>&lt;dbl&gt;</th><th scope=col>&lt;int&gt;</th><th scope=col>&lt;chr&gt;</th></tr>\n",
       "</thead>\n",
       "<tbody>\n",
       "\t<tr><td>0</td><td>366</td><td>2.17 (1.02)</td></tr>\n",
       "\t<tr><td>1</td><td> 75</td><td>2.81 (0.67)</td></tr>\n",
       "\t<tr><td>2</td><td> 39</td><td>3.23 (0.81)</td></tr>\n",
       "\t<tr><td>3</td><td> 26</td><td>3.15 (1.08)</td></tr>\n",
       "\t<tr><td>4</td><td> 11</td><td>3.45 (0.52)</td></tr>\n",
       "</tbody>\n",
       "</table>\n"
      ],
      "text/latex": [
       "A tibble: 5 × 3\n",
       "\\begin{tabular}{lll}\n",
       " nRDQRespond & n & M(SD)\\\\\n",
       " <dbl> & <int> & <chr>\\\\\n",
       "\\hline\n",
       "\t 0 & 366 & 2.17 (1.02)\\\\\n",
       "\t 1 &  75 & 2.81 (0.67)\\\\\n",
       "\t 2 &  39 & 3.23 (0.81)\\\\\n",
       "\t 3 &  26 & 3.15 (1.08)\\\\\n",
       "\t 4 &  11 & 3.45 (0.52)\\\\\n",
       "\\end{tabular}\n"
      ],
      "text/markdown": [
       "\n",
       "A tibble: 5 × 3\n",
       "\n",
       "| nRDQRespond &lt;dbl&gt; | n &lt;int&gt; | M(SD) &lt;chr&gt; |\n",
       "|---|---|---|\n",
       "| 0 | 366 | 2.17 (1.02) |\n",
       "| 1 |  75 | 2.81 (0.67) |\n",
       "| 2 |  39 | 3.23 (0.81) |\n",
       "| 3 |  26 | 3.15 (1.08) |\n",
       "| 4 |  11 | 3.45 (0.52) |\n",
       "\n"
      ],
      "text/plain": [
       "  nRDQRespond n   M(SD)      \n",
       "1 0           366 2.17 (1.02)\n",
       "2 1            75 2.81 (0.67)\n",
       "3 2            39 3.23 (0.81)\n",
       "4 3            26 3.15 (1.08)\n",
       "5 4            11 3.45 (0.52)"
      ]
     },
     "metadata": {},
     "output_type": "display_data"
    }
   ],
   "source": [
    "imprvByNRDQ = \n",
    "    data.frame(nRDQRespond = rowSums(nRDQResponder[,3:6]), imprv = dfMDD$imprv1) %>%\n",
    "        group_by(nRDQRespond) %>%\n",
    "        summarize(n = n(), `M(SD)` = paste0(round(mean(imprv),2),' (', round(sd(imprv),2),')'))\n",
    "\n",
    "imprvByNRDQ"
   ]
  },
  {
   "cell_type": "code",
   "execution_count": 128,
   "id": "durable-realtor",
   "metadata": {},
   "outputs": [
    {
     "data": {
      "text/html": [
       "<table class=\"dataframe\">\n",
       "<caption>A tibble: 5 × 5</caption>\n",
       "<thead>\n",
       "\t<tr><th scope=col>nRDQRespond</th><th scope=col>n</th><th scope=col>M(SD)</th><th scope=col>t_val</th><th scope=col>p_val</th></tr>\n",
       "\t<tr><th scope=col>&lt;dbl&gt;</th><th scope=col>&lt;int&gt;</th><th scope=col>&lt;chr&gt;</th><th scope=col>&lt;dbl&gt;</th><th scope=col>&lt;dbl&gt;</th></tr>\n",
       "</thead>\n",
       "<tbody>\n",
       "\t<tr><td>0</td><td>366</td><td>2.17 (1.02)</td><td>-6.82</td><td>0.000</td></tr>\n",
       "\t<tr><td>1</td><td> 75</td><td>2.81 (0.67)</td><td>-2.76</td><td>0.007</td></tr>\n",
       "\t<tr><td>2</td><td> 39</td><td>3.23 (0.81)</td><td> 0.31</td><td>0.759</td></tr>\n",
       "\t<tr><td>3</td><td> 26</td><td>3.15 (1.08)</td><td>-1.14</td><td>0.264</td></tr>\n",
       "\t<tr><td>4</td><td> 11</td><td>3.45 (0.52)</td><td>   NA</td><td>   NA</td></tr>\n",
       "</tbody>\n",
       "</table>\n"
      ],
      "text/latex": [
       "A tibble: 5 × 5\n",
       "\\begin{tabular}{lllll}\n",
       " nRDQRespond & n & M(SD) & t\\_val & p\\_val\\\\\n",
       " <dbl> & <int> & <chr> & <dbl> & <dbl>\\\\\n",
       "\\hline\n",
       "\t 0 & 366 & 2.17 (1.02) & -6.82 & 0.000\\\\\n",
       "\t 1 &  75 & 2.81 (0.67) & -2.76 & 0.007\\\\\n",
       "\t 2 &  39 & 3.23 (0.81) &  0.31 & 0.759\\\\\n",
       "\t 3 &  26 & 3.15 (1.08) & -1.14 & 0.264\\\\\n",
       "\t 4 &  11 & 3.45 (0.52) &    NA &    NA\\\\\n",
       "\\end{tabular}\n"
      ],
      "text/markdown": [
       "\n",
       "A tibble: 5 × 5\n",
       "\n",
       "| nRDQRespond &lt;dbl&gt; | n &lt;int&gt; | M(SD) &lt;chr&gt; | t_val &lt;dbl&gt; | p_val &lt;dbl&gt; |\n",
       "|---|---|---|---|---|\n",
       "| 0 | 366 | 2.17 (1.02) | -6.82 | 0.000 |\n",
       "| 1 |  75 | 2.81 (0.67) | -2.76 | 0.007 |\n",
       "| 2 |  39 | 3.23 (0.81) |  0.31 | 0.759 |\n",
       "| 3 |  26 | 3.15 (1.08) | -1.14 | 0.264 |\n",
       "| 4 |  11 | 3.45 (0.52) |    NA |    NA |\n",
       "\n"
      ],
      "text/plain": [
       "  nRDQRespond n   M(SD)       t_val p_val\n",
       "1 0           366 2.17 (1.02) -6.82 0.000\n",
       "2 1            75 2.81 (0.67) -2.76 0.007\n",
       "3 2            39 3.23 (0.81)  0.31 0.759\n",
       "4 3            26 3.15 (1.08) -1.14 0.264\n",
       "5 4            11 3.45 (0.52)    NA    NA"
      ]
     },
     "metadata": {},
     "output_type": "display_data"
    }
   ],
   "source": [
    "imprvByNRDQTtestData = data.frame(nRDQRespond = rowSums(nRDQResponder[,3:6]), imprv = dfMDD$imprv1)\n",
    "imprvByNRDQ$t_val = NA\n",
    "imprvByNRDQ$p_val = NA\n",
    "\n",
    "for (i in 0:3){\n",
    "    sample1 = imprvByNRDQTtestData[imprvByNRDQTtestData$nRDQRespond== i,'imprv'] \n",
    "    sample2 = imprvByNRDQTtestData[imprvByNRDQTtestData$nRDQRespond== i+1, 'imprv'] \n",
    "   \n",
    "    tRes = t.test(sample1,sample2)\n",
    "   \n",
    "    imprvByNRDQ$t_val[i+1] = round(tRes$statistic,2)\n",
    "    imprvByNRDQ$p_val[i+1] = round(tRes$p.value, 3)\n",
    "}\n",
    "\n",
    "write.csv(imprvByNRDQ, '../Results/imprvByNRDQ.csv')\n",
    "imprvByNRDQ"
   ]
  },
  {
   "cell_type": "code",
   "execution_count": 129,
   "id": "extra-liabilities",
   "metadata": {},
   "outputs": [
    {
     "data": {
      "text/plain": [
       "\n",
       "  0   1   2   3   4 \n",
       "366  75  39  26  11 "
      ]
     },
     "metadata": {},
     "output_type": "display_data"
    }
   ],
   "source": [
    "table(imprvByNRDQTtestData$nRDQRespond)"
   ]
  },
  {
   "cell_type": "code",
   "execution_count": 130,
   "id": "italic-pattern",
   "metadata": {},
   "outputs": [
    {
     "data": {
      "text/plain": [
       "                        Df Sum Sq Mean Sq F value Pr(>F)    \n",
       "as.factor(nRDQRespond)   4   85.5  21.375   23.36 <2e-16 ***\n",
       "Residuals              512  468.6   0.915                   \n",
       "---\n",
       "Signif. codes:  0 ‘***’ 0.001 ‘**’ 0.01 ‘*’ 0.05 ‘.’ 0.1 ‘ ’ 1"
      ]
     },
     "metadata": {},
     "output_type": "display_data"
    }
   ],
   "source": [
    "summary(aov(imprv ~ as.factor(nRDQRespond), imprvByNRDQTtestData))"
   ]
  },
  {
   "cell_type": "code",
   "execution_count": 83,
   "id": "australian-document",
   "metadata": {},
   "outputs": [
    {
     "name": "stderr",
     "output_type": "stream",
     "text": [
      "`summarise()` ungrouping output (override with `.groups` argument)\n",
      "\n"
     ]
    },
    {
     "data": {
      "text/html": [
       "<table class=\"dataframe\">\n",
       "<caption>A tibble: 6 × 5</caption>\n",
       "<thead>\n",
       "\t<tr><th scope=col>nRDQRespond</th><th scope=col>n</th><th scope=col>Rating3Per</th><th scope=col>Rating4Per</th><th scope=col>Rating3or4Per</th></tr>\n",
       "\t<tr><th scope=col>&lt;dbl&gt;</th><th scope=col>&lt;int&gt;</th><th scope=col>&lt;chr&gt;</th><th scope=col>&lt;chr&gt;</th><th scope=col>&lt;chr&gt;</th></tr>\n",
       "</thead>\n",
       "<tbody>\n",
       "\t<tr><td>0</td><td>322</td><td>32.92%</td><td>7.45% </td><td>40.37%</td></tr>\n",
       "\t<tr><td>1</td><td> 92</td><td>50%   </td><td>6.52% </td><td>56.52%</td></tr>\n",
       "\t<tr><td>2</td><td> 57</td><td>50.88%</td><td>29.82%</td><td>80.7% </td></tr>\n",
       "\t<tr><td>3</td><td> 22</td><td>36.36%</td><td>54.55%</td><td>90.91%</td></tr>\n",
       "\t<tr><td>4</td><td> 20</td><td>55%   </td><td>35%   </td><td>90%   </td></tr>\n",
       "\t<tr><td>5</td><td>  4</td><td>75%   </td><td>25%   </td><td>100%  </td></tr>\n",
       "</tbody>\n",
       "</table>\n"
      ],
      "text/latex": [
       "A tibble: 6 × 5\n",
       "\\begin{tabular}{lllll}\n",
       " nRDQRespond & n & Rating3Per & Rating4Per & Rating3or4Per\\\\\n",
       " <dbl> & <int> & <chr> & <chr> & <chr>\\\\\n",
       "\\hline\n",
       "\t 0 & 322 & 32.92\\% & 7.45\\%  & 40.37\\%\\\\\n",
       "\t 1 &  92 & 50\\%    & 6.52\\%  & 56.52\\%\\\\\n",
       "\t 2 &  57 & 50.88\\% & 29.82\\% & 80.7\\% \\\\\n",
       "\t 3 &  22 & 36.36\\% & 54.55\\% & 90.91\\%\\\\\n",
       "\t 4 &  20 & 55\\%    & 35\\%    & 90\\%   \\\\\n",
       "\t 5 &   4 & 75\\%    & 25\\%    & 100\\%  \\\\\n",
       "\\end{tabular}\n"
      ],
      "text/markdown": [
       "\n",
       "A tibble: 6 × 5\n",
       "\n",
       "| nRDQRespond &lt;dbl&gt; | n &lt;int&gt; | Rating3Per &lt;chr&gt; | Rating4Per &lt;chr&gt; | Rating3or4Per &lt;chr&gt; |\n",
       "|---|---|---|---|---|\n",
       "| 0 | 322 | 32.92% | 7.45%  | 40.37% |\n",
       "| 1 |  92 | 50%    | 6.52%  | 56.52% |\n",
       "| 2 |  57 | 50.88% | 29.82% | 80.7%  |\n",
       "| 3 |  22 | 36.36% | 54.55% | 90.91% |\n",
       "| 4 |  20 | 55%    | 35%    | 90%    |\n",
       "| 5 |   4 | 75%    | 25%    | 100%   |\n",
       "\n"
      ],
      "text/plain": [
       "  nRDQRespond n   Rating3Per Rating4Per Rating3or4Per\n",
       "1 0           322 32.92%     7.45%      40.37%       \n",
       "2 1            92 50%        6.52%      56.52%       \n",
       "3 2            57 50.88%     29.82%     80.7%        \n",
       "4 3            22 36.36%     54.55%     90.91%       \n",
       "5 4            20 55%        35%        90%          \n",
       "6 5             4 75%        25%        100%         "
      ]
     },
     "metadata": {},
     "output_type": "display_data"
    }
   ],
   "source": [
    "imprvByNRDQ4 = \n",
    "    imprvByNRDQTtestData %>%\n",
    "        group_by(nRDQRespond) %>%\n",
    "        summarize(n = n(), \n",
    "                  Rating3Per = paste0(round(sum(imprv==3)/n()*100,2), '%'),\n",
    "                  Rating4Per = paste0(round(sum(imprv>=4)/n()*100,2), '%'),\n",
    "                  Rating3or4Per = paste0(round(sum(imprv>=3)/n()*100,2), '%'))\n",
    "\n",
    "#write.csv(imprvByNRDQ4, '../Results/imprvByNRDQ4.csv')\n",
    "imprvByNRDQ4"
   ]
  },
  {
   "cell_type": "code",
   "execution_count": 75,
   "id": "standing-opening",
   "metadata": {},
   "outputs": [
    {
     "name": "stderr",
     "output_type": "stream",
     "text": [
      "Warning message in chisq.test(imprvByNRDQTtestData$nRDQRespond, ifelse(imprvByNRDQTtestData$imprv == :\n",
      "“Chi-squared approximation may be incorrect”\n"
     ]
    },
    {
     "data": {
      "text/plain": [
       "\n",
       "\tPearson's Chi-squared test\n",
       "\n",
       "data:  imprvByNRDQTtestData$nRDQRespond and ifelse(imprvByNRDQTtestData$imprv == 3, \"1\", \"0\")\n",
       "X-squared = 17.402, df = 5, p-value = 0.003797\n"
      ]
     },
     "metadata": {},
     "output_type": "display_data"
    },
    {
     "name": "stderr",
     "output_type": "stream",
     "text": [
      "Warning message in chisq.test(imprvByNRDQTtestData$nRDQRespond, ifelse(imprvByNRDQTtestData$imprv >= :\n",
      "“Chi-squared approximation may be incorrect”\n"
     ]
    },
    {
     "data": {
      "text/plain": [
       "\n",
       "\tPearson's Chi-squared test\n",
       "\n",
       "data:  imprvByNRDQTtestData$nRDQRespond and ifelse(imprvByNRDQTtestData$imprv >= 4, \"1\", \"0\")\n",
       "X-squared = 69.264, df = 5, p-value = 1.458e-13\n"
      ]
     },
     "metadata": {},
     "output_type": "display_data"
    },
    {
     "name": "stderr",
     "output_type": "stream",
     "text": [
      "Warning message in chisq.test(imprvByNRDQTtestData$nRDQRespond, ifelse(imprvByNRDQTtestData$imprv >= :\n",
      "“Chi-squared approximation may be incorrect”\n"
     ]
    },
    {
     "data": {
      "text/plain": [
       "\n",
       "\tPearson's Chi-squared test\n",
       "\n",
       "data:  imprvByNRDQTtestData$nRDQRespond and ifelse(imprvByNRDQTtestData$imprv >= 3, \"1\", \"0\")\n",
       "X-squared = 65.628, df = 5, p-value = 8.301e-13\n"
      ]
     },
     "metadata": {},
     "output_type": "display_data"
    }
   ],
   "source": [
    "chisq_result = chisq.test(imprvByNRDQTtestData$nRDQRespond, ifelse(imprvByNRDQTtestData$imprv==3, '1', '0'))\n",
    "chisq_result\n",
    "\n",
    "chisq_result = chisq.test(imprvByNRDQTtestData$nRDQRespond, ifelse(imprvByNRDQTtestData$imprv>=4, '1', '0'))\n",
    "chisq_result\n",
    "\n",
    "chisq_result = chisq.test(imprvByNRDQTtestData$nRDQRespond, ifelse(imprvByNRDQTtestData$imprv>=3, '1', '0'))\n",
    "chisq_result\n"
   ]
  },
  {
   "cell_type": "code",
   "execution_count": 86,
   "id": "disciplinary-globe",
   "metadata": {},
   "outputs": [
    {
     "data": {
      "text/html": [
       "<table class=\"dataframe\">\n",
       "<caption>A data.frame: 6 × 4</caption>\n",
       "<thead>\n",
       "\t<tr><th></th><th scope=col>Responder M(SD)</th><th scope=col>Nonresponder M(SD)</th><th scope=col>t-value</th><th scope=col>p-value</th></tr>\n",
       "\t<tr><th></th><th scope=col>&lt;fct&gt;</th><th scope=col>&lt;fct&gt;</th><th scope=col>&lt;fct&gt;</th><th scope=col>&lt;fct&gt;</th></tr>\n",
       "</thead>\n",
       "<tbody>\n",
       "\t<tr><th scope=row>dsym</th><td>0          </td><td>0          </td><td>0   </td><td>0    </td></tr>\n",
       "\t<tr><th scope=row>ndsym</th><td>2.7 (0.86) </td><td>2.36 (1.06)</td><td>3.4 </td><td>0.001</td></tr>\n",
       "\t<tr><th scope=row>cope_r</th><td>3.04 (0.79)</td><td>2.32 (1.04)</td><td>6.76</td><td>0    </td></tr>\n",
       "\t<tr><th scope=row>pmh_r</th><td>3.21 (0.77)</td><td>2.3 (1.02) </td><td>8.57</td><td>0    </td></tr>\n",
       "\t<tr><th scope=row>fun_r</th><td>3.05 (0.89)</td><td>2.31 (1.02)</td><td>6.73</td><td>0    </td></tr>\n",
       "\t<tr><th scope=row>well_r</th><td>3.26 (0.92)</td><td>2.32 (1)   </td><td>7.27</td><td>0    </td></tr>\n",
       "</tbody>\n",
       "</table>\n"
      ],
      "text/latex": [
       "A data.frame: 6 × 4\n",
       "\\begin{tabular}{r|llll}\n",
       "  & Responder M(SD) & Nonresponder M(SD) & t-value & p-value\\\\\n",
       "  & <fct> & <fct> & <fct> & <fct>\\\\\n",
       "\\hline\n",
       "\tdsym & 0           & 0           & 0    & 0    \\\\\n",
       "\tndsym & 2.7 (0.86)  & 2.36 (1.06) & 3.4  & 0.001\\\\\n",
       "\tcope\\_r & 3.04 (0.79) & 2.32 (1.04) & 6.76 & 0    \\\\\n",
       "\tpmh\\_r & 3.21 (0.77) & 2.3 (1.02)  & 8.57 & 0    \\\\\n",
       "\tfun\\_r & 3.05 (0.89) & 2.31 (1.02) & 6.73 & 0    \\\\\n",
       "\twell\\_r & 3.26 (0.92) & 2.32 (1)    & 7.27 & 0    \\\\\n",
       "\\end{tabular}\n"
      ],
      "text/markdown": [
       "\n",
       "A data.frame: 6 × 4\n",
       "\n",
       "| <!--/--> | Responder M(SD) &lt;fct&gt; | Nonresponder M(SD) &lt;fct&gt; | t-value &lt;fct&gt; | p-value &lt;fct&gt; |\n",
       "|---|---|---|---|---|\n",
       "| dsym | 0           | 0           | 0    | 0     |\n",
       "| ndsym | 2.7 (0.86)  | 2.36 (1.06) | 3.4  | 0.001 |\n",
       "| cope_r | 3.04 (0.79) | 2.32 (1.04) | 6.76 | 0     |\n",
       "| pmh_r | 3.21 (0.77) | 2.3 (1.02)  | 8.57 | 0     |\n",
       "| fun_r | 3.05 (0.89) | 2.31 (1.02) | 6.73 | 0     |\n",
       "| well_r | 3.26 (0.92) | 2.32 (1)    | 7.27 | 0     |\n",
       "\n"
      ],
      "text/plain": [
       "       Responder M(SD) Nonresponder M(SD) t-value p-value\n",
       "dsym   0               0                  0       0      \n",
       "ndsym  2.7 (0.86)      2.36 (1.06)        3.4     0.001  \n",
       "cope_r 3.04 (0.79)     2.32 (1.04)        6.76    0      \n",
       "pmh_r  3.21 (0.77)     2.3 (1.02)         8.57    0      \n",
       "fun_r  3.05 (0.89)     2.31 (1.02)        6.73    0      \n",
       "well_r 3.26 (0.92)     2.32 (1)           7.27    0      "
      ]
     },
     "metadata": {},
     "output_type": "display_data"
    }
   ],
   "source": [
    "rdqResImprvEach = matrix(0, ncol = 4, nrow = 6)\n",
    "\n",
    "for (i in 2:6){\n",
    "    facet = facets[i]\n",
    "    preScore = dfMDD[,grep(paste0('pre_', facet,'$'), colnames(dfMDD))]\n",
    "    postScore = dfMDD[,grep(paste0('post_', facet,'$'), colnames(dfMDD))]\n",
    "    responder = which((preScore - postScore)> 0.5*preScore)\n",
    "    responderImprv = dfMDD$imprv1[responder]\n",
    "    nonresponderImprv = dfMDD$imprv1[-responder]\n",
    "    rdqResImprvEach[i,1] = paste0(round(mean(responderImprv),2),' (',\n",
    "                                  round(sd(responderImprv),2),')')\n",
    "    \n",
    "    rdqResImprvEach[i,2] = paste0(round(mean(nonresponderImprv),2),' (',\n",
    "                                  round(sd(nonresponderImprv),2),')')\n",
    "    \n",
    "    tRes = t.test(responderImprv, nonresponderImprv)\n",
    "    \n",
    "    rdqResImprvEach[i,3] = round(tRes$statistic,2)\n",
    "    rdqResImprvEach[i,4] = round(tRes$p.value,3)\n",
    "    \n",
    "}\n",
    "\n",
    "rdqResImprvEach = as.data.frame(rdqResImprvEach)\n",
    "rownames(rdqResImprvEach) = facets\n",
    "colnames(rdqResImprvEach) = c('Responder M(SD)', 'Nonresponder M(SD)', 't-value', 'p-value')\n",
    "write.csv(rdqResImprvEach, 'rdqResImprvEach.csv')\n",
    "rdqResImprvEach "
   ]
  },
  {
   "cell_type": "code",
   "execution_count": 87,
   "id": "lovely-fantasy",
   "metadata": {},
   "outputs": [
    {
     "data": {
      "text/html": [
       "<table class=\"dataframe\">\n",
       "<caption>A data.frame: 6 × 4</caption>\n",
       "<thead>\n",
       "\t<tr><th></th><th scope=col>Responder %(n)</th><th scope=col>Nonresponder %(n)</th><th scope=col>X2 value</th><th scope=col>p-value</th></tr>\n",
       "\t<tr><th></th><th scope=col>&lt;fct&gt;</th><th scope=col>&lt;fct&gt;</th><th scope=col>&lt;fct&gt;</th><th scope=col>&lt;fct&gt;</th></tr>\n",
       "</thead>\n",
       "<tbody>\n",
       "\t<tr><th scope=row>dsym</th><td>0          </td><td>0           </td><td>0    </td><td>0    </td></tr>\n",
       "\t<tr><th scope=row>ndsym</th><td>14.43% (97)</td><td>12.62% (420)</td><td>0.1  </td><td>0.755</td></tr>\n",
       "\t<tr><th scope=row>cope_r</th><td>27.14% (70)</td><td>10.74% (447)</td><td>13.02</td><td>0    </td></tr>\n",
       "\t<tr><th scope=row>pmh_r</th><td>35.82% (67)</td><td>9.56% (450) </td><td>33.38</td><td>0    </td></tr>\n",
       "\t<tr><th scope=row>fun_r</th><td>32.1% (81) </td><td>9.4% (436)  </td><td>29.21</td><td>0    </td></tr>\n",
       "\t<tr><th scope=row>well_r</th><td>45.61% (57)</td><td>8.91% (460) </td><td>57.35</td><td>0    </td></tr>\n",
       "</tbody>\n",
       "</table>\n"
      ],
      "text/latex": [
       "A data.frame: 6 × 4\n",
       "\\begin{tabular}{r|llll}\n",
       "  & Responder \\%(n) & Nonresponder \\%(n) & X2 value & p-value\\\\\n",
       "  & <fct> & <fct> & <fct> & <fct>\\\\\n",
       "\\hline\n",
       "\tdsym & 0           & 0            & 0     & 0    \\\\\n",
       "\tndsym & 14.43\\% (97) & 12.62\\% (420) & 0.1   & 0.755\\\\\n",
       "\tcope\\_r & 27.14\\% (70) & 10.74\\% (447) & 13.02 & 0    \\\\\n",
       "\tpmh\\_r & 35.82\\% (67) & 9.56\\% (450)  & 33.38 & 0    \\\\\n",
       "\tfun\\_r & 32.1\\% (81)  & 9.4\\% (436)   & 29.21 & 0    \\\\\n",
       "\twell\\_r & 45.61\\% (57) & 8.91\\% (460)  & 57.35 & 0    \\\\\n",
       "\\end{tabular}\n"
      ],
      "text/markdown": [
       "\n",
       "A data.frame: 6 × 4\n",
       "\n",
       "| <!--/--> | Responder %(n) &lt;fct&gt; | Nonresponder %(n) &lt;fct&gt; | X2 value &lt;fct&gt; | p-value &lt;fct&gt; |\n",
       "|---|---|---|---|---|\n",
       "| dsym | 0           | 0            | 0     | 0     |\n",
       "| ndsym | 14.43% (97) | 12.62% (420) | 0.1   | 0.755 |\n",
       "| cope_r | 27.14% (70) | 10.74% (447) | 13.02 | 0     |\n",
       "| pmh_r | 35.82% (67) | 9.56% (450)  | 33.38 | 0     |\n",
       "| fun_r | 32.1% (81)  | 9.4% (436)   | 29.21 | 0     |\n",
       "| well_r | 45.61% (57) | 8.91% (460)  | 57.35 | 0     |\n",
       "\n"
      ],
      "text/plain": [
       "       Responder %(n) Nonresponder %(n) X2 value p-value\n",
       "dsym   0              0                 0        0      \n",
       "ndsym  14.43% (97)    12.62% (420)      0.1      0.755  \n",
       "cope_r 27.14% (70)    10.74% (447)      13.02    0      \n",
       "pmh_r  35.82% (67)    9.56% (450)       33.38    0      \n",
       "fun_r  32.1% (81)     9.4% (436)        29.21    0      \n",
       "well_r 45.61% (57)    8.91% (460)       57.35    0      "
      ]
     },
     "metadata": {},
     "output_type": "display_data"
    }
   ],
   "source": [
    "rdqResImprv4Each = matrix(0, ncol = 4, nrow = 6)\n",
    "\n",
    "for (i in 2:6){\n",
    "    facet = facets[i]\n",
    "    preScore = dfMDD[,grep(paste0('pre_', facet,'$'), colnames(dfMDD))]\n",
    "    postScore = dfMDD[,grep(paste0('post_', facet,'$'), colnames(dfMDD))]\n",
    "    responder = as.factor(ifelse((preScore - postScore)> 0.5*preScore, 1, 0))\n",
    "    imprvCut = ifelse(dfMDD$imprv1 >= 4, 1, 0)\n",
    "    \n",
    "    \n",
    "    rdqResImprv4Each[i,1] = paste0(\n",
    "        round(sum(imprvCut[responder == 1])/length(imprvCut[responder == 1])*100,2), '% (',\n",
    "        length(imprvCut[responder == 1]), ')')\n",
    "    \n",
    "    rdqResImprv4Each[i,2] = paste0(\n",
    "        round(sum(imprvCut[responder == 0])/length(imprvCut[responder == 0])*100,2), '% (',\n",
    "        length(imprvCut[responder == 0]), ')')\n",
    "\n",
    "    chiRes = chisq.test(imprvCut, responder)\n",
    "       rdqResImprv4Each[i,3] = round(chiRes$statistic,2)\n",
    "       rdqResImprv4Each[i,4] = round(chiRes$p.value,3)\n",
    "\n",
    "    \n",
    "}\n",
    "\n",
    "rdqResImprv4Each = as.data.frame(rdqResImprv4Each)\n",
    "rownames(rdqResImprv4Each) = facets\n",
    "colnames(rdqResImprv4Each) = c('Responder %(n)', 'Nonresponder %(n)', 'X2 value', 'p-value')\n",
    "write.csv(rdqResImprv4Each, 'rdqResImprv4Each.csv')\n",
    "rdqResImprv4Each"
   ]
  },
  {
   "cell_type": "code",
   "execution_count": 88,
   "id": "dramatic-registrar",
   "metadata": {},
   "outputs": [
    {
     "data": {
      "text/html": [
       "<table class=\"dataframe\">\n",
       "<caption>A data.frame: 5 × 5</caption>\n",
       "<thead>\n",
       "\t<tr><th></th><th scope=col>ndsym</th><th scope=col>cope_r</th><th scope=col>pmh_r</th><th scope=col>fun_r</th><th scope=col>well_r</th></tr>\n",
       "\t<tr><th></th><th scope=col>&lt;fct&gt;</th><th scope=col>&lt;fct&gt;</th><th scope=col>&lt;fct&gt;</th><th scope=col>&lt;fct&gt;</th><th scope=col>&lt;fct&gt;</th></tr>\n",
       "</thead>\n",
       "<tbody>\n",
       "\t<tr><th scope=row>Both</th><td>NaN (NA)            </td><td>NaN (NA)             </td><td>NaN (NA)             </td><td>NaN (NA)             </td><td>NaN (NA)             </td></tr>\n",
       "\t<tr><th scope=row>Dep</th><td>NaN (NA)            </td><td>NaN (NA)             </td><td>NaN (NA)             </td><td>NaN (NA)             </td><td>NaN (NA)             </td></tr>\n",
       "\t<tr><th scope=row>Other</th><td>2.7 (0.86)          </td><td>3.04 (0.79)          </td><td>3.21 (0.77)          </td><td>3.05 (0.89)          </td><td>3.26 (0.92)          </td></tr>\n",
       "\t<tr><th scope=row>None</th><td>2.36 (1.06)         </td><td>2.32 (1.04)          </td><td>2.3 (1.02)           </td><td>2.31 (1.02)          </td><td>2.32 (1)             </td></tr>\n",
       "\t<tr><th scope=row>ANOVA</th><td>F(1, 515)=8.81, p= 0</td><td>F(1, 515)=30.77, p= 0</td><td>F(1, 515)=48.53, p= 0</td><td>F(1, 515)=37.76, p= 0</td><td>F(1, 515)=45.92, p= 0</td></tr>\n",
       "</tbody>\n",
       "</table>\n"
      ],
      "text/latex": [
       "A data.frame: 5 × 5\n",
       "\\begin{tabular}{r|lllll}\n",
       "  & ndsym & cope\\_r & pmh\\_r & fun\\_r & well\\_r\\\\\n",
       "  & <fct> & <fct> & <fct> & <fct> & <fct>\\\\\n",
       "\\hline\n",
       "\tBoth & NaN (NA)             & NaN (NA)              & NaN (NA)              & NaN (NA)              & NaN (NA)             \\\\\n",
       "\tDep & NaN (NA)             & NaN (NA)              & NaN (NA)              & NaN (NA)              & NaN (NA)             \\\\\n",
       "\tOther & 2.7 (0.86)           & 3.04 (0.79)           & 3.21 (0.77)           & 3.05 (0.89)           & 3.26 (0.92)          \\\\\n",
       "\tNone & 2.36 (1.06)          & 2.32 (1.04)           & 2.3 (1.02)            & 2.31 (1.02)           & 2.32 (1)             \\\\\n",
       "\tANOVA & F(1, 515)=8.81, p= 0 & F(1, 515)=30.77, p= 0 & F(1, 515)=48.53, p= 0 & F(1, 515)=37.76, p= 0 & F(1, 515)=45.92, p= 0\\\\\n",
       "\\end{tabular}\n"
      ],
      "text/markdown": [
       "\n",
       "A data.frame: 5 × 5\n",
       "\n",
       "| <!--/--> | ndsym &lt;fct&gt; | cope_r &lt;fct&gt; | pmh_r &lt;fct&gt; | fun_r &lt;fct&gt; | well_r &lt;fct&gt; |\n",
       "|---|---|---|---|---|---|\n",
       "| Both | NaN (NA)             | NaN (NA)              | NaN (NA)              | NaN (NA)              | NaN (NA)              |\n",
       "| Dep | NaN (NA)             | NaN (NA)              | NaN (NA)              | NaN (NA)              | NaN (NA)              |\n",
       "| Other | 2.7 (0.86)           | 3.04 (0.79)           | 3.21 (0.77)           | 3.05 (0.89)           | 3.26 (0.92)           |\n",
       "| None | 2.36 (1.06)          | 2.32 (1.04)           | 2.3 (1.02)            | 2.31 (1.02)           | 2.32 (1)              |\n",
       "| ANOVA | F(1, 515)=8.81, p= 0 | F(1, 515)=30.77, p= 0 | F(1, 515)=48.53, p= 0 | F(1, 515)=37.76, p= 0 | F(1, 515)=45.92, p= 0 |\n",
       "\n"
      ],
      "text/plain": [
       "      ndsym                cope_r                pmh_r                \n",
       "Both  NaN (NA)             NaN (NA)              NaN (NA)             \n",
       "Dep   NaN (NA)             NaN (NA)              NaN (NA)             \n",
       "Other 2.7 (0.86)           3.04 (0.79)           3.21 (0.77)          \n",
       "None  2.36 (1.06)          2.32 (1.04)           2.3 (1.02)           \n",
       "ANOVA F(1, 515)=8.81, p= 0 F(1, 515)=30.77, p= 0 F(1, 515)=48.53, p= 0\n",
       "      fun_r                 well_r               \n",
       "Both  NaN (NA)              NaN (NA)             \n",
       "Dep   NaN (NA)              NaN (NA)             \n",
       "Other 3.05 (0.89)           3.26 (0.92)          \n",
       "None  2.31 (1.02)           2.32 (1)             \n",
       "ANOVA F(1, 515)=37.76, p= 0 F(1, 515)=45.92, p= 0"
      ]
     },
     "metadata": {},
     "output_type": "display_data"
    }
   ],
   "source": [
    "imprvMDDvsOthers = matrix(0, ncol = 5, nrow = 5)\n",
    "for (j in 2:length(facets)){\n",
    "    facet = facets[j]\n",
    "    preDepScore = dfMDD[,grep(paste0('pre_dsym$'), colnames(dfMDD))]\n",
    "    postDepScore = dfMDD[,grep(paste0('post_dsym$'), colnames(dfMDD))]\n",
    "    depRep = ifelse((preDepScore - postDepScore) > 0.5*preDepScore, 1, 0)\n",
    "    \n",
    "    preOtherScore = dfMDD[,grep(paste0('pre_', facet,'$'), colnames(dfMDD))]\n",
    "    postOtherScore = dfMDD[,grep(paste0('post_', facet,'$'), colnames(dfMDD))]\n",
    "    otherRep = ifelse((preOtherScore - postOtherScore) > 0.5*preOtherScore, 1, 0)\n",
    "    \n",
    "    labels = c()\n",
    "    for (i in 1:nrow(dfMDD)){\n",
    "        if (depRep[i] == 1 & otherRep[i] == 1) labels[i] = 'both'\n",
    "        if (depRep[i] == 1 & otherRep[i] == 0) labels[i] = 'dep'\n",
    "        if (depRep[i] == 0 & otherRep[i] == 1) labels[i] = 'other'\n",
    "        if (depRep[i] == 0 & otherRep[i] == 0) labels[i] = 'none'\n",
    "    }\n",
    "  \n",
    "    \n",
    "    imprvMDDvsOthers[1,j-1] = paste0(round(mean(dfMDD$imprv1[depRep == 1 & otherRep == 1]),2), ' (',\n",
    "                                   round(sd(dfMDD$imprv1[depRep == 1 & otherRep == 1]),2),')')\n",
    "    \n",
    "    imprvMDDvsOthers[2,j-1] = paste0(round(mean(dfMDD$imprv1[depRep == 1 & otherRep == 0]),2), ' (',\n",
    "                                   round(sd(dfMDD$imprv1[depRep == 1 & otherRep == 0]),2),')')\n",
    "    \n",
    "    imprvMDDvsOthers[3,j-1] = paste0(round(mean(dfMDD$imprv1[depRep == 0 & otherRep == 1]),2), ' (',\n",
    "                                   round(sd(dfMDD$imprv1[depRep == 0 & otherRep == 1]),2),')')\n",
    "    \n",
    "    imprvMDDvsOthers[4,j-1] = paste0(round(mean(dfMDD$imprv1[depRep == 0 & otherRep == 0]),2), ' (',\n",
    "                                   round(sd(dfMDD$imprv1[depRep == 0 & otherRep == 0]),2),')')\n",
    "    \n",
    "    aovRes = summary(aov(dfMDD$imprv1 ~ labels))\n",
    "    imprvMDDvsOthers[5,j-1] = paste0('F(',aovRes[[1]][1,1],', ',\n",
    "                                     aovRes[[1]][2,1],')=',round(aovRes[[1]][1,4],2),\n",
    "                                     ', p= ', round(aovRes[[1]][1,5]))\n",
    "    \n",
    "    \n",
    "    \n",
    "    \n",
    "}\n",
    "imprvMDDvsOthers = as.data.frame(imprvMDDvsOthers)\n",
    "rownames(imprvMDDvsOthers) = c('Both', 'Dep', 'Other', 'None', 'ANOVA')\n",
    "colnames(imprvMDDvsOthers) = facets[2:6]\n",
    "write.csv(imprvMDDvsOthers, '../Results/imprvMDDvsOthers.csv')\n",
    "imprvMDDvsOthers"
   ]
  },
  {
   "cell_type": "code",
   "execution_count": 89,
   "id": "diverse-summit",
   "metadata": {
    "scrolled": true
   },
   "outputs": [
    {
     "ename": "ERROR",
     "evalue": "Error in t.test.default(dfMDD$imprv1[labels == condition[j]], dfMDD$imprv1[labels == : not enough 'x' observations\n",
     "output_type": "error",
     "traceback": [
      "Error in t.test.default(dfMDD$imprv1[labels == condition[j]], dfMDD$imprv1[labels == : not enough 'x' observations\nTraceback:\n",
      "1. t.test(dfMDD$imprv1[labels == condition[j]], dfMDD$imprv1[labels == \n .     condition[k]])",
      "2. t.test.default(dfMDD$imprv1[labels == condition[j]], dfMDD$imprv1[labels == \n .     condition[k]])",
      "3. stop(\"not enough 'x' observations\")"
     ]
    }
   ],
   "source": [
    "comp = c('both-dep', 'both-other', 'both-none', 'dep-other', 'dep-none', 'other-none')\n",
    "pairwiseImprv = matrix(0, nrow = 6, ncol = 5)\n",
    "\n",
    "for (i in 2:length(facets)){\n",
    "    facet = facets[i]\n",
    "    preDepScore = dfMDD[,grep(paste0('pre_dsym$'), colnames(dfMDD))]\n",
    "    postDepScore = dfMDD[,grep(paste0('post_dsym$'), colnames(dfMDD))]\n",
    "    depRep = ifelse((preDepScore - postDepScore) > 0.5*preDepScore, 1, 0)\n",
    "    \n",
    "    preOtherScore = dfMDD[,grep(paste0('pre_', facet,'$'), colnames(dfMDD))]\n",
    "    postOtherScore = dfMDD[,grep(paste0('post_', facet,'$'), colnames(dfMDD))]\n",
    "    otherRep = ifelse((preOtherScore - postOtherScore) > 0.5*preOtherScore, 1, 0)\n",
    "    \n",
    "    labels = c()\n",
    "    for (m in 1:nrow(dfMDD)){\n",
    "        if (depRep[m] == 1 & otherRep[m] == 1) labels[m] = 'both'\n",
    "        if (depRep[m] == 1 & otherRep[m] == 0) labels[m] = 'dep'\n",
    "        if (depRep[m] == 0 & otherRep[m] == 1) labels[m] = 'other'\n",
    "        if (depRep[m] == 0 & otherRep[m] == 0) labels[m] = 'none'\n",
    "    }\n",
    "    condition = c('both', 'dep', 'other', 'none')\n",
    "    row = 0\n",
    "    for (j in 1:3){\n",
    "        for (k in (j+1):4){\n",
    "            row = row+1\n",
    "            pairwiseImprv[row, i-1] = \n",
    "            t.test(dfMDD$imprv1[labels == condition[j]], dfMDD$imprv1[labels == condition[k]])$p.value\n",
    "            \n",
    "        }\n",
    "    }\n",
    "    \n",
    "}\n",
    "\n",
    "rownames(pairwiseImprv) = comp\n",
    "pairwiseImprv < 0.005"
   ]
  },
  {
   "cell_type": "code",
   "execution_count": null,
   "id": "textile-princess",
   "metadata": {},
   "outputs": [],
   "source": []
  },
  {
   "cell_type": "code",
   "execution_count": 90,
   "id": "superb-overhead",
   "metadata": {
    "scrolled": false
   },
   "outputs": [
    {
     "data": {
      "text/html": [
       "<table class=\"dataframe\">\n",
       "<caption>A data.frame: 5 × 5</caption>\n",
       "<thead>\n",
       "\t<tr><th></th><th scope=col>ndsym</th><th scope=col>cope_r</th><th scope=col>pmh_r</th><th scope=col>fun_r</th><th scope=col>well_r</th></tr>\n",
       "\t<tr><th></th><th scope=col>&lt;fct&gt;</th><th scope=col>&lt;fct&gt;</th><th scope=col>&lt;fct&gt;</th><th scope=col>&lt;fct&gt;</th><th scope=col>&lt;fct&gt;</th></tr>\n",
       "</thead>\n",
       "<tbody>\n",
       "\t<tr><th scope=row>Both</th><td>NaN% (0)              </td><td>NaN% (0)            </td><td>NaN% (0)            </td><td>NaN% (0)            </td><td>NaN% (0)            </td></tr>\n",
       "\t<tr><th scope=row>Dep</th><td>NaN% (0)              </td><td>NaN% (0)            </td><td>NaN% (0)            </td><td>NaN% (0)            </td><td>NaN% (0)            </td></tr>\n",
       "\t<tr><th scope=row>Other</th><td>14.43% (97)           </td><td>27.14% (70)         </td><td>35.82% (67)         </td><td>32.1% (81)          </td><td>45.61% (57)         </td></tr>\n",
       "\t<tr><th scope=row>None</th><td>12.62% (420)          </td><td>10.74% (447)        </td><td>9.56% (450)         </td><td>9.4% (436)          </td><td>8.91% (460)         </td></tr>\n",
       "\t<tr><th scope=row>ANOVA</th><td>X2(1) = 0.1, p = 0.755</td><td>X2(1) = 13.02, p = 0</td><td>X2(1) = 33.38, p = 0</td><td>X2(1) = 29.21, p = 0</td><td>X2(1) = 57.35, p = 0</td></tr>\n",
       "</tbody>\n",
       "</table>\n"
      ],
      "text/latex": [
       "A data.frame: 5 × 5\n",
       "\\begin{tabular}{r|lllll}\n",
       "  & ndsym & cope\\_r & pmh\\_r & fun\\_r & well\\_r\\\\\n",
       "  & <fct> & <fct> & <fct> & <fct> & <fct>\\\\\n",
       "\\hline\n",
       "\tBoth & NaN\\% (0)               & NaN\\% (0)             & NaN\\% (0)             & NaN\\% (0)             & NaN\\% (0)            \\\\\n",
       "\tDep & NaN\\% (0)               & NaN\\% (0)             & NaN\\% (0)             & NaN\\% (0)             & NaN\\% (0)            \\\\\n",
       "\tOther & 14.43\\% (97)            & 27.14\\% (70)          & 35.82\\% (67)          & 32.1\\% (81)           & 45.61\\% (57)         \\\\\n",
       "\tNone & 12.62\\% (420)           & 10.74\\% (447)         & 9.56\\% (450)          & 9.4\\% (436)           & 8.91\\% (460)         \\\\\n",
       "\tANOVA & X2(1) = 0.1, p = 0.755 & X2(1) = 13.02, p = 0 & X2(1) = 33.38, p = 0 & X2(1) = 29.21, p = 0 & X2(1) = 57.35, p = 0\\\\\n",
       "\\end{tabular}\n"
      ],
      "text/markdown": [
       "\n",
       "A data.frame: 5 × 5\n",
       "\n",
       "| <!--/--> | ndsym &lt;fct&gt; | cope_r &lt;fct&gt; | pmh_r &lt;fct&gt; | fun_r &lt;fct&gt; | well_r &lt;fct&gt; |\n",
       "|---|---|---|---|---|---|\n",
       "| Both | NaN% (0)               | NaN% (0)             | NaN% (0)             | NaN% (0)             | NaN% (0)             |\n",
       "| Dep | NaN% (0)               | NaN% (0)             | NaN% (0)             | NaN% (0)             | NaN% (0)             |\n",
       "| Other | 14.43% (97)            | 27.14% (70)          | 35.82% (67)          | 32.1% (81)           | 45.61% (57)          |\n",
       "| None | 12.62% (420)           | 10.74% (447)         | 9.56% (450)          | 9.4% (436)           | 8.91% (460)          |\n",
       "| ANOVA | X2(1) = 0.1, p = 0.755 | X2(1) = 13.02, p = 0 | X2(1) = 33.38, p = 0 | X2(1) = 29.21, p = 0 | X2(1) = 57.35, p = 0 |\n",
       "\n"
      ],
      "text/plain": [
       "      ndsym                  cope_r               pmh_r               \n",
       "Both  NaN% (0)               NaN% (0)             NaN% (0)            \n",
       "Dep   NaN% (0)               NaN% (0)             NaN% (0)            \n",
       "Other 14.43% (97)            27.14% (70)          35.82% (67)         \n",
       "None  12.62% (420)           10.74% (447)         9.56% (450)         \n",
       "ANOVA X2(1) = 0.1, p = 0.755 X2(1) = 13.02, p = 0 X2(1) = 33.38, p = 0\n",
       "      fun_r                well_r              \n",
       "Both  NaN% (0)             NaN% (0)            \n",
       "Dep   NaN% (0)             NaN% (0)            \n",
       "Other 32.1% (81)           45.61% (57)         \n",
       "None  9.4% (436)           8.91% (460)         \n",
       "ANOVA X2(1) = 29.21, p = 0 X2(1) = 57.35, p = 0"
      ]
     },
     "metadata": {},
     "output_type": "display_data"
    }
   ],
   "source": [
    "imprv4MDDvsOthers = matrix(0, ncol = 5, nrow = 5)\n",
    "for (j in 2:length(facets)){\n",
    "    facet = facets[j]\n",
    "    preDepScore = dfMDD[,grep(paste0('pre_dsym$'), colnames(dfMDD))]\n",
    "    postDepScore = dfMDD[,grep(paste0('post_dsym$'), colnames(dfMDD))]\n",
    "    depRep = ifelse((preDepScore - postDepScore) > 0.5*preDepScore, 1, 0)\n",
    "    \n",
    "    preOtherScore = dfMDD[,grep(paste0('pre_', facet,'$'), colnames(dfMDD))]\n",
    "    postOtherScore = dfMDD[,grep(paste0('post_', facet,'$'), colnames(dfMDD))]\n",
    "    otherRep = ifelse((preOtherScore - postOtherScore) > 0.5*preOtherScore, 1, 0)\n",
    "    \n",
    "    labels = c()\n",
    "    for (i in 1:nrow(dfMDD)){\n",
    "        if (depRep[i] == 1 & otherRep[i] == 1) labels[i] = 'both'\n",
    "        if (depRep[i] == 1 & otherRep[i] == 0) labels[i] = 'dep'\n",
    "        if (depRep[i] == 0 & otherRep[i] == 1) labels[i] = 'other'\n",
    "        if (depRep[i] == 0 & otherRep[i] == 0) labels[i] = 'none'\n",
    "    }\n",
    "\n",
    "    \n",
    "    imprv4MDDvsOthers[1,j-1] = paste0(\n",
    "        round(sum(dfMDD$imprv1[labels == 'both'] >=4)/sum(labels == 'both')*100,2), '% (',\n",
    "        sum(labels == 'both'), ')')\n",
    "    \n",
    "    imprv4MDDvsOthers[2,j-1] = paste0(\n",
    "        round(sum(dfMDD$imprv1[labels == 'dep'] >=4)/sum(labels == 'dep')*100,2), '% (',\n",
    "        sum(labels == 'dep'), ')')\n",
    "    \n",
    "    imprv4MDDvsOthers[3,j-1] = paste0(\n",
    "        round(sum(dfMDD$imprv1[labels == 'other'] >=4)/sum(labels == 'other')*100,2), '% (',\n",
    "        sum(labels == 'other'), ')')\n",
    "    \n",
    "    imprv4MDDvsOthers[4,j-1] = paste0(\n",
    "        round(sum(dfMDD$imprv1[labels == 'none'] >=4)/sum(labels == 'none')*100,2), '% (',\n",
    "        sum(labels == 'none'), ')')\n",
    "    \n",
    "    imprvCut = ifelse(dfMDD$imprv1 >= 4, 1, 0)\n",
    "        \n",
    "    chiRes = chisq.test(imprvCut, labels)\n",
    "    \n",
    "    imprv4MDDvsOthers[5,j-1] = paste0('X2(', chiRes$parameter,') = ', round(chiRes$statistic,2), ', p = ', round(chiRes$p.value,3))\n",
    "    \n",
    "}\n",
    "imprv4MDDvsOthers = as.data.frame(imprv4MDDvsOthers)\n",
    "rownames(imprv4MDDvsOthers) = c('Both', 'Dep', 'Other', 'None', 'ANOVA')\n",
    "colnames(imprv4MDDvsOthers) = facets[2:6]\n",
    "write.csv(imprv4MDDvsOthers, '../Results/imprv4MDDvsOthers.csv')\n",
    "imprv4MDDvsOthers"
   ]
  },
  {
   "cell_type": "code",
   "execution_count": null,
   "id": "valued-spending",
   "metadata": {},
   "outputs": [],
   "source": [
    "comp = c('both-dep', 'both-other', 'both-none', 'dep-other', 'dep-none', 'other-none')\n",
    "pairwiseImprv4chi = pairwiseImprv4p = matrix(0, nrow = 6, ncol = 5)\n",
    "\n",
    "for (i in 2:length(facets)){\n",
    "    facet = facets[i]\n",
    "    preDepScore = dfMDD[,grep(paste0('pre_dsym$'), colnames(dfMDD))]\n",
    "    postDepScore = dfMDD[,grep(paste0('post_dsym$'), colnames(dfMDD))]\n",
    "    depRep = ifelse((preDepScore - postDepScore) > 0.5*preDepScore, 1, 0)\n",
    "    \n",
    "    preOtherScore = dfMDD[,grep(paste0('pre_', facet,'$'), colnames(dfMDD))]\n",
    "    postOtherScore = dfMDD[,grep(paste0('post_', facet,'$'), colnames(dfMDD))]\n",
    "    otherRep = ifelse((preOtherScore - postOtherScore) > 0.5*preOtherScore, 1, 0)\n",
    "    \n",
    "    labels = c()\n",
    "    for (m in 1:nrow(dfMDD)){\n",
    "        if (depRep[m] == 1 & otherRep[m] == 1) labels[m] = 'both'\n",
    "        if (depRep[m] == 1 & otherRep[m] == 0) labels[m] = 'dep'\n",
    "        if (depRep[m] == 0 & otherRep[m] == 1) labels[m] = 'other'\n",
    "        if (depRep[m] == 0 & otherRep[m] == 0) labels[m] = 'none'\n",
    "    }\n",
    "    imprvCut = ifelse(dfMDD$imprv1 >=4, 1, 0)\n",
    "    condition = c('both', 'dep', 'other', 'none')\n",
    "    row = 0\n",
    "    for (j in 1:3){\n",
    "        for (k in (j+1):4){\n",
    "            row = row+1\n",
    "            pairwiseImprv4chi[row, i-1] = \n",
    "            chisq.test(imprvCut[labels == condition[j] | labels == condition[k]], \n",
    "                       labels[labels == condition[j] | labels == condition[k]])$statistic\n",
    "            \n",
    "            pairwiseImprv4p[row, i-1] = \n",
    "            chisq.test(imprvCut[labels == condition[j] | labels == condition[k]], \n",
    "                       labels[labels == condition[j] | labels == condition[k]])$p.value\n",
    "         \n",
    "        }\n",
    "    }\n",
    "    \n",
    "}\n",
    "\n",
    "rownames(pairwiseImprv4chi) = rownames(pairwiseImprv4p) = comp\n",
    "pairwiseImprv4chi\n",
    "pairwiseImprv4p\n",
    "pairwiseImprv4p < 0.05"
   ]
  },
  {
   "cell_type": "code",
   "execution_count": null,
   "id": "military-sherman",
   "metadata": {
    "scrolled": false
   },
   "outputs": [],
   "source": [
    "imprv34MDDvsOthers = matrix(0, ncol = 5, nrow = 5)\n",
    "\n",
    "for (j in 2:length(facets)){\n",
    "    facet = facets[j]\n",
    "    preDepScore = dfMDD[,grep(paste0('pre_dsym$'), colnames(dfMDD))]\n",
    "    postDepScore = dfMDD[,grep(paste0('post_dsym$'), colnames(dfMDD))]\n",
    "    depRep = ifelse((preDepScore - postDepScore) > 0.5*preDepScore, 1, 0)\n",
    "    \n",
    "    preOtherScore = dfMDD[,grep(paste0('pre_', facet,'$'), colnames(dfMDD))]\n",
    "    postOtherScore = dfMDD[,grep(paste0('post_', facet,'$'), colnames(dfMDD))]\n",
    "    otherRep = ifelse((preOtherScore - postOtherScore) > 0.5*preOtherScore, 1, 0)\n",
    "    \n",
    "    labels = c()\n",
    "    for (i in 1:nrow(dfMDD)){\n",
    "        if (depRep[i] == 1 & otherRep[i] == 1) labels[i] = 'both'\n",
    "        if (depRep[i] == 1 & otherRep[i] == 0) labels[i] = 'dep'\n",
    "        if (depRep[i] == 0 & otherRep[i] == 1) labels[i] = 'other'\n",
    "        if (depRep[i] == 0 & otherRep[i] == 0) labels[i] = 'none'\n",
    "    }\n",
    "\n",
    "    \n",
    "    imprv34MDDvsOthers[1,j-1] = paste0(\n",
    "        round(sum(dfMDD$imprv1[labels == 'both'] >=3)/sum(labels == 'both')*100,2), '% (',\n",
    "        sum(labels == 'both'), ')')\n",
    "    \n",
    "    imprv34MDDvsOthers[2,j-1] = paste0(\n",
    "        round(sum(dfMDD$imprv1[labels == 'dep'] >=3)/sum(labels == 'dep')*100,2), '% (',\n",
    "        sum(labels == 'dep'), ')')\n",
    "    \n",
    "    imprv34MDDvsOthers[3,j-1] = paste0(\n",
    "        round(sum(dfMDD$imprv1[labels == 'other'] >=3)/sum(labels == 'other')*100,2), '% (',\n",
    "        sum(labels == 'other'), ')')\n",
    "    \n",
    "    imprv34MDDvsOthers[4,j-1] = paste0(\n",
    "        round(sum(dfMDD$imprv1[labels == 'none'] >=3)/sum(labels == 'none')*100,2), '% (',\n",
    "        sum(labels == 'none'), ')')\n",
    "    \n",
    "    imprvCut = ifelse(dfMDD$imprv1 >= 3, 1, 0)\n",
    "        \n",
    "    chiRes = chisq.test(imprvCut, labels)\n",
    "    \n",
    "    imprv34MDDvsOthers[5,j-1] = paste0('X2(', chiRes$parameter,') = ', round(chiRes$statistic,2), ', p = ', round(chiRes$p.value,3))\n",
    "    \n",
    "    \n",
    "}\n",
    "\n",
    "imprv34MDDvsOthers = as.data.frame(imprv34MDDvsOthers)\n",
    "rownames(imprv34MDDvsOthers) = c('Both', 'Dep', 'Other', 'None', 'ANOVA')\n",
    "colnames(imprv34MDDvsOthers) = facets[2:6]\n",
    "write.csv(imprv34MDDvsOthers, '../Results/imprv34MDDvsOthers.csv')\n",
    "imprv34MDDvsOthers\n",
    "\n",
    "comp = c('both-dep', 'both-other', 'both-none', 'dep-other', 'dep-none', 'other-none')\n",
    "pairwiseImprv34chi = pairwiseImprv34p = matrix(0, nrow = 6, ncol = 5)\n",
    "\n",
    "for (i in 2:length(facets)){\n",
    "    facet = facets[i]\n",
    "    preDepScore = dfMDD[,grep(paste0('pre_dsym$'), colnames(dfMDD))]\n",
    "    postDepScore = dfMDD[,grep(paste0('post_dsym$'), colnames(dfMDD))]\n",
    "    depRep = ifelse((preDepScore - postDepScore) > 0.5*preDepScore, 1, 0)\n",
    "    \n",
    "    preOtherScore = dfMDD[,grep(paste0('pre_', facet,'$'), colnames(dfMDD))]\n",
    "    postOtherScore = dfMDD[,grep(paste0('post_', facet,'$'), colnames(dfMDD))]\n",
    "    otherRep = ifelse((preOtherScore - postOtherScore) > 0.5*preOtherScore, 1, 0)\n",
    "    \n",
    "    labels = c()\n",
    "    for (m in 1:nrow(dfMDD)){\n",
    "        if (depRep[m] == 1 & otherRep[m] == 1) labels[m] = 'both'\n",
    "        if (depRep[m] == 1 & otherRep[m] == 0) labels[m] = 'dep'\n",
    "        if (depRep[m] == 0 & otherRep[m] == 1) labels[m] = 'other'\n",
    "        if (depRep[m] == 0 & otherRep[m] == 0) labels[m] = 'none'\n",
    "    }\n",
    "    imprvCut = ifelse(dfMDD$imprv1 >=3, 1, 0)\n",
    "    condition = c('both', 'dep', 'other', 'none')\n",
    "    row = 0\n",
    "    for (j in 1:3){\n",
    "        for (k in (j+1):4){\n",
    "            row = row+1\n",
    "            pairwiseImprv34chi[row, i-1] = \n",
    "            chisq.test(imprvCut[labels == condition[j] | labels == condition[k]], \n",
    "                       labels[labels == condition[j] | labels == condition[k]])$statistic\n",
    "            \n",
    "            pairwiseImprv34p[row, i-1] = \n",
    "            chisq.test(imprvCut[labels == condition[j] | labels == condition[k]], \n",
    "                       labels[labels == condition[j] | labels == condition[k]])$p.value\n",
    "         \n",
    "        }\n",
    "    }\n",
    "    \n",
    "}\n",
    "\n",
    "rownames(pairwiseImprv34chi) = rownames(pairwiseImprv34p) = comp\n",
    "round(pairwiseImprv34chi,2)\n",
    "round(pairwiseImprv34p,3)\n",
    "pairwiseImprv34p < 0.05"
   ]
  },
  {
   "cell_type": "code",
   "execution_count": null,
   "id": "boxed-highlight",
   "metadata": {},
   "outputs": [],
   "source": [
    " chisq.test(imprvCut[labels == condition[j] | labels == condition[k]], \n",
    "                       labels[labels == condition[j] | labels == condition[k]])"
   ]
  },
  {
   "cell_type": "code",
   "execution_count": null,
   "id": "pharmaceutical-genesis",
   "metadata": {},
   "outputs": [],
   "source": [
    "dfMDD$change_dsym_sum = dfMDD$post_dsym_sum - dfMDD$pre_dsym_sum\n",
    "dfMDD$change_ndsym_sum = dfMDD$post_ndsym_sum - dfMDD$pre_ndsym_sum\n",
    "dfMDD$change_cope_r_sum = dfMDD$post_cope_r_sum - dfMDD$pre_cope_r_sum\n",
    "dfMDD$change_pmh_r_sum = dfMDD$post_pmh_r_sum - dfMDD$pre_pmh_r_sum\n",
    "dfMDD$change_fun_r_sum = dfMDD$post_fun_r_sum - dfMDD$pre_fun_r_sum\n",
    "dfMDD$change_well_r_sum = dfMDD$post_well_r_sum - dfMDD$pre_well_r_sum\n",
    "\n",
    "library(lm.beta)\n",
    "regModel = lm(imprv1~change_dsym_sum + change_ndsym_sum + change_cope_r_sum + change_pmh_r_sum + change_fun_r_sum + change_well_r_sum, dfMDD)\n",
    "write.csv(summary(lm.beta(regModel))$coefficients, '../Results/ImprvOnRDQ.csv')\n",
    "summary(lm.beta(regModel))"
   ]
  },
  {
   "cell_type": "code",
   "execution_count": null,
   "id": "binary-problem",
   "metadata": {},
   "outputs": [],
   "source": [
    "dfMDD$imprv_cut4 = ifelse(dfMDD$imprv1 == 4, 1, 0)\n",
    "dfMDD$imprv_cut3or4 = ifelse(dfMDD$imprv1 >= 3, 1, 0)\n",
    "dfMDD$dsym_resp = ifelse((dfMDD$pre_dsym - dfMDD$post_dsym) > 0.5*dfMDD$pre_dsym, 1, 0)\n",
    "dfMDD$ndsym_resp = ifelse((dfMDD$pre_ndsym - dfMDD$post_ndsym) > 0.5*dfMDD$pre_ndsym, 1, 0)\n",
    "dfMDD$cope_resp = ifelse((dfMDD$pre_cope_r - dfMDD$post_cope_r) > 0.5*dfMDD$pre_cope_r, 1, 0)\n",
    "dfMDD$pmh_resp = ifelse((dfMDD$pre_pmh_r - dfMDD$post_pmh_r) > 0.5*dfMDD$pre_pmh_r, 1, 0)\n",
    "dfMDD$fun_resp = ifelse((dfMDD$pre_fun_r - dfMDD$post_fun_r) > 0.5*dfMDD$pre_fun_r, 1, 0)\n",
    "dfMDD$well_resp = ifelse((dfMDD$pre_well_r - dfMDD$post_well_r) > 0.5*dfMDD$pre_well_r, 1, 0)"
   ]
  },
  {
   "cell_type": "code",
   "execution_count": null,
   "id": "twelve-curtis",
   "metadata": {},
   "outputs": [],
   "source": [
    "\n",
    "glm4 = glm(imprv_cut4 ~ dsym_resp + ndsym_resp + cope_resp + pmh_resp + fun_resp + well_resp, \n",
    "    data = dfMDD, family = \"binomial\")\n",
    "\n",
    "summary(glm4)$coefficients\n",
    "\n",
    "glm34 = glm(imprv_cut3or4 ~ dsym_resp + ndsym_resp + cope_resp + pmh_resp + fun_resp + well_resp, \n",
    "    data = dfMDD, family = \"binomial\")\n",
    "summary(glm34)$coefficients"
   ]
  },
  {
   "cell_type": "code",
   "execution_count": null,
   "id": "south-winter",
   "metadata": {},
   "outputs": [],
   "source": [
    "pR2(glm4)['McFadden']\n",
    "pR2(glm34)['McFadden']"
   ]
  },
  {
   "cell_type": "code",
   "execution_count": null,
   "id": "latin-louis",
   "metadata": {},
   "outputs": [],
   "source": [
    "glm4_dep = glm(imprv_cut4 ~ dsym_resp, data = dfMDD, family = \"binomial\")\n",
    "glm34_dep = glm(imprv_cut3or4 ~ dsym_resp, data = dfMDD, family = \"binomial\")\n",
    "pR2(glm4_dep)['McFadden']\n",
    "pR2(glm34_dep)['McFadden']"
   ]
  },
  {
   "cell_type": "code",
   "execution_count": null,
   "id": "understood-holder",
   "metadata": {},
   "outputs": [],
   "source": [
    "pR2(glm4)['McFadden']- pR2(glm4_dep)['McFadden']"
   ]
  },
  {
   "cell_type": "code",
   "execution_count": null,
   "id": "textile-bacteria",
   "metadata": {},
   "outputs": [],
   "source": [
    "glm34_nonsym = glm(imprv_cut3or4 ~ ndsym_resp + cope_resp + pmh_resp + fun_resp + well_resp, data = dfMDD, family = \"binomial\")\n",
    "pR2(glm34_nonsym)['McFadden']"
   ]
  },
  {
   "cell_type": "code",
   "execution_count": null,
   "id": "better-spirituality",
   "metadata": {},
   "outputs": [],
   "source": [
    "glm34_nonsym = glm(imprv_cut3or4 ~ cope_resp + pmh_resp + fun_resp + well_resp, data = dfMDD, family = \"binomial\")\n",
    "pR2(glm34_nonsym)['McFadden']"
   ]
  },
  {
   "cell_type": "code",
   "execution_count": null,
   "id": "encouraging-kuwait",
   "metadata": {},
   "outputs": [],
   "source": [
    "glm34_nonsym = glm(imprv_cut3or4 ~ cope_resp + pmh_resp + fun_resp + well_resp, data = dfMDD, family = \"binomial\")\n",
    "pR2(glm34_nonsym)['McFadden']"
   ]
  },
  {
   "cell_type": "code",
   "execution_count": null,
   "id": "numerous-story",
   "metadata": {},
   "outputs": [],
   "source": [
    "glm34_nonsym = glm(imprv_cut3or4 ~ ndsym_resp + cope_resp + pmh_resp + fun_resp + well_resp, data = dfMDD, family = \"binomial\")\n",
    "pR2(glm34_nonsym)['McFadden']"
   ]
  },
  {
   "cell_type": "code",
   "execution_count": null,
   "id": "suburban-funeral",
   "metadata": {},
   "outputs": [],
   "source": [
    "0.226957616066754 - 0.220526817154156"
   ]
  },
  {
   "cell_type": "code",
   "execution_count": null,
   "id": "focal-eugene",
   "metadata": {},
   "outputs": [],
   "source": [
    "glm34_nonsym = glm(imprv_cut3or4 ~ dsym_resp + ndsym_resp + cope_resp + pmh_resp + fun_resp + well_resp, data = dfMDD, family = \"binomial\")\n",
    "pR2(glm34_nonsym)['McFadden']"
   ]
  },
  {
   "cell_type": "code",
   "execution_count": null,
   "id": "prerequisite-making",
   "metadata": {},
   "outputs": [],
   "source": [
    " 0.245059315754482 - 0.226957616066754"
   ]
  },
  {
   "cell_type": "code",
   "execution_count": null,
   "id": "banned-velvet",
   "metadata": {},
   "outputs": [],
   "source": []
  }
 ],
 "metadata": {
  "kernelspec": {
   "display_name": "R",
   "language": "R",
   "name": "ir"
  },
  "language_info": {
   "codemirror_mode": "r",
   "file_extension": ".r",
   "mimetype": "text/x-r-source",
   "name": "R",
   "pygments_lexer": "r",
   "version": "3.6.3"
  }
 },
 "nbformat": 4,
 "nbformat_minor": 5
}
