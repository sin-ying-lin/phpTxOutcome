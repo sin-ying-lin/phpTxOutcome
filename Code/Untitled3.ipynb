{
 "cells": [
  {
   "cell_type": "code",
   "execution_count": null,
   "id": "utility-hampton",
   "metadata": {},
   "outputs": [],
   "source": [
    "import pandas as pd\n",
    "from dfply import *\n",
    "import numpy as np\n",
    "from plotnine import *\n",
    "import statsmodels.api as sm\n",
    "from statsmodels.formula.api import ols\n",
    "from scipy.stats import ttest_ind"
   ]
  },
  {
   "cell_type": "code",
   "execution_count": null,
   "id": "forbidden-contest",
   "metadata": {},
   "outputs": [],
   "source": [
    "•                     Demographic data\n",
    "\n",
    "•                     # days in treatment\n",
    "\n",
    "•                     RDQ – admission and discharge\n",
    "\n",
    "•                     Program evaluation form\n",
    "\n",
    "·                     Self-reported improvement rating item\n",
    "\n",
    "•                     DX for BPD"
   ]
  },
  {
   "cell_type": "code",
   "execution_count": null,
   "id": "painful-litigation",
   "metadata": {},
   "outputs": [],
   "source": [
    "#RDQ: Different Types of Treatment Outcomes\n",
    "rdqPre = pd.read_spss('../Data/PrePostMeasures/RDQPre_1.sav') #Pre-treatment\n",
    "rdqPost = pd.read_spss('../Data/PrePostMeasures/RDQPost_1.sav') #Post-treatment\n",
    "\n",
    "#Discharge Package: Patient perceived satisfaction & Improvement \n",
    "satOld = pd.read_spss('../Data/PHPSatisfaction/EndofTreatmentSurveyData/EOT Verfication_1.sav')#Old data before 2020\n",
    "satNew = pd.read_spss('../Data/DischargePacket/2022-06-06 dc.sav') #New data after 2020\n",
    "#We swtiched the platform for data collection in 2020 so we have two separate datasets\n",
    "\n",
    "#Diagnosis\n",
    "dx = pd.read_spss('../Data/DemosDx/Diagnosis_1.sav') \n",
    "\n",
    "#Demographicsb\n",
    "demo = pd.read_spss('../Data/DemosDx/Demographics Form_1.sav')\n",
    "\n",
    "#log\n",
    "log = pd.read_spss('../Data/DemosDx/Tx Day Consent Log_1.sav')"
   ]
  },
  {
   "cell_type": "code",
   "execution_count": null,
   "id": "compliant-vessel",
   "metadata": {},
   "outputs": [],
   "source": [
    "#Rename variables to ensure consistency between the old and new datasets of the global rating of improvement\n",
    "satGlobalOld = satOld.loc[:,['PHP_ID_1', 'IMPRV_1']].rename(columns = {'PHP_ID_1': 'ID1','IMPRV_1': 'imprv1'})\n",
    "satGlobalNew = satNew.loc[:,['id1', 'imprv_1']].rename(columns = {'id1': 'ID1','imprv_1': 'imprv1'})\n",
    "\n",
    "#Merge old and new discharge package (i.e., overall satisfaction/improvement) datasets\n",
    "imprv = pd.concat([satGlobalOld, satGlobalNew],axis = 0) #Use concact to merge data by columns\n",
    "imprv = imprv[imprv.ID1 != 0] #Remove invalid IDs\n",
    "imprv.ID1 = imprv.ID1.astype('object') #Change ID type from float to object"
   ]
  },
  {
   "cell_type": "code",
   "execution_count": null,
   "id": "cognitive-repair",
   "metadata": {},
   "outputs": [],
   "source": []
  }
 ],
 "metadata": {
  "kernelspec": {
   "display_name": "Python 3",
   "language": "python",
   "name": "python3"
  },
  "language_info": {
   "codemirror_mode": {
    "name": "ipython",
    "version": 3
   },
   "file_extension": ".py",
   "mimetype": "text/x-python",
   "name": "python",
   "nbconvert_exporter": "python",
   "pygments_lexer": "ipython3",
   "version": "3.8.5"
  }
 },
 "nbformat": 4,
 "nbformat_minor": 5
}
