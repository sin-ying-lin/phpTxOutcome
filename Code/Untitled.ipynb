{
 "cells": [
  {
   "cell_type": "code",
   "execution_count": null,
   "id": "temporal-disclosure",
   "metadata": {},
   "outputs": [],
   "source": [
    "read.csv('../Data/DailyMeasures/CUDOS_1.sav')"
   ]
  }
 ],
 "metadata": {
  "kernelspec": {
   "display_name": "R",
   "language": "R",
   "name": "ir"
  },
  "language_info": {
   "codemirror_mode": "r",
   "file_extension": ".r",
   "mimetype": "text/x-r-source",
   "name": "R",
   "pygments_lexer": "r",
   "version": "3.6.3"
  }
 },
 "nbformat": 4,
 "nbformat_minor": 5
}
