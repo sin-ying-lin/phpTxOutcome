{
 "cells": [
  {
   "cell_type": "code",
   "execution_count": 342,
   "id": "offshore-blank",
   "metadata": {},
   "outputs": [],
   "source": [
    "import pandas as pd\n",
    "pd.options.mode.chained_assignment = None  # default='warn'\n",
    "from dfply import *\n",
    "import numpy as np"
   ]
  },
  {
   "cell_type": "code",
   "execution_count": 150,
   "id": "configured-pattern",
   "metadata": {},
   "outputs": [],
   "source": [
    "df = pd.read_csv('../Data/df_satisfaction_rdq_dx_demo.csv', low_memory=False)\n"
   ]
  },
  {
   "cell_type": "code",
   "execution_count": 152,
   "id": "talented-dietary",
   "metadata": {},
   "outputs": [],
   "source": [
    "dfMDD = df[df.mddsnp_1.str.contains('Curr, Prin') | df.mddrnp_1.str.contains('Curr, Prin')]"
   ]
  },
  {
   "cell_type": "code",
   "execution_count": 183,
   "id": "naval-winning",
   "metadata": {
    "scrolled": true
   },
   "outputs": [],
   "source": [
    "dfMDD.loc[:,('pre_dsym')] = dfMDD.filter(regex='rdqpre_[1-9]_|rdqpre_1[0-4]_').mean(axis = 1)\n",
    "dfMDD['pre_ndsym'] = dfMDD.filter(regex='rdqpre_1[5-9]_|rdqpre_2[0-5]_').mean(axis = 1)\n",
    "dfMDD['post_dsym'] = dfMDD.filter(regex='rdqpost_[1-9]_|rdqpost_1[0-4]_').mean(axis = 1)\n",
    "dfMDD['post_ndsym'] = dfMDD.filter(regex='rdqpost_1[5-9]_|rdqpost_2[0-5]_').mean(axis = 1)"
   ]
  },
  {
   "cell_type": "code",
   "execution_count": 185,
   "id": "spiritual-powell",
   "metadata": {},
   "outputs": [],
   "source": [
    "labels = ['dsym', 'ndsym', 'cope', 'pmh', 'fun', 'well']\n",
    "for label in labels:\n",
    "    dfMDD['change_'+ label] = dfMDD.filter(regex='^post_'+label).squeeze() - dfMDD.filter(regex='^pre_'+label).squeeze()\n",
    "\n",
    "\n",
    "dfMDD.change_dsym = dfMDD.change_dsym*(-1)\n",
    "dfMDD.change_ndsym = dfMDD.change_ndsym*(-1)\n",
    "dfMDD.to_csv('../Data/dfMDD_satisfaction_rdq_dx_demo.csv')"
   ]
  },
  {
   "cell_type": "code",
   "execution_count": 186,
   "id": "advance-delicious",
   "metadata": {},
   "outputs": [
    {
     "name": "stdout",
     "output_type": "stream",
     "text": [
      "Number of People with Signifiacnt Depressive Symptom Reduction: 672 \n",
      " Number of People with Signifiacnt Non-Depressive Symptom Reduction: 628 \n",
      " Number of People with Signifiacnt Coping Improvement: 607 \n",
      " Number of People with Signifiacnt Positve Mental Health Improvement: 668 \n",
      " Number of People with Signifiacnt Functioning Improvement: 569 \n",
      " Number of People with Signifiacnt Well-Being Improvement: 715\n"
     ]
    }
   ],
   "source": [
    "print(\n",
    "    'Number of People with Signifiacnt Depressive Symptom Reduction:', sum(dfMDD.change_dsym >= 0.5), '\\n',\n",
    "    'Number of People with Signifiacnt Non-Depressive Symptom Reduction:', sum(dfMDD.change_ndsym >= 0.5), '\\n',\n",
    "    'Number of People with Signifiacnt Coping Improvement:', sum(dfMDD.change_cope >= 0.5), '\\n',\n",
    "    'Number of People with Signifiacnt Positve Mental Health Improvement:', sum(dfMDD.change_pmh >= 0.5), '\\n',\n",
    "    'Number of People with Signifiacnt Functioning Improvement:', sum(dfMDD.change_fun >= 0.5), '\\n',\n",
    "    'Number of People with Signifiacnt Well-Being Improvement:', sum(dfMDD.change_well >= 0.5))"
   ]
  },
  {
   "cell_type": "code",
   "execution_count": 197,
   "id": "technical-wisconsin",
   "metadata": {},
   "outputs": [],
   "source": [
    "cut = 0.5\n",
    "for label in labels:\n",
    "    dfMDD['change_'+label+'_cut'] = dfMDD['change_'+label] >= 0.5\n",
    "    dfMDD['change_'+label+'_cut'] = dfMDD['change_'+label+'_cut'].replace({True: 1, False: 0}).astype('category')"
   ]
  },
  {
   "cell_type": "code",
   "execution_count": 373,
   "id": "instructional-closer",
   "metadata": {},
   "outputs": [],
   "source": [
    "contingencyTable = pd.crosstab(dfMDD['change_dsym_cut'], dfMDD['change_'+label+'_cut'])\n",
    "percentageTable = pd.crosstab(dfMDD['change_dsym_cut'], dfMDD['change_'+label+'_cut'], normalize='all')\n",
    "    \n",
    "for label in labels[2:]:\n",
    "    contingencyTable = pd.concat([contingencyTable, pd.crosstab(dfMDD['change_dsym_cut'], \n",
    "                                                                dfMDD['change_'+label+'_cut'])], axis = 1)\n",
    "    percentageTable = pd.concat([percentageTable, pd.crosstab(dfMDD['change_dsym_cut'], \n",
    "                                                                dfMDD['change_'+label+'_cut'],\n",
    "                                                              normalize='all')], axis = 1)\n"
   ]
  },
  {
   "cell_type": "code",
   "execution_count": 374,
   "id": "likely-background",
   "metadata": {
    "scrolled": true
   },
   "outputs": [],
   "source": [
    "category = [0,1]*5\n",
    "contingencylabel = np.repeat(labels[1:],2)\n",
    "namelist = []\n",
    "for i in range(10):\n",
    "    namelist.append(contingencylabel[i] +' '+str(category[i]) )\n",
    "    \n",
    "contingencyTable.columns = namelist\n",
    "percentageTable.columns = namelist  "
   ]
  },
  {
   "cell_type": "code",
   "execution_count": 375,
   "id": "cardiac-cathedral",
   "metadata": {},
   "outputs": [
    {
     "data": {
      "text/html": [
       "<div>\n",
       "<style scoped>\n",
       "    .dataframe tbody tr th:only-of-type {\n",
       "        vertical-align: middle;\n",
       "    }\n",
       "\n",
       "    .dataframe tbody tr th {\n",
       "        vertical-align: top;\n",
       "    }\n",
       "\n",
       "    .dataframe thead th {\n",
       "        text-align: right;\n",
       "    }\n",
       "</style>\n",
       "<table border=\"1\" class=\"dataframe\">\n",
       "  <thead>\n",
       "    <tr style=\"text-align: right;\">\n",
       "      <th></th>\n",
       "      <th>ndsym 0</th>\n",
       "      <th>ndsym 1</th>\n",
       "      <th>cope 0</th>\n",
       "      <th>cope 1</th>\n",
       "      <th>pmh 0</th>\n",
       "      <th>pmh 1</th>\n",
       "      <th>fun 0</th>\n",
       "      <th>fun 1</th>\n",
       "      <th>well 0</th>\n",
       "      <th>well 1</th>\n",
       "    </tr>\n",
       "    <tr>\n",
       "      <th>change_dsym_cut</th>\n",
       "      <th></th>\n",
       "      <th></th>\n",
       "      <th></th>\n",
       "      <th></th>\n",
       "      <th></th>\n",
       "      <th></th>\n",
       "      <th></th>\n",
       "      <th></th>\n",
       "      <th></th>\n",
       "      <th></th>\n",
       "    </tr>\n",
       "  </thead>\n",
       "  <tbody>\n",
       "    <tr>\n",
       "      <th>0</th>\n",
       "      <td>355</td>\n",
       "      <td>176</td>\n",
       "      <td>378</td>\n",
       "      <td>153</td>\n",
       "      <td>388</td>\n",
       "      <td>143</td>\n",
       "      <td>398</td>\n",
       "      <td>133</td>\n",
       "      <td>355</td>\n",
       "      <td>176</td>\n",
       "    </tr>\n",
       "    <tr>\n",
       "      <th>1</th>\n",
       "      <td>133</td>\n",
       "      <td>539</td>\n",
       "      <td>218</td>\n",
       "      <td>454</td>\n",
       "      <td>147</td>\n",
       "      <td>525</td>\n",
       "      <td>236</td>\n",
       "      <td>436</td>\n",
       "      <td>133</td>\n",
       "      <td>539</td>\n",
       "    </tr>\n",
       "  </tbody>\n",
       "</table>\n",
       "</div>"
      ],
      "text/plain": [
       "                 ndsym 0  ndsym 1  cope 0  cope 1  pmh 0  pmh 1  fun 0  fun 1  \\\n",
       "change_dsym_cut                                                                 \n",
       "0                    355      176     378     153    388    143    398    133   \n",
       "1                    133      539     218     454    147    525    236    436   \n",
       "\n",
       "                 well 0  well 1  \n",
       "change_dsym_cut                  \n",
       "0                   355     176  \n",
       "1                   133     539  "
      ]
     },
     "execution_count": 375,
     "metadata": {},
     "output_type": "execute_result"
    }
   ],
   "source": [
    "contingencyTable"
   ]
  },
  {
   "cell_type": "code",
   "execution_count": 376,
   "id": "noble-deposit",
   "metadata": {},
   "outputs": [
    {
     "data": {
      "text/html": [
       "<div>\n",
       "<style scoped>\n",
       "    .dataframe tbody tr th:only-of-type {\n",
       "        vertical-align: middle;\n",
       "    }\n",
       "\n",
       "    .dataframe tbody tr th {\n",
       "        vertical-align: top;\n",
       "    }\n",
       "\n",
       "    .dataframe thead th {\n",
       "        text-align: right;\n",
       "    }\n",
       "</style>\n",
       "<table border=\"1\" class=\"dataframe\">\n",
       "  <thead>\n",
       "    <tr style=\"text-align: right;\">\n",
       "      <th></th>\n",
       "      <th>ndsym 0</th>\n",
       "      <th>ndsym 1</th>\n",
       "      <th>cope 0</th>\n",
       "      <th>cope 1</th>\n",
       "      <th>pmh 0</th>\n",
       "      <th>pmh 1</th>\n",
       "      <th>fun 0</th>\n",
       "      <th>fun 1</th>\n",
       "      <th>well 0</th>\n",
       "      <th>well 1</th>\n",
       "    </tr>\n",
       "    <tr>\n",
       "      <th>change_dsym_cut</th>\n",
       "      <th></th>\n",
       "      <th></th>\n",
       "      <th></th>\n",
       "      <th></th>\n",
       "      <th></th>\n",
       "      <th></th>\n",
       "      <th></th>\n",
       "      <th></th>\n",
       "      <th></th>\n",
       "      <th></th>\n",
       "    </tr>\n",
       "  </thead>\n",
       "  <tbody>\n",
       "    <tr>\n",
       "      <th>0</th>\n",
       "      <td>0.295096</td>\n",
       "      <td>0.146301</td>\n",
       "      <td>0.314214</td>\n",
       "      <td>0.127182</td>\n",
       "      <td>0.322527</td>\n",
       "      <td>0.118869</td>\n",
       "      <td>0.330840</td>\n",
       "      <td>0.110557</td>\n",
       "      <td>0.295096</td>\n",
       "      <td>0.146301</td>\n",
       "    </tr>\n",
       "    <tr>\n",
       "      <th>1</th>\n",
       "      <td>0.110557</td>\n",
       "      <td>0.448047</td>\n",
       "      <td>0.181214</td>\n",
       "      <td>0.377390</td>\n",
       "      <td>0.122195</td>\n",
       "      <td>0.436409</td>\n",
       "      <td>0.196176</td>\n",
       "      <td>0.362427</td>\n",
       "      <td>0.110557</td>\n",
       "      <td>0.448047</td>\n",
       "    </tr>\n",
       "  </tbody>\n",
       "</table>\n",
       "</div>"
      ],
      "text/plain": [
       "                  ndsym 0   ndsym 1    cope 0    cope 1     pmh 0     pmh 1  \\\n",
       "change_dsym_cut                                                               \n",
       "0                0.295096  0.146301  0.314214  0.127182  0.322527  0.118869   \n",
       "1                0.110557  0.448047  0.181214  0.377390  0.122195  0.436409   \n",
       "\n",
       "                    fun 0     fun 1    well 0    well 1  \n",
       "change_dsym_cut                                          \n",
       "0                0.330840  0.110557  0.295096  0.146301  \n",
       "1                0.196176  0.362427  0.110557  0.448047  "
      ]
     },
     "execution_count": 376,
     "metadata": {},
     "output_type": "execute_result"
    }
   ],
   "source": [
    "percentageTable"
   ]
  },
  {
   "cell_type": "markdown",
   "id": "czech-stadium",
   "metadata": {},
   "source": []
  },
  {
   "cell_type": "code",
   "execution_count": 290,
   "id": "comic-undergraduate",
   "metadata": {},
   "outputs": [
    {
     "data": {
      "text/plain": [
       "'|                    |   0 |\\n|:-------------------|----:|\\n| (1, 1, 1, 1, 1, 1) | 257 |\\n| (0, 0, 0, 0, 0, 0) | 199 |\\n| (1, 1, 0, 1, 1, 1) |  51 |\\n| (1, 1, 1, 1, 0, 1) |  47 |\\n| (1, 0, 1, 1, 1, 1) |  47 |\\n| (0, 1, 0, 0, 0, 0) |  34 |\\n| (0, 0, 1, 0, 0, 0) |  33 |\\n| (1, 1, 0, 1, 0, 1) |  30 |\\n| (0, 0, 0, 0, 0, 1) |  29 |\\n| (1, 1, 0, 0, 0, 0) |  26 |\\n| (0, 0, 0, 0, 1, 0) |  25 |\\n| (0, 0, 1, 1, 1, 1) |  25 |\\n| (0, 0, 0, 1, 0, 0) |  20 |\\n| (0, 1, 1, 1, 1, 1) |  17 |\\n| (1, 0, 1, 1, 0, 1) |  16 |\\n| (1, 0, 0, 0, 0, 0) |  16 |\\n| (0, 0, 0, 1, 0, 1) |  16 |\\n| (1, 1, 0, 0, 0, 1) |  15 |\\n| (1, 1, 1, 0, 0, 0) |  15 |\\n| (1, 0, 0, 1, 1, 1) |  13 |\\n| (0, 0, 0, 1, 1, 1) |  12 |\\n| (0, 0, 1, 0, 0, 1) |  12 |\\n| (0, 0, 1, 1, 0, 1) |  12 |\\n| (1, 1, 1, 1, 1, 0) |  11 |\\n| (1, 0, 0, 1, 0, 1) |  11 |\\n| (1, 1, 1, 0, 1, 1) |  11 |\\n| (1, 1, 1, 0, 0, 1) |  11 |\\n| (0, 0, 0, 0, 1, 1) |  10 |\\n| (1, 1, 0, 1, 0, 0) |  10 |\\n| (1, 0, 1, 0, 0, 0) |   9 |\\n| (1, 0, 1, 0, 1, 1) |   9 |\\n| (1, 0, 0, 1, 0, 0) |   9 |\\n| (0, 1, 1, 1, 0, 1) |   8 |\\n| (1, 1, 0, 1, 1, 0) |   8 |\\n| (1, 1, 0, 0, 1, 0) |   7 |\\n| (0, 0, 1, 0, 1, 1) |   7 |\\n| (1, 1, 1, 1, 0, 0) |   7 |\\n| (0, 1, 0, 0, 0, 1) |   7 |\\n| (1, 0, 0, 0, 0, 1) |   7 |\\n| (0, 1, 1, 0, 0, 0) |   7 |\\n| (0, 1, 1, 0, 1, 1) |   6 |\\n| (0, 0, 0, 1, 1, 0) |   6 |\\n| (1, 1, 0, 0, 1, 1) |   6 |\\n| (1, 0, 0, 0, 1, 1) |   5 |\\n| (0, 1, 0, 1, 0, 0) |   5 |\\n| (0, 0, 1, 0, 1, 0) |   5 |\\n| (0, 1, 1, 1, 1, 0) |   5 |\\n| (0, 1, 0, 1, 0, 1) |   5 |\\n| (0, 1, 0, 0, 1, 0) |   4 |\\n| (1, 0, 1, 1, 0, 0) |   4 |\\n| (0, 1, 0, 0, 1, 1) |   4 |\\n| (0, 0, 1, 1, 0, 0) |   4 |\\n| (0, 1, 1, 0, 0, 1) |   4 |\\n| (1, 1, 1, 0, 1, 0) |   3 |\\n| (0, 0, 1, 1, 1, 0) |   3 |\\n| (1, 0, 1, 0, 0, 1) |   3 |\\n| (0, 1, 1, 1, 0, 0) |   3 |\\n| (0, 1, 1, 0, 1, 0) |   2 |\\n| (0, 1, 0, 1, 1, 1) |   2 |\\n| (1, 0, 1, 1, 1, 0) |   2 |\\n| (1, 0, 0, 0, 1, 0) |   2 |\\n| (1, 0, 1, 0, 1, 0) |   2 |\\n| (1, 0, 0, 1, 1, 0) |   2 |'"
      ]
     },
     "execution_count": 290,
     "metadata": {},
     "output_type": "execute_result"
    }
   ],
   "source": [
    "dfMDD.filter(regex= 'change_('+'|'.join(map(str, labels)) +')_cut').value_counts().to_markdown()"
   ]
  },
  {
   "cell_type": "code",
   "execution_count": 288,
   "id": "civic-crowd",
   "metadata": {},
   "outputs": [
    {
     "data": {
      "text/plain": [
       "6       1\n",
       "7       1\n",
       "14      0\n",
       "15      0\n",
       "17      0\n",
       "       ..\n",
       "2679    0\n",
       "2680    1\n",
       "2682    0\n",
       "2683    0\n",
       "2684    0\n",
       "Name: change_dsym_cut, Length: 1203, dtype: category\n",
       "Categories (2, int64): [0, 1]"
      ]
     },
     "execution_count": 288,
     "metadata": {},
     "output_type": "execute_result"
    }
   ],
   "source": [
    "dfMDD.change_dsym_cut"
   ]
  },
  {
   "cell_type": "code",
   "execution_count": 250,
   "id": "corresponding-departure",
   "metadata": {},
   "outputs": [
    {
     "data": {
      "text/plain": [
       "'change_[ndsym|cope|pmh|fun|well]_cut'"
      ]
     },
     "execution_count": 250,
     "metadata": {},
     "output_type": "execute_result"
    }
   ],
   "source": [
    "'change_['+' +']_cut'\n",
    "\n",
    "\n",
    "|'.join(map(str, labels[1:]))"
   ]
  }
 ],
 "metadata": {
  "kernelspec": {
   "display_name": "Python 3",
   "language": "python",
   "name": "python3"
  },
  "language_info": {
   "codemirror_mode": {
    "name": "ipython",
    "version": 3
   },
   "file_extension": ".py",
   "mimetype": "text/x-python",
   "name": "python",
   "nbconvert_exporter": "python",
   "pygments_lexer": "ipython3",
   "version": "3.8.5"
  }
 },
 "nbformat": 4,
 "nbformat_minor": 5
}
