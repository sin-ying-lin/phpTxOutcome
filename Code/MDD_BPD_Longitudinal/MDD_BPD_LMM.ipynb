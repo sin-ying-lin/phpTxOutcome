{
 "cells": [
  {
   "cell_type": "code",
   "execution_count": 100,
   "id": "suitable-citizen",
   "metadata": {},
   "outputs": [],
   "source": [
    "#Load Pacakges\n",
    "library('foreign')\n",
    "library('dplyr')\n",
    "library('lme4')\n",
    "library('nlme')\n",
    "library(lmerTest)\n",
    "library(ltm)\n",
    "library(performance)"
   ]
  },
  {
   "cell_type": "code",
   "execution_count": 101,
   "id": "musical-concept",
   "metadata": {
    "scrolled": true
   },
   "outputs": [
    {
     "name": "stderr",
     "output_type": "stream",
     "text": [
      "Warning message in read.spss(\"../../Data/DemosDx/Diagnosis_1.sav\", to.data.frame = T):\n",
      "“../../Data/DemosDx/Diagnosis_1.sav: Long string value labels record found (record type 7, subtype 21), but ignored”\n",
      "Warning message in read.spss(\"../../Data/DemosDx/Diagnosis_1.sav\", to.data.frame = T):\n",
      "“Undeclared level(s) 22 added in variable: eatnos_1”\n",
      "Warning message in read.spss(\"../../Data/DemosDx/Diagnosis_1.sav\", to.data.frame = T):\n",
      "“Undeclared level(s) 10 added in variable: addhpr_1”\n"
     ]
    }
   ],
   "source": [
    "#Load Data\n",
    "dfLong = read.csv('../../Data/daily_dfLong.csv')\n",
    "dx = read.spss('../../Data/DemosDx/Diagnosis_1.sav',to.data.frame = T)\n"
   ]
  },
  {
   "cell_type": "code",
   "execution_count": 102,
   "id": "innocent-solution",
   "metadata": {},
   "outputs": [],
   "source": [
    "dx$comorbidity = \n",
    "dx[,5:124] %>%\n",
    "dplyr::select(-contains('nos'))%>%\n",
    "mutate_all(~ifelse(grepl('Curr',.),1, 0)) %>%\n",
    "rowSums()"
   ]
  },
  {
   "cell_type": "code",
   "execution_count": 103,
   "id": "declared-continuity",
   "metadata": {},
   "outputs": [],
   "source": [
    "#Find people with MDD as their principle diagnoses\n",
    "dx_mddPrin = \n",
    "dx %>%\n",
    "filter(grepl('Prin',mddsp_1)|grepl('Prin',mddsnp_1)|grepl('Prin', mddrp_1)|grepl('Prin',mddrnp_1))%>%\n",
    "mutate(bpd = ifelse(grepl('Curr', bord_1), 1, 0))"
   ]
  },
  {
   "cell_type": "code",
   "execution_count": 104,
   "id": "excess-factory",
   "metadata": {
    "scrolled": true
   },
   "outputs": [
    {
     "data": {
      "text/html": [
       "<table class=\"dataframe\">\n",
       "<caption>A data.frame: 109 × 2</caption>\n",
       "<thead>\n",
       "\t<tr><th></th><th scope=col>names.rank.</th><th scope=col>rank</th></tr>\n",
       "\t<tr><th></th><th scope=col>&lt;fct&gt;</th><th scope=col>&lt;dbl&gt;</th></tr>\n",
       "</thead>\n",
       "<tbody>\n",
       "\t<tr><th scope=row>mddrnp_1</th><td>mddrnp_1</td><td>2706</td></tr>\n",
       "\t<tr><th scope=row>gad4_1</th><td>gad4_1  </td><td>1603</td></tr>\n",
       "\t<tr><th scope=row>ptsd4_1</th><td>ptsd4_1 </td><td> 999</td></tr>\n",
       "\t<tr><th scope=row>bord_1</th><td>bord_1  </td><td> 672</td></tr>\n",
       "\t<tr><th scope=row>socal4_1</th><td>socal4_1</td><td> 670</td></tr>\n",
       "\t<tr><th scope=row>mddsnp_1</th><td>mddsnp_1</td><td> 361</td></tr>\n",
       "\t<tr><th scope=row>dysth_1</th><td>dysth_1 </td><td> 352</td></tr>\n",
       "\t<tr><th scope=row>pda_1</th><td>pda_1   </td><td> 339</td></tr>\n",
       "\t<tr><th scope=row>panic_1</th><td>panic_1 </td><td> 299</td></tr>\n",
       "\t<tr><th scope=row>etohab_1</th><td>etohab_1</td><td> 261</td></tr>\n",
       "\t<tr><th scope=row>mjab_1</th><td>mjab_1  </td><td> 261</td></tr>\n",
       "\t<tr><th scope=row>addatt_1</th><td>addatt_1</td><td> 225</td></tr>\n",
       "\t<tr><th scope=row>addcom_1</th><td>addcom_1</td><td> 175</td></tr>\n",
       "\t<tr><th scope=row>ocd4_1</th><td>ocd4_1  </td><td> 159</td></tr>\n",
       "\t<tr><th scope=row>subpts_1</th><td>subpts_1</td><td> 148</td></tr>\n",
       "\t<tr><th scope=row>mddrp_1</th><td>mddrp_1 </td><td> 143</td></tr>\n",
       "\t<tr><th scope=row>spec4_1</th><td>spec4_1 </td><td> 133</td></tr>\n",
       "\t<tr><th scope=row>etohdp_1</th><td>etohdp_1</td><td> 125</td></tr>\n",
       "\t<tr><th scope=row>mjdep_1</th><td>mjdep_1 </td><td>  90</td></tr>\n",
       "\t<tr><th scope=row>binge_1</th><td>binge_1 </td><td>  85</td></tr>\n",
       "\t<tr><th scope=row>anxoth_1</th><td>anxoth_1</td><td>  79</td></tr>\n",
       "\t<tr><th scope=row>subgad_1</th><td>subgad_1</td><td>  65</td></tr>\n",
       "\t<tr><th scope=row>ied_1</th><td>ied_1   </td><td>  38</td></tr>\n",
       "\t<tr><th scope=row>bdd_1</th><td>bdd_1   </td><td>  35</td></tr>\n",
       "\t<tr><th scope=row>awopd_1</th><td>awopd_1 </td><td>  34</td></tr>\n",
       "\t<tr><th scope=row>trich_1</th><td>trich_1 </td><td>  33</td></tr>\n",
       "\t<tr><th scope=row>cbuy_1</th><td>cbuy_1  </td><td>  33</td></tr>\n",
       "\t<tr><th scope=row>mddsp_1</th><td>mddsp_1 </td><td>  29</td></tr>\n",
       "\t<tr><th scope=row>subpan_1</th><td>subpan_1</td><td>  27</td></tr>\n",
       "\t<tr><th scope=row>cokeab_1</th><td>cokeab_1</td><td>  25</td></tr>\n",
       "\t<tr><th scope=row>⋮</th><td>⋮</td><td>⋮</td></tr>\n",
       "\t<tr><th scope=row>zoid_1</th><td>zoid_1  </td><td>2</td></tr>\n",
       "\t<tr><th scope=row>delus_1</th><td>delus_1 </td><td>1</td></tr>\n",
       "\t<tr><th scope=row>gmcful_1</th><td>gmcful_1</td><td>1</td></tr>\n",
       "\t<tr><th scope=row>bp2dep_1</th><td>bp2dep_1</td><td>1</td></tr>\n",
       "\t<tr><th scope=row>ocdm_1</th><td>ocdm_1  </td><td>1</td></tr>\n",
       "\t<tr><th scope=row>ptsdm_1</th><td>ptsdm_1 </td><td>1</td></tr>\n",
       "\t<tr><th scope=row>para_1</th><td>para_1  </td><td>1</td></tr>\n",
       "\t<tr><th scope=row>anti_1</th><td>anti_1  </td><td>1</td></tr>\n",
       "\t<tr><th scope=row>narc_1</th><td>narc_1  </td><td>1</td></tr>\n",
       "\t<tr><th scope=row>haldep_1</th><td>haldep_1</td><td>0</td></tr>\n",
       "\t<tr><th scope=row>inhdep_1</th><td>inhdep_1</td><td>0</td></tr>\n",
       "\t<tr><th scope=row>pcpab_1</th><td>pcpab_1 </td><td>0</td></tr>\n",
       "\t<tr><th scope=row>pcpdep_1</th><td>pcpdep_1</td><td>0</td></tr>\n",
       "\t<tr><th scope=row>z_1</th><td>z_1     </td><td>0</td></tr>\n",
       "\t<tr><th scope=row>zform_1</th><td>zform_1 </td><td>0</td></tr>\n",
       "\t<tr><th scope=row>adjcnd_1</th><td>adjcnd_1</td><td>0</td></tr>\n",
       "\t<tr><th scope=row>adjun_1</th><td>adjun_1 </td><td>0</td></tr>\n",
       "\t<tr><th scope=row>gmcprt_1</th><td>gmcprt_1</td><td>0</td></tr>\n",
       "\t<tr><th scope=row>bp1hyp_1</th><td>bp1hyp_1</td><td>0</td></tr>\n",
       "\t<tr><th scope=row>bp1man_1</th><td>bp1man_1</td><td>0</td></tr>\n",
       "\t<tr><th scope=row>bp1mix_1</th><td>bp1mix_1</td><td>0</td></tr>\n",
       "\t<tr><th scope=row>bp1dpp_1</th><td>bp1dpp_1</td><td>0</td></tr>\n",
       "\t<tr><th scope=row>bp1dnp_1</th><td>bp1dnp_1</td><td>0</td></tr>\n",
       "\t<tr><th scope=row>bp2hyp_1</th><td>bp2hyp_1</td><td>0</td></tr>\n",
       "\t<tr><th scope=row>bp2mix_1</th><td>bp2mix_1</td><td>0</td></tr>\n",
       "\t<tr><th scope=row>bpmod_1</th><td>bpmod_1 </td><td>0</td></tr>\n",
       "\t<tr><th scope=row>cyclo_1</th><td>cyclo_1 </td><td>0</td></tr>\n",
       "\t<tr><th scope=row>specm_1</th><td>specm_1 </td><td>0</td></tr>\n",
       "\t<tr><th scope=row>pyro_1</th><td>pyro_1  </td><td>0</td></tr>\n",
       "\t<tr><th scope=row>condct_1</th><td>condct_1</td><td>0</td></tr>\n",
       "</tbody>\n",
       "</table>\n"
      ],
      "text/latex": [
       "A data.frame: 109 × 2\n",
       "\\begin{tabular}{r|ll}\n",
       "  & names.rank. & rank\\\\\n",
       "  & <fct> & <dbl>\\\\\n",
       "\\hline\n",
       "\tmddrnp\\_1 & mddrnp\\_1 & 2706\\\\\n",
       "\tgad4\\_1 & gad4\\_1   & 1603\\\\\n",
       "\tptsd4\\_1 & ptsd4\\_1  &  999\\\\\n",
       "\tbord\\_1 & bord\\_1   &  672\\\\\n",
       "\tsocal4\\_1 & socal4\\_1 &  670\\\\\n",
       "\tmddsnp\\_1 & mddsnp\\_1 &  361\\\\\n",
       "\tdysth\\_1 & dysth\\_1  &  352\\\\\n",
       "\tpda\\_1 & pda\\_1    &  339\\\\\n",
       "\tpanic\\_1 & panic\\_1  &  299\\\\\n",
       "\tetohab\\_1 & etohab\\_1 &  261\\\\\n",
       "\tmjab\\_1 & mjab\\_1   &  261\\\\\n",
       "\taddatt\\_1 & addatt\\_1 &  225\\\\\n",
       "\taddcom\\_1 & addcom\\_1 &  175\\\\\n",
       "\tocd4\\_1 & ocd4\\_1   &  159\\\\\n",
       "\tsubpts\\_1 & subpts\\_1 &  148\\\\\n",
       "\tmddrp\\_1 & mddrp\\_1  &  143\\\\\n",
       "\tspec4\\_1 & spec4\\_1  &  133\\\\\n",
       "\tetohdp\\_1 & etohdp\\_1 &  125\\\\\n",
       "\tmjdep\\_1 & mjdep\\_1  &   90\\\\\n",
       "\tbinge\\_1 & binge\\_1  &   85\\\\\n",
       "\tanxoth\\_1 & anxoth\\_1 &   79\\\\\n",
       "\tsubgad\\_1 & subgad\\_1 &   65\\\\\n",
       "\tied\\_1 & ied\\_1    &   38\\\\\n",
       "\tbdd\\_1 & bdd\\_1    &   35\\\\\n",
       "\tawopd\\_1 & awopd\\_1  &   34\\\\\n",
       "\ttrich\\_1 & trich\\_1  &   33\\\\\n",
       "\tcbuy\\_1 & cbuy\\_1   &   33\\\\\n",
       "\tmddsp\\_1 & mddsp\\_1  &   29\\\\\n",
       "\tsubpan\\_1 & subpan\\_1 &   27\\\\\n",
       "\tcokeab\\_1 & cokeab\\_1 &   25\\\\\n",
       "\t⋮ & ⋮ & ⋮\\\\\n",
       "\tzoid\\_1 & zoid\\_1   & 2\\\\\n",
       "\tdelus\\_1 & delus\\_1  & 1\\\\\n",
       "\tgmcful\\_1 & gmcful\\_1 & 1\\\\\n",
       "\tbp2dep\\_1 & bp2dep\\_1 & 1\\\\\n",
       "\tocdm\\_1 & ocdm\\_1   & 1\\\\\n",
       "\tptsdm\\_1 & ptsdm\\_1  & 1\\\\\n",
       "\tpara\\_1 & para\\_1   & 1\\\\\n",
       "\tanti\\_1 & anti\\_1   & 1\\\\\n",
       "\tnarc\\_1 & narc\\_1   & 1\\\\\n",
       "\thaldep\\_1 & haldep\\_1 & 0\\\\\n",
       "\tinhdep\\_1 & inhdep\\_1 & 0\\\\\n",
       "\tpcpab\\_1 & pcpab\\_1  & 0\\\\\n",
       "\tpcpdep\\_1 & pcpdep\\_1 & 0\\\\\n",
       "\tz\\_1 & z\\_1      & 0\\\\\n",
       "\tzform\\_1 & zform\\_1  & 0\\\\\n",
       "\tadjcnd\\_1 & adjcnd\\_1 & 0\\\\\n",
       "\tadjun\\_1 & adjun\\_1  & 0\\\\\n",
       "\tgmcprt\\_1 & gmcprt\\_1 & 0\\\\\n",
       "\tbp1hyp\\_1 & bp1hyp\\_1 & 0\\\\\n",
       "\tbp1man\\_1 & bp1man\\_1 & 0\\\\\n",
       "\tbp1mix\\_1 & bp1mix\\_1 & 0\\\\\n",
       "\tbp1dpp\\_1 & bp1dpp\\_1 & 0\\\\\n",
       "\tbp1dnp\\_1 & bp1dnp\\_1 & 0\\\\\n",
       "\tbp2hyp\\_1 & bp2hyp\\_1 & 0\\\\\n",
       "\tbp2mix\\_1 & bp2mix\\_1 & 0\\\\\n",
       "\tbpmod\\_1 & bpmod\\_1  & 0\\\\\n",
       "\tcyclo\\_1 & cyclo\\_1  & 0\\\\\n",
       "\tspecm\\_1 & specm\\_1  & 0\\\\\n",
       "\tpyro\\_1 & pyro\\_1   & 0\\\\\n",
       "\tcondct\\_1 & condct\\_1 & 0\\\\\n",
       "\\end{tabular}\n"
      ],
      "text/markdown": [
       "\n",
       "A data.frame: 109 × 2\n",
       "\n",
       "| <!--/--> | names.rank. &lt;fct&gt; | rank &lt;dbl&gt; |\n",
       "|---|---|---|\n",
       "| mddrnp_1 | mddrnp_1 | 2706 |\n",
       "| gad4_1 | gad4_1   | 1603 |\n",
       "| ptsd4_1 | ptsd4_1  |  999 |\n",
       "| bord_1 | bord_1   |  672 |\n",
       "| socal4_1 | socal4_1 |  670 |\n",
       "| mddsnp_1 | mddsnp_1 |  361 |\n",
       "| dysth_1 | dysth_1  |  352 |\n",
       "| pda_1 | pda_1    |  339 |\n",
       "| panic_1 | panic_1  |  299 |\n",
       "| etohab_1 | etohab_1 |  261 |\n",
       "| mjab_1 | mjab_1   |  261 |\n",
       "| addatt_1 | addatt_1 |  225 |\n",
       "| addcom_1 | addcom_1 |  175 |\n",
       "| ocd4_1 | ocd4_1   |  159 |\n",
       "| subpts_1 | subpts_1 |  148 |\n",
       "| mddrp_1 | mddrp_1  |  143 |\n",
       "| spec4_1 | spec4_1  |  133 |\n",
       "| etohdp_1 | etohdp_1 |  125 |\n",
       "| mjdep_1 | mjdep_1  |   90 |\n",
       "| binge_1 | binge_1  |   85 |\n",
       "| anxoth_1 | anxoth_1 |   79 |\n",
       "| subgad_1 | subgad_1 |   65 |\n",
       "| ied_1 | ied_1    |   38 |\n",
       "| bdd_1 | bdd_1    |   35 |\n",
       "| awopd_1 | awopd_1  |   34 |\n",
       "| trich_1 | trich_1  |   33 |\n",
       "| cbuy_1 | cbuy_1   |   33 |\n",
       "| mddsp_1 | mddsp_1  |   29 |\n",
       "| subpan_1 | subpan_1 |   27 |\n",
       "| cokeab_1 | cokeab_1 |   25 |\n",
       "| ⋮ | ⋮ | ⋮ |\n",
       "| zoid_1 | zoid_1   | 2 |\n",
       "| delus_1 | delus_1  | 1 |\n",
       "| gmcful_1 | gmcful_1 | 1 |\n",
       "| bp2dep_1 | bp2dep_1 | 1 |\n",
       "| ocdm_1 | ocdm_1   | 1 |\n",
       "| ptsdm_1 | ptsdm_1  | 1 |\n",
       "| para_1 | para_1   | 1 |\n",
       "| anti_1 | anti_1   | 1 |\n",
       "| narc_1 | narc_1   | 1 |\n",
       "| haldep_1 | haldep_1 | 0 |\n",
       "| inhdep_1 | inhdep_1 | 0 |\n",
       "| pcpab_1 | pcpab_1  | 0 |\n",
       "| pcpdep_1 | pcpdep_1 | 0 |\n",
       "| z_1 | z_1      | 0 |\n",
       "| zform_1 | zform_1  | 0 |\n",
       "| adjcnd_1 | adjcnd_1 | 0 |\n",
       "| adjun_1 | adjun_1  | 0 |\n",
       "| gmcprt_1 | gmcprt_1 | 0 |\n",
       "| bp1hyp_1 | bp1hyp_1 | 0 |\n",
       "| bp1man_1 | bp1man_1 | 0 |\n",
       "| bp1mix_1 | bp1mix_1 | 0 |\n",
       "| bp1dpp_1 | bp1dpp_1 | 0 |\n",
       "| bp1dnp_1 | bp1dnp_1 | 0 |\n",
       "| bp2hyp_1 | bp2hyp_1 | 0 |\n",
       "| bp2mix_1 | bp2mix_1 | 0 |\n",
       "| bpmod_1 | bpmod_1  | 0 |\n",
       "| cyclo_1 | cyclo_1  | 0 |\n",
       "| specm_1 | specm_1  | 0 |\n",
       "| pyro_1 | pyro_1   | 0 |\n",
       "| condct_1 | condct_1 | 0 |\n",
       "\n"
      ],
      "text/plain": [
       "         names.rank. rank\n",
       "mddrnp_1 mddrnp_1    2706\n",
       "gad4_1   gad4_1      1603\n",
       "ptsd4_1  ptsd4_1      999\n",
       "bord_1   bord_1       672\n",
       "socal4_1 socal4_1     670\n",
       "mddsnp_1 mddsnp_1     361\n",
       "dysth_1  dysth_1      352\n",
       "pda_1    pda_1        339\n",
       "panic_1  panic_1      299\n",
       "etohab_1 etohab_1     261\n",
       "mjab_1   mjab_1       261\n",
       "addatt_1 addatt_1     225\n",
       "addcom_1 addcom_1     175\n",
       "ocd4_1   ocd4_1       159\n",
       "subpts_1 subpts_1     148\n",
       "mddrp_1  mddrp_1      143\n",
       "spec4_1  spec4_1      133\n",
       "etohdp_1 etohdp_1     125\n",
       "mjdep_1  mjdep_1       90\n",
       "binge_1  binge_1       85\n",
       "anxoth_1 anxoth_1      79\n",
       "subgad_1 subgad_1      65\n",
       "ied_1    ied_1         38\n",
       "bdd_1    bdd_1         35\n",
       "awopd_1  awopd_1       34\n",
       "trich_1  trich_1       33\n",
       "cbuy_1   cbuy_1        33\n",
       "mddsp_1  mddsp_1       29\n",
       "subpan_1 subpan_1      27\n",
       "cokeab_1 cokeab_1      25\n",
       "⋮        ⋮           ⋮   \n",
       "zoid_1   zoid_1      2   \n",
       "delus_1  delus_1     1   \n",
       "gmcful_1 gmcful_1    1   \n",
       "bp2dep_1 bp2dep_1    1   \n",
       "ocdm_1   ocdm_1      1   \n",
       "ptsdm_1  ptsdm_1     1   \n",
       "para_1   para_1      1   \n",
       "anti_1   anti_1      1   \n",
       "narc_1   narc_1      1   \n",
       "haldep_1 haldep_1    0   \n",
       "inhdep_1 inhdep_1    0   \n",
       "pcpab_1  pcpab_1     0   \n",
       "pcpdep_1 pcpdep_1    0   \n",
       "z_1      z_1         0   \n",
       "zform_1  zform_1     0   \n",
       "adjcnd_1 adjcnd_1    0   \n",
       "adjun_1  adjun_1     0   \n",
       "gmcprt_1 gmcprt_1    0   \n",
       "bp1hyp_1 bp1hyp_1    0   \n",
       "bp1man_1 bp1man_1    0   \n",
       "bp1mix_1 bp1mix_1    0   \n",
       "bp1dpp_1 bp1dpp_1    0   \n",
       "bp1dnp_1 bp1dnp_1    0   \n",
       "bp2hyp_1 bp2hyp_1    0   \n",
       "bp2mix_1 bp2mix_1    0   \n",
       "bpmod_1  bpmod_1     0   \n",
       "cyclo_1  cyclo_1     0   \n",
       "specm_1  specm_1     0   \n",
       "pyro_1   pyro_1      0   \n",
       "condct_1 condct_1    0   "
      ]
     },
     "metadata": {},
     "output_type": "display_data"
    }
   ],
   "source": [
    "#Find most prevalent cormorbid disorders\n",
    "rank = \n",
    "dx_mddPrin[,5:124] %>%\n",
    "dplyr::select(-contains('nos'))%>%\n",
    "mutate_all(~ifelse(grepl('Curr',.),1, 0)) %>%\n",
    "colSums()\n",
    "\n",
    "dx_rank = data.frame(names(rank),  rank)\n",
    "dx_rank[order(dx_rank$rank,decreasing = T),]"
   ]
  },
  {
   "cell_type": "code",
   "execution_count": 105,
   "id": "bronze-mission",
   "metadata": {},
   "outputs": [
    {
     "data": {
      "text/html": [
       "1667"
      ],
      "text/latex": [
       "1667"
      ],
      "text/markdown": [
       "1667"
      ],
      "text/plain": [
       "[1] 1667"
      ]
     },
     "metadata": {},
     "output_type": "display_data"
    }
   ],
   "source": [
    "#Merge daily data with dx\n",
    "dfLongMDD = merge(dfLong, dx_mddPrin, by = 'ID1',all = F,no.dups = TRUE)\n",
    "\n",
    "dfLongMDD = dfLongMDD[order(dfLongMDD$ID1, dfLongMDD$day),]\n",
    "length(unique(dfLongMDD$ID)) #1667\n"
   ]
  },
  {
   "cell_type": "code",
   "execution_count": 181,
   "id": "appointed-simple",
   "metadata": {},
   "outputs": [],
   "source": [
    "#Only included patients' records of their first admission\n",
    "dfLongMDD_firstAdmit = dfLongMDD[is.na(dfLongMDD$Prev_AdmitID_1),]\n",
    "\n",
    "dfLongMDD = dfLongMDD[is.na(dfLongMDD$Prev_AdmitID_1),]"
   ]
  },
  {
   "cell_type": "code",
   "execution_count": 184,
   "id": "renewable-cleveland",
   "metadata": {},
   "outputs": [],
   "source": [
    "#First sessino info\n",
    "first_session = \n",
    "dfLongMDD %>%\n",
    "    group_by(ID1) %>%\n",
    "    filter(row_number() == 1) %>%\n",
    "    ungroup()\n",
    "\n",
    "#First sessino info\n",
    "first_session_firstAdmit = \n",
    "dfLongMDD_firstAdmit %>%\n",
    "    group_by(ID1) %>%\n",
    "    filter(row_number() == 1) %>%\n",
    "    ungroup()"
   ]
  },
  {
   "cell_type": "code",
   "execution_count": 185,
   "id": "aging-mountain",
   "metadata": {
    "scrolled": true
   },
   "outputs": [
    {
     "data": {
      "text/plain": [
       "\n",
       "                                                      0 \n",
       "                                                      0 \n",
       "                                                     11 \n",
       "                                                     14 \n",
       "                                                     12 \n",
       "                                                      6 \n",
       "Inappropriate (language)/Referred to another tx setting \n",
       "                                                      9 \n",
       "                           Insurance no longer covering \n",
       "                                                     12 \n",
       "                                          Nonattendance \n",
       "                                                    123 \n",
       "                                                  Other \n",
       "                                                     21 \n",
       "                                    Other_duplicated_10 \n",
       "                                                      5 \n",
       "                 Reported dissatisfaction, withdrew AMA \n",
       "                                                     33 \n",
       "                               Transferred to inpatient \n",
       "                                                     17 \n",
       "                                     Treatment Complete \n",
       "                                                    689 \n",
       "                              Treatment nearly complete \n",
       "                                                     34 \n",
       "                   Withdrew due to external limitations \n",
       "                                                     68 "
      ]
     },
     "metadata": {},
     "output_type": "display_data"
    },
    {
     "data": {
      "text/plain": [
       "\n",
       "                                                      0 \n",
       "                                              0.0000000 \n",
       "                                                     11 \n",
       "                                              1.3579049 \n",
       "                                                     12 \n",
       "                                              0.5819593 \n",
       "Inappropriate (language)/Referred to another tx setting \n",
       "                                              0.8729389 \n",
       "                           Insurance no longer covering \n",
       "                                              1.1639185 \n",
       "                                          Nonattendance \n",
       "                                             11.9301649 \n",
       "                                                  Other \n",
       "                                              2.0368574 \n",
       "                                    Other_duplicated_10 \n",
       "                                              0.4849661 \n",
       "                 Reported dissatisfaction, withdrew AMA \n",
       "                                              3.2007759 \n",
       "                               Transferred to inpatient \n",
       "                                              1.6488846 \n",
       "                                     Treatment Complete \n",
       "                                             66.8283220 \n",
       "                              Treatment nearly complete \n",
       "                                              3.2977692 \n",
       "                   Withdrew due to external limitations \n",
       "                                              6.5955383 "
      ]
     },
     "metadata": {},
     "output_type": "display_data"
    },
    {
     "data": {
      "text/plain": [
       "\n",
       "                                                      0 \n",
       "                                                      0 \n",
       "                                                     11 \n",
       "                                                     14 \n",
       "                                                     12 \n",
       "                                                      6 \n",
       "Inappropriate (language)/Referred to another tx setting \n",
       "                                                      9 \n",
       "                           Insurance no longer covering \n",
       "                                                     12 \n",
       "                                          Nonattendance \n",
       "                                                    123 \n",
       "                                                  Other \n",
       "                                                     21 \n",
       "                                    Other_duplicated_10 \n",
       "                                                      5 \n",
       "                 Reported dissatisfaction, withdrew AMA \n",
       "                                                     33 \n",
       "                               Transferred to inpatient \n",
       "                                                     17 \n",
       "                                     Treatment Complete \n",
       "                                                    689 \n",
       "                              Treatment nearly complete \n",
       "                                                     34 \n",
       "                   Withdrew due to external limitations \n",
       "                                                     68 "
      ]
     },
     "metadata": {},
     "output_type": "display_data"
    },
    {
     "data": {
      "text/plain": [
       "\n",
       "                                                      0 \n",
       "                                              0.0000000 \n",
       "                                                     11 \n",
       "                                              1.3579049 \n",
       "                                                     12 \n",
       "                                              0.5819593 \n",
       "Inappropriate (language)/Referred to another tx setting \n",
       "                                              0.8729389 \n",
       "                           Insurance no longer covering \n",
       "                                              1.1639185 \n",
       "                                          Nonattendance \n",
       "                                             11.9301649 \n",
       "                                                  Other \n",
       "                                              2.0368574 \n",
       "                                    Other_duplicated_10 \n",
       "                                              0.4849661 \n",
       "                 Reported dissatisfaction, withdrew AMA \n",
       "                                              3.2007759 \n",
       "                               Transferred to inpatient \n",
       "                                              1.6488846 \n",
       "                                     Treatment Complete \n",
       "                                             66.8283220 \n",
       "                              Treatment nearly complete \n",
       "                                              3.2977692 \n",
       "                   Withdrew due to external limitations \n",
       "                                              6.5955383 "
      ]
     },
     "metadata": {},
     "output_type": "display_data"
    }
   ],
   "source": [
    "#Examine Treatment Completion Rate\n",
    "table(first_session$DC_status_1) #Treatment Complete N = 1087\n",
    "table(first_session$DC_status_1)/nrow(first_session)*100 #65.21%\n",
    "\n",
    "#Examine Treatment Completion Rate\n",
    "table(first_session_firstAdmit$DC_status_1) #Treatment Complete N = 689\n",
    "table(first_session_firstAdmit$DC_status_1)/nrow(first_session_firstAdmit)*100 #66.83%"
   ]
  },
  {
   "cell_type": "code",
   "execution_count": 186,
   "id": "alert-timing",
   "metadata": {
    "scrolled": true
   },
   "outputs": [
    {
     "data": {
      "text/plain": [
       "                                                         \n",
       "                                                            0   1\n",
       "  0                                                         0   0\n",
       "  11                                                        8   6\n",
       "  12                                                        4   2\n",
       "  Inappropriate (language)/Referred to another tx setting   7   2\n",
       "  Insurance no longer covering                              9   3\n",
       "  Nonattendance                                            98  25\n",
       "  Other                                                    20   1\n",
       "  Other_duplicated_10                                       4   1\n",
       "  Reported dissatisfaction, withdrew AMA                   29   4\n",
       "  Transferred to inpatient                                 11   6\n",
       "  Treatment Complete                                      606  83\n",
       "  Treatment nearly complete                                30   4\n",
       "  Withdrew due to external limitations                     59   9"
      ]
     },
     "metadata": {},
     "output_type": "display_data"
    },
    {
     "data": {
      "text/plain": [
       "            \n",
       "               0   1\n",
       "  Complete   606  83\n",
       "  Incomplete 279  63"
      ]
     },
     "metadata": {},
     "output_type": "display_data"
    },
    {
     "data": {
      "text/plain": [
       "\n",
       "Call:\n",
       "glm(formula = ifelse(first_session$DC_status_1 == \"Treatment Complete\", \n",
       "    1, 0) ~ first_session$bpd, family = \"binomial\")\n",
       "\n",
       "Deviance Residuals: \n",
       "    Min       1Q   Median       3Q      Max  \n",
       "-1.5195  -1.5195   0.8703   0.8703   1.0628  \n",
       "\n",
       "Coefficients:\n",
       "                  Estimate Std. Error z value Pr(>|z|)    \n",
       "(Intercept)        0.77567    0.07235  10.721  < 2e-16 ***\n",
       "first_session$bpd -0.49996    0.18209  -2.746  0.00604 ** \n",
       "---\n",
       "Signif. codes:  0 ‘***’ 0.001 ‘**’ 0.01 ‘*’ 0.05 ‘.’ 0.1 ‘ ’ 1\n",
       "\n",
       "(Dispersion parameter for binomial family taken to be 1)\n",
       "\n",
       "    Null deviance: 1310.2  on 1030  degrees of freedom\n",
       "Residual deviance: 1302.8  on 1029  degrees of freedom\n",
       "AIC: 1306.8\n",
       "\n",
       "Number of Fisher Scoring iterations: 4\n"
      ]
     },
     "metadata": {},
     "output_type": "display_data"
    }
   ],
   "source": [
    "#Treatment Completion Rate by BPD\n",
    "table(first_session$DC_status_1, first_session$bpd)\n",
    "table(ifelse(first_session$DC_status_1 == 'Treatment Complete','Complete','Incomplete'), first_session$bpd)\n",
    "summary(glm(ifelse(first_session$DC_status_1 == 'Treatment Complete',1,0) ~first_session$bpd, family = 'binomial'))"
   ]
  },
  {
   "cell_type": "code",
   "execution_count": 187,
   "id": "negative-understanding",
   "metadata": {
    "scrolled": false
   },
   "outputs": [
    {
     "data": {
      "text/plain": [
       "\n",
       "Call:\n",
       "glm(formula = ifelse(first_session$DC_status_1 == \"Treatment Complete\", \n",
       "    1, 0) ~ first_session$comorbidity, family = \"binomial\")\n",
       "\n",
       "Deviance Residuals: \n",
       "    Min       1Q   Median       3Q      Max  \n",
       "-1.5416  -1.4615   0.8848   0.9012   1.0210  \n",
       "\n",
       "Coefficients:\n",
       "                          Estimate Std. Error z value Pr(>|z|)    \n",
       "(Intercept)                0.82486    0.14066   5.864 4.51e-09 ***\n",
       "first_session$comorbidity -0.04452    0.04416  -1.008    0.313    \n",
       "---\n",
       "Signif. codes:  0 ‘***’ 0.001 ‘**’ 0.01 ‘*’ 0.05 ‘.’ 0.1 ‘ ’ 1\n",
       "\n",
       "(Dispersion parameter for binomial family taken to be 1)\n",
       "\n",
       "    Null deviance: 1310.2  on 1030  degrees of freedom\n",
       "Residual deviance: 1309.2  on 1029  degrees of freedom\n",
       "AIC: 1313.2\n",
       "\n",
       "Number of Fisher Scoring iterations: 4\n"
      ]
     },
     "metadata": {},
     "output_type": "display_data"
    }
   ],
   "source": [
    "#Treatment Completion Rate by # of Comorbidities\n",
    "summary(glm(ifelse(first_session$DC_status_1 == 'Treatment Complete',1,0) ~ first_session$comorbidity, family = 'binomial'))\n"
   ]
  },
  {
   "cell_type": "code",
   "execution_count": 188,
   "id": "optical-plate",
   "metadata": {},
   "outputs": [
    {
     "data": {
      "text/html": [
       "<table class=\"dataframe\">\n",
       "<caption>A tibble: 689 × 270</caption>\n",
       "<thead>\n",
       "\t<tr><th scope=col>ID1</th><th scope=col>day</th><th scope=col>dep1</th><th scope=col>dep2</th><th scope=col>dep3</th><th scope=col>dep4</th><th scope=col>dep5</th><th scope=col>dep6</th><th scope=col>dep7</th><th scope=col>dep8</th><th scope=col>⋯</th><th scope=col>adltadd_1</th><th scope=col>condct_1</th><th scope=col>other_1_1</th><th scope=col>other_1_dx_1</th><th scope=col>other_2_1</th><th scope=col>other_2_dx_1</th><th scope=col>other_3_1</th><th scope=col>other_3_dx_1</th><th scope=col>comorbidity</th><th scope=col>bpd</th></tr>\n",
       "\t<tr><th scope=col>&lt;int&gt;</th><th scope=col>&lt;int&gt;</th><th scope=col>&lt;int&gt;</th><th scope=col>&lt;int&gt;</th><th scope=col>&lt;int&gt;</th><th scope=col>&lt;int&gt;</th><th scope=col>&lt;int&gt;</th><th scope=col>&lt;int&gt;</th><th scope=col>&lt;int&gt;</th><th scope=col>&lt;int&gt;</th><th scope=col>⋯</th><th scope=col>&lt;fct&gt;</th><th scope=col>&lt;fct&gt;</th><th scope=col>&lt;fct&gt;</th><th scope=col>&lt;fct&gt;</th><th scope=col>&lt;fct&gt;</th><th scope=col>&lt;fct&gt;</th><th scope=col>&lt;fct&gt;</th><th scope=col>&lt;fct&gt;</th><th scope=col>&lt;dbl&gt;</th><th scope=col>&lt;dbl&gt;</th></tr>\n",
       "</thead>\n",
       "<tbody>\n",
       "\t<tr><td>  6</td><td>0</td><td> 3</td><td> 3</td><td> 4</td><td> 1</td><td> 1</td><td> 2</td><td> 3</td><td> 3</td><td>⋯</td><td>Not present</td><td>Not present</td><td>Not present</td><td>                                                  </td><td>Not present</td><td>                              </td><td>Not present</td><td>                              </td><td>6</td><td>0</td></tr>\n",
       "\t<tr><td> 13</td><td>0</td><td> 3</td><td> 3</td><td> 4</td><td> 1</td><td> 1</td><td> 1</td><td> 1</td><td> 4</td><td>⋯</td><td>Not present</td><td>Not present</td><td>Not present</td><td>                                                  </td><td>Not present</td><td>                              </td><td>Not present</td><td>                              </td><td>2</td><td>0</td></tr>\n",
       "\t<tr><td> 23</td><td>0</td><td> 4</td><td> 4</td><td> 3</td><td> 1</td><td> 4</td><td> 3</td><td> 5</td><td> 3</td><td>⋯</td><td>Not present</td><td>Not present</td><td>Not present</td><td>                                                  </td><td>Not present</td><td>                              </td><td>Not present</td><td>                              </td><td>3</td><td>0</td></tr>\n",
       "\t<tr><td> 29</td><td>0</td><td> 4</td><td> 3</td><td> 5</td><td> 1</td><td> 3</td><td> 1</td><td> 3</td><td> 2</td><td>⋯</td><td>Not present</td><td>Not present</td><td>Not present</td><td>                                                  </td><td>Not present</td><td>                              </td><td>Not present</td><td>                              </td><td>2</td><td>0</td></tr>\n",
       "\t<tr><td> 42</td><td>0</td><td> 5</td><td> 5</td><td> 3</td><td> 2</td><td> 5</td><td> 2</td><td> 3</td><td> 4</td><td>⋯</td><td>Not present</td><td>Not present</td><td>Not present</td><td>                                                  </td><td>Not present</td><td>                              </td><td>Not present</td><td>                              </td><td>3</td><td>0</td></tr>\n",
       "\t<tr><td> 43</td><td>0</td><td> 3</td><td> 3</td><td> 1</td><td> 1</td><td> 3</td><td> 2</td><td> 3</td><td> 2</td><td>⋯</td><td>Not present</td><td>Not present</td><td>Not present</td><td>                                                  </td><td>Not present</td><td>                              </td><td>Not present</td><td>                              </td><td>1</td><td>0</td></tr>\n",
       "\t<tr><td> 44</td><td>0</td><td> 4</td><td> 5</td><td> 5</td><td> 5</td><td> 5</td><td> 1</td><td> 4</td><td> 1</td><td>⋯</td><td>Not present</td><td>Not present</td><td>Not present</td><td>                                                  </td><td>Not present</td><td>                              </td><td>Not present</td><td>                              </td><td>2</td><td>0</td></tr>\n",
       "\t<tr><td> 47</td><td>0</td><td> 1</td><td> 1</td><td> 1</td><td> 1</td><td> 3</td><td> 1</td><td> 1</td><td> 1</td><td>⋯</td><td>Not present</td><td>Not present</td><td>Not present</td><td>                                                  </td><td>Not present</td><td>                              </td><td>Not present</td><td>                              </td><td>3</td><td>0</td></tr>\n",
       "\t<tr><td> 58</td><td>0</td><td> 5</td><td> 4</td><td> 4</td><td> 1</td><td> 5</td><td> 1</td><td> 5</td><td> 3</td><td>⋯</td><td>Not present</td><td>Not present</td><td>Not present</td><td>                                                  </td><td>Not present</td><td>                              </td><td>Not present</td><td>                              </td><td>2</td><td>0</td></tr>\n",
       "\t<tr><td> 64</td><td>0</td><td> 5</td><td> 5</td><td> 1</td><td> 4</td><td> 5</td><td> 5</td><td> 3</td><td> 5</td><td>⋯</td><td>Not present</td><td>Not present</td><td>Curr       </td><td>Cognitive Disorder NOS                            </td><td>Not present</td><td>                              </td><td>Not present</td><td>                              </td><td>1</td><td>0</td></tr>\n",
       "\t<tr><td> 85</td><td>0</td><td> 1</td><td> 1</td><td> 1</td><td> 1</td><td> 1</td><td> 1</td><td> 1</td><td> 1</td><td>⋯</td><td>Not present</td><td>Not present</td><td>Not present</td><td>                                                  </td><td>Not present</td><td>                              </td><td>Not present</td><td>                              </td><td>1</td><td>0</td></tr>\n",
       "\t<tr><td> 89</td><td>1</td><td> 3</td><td> 2</td><td> 1</td><td> 1</td><td> 2</td><td> 2</td><td> 1</td><td> 2</td><td>⋯</td><td>Not present</td><td>Not present</td><td>Not present</td><td>                                                  </td><td>Not present</td><td>                              </td><td>Not present</td><td>                              </td><td>1</td><td>0</td></tr>\n",
       "\t<tr><td> 95</td><td>0</td><td> 3</td><td> 1</td><td> 2</td><td> 2</td><td> 5</td><td> 1</td><td> 1</td><td> 2</td><td>⋯</td><td>Not present</td><td>Not present</td><td>Not present</td><td>                                                  </td><td>Not present</td><td>                              </td><td>Not present</td><td>                              </td><td>0</td><td>0</td></tr>\n",
       "\t<tr><td> 97</td><td>0</td><td> 4</td><td> 4</td><td> 4</td><td> 4</td><td> 5</td><td> 4</td><td> 4</td><td> 3</td><td>⋯</td><td>Not present</td><td>Not present</td><td>Not present</td><td>                                                  </td><td>Not present</td><td>                              </td><td>Not present</td><td>                              </td><td>2</td><td>0</td></tr>\n",
       "\t<tr><td>105</td><td>0</td><td>NA</td><td>NA</td><td>NA</td><td>NA</td><td>NA</td><td>NA</td><td>NA</td><td>NA</td><td>⋯</td><td>Not present</td><td>Not present</td><td>Not present</td><td>                                                  </td><td>Not present</td><td>                              </td><td>Not present</td><td>                              </td><td>1</td><td>0</td></tr>\n",
       "\t<tr><td>108</td><td>0</td><td> 5</td><td> 5</td><td> 5</td><td> 1</td><td> 5</td><td> 1</td><td> 5</td><td> 5</td><td>⋯</td><td>Not present</td><td>Not present</td><td>Not present</td><td>                                                  </td><td>Not present</td><td>                              </td><td>Not present</td><td>                              </td><td>3</td><td>0</td></tr>\n",
       "\t<tr><td>109</td><td>0</td><td>NA</td><td>NA</td><td>NA</td><td>NA</td><td>NA</td><td>NA</td><td>NA</td><td>NA</td><td>⋯</td><td>Not present</td><td>Not present</td><td>Not present</td><td>                                                  </td><td>Not present</td><td>                              </td><td>Not present</td><td>                              </td><td>2</td><td>0</td></tr>\n",
       "\t<tr><td>122</td><td>0</td><td> 5</td><td> 5</td><td> 4</td><td> 1</td><td> 5</td><td> 1</td><td> 3</td><td> 3</td><td>⋯</td><td>Not present</td><td>Not present</td><td>Not present</td><td>                                                  </td><td>Not present</td><td>                              </td><td>Not present</td><td>                              </td><td>1</td><td>0</td></tr>\n",
       "\t<tr><td>126</td><td>0</td><td> 5</td><td> 5</td><td> 5</td><td> 1</td><td> 5</td><td> 1</td><td> 1</td><td> 5</td><td>⋯</td><td>Not present</td><td>Not present</td><td>Not present</td><td>                                                  </td><td>Not present</td><td>                              </td><td>Not present</td><td>                              </td><td>2</td><td>0</td></tr>\n",
       "\t<tr><td>128</td><td>0</td><td> 5</td><td> 4</td><td> 2</td><td> 1</td><td> 4</td><td> 5</td><td> 4</td><td> 4</td><td>⋯</td><td>Not present</td><td>Not present</td><td>Not present</td><td>                                                  </td><td>Not present</td><td>                              </td><td>Not present</td><td>                              </td><td>1</td><td>0</td></tr>\n",
       "\t<tr><td>129</td><td>0</td><td> 5</td><td> 5</td><td> 1</td><td> 5</td><td>NA</td><td> 5</td><td> 1</td><td> 5</td><td>⋯</td><td>Not present</td><td>Not present</td><td>Not present</td><td>                                                  </td><td>Not present</td><td>                              </td><td>Not present</td><td>                              </td><td>2</td><td>0</td></tr>\n",
       "\t<tr><td>134</td><td>0</td><td> 3</td><td> 4</td><td> 2</td><td> 1</td><td> 4</td><td> 1</td><td> 2</td><td> 4</td><td>⋯</td><td>Not present</td><td>Not present</td><td>Not present</td><td>                                                  </td><td>Not present</td><td>                              </td><td>Not present</td><td>                              </td><td>2</td><td>0</td></tr>\n",
       "\t<tr><td>142</td><td>0</td><td> 5</td><td> 3</td><td> 5</td><td> 1</td><td> 5</td><td> 1</td><td> 1</td><td> 3</td><td>⋯</td><td>Not present</td><td>Not present</td><td>Not present</td><td>                                                  </td><td>Not present</td><td>                              </td><td>Not present</td><td>                              </td><td>1</td><td>0</td></tr>\n",
       "\t<tr><td>145</td><td>0</td><td> 5</td><td> 5</td><td> 1</td><td> 1</td><td> 5</td><td> 2</td><td> 3</td><td> 5</td><td>⋯</td><td>Not present</td><td>Not present</td><td>Not present</td><td>                                                  </td><td>Not present</td><td>                              </td><td>Not present</td><td>                              </td><td>3</td><td>0</td></tr>\n",
       "\t<tr><td>159</td><td>0</td><td> 5</td><td> 4</td><td> 2</td><td> 3</td><td> 3</td><td> 4</td><td> 2</td><td> 5</td><td>⋯</td><td>Not present</td><td>Not present</td><td>Not present</td><td>                                                  </td><td>Not present</td><td>                              </td><td>Not present</td><td>                              </td><td>2</td><td>0</td></tr>\n",
       "\t<tr><td>165</td><td>0</td><td> 5</td><td> 5</td><td> 5</td><td> 1</td><td> 5</td><td> 1</td><td> 5</td><td> 5</td><td>⋯</td><td>Not present</td><td>Not present</td><td>Not present</td><td>                                                  </td><td>Not present</td><td>                              </td><td>Not present</td><td>                              </td><td>3</td><td>0</td></tr>\n",
       "\t<tr><td>176</td><td>0</td><td> 5</td><td> 1</td><td> 1</td><td> 5</td><td> 5</td><td> 5</td><td> 5</td><td> 5</td><td>⋯</td><td>Not present</td><td>Not present</td><td>Not present</td><td>                                                  </td><td>Not present</td><td>                              </td><td>Not present</td><td>                              </td><td>3</td><td>0</td></tr>\n",
       "\t<tr><td>189</td><td>0</td><td> 5</td><td> 4</td><td> 4</td><td> 4</td><td> 5</td><td> 1</td><td> 4</td><td> 4</td><td>⋯</td><td>Not present</td><td>Not present</td><td>Not present</td><td>                                                  </td><td>Not present</td><td>                              </td><td>Not present</td><td>                              </td><td>2</td><td>0</td></tr>\n",
       "\t<tr><td>202</td><td>0</td><td> 4</td><td> 5</td><td> 3</td><td> 1</td><td> 4</td><td> 1</td><td> 4</td><td> 4</td><td>⋯</td><td>Not present</td><td>Not present</td><td>Curr       </td><td>Complicated grief                                 </td><td>Not present</td><td>                              </td><td>Not present</td><td>                              </td><td>2</td><td>0</td></tr>\n",
       "\t<tr><td>203</td><td>0</td><td> 5</td><td> 5</td><td> 5</td><td> 1</td><td> 5</td><td> 1</td><td> 5</td><td> 1</td><td>⋯</td><td>Not present</td><td>Not present</td><td>Not present</td><td>                                                  </td><td>Not present</td><td>                              </td><td>Not present</td><td>                              </td><td>4</td><td>0</td></tr>\n",
       "\t<tr><td>⋮</td><td>⋮</td><td>⋮</td><td>⋮</td><td>⋮</td><td>⋮</td><td>⋮</td><td>⋮</td><td>⋮</td><td>⋮</td><td>⋱</td><td>⋮</td><td>⋮</td><td>⋮</td><td>⋮</td><td>⋮</td><td>⋮</td><td>⋮</td><td>⋮</td><td>⋮</td><td>⋮</td></tr>\n",
       "\t<tr><td>5559</td><td>0</td><td> 5</td><td> 5</td><td> 3</td><td> 3</td><td> 4</td><td> 4</td><td> 1</td><td> 1</td><td>⋯</td><td>Not present</td><td>Not present</td><td>Not present</td><td>                                                  </td><td>Not present</td><td>                              </td><td>NA</td><td>                              </td><td>2</td><td>0</td></tr>\n",
       "\t<tr><td>5560</td><td>0</td><td> 5</td><td> 5</td><td> 4</td><td> 3</td><td> 5</td><td> 5</td><td> 5</td><td> 5</td><td>⋯</td><td>Not present</td><td>Not present</td><td>Not present</td><td>                                                  </td><td>Not present</td><td>                              </td><td>NA</td><td>                              </td><td>2</td><td>1</td></tr>\n",
       "\t<tr><td>5576</td><td>0</td><td> 5</td><td> 5</td><td> 5</td><td> 1</td><td> 1</td><td> 1</td><td> 5</td><td> 5</td><td>⋯</td><td>Not present</td><td>Not present</td><td>Curr       </td><td>hoarding                                          </td><td>Not present</td><td>                              </td><td>NA</td><td>                              </td><td>1</td><td>0</td></tr>\n",
       "\t<tr><td>5579</td><td>0</td><td> 4</td><td> 3</td><td> 3</td><td> 1</td><td> 4</td><td> 1</td><td> 2</td><td> 3</td><td>⋯</td><td>Not present</td><td>Not present</td><td>Not present</td><td>                                                  </td><td>Not present</td><td>                              </td><td>NA</td><td>                              </td><td>5</td><td>1</td></tr>\n",
       "\t<tr><td>5587</td><td>0</td><td> 4</td><td>NA</td><td> 1</td><td> 2</td><td> 4</td><td> 1</td><td> 1</td><td> 4</td><td>⋯</td><td>Not present</td><td>Not present</td><td>Not present</td><td>                                                  </td><td>Not present</td><td>                              </td><td>NA</td><td>                              </td><td>2</td><td>0</td></tr>\n",
       "\t<tr><td>5602</td><td>0</td><td> 4</td><td> 3</td><td> 5</td><td> 1</td><td> 4</td><td> 1</td><td> 4</td><td> 4</td><td>⋯</td><td>Not present</td><td>Not present</td><td>Not present</td><td>                                                  </td><td>Not present</td><td>                              </td><td>NA</td><td>                              </td><td>5</td><td>1</td></tr>\n",
       "\t<tr><td>5618</td><td>0</td><td> 5</td><td> 4</td><td> 2</td><td> 1</td><td> 3</td><td> 3</td><td> 2</td><td> 2</td><td>⋯</td><td>Not present</td><td>Not present</td><td>Not present</td><td>                                                  </td><td>Not present</td><td>                              </td><td>NA</td><td>                              </td><td>2</td><td>0</td></tr>\n",
       "\t<tr><td>5627</td><td>0</td><td> 5</td><td> 4</td><td> 4</td><td> 1</td><td> 4</td><td> 4</td><td> 4</td><td> 5</td><td>⋯</td><td>Not present</td><td>Not present</td><td>Not present</td><td>                                                  </td><td>Not present</td><td>                              </td><td>NA</td><td>                              </td><td>3</td><td>1</td></tr>\n",
       "\t<tr><td>5654</td><td>0</td><td> 5</td><td> 5</td><td> 5</td><td> 1</td><td> 5</td><td> 1</td><td> 5</td><td> 5</td><td>⋯</td><td>Not present</td><td>Not present</td><td>Not present</td><td>                                                  </td><td>Not present</td><td>                              </td><td>NA</td><td>                              </td><td>2</td><td>1</td></tr>\n",
       "\t<tr><td>5677</td><td>0</td><td> 4</td><td> 4</td><td> 5</td><td> 1</td><td> 4</td><td> 1</td><td> 5</td><td> 2</td><td>⋯</td><td>Not present</td><td>Not present</td><td>Not present</td><td>                                                  </td><td>Not present</td><td>                              </td><td>NA</td><td>                              </td><td>3</td><td>0</td></tr>\n",
       "\t<tr><td>5696</td><td>0</td><td> 5</td><td> 4</td><td> 3</td><td> 1</td><td> 2</td><td> 1</td><td> 5</td><td> 2</td><td>⋯</td><td>Not present</td><td>Not present</td><td>Not present</td><td>                                                  </td><td>Not present</td><td>                              </td><td>NA</td><td>                              </td><td>4</td><td>0</td></tr>\n",
       "\t<tr><td>5701</td><td>0</td><td> 5</td><td> 4</td><td> 4</td><td> 1</td><td> 5</td><td> 1</td><td> 5</td><td> 4</td><td>⋯</td><td>Not present</td><td>Not present</td><td>Not present</td><td>                                                  </td><td>Not present</td><td>                              </td><td>NA</td><td>                              </td><td>4</td><td>0</td></tr>\n",
       "\t<tr><td>5710</td><td>0</td><td> 5</td><td> 5</td><td> 5</td><td> 1</td><td> 5</td><td> 5</td><td> 2</td><td> 5</td><td>⋯</td><td>Not present</td><td>Not present</td><td>Not present</td><td>                                                  </td><td>Not present</td><td>                              </td><td>NA</td><td>                              </td><td>5</td><td>0</td></tr>\n",
       "\t<tr><td>5713</td><td>0</td><td>NA</td><td>NA</td><td>NA</td><td>NA</td><td>NA</td><td>NA</td><td>NA</td><td>NA</td><td>⋯</td><td>Not present</td><td>Not present</td><td>Not present</td><td>                                                  </td><td>Not present</td><td>                              </td><td>NA</td><td>                              </td><td>2</td><td>0</td></tr>\n",
       "\t<tr><td>5732</td><td>0</td><td>NA</td><td>NA</td><td>NA</td><td>NA</td><td>NA</td><td>NA</td><td>NA</td><td>NA</td><td>⋯</td><td>Not present</td><td>Not present</td><td>Not present</td><td>                                                  </td><td>Not present</td><td>                              </td><td>NA</td><td>                              </td><td>4</td><td>0</td></tr>\n",
       "\t<tr><td>5735</td><td>0</td><td> 3</td><td> 3</td><td> 5</td><td> 1</td><td> 3</td><td> 1</td><td> 1</td><td> 3</td><td>⋯</td><td>Not present</td><td>Not present</td><td>Not present</td><td>                                                  </td><td>Not present</td><td>                              </td><td>NA</td><td>                              </td><td>1</td><td>0</td></tr>\n",
       "\t<tr><td>5754</td><td>0</td><td> 5</td><td> 5</td><td> 1</td><td> 5</td><td> 5</td><td> 1</td><td> 4</td><td> 5</td><td>⋯</td><td>Not present</td><td>Not present</td><td>Not present</td><td>                                                  </td><td>Not present</td><td>                              </td><td>NA</td><td>                              </td><td>4</td><td>0</td></tr>\n",
       "\t<tr><td>5757</td><td>0</td><td> 3</td><td> 4</td><td> 5</td><td> 2</td><td> 5</td><td> 1</td><td>NA</td><td>NA</td><td>⋯</td><td>Not present</td><td>Not present</td><td>Curr       </td><td>autism spectrum disorder                          </td><td>Not present</td><td>                              </td><td>NA</td><td>                              </td><td>2</td><td>0</td></tr>\n",
       "\t<tr><td>5771</td><td>0</td><td> 4</td><td> 4</td><td> 4</td><td> 1</td><td> 5</td><td> 1</td><td> 1</td><td> 4</td><td>⋯</td><td>Not present</td><td>Not present</td><td>Not present</td><td>                                                  </td><td>Not present</td><td>                              </td><td>NA</td><td>                              </td><td>2</td><td>0</td></tr>\n",
       "\t<tr><td>5793</td><td>0</td><td> 3</td><td> 3</td><td> 3</td><td> 1</td><td> 1</td><td> 1</td><td> 3</td><td> 2</td><td>⋯</td><td>Not present</td><td>Not present</td><td>Not present</td><td>                                                  </td><td>Not present</td><td>                              </td><td>NA</td><td>                              </td><td>5</td><td>1</td></tr>\n",
       "\t<tr><td>5818</td><td>0</td><td> 5</td><td> 5</td><td> 5</td><td> 5</td><td> 5</td><td> 1</td><td> 4</td><td> 4</td><td>⋯</td><td>Not present</td><td>Not present</td><td>Not present</td><td>                                                  </td><td>Not present</td><td>                              </td><td>NA</td><td>                              </td><td>3</td><td>0</td></tr>\n",
       "\t<tr><td>5834</td><td>0</td><td> 4</td><td> 3</td><td> 3</td><td> 1</td><td> 5</td><td> 1</td><td> 3</td><td> 3</td><td>⋯</td><td>Not present</td><td>Not present</td><td>Not present</td><td>                                                  </td><td>Not present</td><td>                              </td><td>NA</td><td>                              </td><td>2</td><td>0</td></tr>\n",
       "\t<tr><td>5838</td><td>0</td><td> 4</td><td> 4</td><td> 3</td><td> 1</td><td> 2</td><td> 1</td><td> 2</td><td> 2</td><td>⋯</td><td>Not present</td><td>Not present</td><td>Not present</td><td>                                                  </td><td>Not present</td><td>                              </td><td>NA</td><td>                              </td><td>1</td><td>0</td></tr>\n",
       "\t<tr><td>5877</td><td>0</td><td> 4</td><td> 4</td><td> 4</td><td> 1</td><td> 5</td><td> 4</td><td> 4</td><td> 4</td><td>⋯</td><td>Not present</td><td>Not present</td><td>Not present</td><td>                                                  </td><td>Not present</td><td>                              </td><td>NA</td><td>                              </td><td>1</td><td>0</td></tr>\n",
       "\t<tr><td>5891</td><td>0</td><td> 5</td><td> 3</td><td> 5</td><td> 1</td><td> 4</td><td> 1</td><td> 3</td><td> 3</td><td>⋯</td><td>Not present</td><td>Not present</td><td>Not present</td><td>                                                  </td><td>Not present</td><td>                              </td><td>NA</td><td>                              </td><td>3</td><td>0</td></tr>\n",
       "\t<tr><td>5894</td><td>0</td><td> 4</td><td> 4</td><td> 4</td><td> 1</td><td> 3</td><td> 1</td><td> 4</td><td> 4</td><td>⋯</td><td>Not present</td><td>Not present</td><td>Not present</td><td>                                                  </td><td>Not present</td><td>                              </td><td>NA</td><td>                              </td><td>2</td><td>0</td></tr>\n",
       "\t<tr><td>5913</td><td>0</td><td> 5</td><td> 5</td><td> 5</td><td> 1</td><td> 5</td><td> 5</td><td> 5</td><td> 5</td><td>⋯</td><td>Not present</td><td>Not present</td><td>Not present</td><td>                                                  </td><td>Not present</td><td>                              </td><td>NA</td><td>                              </td><td>3</td><td>0</td></tr>\n",
       "\t<tr><td>5970</td><td>0</td><td> 4</td><td> 4</td><td> 1</td><td> 1</td><td> 4</td><td> 1</td><td> 4</td><td> 2</td><td>⋯</td><td>Not present</td><td>Not present</td><td>Not present</td><td>                                                  </td><td>Not present</td><td>                              </td><td>NA</td><td>                              </td><td>3</td><td>0</td></tr>\n",
       "\t<tr><td>5994</td><td>0</td><td> 4</td><td> 4</td><td> 4</td><td> 1</td><td> 1</td><td> 3</td><td> 2</td><td> 1</td><td>⋯</td><td>Not present</td><td>Not present</td><td>Not present</td><td>                                                  </td><td>Not present</td><td>                              </td><td>NA</td><td>                              </td><td>3</td><td>0</td></tr>\n",
       "\t<tr><td>5995</td><td>0</td><td>NA</td><td>NA</td><td>NA</td><td>NA</td><td>NA</td><td>NA</td><td>NA</td><td>NA</td><td>⋯</td><td>Not present</td><td>Not present</td><td>Not present</td><td>                                                  </td><td>Not present</td><td>                              </td><td>NA</td><td>                              </td><td>1</td><td>0</td></tr>\n",
       "</tbody>\n",
       "</table>\n"
      ],
      "text/latex": [
       "A tibble: 689 × 270\n",
       "\\begin{tabular}{lllllllllllllllllllll}\n",
       " ID1 & day & dep1 & dep2 & dep3 & dep4 & dep5 & dep6 & dep7 & dep8 & ⋯ & adltadd\\_1 & condct\\_1 & other\\_1\\_1 & other\\_1\\_dx\\_1 & other\\_2\\_1 & other\\_2\\_dx\\_1 & other\\_3\\_1 & other\\_3\\_dx\\_1 & comorbidity & bpd\\\\\n",
       " <int> & <int> & <int> & <int> & <int> & <int> & <int> & <int> & <int> & <int> & ⋯ & <fct> & <fct> & <fct> & <fct> & <fct> & <fct> & <fct> & <fct> & <dbl> & <dbl>\\\\\n",
       "\\hline\n",
       "\t   6 & 0 &  3 &  3 &  4 &  1 &  1 &  2 &  3 &  3 & ⋯ & Not present & Not present & Not present &                                                    & Not present &                                & Not present &                                & 6 & 0\\\\\n",
       "\t  13 & 0 &  3 &  3 &  4 &  1 &  1 &  1 &  1 &  4 & ⋯ & Not present & Not present & Not present &                                                    & Not present &                                & Not present &                                & 2 & 0\\\\\n",
       "\t  23 & 0 &  4 &  4 &  3 &  1 &  4 &  3 &  5 &  3 & ⋯ & Not present & Not present & Not present &                                                    & Not present &                                & Not present &                                & 3 & 0\\\\\n",
       "\t  29 & 0 &  4 &  3 &  5 &  1 &  3 &  1 &  3 &  2 & ⋯ & Not present & Not present & Not present &                                                    & Not present &                                & Not present &                                & 2 & 0\\\\\n",
       "\t  42 & 0 &  5 &  5 &  3 &  2 &  5 &  2 &  3 &  4 & ⋯ & Not present & Not present & Not present &                                                    & Not present &                                & Not present &                                & 3 & 0\\\\\n",
       "\t  43 & 0 &  3 &  3 &  1 &  1 &  3 &  2 &  3 &  2 & ⋯ & Not present & Not present & Not present &                                                    & Not present &                                & Not present &                                & 1 & 0\\\\\n",
       "\t  44 & 0 &  4 &  5 &  5 &  5 &  5 &  1 &  4 &  1 & ⋯ & Not present & Not present & Not present &                                                    & Not present &                                & Not present &                                & 2 & 0\\\\\n",
       "\t  47 & 0 &  1 &  1 &  1 &  1 &  3 &  1 &  1 &  1 & ⋯ & Not present & Not present & Not present &                                                    & Not present &                                & Not present &                                & 3 & 0\\\\\n",
       "\t  58 & 0 &  5 &  4 &  4 &  1 &  5 &  1 &  5 &  3 & ⋯ & Not present & Not present & Not present &                                                    & Not present &                                & Not present &                                & 2 & 0\\\\\n",
       "\t  64 & 0 &  5 &  5 &  1 &  4 &  5 &  5 &  3 &  5 & ⋯ & Not present & Not present & Curr        & Cognitive Disorder NOS                             & Not present &                                & Not present &                                & 1 & 0\\\\\n",
       "\t  85 & 0 &  1 &  1 &  1 &  1 &  1 &  1 &  1 &  1 & ⋯ & Not present & Not present & Not present &                                                    & Not present &                                & Not present &                                & 1 & 0\\\\\n",
       "\t  89 & 1 &  3 &  2 &  1 &  1 &  2 &  2 &  1 &  2 & ⋯ & Not present & Not present & Not present &                                                    & Not present &                                & Not present &                                & 1 & 0\\\\\n",
       "\t  95 & 0 &  3 &  1 &  2 &  2 &  5 &  1 &  1 &  2 & ⋯ & Not present & Not present & Not present &                                                    & Not present &                                & Not present &                                & 0 & 0\\\\\n",
       "\t  97 & 0 &  4 &  4 &  4 &  4 &  5 &  4 &  4 &  3 & ⋯ & Not present & Not present & Not present &                                                    & Not present &                                & Not present &                                & 2 & 0\\\\\n",
       "\t 105 & 0 & NA & NA & NA & NA & NA & NA & NA & NA & ⋯ & Not present & Not present & Not present &                                                    & Not present &                                & Not present &                                & 1 & 0\\\\\n",
       "\t 108 & 0 &  5 &  5 &  5 &  1 &  5 &  1 &  5 &  5 & ⋯ & Not present & Not present & Not present &                                                    & Not present &                                & Not present &                                & 3 & 0\\\\\n",
       "\t 109 & 0 & NA & NA & NA & NA & NA & NA & NA & NA & ⋯ & Not present & Not present & Not present &                                                    & Not present &                                & Not present &                                & 2 & 0\\\\\n",
       "\t 122 & 0 &  5 &  5 &  4 &  1 &  5 &  1 &  3 &  3 & ⋯ & Not present & Not present & Not present &                                                    & Not present &                                & Not present &                                & 1 & 0\\\\\n",
       "\t 126 & 0 &  5 &  5 &  5 &  1 &  5 &  1 &  1 &  5 & ⋯ & Not present & Not present & Not present &                                                    & Not present &                                & Not present &                                & 2 & 0\\\\\n",
       "\t 128 & 0 &  5 &  4 &  2 &  1 &  4 &  5 &  4 &  4 & ⋯ & Not present & Not present & Not present &                                                    & Not present &                                & Not present &                                & 1 & 0\\\\\n",
       "\t 129 & 0 &  5 &  5 &  1 &  5 & NA &  5 &  1 &  5 & ⋯ & Not present & Not present & Not present &                                                    & Not present &                                & Not present &                                & 2 & 0\\\\\n",
       "\t 134 & 0 &  3 &  4 &  2 &  1 &  4 &  1 &  2 &  4 & ⋯ & Not present & Not present & Not present &                                                    & Not present &                                & Not present &                                & 2 & 0\\\\\n",
       "\t 142 & 0 &  5 &  3 &  5 &  1 &  5 &  1 &  1 &  3 & ⋯ & Not present & Not present & Not present &                                                    & Not present &                                & Not present &                                & 1 & 0\\\\\n",
       "\t 145 & 0 &  5 &  5 &  1 &  1 &  5 &  2 &  3 &  5 & ⋯ & Not present & Not present & Not present &                                                    & Not present &                                & Not present &                                & 3 & 0\\\\\n",
       "\t 159 & 0 &  5 &  4 &  2 &  3 &  3 &  4 &  2 &  5 & ⋯ & Not present & Not present & Not present &                                                    & Not present &                                & Not present &                                & 2 & 0\\\\\n",
       "\t 165 & 0 &  5 &  5 &  5 &  1 &  5 &  1 &  5 &  5 & ⋯ & Not present & Not present & Not present &                                                    & Not present &                                & Not present &                                & 3 & 0\\\\\n",
       "\t 176 & 0 &  5 &  1 &  1 &  5 &  5 &  5 &  5 &  5 & ⋯ & Not present & Not present & Not present &                                                    & Not present &                                & Not present &                                & 3 & 0\\\\\n",
       "\t 189 & 0 &  5 &  4 &  4 &  4 &  5 &  1 &  4 &  4 & ⋯ & Not present & Not present & Not present &                                                    & Not present &                                & Not present &                                & 2 & 0\\\\\n",
       "\t 202 & 0 &  4 &  5 &  3 &  1 &  4 &  1 &  4 &  4 & ⋯ & Not present & Not present & Curr        & Complicated grief                                  & Not present &                                & Not present &                                & 2 & 0\\\\\n",
       "\t 203 & 0 &  5 &  5 &  5 &  1 &  5 &  1 &  5 &  1 & ⋯ & Not present & Not present & Not present &                                                    & Not present &                                & Not present &                                & 4 & 0\\\\\n",
       "\t ⋮ & ⋮ & ⋮ & ⋮ & ⋮ & ⋮ & ⋮ & ⋮ & ⋮ & ⋮ & ⋱ & ⋮ & ⋮ & ⋮ & ⋮ & ⋮ & ⋮ & ⋮ & ⋮ & ⋮ & ⋮\\\\\n",
       "\t 5559 & 0 &  5 &  5 &  3 &  3 &  4 &  4 &  1 &  1 & ⋯ & Not present & Not present & Not present &                                                    & Not present &                                & NA &                                & 2 & 0\\\\\n",
       "\t 5560 & 0 &  5 &  5 &  4 &  3 &  5 &  5 &  5 &  5 & ⋯ & Not present & Not present & Not present &                                                    & Not present &                                & NA &                                & 2 & 1\\\\\n",
       "\t 5576 & 0 &  5 &  5 &  5 &  1 &  1 &  1 &  5 &  5 & ⋯ & Not present & Not present & Curr        & hoarding                                           & Not present &                                & NA &                                & 1 & 0\\\\\n",
       "\t 5579 & 0 &  4 &  3 &  3 &  1 &  4 &  1 &  2 &  3 & ⋯ & Not present & Not present & Not present &                                                    & Not present &                                & NA &                                & 5 & 1\\\\\n",
       "\t 5587 & 0 &  4 & NA &  1 &  2 &  4 &  1 &  1 &  4 & ⋯ & Not present & Not present & Not present &                                                    & Not present &                                & NA &                                & 2 & 0\\\\\n",
       "\t 5602 & 0 &  4 &  3 &  5 &  1 &  4 &  1 &  4 &  4 & ⋯ & Not present & Not present & Not present &                                                    & Not present &                                & NA &                                & 5 & 1\\\\\n",
       "\t 5618 & 0 &  5 &  4 &  2 &  1 &  3 &  3 &  2 &  2 & ⋯ & Not present & Not present & Not present &                                                    & Not present &                                & NA &                                & 2 & 0\\\\\n",
       "\t 5627 & 0 &  5 &  4 &  4 &  1 &  4 &  4 &  4 &  5 & ⋯ & Not present & Not present & Not present &                                                    & Not present &                                & NA &                                & 3 & 1\\\\\n",
       "\t 5654 & 0 &  5 &  5 &  5 &  1 &  5 &  1 &  5 &  5 & ⋯ & Not present & Not present & Not present &                                                    & Not present &                                & NA &                                & 2 & 1\\\\\n",
       "\t 5677 & 0 &  4 &  4 &  5 &  1 &  4 &  1 &  5 &  2 & ⋯ & Not present & Not present & Not present &                                                    & Not present &                                & NA &                                & 3 & 0\\\\\n",
       "\t 5696 & 0 &  5 &  4 &  3 &  1 &  2 &  1 &  5 &  2 & ⋯ & Not present & Not present & Not present &                                                    & Not present &                                & NA &                                & 4 & 0\\\\\n",
       "\t 5701 & 0 &  5 &  4 &  4 &  1 &  5 &  1 &  5 &  4 & ⋯ & Not present & Not present & Not present &                                                    & Not present &                                & NA &                                & 4 & 0\\\\\n",
       "\t 5710 & 0 &  5 &  5 &  5 &  1 &  5 &  5 &  2 &  5 & ⋯ & Not present & Not present & Not present &                                                    & Not present &                                & NA &                                & 5 & 0\\\\\n",
       "\t 5713 & 0 & NA & NA & NA & NA & NA & NA & NA & NA & ⋯ & Not present & Not present & Not present &                                                    & Not present &                                & NA &                                & 2 & 0\\\\\n",
       "\t 5732 & 0 & NA & NA & NA & NA & NA & NA & NA & NA & ⋯ & Not present & Not present & Not present &                                                    & Not present &                                & NA &                                & 4 & 0\\\\\n",
       "\t 5735 & 0 &  3 &  3 &  5 &  1 &  3 &  1 &  1 &  3 & ⋯ & Not present & Not present & Not present &                                                    & Not present &                                & NA &                                & 1 & 0\\\\\n",
       "\t 5754 & 0 &  5 &  5 &  1 &  5 &  5 &  1 &  4 &  5 & ⋯ & Not present & Not present & Not present &                                                    & Not present &                                & NA &                                & 4 & 0\\\\\n",
       "\t 5757 & 0 &  3 &  4 &  5 &  2 &  5 &  1 & NA & NA & ⋯ & Not present & Not present & Curr        & autism spectrum disorder                           & Not present &                                & NA &                                & 2 & 0\\\\\n",
       "\t 5771 & 0 &  4 &  4 &  4 &  1 &  5 &  1 &  1 &  4 & ⋯ & Not present & Not present & Not present &                                                    & Not present &                                & NA &                                & 2 & 0\\\\\n",
       "\t 5793 & 0 &  3 &  3 &  3 &  1 &  1 &  1 &  3 &  2 & ⋯ & Not present & Not present & Not present &                                                    & Not present &                                & NA &                                & 5 & 1\\\\\n",
       "\t 5818 & 0 &  5 &  5 &  5 &  5 &  5 &  1 &  4 &  4 & ⋯ & Not present & Not present & Not present &                                                    & Not present &                                & NA &                                & 3 & 0\\\\\n",
       "\t 5834 & 0 &  4 &  3 &  3 &  1 &  5 &  1 &  3 &  3 & ⋯ & Not present & Not present & Not present &                                                    & Not present &                                & NA &                                & 2 & 0\\\\\n",
       "\t 5838 & 0 &  4 &  4 &  3 &  1 &  2 &  1 &  2 &  2 & ⋯ & Not present & Not present & Not present &                                                    & Not present &                                & NA &                                & 1 & 0\\\\\n",
       "\t 5877 & 0 &  4 &  4 &  4 &  1 &  5 &  4 &  4 &  4 & ⋯ & Not present & Not present & Not present &                                                    & Not present &                                & NA &                                & 1 & 0\\\\\n",
       "\t 5891 & 0 &  5 &  3 &  5 &  1 &  4 &  1 &  3 &  3 & ⋯ & Not present & Not present & Not present &                                                    & Not present &                                & NA &                                & 3 & 0\\\\\n",
       "\t 5894 & 0 &  4 &  4 &  4 &  1 &  3 &  1 &  4 &  4 & ⋯ & Not present & Not present & Not present &                                                    & Not present &                                & NA &                                & 2 & 0\\\\\n",
       "\t 5913 & 0 &  5 &  5 &  5 &  1 &  5 &  5 &  5 &  5 & ⋯ & Not present & Not present & Not present &                                                    & Not present &                                & NA &                                & 3 & 0\\\\\n",
       "\t 5970 & 0 &  4 &  4 &  1 &  1 &  4 &  1 &  4 &  2 & ⋯ & Not present & Not present & Not present &                                                    & Not present &                                & NA &                                & 3 & 0\\\\\n",
       "\t 5994 & 0 &  4 &  4 &  4 &  1 &  1 &  3 &  2 &  1 & ⋯ & Not present & Not present & Not present &                                                    & Not present &                                & NA &                                & 3 & 0\\\\\n",
       "\t 5995 & 0 & NA & NA & NA & NA & NA & NA & NA & NA & ⋯ & Not present & Not present & Not present &                                                    & Not present &                                & NA &                                & 1 & 0\\\\\n",
       "\\end{tabular}\n"
      ],
      "text/markdown": [
       "\n",
       "A tibble: 689 × 270\n",
       "\n",
       "| ID1 &lt;int&gt; | day &lt;int&gt; | dep1 &lt;int&gt; | dep2 &lt;int&gt; | dep3 &lt;int&gt; | dep4 &lt;int&gt; | dep5 &lt;int&gt; | dep6 &lt;int&gt; | dep7 &lt;int&gt; | dep8 &lt;int&gt; | ⋯ ⋯ | adltadd_1 &lt;fct&gt; | condct_1 &lt;fct&gt; | other_1_1 &lt;fct&gt; | other_1_dx_1 &lt;fct&gt; | other_2_1 &lt;fct&gt; | other_2_dx_1 &lt;fct&gt; | other_3_1 &lt;fct&gt; | other_3_dx_1 &lt;fct&gt; | comorbidity &lt;dbl&gt; | bpd &lt;dbl&gt; |\n",
       "|---|---|---|---|---|---|---|---|---|---|---|---|---|---|---|---|---|---|---|---|---|\n",
       "|   6 | 0 |  3 |  3 |  4 |  1 |  1 |  2 |  3 |  3 | ⋯ | Not present | Not present | Not present | <!----> | Not present | <!----> | Not present | <!----> | 6 | 0 |\n",
       "|  13 | 0 |  3 |  3 |  4 |  1 |  1 |  1 |  1 |  4 | ⋯ | Not present | Not present | Not present | <!----> | Not present | <!----> | Not present | <!----> | 2 | 0 |\n",
       "|  23 | 0 |  4 |  4 |  3 |  1 |  4 |  3 |  5 |  3 | ⋯ | Not present | Not present | Not present | <!----> | Not present | <!----> | Not present | <!----> | 3 | 0 |\n",
       "|  29 | 0 |  4 |  3 |  5 |  1 |  3 |  1 |  3 |  2 | ⋯ | Not present | Not present | Not present | <!----> | Not present | <!----> | Not present | <!----> | 2 | 0 |\n",
       "|  42 | 0 |  5 |  5 |  3 |  2 |  5 |  2 |  3 |  4 | ⋯ | Not present | Not present | Not present | <!----> | Not present | <!----> | Not present | <!----> | 3 | 0 |\n",
       "|  43 | 0 |  3 |  3 |  1 |  1 |  3 |  2 |  3 |  2 | ⋯ | Not present | Not present | Not present | <!----> | Not present | <!----> | Not present | <!----> | 1 | 0 |\n",
       "|  44 | 0 |  4 |  5 |  5 |  5 |  5 |  1 |  4 |  1 | ⋯ | Not present | Not present | Not present | <!----> | Not present | <!----> | Not present | <!----> | 2 | 0 |\n",
       "|  47 | 0 |  1 |  1 |  1 |  1 |  3 |  1 |  1 |  1 | ⋯ | Not present | Not present | Not present | <!----> | Not present | <!----> | Not present | <!----> | 3 | 0 |\n",
       "|  58 | 0 |  5 |  4 |  4 |  1 |  5 |  1 |  5 |  3 | ⋯ | Not present | Not present | Not present | <!----> | Not present | <!----> | Not present | <!----> | 2 | 0 |\n",
       "|  64 | 0 |  5 |  5 |  1 |  4 |  5 |  5 |  3 |  5 | ⋯ | Not present | Not present | Curr        | Cognitive Disorder NOS                             | Not present | <!----> | Not present | <!----> | 1 | 0 |\n",
       "|  85 | 0 |  1 |  1 |  1 |  1 |  1 |  1 |  1 |  1 | ⋯ | Not present | Not present | Not present | <!----> | Not present | <!----> | Not present | <!----> | 1 | 0 |\n",
       "|  89 | 1 |  3 |  2 |  1 |  1 |  2 |  2 |  1 |  2 | ⋯ | Not present | Not present | Not present | <!----> | Not present | <!----> | Not present | <!----> | 1 | 0 |\n",
       "|  95 | 0 |  3 |  1 |  2 |  2 |  5 |  1 |  1 |  2 | ⋯ | Not present | Not present | Not present | <!----> | Not present | <!----> | Not present | <!----> | 0 | 0 |\n",
       "|  97 | 0 |  4 |  4 |  4 |  4 |  5 |  4 |  4 |  3 | ⋯ | Not present | Not present | Not present | <!----> | Not present | <!----> | Not present | <!----> | 2 | 0 |\n",
       "| 105 | 0 | NA | NA | NA | NA | NA | NA | NA | NA | ⋯ | Not present | Not present | Not present | <!----> | Not present | <!----> | Not present | <!----> | 1 | 0 |\n",
       "| 108 | 0 |  5 |  5 |  5 |  1 |  5 |  1 |  5 |  5 | ⋯ | Not present | Not present | Not present | <!----> | Not present | <!----> | Not present | <!----> | 3 | 0 |\n",
       "| 109 | 0 | NA | NA | NA | NA | NA | NA | NA | NA | ⋯ | Not present | Not present | Not present | <!----> | Not present | <!----> | Not present | <!----> | 2 | 0 |\n",
       "| 122 | 0 |  5 |  5 |  4 |  1 |  5 |  1 |  3 |  3 | ⋯ | Not present | Not present | Not present | <!----> | Not present | <!----> | Not present | <!----> | 1 | 0 |\n",
       "| 126 | 0 |  5 |  5 |  5 |  1 |  5 |  1 |  1 |  5 | ⋯ | Not present | Not present | Not present | <!----> | Not present | <!----> | Not present | <!----> | 2 | 0 |\n",
       "| 128 | 0 |  5 |  4 |  2 |  1 |  4 |  5 |  4 |  4 | ⋯ | Not present | Not present | Not present | <!----> | Not present | <!----> | Not present | <!----> | 1 | 0 |\n",
       "| 129 | 0 |  5 |  5 |  1 |  5 | NA |  5 |  1 |  5 | ⋯ | Not present | Not present | Not present | <!----> | Not present | <!----> | Not present | <!----> | 2 | 0 |\n",
       "| 134 | 0 |  3 |  4 |  2 |  1 |  4 |  1 |  2 |  4 | ⋯ | Not present | Not present | Not present | <!----> | Not present | <!----> | Not present | <!----> | 2 | 0 |\n",
       "| 142 | 0 |  5 |  3 |  5 |  1 |  5 |  1 |  1 |  3 | ⋯ | Not present | Not present | Not present | <!----> | Not present | <!----> | Not present | <!----> | 1 | 0 |\n",
       "| 145 | 0 |  5 |  5 |  1 |  1 |  5 |  2 |  3 |  5 | ⋯ | Not present | Not present | Not present | <!----> | Not present | <!----> | Not present | <!----> | 3 | 0 |\n",
       "| 159 | 0 |  5 |  4 |  2 |  3 |  3 |  4 |  2 |  5 | ⋯ | Not present | Not present | Not present | <!----> | Not present | <!----> | Not present | <!----> | 2 | 0 |\n",
       "| 165 | 0 |  5 |  5 |  5 |  1 |  5 |  1 |  5 |  5 | ⋯ | Not present | Not present | Not present | <!----> | Not present | <!----> | Not present | <!----> | 3 | 0 |\n",
       "| 176 | 0 |  5 |  1 |  1 |  5 |  5 |  5 |  5 |  5 | ⋯ | Not present | Not present | Not present | <!----> | Not present | <!----> | Not present | <!----> | 3 | 0 |\n",
       "| 189 | 0 |  5 |  4 |  4 |  4 |  5 |  1 |  4 |  4 | ⋯ | Not present | Not present | Not present | <!----> | Not present | <!----> | Not present | <!----> | 2 | 0 |\n",
       "| 202 | 0 |  4 |  5 |  3 |  1 |  4 |  1 |  4 |  4 | ⋯ | Not present | Not present | Curr        | Complicated grief                                  | Not present | <!----> | Not present | <!----> | 2 | 0 |\n",
       "| 203 | 0 |  5 |  5 |  5 |  1 |  5 |  1 |  5 |  1 | ⋯ | Not present | Not present | Not present | <!----> | Not present | <!----> | Not present | <!----> | 4 | 0 |\n",
       "| ⋮ | ⋮ | ⋮ | ⋮ | ⋮ | ⋮ | ⋮ | ⋮ | ⋮ | ⋮ | ⋱ | ⋮ | ⋮ | ⋮ | ⋮ | ⋮ | ⋮ | ⋮ | ⋮ | ⋮ | ⋮ |\n",
       "| 5559 | 0 |  5 |  5 |  3 |  3 |  4 |  4 |  1 |  1 | ⋯ | Not present | Not present | Not present | <!----> | Not present | <!----> | NA | <!----> | 2 | 0 |\n",
       "| 5560 | 0 |  5 |  5 |  4 |  3 |  5 |  5 |  5 |  5 | ⋯ | Not present | Not present | Not present | <!----> | Not present | <!----> | NA | <!----> | 2 | 1 |\n",
       "| 5576 | 0 |  5 |  5 |  5 |  1 |  1 |  1 |  5 |  5 | ⋯ | Not present | Not present | Curr        | hoarding                                           | Not present | <!----> | NA | <!----> | 1 | 0 |\n",
       "| 5579 | 0 |  4 |  3 |  3 |  1 |  4 |  1 |  2 |  3 | ⋯ | Not present | Not present | Not present | <!----> | Not present | <!----> | NA | <!----> | 5 | 1 |\n",
       "| 5587 | 0 |  4 | NA |  1 |  2 |  4 |  1 |  1 |  4 | ⋯ | Not present | Not present | Not present | <!----> | Not present | <!----> | NA | <!----> | 2 | 0 |\n",
       "| 5602 | 0 |  4 |  3 |  5 |  1 |  4 |  1 |  4 |  4 | ⋯ | Not present | Not present | Not present | <!----> | Not present | <!----> | NA | <!----> | 5 | 1 |\n",
       "| 5618 | 0 |  5 |  4 |  2 |  1 |  3 |  3 |  2 |  2 | ⋯ | Not present | Not present | Not present | <!----> | Not present | <!----> | NA | <!----> | 2 | 0 |\n",
       "| 5627 | 0 |  5 |  4 |  4 |  1 |  4 |  4 |  4 |  5 | ⋯ | Not present | Not present | Not present | <!----> | Not present | <!----> | NA | <!----> | 3 | 1 |\n",
       "| 5654 | 0 |  5 |  5 |  5 |  1 |  5 |  1 |  5 |  5 | ⋯ | Not present | Not present | Not present | <!----> | Not present | <!----> | NA | <!----> | 2 | 1 |\n",
       "| 5677 | 0 |  4 |  4 |  5 |  1 |  4 |  1 |  5 |  2 | ⋯ | Not present | Not present | Not present | <!----> | Not present | <!----> | NA | <!----> | 3 | 0 |\n",
       "| 5696 | 0 |  5 |  4 |  3 |  1 |  2 |  1 |  5 |  2 | ⋯ | Not present | Not present | Not present | <!----> | Not present | <!----> | NA | <!----> | 4 | 0 |\n",
       "| 5701 | 0 |  5 |  4 |  4 |  1 |  5 |  1 |  5 |  4 | ⋯ | Not present | Not present | Not present | <!----> | Not present | <!----> | NA | <!----> | 4 | 0 |\n",
       "| 5710 | 0 |  5 |  5 |  5 |  1 |  5 |  5 |  2 |  5 | ⋯ | Not present | Not present | Not present | <!----> | Not present | <!----> | NA | <!----> | 5 | 0 |\n",
       "| 5713 | 0 | NA | NA | NA | NA | NA | NA | NA | NA | ⋯ | Not present | Not present | Not present | <!----> | Not present | <!----> | NA | <!----> | 2 | 0 |\n",
       "| 5732 | 0 | NA | NA | NA | NA | NA | NA | NA | NA | ⋯ | Not present | Not present | Not present | <!----> | Not present | <!----> | NA | <!----> | 4 | 0 |\n",
       "| 5735 | 0 |  3 |  3 |  5 |  1 |  3 |  1 |  1 |  3 | ⋯ | Not present | Not present | Not present | <!----> | Not present | <!----> | NA | <!----> | 1 | 0 |\n",
       "| 5754 | 0 |  5 |  5 |  1 |  5 |  5 |  1 |  4 |  5 | ⋯ | Not present | Not present | Not present | <!----> | Not present | <!----> | NA | <!----> | 4 | 0 |\n",
       "| 5757 | 0 |  3 |  4 |  5 |  2 |  5 |  1 | NA | NA | ⋯ | Not present | Not present | Curr        | autism spectrum disorder                           | Not present | <!----> | NA | <!----> | 2 | 0 |\n",
       "| 5771 | 0 |  4 |  4 |  4 |  1 |  5 |  1 |  1 |  4 | ⋯ | Not present | Not present | Not present | <!----> | Not present | <!----> | NA | <!----> | 2 | 0 |\n",
       "| 5793 | 0 |  3 |  3 |  3 |  1 |  1 |  1 |  3 |  2 | ⋯ | Not present | Not present | Not present | <!----> | Not present | <!----> | NA | <!----> | 5 | 1 |\n",
       "| 5818 | 0 |  5 |  5 |  5 |  5 |  5 |  1 |  4 |  4 | ⋯ | Not present | Not present | Not present | <!----> | Not present | <!----> | NA | <!----> | 3 | 0 |\n",
       "| 5834 | 0 |  4 |  3 |  3 |  1 |  5 |  1 |  3 |  3 | ⋯ | Not present | Not present | Not present | <!----> | Not present | <!----> | NA | <!----> | 2 | 0 |\n",
       "| 5838 | 0 |  4 |  4 |  3 |  1 |  2 |  1 |  2 |  2 | ⋯ | Not present | Not present | Not present | <!----> | Not present | <!----> | NA | <!----> | 1 | 0 |\n",
       "| 5877 | 0 |  4 |  4 |  4 |  1 |  5 |  4 |  4 |  4 | ⋯ | Not present | Not present | Not present | <!----> | Not present | <!----> | NA | <!----> | 1 | 0 |\n",
       "| 5891 | 0 |  5 |  3 |  5 |  1 |  4 |  1 |  3 |  3 | ⋯ | Not present | Not present | Not present | <!----> | Not present | <!----> | NA | <!----> | 3 | 0 |\n",
       "| 5894 | 0 |  4 |  4 |  4 |  1 |  3 |  1 |  4 |  4 | ⋯ | Not present | Not present | Not present | <!----> | Not present | <!----> | NA | <!----> | 2 | 0 |\n",
       "| 5913 | 0 |  5 |  5 |  5 |  1 |  5 |  5 |  5 |  5 | ⋯ | Not present | Not present | Not present | <!----> | Not present | <!----> | NA | <!----> | 3 | 0 |\n",
       "| 5970 | 0 |  4 |  4 |  1 |  1 |  4 |  1 |  4 |  2 | ⋯ | Not present | Not present | Not present | <!----> | Not present | <!----> | NA | <!----> | 3 | 0 |\n",
       "| 5994 | 0 |  4 |  4 |  4 |  1 |  1 |  3 |  2 |  1 | ⋯ | Not present | Not present | Not present | <!----> | Not present | <!----> | NA | <!----> | 3 | 0 |\n",
       "| 5995 | 0 | NA | NA | NA | NA | NA | NA | NA | NA | ⋯ | Not present | Not present | Not present | <!----> | Not present | <!----> | NA | <!----> | 1 | 0 |\n",
       "\n"
      ],
      "text/plain": [
       "    ID1  day dep1 dep2 dep3 dep4 dep5 dep6 dep7 dep8 ⋯ adltadd_1   condct_1   \n",
       "1     6  0    3    3    4    1    1    2    3    3   ⋯ Not present Not present\n",
       "2    13  0    3    3    4    1    1    1    1    4   ⋯ Not present Not present\n",
       "3    23  0    4    4    3    1    4    3    5    3   ⋯ Not present Not present\n",
       "4    29  0    4    3    5    1    3    1    3    2   ⋯ Not present Not present\n",
       "5    42  0    5    5    3    2    5    2    3    4   ⋯ Not present Not present\n",
       "6    43  0    3    3    1    1    3    2    3    2   ⋯ Not present Not present\n",
       "7    44  0    4    5    5    5    5    1    4    1   ⋯ Not present Not present\n",
       "8    47  0    1    1    1    1    3    1    1    1   ⋯ Not present Not present\n",
       "9    58  0    5    4    4    1    5    1    5    3   ⋯ Not present Not present\n",
       "10   64  0    5    5    1    4    5    5    3    5   ⋯ Not present Not present\n",
       "11   85  0    1    1    1    1    1    1    1    1   ⋯ Not present Not present\n",
       "12   89  1    3    2    1    1    2    2    1    2   ⋯ Not present Not present\n",
       "13   95  0    3    1    2    2    5    1    1    2   ⋯ Not present Not present\n",
       "14   97  0    4    4    4    4    5    4    4    3   ⋯ Not present Not present\n",
       "15  105  0   NA   NA   NA   NA   NA   NA   NA   NA   ⋯ Not present Not present\n",
       "16  108  0    5    5    5    1    5    1    5    5   ⋯ Not present Not present\n",
       "17  109  0   NA   NA   NA   NA   NA   NA   NA   NA   ⋯ Not present Not present\n",
       "18  122  0    5    5    4    1    5    1    3    3   ⋯ Not present Not present\n",
       "19  126  0    5    5    5    1    5    1    1    5   ⋯ Not present Not present\n",
       "20  128  0    5    4    2    1    4    5    4    4   ⋯ Not present Not present\n",
       "21  129  0    5    5    1    5   NA    5    1    5   ⋯ Not present Not present\n",
       "22  134  0    3    4    2    1    4    1    2    4   ⋯ Not present Not present\n",
       "23  142  0    5    3    5    1    5    1    1    3   ⋯ Not present Not present\n",
       "24  145  0    5    5    1    1    5    2    3    5   ⋯ Not present Not present\n",
       "25  159  0    5    4    2    3    3    4    2    5   ⋯ Not present Not present\n",
       "26  165  0    5    5    5    1    5    1    5    5   ⋯ Not present Not present\n",
       "27  176  0    5    1    1    5    5    5    5    5   ⋯ Not present Not present\n",
       "28  189  0    5    4    4    4    5    1    4    4   ⋯ Not present Not present\n",
       "29  202  0    4    5    3    1    4    1    4    4   ⋯ Not present Not present\n",
       "30  203  0    5    5    5    1    5    1    5    1   ⋯ Not present Not present\n",
       "⋮   ⋮    ⋮   ⋮    ⋮    ⋮    ⋮    ⋮    ⋮    ⋮    ⋮    ⋱ ⋮           ⋮          \n",
       "660 5559 0    5    5    3    3    4    4    1    1   ⋯ Not present Not present\n",
       "661 5560 0    5    5    4    3    5    5    5    5   ⋯ Not present Not present\n",
       "662 5576 0    5    5    5    1    1    1    5    5   ⋯ Not present Not present\n",
       "663 5579 0    4    3    3    1    4    1    2    3   ⋯ Not present Not present\n",
       "664 5587 0    4   NA    1    2    4    1    1    4   ⋯ Not present Not present\n",
       "665 5602 0    4    3    5    1    4    1    4    4   ⋯ Not present Not present\n",
       "666 5618 0    5    4    2    1    3    3    2    2   ⋯ Not present Not present\n",
       "667 5627 0    5    4    4    1    4    4    4    5   ⋯ Not present Not present\n",
       "668 5654 0    5    5    5    1    5    1    5    5   ⋯ Not present Not present\n",
       "669 5677 0    4    4    5    1    4    1    5    2   ⋯ Not present Not present\n",
       "670 5696 0    5    4    3    1    2    1    5    2   ⋯ Not present Not present\n",
       "671 5701 0    5    4    4    1    5    1    5    4   ⋯ Not present Not present\n",
       "672 5710 0    5    5    5    1    5    5    2    5   ⋯ Not present Not present\n",
       "673 5713 0   NA   NA   NA   NA   NA   NA   NA   NA   ⋯ Not present Not present\n",
       "674 5732 0   NA   NA   NA   NA   NA   NA   NA   NA   ⋯ Not present Not present\n",
       "675 5735 0    3    3    5    1    3    1    1    3   ⋯ Not present Not present\n",
       "676 5754 0    5    5    1    5    5    1    4    5   ⋯ Not present Not present\n",
       "677 5757 0    3    4    5    2    5    1   NA   NA   ⋯ Not present Not present\n",
       "678 5771 0    4    4    4    1    5    1    1    4   ⋯ Not present Not present\n",
       "679 5793 0    3    3    3    1    1    1    3    2   ⋯ Not present Not present\n",
       "680 5818 0    5    5    5    5    5    1    4    4   ⋯ Not present Not present\n",
       "681 5834 0    4    3    3    1    5    1    3    3   ⋯ Not present Not present\n",
       "682 5838 0    4    4    3    1    2    1    2    2   ⋯ Not present Not present\n",
       "683 5877 0    4    4    4    1    5    4    4    4   ⋯ Not present Not present\n",
       "684 5891 0    5    3    5    1    4    1    3    3   ⋯ Not present Not present\n",
       "685 5894 0    4    4    4    1    3    1    4    4   ⋯ Not present Not present\n",
       "686 5913 0    5    5    5    1    5    5    5    5   ⋯ Not present Not present\n",
       "687 5970 0    4    4    1    1    4    1    4    2   ⋯ Not present Not present\n",
       "688 5994 0    4    4    4    1    1    3    2    1   ⋯ Not present Not present\n",
       "689 5995 0   NA   NA   NA   NA   NA   NA   NA   NA   ⋯ Not present Not present\n",
       "    other_1_1   other_1_dx_1                                       other_2_1  \n",
       "1   Not present                                                    Not present\n",
       "2   Not present                                                    Not present\n",
       "3   Not present                                                    Not present\n",
       "4   Not present                                                    Not present\n",
       "5   Not present                                                    Not present\n",
       "6   Not present                                                    Not present\n",
       "7   Not present                                                    Not present\n",
       "8   Not present                                                    Not present\n",
       "9   Not present                                                    Not present\n",
       "10  Curr        Cognitive Disorder NOS                             Not present\n",
       "11  Not present                                                    Not present\n",
       "12  Not present                                                    Not present\n",
       "13  Not present                                                    Not present\n",
       "14  Not present                                                    Not present\n",
       "15  Not present                                                    Not present\n",
       "16  Not present                                                    Not present\n",
       "17  Not present                                                    Not present\n",
       "18  Not present                                                    Not present\n",
       "19  Not present                                                    Not present\n",
       "20  Not present                                                    Not present\n",
       "21  Not present                                                    Not present\n",
       "22  Not present                                                    Not present\n",
       "23  Not present                                                    Not present\n",
       "24  Not present                                                    Not present\n",
       "25  Not present                                                    Not present\n",
       "26  Not present                                                    Not present\n",
       "27  Not present                                                    Not present\n",
       "28  Not present                                                    Not present\n",
       "29  Curr        Complicated grief                                  Not present\n",
       "30  Not present                                                    Not present\n",
       "⋮   ⋮           ⋮                                                  ⋮          \n",
       "660 Not present                                                    Not present\n",
       "661 Not present                                                    Not present\n",
       "662 Curr        hoarding                                           Not present\n",
       "663 Not present                                                    Not present\n",
       "664 Not present                                                    Not present\n",
       "665 Not present                                                    Not present\n",
       "666 Not present                                                    Not present\n",
       "667 Not present                                                    Not present\n",
       "668 Not present                                                    Not present\n",
       "669 Not present                                                    Not present\n",
       "670 Not present                                                    Not present\n",
       "671 Not present                                                    Not present\n",
       "672 Not present                                                    Not present\n",
       "673 Not present                                                    Not present\n",
       "674 Not present                                                    Not present\n",
       "675 Not present                                                    Not present\n",
       "676 Not present                                                    Not present\n",
       "677 Curr        autism spectrum disorder                           Not present\n",
       "678 Not present                                                    Not present\n",
       "679 Not present                                                    Not present\n",
       "680 Not present                                                    Not present\n",
       "681 Not present                                                    Not present\n",
       "682 Not present                                                    Not present\n",
       "683 Not present                                                    Not present\n",
       "684 Not present                                                    Not present\n",
       "685 Not present                                                    Not present\n",
       "686 Not present                                                    Not present\n",
       "687 Not present                                                    Not present\n",
       "688 Not present                                                    Not present\n",
       "689 Not present                                                    Not present\n",
       "    other_2_dx_1                   other_3_1   other_3_dx_1                  \n",
       "1                                  Not present                               \n",
       "2                                  Not present                               \n",
       "3                                  Not present                               \n",
       "4                                  Not present                               \n",
       "5                                  Not present                               \n",
       "6                                  Not present                               \n",
       "7                                  Not present                               \n",
       "8                                  Not present                               \n",
       "9                                  Not present                               \n",
       "10                                 Not present                               \n",
       "11                                 Not present                               \n",
       "12                                 Not present                               \n",
       "13                                 Not present                               \n",
       "14                                 Not present                               \n",
       "15                                 Not present                               \n",
       "16                                 Not present                               \n",
       "17                                 Not present                               \n",
       "18                                 Not present                               \n",
       "19                                 Not present                               \n",
       "20                                 Not present                               \n",
       "21                                 Not present                               \n",
       "22                                 Not present                               \n",
       "23                                 Not present                               \n",
       "24                                 Not present                               \n",
       "25                                 Not present                               \n",
       "26                                 Not present                               \n",
       "27                                 Not present                               \n",
       "28                                 Not present                               \n",
       "29                                 Not present                               \n",
       "30                                 Not present                               \n",
       "⋮   ⋮                              ⋮           ⋮                             \n",
       "660                                NA                                        \n",
       "661                                NA                                        \n",
       "662                                NA                                        \n",
       "663                                NA                                        \n",
       "664                                NA                                        \n",
       "665                                NA                                        \n",
       "666                                NA                                        \n",
       "667                                NA                                        \n",
       "668                                NA                                        \n",
       "669                                NA                                        \n",
       "670                                NA                                        \n",
       "671                                NA                                        \n",
       "672                                NA                                        \n",
       "673                                NA                                        \n",
       "674                                NA                                        \n",
       "675                                NA                                        \n",
       "676                                NA                                        \n",
       "677                                NA                                        \n",
       "678                                NA                                        \n",
       "679                                NA                                        \n",
       "680                                NA                                        \n",
       "681                                NA                                        \n",
       "682                                NA                                        \n",
       "683                                NA                                        \n",
       "684                                NA                                        \n",
       "685                                NA                                        \n",
       "686                                NA                                        \n",
       "687                                NA                                        \n",
       "688                                NA                                        \n",
       "689                                NA                                        \n",
       "    comorbidity bpd\n",
       "1   6           0  \n",
       "2   2           0  \n",
       "3   3           0  \n",
       "4   2           0  \n",
       "5   3           0  \n",
       "6   1           0  \n",
       "7   2           0  \n",
       "8   3           0  \n",
       "9   2           0  \n",
       "10  1           0  \n",
       "11  1           0  \n",
       "12  1           0  \n",
       "13  0           0  \n",
       "14  2           0  \n",
       "15  1           0  \n",
       "16  3           0  \n",
       "17  2           0  \n",
       "18  1           0  \n",
       "19  2           0  \n",
       "20  1           0  \n",
       "21  2           0  \n",
       "22  2           0  \n",
       "23  1           0  \n",
       "24  3           0  \n",
       "25  2           0  \n",
       "26  3           0  \n",
       "27  3           0  \n",
       "28  2           0  \n",
       "29  2           0  \n",
       "30  4           0  \n",
       "⋮   ⋮           ⋮  \n",
       "660 2           0  \n",
       "661 2           1  \n",
       "662 1           0  \n",
       "663 5           1  \n",
       "664 2           0  \n",
       "665 5           1  \n",
       "666 2           0  \n",
       "667 3           1  \n",
       "668 2           1  \n",
       "669 3           0  \n",
       "670 4           0  \n",
       "671 4           0  \n",
       "672 5           0  \n",
       "673 2           0  \n",
       "674 4           0  \n",
       "675 1           0  \n",
       "676 4           0  \n",
       "677 2           0  \n",
       "678 2           0  \n",
       "679 5           1  \n",
       "680 3           0  \n",
       "681 2           0  \n",
       "682 1           0  \n",
       "683 1           0  \n",
       "684 3           0  \n",
       "685 2           0  \n",
       "686 3           0  \n",
       "687 3           0  \n",
       "688 3           0  \n",
       "689 1           0  "
      ]
     },
     "metadata": {},
     "output_type": "display_data"
    }
   ],
   "source": [
    "completeSample = first_session[first_session$DC_status_1 == 'Treatment Complete',]\n",
    "completeSample"
   ]
  },
  {
   "cell_type": "code",
   "execution_count": 189,
   "id": "sorted-professor",
   "metadata": {},
   "outputs": [
    {
     "data": {
      "text/plain": [
       "\n",
       "  2  no yes \n",
       "  0 538 151 "
      ]
     },
     "metadata": {},
     "output_type": "display_data"
    },
    {
     "data": {
      "text/plain": [
       "\n",
       "        2        no       yes \n",
       "0.0000000 0.7808418 0.2191582 "
      ]
     },
     "metadata": {},
     "output_type": "display_data"
    }
   ],
   "source": [
    "#How many people were SCIDed\n",
    "completeSample$SCID_1[completeSample$SCID_1==2] = 'yes'\n",
    "\n",
    "table(completeSample$SCID_1)\n",
    "\n",
    "table(completeSample$SCID_1)/sum(table(completeSample$SCID_1))"
   ]
  },
  {
   "cell_type": "code",
   "execution_count": 148,
   "id": "prostate-election",
   "metadata": {
    "scrolled": true
   },
   "outputs": [
    {
     "data": {
      "text/plain": [
       "\n",
       "  0   1 \n",
       "893 194 "
      ]
     },
     "metadata": {},
     "output_type": "display_data"
    }
   ],
   "source": [
    "#How many people had comorbid BPD\n",
    "table(completeSample$bpd)"
   ]
  },
  {
   "cell_type": "code",
   "execution_count": 149,
   "id": "solved-stream",
   "metadata": {},
   "outputs": [
    {
     "data": {
      "text/plain": [
       "\n",
       "  0   1   2   3   4   5   6   7   8   9  10 \n",
       "  7 160 323 270 181  79  40  19   4   3   1 "
      ]
     },
     "metadata": {},
     "output_type": "display_data"
    },
    {
     "data": {
      "text/html": [
       "2.92272309107636"
      ],
      "text/latex": [
       "2.92272309107636"
      ],
      "text/markdown": [
       "2.92272309107636"
      ],
      "text/plain": [
       "[1] 2.922723"
      ]
     },
     "metadata": {},
     "output_type": "display_data"
    },
    {
     "data": {
      "text/html": [
       "1.49815993327875"
      ],
      "text/latex": [
       "1.49815993327875"
      ],
      "text/markdown": [
       "1.49815993327875"
      ],
      "text/plain": [
       "[1] 1.49816"
      ]
     },
     "metadata": {},
     "output_type": "display_data"
    }
   ],
   "source": [
    "#Comorbidity rates\n",
    "table(completeSample$comorbidity)\n",
    "mean(completeSample$comorbidity) #2.75\n",
    "sd(completeSample$comorbidity) #1.50"
   ]
  },
  {
   "cell_type": "code",
   "execution_count": 150,
   "id": "nutritional-angle",
   "metadata": {},
   "outputs": [
    {
     "data": {
      "text/html": [
       "<table class=\"dataframe\">\n",
       "<caption>A data.frame: 10 × 3</caption>\n",
       "<thead>\n",
       "\t<tr><th></th><th scope=col>names.rank.</th><th scope=col>rank</th><th scope=col>rank.nrow.completeSample.</th></tr>\n",
       "\t<tr><th></th><th scope=col>&lt;fct&gt;</th><th scope=col>&lt;dbl&gt;</th><th scope=col>&lt;dbl&gt;</th></tr>\n",
       "</thead>\n",
       "<tbody>\n",
       "\t<tr><th scope=row>mddrnp_1</th><td>mddrnp_1</td><td>891</td><td>0.81968721</td></tr>\n",
       "\t<tr><th scope=row>gad4_1</th><td>gad4_1  </td><td>479</td><td>0.44066237</td></tr>\n",
       "\t<tr><th scope=row>ptsd4_1</th><td>ptsd4_1 </td><td>283</td><td>0.26034959</td></tr>\n",
       "\t<tr><th scope=row>bord_1</th><td>bord_1  </td><td>194</td><td>0.17847286</td></tr>\n",
       "\t<tr><th scope=row>socal4_1</th><td>socal4_1</td><td>178</td><td>0.16375345</td></tr>\n",
       "\t<tr><th scope=row>mddsnp_1</th><td>mddsnp_1</td><td>110</td><td>0.10119595</td></tr>\n",
       "\t<tr><th scope=row>etohab_1</th><td>etohab_1</td><td> 93</td><td>0.08555658</td></tr>\n",
       "\t<tr><th scope=row>panic_1</th><td>panic_1 </td><td> 92</td><td>0.08463661</td></tr>\n",
       "\t<tr><th scope=row>pda_1</th><td>pda_1   </td><td> 90</td><td>0.08279669</td></tr>\n",
       "\t<tr><th scope=row>mjab_1</th><td>mjab_1  </td><td> 82</td><td>0.07543698</td></tr>\n",
       "</tbody>\n",
       "</table>\n"
      ],
      "text/latex": [
       "A data.frame: 10 × 3\n",
       "\\begin{tabular}{r|lll}\n",
       "  & names.rank. & rank & rank.nrow.completeSample.\\\\\n",
       "  & <fct> & <dbl> & <dbl>\\\\\n",
       "\\hline\n",
       "\tmddrnp\\_1 & mddrnp\\_1 & 891 & 0.81968721\\\\\n",
       "\tgad4\\_1 & gad4\\_1   & 479 & 0.44066237\\\\\n",
       "\tptsd4\\_1 & ptsd4\\_1  & 283 & 0.26034959\\\\\n",
       "\tbord\\_1 & bord\\_1   & 194 & 0.17847286\\\\\n",
       "\tsocal4\\_1 & socal4\\_1 & 178 & 0.16375345\\\\\n",
       "\tmddsnp\\_1 & mddsnp\\_1 & 110 & 0.10119595\\\\\n",
       "\tetohab\\_1 & etohab\\_1 &  93 & 0.08555658\\\\\n",
       "\tpanic\\_1 & panic\\_1  &  92 & 0.08463661\\\\\n",
       "\tpda\\_1 & pda\\_1    &  90 & 0.08279669\\\\\n",
       "\tmjab\\_1 & mjab\\_1   &  82 & 0.07543698\\\\\n",
       "\\end{tabular}\n"
      ],
      "text/markdown": [
       "\n",
       "A data.frame: 10 × 3\n",
       "\n",
       "| <!--/--> | names.rank. &lt;fct&gt; | rank &lt;dbl&gt; | rank.nrow.completeSample. &lt;dbl&gt; |\n",
       "|---|---|---|---|\n",
       "| mddrnp_1 | mddrnp_1 | 891 | 0.81968721 |\n",
       "| gad4_1 | gad4_1   | 479 | 0.44066237 |\n",
       "| ptsd4_1 | ptsd4_1  | 283 | 0.26034959 |\n",
       "| bord_1 | bord_1   | 194 | 0.17847286 |\n",
       "| socal4_1 | socal4_1 | 178 | 0.16375345 |\n",
       "| mddsnp_1 | mddsnp_1 | 110 | 0.10119595 |\n",
       "| etohab_1 | etohab_1 |  93 | 0.08555658 |\n",
       "| panic_1 | panic_1  |  92 | 0.08463661 |\n",
       "| pda_1 | pda_1    |  90 | 0.08279669 |\n",
       "| mjab_1 | mjab_1   |  82 | 0.07543698 |\n",
       "\n"
      ],
      "text/plain": [
       "         names.rank. rank rank.nrow.completeSample.\n",
       "mddrnp_1 mddrnp_1    891  0.81968721               \n",
       "gad4_1   gad4_1      479  0.44066237               \n",
       "ptsd4_1  ptsd4_1     283  0.26034959               \n",
       "bord_1   bord_1      194  0.17847286               \n",
       "socal4_1 socal4_1    178  0.16375345               \n",
       "mddsnp_1 mddsnp_1    110  0.10119595               \n",
       "etohab_1 etohab_1     93  0.08555658               \n",
       "panic_1  panic_1      92  0.08463661               \n",
       "pda_1    pda_1        90  0.08279669               \n",
       "mjab_1   mjab_1       82  0.07543698               "
      ]
     },
     "metadata": {},
     "output_type": "display_data"
    }
   ],
   "source": [
    "rank = \n",
    "completeSample[,142:261] %>%\n",
    "dplyr::select(-contains('nos'))%>%\n",
    "mutate_all(~ifelse(grepl('Curr',.),1, 0)) %>%\n",
    "colSums()\n",
    "\n",
    "dx_rank = data.frame(names(rank),  rank, rank/nrow(completeSample))\n",
    "dx_rank[order(dx_rank$rank,decreasing = T),][1:10,]"
   ]
  },
  {
   "cell_type": "code",
   "execution_count": 151,
   "id": "foreign-connectivity",
   "metadata": {},
   "outputs": [
    {
     "data": {
      "text/html": [
       "0.378627237722611"
      ],
      "text/latex": [
       "0.378627237722611"
      ],
      "text/markdown": [
       "0.378627237722611"
      ],
      "text/plain": [
       "[1] 0.3786272"
      ]
     },
     "metadata": {},
     "output_type": "display_data"
    }
   ],
   "source": [
    "#Correlation between BPD and # of cormorbidities \n",
    "cor(completeSample$bpd,completeSample$comorbidity) "
   ]
  },
  {
   "cell_type": "code",
   "execution_count": 152,
   "id": "funded-manual",
   "metadata": {},
   "outputs": [
    {
     "name": "stderr",
     "output_type": "stream",
     "text": [
      "`summarise()` ungrouping output (override with `.groups` argument)\n",
      "\n"
     ]
    },
    {
     "data": {
      "text/html": [
       "<table class=\"dataframe\">\n",
       "<caption>A tibble: 2 × 3</caption>\n",
       "<thead>\n",
       "\t<tr><th scope=col>bpd</th><th scope=col>mean</th><th scope=col>sd</th></tr>\n",
       "\t<tr><th scope=col>&lt;dbl&gt;</th><th scope=col>&lt;dbl&gt;</th><th scope=col>&lt;dbl&gt;</th></tr>\n",
       "</thead>\n",
       "<tbody>\n",
       "\t<tr><td>0</td><td>11.23068</td><td> 5.168298</td></tr>\n",
       "\t<tr><td>1</td><td>14.45876</td><td>11.007809</td></tr>\n",
       "</tbody>\n",
       "</table>\n"
      ],
      "text/latex": [
       "A tibble: 2 × 3\n",
       "\\begin{tabular}{lll}\n",
       " bpd & mean & sd\\\\\n",
       " <dbl> & <dbl> & <dbl>\\\\\n",
       "\\hline\n",
       "\t 0 & 11.23068 &  5.168298\\\\\n",
       "\t 1 & 14.45876 & 11.007809\\\\\n",
       "\\end{tabular}\n"
      ],
      "text/markdown": [
       "\n",
       "A tibble: 2 × 3\n",
       "\n",
       "| bpd &lt;dbl&gt; | mean &lt;dbl&gt; | sd &lt;dbl&gt; |\n",
       "|---|---|---|\n",
       "| 0 | 11.23068 |  5.168298 |\n",
       "| 1 | 14.45876 | 11.007809 |\n",
       "\n"
      ],
      "text/plain": [
       "  bpd mean     sd       \n",
       "1 0   11.23068  5.168298\n",
       "2 1   14.45876 11.007809"
      ]
     },
     "metadata": {},
     "output_type": "display_data"
    },
    {
     "data": {
      "text/plain": [
       "\n",
       "\tWelch Two Sample t-test\n",
       "\n",
       "data:  completeSample$tx_length[completeSample$bpd == 0] and completeSample$tx_length[completeSample$bpd == 1]\n",
       "t = -3.9901, df = 211.82, p-value = 9.098e-05\n",
       "alternative hypothesis: true difference in means is not equal to 0\n",
       "95 percent confidence interval:\n",
       " -4.822836 -1.633323\n",
       "sample estimates:\n",
       "mean of x mean of y \n",
       " 11.23068  14.45876 \n"
      ]
     },
     "metadata": {},
     "output_type": "display_data"
    },
    {
     "name": "stderr",
     "output_type": "stream",
     "text": [
      "`summarise()` ungrouping output (override with `.groups` argument)\n",
      "\n"
     ]
    },
    {
     "data": {
      "text/html": [
       "<table class=\"dataframe\">\n",
       "<caption>A tibble: 2 × 3</caption>\n",
       "<thead>\n",
       "\t<tr><th scope=col>bpd</th><th scope=col>mean</th><th scope=col>sd</th></tr>\n",
       "\t<tr><th scope=col>&lt;dbl&gt;</th><th scope=col>&lt;dbl&gt;</th><th scope=col>&lt;dbl&gt;</th></tr>\n",
       "</thead>\n",
       "<tbody>\n",
       "\t<tr><td>0</td><td>2.658455</td><td>1.374344</td></tr>\n",
       "\t<tr><td>1</td><td>4.139175</td><td>1.445454</td></tr>\n",
       "</tbody>\n",
       "</table>\n"
      ],
      "text/latex": [
       "A tibble: 2 × 3\n",
       "\\begin{tabular}{lll}\n",
       " bpd & mean & sd\\\\\n",
       " <dbl> & <dbl> & <dbl>\\\\\n",
       "\\hline\n",
       "\t 0 & 2.658455 & 1.374344\\\\\n",
       "\t 1 & 4.139175 & 1.445454\\\\\n",
       "\\end{tabular}\n"
      ],
      "text/markdown": [
       "\n",
       "A tibble: 2 × 3\n",
       "\n",
       "| bpd &lt;dbl&gt; | mean &lt;dbl&gt; | sd &lt;dbl&gt; |\n",
       "|---|---|---|\n",
       "| 0 | 2.658455 | 1.374344 |\n",
       "| 1 | 4.139175 | 1.445454 |\n",
       "\n"
      ],
      "text/plain": [
       "  bpd mean     sd      \n",
       "1 0   2.658455 1.374344\n",
       "2 1   4.139175 1.445454"
      ]
     },
     "metadata": {},
     "output_type": "display_data"
    },
    {
     "data": {
      "text/plain": [
       "\n",
       "\tWelch Two Sample t-test\n",
       "\n",
       "data:  completeSample$comorbidity[completeSample$bpd == 0] and completeSample$comorbidity[completeSample$bpd == 1]\n",
       "t = -13.045, df = 273.97, p-value < 2.2e-16\n",
       "alternative hypothesis: true difference in means is not equal to 0\n",
       "95 percent confidence interval:\n",
       " -1.704187 -1.257254\n",
       "sample estimates:\n",
       "mean of x mean of y \n",
       " 2.658455  4.139175 \n"
      ]
     },
     "metadata": {},
     "output_type": "display_data"
    }
   ],
   "source": [
    "#BPD and Comorbidities vs. Treatment Length\n",
    "completeSample$tx_length = completeSample$Days_complete_1 + completeSample$Days_not_attended_1\n",
    "completeSample %>%\n",
    "group_by(bpd) %>%\n",
    "summarize(mean = mean(tx_length), sd = sd(tx_length))\n",
    "\n",
    "t.test(completeSample$tx_length[completeSample$bpd == 0],\n",
    "      completeSample$tx_length[completeSample$bpd == 1])\n",
    "\n",
    "\n",
    "completeSample$tx_length = completeSample$Days_complete_1 + completeSample$Days_not_attended_1\n",
    "completeSample %>%\n",
    "group_by(bpd) %>%\n",
    "summarize(mean = mean(comorbidity), sd = sd(comorbidity))\n",
    "\n",
    "t.test(completeSample$comorbidity[completeSample$bpd == 0],\n",
    "      completeSample$comorbidity[completeSample$bpd == 1])\n",
    "\n",
    "\n",
    "#completeSample$tx_attendence_rate = completeSample$Days_complete_1/completeSample$tx_length\n",
    "#summary(lm(tx_length ~bpd + comorbidity, completeSample)) #Both BPD and Comorbidities predicted longer treatment length in tx completion sample\n",
    "#summary(lm(tx_attendence_rate ~bpd + comorbidity , completeSample)) #BPD does not predicted attendence rate, while # of comorbidities predicted lower attendence rate"
   ]
  },
  {
   "cell_type": "code",
   "execution_count": 153,
   "id": "supreme-communication",
   "metadata": {},
   "outputs": [
    {
     "data": {
      "text/html": [
       "<table class=\"dataframe\">\n",
       "<caption>A tibble: 1 × 6</caption>\n",
       "<thead>\n",
       "\t<tr><th scope=col>depM</th><th scope=col>depSD</th><th scope=col>anxM</th><th scope=col>anxSD</th><th scope=col>angM</th><th scope=col>angSD</th></tr>\n",
       "\t<tr><th scope=col>&lt;dbl&gt;</th><th scope=col>&lt;dbl&gt;</th><th scope=col>&lt;dbl&gt;</th><th scope=col>&lt;dbl&gt;</th><th scope=col>&lt;dbl&gt;</th><th scope=col>&lt;dbl&gt;</th></tr>\n",
       "</thead>\n",
       "<tbody>\n",
       "\t<tr><td>3.404691</td><td>0.7168148</td><td>3.1307</td><td>0.8878087</td><td>2.244165</td><td>0.9634773</td></tr>\n",
       "</tbody>\n",
       "</table>\n"
      ],
      "text/latex": [
       "A tibble: 1 × 6\n",
       "\\begin{tabular}{llllll}\n",
       " depM & depSD & anxM & anxSD & angM & angSD\\\\\n",
       " <dbl> & <dbl> & <dbl> & <dbl> & <dbl> & <dbl>\\\\\n",
       "\\hline\n",
       "\t 3.404691 & 0.7168148 & 3.1307 & 0.8878087 & 2.244165 & 0.9634773\\\\\n",
       "\\end{tabular}\n"
      ],
      "text/markdown": [
       "\n",
       "A tibble: 1 × 6\n",
       "\n",
       "| depM &lt;dbl&gt; | depSD &lt;dbl&gt; | anxM &lt;dbl&gt; | anxSD &lt;dbl&gt; | angM &lt;dbl&gt; | angSD &lt;dbl&gt; |\n",
       "|---|---|---|---|---|---|\n",
       "| 3.404691 | 0.7168148 | 3.1307 | 0.8878087 | 2.244165 | 0.9634773 |\n",
       "\n"
      ],
      "text/plain": [
       "  depM     depSD     anxM   anxSD     angM     angSD    \n",
       "1 3.404691 0.7168148 3.1307 0.8878087 2.244165 0.9634773"
      ]
     },
     "metadata": {},
     "output_type": "display_data"
    }
   ],
   "source": [
    "#Inital Severity\n",
    "completeSample %>% \n",
    "summarize(depM = mean(depMean, na.rm = T), depSD = sd(depMean, na.rm = T),\n",
    "         anxM = mean(anxMean, na.rm = T), anxSD = sd(anxMean, na.rm = T),\n",
    "         angM = mean(angMean, na.rm = T), angSD = sd(angMean, na.rm = T))"
   ]
  },
  {
   "cell_type": "code",
   "execution_count": 118,
   "id": "finite-clinic",
   "metadata": {},
   "outputs": [
    {
     "data": {
      "text/plain": [
       "\n",
       "                                         Female \n",
       "                                            720 \n",
       "                                           Male \n",
       "                                            347 \n",
       "                                     Non-Binary \n",
       "                                              4 \n",
       "                                          Other \n",
       "                                              6 \n",
       "Unknown (ID as Trans Before Demos Change 12.18) \n",
       "                                              9 "
      ]
     },
     "metadata": {},
     "output_type": "display_data"
    },
    {
     "data": {
      "text/plain": [
       "\n",
       "                                         Female \n",
       "                                    0.662373505 \n",
       "                                           Male \n",
       "                                    0.319227231 \n",
       "                                     Non-Binary \n",
       "                                    0.003679853 \n",
       "                                          Other \n",
       "                                    0.005519779 \n",
       "Unknown (ID as Trans Before Demos Change 12.18) \n",
       "                                    0.008279669 "
      ]
     },
     "metadata": {},
     "output_type": "display_data"
    },
    {
     "data": {
      "text/html": [
       "1087"
      ],
      "text/latex": [
       "1087"
      ],
      "text/markdown": [
       "1087"
      ],
      "text/plain": [
       "[1] 1087"
      ]
     },
     "metadata": {},
     "output_type": "display_data"
    },
    {
     "data": {
      "text/html": [
       "0.009199632"
      ],
      "text/latex": [
       "0.009199632"
      ],
      "text/markdown": [
       "0.009199632"
      ],
      "text/plain": [
       "[1] 0.009199632"
      ]
     },
     "metadata": {},
     "output_type": "display_data"
    }
   ],
   "source": [
    "table(completeSample$Gender_1)\n",
    "table(completeSample$Gender_1)/nrow(completeSample)\n",
    "nrow(completeSample)\n",
    "0.003679853 + 0.005519779 "
   ]
  },
  {
   "cell_type": "code",
   "execution_count": 119,
   "id": "noted-waters",
   "metadata": {},
   "outputs": [
    {
     "data": {
      "text/html": [
       "40.3652253909844"
      ],
      "text/latex": [
       "40.3652253909844"
      ],
      "text/markdown": [
       "40.3652253909844"
      ],
      "text/plain": [
       "[1] 40.36523"
      ]
     },
     "metadata": {},
     "output_type": "display_data"
    },
    {
     "data": {
      "text/html": [
       "14.2595645107636"
      ],
      "text/latex": [
       "14.2595645107636"
      ],
      "text/markdown": [
       "14.2595645107636"
      ],
      "text/plain": [
       "[1] 14.25956"
      ]
     },
     "metadata": {},
     "output_type": "display_data"
    },
    {
     "data": {
      "text/html": [
       "<style>\n",
       ".list-inline {list-style: none; margin:0; padding: 0}\n",
       ".list-inline>li {display: inline-block}\n",
       ".list-inline>li:not(:last-child)::after {content: \"\\00b7\"; padding: 0 .5ex}\n",
       "</style>\n",
       "<ol class=list-inline><li>18</li><li>88</li></ol>\n"
      ],
      "text/latex": [
       "\\begin{enumerate*}\n",
       "\\item 18\n",
       "\\item 88\n",
       "\\end{enumerate*}\n"
      ],
      "text/markdown": [
       "1. 18\n",
       "2. 88\n",
       "\n",
       "\n"
      ],
      "text/plain": [
       "[1] 18 88"
      ]
     },
     "metadata": {},
     "output_type": "display_data"
    }
   ],
   "source": [
    "mean(completeSample$Age_1)\n",
    "sd(completeSample$Age_1)\n",
    "range(completeSample$Age_1)"
   ]
  },
  {
   "cell_type": "code",
   "execution_count": 120,
   "id": "usual-processing",
   "metadata": {},
   "outputs": [
    {
     "data": {
      "text/plain": [
       "\n",
       "     Asian      Black   Hispanic      Other Portuguese      White \n",
       "        15         79        126         45         26        795 "
      ]
     },
     "metadata": {},
     "output_type": "display_data"
    },
    {
     "data": {
      "text/plain": [
       "\n",
       "     Asian      Black   Hispanic      Other Portuguese      White \n",
       "0.01379945 0.07267709 0.11591536 0.04139834 0.02391904 0.73137075 "
      ]
     },
     "metadata": {},
     "output_type": "display_data"
    }
   ],
   "source": [
    "table(completeSample$Race_1)\n",
    "table(completeSample$Race_1)/nrow(completeSample)\n"
   ]
  },
  {
   "cell_type": "markdown",
   "id": "virtual-tension",
   "metadata": {},
   "source": [
    "### Complete Sample"
   ]
  },
  {
   "cell_type": "code",
   "execution_count": 190,
   "id": "victorian-visitor",
   "metadata": {},
   "outputs": [
    {
     "data": {
      "text/html": [
       "689"
      ],
      "text/latex": [
       "689"
      ],
      "text/markdown": [
       "689"
      ],
      "text/plain": [
       "[1] 689"
      ]
     },
     "metadata": {},
     "output_type": "display_data"
    },
    {
     "data": {
      "text/html": [
       "83"
      ],
      "text/latex": [
       "83"
      ],
      "text/markdown": [
       "83"
      ],
      "text/plain": [
       "[1] 83"
      ]
     },
     "metadata": {},
     "output_type": "display_data"
    },
    {
     "data": {
      "text/html": [
       "<table class=\"dataframe\">\n",
       "<caption>A data.frame: 3 × 2</caption>\n",
       "<thead>\n",
       "\t<tr><th scope=col>Var</th><th scope=col>ICC</th></tr>\n",
       "\t<tr><th scope=col>&lt;fct&gt;</th><th scope=col>&lt;dbl&gt;</th></tr>\n",
       "</thead>\n",
       "<tbody>\n",
       "\t<tr><td>Sym       </td><td>0.6539684</td></tr>\n",
       "\t<tr><td>Fun       </td><td>0.5778249</td></tr>\n",
       "\t<tr><td>Well-being</td><td>0.5482682</td></tr>\n",
       "</tbody>\n",
       "</table>\n"
      ],
      "text/latex": [
       "A data.frame: 3 × 2\n",
       "\\begin{tabular}{ll}\n",
       " Var & ICC\\\\\n",
       " <fct> & <dbl>\\\\\n",
       "\\hline\n",
       "\t Sym        & 0.6539684\\\\\n",
       "\t Fun        & 0.5778249\\\\\n",
       "\t Well-being & 0.5482682\\\\\n",
       "\\end{tabular}\n"
      ],
      "text/markdown": [
       "\n",
       "A data.frame: 3 × 2\n",
       "\n",
       "| Var &lt;fct&gt; | ICC &lt;dbl&gt; |\n",
       "|---|---|\n",
       "| Sym        | 0.6539684 |\n",
       "| Fun        | 0.5778249 |\n",
       "| Well-being | 0.5482682 |\n",
       "\n"
      ],
      "text/plain": [
       "  Var        ICC      \n",
       "1 Sym        0.6539684\n",
       "2 Fun        0.5778249\n",
       "3 Well-being 0.5482682"
      ]
     },
     "metadata": {},
     "output_type": "display_data"
    }
   ],
   "source": [
    "dfLongMDDComplete = dfLongMDD[dfLongMDD$DC_status_1 == 'Treatment Complete',]\n",
    "length(unique(dfLongMDDComplete$ID))\n",
    "dfLongMDDComplete$txlength = dfLongMDDComplete$Days_complete_1 + dfLongMDDComplete$Days_not_attended_1\n",
    "\n",
    "length(unique(dfLongMDDComplete[dfLongMDDComplete$bpd == 1, 'ID1']))\n",
    "\n",
    "#ICC, Descriptive Test, t-Tests\n",
    "\n",
    "\n",
    "model1 = lmer(depMean ~ day + (1|uniquePtId:ID1), data =  dfLongMDDComplete) \n",
    "model2 = lmer(dep17 ~ day + (1|uniquePtId:ID1), data =  dfLongMDDComplete) \n",
    "model3 = lmer(dep18 ~ day + (1|uniquePtId:ID1), data =  dfLongMDDComplete) \n",
    "table1 = data.frame(Var = c('Sym', 'Fun', 'Well-being'),\n",
    "    ICC = rbind(\n",
    "    icc(model1, by_group = TRUE),\n",
    "    icc(model2, by_group = TRUE),\n",
    "    icc(model3, by_group = TRUE))[,2])\n",
    "\n",
    "table1\n"
   ]
  },
  {
   "cell_type": "code",
   "execution_count": 156,
   "id": "artistic-training",
   "metadata": {},
   "outputs": [],
   "source": [
    "meanSE = function(x){\n",
    "    paste0(round(x$coefficient['bpd','Estimate'],2), ' (',\n",
    "       round(x$coefficient['bpd','Std. Error'],2) ,')')\n",
    "    \n",
    "}"
   ]
  },
  {
   "cell_type": "code",
   "execution_count": 166,
   "id": "olive-midwest",
   "metadata": {},
   "outputs": [
    {
     "data": {
      "text/plain": [
       "Linear mixed model fit by REML. t-tests use Satterthwaite's method [\n",
       "lmerModLmerTest]\n",
       "Formula: depMean ~ bpd + (1 | uniquePtId)\n",
       "   Data: dfLongMDDComplete_Session1\n",
       "\n",
       "REML criterion at convergence: 2037.5\n",
       "\n",
       "Scaled residuals: \n",
       "    Min      1Q  Median      3Q     Max \n",
       "-3.2707 -0.4691  0.0832  0.6271  2.2671 \n",
       "\n",
       "Random effects:\n",
       " Groups     Name        Variance Std.Dev.\n",
       " uniquePtId (Intercept) 0.112    0.3347  \n",
       " Residual               0.391    0.6253  \n",
       "Number of obs: 949, groups:  uniquePtId, 795\n",
       "\n",
       "Fixed effects:\n",
       "             Estimate Std. Error        df t value Pr(>|t|)    \n",
       "(Intercept)   3.37059    0.02605 780.53138 129.367  < 2e-16 ***\n",
       "bpd           0.19427    0.06130 940.46308   3.169  0.00158 ** \n",
       "---\n",
       "Signif. codes:  0 ‘***’ 0.001 ‘**’ 0.01 ‘*’ 0.05 ‘.’ 0.1 ‘ ’ 1\n",
       "\n",
       "Correlation of Fixed Effects:\n",
       "    (Intr)\n",
       "bpd -0.394"
      ]
     },
     "metadata": {},
     "output_type": "display_data"
    },
    {
     "data": {
      "text/plain": [
       "Linear mixed model fit by REML. t-tests use Satterthwaite's method [\n",
       "lmerModLmerTest]\n",
       "Formula: dep17 ~ bpd + (1 | uniquePtId)\n",
       "   Data: dfLongMDDComplete_Session1\n",
       "\n",
       "REML criterion at convergence: 2887.2\n",
       "\n",
       "Scaled residuals: \n",
       "    Min      1Q  Median      3Q     Max \n",
       "-2.6966 -0.6394  0.1894  0.9550  1.3206 \n",
       "\n",
       "Random effects:\n",
       " Groups     Name        Variance Std.Dev.\n",
       " uniquePtId (Intercept) 0.1571   0.3963  \n",
       " Residual               1.1199   1.0582  \n",
       "Number of obs: 936, groups:  uniquePtId, 786\n",
       "\n",
       "Fixed effects:\n",
       "             Estimate Std. Error        df t value Pr(>|t|)    \n",
       "(Intercept)   3.77150    0.04135 689.62936  91.206   <2e-16 ***\n",
       "bpd           0.14665    0.09876 878.37203   1.485    0.138    \n",
       "---\n",
       "Signif. codes:  0 ‘***’ 0.001 ‘**’ 0.01 ‘*’ 0.05 ‘.’ 0.1 ‘ ’ 1\n",
       "\n",
       "Correlation of Fixed Effects:\n",
       "    (Intr)\n",
       "bpd -0.401"
      ]
     },
     "metadata": {},
     "output_type": "display_data"
    },
    {
     "data": {
      "text/plain": [
       "Linear mixed model fit by REML. t-tests use Satterthwaite's method [\n",
       "lmerModLmerTest]\n",
       "Formula: dep18 ~ bpd + (1 | uniquePtId)\n",
       "   Data: dfLongMDDComplete_Session1\n",
       "\n",
       "REML criterion at convergence: 2396\n",
       "\n",
       "Scaled residuals: \n",
       "    Min      1Q  Median      3Q     Max \n",
       "-2.8654 -0.6152  0.3000  0.4400  1.8631 \n",
       "\n",
       "Random effects:\n",
       " Groups     Name        Variance Std.Dev.\n",
       " uniquePtId (Intercept) 0.1140   0.3376  \n",
       " Residual               0.6503   0.8064  \n",
       "Number of obs: 932, groups:  uniquePtId, 783\n",
       "\n",
       "Fixed effects:\n",
       "             Estimate Std. Error        df t value Pr(>|t|)    \n",
       "(Intercept)   3.58304    0.03215 786.01669 111.442   <2e-16 ***\n",
       "bpd           0.13265    0.07663 910.88426   1.731   0.0838 .  \n",
       "---\n",
       "Signif. codes:  0 ‘***’ 0.001 ‘**’ 0.01 ‘*’ 0.05 ‘.’ 0.1 ‘ ’ 1\n",
       "\n",
       "Correlation of Fixed Effects:\n",
       "    (Intr)\n",
       "bpd -0.399"
      ]
     },
     "metadata": {},
     "output_type": "display_data"
    },
    {
     "data": {
      "text/plain": [
       "Linear mixed model fit by REML. t-tests use Satterthwaite's method [\n",
       "lmerModLmerTest]\n",
       "Formula: comorbidity ~ bpd + (1 | uniquePtId)\n",
       "   Data: dfLongMDDComplete_Session1\n",
       "\n",
       "REML criterion at convergence: 3722.1\n",
       "\n",
       "Scaled residuals: \n",
       "    Min      1Q  Median      3Q     Max \n",
       "-2.0536 -0.4424 -0.1150  0.5197  4.8250 \n",
       "\n",
       "Random effects:\n",
       " Groups     Name        Variance Std.Dev.\n",
       " uniquePtId (Intercept) 0.3047   0.552   \n",
       " Residual               1.6406   1.281   \n",
       "Number of obs: 1063, groups:  uniquePtId, 877\n",
       "\n",
       "Fixed effects:\n",
       "             Estimate Std. Error        df t value Pr(>|t|)    \n",
       "(Intercept)    2.6719     0.0483  913.4841   55.32   <2e-16 ***\n",
       "bpd            1.4471     0.1128 1044.7525   12.83   <2e-16 ***\n",
       "---\n",
       "Signif. codes:  0 ‘***’ 0.001 ‘**’ 0.01 ‘*’ 0.05 ‘.’ 0.1 ‘ ’ 1\n",
       "\n",
       "Correlation of Fixed Effects:\n",
       "    (Intr)\n",
       "bpd -0.400"
      ]
     },
     "metadata": {},
     "output_type": "display_data"
    },
    {
     "data": {
      "text/plain": [
       "Linear mixed model fit by REML. t-tests use Satterthwaite's method [\n",
       "lmerModLmerTest]\n",
       "Formula: txlength ~ bpd + (1 | uniquePtId)\n",
       "   Data: dfLongMDDComplete_Session1\n",
       "\n",
       "REML criterion at convergence: 7030.5\n",
       "\n",
       "Scaled residuals: \n",
       "    Min      1Q  Median      3Q     Max \n",
       "-1.6469 -0.6169 -0.1791  0.4046 13.9747 \n",
       "\n",
       "Random effects:\n",
       " Groups     Name        Variance Std.Dev.\n",
       " uniquePtId (Intercept)  2.991   1.729   \n",
       " Residual               40.756   6.384   \n",
       "Number of obs: 1063, groups:  uniquePtId, 877\n",
       "\n",
       "Fixed effects:\n",
       "             Estimate Std. Error        df t value Pr(>|t|)    \n",
       "(Intercept)   11.2276     0.2266  997.0100   49.56  < 2e-16 ***\n",
       "bpd            3.0556     0.5333 1041.5395    5.73 1.32e-08 ***\n",
       "---\n",
       "Signif. codes:  0 ‘***’ 0.001 ‘**’ 0.01 ‘*’ 0.05 ‘.’ 0.1 ‘ ’ 1\n",
       "\n",
       "Correlation of Fixed Effects:\n",
       "    (Intr)\n",
       "bpd -0.412"
      ]
     },
     "metadata": {},
     "output_type": "display_data"
    }
   ],
   "source": [
    "\n",
    "#Pre-Treatment Data\n",
    "dfLongMDDComplete_Session1 = \n",
    "    dfLongMDDComplete %>%\n",
    "    filter(day == 0)\n",
    "\n",
    "#Pre-Treatment Depressive Symptoms\n",
    "pre_dep_comp = summary(lmer(depMean ~ bpd + (1|uniquePtI), dfLongMDDComplete_Session1))\n",
    "pre_dep_comp\n",
    "\n",
    "#Pre-Treatment Functionality\n",
    "pre_fun_comp = summary(lmer(dep17 ~ bpd + (1|uniquePtId), dfLongMDDComplete_Session1))\n",
    "pre_fun_comp\n",
    "\n",
    "#Pre-Treatment Well-Being\n",
    "pre_well_comp = summary(lmer(dep18 ~ bpd + (1|uniquePtId), dfLongMDDComplete_Session1))\n",
    "pre_well_comp\n",
    "\n",
    "table1 = cbind(table1, c(meanSE(pre_dep_comp), meanSE(pre_fun_comp), meanSE(pre_well_comp)))\n",
    "\n",
    "\n",
    "#Comorbidity\n",
    "summary(lmer(comorbidity ~ bpd + (1|uniquePtId), dfLongMDDComplete_Session1))\n",
    "\n",
    "#Treatment Length\n",
    "summary(lmer(txlength ~ bpd + (1|uniquePtId), dfLongMDDComplete_Session1))\n",
    "\n"
   ]
  },
  {
   "cell_type": "code",
   "execution_count": 157,
   "id": "quarterly-capability",
   "metadata": {},
   "outputs": [
    {
     "data": {
      "text/html": [
       "<table class=\"dataframe\">\n",
       "<caption>A data.frame: 3 × 3</caption>\n",
       "<thead>\n",
       "\t<tr><th scope=col>Var</th><th scope=col>ICC</th><th scope=col>pre</th></tr>\n",
       "\t<tr><th scope=col>&lt;fct&gt;</th><th scope=col>&lt;dbl&gt;</th><th scope=col>&lt;fct&gt;</th></tr>\n",
       "</thead>\n",
       "<tbody>\n",
       "\t<tr><td>Sym       </td><td>0.6702102</td><td>0.21 (0.06)</td></tr>\n",
       "\t<tr><td>Fun       </td><td>0.5810962</td><td>0.13 (0.1) </td></tr>\n",
       "\t<tr><td>Well-being</td><td>0.5640719</td><td>0.11 (0.08)</td></tr>\n",
       "</tbody>\n",
       "</table>\n"
      ],
      "text/latex": [
       "A data.frame: 3 × 3\n",
       "\\begin{tabular}{lll}\n",
       " Var & ICC & pre\\\\\n",
       " <fct> & <dbl> & <fct>\\\\\n",
       "\\hline\n",
       "\t Sym        & 0.6702102 & 0.21 (0.06)\\\\\n",
       "\t Fun        & 0.5810962 & 0.13 (0.1) \\\\\n",
       "\t Well-being & 0.5640719 & 0.11 (0.08)\\\\\n",
       "\\end{tabular}\n"
      ],
      "text/markdown": [
       "\n",
       "A data.frame: 3 × 3\n",
       "\n",
       "| Var &lt;fct&gt; | ICC &lt;dbl&gt; | pre &lt;fct&gt; |\n",
       "|---|---|---|\n",
       "| Sym        | 0.6702102 | 0.21 (0.06) |\n",
       "| Fun        | 0.5810962 | 0.13 (0.1)  |\n",
       "| Well-being | 0.5640719 | 0.11 (0.08) |\n",
       "\n"
      ],
      "text/plain": [
       "  Var        ICC       pre        \n",
       "1 Sym        0.6702102 0.21 (0.06)\n",
       "2 Fun        0.5810962 0.13 (0.1) \n",
       "3 Well-being 0.5640719 0.11 (0.08)"
      ]
     },
     "metadata": {},
     "output_type": "display_data"
    }
   ],
   "source": [
    "table1 = cbind(table1, pre = c(meanSE(pre_dep_comp), meanSE(pre_fun_comp), meanSE(pre_well_comp)))\n",
    "table1"
   ]
  },
  {
   "cell_type": "code",
   "execution_count": 163,
   "id": "breeding-gateway",
   "metadata": {},
   "outputs": [
    {
     "data": {
      "text/plain": [
       "Linear mixed model fit by REML ['lmerModLmerTest']\n",
       "Formula: depMean ~ bpd + (1 | uniquePtId)\n",
       "   Data: dfLongMDDComplete_SessionF\n",
       "REML criterion at convergence: 1653.385\n",
       "Random effects:\n",
       " Groups     Name        Std.Dev.\n",
       " uniquePtId (Intercept) 0.4198  \n",
       " Residual               0.7466  \n",
       "Number of obs: 654, groups:  uniquePtId, 574\n",
       "Fixed Effects:\n",
       "(Intercept)          bpd  \n",
       "    2.29659      0.06438  "
      ]
     },
     "metadata": {},
     "output_type": "display_data"
    }
   ],
   "source": [
    "lmer(depMean ~ bpd + (1|uniquePtId), dfLongMDDComplete_SessionF)\n"
   ]
  },
  {
   "cell_type": "code",
   "execution_count": 164,
   "id": "uniform-pendant",
   "metadata": {},
   "outputs": [
    {
     "data": {
      "text/plain": [
       "Linear mixed model fit by REML. t-tests use Satterthwaite's method [\n",
       "lmerModLmerTest]\n",
       "Formula: depMean ~ bpd + (1 | uniquePtId)\n",
       "   Data: dfLongMDDComplete_SessionF\n",
       "\n",
       "REML criterion at convergence: 1653.4\n",
       "\n",
       "Scaled residuals: \n",
       "    Min      1Q  Median      3Q     Max \n",
       "-1.6228 -0.6854 -0.1110  0.6003  3.7688 \n",
       "\n",
       "Random effects:\n",
       " Groups     Name        Variance Std.Dev.\n",
       " uniquePtId (Intercept) 0.1762   0.4198  \n",
       " Residual               0.5575   0.7466  \n",
       "Number of obs: 654, groups:  uniquePtId, 574\n",
       "\n",
       "Fixed effects:\n",
       "             Estimate Std. Error        df t value Pr(>|t|)    \n",
       "(Intercept)   2.29659    0.03752 603.26514  61.204   <2e-16 ***\n",
       "bpd           0.06438    0.08878 651.55843   0.725    0.469    \n",
       "---\n",
       "Signif. codes:  0 ‘***’ 0.001 ‘**’ 0.01 ‘*’ 0.05 ‘.’ 0.1 ‘ ’ 1\n",
       "\n",
       "Correlation of Fixed Effects:\n",
       "    (Intr)\n",
       "bpd -0.394"
      ]
     },
     "metadata": {},
     "output_type": "display_data"
    },
    {
     "data": {
      "text/plain": [
       "Linear mixed model fit by REML. t-tests use Satterthwaite's method [\n",
       "lmerModLmerTest]\n",
       "Formula: dep17 ~ bpd + (1 | uniquePtId)\n",
       "   Data: dfLongMDDComplete_SessionF\n",
       "\n",
       "REML criterion at convergence: 1974.2\n",
       "\n",
       "Scaled residuals: \n",
       "    Min      1Q  Median      3Q     Max \n",
       "-1.7239 -0.5987  0.1275  0.9084  2.1860 \n",
       "\n",
       "Random effects:\n",
       " Groups     Name        Variance Std.Dev.\n",
       " uniquePtId (Intercept) 0.2634   0.5132  \n",
       " Residual               1.0466   1.0231  \n",
       "Number of obs: 635, groups:  uniquePtId, 560\n",
       "\n",
       "Fixed effects:\n",
       "             Estimate Std. Error        df t value Pr(>|t|)    \n",
       "(Intercept)   2.76658    0.05077 581.47592  54.489   <2e-16 ***\n",
       "bpd           0.07019    0.12060 632.36424   0.582    0.561    \n",
       "---\n",
       "Signif. codes:  0 ‘***’ 0.001 ‘**’ 0.01 ‘*’ 0.05 ‘.’ 0.1 ‘ ’ 1\n",
       "\n",
       "Correlation of Fixed Effects:\n",
       "    (Intr)\n",
       "bpd -0.399"
      ]
     },
     "metadata": {},
     "output_type": "display_data"
    },
    {
     "data": {
      "text/plain": [
       "Linear mixed model fit by REML. t-tests use Satterthwaite's method [\n",
       "lmerModLmerTest]\n",
       "Formula: dep18 ~ bpd + +(1 | uniquePtId)\n",
       "   Data: dfLongMDDComplete_SessionF\n",
       "\n",
       "REML criterion at convergence: 1680.6\n",
       "\n",
       "Scaled residuals: \n",
       "    Min      1Q  Median      3Q     Max \n",
       "-1.9647 -0.8282  0.1024  0.3841  2.2899 \n",
       "\n",
       "Random effects:\n",
       " Groups     Name        Variance Std.Dev.\n",
       " uniquePtId (Intercept) 0.2419   0.4918  \n",
       " Residual               0.5679   0.7536  \n",
       "Number of obs: 641, groups:  uniquePtId, 564\n",
       "\n",
       "Fixed effects:\n",
       "             Estimate Std. Error        df t value Pr(>|t|)    \n",
       "(Intercept)   2.88997    0.03998 594.86250  72.292   <2e-16 ***\n",
       "bpd           0.10485    0.09311 634.35375   1.126    0.261    \n",
       "---\n",
       "Signif. codes:  0 ‘***’ 0.001 ‘**’ 0.01 ‘*’ 0.05 ‘.’ 0.1 ‘ ’ 1\n",
       "\n",
       "Correlation of Fixed Effects:\n",
       "    (Intr)\n",
       "bpd -0.394"
      ]
     },
     "metadata": {},
     "output_type": "display_data"
    }
   ],
   "source": [
    "#Post-Treatment Data\n",
    "dfLongMDDComplete_SessionF = \n",
    "    dfLongMDDComplete %>%\n",
    "    group_by(ID1) %>%\n",
    "    slice(day = max(day))%>%\n",
    "    ungroup() \n",
    "\n",
    "#Post-Treatment Depressive Symptoms\n",
    "post_dep_comp = summary(lmer(depMean ~ bpd + (1|uniquePtId), dfLongMDDComplete_SessionF))\n",
    "post_dep_comp\n",
    "\n",
    "#Post-Treatment Functionality\n",
    "post_fun_comp = summary(lmer(dep17 ~ bpd + (1|uniquePtId), dfLongMDDComplete_SessionF))\n",
    "post_fun_comp\n",
    "\n",
    "#Post-Treatment Well-Being\n",
    "post_well_comp  = summary(lmer(dep18 ~ bpd + (1|uniquePtId), dfLongMDDComplete_SessionF))\n",
    "post_well_comp \n",
    "\n",
    "table1 = cbind(table1, post = c(meanSE(post_dep_comp), meanSE(post_fun_comp), meanSE(post_well_comp)))\n"
   ]
  },
  {
   "cell_type": "code",
   "execution_count": 126,
   "id": "expired-cambridge",
   "metadata": {},
   "outputs": [
    {
     "name": "stderr",
     "output_type": "stream",
     "text": [
      "`summarise()` ungrouping output (override with `.groups` argument)\n",
      "\n"
     ]
    },
    {
     "data": {
      "text/plain": [
       "\n",
       "Call:\n",
       "lm(formula = depMeanC ~ bpd + SCID_1, data = dfLongMDDComplete_Change)\n",
       "\n",
       "Residuals:\n",
       "     Min       1Q   Median       3Q      Max \n",
       "-2.22132 -0.60178 -0.01085  0.65368  2.97961 \n",
       "\n",
       "Coefficients:\n",
       "            Estimate Std. Error t value Pr(>|t|)    \n",
       "(Intercept) -1.16711    0.13938  -8.374 3.41e-16 ***\n",
       "bpd         -0.02721    0.08649  -0.315    0.753    \n",
       "SCID_1no     0.01342    0.14200   0.095    0.925    \n",
       "SCID_1yes   -0.13455    0.16238  -0.829    0.408    \n",
       "---\n",
       "Signif. codes:  0 ‘***’ 0.001 ‘**’ 0.01 ‘*’ 0.05 ‘.’ 0.1 ‘ ’ 1\n",
       "\n",
       "Residual standard error: 0.8516 on 652 degrees of freedom\n",
       "  (431 observations deleted due to missingness)\n",
       "Multiple R-squared:  0.00386,\tAdjusted R-squared:  -0.0007235 \n",
       "F-statistic: 0.8422 on 3 and 652 DF,  p-value: 0.4711\n"
      ]
     },
     "metadata": {},
     "output_type": "display_data"
    },
    {
     "data": {
      "text/plain": [
       "\n",
       "Call:\n",
       "lm(formula = dep17C ~ bpd + SCID_1, data = dfLongMDDComplete_Change)\n",
       "\n",
       "Residuals:\n",
       "    Min      1Q  Median      3Q     Max \n",
       "-2.9153 -0.8685  0.1315  1.1315  4.2688 \n",
       "\n",
       "Coefficients:\n",
       "            Estimate Std. Error t value Pr(>|t|)    \n",
       "(Intercept)  -1.3949     0.2221  -6.280 6.32e-10 ***\n",
       "bpd          -0.1373     0.1346  -1.020    0.308    \n",
       "SCID_1no      0.2633     0.2257   1.167    0.244    \n",
       "SCID_1yes     0.3102     0.2556   1.213    0.225    \n",
       "---\n",
       "Signif. codes:  0 ‘***’ 0.001 ‘**’ 0.01 ‘*’ 0.05 ‘.’ 0.1 ‘ ’ 1\n",
       "\n",
       "Residual standard error: 1.3 on 628 degrees of freedom\n",
       "  (455 observations deleted due to missingness)\n",
       "Multiple R-squared:  0.004668,\tAdjusted R-squared:  -8.718e-05 \n",
       "F-statistic: 0.9817 on 3 and 628 DF,  p-value: 0.4009\n"
      ]
     },
     "metadata": {},
     "output_type": "display_data"
    },
    {
     "data": {
      "text/plain": [
       "\n",
       "Call:\n",
       "lm(formula = dep18C ~ bpd + SCID_1, data = dfLongMDDComplete_Change)\n",
       "\n",
       "Residuals:\n",
       "    Min      1Q  Median      3Q     Max \n",
       "-3.2316 -0.2316 -0.1562  0.7684  4.7684 \n",
       "\n",
       "Coefficients:\n",
       "            Estimate Std. Error t value Pr(>|t|)    \n",
       "(Intercept)  -1.1394     0.1781  -6.398  3.1e-10 ***\n",
       "bpd          -0.0754     0.1087  -0.693   0.4883    \n",
       "SCID_1no      0.3710     0.1810   2.050   0.0408 *  \n",
       "SCID_1yes     0.2955     0.2052   1.440   0.1503    \n",
       "---\n",
       "Signif. codes:  0 ‘***’ 0.001 ‘**’ 0.01 ‘*’ 0.05 ‘.’ 0.1 ‘ ’ 1\n",
       "\n",
       "Residual standard error: 1.042 on 623 degrees of freedom\n",
       "  (460 observations deleted due to missingness)\n",
       "Multiple R-squared:  0.008303,\tAdjusted R-squared:  0.003527 \n",
       "F-statistic: 1.739 on 3 and 623 DF,  p-value: 0.1578\n"
      ]
     },
     "metadata": {},
     "output_type": "display_data"
    }
   ],
   "source": [
    "#Change Data\n",
    "dfLongMDDComplete_Change = \n",
    "    dfLongMDDComplete %>%\n",
    "    group_by(ID1) %>%\n",
    "    summarize(bpd = bpd[1],\n",
    "    depMeanC = depMean[n()] - depMean[1],\n",
    "    dep17C = dep17[n()]-dep17[1],\n",
    "    dep18C = dep18[n()]-dep18[1],\n",
    "    SCID_1 = SCID_1[1]) %>%\n",
    "    ungroup()\n",
    "\n",
    "#Post-Treatment Depressive Symptoms\n",
    "change_dep_comp = summary(lm(depMeanC ~ bpd + SCID_1, dfLongMDDComplete_Change))\n",
    "change_dep_comp\n",
    "\n",
    "#Post-Treatment Functionality\n",
    "change_fun_comp = summary(lm(dep17C ~ bpd + SCID_1, dfLongMDDComplete_Change))\n",
    "change_fun_comp\n",
    "\n",
    "#Post-Treatment Well-Being\n",
    "change_well_comp = summary(lm(dep18C ~ bpd + SCID_1, dfLongMDDComplete_Change))\n",
    "change_well_comp\n",
    "\n",
    "table1 = cbind(table1, change = c(meanSE(change_dep_comp), meanSE(change_fun_comp), meanSE(change_well_comp)))\n",
    "\n"
   ]
  },
  {
   "cell_type": "code",
   "execution_count": 127,
   "id": "handed-craps",
   "metadata": {},
   "outputs": [
    {
     "data": {
      "text/html": [
       "<table class=\"dataframe\">\n",
       "<caption>A data.frame: 3 × 6</caption>\n",
       "<thead>\n",
       "\t<tr><th scope=col>Var</th><th scope=col>ICC</th><th scope=col>c(meanSE(pre_dep_comp), meanSE(pre_fun_comp), meanSE(pre_well_comp))</th><th scope=col>pre</th><th scope=col>post</th><th scope=col>change</th></tr>\n",
       "\t<tr><th scope=col>&lt;fct&gt;</th><th scope=col>&lt;dbl&gt;</th><th scope=col>&lt;fct&gt;</th><th scope=col>&lt;fct&gt;</th><th scope=col>&lt;fct&gt;</th><th scope=col>&lt;fct&gt;</th></tr>\n",
       "</thead>\n",
       "<tbody>\n",
       "\t<tr><td>Sym       </td><td>0.6702102</td><td>0.21 (0.06)</td><td>0.21 (0.06)</td><td>0.07 (0.09)</td><td>-0.03 (0.09)</td></tr>\n",
       "\t<tr><td>Fun       </td><td>0.5810962</td><td>0.13 (0.1) </td><td>0.13 (0.1) </td><td>0.08 (0.12)</td><td>-0.14 (0.13)</td></tr>\n",
       "\t<tr><td>Well-being</td><td>0.5640719</td><td>0.11 (0.08)</td><td>0.11 (0.08)</td><td>0.11 (0.09)</td><td>-0.08 (0.11)</td></tr>\n",
       "</tbody>\n",
       "</table>\n"
      ],
      "text/latex": [
       "A data.frame: 3 × 6\n",
       "\\begin{tabular}{llllll}\n",
       " Var & ICC & c(meanSE(pre\\_dep\\_comp), meanSE(pre\\_fun\\_comp), meanSE(pre\\_well\\_comp)) & pre & post & change\\\\\n",
       " <fct> & <dbl> & <fct> & <fct> & <fct> & <fct>\\\\\n",
       "\\hline\n",
       "\t Sym        & 0.6702102 & 0.21 (0.06) & 0.21 (0.06) & 0.07 (0.09) & -0.03 (0.09)\\\\\n",
       "\t Fun        & 0.5810962 & 0.13 (0.1)  & 0.13 (0.1)  & 0.08 (0.12) & -0.14 (0.13)\\\\\n",
       "\t Well-being & 0.5640719 & 0.11 (0.08) & 0.11 (0.08) & 0.11 (0.09) & -0.08 (0.11)\\\\\n",
       "\\end{tabular}\n"
      ],
      "text/markdown": [
       "\n",
       "A data.frame: 3 × 6\n",
       "\n",
       "| Var &lt;fct&gt; | ICC &lt;dbl&gt; | c(meanSE(pre_dep_comp), meanSE(pre_fun_comp), meanSE(pre_well_comp)) &lt;fct&gt; | pre &lt;fct&gt; | post &lt;fct&gt; | change &lt;fct&gt; |\n",
       "|---|---|---|---|---|---|\n",
       "| Sym        | 0.6702102 | 0.21 (0.06) | 0.21 (0.06) | 0.07 (0.09) | -0.03 (0.09) |\n",
       "| Fun        | 0.5810962 | 0.13 (0.1)  | 0.13 (0.1)  | 0.08 (0.12) | -0.14 (0.13) |\n",
       "| Well-being | 0.5640719 | 0.11 (0.08) | 0.11 (0.08) | 0.11 (0.09) | -0.08 (0.11) |\n",
       "\n"
      ],
      "text/plain": [
       "  Var        ICC      \n",
       "1 Sym        0.6702102\n",
       "2 Fun        0.5810962\n",
       "3 Well-being 0.5640719\n",
       "  c(meanSE(pre_dep_comp), meanSE(pre_fun_comp), meanSE(pre_well_comp))\n",
       "1 0.21 (0.06)                                                         \n",
       "2 0.13 (0.1)                                                          \n",
       "3 0.11 (0.08)                                                         \n",
       "  pre         post        change      \n",
       "1 0.21 (0.06) 0.07 (0.09) -0.03 (0.09)\n",
       "2 0.13 (0.1)  0.08 (0.12) -0.14 (0.13)\n",
       "3 0.11 (0.08) 0.11 (0.09) -0.08 (0.11)"
      ]
     },
     "metadata": {},
     "output_type": "display_data"
    }
   ],
   "source": [
    "table1"
   ]
  },
  {
   "cell_type": "code",
   "execution_count": 129,
   "id": "industrial-liberia",
   "metadata": {},
   "outputs": [
    {
     "name": "stderr",
     "output_type": "stream",
     "text": [
      "`summarise()` ungrouping output (override with `.groups` argument)\n",
      "\n"
     ]
    },
    {
     "ename": "ERROR",
     "evalue": "Error in is_fun_list(.funs): object 'mean_sd' not found\n",
     "output_type": "error",
     "traceback": [
      "Error in is_fun_list(.funs): object 'mean_sd' not found\nTraceback:\n",
      "1. dfLongMDDComplete %>% group_by(ID1) %>% summarize(bpd = bpd[1], \n .     depMeanC = depMean[n()] - depMean[1], dep17C = dep17[n()] - \n .         dep17[1], dep18c = dep18[n()] - dep18[1]) %>% ungroup() %>% \n .     dplyr::select(-ID1) %>% group_by(bpd) %>% summarize_all(mean_sd) %>% \n .     t()",
      "2. t(.)",
      "3. summarize_all(., mean_sd)",
      "4. manip_all(.tbl, .funs, enquo(.funs), caller_env(), ..., .caller = \"summarise_all\")",
      "5. as_fun_list(.funs, .env, ..., .caller = .caller)",
      "6. is_fun_list(.funs)"
     ]
    }
   ],
   "source": [
    "mean_sdc = \n",
    "dfLongMDDComplete %>%\n",
    "group_by(ID1) %>%\n",
    "summarize(bpd = bpd[1],\n",
    "    depMeanC = depMean[n()] - depMean[1],\n",
    "         dep17C = dep17[n()]-dep17[1],\n",
    "         dep18c = dep18[n()]-dep18[1]) %>%\n",
    "ungroup()%>%\n",
    "dplyr::select(-ID1)%>%\n",
    "group_by(bpd) %>%\n",
    "summarize_all(mean_sd) %>%\n",
    "t()\n",
    "\n",
    "table1 = cbind(table1, mean_sdc[2:4,])\n",
    "table1\n",
    "\n",
    "\n",
    "\n",
    "t_test_change_data = \n",
    "dfLongMDDComplete %>%\n",
    "group_by(ID1) %>%\n",
    "summarize(bpd = bpd[1],\n",
    "    depMeanC = depMean[n()] - depMean[1],\n",
    "         dep17C = dep17[n()]-dep17[1],\n",
    "         dep18c = dep18[n()]-dep18[1]) %>%\n",
    "ungroup()%>%\n",
    "dplyr::select(-ID1)\n",
    "\n",
    "for (i in 1:3){\n",
    "    print(t.test(t_test_change_data[t_test_change_data$bpd == 0,1+i],\n",
    "    t_test_change_data[t_test_change_data$bpd == 1,1+i]))\n",
    "}\n",
    "\n"
   ]
  },
  {
   "cell_type": "code",
   "execution_count": 130,
   "id": "global-irrigation",
   "metadata": {},
   "outputs": [
    {
     "data": {
      "text/html": [
       "1087"
      ],
      "text/latex": [
       "1087"
      ],
      "text/markdown": [
       "1087"
      ],
      "text/plain": [
       "[1] 1087"
      ]
     },
     "metadata": {},
     "output_type": "display_data"
    }
   ],
   "source": [
    "length(unique(dfLongMDDComplete$ID1))"
   ]
  },
  {
   "cell_type": "code",
   "execution_count": null,
   "id": "advisory-dominican",
   "metadata": {},
   "outputs": [],
   "source": [
    "dfLongMDDComplete$uniquePtId"
   ]
  },
  {
   "cell_type": "code",
   "execution_count": 191,
   "id": "framed-therapy",
   "metadata": {},
   "outputs": [
    {
     "data": {
      "text/plain": [
       "Linear mixed model fit by REML. t-tests use Satterthwaite's method [\n",
       "lmerModLmerTest]\n",
       "Formula: depMean ~ day * bpd + (1 + day | ID1)\n",
       "   Data: dfLongMDDComplete\n",
       "\n",
       "REML criterion at convergence: 9245.7\n",
       "\n",
       "Scaled residuals: \n",
       "    Min      1Q  Median      3Q     Max \n",
       "-3.4651 -0.5535 -0.0375  0.4866  7.2267 \n",
       "\n",
       "Random effects:\n",
       " Groups   Name        Variance Std.Dev. Corr \n",
       " ID1      (Intercept) 0.401597 0.63372       \n",
       "          day         0.008719 0.09338  -0.02\n",
       " Residual             0.178631 0.42265       \n",
       "Number of obs: 5710, groups:  ID1, 654\n",
       "\n",
       "Fixed effects:\n",
       "              Estimate Std. Error         df t value Pr(>|t|)    \n",
       "(Intercept)   3.020289   0.028745 648.115675 105.071  < 2e-16 ***\n",
       "day          -0.127116   0.004843 392.131342 -26.247  < 2e-16 ***\n",
       "bpd           0.291609   0.082800 635.493747   3.522 0.000459 ***\n",
       "day:bpd       0.003005   0.013641 356.011840   0.220 0.825761    \n",
       "---\n",
       "Signif. codes:  0 ‘***’ 0.001 ‘**’ 0.01 ‘*’ 0.05 ‘.’ 0.1 ‘ ’ 1\n",
       "\n",
       "Correlation of Fixed Effects:\n",
       "        (Intr) day    bpd   \n",
       "day     -0.187              \n",
       "bpd     -0.347  0.065       \n",
       "day:bpd  0.067 -0.355 -0.167"
      ]
     },
     "metadata": {},
     "output_type": "display_data"
    }
   ],
   "source": [
    "summary(lmer(depMean ~ day*bpd + (1+day|ID1) , data = dfLongMDDComplete)) \n"
   ]
  },
  {
   "cell_type": "code",
   "execution_count": 180,
   "id": "hired-complaint",
   "metadata": {},
   "outputs": [
    {
     "data": {
      "text/plain": [
       "Linear mixed model fit by REML. t-tests use Satterthwaite's method [\n",
       "lmerModLmerTest]\n",
       "Formula: depMean ~ day * bpd + (1 + day | ID1) + (1 | uniquePtId)\n",
       "   Data: dfLongMDDComplete\n",
       "\n",
       "REML criterion at convergence: 15087.2\n",
       "\n",
       "Scaled residuals: \n",
       "    Min      1Q  Median      3Q     Max \n",
       "-3.9453 -0.5559 -0.0297  0.4897  7.2243 \n",
       "\n",
       "Random effects:\n",
       " Groups     Name        Variance Std.Dev. Corr \n",
       " ID1        (Intercept) 0.335706 0.57940       \n",
       "            day         0.008063 0.08979  -0.03\n",
       " uniquePtId (Intercept) 0.101765 0.31901       \n",
       " Residual               0.178753 0.42279       \n",
       "Number of obs: 9366, groups:  ID1, 1021; uniquePtId, 845\n",
       "\n",
       "Fixed effects:\n",
       "              Estimate Std. Error         df t value Pr(>|t|)    \n",
       "(Intercept)   3.066718   0.025258 869.176260 121.413  < 2e-16 ***\n",
       "day          -0.114476   0.003836 628.881063 -29.845  < 2e-16 ***\n",
       "bpd           0.224025   0.059645 987.462470   3.756 0.000183 ***\n",
       "day:bpd       0.018960   0.008981 556.501840   2.111 0.035214 *  \n",
       "---\n",
       "Signif. codes:  0 ‘***’ 0.001 ‘**’ 0.01 ‘*’ 0.05 ‘.’ 0.1 ‘ ’ 1\n",
       "\n",
       "Correlation of Fixed Effects:\n",
       "        (Intr) day    bpd   \n",
       "day     -0.175              \n",
       "bpd     -0.391  0.073       \n",
       "day:bpd  0.075 -0.427 -0.157"
      ]
     },
     "metadata": {},
     "output_type": "display_data"
    }
   ],
   "source": [
    "summary(lmer(depMean ~ day*bpd + (1+day|ID1) + (1|uniquePtId), data = dfLongMDDComplete)) \n"
   ]
  },
  {
   "cell_type": "code",
   "execution_count": 175,
   "id": "lesser-adobe",
   "metadata": {},
   "outputs": [
    {
     "data": {
      "text/plain": [
       "Linear mixed model fit by REML. t-tests use Satterthwaite's method [\n",
       "lmerModLmerTest]\n",
       "Formula: depMean ~ day * bpd + (1 + day | uniquePtId:ID1) + (1 | uniquePtId)\n",
       "   Data: dfLongMDDComplete\n",
       "\n",
       "REML criterion at convergence: 15087.2\n",
       "\n",
       "Scaled residuals: \n",
       "    Min      1Q  Median      3Q     Max \n",
       "-3.9453 -0.5559 -0.0297  0.4897  7.2243 \n",
       "\n",
       "Random effects:\n",
       " Groups         Name        Variance Std.Dev. Corr \n",
       " uniquePtId:ID1 (Intercept) 0.335701 0.57940       \n",
       "                day         0.008063 0.08979  -0.03\n",
       " uniquePtId     (Intercept) 0.101766 0.31901       \n",
       " Residual                   0.178753 0.42279       \n",
       "Number of obs: 9366, groups:  uniquePtId:ID1, 1021; uniquePtId, 845\n",
       "\n",
       "Fixed effects:\n",
       "              Estimate Std. Error         df t value Pr(>|t|)    \n",
       "(Intercept)   3.066717   0.025258 869.178292 121.414  < 2e-16 ***\n",
       "day          -0.114476   0.003836 628.880991 -29.845  < 2e-16 ***\n",
       "bpd           0.224024   0.059645 987.476183   3.756 0.000183 ***\n",
       "day:bpd       0.018960   0.008981 556.501320   2.111 0.035215 *  \n",
       "---\n",
       "Signif. codes:  0 ‘***’ 0.001 ‘**’ 0.01 ‘*’ 0.05 ‘.’ 0.1 ‘ ’ 1\n",
       "\n",
       "Correlation of Fixed Effects:\n",
       "        (Intr) day    bpd   \n",
       "day     -0.175              \n",
       "bpd     -0.391  0.073       \n",
       "day:bpd  0.075 -0.427 -0.157"
      ]
     },
     "metadata": {},
     "output_type": "display_data"
    },
    {
     "name": "stderr",
     "output_type": "stream",
     "text": [
      "Warning message in checkConv(attr(opt, \"derivs\"), opt$par, ctrl = control$checkConv, :\n",
      "“Model failed to converge with max|grad| = 0.0037338 (tol = 0.002, component 1)”\n"
     ]
    },
    {
     "data": {
      "text/plain": [
       "Linear mixed model fit by REML. t-tests use Satterthwaite's method [\n",
       "lmerModLmerTest]\n",
       "Formula: depMean ~ day * bpd + (1 + day | uniquePtId/ID1)\n",
       "   Data: dfLongMDDComplete\n",
       "\n",
       "REML criterion at convergence: 15068.2\n",
       "\n",
       "Scaled residuals: \n",
       "    Min      1Q  Median      3Q     Max \n",
       "-3.9496 -0.5551 -0.0324  0.4885  7.2266 \n",
       "\n",
       "Random effects:\n",
       " Groups         Name        Variance Std.Dev. Corr \n",
       " ID1:uniquePtId (Intercept) 0.341076 0.58402       \n",
       "                day         0.004574 0.06763  -0.01\n",
       " uniquePtId     (Intercept) 0.096459 0.31058       \n",
       "                day         0.003602 0.06002  -0.05\n",
       " Residual                   0.178646 0.42267       \n",
       "Number of obs: 9366, groups:  ID1:uniquePtId, 1021; uniquePtId, 845\n",
       "\n",
       "Fixed effects:\n",
       "              Estimate Std. Error         df t value Pr(>|t|)    \n",
       "(Intercept)   3.068831   0.025240 856.628760 121.586  < 2e-16 ***\n",
       "day          -0.116441   0.003981 555.367438 -29.251  < 2e-16 ***\n",
       "bpd           0.228415   0.059661 987.018809   3.829 0.000137 ***\n",
       "day:bpd       0.011394   0.008944 534.805126   1.274 0.203258    \n",
       "---\n",
       "Signif. codes:  0 ‘***’ 0.001 ‘**’ 0.01 ‘*’ 0.05 ‘.’ 0.1 ‘ ’ 1\n",
       "\n",
       "Correlation of Fixed Effects:\n",
       "        (Intr) day    bpd   \n",
       "day     -0.175              \n",
       "bpd     -0.392  0.070       \n",
       "day:bpd  0.072 -0.383 -0.160\n",
       "optimizer (nloptwrap) convergence code: 0 (OK)\n",
       "Model failed to converge with max|grad| = 0.0037338 (tol = 0.002, component 1)\n"
      ]
     },
     "metadata": {},
     "output_type": "display_data"
    },
    {
     "data": {
      "text/plain": [
       "Linear mixed model fit by REML. t-tests use Satterthwaite's method [\n",
       "lmerModLmerTest]\n",
       "Formula: depMean ~ day * bpd + (1 | uniquePtId) + (1 + day | ID1)\n",
       "   Data: dfLongMDDComplete\n",
       "\n",
       "REML criterion at convergence: 15087.2\n",
       "\n",
       "Scaled residuals: \n",
       "    Min      1Q  Median      3Q     Max \n",
       "-3.9453 -0.5559 -0.0297  0.4897  7.2243 \n",
       "\n",
       "Random effects:\n",
       " Groups     Name        Variance Std.Dev. Corr \n",
       " ID1        (Intercept) 0.335706 0.57940       \n",
       "            day         0.008063 0.08979  -0.03\n",
       " uniquePtId (Intercept) 0.101765 0.31901       \n",
       " Residual               0.178753 0.42279       \n",
       "Number of obs: 9366, groups:  ID1, 1021; uniquePtId, 845\n",
       "\n",
       "Fixed effects:\n",
       "              Estimate Std. Error         df t value Pr(>|t|)    \n",
       "(Intercept)   3.066718   0.025258 869.176260 121.413  < 2e-16 ***\n",
       "day          -0.114476   0.003836 628.881063 -29.845  < 2e-16 ***\n",
       "bpd           0.224025   0.059645 987.462470   3.756 0.000183 ***\n",
       "day:bpd       0.018960   0.008981 556.501840   2.111 0.035214 *  \n",
       "---\n",
       "Signif. codes:  0 ‘***’ 0.001 ‘**’ 0.01 ‘*’ 0.05 ‘.’ 0.1 ‘ ’ 1\n",
       "\n",
       "Correlation of Fixed Effects:\n",
       "        (Intr) day    bpd   \n",
       "day     -0.175              \n",
       "bpd     -0.391  0.073       \n",
       "day:bpd  0.075 -0.427 -0.157"
      ]
     },
     "metadata": {},
     "output_type": "display_data"
    }
   ],
   "source": [
    "\n",
    "\n",
    "summary(lmer(depMean ~ day*bpd + (1+day|uniquePtId/ID1) , data = dfLongMDDComplete)) \n",
    "\n",
    "summary(lmer(depMean ~ day*bpd + (1|uniquePtId)+ (1+day|ID1) , data = dfLongMDDComplete)) "
   ]
  },
  {
   "cell_type": "code",
   "execution_count": 172,
   "id": "governmental-invention",
   "metadata": {},
   "outputs": [
    {
     "data": {
      "text/plain": [
       "Linear mixed model fit by REML. t-tests use Satterthwaite's method [\n",
       "lmerModLmerTest]\n",
       "Formula: depMean ~ day * bpd + (1 + day | ID1)\n",
       "   Data: dfLongMDDComplete\n",
       "\n",
       "REML criterion at convergence: 15097.6\n",
       "\n",
       "Scaled residuals: \n",
       "    Min      1Q  Median      3Q     Max \n",
       "-3.9394 -0.5550 -0.0300  0.4883  7.2253 \n",
       "\n",
       "Random effects:\n",
       " Groups   Name        Variance Std.Dev. Corr \n",
       " ID1      (Intercept) 0.436571 0.66074       \n",
       "          day         0.008061 0.08978  -0.02\n",
       " Residual             0.178750 0.42279       \n",
       "Number of obs: 9366, groups:  ID1, 1021\n",
       "\n",
       "Fixed effects:\n",
       "              Estimate Std. Error         df t value Pr(>|t|)    \n",
       "(Intercept)  3.075e+00  2.454e-02  1.020e+03 125.310  < 2e-16 ***\n",
       "day         -1.145e-01  3.835e-03  6.287e+02 -29.858  < 2e-16 ***\n",
       "bpd          2.500e-01  5.915e-02  9.919e+02   4.228 2.58e-05 ***\n",
       "day:bpd      1.893e-02  8.980e-03  5.563e+02   2.108   0.0355 *  \n",
       "---\n",
       "Signif. codes:  0 ‘***’ 0.001 ‘**’ 0.01 ‘*’ 0.05 ‘.’ 0.1 ‘ ’ 1\n",
       "\n",
       "Correlation of Fixed Effects:\n",
       "        (Intr) day    bpd   \n",
       "day     -0.176              \n",
       "bpd     -0.415  0.073       \n",
       "day:bpd  0.075 -0.427 -0.153"
      ]
     },
     "metadata": {},
     "output_type": "display_data"
    }
   ],
   "source": [
    "summary(lmer(depMean ~ day*bpd + (1+day|ID1) , data = dfLongMDDComplete)) "
   ]
  },
  {
   "cell_type": "code",
   "execution_count": 137,
   "id": "indoor-basket",
   "metadata": {
    "scrolled": false
   },
   "outputs": [
    {
     "name": "stdout",
     "output_type": "stream",
     "text": [
      "[1] \"Symptom reduction\"\n"
     ]
    },
    {
     "data": {
      "text/html": [
       "<table class=\"dataframe\">\n",
       "<caption>A matrix: 4 × 5 of type dbl</caption>\n",
       "<thead>\n",
       "\t<tr><th></th><th scope=col>Estimate</th><th scope=col>Std. Error</th><th scope=col>df</th><th scope=col>t value</th><th scope=col>Pr(&gt;|t|)</th></tr>\n",
       "</thead>\n",
       "<tbody>\n",
       "\t<tr><th scope=row>(Intercept)</th><td> 3.07511357</td><td>0.024540032</td><td>1020.3415</td><td>125.310086</td><td> 0.000000e+00</td></tr>\n",
       "\t<tr><th scope=row>day</th><td>-0.11451390</td><td>0.003835257</td><td> 628.7097</td><td>-29.858208</td><td>1.192343e-122</td></tr>\n",
       "\t<tr><th scope=row>bpd</th><td> 0.25004494</td><td>0.059145110</td><td> 991.9500</td><td>  4.227652</td><td> 2.579453e-05</td></tr>\n",
       "\t<tr><th scope=row>day:bpd</th><td> 0.01893208</td><td>0.008980405</td><td> 556.3372</td><td>  2.108155</td><td> 3.546419e-02</td></tr>\n",
       "</tbody>\n",
       "</table>\n"
      ],
      "text/latex": [
       "A matrix: 4 × 5 of type dbl\n",
       "\\begin{tabular}{r|lllll}\n",
       "  & Estimate & Std. Error & df & t value & Pr(>\\textbar{}t\\textbar{})\\\\\n",
       "\\hline\n",
       "\t(Intercept) &  3.07511357 & 0.024540032 & 1020.3415 & 125.310086 &  0.000000e+00\\\\\n",
       "\tday & -0.11451390 & 0.003835257 &  628.7097 & -29.858208 & 1.192343e-122\\\\\n",
       "\tbpd &  0.25004494 & 0.059145110 &  991.9500 &   4.227652 &  2.579453e-05\\\\\n",
       "\tday:bpd &  0.01893208 & 0.008980405 &  556.3372 &   2.108155 &  3.546419e-02\\\\\n",
       "\\end{tabular}\n"
      ],
      "text/markdown": [
       "\n",
       "A matrix: 4 × 5 of type dbl\n",
       "\n",
       "| <!--/--> | Estimate | Std. Error | df | t value | Pr(&gt;|t|) |\n",
       "|---|---|---|---|---|---|\n",
       "| (Intercept) |  3.07511357 | 0.024540032 | 1020.3415 | 125.310086 |  0.000000e+00 |\n",
       "| day | -0.11451390 | 0.003835257 |  628.7097 | -29.858208 | 1.192343e-122 |\n",
       "| bpd |  0.25004494 | 0.059145110 |  991.9500 |   4.227652 |  2.579453e-05 |\n",
       "| day:bpd |  0.01893208 | 0.008980405 |  556.3372 |   2.108155 |  3.546419e-02 |\n",
       "\n"
      ],
      "text/plain": [
       "            Estimate    Std. Error  df        t value    Pr(>|t|)     \n",
       "(Intercept)  3.07511357 0.024540032 1020.3415 125.310086  0.000000e+00\n",
       "day         -0.11451390 0.003835257  628.7097 -29.858208 1.192343e-122\n",
       "bpd          0.25004494 0.059145110  991.9500   4.227652  2.579453e-05\n",
       "day:bpd      0.01893208 0.008980405  556.3372   2.108155  3.546419e-02"
      ]
     },
     "metadata": {},
     "output_type": "display_data"
    },
    {
     "name": "stdout",
     "output_type": "stream",
     "text": [
      "[1] \"Functionoing\"\n"
     ]
    },
    {
     "data": {
      "text/html": [
       "<table class=\"dataframe\">\n",
       "<caption>A matrix: 4 × 5 of type dbl</caption>\n",
       "<thead>\n",
       "\t<tr><th></th><th scope=col>Estimate</th><th scope=col>Std. Error</th><th scope=col>df</th><th scope=col>t value</th><th scope=col>Pr(&gt;|t|)</th></tr>\n",
       "</thead>\n",
       "<tbody>\n",
       "\t<tr><th scope=row>(Intercept)</th><td> 3.56282374</td><td>0.035065679</td><td>1009.8757</td><td>101.604298</td><td>0.000000e+00</td></tr>\n",
       "\t<tr><th scope=row>day</th><td>-0.10150232</td><td>0.004663468</td><td> 580.8606</td><td>-21.765416</td><td>2.932625e-77</td></tr>\n",
       "\t<tr><th scope=row>bpd</th><td> 0.19591217</td><td>0.084190880</td><td> 972.8106</td><td>  2.327000</td><td>2.016977e-02</td></tr>\n",
       "\t<tr><th scope=row>day:bpd</th><td> 0.01605806</td><td>0.010604361</td><td> 475.3005</td><td>  1.514288</td><td>1.306175e-01</td></tr>\n",
       "</tbody>\n",
       "</table>\n"
      ],
      "text/latex": [
       "A matrix: 4 × 5 of type dbl\n",
       "\\begin{tabular}{r|lllll}\n",
       "  & Estimate & Std. Error & df & t value & Pr(>\\textbar{}t\\textbar{})\\\\\n",
       "\\hline\n",
       "\t(Intercept) &  3.56282374 & 0.035065679 & 1009.8757 & 101.604298 & 0.000000e+00\\\\\n",
       "\tday & -0.10150232 & 0.004663468 &  580.8606 & -21.765416 & 2.932625e-77\\\\\n",
       "\tbpd &  0.19591217 & 0.084190880 &  972.8106 &   2.327000 & 2.016977e-02\\\\\n",
       "\tday:bpd &  0.01605806 & 0.010604361 &  475.3005 &   1.514288 & 1.306175e-01\\\\\n",
       "\\end{tabular}\n"
      ],
      "text/markdown": [
       "\n",
       "A matrix: 4 × 5 of type dbl\n",
       "\n",
       "| <!--/--> | Estimate | Std. Error | df | t value | Pr(&gt;|t|) |\n",
       "|---|---|---|---|---|---|\n",
       "| (Intercept) |  3.56282374 | 0.035065679 | 1009.8757 | 101.604298 | 0.000000e+00 |\n",
       "| day | -0.10150232 | 0.004663468 |  580.8606 | -21.765416 | 2.932625e-77 |\n",
       "| bpd |  0.19591217 | 0.084190880 |  972.8106 |   2.327000 | 2.016977e-02 |\n",
       "| day:bpd |  0.01605806 | 0.010604361 |  475.3005 |   1.514288 | 1.306175e-01 |\n",
       "\n"
      ],
      "text/plain": [
       "            Estimate    Std. Error  df        t value    Pr(>|t|)    \n",
       "(Intercept)  3.56282374 0.035065679 1009.8757 101.604298 0.000000e+00\n",
       "day         -0.10150232 0.004663468  580.8606 -21.765416 2.932625e-77\n",
       "bpd          0.19591217 0.084190880  972.8106   2.327000 2.016977e-02\n",
       "day:bpd      0.01605806 0.010604361  475.3005   1.514288 1.306175e-01"
      ]
     },
     "metadata": {},
     "output_type": "display_data"
    },
    {
     "name": "stdout",
     "output_type": "stream",
     "text": [
      "[1] \"Wellbeing\"\n"
     ]
    },
    {
     "data": {
      "text/html": [
       "<table class=\"dataframe\">\n",
       "<caption>A matrix: 4 × 5 of type dbl</caption>\n",
       "<thead>\n",
       "\t<tr><th></th><th scope=col>Estimate</th><th scope=col>Std. Error</th><th scope=col>df</th><th scope=col>t value</th><th scope=col>Pr(&gt;|t|)</th></tr>\n",
       "</thead>\n",
       "<tbody>\n",
       "\t<tr><th scope=row>(Intercept)</th><td> 3.45545714</td><td>0.026409371</td><td>1016.3806</td><td>130.842082</td><td>0.000000e+00</td></tr>\n",
       "\t<tr><th scope=row>day</th><td>-0.06800142</td><td>0.003470658</td><td> 548.6479</td><td>-19.593236</td><td>3.359759e-65</td></tr>\n",
       "\t<tr><th scope=row>bpd</th><td> 0.16070578</td><td>0.063340496</td><td> 974.5428</td><td>  2.537173</td><td>1.133013e-02</td></tr>\n",
       "\t<tr><th scope=row>day:bpd</th><td> 0.01126395</td><td>0.007845611</td><td> 440.0637</td><td>  1.435701</td><td>1.517979e-01</td></tr>\n",
       "</tbody>\n",
       "</table>\n"
      ],
      "text/latex": [
       "A matrix: 4 × 5 of type dbl\n",
       "\\begin{tabular}{r|lllll}\n",
       "  & Estimate & Std. Error & df & t value & Pr(>\\textbar{}t\\textbar{})\\\\\n",
       "\\hline\n",
       "\t(Intercept) &  3.45545714 & 0.026409371 & 1016.3806 & 130.842082 & 0.000000e+00\\\\\n",
       "\tday & -0.06800142 & 0.003470658 &  548.6479 & -19.593236 & 3.359759e-65\\\\\n",
       "\tbpd &  0.16070578 & 0.063340496 &  974.5428 &   2.537173 & 1.133013e-02\\\\\n",
       "\tday:bpd &  0.01126395 & 0.007845611 &  440.0637 &   1.435701 & 1.517979e-01\\\\\n",
       "\\end{tabular}\n"
      ],
      "text/markdown": [
       "\n",
       "A matrix: 4 × 5 of type dbl\n",
       "\n",
       "| <!--/--> | Estimate | Std. Error | df | t value | Pr(&gt;|t|) |\n",
       "|---|---|---|---|---|---|\n",
       "| (Intercept) |  3.45545714 | 0.026409371 | 1016.3806 | 130.842082 | 0.000000e+00 |\n",
       "| day | -0.06800142 | 0.003470658 |  548.6479 | -19.593236 | 3.359759e-65 |\n",
       "| bpd |  0.16070578 | 0.063340496 |  974.5428 |   2.537173 | 1.133013e-02 |\n",
       "| day:bpd |  0.01126395 | 0.007845611 |  440.0637 |   1.435701 | 1.517979e-01 |\n",
       "\n"
      ],
      "text/plain": [
       "            Estimate    Std. Error  df        t value    Pr(>|t|)    \n",
       "(Intercept)  3.45545714 0.026409371 1016.3806 130.842082 0.000000e+00\n",
       "day         -0.06800142 0.003470658  548.6479 -19.593236 3.359759e-65\n",
       "bpd          0.16070578 0.063340496  974.5428   2.537173 1.133013e-02\n",
       "day:bpd      0.01126395 0.007845611  440.0637   1.435701 1.517979e-01"
      ]
     },
     "metadata": {},
     "output_type": "display_data"
    }
   ],
   "source": [
    "#Predcit changes in depression with bpd while controling for txlength\n",
    "print('Symptom reduction')\n",
    "sum_sym = summary(lmer(depMean ~ day*bpd + (1+day|uniquePtId:ID1), data = dfLongMDDComplete)) \n",
    "sum_sym$coefficients\n",
    "\n",
    "print('Functionoing')\n",
    "sum_fun = summary(lmer(dep17 ~ day*bpd + (1+day|uniquePtId:ID1), data = dfLongMDDComplete))\n",
    "sum_fun$coefficients\n",
    "\n",
    "print('Wellbeing')\n",
    "sum_well = summary(lmer(dep18 ~ day*bpd +   (1+day|uniquePtId:ID1), data = dfLongMDDComplete))\n",
    "sum_well$coefficients"
   ]
  },
  {
   "cell_type": "code",
   "execution_count": 26,
   "id": "effective-faculty",
   "metadata": {},
   "outputs": [
    {
     "data": {
      "text/plain": [
       "\n",
       "Cronbach's alpha for the 'dfLongMDDComplete[dfLongMDDComplete$day == 0, grep(\"^dep[0-9]*$\", ' '    colnames(dfLongMDDComplete))]' data-set\n",
       "\n",
       "Items: 18\n",
       "Sample units: 1063\n",
       "alpha: 0.855\n"
      ]
     },
     "metadata": {},
     "output_type": "display_data"
    }
   ],
   "source": [
    "#Chronbach's Alpha\n",
    "cronbach.alpha(dfLongMDDComplete[dfLongMDDComplete$day == 0,grep('^dep[0-9]*$', colnames(dfLongMDDComplete))], na.rm = T)\n"
   ]
  },
  {
   "cell_type": "code",
   "execution_count": 168,
   "id": "broad-scholar",
   "metadata": {
    "scrolled": true
   },
   "outputs": [
    {
     "data": {
      "text/plain": [
       "Linear mixed model fit by REML. t-tests use Satterthwaite's method [\n",
       "lmerModLmerTest]\n",
       "Formula: depMean ~ day * (bpd + comorbidity) + (1 + day | uniquePtId:ID1)\n",
       "   Data: dfLongMDDComplete\n",
       "\n",
       "REML criterion at convergence: 15073.4\n",
       "\n",
       "Scaled residuals: \n",
       "    Min      1Q  Median      3Q     Max \n",
       "-3.9431 -0.5556 -0.0294  0.4878  7.2246 \n",
       "\n",
       "Random effects:\n",
       " Groups         Name        Variance Std.Dev. Corr \n",
       " uniquePtId:ID1 (Intercept) 0.424667 0.65167       \n",
       "                day         0.007937 0.08909  -0.04\n",
       " Residual                   0.178794 0.42284       \n",
       "Number of obs: 9366, groups:  uniquePtId:ID1, 1021\n",
       "\n",
       "Fixed effects:\n",
       "                  Estimate Std. Error         df t value Pr(>|t|)    \n",
       "(Intercept)      2.865e+00  4.911e-02  1.023e+03  58.339  < 2e-16 ***\n",
       "day             -1.354e-01  7.732e-03  6.300e+02 -17.513  < 2e-16 ***\n",
       "bpd              1.340e-01  6.301e-02  9.961e+02   2.127  0.03363 *  \n",
       "comorbidity      7.860e-02  1.595e-02  1.013e+03   4.928 9.72e-07 ***\n",
       "day:bpd          7.591e-03  9.611e-03  5.551e+02   0.790  0.42995    \n",
       "day:comorbidity  7.738e-03  2.451e-03  5.898e+02   3.158  0.00167 ** \n",
       "---\n",
       "Signif. codes:  0 ‘***’ 0.001 ‘**’ 0.01 ‘*’ 0.05 ‘.’ 0.1 ‘ ’ 1\n",
       "\n",
       "Correlation of Fixed Effects:\n",
       "            (Intr) day    bpd    cmrbdt dy:bpd\n",
       "day         -0.196                            \n",
       "bpd          0.135 -0.025                     \n",
       "comorbidity -0.870  0.166 -0.374              \n",
       "day:bpd     -0.026  0.127 -0.173  0.071       \n",
       "day:cmrbdty  0.170 -0.870  0.070 -0.188 -0.371"
      ]
     },
     "metadata": {},
     "output_type": "display_data"
    }
   ],
   "source": [
    "sum_dep_co"
   ]
  },
  {
   "cell_type": "code",
   "execution_count": 167,
   "id": "silent-argument",
   "metadata": {},
   "outputs": [
    {
     "name": "stdout",
     "output_type": "stream",
     "text": [
      "[1] \"Symptom reduction\"\n"
     ]
    },
    {
     "data": {
      "text/html": [
       "<table class=\"dataframe\">\n",
       "<caption>A matrix: 6 × 5 of type dbl</caption>\n",
       "<thead>\n",
       "\t<tr><th></th><th scope=col>Estimate</th><th scope=col>Std. Error</th><th scope=col>df</th><th scope=col>t value</th><th scope=col>Pr(&gt;|t|)</th></tr>\n",
       "</thead>\n",
       "<tbody>\n",
       "\t<tr><th scope=row>(Intercept)</th><td> 2.865287171</td><td>0.049114334</td><td>1022.9923</td><td> 58.3391225</td><td>0.000000e+00</td></tr>\n",
       "\t<tr><th scope=row>day</th><td>-0.135410397</td><td>0.007731774</td><td> 629.9646</td><td>-17.5134966</td><td>3.009401e-56</td></tr>\n",
       "\t<tr><th scope=row>bpd</th><td> 0.134039601</td><td>0.063006045</td><td> 996.1319</td><td>  2.1274086</td><td>3.363128e-02</td></tr>\n",
       "\t<tr><th scope=row>comorbidity</th><td> 0.078599122</td><td>0.015950752</td><td>1013.2145</td><td>  4.9276124</td><td>9.718160e-07</td></tr>\n",
       "\t<tr><th scope=row>day:bpd</th><td> 0.007591224</td><td>0.009610878</td><td> 555.0635</td><td>  0.7898575</td><td>4.299483e-01</td></tr>\n",
       "\t<tr><th scope=row>day:comorbidity</th><td> 0.007738217</td><td>0.002450587</td><td> 589.8061</td><td>  3.1576995</td><td>1.671437e-03</td></tr>\n",
       "</tbody>\n",
       "</table>\n"
      ],
      "text/latex": [
       "A matrix: 6 × 5 of type dbl\n",
       "\\begin{tabular}{r|lllll}\n",
       "  & Estimate & Std. Error & df & t value & Pr(>\\textbar{}t\\textbar{})\\\\\n",
       "\\hline\n",
       "\t(Intercept) &  2.865287171 & 0.049114334 & 1022.9923 &  58.3391225 & 0.000000e+00\\\\\n",
       "\tday & -0.135410397 & 0.007731774 &  629.9646 & -17.5134966 & 3.009401e-56\\\\\n",
       "\tbpd &  0.134039601 & 0.063006045 &  996.1319 &   2.1274086 & 3.363128e-02\\\\\n",
       "\tcomorbidity &  0.078599122 & 0.015950752 & 1013.2145 &   4.9276124 & 9.718160e-07\\\\\n",
       "\tday:bpd &  0.007591224 & 0.009610878 &  555.0635 &   0.7898575 & 4.299483e-01\\\\\n",
       "\tday:comorbidity &  0.007738217 & 0.002450587 &  589.8061 &   3.1576995 & 1.671437e-03\\\\\n",
       "\\end{tabular}\n"
      ],
      "text/markdown": [
       "\n",
       "A matrix: 6 × 5 of type dbl\n",
       "\n",
       "| <!--/--> | Estimate | Std. Error | df | t value | Pr(&gt;|t|) |\n",
       "|---|---|---|---|---|---|\n",
       "| (Intercept) |  2.865287171 | 0.049114334 | 1022.9923 |  58.3391225 | 0.000000e+00 |\n",
       "| day | -0.135410397 | 0.007731774 |  629.9646 | -17.5134966 | 3.009401e-56 |\n",
       "| bpd |  0.134039601 | 0.063006045 |  996.1319 |   2.1274086 | 3.363128e-02 |\n",
       "| comorbidity |  0.078599122 | 0.015950752 | 1013.2145 |   4.9276124 | 9.718160e-07 |\n",
       "| day:bpd |  0.007591224 | 0.009610878 |  555.0635 |   0.7898575 | 4.299483e-01 |\n",
       "| day:comorbidity |  0.007738217 | 0.002450587 |  589.8061 |   3.1576995 | 1.671437e-03 |\n",
       "\n"
      ],
      "text/plain": [
       "                Estimate     Std. Error  df        t value     Pr(>|t|)    \n",
       "(Intercept)      2.865287171 0.049114334 1022.9923  58.3391225 0.000000e+00\n",
       "day             -0.135410397 0.007731774  629.9646 -17.5134966 3.009401e-56\n",
       "bpd              0.134039601 0.063006045  996.1319   2.1274086 3.363128e-02\n",
       "comorbidity      0.078599122 0.015950752 1013.2145   4.9276124 9.718160e-07\n",
       "day:bpd          0.007591224 0.009610878  555.0635   0.7898575 4.299483e-01\n",
       "day:comorbidity  0.007738217 0.002450587  589.8061   3.1576995 1.671437e-03"
      ]
     },
     "metadata": {},
     "output_type": "display_data"
    },
    {
     "name": "stdout",
     "output_type": "stream",
     "text": [
      "[1] \"Functionoing\"\n"
     ]
    },
    {
     "data": {
      "text/html": [
       "<table class=\"dataframe\">\n",
       "<caption>A matrix: 6 × 5 of type dbl</caption>\n",
       "<thead>\n",
       "\t<tr><th></th><th scope=col>Estimate</th><th scope=col>Std. Error</th><th scope=col>df</th><th scope=col>t value</th><th scope=col>Pr(&gt;|t|)</th></tr>\n",
       "</thead>\n",
       "<tbody>\n",
       "\t<tr><th scope=row>(Intercept)</th><td> 3.241696989</td><td>0.070069025</td><td>1012.6200</td><td> 46.2643368</td><td>5.383846e-252</td></tr>\n",
       "\t<tr><th scope=row>day</th><td>-0.108641457</td><td>0.009463033</td><td> 581.4676</td><td>-11.4806170</td><td> 1.219522e-27</td></tr>\n",
       "\t<tr><th scope=row>bpd</th><td> 0.018521969</td><td>0.089525001</td><td> 977.5122</td><td>  0.2068916</td><td> 8.361376e-01</td></tr>\n",
       "\t<tr><th scope=row>comorbidity</th><td> 0.120224771</td><td>0.022713707</td><td> 998.3417</td><td>  5.2930493</td><td> 1.478993e-07</td></tr>\n",
       "\t<tr><th scope=row>day:bpd</th><td> 0.012541338</td><td>0.011406221</td><td> 476.8030</td><td>  1.0995174</td><td> 2.720973e-01</td></tr>\n",
       "\t<tr><th scope=row>day:comorbidity</th><td> 0.002551908</td><td>0.002954899</td><td> 528.2890</td><td>  0.8636192</td><td> 3.881890e-01</td></tr>\n",
       "</tbody>\n",
       "</table>\n"
      ],
      "text/latex": [
       "A matrix: 6 × 5 of type dbl\n",
       "\\begin{tabular}{r|lllll}\n",
       "  & Estimate & Std. Error & df & t value & Pr(>\\textbar{}t\\textbar{})\\\\\n",
       "\\hline\n",
       "\t(Intercept) &  3.241696989 & 0.070069025 & 1012.6200 &  46.2643368 & 5.383846e-252\\\\\n",
       "\tday & -0.108641457 & 0.009463033 &  581.4676 & -11.4806170 &  1.219522e-27\\\\\n",
       "\tbpd &  0.018521969 & 0.089525001 &  977.5122 &   0.2068916 &  8.361376e-01\\\\\n",
       "\tcomorbidity &  0.120224771 & 0.022713707 &  998.3417 &   5.2930493 &  1.478993e-07\\\\\n",
       "\tday:bpd &  0.012541338 & 0.011406221 &  476.8030 &   1.0995174 &  2.720973e-01\\\\\n",
       "\tday:comorbidity &  0.002551908 & 0.002954899 &  528.2890 &   0.8636192 &  3.881890e-01\\\\\n",
       "\\end{tabular}\n"
      ],
      "text/markdown": [
       "\n",
       "A matrix: 6 × 5 of type dbl\n",
       "\n",
       "| <!--/--> | Estimate | Std. Error | df | t value | Pr(&gt;|t|) |\n",
       "|---|---|---|---|---|---|\n",
       "| (Intercept) |  3.241696989 | 0.070069025 | 1012.6200 |  46.2643368 | 5.383846e-252 |\n",
       "| day | -0.108641457 | 0.009463033 |  581.4676 | -11.4806170 |  1.219522e-27 |\n",
       "| bpd |  0.018521969 | 0.089525001 |  977.5122 |   0.2068916 |  8.361376e-01 |\n",
       "| comorbidity |  0.120224771 | 0.022713707 |  998.3417 |   5.2930493 |  1.478993e-07 |\n",
       "| day:bpd |  0.012541338 | 0.011406221 |  476.8030 |   1.0995174 |  2.720973e-01 |\n",
       "| day:comorbidity |  0.002551908 | 0.002954899 |  528.2890 |   0.8636192 |  3.881890e-01 |\n",
       "\n"
      ],
      "text/plain": [
       "                Estimate     Std. Error  df        t value     Pr(>|t|)     \n",
       "(Intercept)      3.241696989 0.070069025 1012.6200  46.2643368 5.383846e-252\n",
       "day             -0.108641457 0.009463033  581.4676 -11.4806170  1.219522e-27\n",
       "bpd              0.018521969 0.089525001  977.5122   0.2068916  8.361376e-01\n",
       "comorbidity      0.120224771 0.022713707  998.3417   5.2930493  1.478993e-07\n",
       "day:bpd          0.012541338 0.011406221  476.8030   1.0995174  2.720973e-01\n",
       "day:comorbidity  0.002551908 0.002954899  528.2890   0.8636192  3.881890e-01"
      ]
     },
     "metadata": {},
     "output_type": "display_data"
    },
    {
     "name": "stdout",
     "output_type": "stream",
     "text": [
      "[1] \"Wellbeing\"\n"
     ]
    },
    {
     "data": {
      "text/html": [
       "<table class=\"dataframe\">\n",
       "<caption>A matrix: 6 × 5 of type dbl</caption>\n",
       "<thead>\n",
       "\t<tr><th></th><th scope=col>Estimate</th><th scope=col>Std. Error</th><th scope=col>df</th><th scope=col>t value</th><th scope=col>Pr(&gt;|t|)</th></tr>\n",
       "</thead>\n",
       "<tbody>\n",
       "\t<tr><th scope=row>(Intercept)</th><td> 3.300362559</td><td>0.053162585</td><td>1018.1921</td><td> 62.080551</td><td>0.000000e+00</td></tr>\n",
       "\t<tr><th scope=row>day</th><td>-0.082698714</td><td>0.007024756</td><td> 546.9237</td><td>-11.772467</td><td>1.129726e-28</td></tr>\n",
       "\t<tr><th scope=row>bpd</th><td> 0.074692419</td><td>0.067863635</td><td> 979.4454</td><td>  1.100625</td><td>2.713303e-01</td></tr>\n",
       "\t<tr><th scope=row>comorbidity</th><td> 0.058263226</td><td>0.017226504</td><td>1002.1931</td><td>  3.382185</td><td>7.469147e-04</td></tr>\n",
       "\t<tr><th scope=row>day:bpd</th><td> 0.003689842</td><td>0.008411469</td><td> 441.2925</td><td>  0.438668</td><td>6.611168e-01</td></tr>\n",
       "\t<tr><th scope=row>day:comorbidity</th><td> 0.005327018</td><td>0.002187008</td><td> 492.3934</td><td>  2.435756</td><td>1.521442e-02</td></tr>\n",
       "</tbody>\n",
       "</table>\n"
      ],
      "text/latex": [
       "A matrix: 6 × 5 of type dbl\n",
       "\\begin{tabular}{r|lllll}\n",
       "  & Estimate & Std. Error & df & t value & Pr(>\\textbar{}t\\textbar{})\\\\\n",
       "\\hline\n",
       "\t(Intercept) &  3.300362559 & 0.053162585 & 1018.1921 &  62.080551 & 0.000000e+00\\\\\n",
       "\tday & -0.082698714 & 0.007024756 &  546.9237 & -11.772467 & 1.129726e-28\\\\\n",
       "\tbpd &  0.074692419 & 0.067863635 &  979.4454 &   1.100625 & 2.713303e-01\\\\\n",
       "\tcomorbidity &  0.058263226 & 0.017226504 & 1002.1931 &   3.382185 & 7.469147e-04\\\\\n",
       "\tday:bpd &  0.003689842 & 0.008411469 &  441.2925 &   0.438668 & 6.611168e-01\\\\\n",
       "\tday:comorbidity &  0.005327018 & 0.002187008 &  492.3934 &   2.435756 & 1.521442e-02\\\\\n",
       "\\end{tabular}\n"
      ],
      "text/markdown": [
       "\n",
       "A matrix: 6 × 5 of type dbl\n",
       "\n",
       "| <!--/--> | Estimate | Std. Error | df | t value | Pr(&gt;|t|) |\n",
       "|---|---|---|---|---|---|\n",
       "| (Intercept) |  3.300362559 | 0.053162585 | 1018.1921 |  62.080551 | 0.000000e+00 |\n",
       "| day | -0.082698714 | 0.007024756 |  546.9237 | -11.772467 | 1.129726e-28 |\n",
       "| bpd |  0.074692419 | 0.067863635 |  979.4454 |   1.100625 | 2.713303e-01 |\n",
       "| comorbidity |  0.058263226 | 0.017226504 | 1002.1931 |   3.382185 | 7.469147e-04 |\n",
       "| day:bpd |  0.003689842 | 0.008411469 |  441.2925 |   0.438668 | 6.611168e-01 |\n",
       "| day:comorbidity |  0.005327018 | 0.002187008 |  492.3934 |   2.435756 | 1.521442e-02 |\n",
       "\n"
      ],
      "text/plain": [
       "                Estimate     Std. Error  df        t value    Pr(>|t|)    \n",
       "(Intercept)      3.300362559 0.053162585 1018.1921  62.080551 0.000000e+00\n",
       "day             -0.082698714 0.007024756  546.9237 -11.772467 1.129726e-28\n",
       "bpd              0.074692419 0.067863635  979.4454   1.100625 2.713303e-01\n",
       "comorbidity      0.058263226 0.017226504 1002.1931   3.382185 7.469147e-04\n",
       "day:bpd          0.003689842 0.008411469  441.2925   0.438668 6.611168e-01\n",
       "day:comorbidity  0.005327018 0.002187008  492.3934   2.435756 1.521442e-02"
      ]
     },
     "metadata": {},
     "output_type": "display_data"
    }
   ],
   "source": [
    "#Predcit changes in depression with bpd and comorbidities while controling for txlength\n",
    "\n",
    "print('Symptom reduction')\n",
    "sum_dep_co = summary(lmer(depMean ~ day*(bpd+comorbidity) +  (1+day|uniquePtId:ID1), data = dfLongMDDComplete)) \n",
    "sum_dep_co$coefficients\n",
    "\n",
    "print('Functionoing')\n",
    "sum_fun_co = summary(lmer(dep17 ~ day*(bpd+comorbidity) +  (1+day|uniquePtId:ID1), data = dfLongMDDComplete))\n",
    "sum_fun_co$coefficients\n",
    "\n",
    "print('Wellbeing')\n",
    "sum_well_co = summary(lmer(dep18 ~ day*(bpd+comorbidity) +   (1+day|uniquePtId:ID1), data = dfLongMDDComplete))\n",
    "sum_well_co$coefficients"
   ]
  },
  {
   "cell_type": "code",
   "execution_count": 28,
   "id": "comic-pressing",
   "metadata": {},
   "outputs": [
    {
     "name": "stdout",
     "output_type": "stream",
     "text": [
      "[1] \"Symptom reduction\"\n"
     ]
    },
    {
     "data": {
      "text/plain": [
       "Linear mixed model fit by REML. t-tests use Satterthwaite's method [\n",
       "lmerModLmerTest]\n",
       "Formula: depMean ~ (day * txlength) * bpd + (1 + day | ID1)\n",
       "   Data: dfLongMDDComplete\n",
       "\n",
       "REML criterion at convergence: 14774.4\n",
       "\n",
       "Scaled residuals: \n",
       "    Min      1Q  Median      3Q     Max \n",
       "-3.9508 -0.5532 -0.0280  0.4913  7.2047 \n",
       "\n",
       "Random effects:\n",
       " Groups   Name        Variance Std.Dev. Corr \n",
       " ID1      (Intercept) 0.414966 0.64418       \n",
       "          day         0.005618 0.07495  -0.17\n",
       " Residual             0.178209 0.42215       \n",
       "Number of obs: 9366, groups:  ID1, 1021\n",
       "\n",
       "Fixed effects:\n",
       "                   Estimate Std. Error         df t value Pr(>|t|)    \n",
       "(Intercept)       2.752e+00  5.760e-02  1.017e+03  47.775  < 2e-16 ***\n",
       "day              -2.390e-01  8.826e-03  7.784e+02 -27.080  < 2e-16 ***\n",
       "txlength          3.068e-02  4.591e-03  9.550e+02   6.683 3.97e-11 ***\n",
       "bpd               4.310e-01  1.029e-01  9.824e+02   4.190 3.04e-05 ***\n",
       "day:txlength      1.011e-02  6.322e-04  5.560e+02  15.988  < 2e-16 ***\n",
       "day:bpd           9.835e-02  1.473e-02  6.230e+02   6.679 5.34e-11 ***\n",
       "txlength:bpd     -2.051e-02  6.432e-03  9.127e+02  -3.189  0.00148 ** \n",
       "day:txlength:bpd -7.212e-03  8.372e-04  4.667e+02  -8.614  < 2e-16 ***\n",
       "---\n",
       "Signif. codes:  0 ‘***’ 0.001 ‘**’ 0.01 ‘*’ 0.05 ‘.’ 0.1 ‘ ’ 1\n",
       "\n",
       "Correlation of Fixed Effects:\n",
       "            (Intr) day    txlngt bpd    dy:txl dy:bpd txlng:\n",
       "day         -0.302                                          \n",
       "txlength    -0.908  0.244                                   \n",
       "bpd         -0.560  0.169  0.509                            \n",
       "day:txlngth  0.276 -0.925 -0.264 -0.154                     \n",
       "day:bpd      0.181 -0.599 -0.146 -0.280  0.554              \n",
       "txlngth:bpd  0.648 -0.174 -0.714 -0.819  0.189  0.201       \n",
       "dy:txlngth: -0.208  0.698  0.200  0.225 -0.755 -0.839 -0.237"
      ]
     },
     "metadata": {},
     "output_type": "display_data"
    }
   ],
   "source": [
    "#Interaction between bpd and txlength\n",
    "print('Symptom reduction')\n",
    "summary(lmer(depMean ~ (day*txlength)* bpd +  (1+day| ID1), data = dfLongMDDComplete)) \n",
    "\n",
    "#print('Functionoing')\n",
    "#summary(lmer(dep17 ~ day*(bpd+comorbidity) + txlength +  (1+day| ID1), data = dfLongMDDComplete))\n",
    "\n",
    "#print('Wellbeing')\n",
    "#summary(lmer(dep18 ~ day*(bpd+comorbidity) + txlength +  (1+day| ID1), data = dfLongMDDComplete))"
   ]
  },
  {
   "cell_type": "markdown",
   "id": "difficult-cabinet",
   "metadata": {},
   "source": [
    "### Incomplete Sample"
   ]
  },
  {
   "cell_type": "code",
   "execution_count": 29,
   "id": "helpful-alcohol",
   "metadata": {
    "scrolled": false
   },
   "outputs": [
    {
     "name": "stdout",
     "output_type": "stream",
     "text": [
      "[1] \"Symptom reduction\"\n"
     ]
    },
    {
     "data": {
      "text/plain": [
       "Linear mixed model fit by REML. t-tests use Satterthwaite's method [\n",
       "lmerModLmerTest]\n",
       "Formula: depMean ~ day * bpd * (completion + txlength) + (1 + day | ID1)\n",
       "   Data: dfLongMDD\n",
       "\n",
       "REML criterion at convergence: 18975.2\n",
       "\n",
       "Scaled residuals: \n",
       "    Min      1Q  Median      3Q     Max \n",
       "-3.9249 -0.5414 -0.0174  0.4884  7.1612 \n",
       "\n",
       "Random effects:\n",
       " Groups   Name        Variance Std.Dev. Corr \n",
       " ID1      (Intercept) 0.42693  0.6534        \n",
       "          day         0.00573  0.0757   -0.13\n",
       " Residual             0.18058  0.4249        \n",
       "Number of obs: 11724, groups:  ID1, 1522\n",
       "\n",
       "Fixed effects:\n",
       "                     Estimate Std. Error         df t value Pr(>|t|)    \n",
       "(Intercept)         2.999e+00  4.979e-02  1.626e+03  60.226  < 2e-16 ***\n",
       "day                -2.143e-01  1.040e-02  1.232e+03 -20.598  < 2e-16 ***\n",
       "bpd                 3.892e-01  9.051e-02  1.572e+03   4.300 1.82e-05 ***\n",
       "completion         -1.948e-01  4.651e-02  1.580e+03  -4.188 2.97e-05 ***\n",
       "txlength            2.589e-02  3.858e-03  1.403e+03   6.711 2.80e-11 ***\n",
       "day:bpd             9.362e-02  1.745e-02  1.057e+03   5.365 9.94e-08 ***\n",
       "day:completion     -1.763e-02  8.352e-03  1.131e+03  -2.111  0.03502 *  \n",
       "day:txlength        9.549e-03  5.664e-04  6.754e+02  16.860  < 2e-16 ***\n",
       "bpd:completion      2.067e-02  9.918e-02  1.537e+03   0.208  0.83494    \n",
       "bpd:txlength       -1.773e-02  5.762e-03  1.328e+03  -3.077  0.00213 ** \n",
       "day:bpd:completion -6.215e-03  1.661e-02  9.792e+02  -0.374  0.70829    \n",
       "day:bpd:txlength   -6.431e-03  7.809e-04  5.521e+02  -8.236 1.30e-15 ***\n",
       "---\n",
       "Signif. codes:  0 ‘***’ 0.001 ‘**’ 0.01 ‘*’ 0.05 ‘.’ 0.1 ‘ ’ 1\n",
       "\n",
       "Correlation of Fixed Effects:\n",
       "            (Intr) day    bpd    cmpltn txlngt dy:bpd dy:cmp dy:txl bpd:cm\n",
       "day         -0.264                                                        \n",
       "bpd         -0.550  0.145                                                 \n",
       "completion  -0.457  0.145  0.251                                          \n",
       "txlength    -0.647  0.116  0.356 -0.252                                   \n",
       "day:bpd      0.157 -0.596 -0.258 -0.087 -0.069                            \n",
       "day:compltn  0.164 -0.651 -0.090 -0.285  0.055  0.388                     \n",
       "day:txlngth  0.186 -0.680 -0.102  0.053 -0.225  0.405 -0.028              \n",
       "bpd:compltn  0.214 -0.068 -0.479 -0.469  0.118  0.153  0.134 -0.025       \n",
       "bpd:txlngth  0.434 -0.078 -0.556  0.169 -0.670  0.082 -0.037  0.151 -0.266\n",
       "dy:bpd:cmpl -0.082  0.327  0.170  0.144 -0.028 -0.654 -0.503  0.014 -0.277\n",
       "dy:bpd:txln -0.135  0.493  0.139 -0.039  0.163 -0.564  0.020 -0.725  0.058\n",
       "            bpd:tx dy:bpd:c\n",
       "day                        \n",
       "bpd                        \n",
       "completion                 \n",
       "txlength                   \n",
       "day:bpd                    \n",
       "day:compltn                \n",
       "day:txlngth                \n",
       "bpd:compltn                \n",
       "bpd:txlngth                \n",
       "dy:bpd:cmpl  0.058         \n",
       "dy:bpd:txln -0.198 -0.110  "
      ]
     },
     "metadata": {},
     "output_type": "display_data"
    },
    {
     "name": "stdout",
     "output_type": "stream",
     "text": [
      "[1] \"Functionoing\"\n"
     ]
    },
    {
     "name": "stderr",
     "output_type": "stream",
     "text": [
      "Warning message in checkConv(attr(opt, \"derivs\"), opt$par, ctrl = control$checkConv, :\n",
      "“Model failed to converge with max|grad| = 0.00788615 (tol = 0.002, component 1)”\n"
     ]
    },
    {
     "data": {
      "text/plain": [
       "Linear mixed model fit by REML. t-tests use Satterthwaite's method [\n",
       "lmerModLmerTest]\n",
       "Formula: dep17 ~ day * bpd * (completion + txlength) + (1 + day | ID1)\n",
       "   Data: dfLongMDD\n",
       "\n",
       "REML criterion at convergence: 29085.6\n",
       "\n",
       "Scaled residuals: \n",
       "    Min      1Q  Median      3Q     Max \n",
       "-4.9999 -0.5636  0.0115  0.5441  4.2598 \n",
       "\n",
       "Random effects:\n",
       " Groups   Name        Variance Std.Dev. Corr \n",
       " ID1      (Intercept) 0.80878  0.89932       \n",
       "          day         0.00821  0.09061  -0.33\n",
       " Residual             0.49274  0.70196       \n",
       "Number of obs: 11480, groups:  ID1, 1516\n",
       "\n",
       "Fixed effects:\n",
       "                     Estimate Std. Error         df t value Pr(>|t|)    \n",
       "(Intercept)         3.325e+00  7.137e-02  1.632e+03  46.584  < 2e-16 ***\n",
       "day                -1.886e-01  1.429e-02  1.119e+03 -13.200  < 2e-16 ***\n",
       "bpd                 4.793e-01  1.290e-01  1.559e+03   3.716 0.000209 ***\n",
       "completion         -2.694e-01  6.646e-02  1.579e+03  -4.053 5.30e-05 ***\n",
       "txlength            4.803e-02  5.455e-03  1.348e+03   8.805  < 2e-16 ***\n",
       "day:bpd             1.177e-01  2.353e-02  9.454e+02   5.005 6.66e-07 ***\n",
       "day:completion     -1.336e-02  1.149e-02  1.051e+03  -1.163 0.245249    \n",
       "day:txlength        7.520e-03  7.373e-04  5.533e+02  10.199  < 2e-16 ***\n",
       "bpd:completion      8.187e-02  1.411e-01  1.520e+03   0.580 0.561761    \n",
       "bpd:txlength       -3.722e-02  8.102e-03  1.256e+03  -4.594 4.78e-06 ***\n",
       "day:bpd:completion -4.342e-02  2.242e-02  8.999e+02  -1.937 0.053065 .  \n",
       "day:bpd:txlength   -5.101e-03  9.919e-04  4.298e+02  -5.143 4.12e-07 ***\n",
       "---\n",
       "Signif. codes:  0 ‘***’ 0.001 ‘**’ 0.01 ‘*’ 0.05 ‘.’ 0.1 ‘ ’ 1\n",
       "\n",
       "Correlation of Fixed Effects:\n",
       "            (Intr) day    bpd    cmpltn txlngt dy:bpd dy:cmp dy:txl bpd:cm\n",
       "day         -0.373                                                        \n",
       "bpd         -0.553  0.206                                                 \n",
       "completion  -0.465  0.201  0.257                                          \n",
       "txlength    -0.645  0.175  0.357 -0.246                                   \n",
       "day:bpd      0.226 -0.607 -0.376 -0.122 -0.106                            \n",
       "day:compltn  0.227 -0.661 -0.126 -0.415  0.087  0.401                     \n",
       "day:txlngth  0.289 -0.672 -0.160  0.092 -0.377  0.408 -0.028              \n",
       "bpd:compltn  0.219 -0.095 -0.487 -0.471  0.116  0.218  0.195 -0.044       \n",
       "bpd:txlngth  0.434 -0.118 -0.552  0.166 -0.673  0.134 -0.059  0.254 -0.263\n",
       "dy:bpd:cmpl -0.116  0.339  0.242  0.213 -0.045 -0.670 -0.513  0.014 -0.415\n",
       "dy:bpd:txln -0.215  0.500  0.232 -0.069  0.280 -0.550  0.021 -0.743  0.104\n",
       "            bpd:tx dy:bpd:c\n",
       "day                        \n",
       "bpd                        \n",
       "completion                 \n",
       "txlength                   \n",
       "day:bpd                    \n",
       "day:compltn                \n",
       "day:txlngth                \n",
       "bpd:compltn                \n",
       "bpd:txlngth                \n",
       "dy:bpd:cmpl  0.094         \n",
       "dy:bpd:txln -0.361 -0.112  \n",
       "optimizer (nloptwrap) convergence code: 0 (OK)\n",
       "Model failed to converge with max|grad| = 0.00788615 (tol = 0.002, component 1)\n"
      ]
     },
     "metadata": {},
     "output_type": "display_data"
    },
    {
     "name": "stdout",
     "output_type": "stream",
     "text": [
      "[1] \"Wellbeing\"\n"
     ]
    },
    {
     "data": {
      "text/plain": [
       "Linear mixed model fit by REML. t-tests use Satterthwaite's method [\n",
       "lmerModLmerTest]\n",
       "Formula: dep18 ~ day * bpd * (completion + txlength) + (1 + day | ID1)\n",
       "   Data: dfLongMDD\n",
       "\n",
       "REML criterion at convergence: 23693.4\n",
       "\n",
       "Scaled residuals: \n",
       "    Min      1Q  Median      3Q     Max \n",
       "-4.0097 -0.5459 -0.0074  0.5262  4.4242 \n",
       "\n",
       "Random effects:\n",
       " Groups   Name        Variance Std.Dev. Corr \n",
       " ID1      (Intercept) 0.456953 0.67598       \n",
       "          day         0.004198 0.06479  -0.29\n",
       " Residual             0.316486 0.56257       \n",
       "Number of obs: 11453, groups:  ID1, 1516\n",
       "\n",
       "Fixed effects:\n",
       "                     Estimate Std. Error         df t value Pr(>|t|)    \n",
       "(Intercept)         3.275e+00  5.444e-02  1.636e+03  60.152  < 2e-16 ***\n",
       "day                -1.306e-01  1.087e-02  1.058e+03 -12.015  < 2e-16 ***\n",
       "bpd                 3.449e-01  9.834e-02  1.560e+03   3.507 0.000465 ***\n",
       "completion         -2.338e-01  5.064e-02  1.581e+03  -4.616 4.22e-06 ***\n",
       "txlength            3.928e-02  4.140e-03  1.327e+03   9.487  < 2e-16 ***\n",
       "day:bpd             8.234e-02  1.781e-02  8.937e+02   4.622 4.36e-06 ***\n",
       "day:completion     -1.190e-02  8.726e-03  1.003e+03  -1.364 0.173009    \n",
       "day:txlength        5.474e-03  5.477e-04  5.037e+02   9.993  < 2e-16 ***\n",
       "bpd:completion      8.754e-02  1.074e-01  1.519e+03   0.815 0.415377    \n",
       "bpd:txlength       -2.881e-02  6.140e-03  1.229e+03  -4.693 3.00e-06 ***\n",
       "day:bpd:completion -2.310e-02  1.694e-02  8.603e+02  -1.363 0.173089    \n",
       "day:bpd:txlength   -3.947e-03  7.298e-04  3.834e+02  -5.409 1.12e-07 ***\n",
       "---\n",
       "Signif. codes:  0 ‘***’ 0.001 ‘**’ 0.01 ‘*’ 0.05 ‘.’ 0.1 ‘ ’ 1\n",
       "\n",
       "Correlation of Fixed Effects:\n",
       "            (Intr) day    bpd    cmpltn txlngt dy:bpd dy:cmp dy:txl bpd:cm\n",
       "day         -0.363                                                        \n",
       "bpd         -0.554  0.201                                                 \n",
       "completion  -0.468  0.199  0.259                                          \n",
       "txlength    -0.644  0.163  0.357 -0.244                                   \n",
       "day:bpd      0.221 -0.610 -0.363 -0.122 -0.099                            \n",
       "day:compltn  0.225 -0.667 -0.124 -0.405  0.084  0.407                     \n",
       "day:txlngth  0.279 -0.672 -0.155  0.088 -0.357  0.410 -0.022              \n",
       "bpd:compltn  0.221 -0.094 -0.490 -0.471  0.115  0.216  0.191 -0.042       \n",
       "bpd:txlngth  0.434 -0.110 -0.551  0.165 -0.674  0.120 -0.057  0.240 -0.261\n",
       "dy:bpd:cmpl -0.116  0.344  0.239  0.208 -0.043 -0.679 -0.515  0.011 -0.403\n",
       "dy:bpd:txln -0.210  0.504  0.220 -0.066  0.268 -0.546  0.017 -0.751  0.098\n",
       "            bpd:tx dy:bpd:c\n",
       "day                        \n",
       "bpd                        \n",
       "completion                 \n",
       "txlength                   \n",
       "day:bpd                    \n",
       "day:compltn                \n",
       "day:txlngth                \n",
       "bpd:compltn                \n",
       "bpd:txlngth                \n",
       "dy:bpd:cmpl  0.090         \n",
       "dy:bpd:txln -0.336 -0.106  "
      ]
     },
     "metadata": {},
     "output_type": "display_data"
    }
   ],
   "source": [
    "#Predcit changes in depression with bpd while controling for txlength\n",
    "\n",
    "dfLongMDD$txlength = dfLongMDD$Days_complete_1 + dfLongMDD$Days_not_attended_1\n",
    "dfLongMDD$completion = ifelse(dfLongMDD$DC_status_1 == 'Treatment Complete', 1, 0)\n",
    "\n",
    "print('Symptom reduction')\n",
    "summary(lmer(depMean ~ day*bpd *(completion + txlength) +  (1+day| ID1), data = dfLongMDD)) \n",
    "\n",
    "print('Functionoing')\n",
    "summary(lmer(dep17 ~ day*bpd *(completion + txlength) +(1+day| ID1), data = dfLongMDD))\n",
    "\n",
    "print('Wellbeing')\n",
    "summary(lmer(dep18 ~ day*bpd *(completion + txlength) +(1+day| ID1), data = dfLongMDD))"
   ]
  }
 ],
 "metadata": {
  "kernelspec": {
   "display_name": "R",
   "language": "R",
   "name": "ir"
  },
  "language_info": {
   "codemirror_mode": "r",
   "file_extension": ".r",
   "mimetype": "text/x-r-source",
   "name": "R",
   "pygments_lexer": "r",
   "version": "3.6.3"
  }
 },
 "nbformat": 4,
 "nbformat_minor": 5
}
