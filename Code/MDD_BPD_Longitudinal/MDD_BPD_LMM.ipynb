{
 "cells": [
  {
   "cell_type": "code",
   "execution_count": 5,
   "id": "suitable-citizen",
   "metadata": {},
   "outputs": [],
   "source": [
    "#Load Pacakges\n",
    "library('foreign')\n",
    "library('dplyr')\n",
    "library('lme4')\n",
    "library('nlme')\n",
    "library('merTools')\n",
    "library(lmerTest)\n",
    "library(ltm)\n",
    "library(performance)\n",
    "library(ggplot2)"
   ]
  },
  {
   "cell_type": "code",
   "execution_count": 6,
   "id": "musical-concept",
   "metadata": {
    "scrolled": true
   },
   "outputs": [
    {
     "name": "stderr",
     "output_type": "stream",
     "text": [
      "Warning message in read.spss(\"../../Data/DemosDx/Diagnosis_1.sav\", to.data.frame = T):\n",
      "“../../Data/DemosDx/Diagnosis_1.sav: Long string value labels record found (record type 7, subtype 21), but ignored”\n",
      "Warning message in read.spss(\"../../Data/DemosDx/Diagnosis_1.sav\", to.data.frame = T):\n",
      "“Undeclared level(s) 22 added in variable: eatnos_1”\n",
      "Warning message in read.spss(\"../../Data/DemosDx/Diagnosis_1.sav\", to.data.frame = T):\n",
      "“Undeclared level(s) 10 added in variable: addhpr_1”\n"
     ]
    }
   ],
   "source": [
    "#Load Data\n",
    "dfLong = read.csv('../../Data/daily_dfLong.csv')\n",
    "dx = read.spss('../../Data/DemosDx/Diagnosis_1.sav',to.data.frame = T)\n"
   ]
  },
  {
   "cell_type": "code",
   "execution_count": 7,
   "id": "innocent-solution",
   "metadata": {},
   "outputs": [],
   "source": [
    "dx$comorbidity = \n",
    "dx[,5:124] %>%\n",
    "dplyr::select(-contains('nos'))%>%\n",
    "mutate_all(~ifelse(grepl('Curr',.),1, 0)) %>%\n",
    "rowSums()"
   ]
  },
  {
   "cell_type": "code",
   "execution_count": 8,
   "id": "declared-continuity",
   "metadata": {},
   "outputs": [],
   "source": [
    "#Find people with MDD as their principle diagnoses\n",
    "dx_mddPrin = \n",
    "dx %>%\n",
    "filter(grepl('Prin',mddsp_1)|grepl('Prin',mddsnp_1)|grepl('Prin', mddrp_1)|grepl('Prin',mddrnp_1))%>%\n",
    "mutate(bpd = ifelse(grepl('Curr', bord_1), 1, 0))"
   ]
  },
  {
   "cell_type": "code",
   "execution_count": 9,
   "id": "excess-factory",
   "metadata": {
    "scrolled": true
   },
   "outputs": [
    {
     "data": {
      "text/html": [
       "<table class=\"dataframe\">\n",
       "<caption>A data.frame: 109 × 2</caption>\n",
       "<thead>\n",
       "\t<tr><th></th><th scope=col>names.rank.</th><th scope=col>rank</th></tr>\n",
       "\t<tr><th></th><th scope=col>&lt;fct&gt;</th><th scope=col>&lt;dbl&gt;</th></tr>\n",
       "</thead>\n",
       "<tbody>\n",
       "\t<tr><th scope=row>mddrnp_1</th><td>mddrnp_1</td><td>2706</td></tr>\n",
       "\t<tr><th scope=row>gad4_1</th><td>gad4_1  </td><td>1603</td></tr>\n",
       "\t<tr><th scope=row>ptsd4_1</th><td>ptsd4_1 </td><td> 999</td></tr>\n",
       "\t<tr><th scope=row>bord_1</th><td>bord_1  </td><td> 672</td></tr>\n",
       "\t<tr><th scope=row>socal4_1</th><td>socal4_1</td><td> 670</td></tr>\n",
       "\t<tr><th scope=row>mddsnp_1</th><td>mddsnp_1</td><td> 361</td></tr>\n",
       "\t<tr><th scope=row>dysth_1</th><td>dysth_1 </td><td> 352</td></tr>\n",
       "\t<tr><th scope=row>pda_1</th><td>pda_1   </td><td> 339</td></tr>\n",
       "\t<tr><th scope=row>panic_1</th><td>panic_1 </td><td> 299</td></tr>\n",
       "\t<tr><th scope=row>etohab_1</th><td>etohab_1</td><td> 261</td></tr>\n",
       "\t<tr><th scope=row>mjab_1</th><td>mjab_1  </td><td> 261</td></tr>\n",
       "\t<tr><th scope=row>addatt_1</th><td>addatt_1</td><td> 225</td></tr>\n",
       "\t<tr><th scope=row>addcom_1</th><td>addcom_1</td><td> 175</td></tr>\n",
       "\t<tr><th scope=row>ocd4_1</th><td>ocd4_1  </td><td> 159</td></tr>\n",
       "\t<tr><th scope=row>subpts_1</th><td>subpts_1</td><td> 148</td></tr>\n",
       "\t<tr><th scope=row>mddrp_1</th><td>mddrp_1 </td><td> 143</td></tr>\n",
       "\t<tr><th scope=row>spec4_1</th><td>spec4_1 </td><td> 133</td></tr>\n",
       "\t<tr><th scope=row>etohdp_1</th><td>etohdp_1</td><td> 125</td></tr>\n",
       "\t<tr><th scope=row>mjdep_1</th><td>mjdep_1 </td><td>  90</td></tr>\n",
       "\t<tr><th scope=row>binge_1</th><td>binge_1 </td><td>  85</td></tr>\n",
       "\t<tr><th scope=row>anxoth_1</th><td>anxoth_1</td><td>  79</td></tr>\n",
       "\t<tr><th scope=row>subgad_1</th><td>subgad_1</td><td>  65</td></tr>\n",
       "\t<tr><th scope=row>ied_1</th><td>ied_1   </td><td>  38</td></tr>\n",
       "\t<tr><th scope=row>bdd_1</th><td>bdd_1   </td><td>  35</td></tr>\n",
       "\t<tr><th scope=row>awopd_1</th><td>awopd_1 </td><td>  34</td></tr>\n",
       "\t<tr><th scope=row>trich_1</th><td>trich_1 </td><td>  33</td></tr>\n",
       "\t<tr><th scope=row>cbuy_1</th><td>cbuy_1  </td><td>  33</td></tr>\n",
       "\t<tr><th scope=row>mddsp_1</th><td>mddsp_1 </td><td>  29</td></tr>\n",
       "\t<tr><th scope=row>subpan_1</th><td>subpan_1</td><td>  27</td></tr>\n",
       "\t<tr><th scope=row>cokeab_1</th><td>cokeab_1</td><td>  25</td></tr>\n",
       "\t<tr><th scope=row>⋮</th><td>⋮</td><td>⋮</td></tr>\n",
       "\t<tr><th scope=row>zoid_1</th><td>zoid_1  </td><td>2</td></tr>\n",
       "\t<tr><th scope=row>delus_1</th><td>delus_1 </td><td>1</td></tr>\n",
       "\t<tr><th scope=row>gmcful_1</th><td>gmcful_1</td><td>1</td></tr>\n",
       "\t<tr><th scope=row>bp2dep_1</th><td>bp2dep_1</td><td>1</td></tr>\n",
       "\t<tr><th scope=row>ocdm_1</th><td>ocdm_1  </td><td>1</td></tr>\n",
       "\t<tr><th scope=row>ptsdm_1</th><td>ptsdm_1 </td><td>1</td></tr>\n",
       "\t<tr><th scope=row>para_1</th><td>para_1  </td><td>1</td></tr>\n",
       "\t<tr><th scope=row>anti_1</th><td>anti_1  </td><td>1</td></tr>\n",
       "\t<tr><th scope=row>narc_1</th><td>narc_1  </td><td>1</td></tr>\n",
       "\t<tr><th scope=row>haldep_1</th><td>haldep_1</td><td>0</td></tr>\n",
       "\t<tr><th scope=row>inhdep_1</th><td>inhdep_1</td><td>0</td></tr>\n",
       "\t<tr><th scope=row>pcpab_1</th><td>pcpab_1 </td><td>0</td></tr>\n",
       "\t<tr><th scope=row>pcpdep_1</th><td>pcpdep_1</td><td>0</td></tr>\n",
       "\t<tr><th scope=row>z_1</th><td>z_1     </td><td>0</td></tr>\n",
       "\t<tr><th scope=row>zform_1</th><td>zform_1 </td><td>0</td></tr>\n",
       "\t<tr><th scope=row>adjcnd_1</th><td>adjcnd_1</td><td>0</td></tr>\n",
       "\t<tr><th scope=row>adjun_1</th><td>adjun_1 </td><td>0</td></tr>\n",
       "\t<tr><th scope=row>gmcprt_1</th><td>gmcprt_1</td><td>0</td></tr>\n",
       "\t<tr><th scope=row>bp1hyp_1</th><td>bp1hyp_1</td><td>0</td></tr>\n",
       "\t<tr><th scope=row>bp1man_1</th><td>bp1man_1</td><td>0</td></tr>\n",
       "\t<tr><th scope=row>bp1mix_1</th><td>bp1mix_1</td><td>0</td></tr>\n",
       "\t<tr><th scope=row>bp1dpp_1</th><td>bp1dpp_1</td><td>0</td></tr>\n",
       "\t<tr><th scope=row>bp1dnp_1</th><td>bp1dnp_1</td><td>0</td></tr>\n",
       "\t<tr><th scope=row>bp2hyp_1</th><td>bp2hyp_1</td><td>0</td></tr>\n",
       "\t<tr><th scope=row>bp2mix_1</th><td>bp2mix_1</td><td>0</td></tr>\n",
       "\t<tr><th scope=row>bpmod_1</th><td>bpmod_1 </td><td>0</td></tr>\n",
       "\t<tr><th scope=row>cyclo_1</th><td>cyclo_1 </td><td>0</td></tr>\n",
       "\t<tr><th scope=row>specm_1</th><td>specm_1 </td><td>0</td></tr>\n",
       "\t<tr><th scope=row>pyro_1</th><td>pyro_1  </td><td>0</td></tr>\n",
       "\t<tr><th scope=row>condct_1</th><td>condct_1</td><td>0</td></tr>\n",
       "</tbody>\n",
       "</table>\n"
      ],
      "text/latex": [
       "A data.frame: 109 × 2\n",
       "\\begin{tabular}{r|ll}\n",
       "  & names.rank. & rank\\\\\n",
       "  & <fct> & <dbl>\\\\\n",
       "\\hline\n",
       "\tmddrnp\\_1 & mddrnp\\_1 & 2706\\\\\n",
       "\tgad4\\_1 & gad4\\_1   & 1603\\\\\n",
       "\tptsd4\\_1 & ptsd4\\_1  &  999\\\\\n",
       "\tbord\\_1 & bord\\_1   &  672\\\\\n",
       "\tsocal4\\_1 & socal4\\_1 &  670\\\\\n",
       "\tmddsnp\\_1 & mddsnp\\_1 &  361\\\\\n",
       "\tdysth\\_1 & dysth\\_1  &  352\\\\\n",
       "\tpda\\_1 & pda\\_1    &  339\\\\\n",
       "\tpanic\\_1 & panic\\_1  &  299\\\\\n",
       "\tetohab\\_1 & etohab\\_1 &  261\\\\\n",
       "\tmjab\\_1 & mjab\\_1   &  261\\\\\n",
       "\taddatt\\_1 & addatt\\_1 &  225\\\\\n",
       "\taddcom\\_1 & addcom\\_1 &  175\\\\\n",
       "\tocd4\\_1 & ocd4\\_1   &  159\\\\\n",
       "\tsubpts\\_1 & subpts\\_1 &  148\\\\\n",
       "\tmddrp\\_1 & mddrp\\_1  &  143\\\\\n",
       "\tspec4\\_1 & spec4\\_1  &  133\\\\\n",
       "\tetohdp\\_1 & etohdp\\_1 &  125\\\\\n",
       "\tmjdep\\_1 & mjdep\\_1  &   90\\\\\n",
       "\tbinge\\_1 & binge\\_1  &   85\\\\\n",
       "\tanxoth\\_1 & anxoth\\_1 &   79\\\\\n",
       "\tsubgad\\_1 & subgad\\_1 &   65\\\\\n",
       "\tied\\_1 & ied\\_1    &   38\\\\\n",
       "\tbdd\\_1 & bdd\\_1    &   35\\\\\n",
       "\tawopd\\_1 & awopd\\_1  &   34\\\\\n",
       "\ttrich\\_1 & trich\\_1  &   33\\\\\n",
       "\tcbuy\\_1 & cbuy\\_1   &   33\\\\\n",
       "\tmddsp\\_1 & mddsp\\_1  &   29\\\\\n",
       "\tsubpan\\_1 & subpan\\_1 &   27\\\\\n",
       "\tcokeab\\_1 & cokeab\\_1 &   25\\\\\n",
       "\t⋮ & ⋮ & ⋮\\\\\n",
       "\tzoid\\_1 & zoid\\_1   & 2\\\\\n",
       "\tdelus\\_1 & delus\\_1  & 1\\\\\n",
       "\tgmcful\\_1 & gmcful\\_1 & 1\\\\\n",
       "\tbp2dep\\_1 & bp2dep\\_1 & 1\\\\\n",
       "\tocdm\\_1 & ocdm\\_1   & 1\\\\\n",
       "\tptsdm\\_1 & ptsdm\\_1  & 1\\\\\n",
       "\tpara\\_1 & para\\_1   & 1\\\\\n",
       "\tanti\\_1 & anti\\_1   & 1\\\\\n",
       "\tnarc\\_1 & narc\\_1   & 1\\\\\n",
       "\thaldep\\_1 & haldep\\_1 & 0\\\\\n",
       "\tinhdep\\_1 & inhdep\\_1 & 0\\\\\n",
       "\tpcpab\\_1 & pcpab\\_1  & 0\\\\\n",
       "\tpcpdep\\_1 & pcpdep\\_1 & 0\\\\\n",
       "\tz\\_1 & z\\_1      & 0\\\\\n",
       "\tzform\\_1 & zform\\_1  & 0\\\\\n",
       "\tadjcnd\\_1 & adjcnd\\_1 & 0\\\\\n",
       "\tadjun\\_1 & adjun\\_1  & 0\\\\\n",
       "\tgmcprt\\_1 & gmcprt\\_1 & 0\\\\\n",
       "\tbp1hyp\\_1 & bp1hyp\\_1 & 0\\\\\n",
       "\tbp1man\\_1 & bp1man\\_1 & 0\\\\\n",
       "\tbp1mix\\_1 & bp1mix\\_1 & 0\\\\\n",
       "\tbp1dpp\\_1 & bp1dpp\\_1 & 0\\\\\n",
       "\tbp1dnp\\_1 & bp1dnp\\_1 & 0\\\\\n",
       "\tbp2hyp\\_1 & bp2hyp\\_1 & 0\\\\\n",
       "\tbp2mix\\_1 & bp2mix\\_1 & 0\\\\\n",
       "\tbpmod\\_1 & bpmod\\_1  & 0\\\\\n",
       "\tcyclo\\_1 & cyclo\\_1  & 0\\\\\n",
       "\tspecm\\_1 & specm\\_1  & 0\\\\\n",
       "\tpyro\\_1 & pyro\\_1   & 0\\\\\n",
       "\tcondct\\_1 & condct\\_1 & 0\\\\\n",
       "\\end{tabular}\n"
      ],
      "text/markdown": [
       "\n",
       "A data.frame: 109 × 2\n",
       "\n",
       "| <!--/--> | names.rank. &lt;fct&gt; | rank &lt;dbl&gt; |\n",
       "|---|---|---|\n",
       "| mddrnp_1 | mddrnp_1 | 2706 |\n",
       "| gad4_1 | gad4_1   | 1603 |\n",
       "| ptsd4_1 | ptsd4_1  |  999 |\n",
       "| bord_1 | bord_1   |  672 |\n",
       "| socal4_1 | socal4_1 |  670 |\n",
       "| mddsnp_1 | mddsnp_1 |  361 |\n",
       "| dysth_1 | dysth_1  |  352 |\n",
       "| pda_1 | pda_1    |  339 |\n",
       "| panic_1 | panic_1  |  299 |\n",
       "| etohab_1 | etohab_1 |  261 |\n",
       "| mjab_1 | mjab_1   |  261 |\n",
       "| addatt_1 | addatt_1 |  225 |\n",
       "| addcom_1 | addcom_1 |  175 |\n",
       "| ocd4_1 | ocd4_1   |  159 |\n",
       "| subpts_1 | subpts_1 |  148 |\n",
       "| mddrp_1 | mddrp_1  |  143 |\n",
       "| spec4_1 | spec4_1  |  133 |\n",
       "| etohdp_1 | etohdp_1 |  125 |\n",
       "| mjdep_1 | mjdep_1  |   90 |\n",
       "| binge_1 | binge_1  |   85 |\n",
       "| anxoth_1 | anxoth_1 |   79 |\n",
       "| subgad_1 | subgad_1 |   65 |\n",
       "| ied_1 | ied_1    |   38 |\n",
       "| bdd_1 | bdd_1    |   35 |\n",
       "| awopd_1 | awopd_1  |   34 |\n",
       "| trich_1 | trich_1  |   33 |\n",
       "| cbuy_1 | cbuy_1   |   33 |\n",
       "| mddsp_1 | mddsp_1  |   29 |\n",
       "| subpan_1 | subpan_1 |   27 |\n",
       "| cokeab_1 | cokeab_1 |   25 |\n",
       "| ⋮ | ⋮ | ⋮ |\n",
       "| zoid_1 | zoid_1   | 2 |\n",
       "| delus_1 | delus_1  | 1 |\n",
       "| gmcful_1 | gmcful_1 | 1 |\n",
       "| bp2dep_1 | bp2dep_1 | 1 |\n",
       "| ocdm_1 | ocdm_1   | 1 |\n",
       "| ptsdm_1 | ptsdm_1  | 1 |\n",
       "| para_1 | para_1   | 1 |\n",
       "| anti_1 | anti_1   | 1 |\n",
       "| narc_1 | narc_1   | 1 |\n",
       "| haldep_1 | haldep_1 | 0 |\n",
       "| inhdep_1 | inhdep_1 | 0 |\n",
       "| pcpab_1 | pcpab_1  | 0 |\n",
       "| pcpdep_1 | pcpdep_1 | 0 |\n",
       "| z_1 | z_1      | 0 |\n",
       "| zform_1 | zform_1  | 0 |\n",
       "| adjcnd_1 | adjcnd_1 | 0 |\n",
       "| adjun_1 | adjun_1  | 0 |\n",
       "| gmcprt_1 | gmcprt_1 | 0 |\n",
       "| bp1hyp_1 | bp1hyp_1 | 0 |\n",
       "| bp1man_1 | bp1man_1 | 0 |\n",
       "| bp1mix_1 | bp1mix_1 | 0 |\n",
       "| bp1dpp_1 | bp1dpp_1 | 0 |\n",
       "| bp1dnp_1 | bp1dnp_1 | 0 |\n",
       "| bp2hyp_1 | bp2hyp_1 | 0 |\n",
       "| bp2mix_1 | bp2mix_1 | 0 |\n",
       "| bpmod_1 | bpmod_1  | 0 |\n",
       "| cyclo_1 | cyclo_1  | 0 |\n",
       "| specm_1 | specm_1  | 0 |\n",
       "| pyro_1 | pyro_1   | 0 |\n",
       "| condct_1 | condct_1 | 0 |\n",
       "\n"
      ],
      "text/plain": [
       "         names.rank. rank\n",
       "mddrnp_1 mddrnp_1    2706\n",
       "gad4_1   gad4_1      1603\n",
       "ptsd4_1  ptsd4_1      999\n",
       "bord_1   bord_1       672\n",
       "socal4_1 socal4_1     670\n",
       "mddsnp_1 mddsnp_1     361\n",
       "dysth_1  dysth_1      352\n",
       "pda_1    pda_1        339\n",
       "panic_1  panic_1      299\n",
       "etohab_1 etohab_1     261\n",
       "mjab_1   mjab_1       261\n",
       "addatt_1 addatt_1     225\n",
       "addcom_1 addcom_1     175\n",
       "ocd4_1   ocd4_1       159\n",
       "subpts_1 subpts_1     148\n",
       "mddrp_1  mddrp_1      143\n",
       "spec4_1  spec4_1      133\n",
       "etohdp_1 etohdp_1     125\n",
       "mjdep_1  mjdep_1       90\n",
       "binge_1  binge_1       85\n",
       "anxoth_1 anxoth_1      79\n",
       "subgad_1 subgad_1      65\n",
       "ied_1    ied_1         38\n",
       "bdd_1    bdd_1         35\n",
       "awopd_1  awopd_1       34\n",
       "trich_1  trich_1       33\n",
       "cbuy_1   cbuy_1        33\n",
       "mddsp_1  mddsp_1       29\n",
       "subpan_1 subpan_1      27\n",
       "cokeab_1 cokeab_1      25\n",
       "⋮        ⋮           ⋮   \n",
       "zoid_1   zoid_1      2   \n",
       "delus_1  delus_1     1   \n",
       "gmcful_1 gmcful_1    1   \n",
       "bp2dep_1 bp2dep_1    1   \n",
       "ocdm_1   ocdm_1      1   \n",
       "ptsdm_1  ptsdm_1     1   \n",
       "para_1   para_1      1   \n",
       "anti_1   anti_1      1   \n",
       "narc_1   narc_1      1   \n",
       "haldep_1 haldep_1    0   \n",
       "inhdep_1 inhdep_1    0   \n",
       "pcpab_1  pcpab_1     0   \n",
       "pcpdep_1 pcpdep_1    0   \n",
       "z_1      z_1         0   \n",
       "zform_1  zform_1     0   \n",
       "adjcnd_1 adjcnd_1    0   \n",
       "adjun_1  adjun_1     0   \n",
       "gmcprt_1 gmcprt_1    0   \n",
       "bp1hyp_1 bp1hyp_1    0   \n",
       "bp1man_1 bp1man_1    0   \n",
       "bp1mix_1 bp1mix_1    0   \n",
       "bp1dpp_1 bp1dpp_1    0   \n",
       "bp1dnp_1 bp1dnp_1    0   \n",
       "bp2hyp_1 bp2hyp_1    0   \n",
       "bp2mix_1 bp2mix_1    0   \n",
       "bpmod_1  bpmod_1     0   \n",
       "cyclo_1  cyclo_1     0   \n",
       "specm_1  specm_1     0   \n",
       "pyro_1   pyro_1      0   \n",
       "condct_1 condct_1    0   "
      ]
     },
     "metadata": {},
     "output_type": "display_data"
    }
   ],
   "source": [
    "#Find most prevalent cormorbid disorders\n",
    "rank = \n",
    "dx_mddPrin[,5:124] %>%\n",
    "dplyr::select(-contains('nos'))%>%\n",
    "mutate_all(~ifelse(grepl('Curr',.),1, 0)) %>%\n",
    "colSums()\n",
    "\n",
    "dx_rank = data.frame(names(rank),  rank)\n",
    "dx_rank[order(dx_rank$rank,decreasing = T),]"
   ]
  },
  {
   "cell_type": "code",
   "execution_count": 10,
   "id": "bronze-mission",
   "metadata": {},
   "outputs": [
    {
     "data": {
      "text/html": [
       "1667"
      ],
      "text/latex": [
       "1667"
      ],
      "text/markdown": [
       "1667"
      ],
      "text/plain": [
       "[1] 1667"
      ]
     },
     "metadata": {},
     "output_type": "display_data"
    }
   ],
   "source": [
    "#Merge daily data with dx\n",
    "dfLongMDD = merge(dfLong, dx_mddPrin, by = 'ID1',all = F,no.dups = TRUE)\n",
    "\n",
    "dfLongMDD = dfLongMDD[order(dfLongMDD$ID1, dfLongMDD$day),]\n",
    "length(unique(dfLongMDD$ID)) #1667\n"
   ]
  },
  {
   "cell_type": "code",
   "execution_count": 11,
   "id": "appointed-simple",
   "metadata": {},
   "outputs": [],
   "source": [
    "#Only included patients' records of their first admission\n",
    "#dfLongMDD_firstAdmit = dfLongMDD[is.na(dfLongMDD$Prev_AdmitID_1),]\n",
    "\n",
    "#dfLongMDD = dfLongMDD[is.na(dfLongMDD$Prev_AdmitID_1),]"
   ]
  },
  {
   "cell_type": "code",
   "execution_count": 12,
   "id": "renewable-cleveland",
   "metadata": {},
   "outputs": [],
   "source": [
    "#First sessino info\n",
    "first_session = \n",
    "dfLongMDD %>%\n",
    "    group_by(ID1) %>%\n",
    "    filter(row_number() == 1) %>%\n",
    "    ungroup()\n"
   ]
  },
  {
   "cell_type": "code",
   "execution_count": 13,
   "id": "aging-mountain",
   "metadata": {
    "scrolled": true
   },
   "outputs": [
    {
     "data": {
      "text/plain": [
       "\n",
       "                                                      0 \n",
       "                                                      0 \n",
       "                                                     11 \n",
       "                                                     17 \n",
       "                                                     12 \n",
       "                                                      7 \n",
       "Inappropriate (language)/Referred to another tx setting \n",
       "                                                     18 \n",
       "                           Insurance no longer covering \n",
       "                                                     22 \n",
       "                                          Nonattendance \n",
       "                                                    199 \n",
       "                                                  Other \n",
       "                                                     30 \n",
       "                                    Other_duplicated_10 \n",
       "                                                     10 \n",
       "                 Reported dissatisfaction, withdrew AMA \n",
       "                                                     39 \n",
       "                               Transferred to inpatient \n",
       "                                                     69 \n",
       "                                     Treatment Complete \n",
       "                                                   1087 \n",
       "                              Treatment nearly complete \n",
       "                                                     57 \n",
       "                   Withdrew due to external limitations \n",
       "                                                    112 "
      ]
     },
     "metadata": {},
     "output_type": "display_data"
    },
    {
     "data": {
      "text/plain": [
       "\n",
       "                                                      0 \n",
       "                                               0.000000 \n",
       "                                                     11 \n",
       "                                               1.019796 \n",
       "                                                     12 \n",
       "                                               0.419916 \n",
       "Inappropriate (language)/Referred to another tx setting \n",
       "                                               1.079784 \n",
       "                           Insurance no longer covering \n",
       "                                               1.319736 \n",
       "                                          Nonattendance \n",
       "                                              11.937612 \n",
       "                                                  Other \n",
       "                                               1.799640 \n",
       "                                    Other_duplicated_10 \n",
       "                                               0.599880 \n",
       "                 Reported dissatisfaction, withdrew AMA \n",
       "                                               2.339532 \n",
       "                               Transferred to inpatient \n",
       "                                               4.139172 \n",
       "                                     Treatment Complete \n",
       "                                              65.206959 \n",
       "                              Treatment nearly complete \n",
       "                                               3.419316 \n",
       "                   Withdrew due to external limitations \n",
       "                                               6.718656 "
      ]
     },
     "metadata": {},
     "output_type": "display_data"
    },
    {
     "data": {
      "text/plain": [
       "\n",
       "                                                      0 \n",
       "                                                      0 \n",
       "                                                     11 \n",
       "                                                     17 \n",
       "                                                     12 \n",
       "                                                      7 \n",
       "Inappropriate (language)/Referred to another tx setting \n",
       "                                                     18 \n",
       "                           Insurance no longer covering \n",
       "                                                     22 \n",
       "                                          Nonattendance \n",
       "                                                    199 \n",
       "                                                  Other \n",
       "                                                     30 \n",
       "                                    Other_duplicated_10 \n",
       "                                                     10 \n",
       "                 Reported dissatisfaction, withdrew AMA \n",
       "                                                     39 \n",
       "                               Transferred to inpatient \n",
       "                                                     69 \n",
       "                                     Treatment Complete \n",
       "                                                   1087 \n",
       "                              Treatment nearly complete \n",
       "                                                     57 \n",
       "                   Withdrew due to external limitations \n",
       "                                                    112 "
      ]
     },
     "metadata": {},
     "output_type": "display_data"
    },
    {
     "ename": "ERROR",
     "evalue": "Error in nrow(first_session_firstAdmit): object 'first_session_firstAdmit' not found\n",
     "output_type": "error",
     "traceback": [
      "Error in nrow(first_session_firstAdmit): object 'first_session_firstAdmit' not found\nTraceback:\n",
      "1. nrow(first_session_firstAdmit)"
     ]
    }
   ],
   "source": [
    "#Examine Treatment Completion Rate\n",
    "table(first_session$DC_status_1) #Treatment Complete N = 1087\n",
    "table(first_session$DC_status_1)/nrow(first_session)*100 #65.21%\n",
    "\n",
    "#Examine Treatment Completion Rate\n",
    "table(first_session$DC_status_1) #Treatment Complete N = 689\n",
    "table(first_session$DC_status_1)/nrow(first_session_firstAdmit)*100 #66.83%"
   ]
  },
  {
   "cell_type": "code",
   "execution_count": 14,
   "id": "alert-timing",
   "metadata": {
    "scrolled": true
   },
   "outputs": [
    {
     "data": {
      "text/plain": [
       "                                                         \n",
       "                                                            0   1\n",
       "  0                                                         0   0\n",
       "  11                                                        8   9\n",
       "  12                                                        5   2\n",
       "  Inappropriate (language)/Referred to another tx setting  13   5\n",
       "  Insurance no longer covering                             17   5\n",
       "  Nonattendance                                           144  55\n",
       "  Other                                                    28   2\n",
       "  Other_duplicated_10                                       6   4\n",
       "  Reported dissatisfaction, withdrew AMA                   32   7\n",
       "  Transferred to inpatient                                 39  30\n",
       "  Treatment Complete                                      893 194\n",
       "  Treatment nearly complete                                45  12\n",
       "  Withdrew due to external limitations                     91  21"
      ]
     },
     "metadata": {},
     "output_type": "display_data"
    },
    {
     "data": {
      "text/plain": [
       "            \n",
       "               0   1\n",
       "  Complete   893 194\n",
       "  Incomplete 428 152"
      ]
     },
     "metadata": {},
     "output_type": "display_data"
    },
    {
     "data": {
      "text/plain": [
       "\n",
       "Call:\n",
       "glm(formula = ifelse(first_session$DC_status_1 == \"Treatment Complete\", \n",
       "    1, 0) ~ first_session$bpd, family = \"binomial\")\n",
       "\n",
       "Deviance Residuals: \n",
       "    Min       1Q   Median       3Q      Max  \n",
       "-1.5013  -1.5013   0.8849   0.8849   1.0757  \n",
       "\n",
       "Coefficients:\n",
       "                  Estimate Std. Error z value Pr(>|z|)    \n",
       "(Intercept)        0.73546    0.05879  12.510  < 2e-16 ***\n",
       "first_session$bpd -0.49149    0.12325  -3.988 6.67e-05 ***\n",
       "---\n",
       "Signif. codes:  0 ‘***’ 0.001 ‘**’ 0.01 ‘*’ 0.05 ‘.’ 0.1 ‘ ’ 1\n",
       "\n",
       "(Dispersion parameter for binomial family taken to be 1)\n",
       "\n",
       "    Null deviance: 2154.3  on 1666  degrees of freedom\n",
       "Residual deviance: 2138.6  on 1665  degrees of freedom\n",
       "AIC: 2142.6\n",
       "\n",
       "Number of Fisher Scoring iterations: 4\n"
      ]
     },
     "metadata": {},
     "output_type": "display_data"
    }
   ],
   "source": [
    "#Treatment Completion Rate by BPD\n",
    "table(first_session$DC_status_1, first_session$bpd)\n",
    "table(ifelse(first_session$DC_status_1 == 'Treatment Complete','Complete','Incomplete'), first_session$bpd)\n",
    "summary(glm(ifelse(first_session$DC_status_1 == 'Treatment Complete',1,0) ~first_session$bpd, family = 'binomial'))"
   ]
  },
  {
   "cell_type": "code",
   "execution_count": 15,
   "id": "negative-understanding",
   "metadata": {
    "scrolled": false
   },
   "outputs": [
    {
     "data": {
      "text/plain": [
       "\n",
       "Call:\n",
       "glm(formula = ifelse(first_session$DC_status_1 == \"Treatment Complete\", \n",
       "    1, 0) ~ first_session$comorbidity, family = \"binomial\")\n",
       "\n",
       "Deviance Residuals: \n",
       "    Min       1Q   Median       3Q      Max  \n",
       "-1.5252  -1.4287   0.9050   0.9251   1.0726  \n",
       "\n",
       "Coefficients:\n",
       "                          Estimate Std. Error z value Pr(>|z|)    \n",
       "(Intercept)                0.78838    0.11301   6.976 3.03e-12 ***\n",
       "first_session$comorbidity -0.05368    0.03351  -1.602    0.109    \n",
       "---\n",
       "Signif. codes:  0 ‘***’ 0.001 ‘**’ 0.01 ‘*’ 0.05 ‘.’ 0.1 ‘ ’ 1\n",
       "\n",
       "(Dispersion parameter for binomial family taken to be 1)\n",
       "\n",
       "    Null deviance: 2154.3  on 1666  degrees of freedom\n",
       "Residual deviance: 2151.7  on 1665  degrees of freedom\n",
       "AIC: 2155.7\n",
       "\n",
       "Number of Fisher Scoring iterations: 4\n"
      ]
     },
     "metadata": {},
     "output_type": "display_data"
    }
   ],
   "source": [
    "#Treatment Completion Rate by # of Comorbidities\n",
    "summary(glm(ifelse(first_session$DC_status_1 == 'Treatment Complete',1,0) ~ first_session$comorbidity, family = 'binomial'))\n"
   ]
  },
  {
   "cell_type": "code",
   "execution_count": 16,
   "id": "optical-plate",
   "metadata": {},
   "outputs": [],
   "source": [
    "completeSample = first_session[first_session$DC_status_1 == 'Treatment Complete',]"
   ]
  },
  {
   "cell_type": "code",
   "execution_count": 17,
   "id": "sorted-professor",
   "metadata": {},
   "outputs": [
    {
     "data": {
      "text/plain": [
       "\n",
       "  2  no yes \n",
       "  0 860 227 "
      ]
     },
     "metadata": {},
     "output_type": "display_data"
    },
    {
     "data": {
      "text/plain": [
       "\n",
       "        2        no       yes \n",
       "0.0000000 0.7911684 0.2088316 "
      ]
     },
     "metadata": {},
     "output_type": "display_data"
    }
   ],
   "source": [
    "#How many people were SCIDed\n",
    "completeSample$SCID_1[completeSample$SCID_1==2] = 'yes'\n",
    "\n",
    "table(completeSample$SCID_1)\n",
    "\n",
    "table(completeSample$SCID_1)/sum(table(completeSample$SCID_1))"
   ]
  },
  {
   "cell_type": "code",
   "execution_count": 18,
   "id": "prostate-election",
   "metadata": {
    "scrolled": true
   },
   "outputs": [
    {
     "data": {
      "text/plain": [
       "\n",
       "  0   1 \n",
       "893 194 "
      ]
     },
     "metadata": {},
     "output_type": "display_data"
    }
   ],
   "source": [
    "#How many people had comorbid BPD\n",
    "table(completeSample$bpd)"
   ]
  },
  {
   "cell_type": "code",
   "execution_count": 19,
   "id": "atomic-brighton",
   "metadata": {},
   "outputs": [
    {
     "data": {
      "text/html": [
       "0.178472861085557"
      ],
      "text/latex": [
       "0.178472861085557"
      ],
      "text/markdown": [
       "0.178472861085557"
      ],
      "text/plain": [
       "[1] 0.1784729"
      ]
     },
     "metadata": {},
     "output_type": "display_data"
    }
   ],
   "source": [
    "194/(893+194)"
   ]
  },
  {
   "cell_type": "code",
   "execution_count": 20,
   "id": "solved-stream",
   "metadata": {},
   "outputs": [
    {
     "data": {
      "text/plain": [
       "\n",
       "  0   1   2   3   4   5   6   7   8   9  10 \n",
       "  7 160 323 270 181  79  40  19   4   3   1 "
      ]
     },
     "metadata": {},
     "output_type": "display_data"
    },
    {
     "data": {
      "text/html": [
       "2.92272309107636"
      ],
      "text/latex": [
       "2.92272309107636"
      ],
      "text/markdown": [
       "2.92272309107636"
      ],
      "text/plain": [
       "[1] 2.922723"
      ]
     },
     "metadata": {},
     "output_type": "display_data"
    },
    {
     "data": {
      "text/html": [
       "1.49815993327875"
      ],
      "text/latex": [
       "1.49815993327875"
      ],
      "text/markdown": [
       "1.49815993327875"
      ],
      "text/plain": [
       "[1] 1.49816"
      ]
     },
     "metadata": {},
     "output_type": "display_data"
    }
   ],
   "source": [
    "#Comorbidity rates\n",
    "table(completeSample$comorbidity)\n",
    "mean(completeSample$comorbidity) #2.75\n",
    "sd(completeSample$comorbidity) #1.50"
   ]
  },
  {
   "cell_type": "code",
   "execution_count": 21,
   "id": "nutritional-angle",
   "metadata": {},
   "outputs": [
    {
     "data": {
      "text/html": [
       "<table class=\"dataframe\">\n",
       "<caption>A data.frame: 10 × 3</caption>\n",
       "<thead>\n",
       "\t<tr><th></th><th scope=col>names.rank.</th><th scope=col>rank</th><th scope=col>rank.nrow.completeSample.</th></tr>\n",
       "\t<tr><th></th><th scope=col>&lt;fct&gt;</th><th scope=col>&lt;dbl&gt;</th><th scope=col>&lt;dbl&gt;</th></tr>\n",
       "</thead>\n",
       "<tbody>\n",
       "\t<tr><th scope=row>mddrnp_1</th><td>mddrnp_1</td><td>891</td><td>0.81968721</td></tr>\n",
       "\t<tr><th scope=row>gad4_1</th><td>gad4_1  </td><td>479</td><td>0.44066237</td></tr>\n",
       "\t<tr><th scope=row>ptsd4_1</th><td>ptsd4_1 </td><td>283</td><td>0.26034959</td></tr>\n",
       "\t<tr><th scope=row>bord_1</th><td>bord_1  </td><td>194</td><td>0.17847286</td></tr>\n",
       "\t<tr><th scope=row>socal4_1</th><td>socal4_1</td><td>178</td><td>0.16375345</td></tr>\n",
       "\t<tr><th scope=row>mddsnp_1</th><td>mddsnp_1</td><td>110</td><td>0.10119595</td></tr>\n",
       "\t<tr><th scope=row>etohab_1</th><td>etohab_1</td><td> 93</td><td>0.08555658</td></tr>\n",
       "\t<tr><th scope=row>panic_1</th><td>panic_1 </td><td> 92</td><td>0.08463661</td></tr>\n",
       "\t<tr><th scope=row>pda_1</th><td>pda_1   </td><td> 90</td><td>0.08279669</td></tr>\n",
       "\t<tr><th scope=row>mjab_1</th><td>mjab_1  </td><td> 82</td><td>0.07543698</td></tr>\n",
       "</tbody>\n",
       "</table>\n"
      ],
      "text/latex": [
       "A data.frame: 10 × 3\n",
       "\\begin{tabular}{r|lll}\n",
       "  & names.rank. & rank & rank.nrow.completeSample.\\\\\n",
       "  & <fct> & <dbl> & <dbl>\\\\\n",
       "\\hline\n",
       "\tmddrnp\\_1 & mddrnp\\_1 & 891 & 0.81968721\\\\\n",
       "\tgad4\\_1 & gad4\\_1   & 479 & 0.44066237\\\\\n",
       "\tptsd4\\_1 & ptsd4\\_1  & 283 & 0.26034959\\\\\n",
       "\tbord\\_1 & bord\\_1   & 194 & 0.17847286\\\\\n",
       "\tsocal4\\_1 & socal4\\_1 & 178 & 0.16375345\\\\\n",
       "\tmddsnp\\_1 & mddsnp\\_1 & 110 & 0.10119595\\\\\n",
       "\tetohab\\_1 & etohab\\_1 &  93 & 0.08555658\\\\\n",
       "\tpanic\\_1 & panic\\_1  &  92 & 0.08463661\\\\\n",
       "\tpda\\_1 & pda\\_1    &  90 & 0.08279669\\\\\n",
       "\tmjab\\_1 & mjab\\_1   &  82 & 0.07543698\\\\\n",
       "\\end{tabular}\n"
      ],
      "text/markdown": [
       "\n",
       "A data.frame: 10 × 3\n",
       "\n",
       "| <!--/--> | names.rank. &lt;fct&gt; | rank &lt;dbl&gt; | rank.nrow.completeSample. &lt;dbl&gt; |\n",
       "|---|---|---|---|\n",
       "| mddrnp_1 | mddrnp_1 | 891 | 0.81968721 |\n",
       "| gad4_1 | gad4_1   | 479 | 0.44066237 |\n",
       "| ptsd4_1 | ptsd4_1  | 283 | 0.26034959 |\n",
       "| bord_1 | bord_1   | 194 | 0.17847286 |\n",
       "| socal4_1 | socal4_1 | 178 | 0.16375345 |\n",
       "| mddsnp_1 | mddsnp_1 | 110 | 0.10119595 |\n",
       "| etohab_1 | etohab_1 |  93 | 0.08555658 |\n",
       "| panic_1 | panic_1  |  92 | 0.08463661 |\n",
       "| pda_1 | pda_1    |  90 | 0.08279669 |\n",
       "| mjab_1 | mjab_1   |  82 | 0.07543698 |\n",
       "\n"
      ],
      "text/plain": [
       "         names.rank. rank rank.nrow.completeSample.\n",
       "mddrnp_1 mddrnp_1    891  0.81968721               \n",
       "gad4_1   gad4_1      479  0.44066237               \n",
       "ptsd4_1  ptsd4_1     283  0.26034959               \n",
       "bord_1   bord_1      194  0.17847286               \n",
       "socal4_1 socal4_1    178  0.16375345               \n",
       "mddsnp_1 mddsnp_1    110  0.10119595               \n",
       "etohab_1 etohab_1     93  0.08555658               \n",
       "panic_1  panic_1      92  0.08463661               \n",
       "pda_1    pda_1        90  0.08279669               \n",
       "mjab_1   mjab_1       82  0.07543698               "
      ]
     },
     "metadata": {},
     "output_type": "display_data"
    }
   ],
   "source": [
    "rank = \n",
    "completeSample[,142:261] %>%\n",
    "dplyr::select(-contains('nos'))%>%\n",
    "mutate_all(~ifelse(grepl('Curr',.),1, 0)) %>%\n",
    "colSums()\n",
    "\n",
    "dx_rank = data.frame(names(rank),  rank, rank/nrow(completeSample))\n",
    "dx_rank[order(dx_rank$rank,decreasing = T),][1:10,]"
   ]
  },
  {
   "cell_type": "code",
   "execution_count": 22,
   "id": "foreign-connectivity",
   "metadata": {},
   "outputs": [
    {
     "data": {
      "text/html": [
       "0.378627237722611"
      ],
      "text/latex": [
       "0.378627237722611"
      ],
      "text/markdown": [
       "0.378627237722611"
      ],
      "text/plain": [
       "[1] 0.3786272"
      ]
     },
     "metadata": {},
     "output_type": "display_data"
    }
   ],
   "source": [
    "#Correlation between BPD and # of cormorbidities \n",
    "cor(completeSample$bpd,completeSample$comorbidity) "
   ]
  },
  {
   "cell_type": "code",
   "execution_count": 23,
   "id": "funded-manual",
   "metadata": {},
   "outputs": [
    {
     "name": "stderr",
     "output_type": "stream",
     "text": [
      "`summarise()` ungrouping output (override with `.groups` argument)\n",
      "\n"
     ]
    },
    {
     "data": {
      "text/html": [
       "<table class=\"dataframe\">\n",
       "<caption>A tibble: 2 × 3</caption>\n",
       "<thead>\n",
       "\t<tr><th scope=col>bpd</th><th scope=col>mean</th><th scope=col>sd</th></tr>\n",
       "\t<tr><th scope=col>&lt;dbl&gt;</th><th scope=col>&lt;dbl&gt;</th><th scope=col>&lt;dbl&gt;</th></tr>\n",
       "</thead>\n",
       "<tbody>\n",
       "\t<tr><td>0</td><td>11.23068</td><td> 5.168298</td></tr>\n",
       "\t<tr><td>1</td><td>14.45876</td><td>11.007809</td></tr>\n",
       "</tbody>\n",
       "</table>\n"
      ],
      "text/latex": [
       "A tibble: 2 × 3\n",
       "\\begin{tabular}{lll}\n",
       " bpd & mean & sd\\\\\n",
       " <dbl> & <dbl> & <dbl>\\\\\n",
       "\\hline\n",
       "\t 0 & 11.23068 &  5.168298\\\\\n",
       "\t 1 & 14.45876 & 11.007809\\\\\n",
       "\\end{tabular}\n"
      ],
      "text/markdown": [
       "\n",
       "A tibble: 2 × 3\n",
       "\n",
       "| bpd &lt;dbl&gt; | mean &lt;dbl&gt; | sd &lt;dbl&gt; |\n",
       "|---|---|---|\n",
       "| 0 | 11.23068 |  5.168298 |\n",
       "| 1 | 14.45876 | 11.007809 |\n",
       "\n"
      ],
      "text/plain": [
       "  bpd mean     sd       \n",
       "1 0   11.23068  5.168298\n",
       "2 1   14.45876 11.007809"
      ]
     },
     "metadata": {},
     "output_type": "display_data"
    },
    {
     "data": {
      "text/plain": [
       "\n",
       "\tWelch Two Sample t-test\n",
       "\n",
       "data:  completeSample$tx_length[completeSample$bpd == 0] and completeSample$tx_length[completeSample$bpd == 1]\n",
       "t = -3.9901, df = 211.82, p-value = 9.098e-05\n",
       "alternative hypothesis: true difference in means is not equal to 0\n",
       "95 percent confidence interval:\n",
       " -4.822836 -1.633323\n",
       "sample estimates:\n",
       "mean of x mean of y \n",
       " 11.23068  14.45876 \n"
      ]
     },
     "metadata": {},
     "output_type": "display_data"
    },
    {
     "name": "stderr",
     "output_type": "stream",
     "text": [
      "`summarise()` ungrouping output (override with `.groups` argument)\n",
      "\n"
     ]
    },
    {
     "data": {
      "text/html": [
       "<table class=\"dataframe\">\n",
       "<caption>A tibble: 2 × 3</caption>\n",
       "<thead>\n",
       "\t<tr><th scope=col>bpd</th><th scope=col>mean</th><th scope=col>sd</th></tr>\n",
       "\t<tr><th scope=col>&lt;dbl&gt;</th><th scope=col>&lt;dbl&gt;</th><th scope=col>&lt;dbl&gt;</th></tr>\n",
       "</thead>\n",
       "<tbody>\n",
       "\t<tr><td>0</td><td>2.658455</td><td>1.374344</td></tr>\n",
       "\t<tr><td>1</td><td>4.139175</td><td>1.445454</td></tr>\n",
       "</tbody>\n",
       "</table>\n"
      ],
      "text/latex": [
       "A tibble: 2 × 3\n",
       "\\begin{tabular}{lll}\n",
       " bpd & mean & sd\\\\\n",
       " <dbl> & <dbl> & <dbl>\\\\\n",
       "\\hline\n",
       "\t 0 & 2.658455 & 1.374344\\\\\n",
       "\t 1 & 4.139175 & 1.445454\\\\\n",
       "\\end{tabular}\n"
      ],
      "text/markdown": [
       "\n",
       "A tibble: 2 × 3\n",
       "\n",
       "| bpd &lt;dbl&gt; | mean &lt;dbl&gt; | sd &lt;dbl&gt; |\n",
       "|---|---|---|\n",
       "| 0 | 2.658455 | 1.374344 |\n",
       "| 1 | 4.139175 | 1.445454 |\n",
       "\n"
      ],
      "text/plain": [
       "  bpd mean     sd      \n",
       "1 0   2.658455 1.374344\n",
       "2 1   4.139175 1.445454"
      ]
     },
     "metadata": {},
     "output_type": "display_data"
    },
    {
     "data": {
      "text/plain": [
       "\n",
       "\tWelch Two Sample t-test\n",
       "\n",
       "data:  completeSample$comorbidity[completeSample$bpd == 0] and completeSample$comorbidity[completeSample$bpd == 1]\n",
       "t = -13.045, df = 273.97, p-value < 2.2e-16\n",
       "alternative hypothesis: true difference in means is not equal to 0\n",
       "95 percent confidence interval:\n",
       " -1.704187 -1.257254\n",
       "sample estimates:\n",
       "mean of x mean of y \n",
       " 2.658455  4.139175 \n"
      ]
     },
     "metadata": {},
     "output_type": "display_data"
    }
   ],
   "source": [
    "#BPD and Comorbidities vs. Treatment Length\n",
    "completeSample$tx_length = completeSample$Days_complete_1 + completeSample$Days_not_attended_1\n",
    "completeSample %>%\n",
    "group_by(bpd) %>%\n",
    "summarize(mean = mean(tx_length), sd = sd(tx_length))\n",
    "\n",
    "t.test(completeSample$tx_length[completeSample$bpd == 0],\n",
    "      completeSample$tx_length[completeSample$bpd == 1])\n",
    "\n",
    "\n",
    "completeSample$tx_length = completeSample$Days_complete_1 + completeSample$Days_not_attended_1\n",
    "completeSample %>%\n",
    "group_by(bpd) %>%\n",
    "summarize(mean = mean(comorbidity), sd = sd(comorbidity))\n",
    "\n",
    "t.test(completeSample$comorbidity[completeSample$bpd == 0],\n",
    "      completeSample$comorbidity[completeSample$bpd == 1])\n",
    "\n",
    "\n",
    "#completeSample$tx_attendence_rate = completeSample$Days_complete_1/completeSample$tx_length\n",
    "#summary(lm(tx_length ~bpd + comorbidity, completeSample)) #Both BPD and Comorbidities predicted longer treatment length in tx completion sample\n",
    "#summary(lm(tx_attendence_rate ~bpd + comorbidity , completeSample)) #BPD does not predicted attendence rate, while # of comorbidities predicted lower attendence rate"
   ]
  },
  {
   "cell_type": "code",
   "execution_count": 24,
   "id": "supreme-communication",
   "metadata": {},
   "outputs": [
    {
     "data": {
      "text/html": [
       "<table class=\"dataframe\">\n",
       "<caption>A tibble: 1 × 6</caption>\n",
       "<thead>\n",
       "\t<tr><th scope=col>depM</th><th scope=col>depSD</th><th scope=col>anxM</th><th scope=col>anxSD</th><th scope=col>angM</th><th scope=col>angSD</th></tr>\n",
       "\t<tr><th scope=col>&lt;dbl&gt;</th><th scope=col>&lt;dbl&gt;</th><th scope=col>&lt;dbl&gt;</th><th scope=col>&lt;dbl&gt;</th><th scope=col>&lt;dbl&gt;</th><th scope=col>&lt;dbl&gt;</th></tr>\n",
       "</thead>\n",
       "<tbody>\n",
       "\t<tr><td>3.404691</td><td>0.7168148</td><td>3.1307</td><td>0.8878087</td><td>2.244165</td><td>0.9634773</td></tr>\n",
       "</tbody>\n",
       "</table>\n"
      ],
      "text/latex": [
       "A tibble: 1 × 6\n",
       "\\begin{tabular}{llllll}\n",
       " depM & depSD & anxM & anxSD & angM & angSD\\\\\n",
       " <dbl> & <dbl> & <dbl> & <dbl> & <dbl> & <dbl>\\\\\n",
       "\\hline\n",
       "\t 3.404691 & 0.7168148 & 3.1307 & 0.8878087 & 2.244165 & 0.9634773\\\\\n",
       "\\end{tabular}\n"
      ],
      "text/markdown": [
       "\n",
       "A tibble: 1 × 6\n",
       "\n",
       "| depM &lt;dbl&gt; | depSD &lt;dbl&gt; | anxM &lt;dbl&gt; | anxSD &lt;dbl&gt; | angM &lt;dbl&gt; | angSD &lt;dbl&gt; |\n",
       "|---|---|---|---|---|---|\n",
       "| 3.404691 | 0.7168148 | 3.1307 | 0.8878087 | 2.244165 | 0.9634773 |\n",
       "\n"
      ],
      "text/plain": [
       "  depM     depSD     anxM   anxSD     angM     angSD    \n",
       "1 3.404691 0.7168148 3.1307 0.8878087 2.244165 0.9634773"
      ]
     },
     "metadata": {},
     "output_type": "display_data"
    }
   ],
   "source": [
    "#Inital Severity\n",
    "completeSample %>% \n",
    "summarize(depM = mean(depMean, na.rm = T), depSD = sd(depMean, na.rm = T),\n",
    "         anxM = mean(anxMean, na.rm = T), anxSD = sd(anxMean, na.rm = T),\n",
    "         angM = mean(angMean, na.rm = T), angSD = sd(angMean, na.rm = T))"
   ]
  },
  {
   "cell_type": "code",
   "execution_count": 25,
   "id": "finite-clinic",
   "metadata": {},
   "outputs": [
    {
     "data": {
      "text/plain": [
       "\n",
       "                                         Female \n",
       "                                            720 \n",
       "                                           Male \n",
       "                                            347 \n",
       "                                     Non-Binary \n",
       "                                              4 \n",
       "                                          Other \n",
       "                                              6 \n",
       "Unknown (ID as Trans Before Demos Change 12.18) \n",
       "                                              9 "
      ]
     },
     "metadata": {},
     "output_type": "display_data"
    },
    {
     "data": {
      "text/plain": [
       "\n",
       "                                         Female \n",
       "                                    0.662373505 \n",
       "                                           Male \n",
       "                                    0.319227231 \n",
       "                                     Non-Binary \n",
       "                                    0.003679853 \n",
       "                                          Other \n",
       "                                    0.005519779 \n",
       "Unknown (ID as Trans Before Demos Change 12.18) \n",
       "                                    0.008279669 "
      ]
     },
     "metadata": {},
     "output_type": "display_data"
    },
    {
     "data": {
      "text/html": [
       "1087"
      ],
      "text/latex": [
       "1087"
      ],
      "text/markdown": [
       "1087"
      ],
      "text/plain": [
       "[1] 1087"
      ]
     },
     "metadata": {},
     "output_type": "display_data"
    },
    {
     "data": {
      "text/html": [
       "0.009199632"
      ],
      "text/latex": [
       "0.009199632"
      ],
      "text/markdown": [
       "0.009199632"
      ],
      "text/plain": [
       "[1] 0.009199632"
      ]
     },
     "metadata": {},
     "output_type": "display_data"
    }
   ],
   "source": [
    "table(completeSample$Gender_1)\n",
    "table(completeSample$Gender_1)/nrow(completeSample)\n",
    "nrow(completeSample)\n",
    "0.003679853 + 0.005519779 "
   ]
  },
  {
   "cell_type": "code",
   "execution_count": 26,
   "id": "noted-waters",
   "metadata": {},
   "outputs": [
    {
     "data": {
      "text/html": [
       "40.3652253909844"
      ],
      "text/latex": [
       "40.3652253909844"
      ],
      "text/markdown": [
       "40.3652253909844"
      ],
      "text/plain": [
       "[1] 40.36523"
      ]
     },
     "metadata": {},
     "output_type": "display_data"
    },
    {
     "data": {
      "text/html": [
       "14.2595645107636"
      ],
      "text/latex": [
       "14.2595645107636"
      ],
      "text/markdown": [
       "14.2595645107636"
      ],
      "text/plain": [
       "[1] 14.25956"
      ]
     },
     "metadata": {},
     "output_type": "display_data"
    },
    {
     "data": {
      "text/html": [
       "<style>\n",
       ".list-inline {list-style: none; margin:0; padding: 0}\n",
       ".list-inline>li {display: inline-block}\n",
       ".list-inline>li:not(:last-child)::after {content: \"\\00b7\"; padding: 0 .5ex}\n",
       "</style>\n",
       "<ol class=list-inline><li>18</li><li>88</li></ol>\n"
      ],
      "text/latex": [
       "\\begin{enumerate*}\n",
       "\\item 18\n",
       "\\item 88\n",
       "\\end{enumerate*}\n"
      ],
      "text/markdown": [
       "1. 18\n",
       "2. 88\n",
       "\n",
       "\n"
      ],
      "text/plain": [
       "[1] 18 88"
      ]
     },
     "metadata": {},
     "output_type": "display_data"
    }
   ],
   "source": [
    "mean(completeSample$Age_1)\n",
    "sd(completeSample$Age_1)\n",
    "range(completeSample$Age_1)"
   ]
  },
  {
   "cell_type": "code",
   "execution_count": 27,
   "id": "usual-processing",
   "metadata": {},
   "outputs": [
    {
     "data": {
      "text/plain": [
       "\n",
       "     Asian      Black   Hispanic      Other Portuguese      White \n",
       "        15         79        126         45         26        795 "
      ]
     },
     "metadata": {},
     "output_type": "display_data"
    },
    {
     "data": {
      "text/plain": [
       "\n",
       "     Asian      Black   Hispanic      Other Portuguese      White \n",
       "0.01379945 0.07267709 0.11591536 0.04139834 0.02391904 0.73137075 "
      ]
     },
     "metadata": {},
     "output_type": "display_data"
    }
   ],
   "source": [
    "table(completeSample$Race_1)\n",
    "table(completeSample$Race_1)/nrow(completeSample)\n"
   ]
  },
  {
   "cell_type": "markdown",
   "id": "virtual-tension",
   "metadata": {},
   "source": [
    "### Complete Sample"
   ]
  },
  {
   "cell_type": "code",
   "execution_count": 30,
   "id": "victorian-visitor",
   "metadata": {},
   "outputs": [
    {
     "data": {
      "text/html": [
       "1087"
      ],
      "text/latex": [
       "1087"
      ],
      "text/markdown": [
       "1087"
      ],
      "text/plain": [
       "[1] 1087"
      ]
     },
     "metadata": {},
     "output_type": "display_data"
    },
    {
     "data": {
      "text/html": [
       "194"
      ],
      "text/latex": [
       "194"
      ],
      "text/markdown": [
       "194"
      ],
      "text/plain": [
       "[1] 194"
      ]
     },
     "metadata": {},
     "output_type": "display_data"
    },
    {
     "data": {
      "text/html": [
       "<table class=\"dataframe\">\n",
       "<caption>A data.frame: 3 × 2</caption>\n",
       "<thead>\n",
       "\t<tr><th scope=col>Var</th><th scope=col>ICC</th></tr>\n",
       "\t<tr><th scope=col>&lt;fct&gt;</th><th scope=col>&lt;dbl&gt;</th></tr>\n",
       "</thead>\n",
       "<tbody>\n",
       "\t<tr><td>Sym       </td><td>0.6702102</td></tr>\n",
       "\t<tr><td>Fun       </td><td>0.5810962</td></tr>\n",
       "\t<tr><td>Well-being</td><td>0.5640719</td></tr>\n",
       "</tbody>\n",
       "</table>\n"
      ],
      "text/latex": [
       "A data.frame: 3 × 2\n",
       "\\begin{tabular}{ll}\n",
       " Var & ICC\\\\\n",
       " <fct> & <dbl>\\\\\n",
       "\\hline\n",
       "\t Sym        & 0.6702102\\\\\n",
       "\t Fun        & 0.5810962\\\\\n",
       "\t Well-being & 0.5640719\\\\\n",
       "\\end{tabular}\n"
      ],
      "text/markdown": [
       "\n",
       "A data.frame: 3 × 2\n",
       "\n",
       "| Var &lt;fct&gt; | ICC &lt;dbl&gt; |\n",
       "|---|---|\n",
       "| Sym        | 0.6702102 |\n",
       "| Fun        | 0.5810962 |\n",
       "| Well-being | 0.5640719 |\n",
       "\n"
      ],
      "text/plain": [
       "  Var        ICC      \n",
       "1 Sym        0.6702102\n",
       "2 Fun        0.5810962\n",
       "3 Well-being 0.5640719"
      ]
     },
     "metadata": {},
     "output_type": "display_data"
    }
   ],
   "source": [
    "dfLongMDDComplete = dfLongMDD[dfLongMDD$DC_status_1 == 'Treatment Complete',]\n",
    "length(unique(dfLongMDDComplete$ID))\n",
    "dfLongMDDComplete$txlength = dfLongMDDComplete$Days_complete_1 + dfLongMDDComplete$Days_not_attended_1\n",
    "\n",
    "length(unique(dfLongMDDComplete[dfLongMDDComplete$bpd == 1, 'ID1']))\n",
    "\n",
    "#ICC, Descriptive Test, t-Tests\n",
    "\n",
    "\n",
    "model1 = lmer(depMean ~ day + (1|uniquePtId:ID1), data =  dfLongMDDComplete) \n",
    "model2 = lmer(dep17 ~ day + (1|uniquePtId:ID1), data =  dfLongMDDComplete) \n",
    "model3 = lmer(dep18 ~ day + (1|uniquePtId:ID1), data =  dfLongMDDComplete) \n",
    "table1 = data.frame(Var = c('Sym', 'Fun', 'Well-being'),\n",
    "    ICC = rbind(\n",
    "    icc(model1, by_group = TRUE),\n",
    "    icc(model2, by_group = TRUE),\n",
    "    icc(model3, by_group = TRUE))[,2])\n",
    "\n",
    "table1\n"
   ]
  },
  {
   "cell_type": "code",
   "execution_count": 54,
   "id": "sublime-amsterdam",
   "metadata": {},
   "outputs": [
    {
     "data": {
      "text/html": [
       "<strong>ifelse(score &gt;= 21, 1, 0):</strong> 158"
      ],
      "text/latex": [
       "\\textbf{ifelse(score >= 21, 1, 0):} 158"
      ],
      "text/markdown": [
       "**ifelse(score &amp;gt;= 21, 1, 0):** 158"
      ],
      "text/plain": [
       "ifelse(score >= 21, 1, 0) \n",
       "                      158 "
      ]
     },
     "metadata": {},
     "output_type": "display_data"
    },
    {
     "data": {
      "text/html": [
       "<strong>ifelse(score &gt;= 21, 1, 0):</strong> 54"
      ],
      "text/latex": [
       "\\textbf{ifelse(score >= 21, 1, 0):} 54"
      ],
      "text/markdown": [
       "**ifelse(score &amp;gt;= 21, 1, 0):** 54"
      ],
      "text/plain": [
       "ifelse(score >= 21, 1, 0) \n",
       "                       54 "
      ]
     },
     "metadata": {},
     "output_type": "display_data"
    },
    {
     "data": {
      "text/html": [
       "<strong>ifelse(score &gt;= 21, 1, 0):</strong> 28"
      ],
      "text/latex": [
       "\\textbf{ifelse(score >= 21, 1, 0):} 28"
      ],
      "text/markdown": [
       "**ifelse(score &amp;gt;= 21, 1, 0):** 28"
      ],
      "text/plain": [
       "ifelse(score >= 21, 1, 0) \n",
       "                       28 "
      ]
     },
     "metadata": {},
     "output_type": "display_data"
    }
   ],
   "source": [
    "#Success Rate\n",
    "dfLongMDDComplete %>%\n",
    "filter(day == 0 & bpd == 1)%>%\n",
    "summarize(score = depMean*16 + dep17 + dep18) %>%\n",
    "summarize(ifelse(score >= 21, 1, 0))%>%\n",
    "colSums(na.rm = T)\n",
    "\n",
    "\n",
    "dfLongMDDComplete %>%\n",
    "filter(day == 12 & bpd == 1)%>%\n",
    "summarize(score = depMean*16 + dep17 + dep18) %>%\n",
    "summarize(ifelse(score >= 21, 1, 0))%>%\n",
    "colSums(na.rm = T)\n",
    "\n",
    "\n",
    "dfLongMDDComplete %>%\n",
    "filter(day == 15 & bpd == 1)%>%\n",
    "summarize(score = depMean*16 + dep17 + dep18) %>%\n",
    "summarize(ifelse(score >= 21, 1, 0))%>%\n",
    "colSums(na.rm = T)\n",
    "\n"
   ]
  },
  {
   "cell_type": "code",
   "execution_count": 59,
   "id": "sufficient-terry",
   "metadata": {},
   "outputs": [
    {
     "data": {
      "text/html": [
       "0.164556962025316"
      ],
      "text/latex": [
       "0.164556962025316"
      ],
      "text/markdown": [
       "0.164556962025316"
      ],
      "text/plain": [
       "[1] 0.164557"
      ]
     },
     "metadata": {},
     "output_type": "display_data"
    }
   ],
   "source": [
    "(-28 + 54)/158\n",
    "\n",
    "\n"
   ]
  },
  {
   "cell_type": "code",
   "execution_count": 61,
   "id": "artistic-training",
   "metadata": {},
   "outputs": [],
   "source": [
    "meanSE = function(x){\n",
    "    paste0(round(x$coefficient['bpd','Estimate'],2), ' (',\n",
    "       round(x$coefficient['bpd','Std. Error'],2) ,')')\n",
    "    \n",
    "}"
   ]
  },
  {
   "cell_type": "code",
   "execution_count": 62,
   "id": "olive-midwest",
   "metadata": {},
   "outputs": [
    {
     "data": {
      "text/plain": [
       "Linear mixed model fit by REML. t-tests use Satterthwaite's method [\n",
       "lmerModLmerTest]\n",
       "Formula: depMean ~ bpd + (1 | uniquePtId)\n",
       "   Data: dfLongMDDComplete_Session1\n",
       "\n",
       "REML criterion at convergence: 2037.5\n",
       "\n",
       "Scaled residuals: \n",
       "    Min      1Q  Median      3Q     Max \n",
       "-3.2707 -0.4691  0.0832  0.6271  2.2671 \n",
       "\n",
       "Random effects:\n",
       " Groups     Name        Variance Std.Dev.\n",
       " uniquePtId (Intercept) 0.112    0.3347  \n",
       " Residual               0.391    0.6253  \n",
       "Number of obs: 949, groups:  uniquePtId, 795\n",
       "\n",
       "Fixed effects:\n",
       "             Estimate Std. Error        df t value Pr(>|t|)    \n",
       "(Intercept)   3.37059    0.02605 780.53138 129.367  < 2e-16 ***\n",
       "bpd           0.19427    0.06130 940.46308   3.169  0.00158 ** \n",
       "---\n",
       "Signif. codes:  0 ‘***’ 0.001 ‘**’ 0.01 ‘*’ 0.05 ‘.’ 0.1 ‘ ’ 1\n",
       "\n",
       "Correlation of Fixed Effects:\n",
       "    (Intr)\n",
       "bpd -0.394"
      ]
     },
     "metadata": {},
     "output_type": "display_data"
    },
    {
     "data": {
      "text/plain": [
       "Linear mixed model fit by REML. t-tests use Satterthwaite's method [\n",
       "lmerModLmerTest]\n",
       "Formula: dep17 ~ bpd + (1 | uniquePtId)\n",
       "   Data: dfLongMDDComplete_Session1\n",
       "\n",
       "REML criterion at convergence: 2887.2\n",
       "\n",
       "Scaled residuals: \n",
       "    Min      1Q  Median      3Q     Max \n",
       "-2.6966 -0.6394  0.1894  0.9550  1.3206 \n",
       "\n",
       "Random effects:\n",
       " Groups     Name        Variance Std.Dev.\n",
       " uniquePtId (Intercept) 0.1571   0.3963  \n",
       " Residual               1.1199   1.0582  \n",
       "Number of obs: 936, groups:  uniquePtId, 786\n",
       "\n",
       "Fixed effects:\n",
       "             Estimate Std. Error        df t value Pr(>|t|)    \n",
       "(Intercept)   3.77150    0.04135 689.62936  91.206   <2e-16 ***\n",
       "bpd           0.14665    0.09876 878.37203   1.485    0.138    \n",
       "---\n",
       "Signif. codes:  0 ‘***’ 0.001 ‘**’ 0.01 ‘*’ 0.05 ‘.’ 0.1 ‘ ’ 1\n",
       "\n",
       "Correlation of Fixed Effects:\n",
       "    (Intr)\n",
       "bpd -0.401"
      ]
     },
     "metadata": {},
     "output_type": "display_data"
    },
    {
     "data": {
      "text/plain": [
       "Linear mixed model fit by REML. t-tests use Satterthwaite's method [\n",
       "lmerModLmerTest]\n",
       "Formula: dep18 ~ bpd + (1 | uniquePtId)\n",
       "   Data: dfLongMDDComplete_Session1\n",
       "\n",
       "REML criterion at convergence: 2396\n",
       "\n",
       "Scaled residuals: \n",
       "    Min      1Q  Median      3Q     Max \n",
       "-2.8654 -0.6152  0.3000  0.4400  1.8631 \n",
       "\n",
       "Random effects:\n",
       " Groups     Name        Variance Std.Dev.\n",
       " uniquePtId (Intercept) 0.1140   0.3376  \n",
       " Residual               0.6503   0.8064  \n",
       "Number of obs: 932, groups:  uniquePtId, 783\n",
       "\n",
       "Fixed effects:\n",
       "             Estimate Std. Error        df t value Pr(>|t|)    \n",
       "(Intercept)   3.58304    0.03215 786.01669 111.442   <2e-16 ***\n",
       "bpd           0.13265    0.07663 910.88426   1.731   0.0838 .  \n",
       "---\n",
       "Signif. codes:  0 ‘***’ 0.001 ‘**’ 0.01 ‘*’ 0.05 ‘.’ 0.1 ‘ ’ 1\n",
       "\n",
       "Correlation of Fixed Effects:\n",
       "    (Intr)\n",
       "bpd -0.399"
      ]
     },
     "metadata": {},
     "output_type": "display_data"
    },
    {
     "data": {
      "text/html": [
       "<table class=\"dataframe\">\n",
       "<caption>A data.frame: 3 × 4</caption>\n",
       "<thead>\n",
       "\t<tr><th scope=col>Var</th><th scope=col>ICC</th><th scope=col>post</th><th scope=col>pre</th></tr>\n",
       "\t<tr><th scope=col>&lt;fct&gt;</th><th scope=col>&lt;dbl&gt;</th><th scope=col>&lt;fct&gt;</th><th scope=col>&lt;fct&gt;</th></tr>\n",
       "</thead>\n",
       "<tbody>\n",
       "\t<tr><td>Sym       </td><td>0.6702102</td><td>0.06 (0.09)</td><td>0.19 (0.06)</td></tr>\n",
       "\t<tr><td>Fun       </td><td>0.5810962</td><td>0.07 (0.12)</td><td>0.15 (0.1) </td></tr>\n",
       "\t<tr><td>Well-being</td><td>0.5640719</td><td>0.1 (0.09) </td><td>0.13 (0.08)</td></tr>\n",
       "</tbody>\n",
       "</table>\n"
      ],
      "text/latex": [
       "A data.frame: 3 × 4\n",
       "\\begin{tabular}{llll}\n",
       " Var & ICC & post & pre\\\\\n",
       " <fct> & <dbl> & <fct> & <fct>\\\\\n",
       "\\hline\n",
       "\t Sym        & 0.6702102 & 0.06 (0.09) & 0.19 (0.06)\\\\\n",
       "\t Fun        & 0.5810962 & 0.07 (0.12) & 0.15 (0.1) \\\\\n",
       "\t Well-being & 0.5640719 & 0.1 (0.09)  & 0.13 (0.08)\\\\\n",
       "\\end{tabular}\n"
      ],
      "text/markdown": [
       "\n",
       "A data.frame: 3 × 4\n",
       "\n",
       "| Var &lt;fct&gt; | ICC &lt;dbl&gt; | post &lt;fct&gt; | pre &lt;fct&gt; |\n",
       "|---|---|---|---|\n",
       "| Sym        | 0.6702102 | 0.06 (0.09) | 0.19 (0.06) |\n",
       "| Fun        | 0.5810962 | 0.07 (0.12) | 0.15 (0.1)  |\n",
       "| Well-being | 0.5640719 | 0.1 (0.09)  | 0.13 (0.08) |\n",
       "\n"
      ],
      "text/plain": [
       "  Var        ICC       post        pre        \n",
       "1 Sym        0.6702102 0.06 (0.09) 0.19 (0.06)\n",
       "2 Fun        0.5810962 0.07 (0.12) 0.15 (0.1) \n",
       "3 Well-being 0.5640719 0.1 (0.09)  0.13 (0.08)"
      ]
     },
     "metadata": {},
     "output_type": "display_data"
    },
    {
     "data": {
      "text/plain": [
       "Linear mixed model fit by REML. t-tests use Satterthwaite's method [\n",
       "lmerModLmerTest]\n",
       "Formula: comorbidity ~ bpd + (1 | uniquePtId)\n",
       "   Data: dfLongMDDComplete_Session1\n",
       "\n",
       "REML criterion at convergence: 3722.1\n",
       "\n",
       "Scaled residuals: \n",
       "    Min      1Q  Median      3Q     Max \n",
       "-2.0536 -0.4424 -0.1150  0.5197  4.8250 \n",
       "\n",
       "Random effects:\n",
       " Groups     Name        Variance Std.Dev.\n",
       " uniquePtId (Intercept) 0.3047   0.552   \n",
       " Residual               1.6406   1.281   \n",
       "Number of obs: 1063, groups:  uniquePtId, 877\n",
       "\n",
       "Fixed effects:\n",
       "             Estimate Std. Error        df t value Pr(>|t|)    \n",
       "(Intercept)    2.6719     0.0483  913.4841   55.32   <2e-16 ***\n",
       "bpd            1.4471     0.1128 1044.7525   12.83   <2e-16 ***\n",
       "---\n",
       "Signif. codes:  0 ‘***’ 0.001 ‘**’ 0.01 ‘*’ 0.05 ‘.’ 0.1 ‘ ’ 1\n",
       "\n",
       "Correlation of Fixed Effects:\n",
       "    (Intr)\n",
       "bpd -0.400"
      ]
     },
     "metadata": {},
     "output_type": "display_data"
    },
    {
     "data": {
      "text/plain": [
       "Linear mixed model fit by REML. t-tests use Satterthwaite's method [\n",
       "lmerModLmerTest]\n",
       "Formula: txlength ~ bpd + (1 | uniquePtId)\n",
       "   Data: dfLongMDDComplete_Session1\n",
       "\n",
       "REML criterion at convergence: 7030.5\n",
       "\n",
       "Scaled residuals: \n",
       "    Min      1Q  Median      3Q     Max \n",
       "-1.6469 -0.6169 -0.1791  0.4046 13.9747 \n",
       "\n",
       "Random effects:\n",
       " Groups     Name        Variance Std.Dev.\n",
       " uniquePtId (Intercept)  2.991   1.729   \n",
       " Residual               40.756   6.384   \n",
       "Number of obs: 1063, groups:  uniquePtId, 877\n",
       "\n",
       "Fixed effects:\n",
       "             Estimate Std. Error        df t value Pr(>|t|)    \n",
       "(Intercept)   11.2276     0.2266  997.0100   49.56  < 2e-16 ***\n",
       "bpd            3.0556     0.5333 1041.5395    5.73 1.32e-08 ***\n",
       "---\n",
       "Signif. codes:  0 ‘***’ 0.001 ‘**’ 0.01 ‘*’ 0.05 ‘.’ 0.1 ‘ ’ 1\n",
       "\n",
       "Correlation of Fixed Effects:\n",
       "    (Intr)\n",
       "bpd -0.412"
      ]
     },
     "metadata": {},
     "output_type": "display_data"
    }
   ],
   "source": [
    "#Pre-Treatment Data\n",
    "dfLongMDDComplete_Session1 = \n",
    "    dfLongMDDComplete %>%\n",
    "    filter(day == 0)\n",
    "\n",
    "#Pre-Treatment Depressive Symptoms\n",
    "pre_dep_comp = summary(lmer(depMean ~ bpd + (1|uniquePtId), dfLongMDDComplete_Session1))\n",
    "pre_dep_comp\n",
    "\n",
    "#Pre-Treatment Functionality\n",
    "pre_fun_comp = summary(lmer(dep17 ~ bpd + (1|uniquePtId), dfLongMDDComplete_Session1))\n",
    "pre_fun_comp\n",
    "\n",
    "#Pre-Treatment Well-Being\n",
    "pre_well_comp = summary(lmer(dep18 ~ bpd + (1|uniquePtId), dfLongMDDComplete_Session1))\n",
    "pre_well_comp\n",
    "\n",
    "table1 = cbind(table1, pre = c(meanSE(pre_dep_comp), meanSE(pre_fun_comp), meanSE(pre_well_comp)))\n",
    "table1\n",
    "\n",
    "#Comorbidity\n",
    "summary(lmer(comorbidity ~ bpd + (1|uniquePtId), dfLongMDDComplete_Session1))\n",
    "\n",
    "#Treatment Length\n",
    "summary(lmer(txlength ~ bpd + (1|uniquePtId), dfLongMDDComplete_Session1))\n",
    "\n"
   ]
  },
  {
   "cell_type": "code",
   "execution_count": 49,
   "id": "uniform-pendant",
   "metadata": {},
   "outputs": [
    {
     "data": {
      "text/plain": [
       "Linear mixed model fit by REML. t-tests use Satterthwaite's method [\n",
       "lmerModLmerTest]\n",
       "Formula: depMean ~ bpd + (1 | uniquePtId)\n",
       "   Data: dfLongMDDComplete_SessionF\n",
       "\n",
       "REML criterion at convergence: 1653.4\n",
       "\n",
       "Scaled residuals: \n",
       "    Min      1Q  Median      3Q     Max \n",
       "-1.6228 -0.6854 -0.1110  0.6003  3.7688 \n",
       "\n",
       "Random effects:\n",
       " Groups     Name        Variance Std.Dev.\n",
       " uniquePtId (Intercept) 0.1762   0.4198  \n",
       " Residual               0.5575   0.7466  \n",
       "Number of obs: 654, groups:  uniquePtId, 574\n",
       "\n",
       "Fixed effects:\n",
       "             Estimate Std. Error        df t value Pr(>|t|)    \n",
       "(Intercept)   2.29659    0.03752 603.26514  61.204   <2e-16 ***\n",
       "bpd           0.06438    0.08878 651.55843   0.725    0.469    \n",
       "---\n",
       "Signif. codes:  0 ‘***’ 0.001 ‘**’ 0.01 ‘*’ 0.05 ‘.’ 0.1 ‘ ’ 1\n",
       "\n",
       "Correlation of Fixed Effects:\n",
       "    (Intr)\n",
       "bpd -0.394"
      ]
     },
     "metadata": {},
     "output_type": "display_data"
    },
    {
     "data": {
      "text/plain": [
       "Linear mixed model fit by REML. t-tests use Satterthwaite's method [\n",
       "lmerModLmerTest]\n",
       "Formula: dep17 ~ bpd + (1 | uniquePtId)\n",
       "   Data: dfLongMDDComplete_SessionF\n",
       "\n",
       "REML criterion at convergence: 1974.2\n",
       "\n",
       "Scaled residuals: \n",
       "    Min      1Q  Median      3Q     Max \n",
       "-1.7239 -0.5987  0.1275  0.9084  2.1860 \n",
       "\n",
       "Random effects:\n",
       " Groups     Name        Variance Std.Dev.\n",
       " uniquePtId (Intercept) 0.2634   0.5132  \n",
       " Residual               1.0466   1.0231  \n",
       "Number of obs: 635, groups:  uniquePtId, 560\n",
       "\n",
       "Fixed effects:\n",
       "             Estimate Std. Error        df t value Pr(>|t|)    \n",
       "(Intercept)   2.76658    0.05077 581.47592  54.489   <2e-16 ***\n",
       "bpd           0.07019    0.12060 632.36424   0.582    0.561    \n",
       "---\n",
       "Signif. codes:  0 ‘***’ 0.001 ‘**’ 0.01 ‘*’ 0.05 ‘.’ 0.1 ‘ ’ 1\n",
       "\n",
       "Correlation of Fixed Effects:\n",
       "    (Intr)\n",
       "bpd -0.399"
      ]
     },
     "metadata": {},
     "output_type": "display_data"
    },
    {
     "data": {
      "text/plain": [
       "Linear mixed model fit by REML. t-tests use Satterthwaite's method [\n",
       "lmerModLmerTest]\n",
       "Formula: dep18 ~ bpd + (1 | uniquePtId)\n",
       "   Data: dfLongMDDComplete_SessionF\n",
       "\n",
       "REML criterion at convergence: 1680.6\n",
       "\n",
       "Scaled residuals: \n",
       "    Min      1Q  Median      3Q     Max \n",
       "-1.9647 -0.8282  0.1024  0.3841  2.2899 \n",
       "\n",
       "Random effects:\n",
       " Groups     Name        Variance Std.Dev.\n",
       " uniquePtId (Intercept) 0.2419   0.4918  \n",
       " Residual               0.5679   0.7536  \n",
       "Number of obs: 641, groups:  uniquePtId, 564\n",
       "\n",
       "Fixed effects:\n",
       "             Estimate Std. Error        df t value Pr(>|t|)    \n",
       "(Intercept)   2.88997    0.03998 594.86250  72.292   <2e-16 ***\n",
       "bpd           0.10485    0.09311 634.35375   1.126    0.261    \n",
       "---\n",
       "Signif. codes:  0 ‘***’ 0.001 ‘**’ 0.01 ‘*’ 0.05 ‘.’ 0.1 ‘ ’ 1\n",
       "\n",
       "Correlation of Fixed Effects:\n",
       "    (Intr)\n",
       "bpd -0.394"
      ]
     },
     "metadata": {},
     "output_type": "display_data"
    },
    {
     "data": {
      "text/html": [
       "<table class=\"dataframe\">\n",
       "<caption>A data.frame: 3 × 3</caption>\n",
       "<thead>\n",
       "\t<tr><th scope=col>Var</th><th scope=col>ICC</th><th scope=col>post</th></tr>\n",
       "\t<tr><th scope=col>&lt;fct&gt;</th><th scope=col>&lt;dbl&gt;</th><th scope=col>&lt;fct&gt;</th></tr>\n",
       "</thead>\n",
       "<tbody>\n",
       "\t<tr><td>Sym       </td><td>0.6702102</td><td>0.06 (0.09)</td></tr>\n",
       "\t<tr><td>Fun       </td><td>0.5810962</td><td>0.07 (0.12)</td></tr>\n",
       "\t<tr><td>Well-being</td><td>0.5640719</td><td>0.1 (0.09) </td></tr>\n",
       "</tbody>\n",
       "</table>\n"
      ],
      "text/latex": [
       "A data.frame: 3 × 3\n",
       "\\begin{tabular}{lll}\n",
       " Var & ICC & post\\\\\n",
       " <fct> & <dbl> & <fct>\\\\\n",
       "\\hline\n",
       "\t Sym        & 0.6702102 & 0.06 (0.09)\\\\\n",
       "\t Fun        & 0.5810962 & 0.07 (0.12)\\\\\n",
       "\t Well-being & 0.5640719 & 0.1 (0.09) \\\\\n",
       "\\end{tabular}\n"
      ],
      "text/markdown": [
       "\n",
       "A data.frame: 3 × 3\n",
       "\n",
       "| Var &lt;fct&gt; | ICC &lt;dbl&gt; | post &lt;fct&gt; |\n",
       "|---|---|---|\n",
       "| Sym        | 0.6702102 | 0.06 (0.09) |\n",
       "| Fun        | 0.5810962 | 0.07 (0.12) |\n",
       "| Well-being | 0.5640719 | 0.1 (0.09)  |\n",
       "\n"
      ],
      "text/plain": [
       "  Var        ICC       post       \n",
       "1 Sym        0.6702102 0.06 (0.09)\n",
       "2 Fun        0.5810962 0.07 (0.12)\n",
       "3 Well-being 0.5640719 0.1 (0.09) "
      ]
     },
     "metadata": {},
     "output_type": "display_data"
    }
   ],
   "source": [
    "#Post-Treatment Data\n",
    "dfLongMDDComplete_SessionF = \n",
    "    dfLongMDDComplete %>%\n",
    "    group_by(ID1) %>%\n",
    "    slice(day = max(day))%>%\n",
    "    ungroup() \n",
    "\n",
    "#Post-Treatment Depressive Symptoms\n",
    "post_dep_comp = summary(lmer(depMean ~ bpd + (1|uniquePtId), dfLongMDDComplete_SessionF))\n",
    "post_dep_comp\n",
    "\n",
    "#Post-Treatment Functionality\n",
    "post_fun_comp = summary(lmer(dep17 ~ bpd + (1|uniquePtId), dfLongMDDComplete_SessionF))\n",
    "post_fun_comp\n",
    "\n",
    "#Post-Treatment Well-Being\n",
    "post_well_comp  = summary(lmer(dep18 ~ bpd + (1|uniquePtId), dfLongMDDComplete_SessionF))\n",
    "post_well_comp \n",
    "\n",
    "table1 = cbind(table1, post = c(meanSE(post_dep_comp), meanSE(post_fun_comp), meanSE(post_well_comp)))\n",
    "table1"
   ]
  },
  {
   "cell_type": "code",
   "execution_count": 63,
   "id": "expired-cambridge",
   "metadata": {
    "scrolled": true
   },
   "outputs": [
    {
     "name": "stderr",
     "output_type": "stream",
     "text": [
      "`summarise()` ungrouping output (override with `.groups` argument)\n",
      "\n"
     ]
    },
    {
     "data": {
      "text/plain": [
       "Linear mixed model fit by REML. t-tests use Satterthwaite's method [\n",
       "lmerModLmerTest]\n",
       "Formula: depMeanC ~ bpd + (1 | uniquePtId)\n",
       "   Data: dfLongMDDComplete_Change\n",
       "\n",
       "REML criterion at convergence: 1652.4\n",
       "\n",
       "Scaled residuals: \n",
       "     Min       1Q   Median       3Q      Max \n",
       "-2.27967 -0.65209 -0.04099  0.64997  3.12388 \n",
       "\n",
       "Random effects:\n",
       " Groups     Name        Variance Std.Dev.\n",
       " uniquePtId (Intercept) 0.1538   0.3922  \n",
       " Residual               0.5727   0.7568  \n",
       "Number of obs: 656, groups:  uniquePtId, 563\n",
       "\n",
       "Fixed effects:\n",
       "             Estimate Std. Error        df t value Pr(>|t|)    \n",
       "(Intercept)  -1.18648    0.03762 580.23704 -31.536   <2e-16 ***\n",
       "bpd          -0.02155    0.08639 653.98471  -0.249    0.803    \n",
       "---\n",
       "Signif. codes:  0 ‘***’ 0.001 ‘**’ 0.01 ‘*’ 0.05 ‘.’ 0.1 ‘ ’ 1\n",
       "\n",
       "Correlation of Fixed Effects:\n",
       "    (Intr)\n",
       "bpd -0.408"
      ]
     },
     "metadata": {},
     "output_type": "display_data"
    },
    {
     "data": {
      "text/plain": [
       "Linear mixed model fit by REML. t-tests use Satterthwaite's method [\n",
       "lmerModLmerTest]\n",
       "Formula: dep17C ~ bpd + (1 | uniquePtId)\n",
       "   Data: dfLongMDDComplete_Change\n",
       "\n",
       "REML criterion at convergence: 2129.2\n",
       "\n",
       "Scaled residuals: \n",
       "    Min      1Q  Median      3Q     Max \n",
       "-2.2020 -0.6520  0.1028  0.8576  3.2408 \n",
       "\n",
       "Random effects:\n",
       " Groups     Name        Variance Std.Dev.\n",
       " uniquePtId (Intercept) 0.06313  0.2513  \n",
       " Residual               1.62666  1.2754  \n",
       "Number of obs: 632, groups:  uniquePtId, 547\n",
       "\n",
       "Fixed effects:\n",
       "             Estimate Std. Error        df t value Pr(>|t|)    \n",
       "(Intercept)  -1.13621    0.05751 535.23635 -19.755   <2e-16 ***\n",
       "bpd          -0.15662    0.13394 601.55564  -1.169    0.243    \n",
       "---\n",
       "Signif. codes:  0 ‘***’ 0.001 ‘**’ 0.01 ‘*’ 0.05 ‘.’ 0.1 ‘ ’ 1\n",
       "\n",
       "Correlation of Fixed Effects:\n",
       "    (Intr)\n",
       "bpd -0.424"
      ]
     },
     "metadata": {},
     "output_type": "display_data"
    },
    {
     "data": {
      "text/plain": [
       "Linear mixed model fit by REML. t-tests use Satterthwaite's method [\n",
       "lmerModLmerTest]\n",
       "Formula: dep18C ~ bpd + (1 | uniquePtId)\n",
       "   Data: dfLongMDDComplete_Change\n",
       "\n",
       "REML criterion at convergence: 1836.4\n",
       "\n",
       "Scaled residuals: \n",
       "    Min      1Q  Median      3Q     Max \n",
       "-2.8287 -0.3883 -0.1800  0.7029  4.2345 \n",
       "\n",
       "Random effects:\n",
       " Groups     Name        Variance Std.Dev.\n",
       " uniquePtId (Intercept) 0.1632   0.4039  \n",
       " Residual               0.9278   0.9632  \n",
       "Number of obs: 627, groups:  uniquePtId, 542\n",
       "\n",
       "Fixed effects:\n",
       "             Estimate Std. Error        df t value Pr(>|t|)    \n",
       "(Intercept)  -0.79613    0.04687 550.57286 -16.987   <2e-16 ***\n",
       "bpd          -0.08994    0.10879 620.22368  -0.827    0.409    \n",
       "---\n",
       "Signif. codes:  0 ‘***’ 0.001 ‘**’ 0.01 ‘*’ 0.05 ‘.’ 0.1 ‘ ’ 1\n",
       "\n",
       "Correlation of Fixed Effects:\n",
       "    (Intr)\n",
       "bpd -0.412"
      ]
     },
     "metadata": {},
     "output_type": "display_data"
    }
   ],
   "source": [
    "#Change Data\n",
    "dfLongMDDComplete_Change = \n",
    "    dfLongMDDComplete %>%\n",
    "    group_by(ID1) %>%\n",
    "    summarize(bpd = bpd[1],\n",
    "    depMeanC = depMean[n()] - depMean[1],\n",
    "    dep17C = dep17[n()]-dep17[1],\n",
    "    dep18C = dep18[n()]-dep18[1],\n",
    "    SCID_1 = SCID_1[1],\n",
    "    uniquePtId = uniquePtId[1]) %>%\n",
    "    ungroup()\n",
    "\n",
    "#Change Depressive Symptoms\n",
    "change_dep_comp = summary(lmer(depMeanC ~ bpd + (1|uniquePtId), dfLongMDDComplete_Change))\n",
    "change_dep_comp\n",
    "\n",
    "#Change Functionality\n",
    "change_fun_comp = summary(lmer(dep17C ~ bpd + (1|uniquePtId), dfLongMDDComplete_Change))\n",
    "change_fun_comp\n",
    "\n",
    "#Change Well-Being\n",
    "change_well_comp = summary(lmer(dep18C ~ bpd + (1|uniquePtId), dfLongMDDComplete_Change))\n",
    "change_well_comp\n",
    "\n",
    "table1 = cbind(table1, change = c(meanSE(change_dep_comp), meanSE(change_fun_comp), meanSE(change_well_comp)))\n",
    "\n"
   ]
  },
  {
   "cell_type": "code",
   "execution_count": 50,
   "id": "handed-craps",
   "metadata": {},
   "outputs": [
    {
     "data": {
      "text/html": [
       "<table class=\"dataframe\">\n",
       "<caption>A data.frame: 3 × 3</caption>\n",
       "<thead>\n",
       "\t<tr><th scope=col>Var</th><th scope=col>ICC</th><th scope=col>post</th></tr>\n",
       "\t<tr><th scope=col>&lt;fct&gt;</th><th scope=col>&lt;dbl&gt;</th><th scope=col>&lt;fct&gt;</th></tr>\n",
       "</thead>\n",
       "<tbody>\n",
       "\t<tr><td>Sym       </td><td>0.6702102</td><td>0.06 (0.09)</td></tr>\n",
       "\t<tr><td>Fun       </td><td>0.5810962</td><td>0.07 (0.12)</td></tr>\n",
       "\t<tr><td>Well-being</td><td>0.5640719</td><td>0.1 (0.09) </td></tr>\n",
       "</tbody>\n",
       "</table>\n"
      ],
      "text/latex": [
       "A data.frame: 3 × 3\n",
       "\\begin{tabular}{lll}\n",
       " Var & ICC & post\\\\\n",
       " <fct> & <dbl> & <fct>\\\\\n",
       "\\hline\n",
       "\t Sym        & 0.6702102 & 0.06 (0.09)\\\\\n",
       "\t Fun        & 0.5810962 & 0.07 (0.12)\\\\\n",
       "\t Well-being & 0.5640719 & 0.1 (0.09) \\\\\n",
       "\\end{tabular}\n"
      ],
      "text/markdown": [
       "\n",
       "A data.frame: 3 × 3\n",
       "\n",
       "| Var &lt;fct&gt; | ICC &lt;dbl&gt; | post &lt;fct&gt; |\n",
       "|---|---|---|\n",
       "| Sym        | 0.6702102 | 0.06 (0.09) |\n",
       "| Fun        | 0.5810962 | 0.07 (0.12) |\n",
       "| Well-being | 0.5640719 | 0.1 (0.09)  |\n",
       "\n"
      ],
      "text/plain": [
       "  Var        ICC       post       \n",
       "1 Sym        0.6702102 0.06 (0.09)\n",
       "2 Fun        0.5810962 0.07 (0.12)\n",
       "3 Well-being 0.5640719 0.1 (0.09) "
      ]
     },
     "metadata": {},
     "output_type": "display_data"
    }
   ],
   "source": [
    "table1"
   ]
  },
  {
   "cell_type": "code",
   "execution_count": 64,
   "id": "textile-rescue",
   "metadata": {},
   "outputs": [],
   "source": [
    "mean_sd = function(x){\n",
    "    return(paste0(round(mean(x, na.rm = T),2), ' (',round(sd(x, na.rm = T),2),')'))\n",
    "    \n",
    "}"
   ]
  },
  {
   "cell_type": "code",
   "execution_count": 65,
   "id": "automated-going",
   "metadata": {},
   "outputs": [
    {
     "name": "stderr",
     "output_type": "stream",
     "text": [
      "`summarise()` ungrouping output (override with `.groups` argument)\n",
      "\n"
     ]
    },
    {
     "data": {
      "text/html": [
       "<table class=\"dataframe\">\n",
       "<caption>A tibble: 1087 × 5</caption>\n",
       "<thead>\n",
       "\t<tr><th scope=col>ID1</th><th scope=col>bpd</th><th scope=col>depMean1</th><th scope=col>dep17[1]</th><th scope=col>dep18[1]</th></tr>\n",
       "\t<tr><th scope=col>&lt;int&gt;</th><th scope=col>&lt;dbl&gt;</th><th scope=col>&lt;dbl&gt;</th><th scope=col>&lt;int&gt;</th><th scope=col>&lt;int&gt;</th></tr>\n",
       "</thead>\n",
       "<tbody>\n",
       "\t<tr><td>  6</td><td>0</td><td>2.937500</td><td> 4</td><td> 3</td></tr>\n",
       "\t<tr><td> 13</td><td>0</td><td>2.562500</td><td> 4</td><td> 3</td></tr>\n",
       "\t<tr><td> 14</td><td>0</td><td>3.937500</td><td> 5</td><td> 5</td></tr>\n",
       "\t<tr><td> 23</td><td>0</td><td>3.562500</td><td> 5</td><td> 3</td></tr>\n",
       "\t<tr><td> 29</td><td>0</td><td>3.125000</td><td> 5</td><td> 5</td></tr>\n",
       "\t<tr><td> 32</td><td>1</td><td>3.750000</td><td> 5</td><td> 3</td></tr>\n",
       "\t<tr><td> 42</td><td>0</td><td>3.812500</td><td> 4</td><td> 4</td></tr>\n",
       "\t<tr><td> 43</td><td>0</td><td>2.312500</td><td> 3</td><td> 2</td></tr>\n",
       "\t<tr><td> 44</td><td>0</td><td>3.250000</td><td> 5</td><td> 4</td></tr>\n",
       "\t<tr><td> 47</td><td>0</td><td>2.062500</td><td> 5</td><td> 3</td></tr>\n",
       "\t<tr><td> 58</td><td>0</td><td>3.562500</td><td> 3</td><td> 3</td></tr>\n",
       "\t<tr><td> 64</td><td>0</td><td>3.750000</td><td> 5</td><td> 4</td></tr>\n",
       "\t<tr><td> 71</td><td>0</td><td>3.312500</td><td> 5</td><td> 5</td></tr>\n",
       "\t<tr><td> 85</td><td>0</td><td>1.000000</td><td> 1</td><td> 2</td></tr>\n",
       "\t<tr><td> 88</td><td>0</td><td>      NA</td><td>NA</td><td>NA</td></tr>\n",
       "\t<tr><td> 89</td><td>0</td><td>1.866667</td><td> 2</td><td> 3</td></tr>\n",
       "\t<tr><td> 92</td><td>0</td><td>3.812500</td><td> 5</td><td> 4</td></tr>\n",
       "\t<tr><td> 95</td><td>0</td><td>2.125000</td><td> 2</td><td> 2</td></tr>\n",
       "\t<tr><td> 97</td><td>0</td><td>3.750000</td><td> 4</td><td> 3</td></tr>\n",
       "\t<tr><td>103</td><td>0</td><td>      NA</td><td>NA</td><td>NA</td></tr>\n",
       "\t<tr><td>105</td><td>0</td><td>      NA</td><td>NA</td><td>NA</td></tr>\n",
       "\t<tr><td>106</td><td>0</td><td>2.750000</td><td> 3</td><td> 4</td></tr>\n",
       "\t<tr><td>108</td><td>0</td><td>4.125000</td><td> 5</td><td> 4</td></tr>\n",
       "\t<tr><td>109</td><td>0</td><td>      NA</td><td>NA</td><td>NA</td></tr>\n",
       "\t<tr><td>122</td><td>0</td><td>4.125000</td><td> 5</td><td> 5</td></tr>\n",
       "\t<tr><td>125</td><td>1</td><td>3.500000</td><td> 4</td><td> 3</td></tr>\n",
       "\t<tr><td>126</td><td>0</td><td>3.625000</td><td> 5</td><td> 4</td></tr>\n",
       "\t<tr><td>128</td><td>0</td><td>3.187500</td><td> 4</td><td> 3</td></tr>\n",
       "\t<tr><td>129</td><td>0</td><td>4.466667</td><td> 5</td><td> 5</td></tr>\n",
       "\t<tr><td>132</td><td>0</td><td>3.812500</td><td> 4</td><td> 4</td></tr>\n",
       "\t<tr><td>⋮</td><td>⋮</td><td>⋮</td><td>⋮</td><td>⋮</td></tr>\n",
       "\t<tr><td>5713</td><td>0</td><td>      NA</td><td>NA</td><td>NA</td></tr>\n",
       "\t<tr><td>5723</td><td>1</td><td>3.500000</td><td> 5</td><td> 4</td></tr>\n",
       "\t<tr><td>5730</td><td>0</td><td>      NA</td><td>NA</td><td>NA</td></tr>\n",
       "\t<tr><td>5732</td><td>0</td><td>      NA</td><td>NA</td><td>NA</td></tr>\n",
       "\t<tr><td>5735</td><td>0</td><td>3.250000</td><td> 2</td><td> 4</td></tr>\n",
       "\t<tr><td>5737</td><td>1</td><td>3.750000</td><td> 4</td><td> 5</td></tr>\n",
       "\t<tr><td>5748</td><td>1</td><td>3.687500</td><td> 4</td><td> 4</td></tr>\n",
       "\t<tr><td>5754</td><td>0</td><td>3.812500</td><td> 5</td><td> 4</td></tr>\n",
       "\t<tr><td>5757</td><td>0</td><td>3.142857</td><td> 3</td><td>NA</td></tr>\n",
       "\t<tr><td>5771</td><td>0</td><td>2.937500</td><td> 4</td><td> 3</td></tr>\n",
       "\t<tr><td>5777</td><td>1</td><td>1.875000</td><td>NA</td><td>NA</td></tr>\n",
       "\t<tr><td>5792</td><td>0</td><td>      NA</td><td>NA</td><td>NA</td></tr>\n",
       "\t<tr><td>5793</td><td>1</td><td>2.375000</td><td> 3</td><td> 3</td></tr>\n",
       "\t<tr><td>5815</td><td>0</td><td>3.125000</td><td> 5</td><td> 3</td></tr>\n",
       "\t<tr><td>5818</td><td>0</td><td>4.562500</td><td> 2</td><td> 3</td></tr>\n",
       "\t<tr><td>5834</td><td>0</td><td>3.125000</td><td> 4</td><td> 4</td></tr>\n",
       "\t<tr><td>5835</td><td>0</td><td>3.437500</td><td> 2</td><td> 4</td></tr>\n",
       "\t<tr><td>5838</td><td>0</td><td>2.125000</td><td> 3</td><td> 3</td></tr>\n",
       "\t<tr><td>5877</td><td>0</td><td>3.437500</td><td> 4</td><td> 5</td></tr>\n",
       "\t<tr><td>5891</td><td>0</td><td>3.812500</td><td> 3</td><td> 3</td></tr>\n",
       "\t<tr><td>5894</td><td>0</td><td>3.312500</td><td> 3</td><td> 4</td></tr>\n",
       "\t<tr><td>5913</td><td>0</td><td>4.687500</td><td> 5</td><td> 5</td></tr>\n",
       "\t<tr><td>5914</td><td>1</td><td>      NA</td><td>NA</td><td>NA</td></tr>\n",
       "\t<tr><td>5936</td><td>1</td><td>1.000000</td><td> 1</td><td> 2</td></tr>\n",
       "\t<tr><td>5938</td><td>1</td><td>      NA</td><td>NA</td><td>NA</td></tr>\n",
       "\t<tr><td>5953</td><td>1</td><td>      NA</td><td>NA</td><td>NA</td></tr>\n",
       "\t<tr><td>5970</td><td>0</td><td>2.250000</td><td> 4</td><td> 4</td></tr>\n",
       "\t<tr><td>5978</td><td>0</td><td>3.250000</td><td> 5</td><td> 5</td></tr>\n",
       "\t<tr><td>5994</td><td>0</td><td>3.562500</td><td> 3</td><td> 3</td></tr>\n",
       "\t<tr><td>5995</td><td>0</td><td>      NA</td><td>NA</td><td>NA</td></tr>\n",
       "</tbody>\n",
       "</table>\n"
      ],
      "text/latex": [
       "A tibble: 1087 × 5\n",
       "\\begin{tabular}{lllll}\n",
       " ID1 & bpd & depMean1 & dep17{[}1{]} & dep18{[}1{]}\\\\\n",
       " <int> & <dbl> & <dbl> & <int> & <int>\\\\\n",
       "\\hline\n",
       "\t   6 & 0 & 2.937500 &  4 &  3\\\\\n",
       "\t  13 & 0 & 2.562500 &  4 &  3\\\\\n",
       "\t  14 & 0 & 3.937500 &  5 &  5\\\\\n",
       "\t  23 & 0 & 3.562500 &  5 &  3\\\\\n",
       "\t  29 & 0 & 3.125000 &  5 &  5\\\\\n",
       "\t  32 & 1 & 3.750000 &  5 &  3\\\\\n",
       "\t  42 & 0 & 3.812500 &  4 &  4\\\\\n",
       "\t  43 & 0 & 2.312500 &  3 &  2\\\\\n",
       "\t  44 & 0 & 3.250000 &  5 &  4\\\\\n",
       "\t  47 & 0 & 2.062500 &  5 &  3\\\\\n",
       "\t  58 & 0 & 3.562500 &  3 &  3\\\\\n",
       "\t  64 & 0 & 3.750000 &  5 &  4\\\\\n",
       "\t  71 & 0 & 3.312500 &  5 &  5\\\\\n",
       "\t  85 & 0 & 1.000000 &  1 &  2\\\\\n",
       "\t  88 & 0 &       NA & NA & NA\\\\\n",
       "\t  89 & 0 & 1.866667 &  2 &  3\\\\\n",
       "\t  92 & 0 & 3.812500 &  5 &  4\\\\\n",
       "\t  95 & 0 & 2.125000 &  2 &  2\\\\\n",
       "\t  97 & 0 & 3.750000 &  4 &  3\\\\\n",
       "\t 103 & 0 &       NA & NA & NA\\\\\n",
       "\t 105 & 0 &       NA & NA & NA\\\\\n",
       "\t 106 & 0 & 2.750000 &  3 &  4\\\\\n",
       "\t 108 & 0 & 4.125000 &  5 &  4\\\\\n",
       "\t 109 & 0 &       NA & NA & NA\\\\\n",
       "\t 122 & 0 & 4.125000 &  5 &  5\\\\\n",
       "\t 125 & 1 & 3.500000 &  4 &  3\\\\\n",
       "\t 126 & 0 & 3.625000 &  5 &  4\\\\\n",
       "\t 128 & 0 & 3.187500 &  4 &  3\\\\\n",
       "\t 129 & 0 & 4.466667 &  5 &  5\\\\\n",
       "\t 132 & 0 & 3.812500 &  4 &  4\\\\\n",
       "\t ⋮ & ⋮ & ⋮ & ⋮ & ⋮\\\\\n",
       "\t 5713 & 0 &       NA & NA & NA\\\\\n",
       "\t 5723 & 1 & 3.500000 &  5 &  4\\\\\n",
       "\t 5730 & 0 &       NA & NA & NA\\\\\n",
       "\t 5732 & 0 &       NA & NA & NA\\\\\n",
       "\t 5735 & 0 & 3.250000 &  2 &  4\\\\\n",
       "\t 5737 & 1 & 3.750000 &  4 &  5\\\\\n",
       "\t 5748 & 1 & 3.687500 &  4 &  4\\\\\n",
       "\t 5754 & 0 & 3.812500 &  5 &  4\\\\\n",
       "\t 5757 & 0 & 3.142857 &  3 & NA\\\\\n",
       "\t 5771 & 0 & 2.937500 &  4 &  3\\\\\n",
       "\t 5777 & 1 & 1.875000 & NA & NA\\\\\n",
       "\t 5792 & 0 &       NA & NA & NA\\\\\n",
       "\t 5793 & 1 & 2.375000 &  3 &  3\\\\\n",
       "\t 5815 & 0 & 3.125000 &  5 &  3\\\\\n",
       "\t 5818 & 0 & 4.562500 &  2 &  3\\\\\n",
       "\t 5834 & 0 & 3.125000 &  4 &  4\\\\\n",
       "\t 5835 & 0 & 3.437500 &  2 &  4\\\\\n",
       "\t 5838 & 0 & 2.125000 &  3 &  3\\\\\n",
       "\t 5877 & 0 & 3.437500 &  4 &  5\\\\\n",
       "\t 5891 & 0 & 3.812500 &  3 &  3\\\\\n",
       "\t 5894 & 0 & 3.312500 &  3 &  4\\\\\n",
       "\t 5913 & 0 & 4.687500 &  5 &  5\\\\\n",
       "\t 5914 & 1 &       NA & NA & NA\\\\\n",
       "\t 5936 & 1 & 1.000000 &  1 &  2\\\\\n",
       "\t 5938 & 1 &       NA & NA & NA\\\\\n",
       "\t 5953 & 1 &       NA & NA & NA\\\\\n",
       "\t 5970 & 0 & 2.250000 &  4 &  4\\\\\n",
       "\t 5978 & 0 & 3.250000 &  5 &  5\\\\\n",
       "\t 5994 & 0 & 3.562500 &  3 &  3\\\\\n",
       "\t 5995 & 0 &       NA & NA & NA\\\\\n",
       "\\end{tabular}\n"
      ],
      "text/markdown": [
       "\n",
       "A tibble: 1087 × 5\n",
       "\n",
       "| ID1 &lt;int&gt; | bpd &lt;dbl&gt; | depMean1 &lt;dbl&gt; | dep17[1] &lt;int&gt; | dep18[1] &lt;int&gt; |\n",
       "|---|---|---|---|---|\n",
       "|   6 | 0 | 2.937500 |  4 |  3 |\n",
       "|  13 | 0 | 2.562500 |  4 |  3 |\n",
       "|  14 | 0 | 3.937500 |  5 |  5 |\n",
       "|  23 | 0 | 3.562500 |  5 |  3 |\n",
       "|  29 | 0 | 3.125000 |  5 |  5 |\n",
       "|  32 | 1 | 3.750000 |  5 |  3 |\n",
       "|  42 | 0 | 3.812500 |  4 |  4 |\n",
       "|  43 | 0 | 2.312500 |  3 |  2 |\n",
       "|  44 | 0 | 3.250000 |  5 |  4 |\n",
       "|  47 | 0 | 2.062500 |  5 |  3 |\n",
       "|  58 | 0 | 3.562500 |  3 |  3 |\n",
       "|  64 | 0 | 3.750000 |  5 |  4 |\n",
       "|  71 | 0 | 3.312500 |  5 |  5 |\n",
       "|  85 | 0 | 1.000000 |  1 |  2 |\n",
       "|  88 | 0 |       NA | NA | NA |\n",
       "|  89 | 0 | 1.866667 |  2 |  3 |\n",
       "|  92 | 0 | 3.812500 |  5 |  4 |\n",
       "|  95 | 0 | 2.125000 |  2 |  2 |\n",
       "|  97 | 0 | 3.750000 |  4 |  3 |\n",
       "| 103 | 0 |       NA | NA | NA |\n",
       "| 105 | 0 |       NA | NA | NA |\n",
       "| 106 | 0 | 2.750000 |  3 |  4 |\n",
       "| 108 | 0 | 4.125000 |  5 |  4 |\n",
       "| 109 | 0 |       NA | NA | NA |\n",
       "| 122 | 0 | 4.125000 |  5 |  5 |\n",
       "| 125 | 1 | 3.500000 |  4 |  3 |\n",
       "| 126 | 0 | 3.625000 |  5 |  4 |\n",
       "| 128 | 0 | 3.187500 |  4 |  3 |\n",
       "| 129 | 0 | 4.466667 |  5 |  5 |\n",
       "| 132 | 0 | 3.812500 |  4 |  4 |\n",
       "| ⋮ | ⋮ | ⋮ | ⋮ | ⋮ |\n",
       "| 5713 | 0 |       NA | NA | NA |\n",
       "| 5723 | 1 | 3.500000 |  5 |  4 |\n",
       "| 5730 | 0 |       NA | NA | NA |\n",
       "| 5732 | 0 |       NA | NA | NA |\n",
       "| 5735 | 0 | 3.250000 |  2 |  4 |\n",
       "| 5737 | 1 | 3.750000 |  4 |  5 |\n",
       "| 5748 | 1 | 3.687500 |  4 |  4 |\n",
       "| 5754 | 0 | 3.812500 |  5 |  4 |\n",
       "| 5757 | 0 | 3.142857 |  3 | NA |\n",
       "| 5771 | 0 | 2.937500 |  4 |  3 |\n",
       "| 5777 | 1 | 1.875000 | NA | NA |\n",
       "| 5792 | 0 |       NA | NA | NA |\n",
       "| 5793 | 1 | 2.375000 |  3 |  3 |\n",
       "| 5815 | 0 | 3.125000 |  5 |  3 |\n",
       "| 5818 | 0 | 4.562500 |  2 |  3 |\n",
       "| 5834 | 0 | 3.125000 |  4 |  4 |\n",
       "| 5835 | 0 | 3.437500 |  2 |  4 |\n",
       "| 5838 | 0 | 2.125000 |  3 |  3 |\n",
       "| 5877 | 0 | 3.437500 |  4 |  5 |\n",
       "| 5891 | 0 | 3.812500 |  3 |  3 |\n",
       "| 5894 | 0 | 3.312500 |  3 |  4 |\n",
       "| 5913 | 0 | 4.687500 |  5 |  5 |\n",
       "| 5914 | 1 |       NA | NA | NA |\n",
       "| 5936 | 1 | 1.000000 |  1 |  2 |\n",
       "| 5938 | 1 |       NA | NA | NA |\n",
       "| 5953 | 1 |       NA | NA | NA |\n",
       "| 5970 | 0 | 2.250000 |  4 |  4 |\n",
       "| 5978 | 0 | 3.250000 |  5 |  5 |\n",
       "| 5994 | 0 | 3.562500 |  3 |  3 |\n",
       "| 5995 | 0 |       NA | NA | NA |\n",
       "\n"
      ],
      "text/plain": [
       "     ID1  bpd depMean1 dep17[1] dep18[1]\n",
       "1      6  0   2.937500  4        3      \n",
       "2     13  0   2.562500  4        3      \n",
       "3     14  0   3.937500  5        5      \n",
       "4     23  0   3.562500  5        3      \n",
       "5     29  0   3.125000  5        5      \n",
       "6     32  1   3.750000  5        3      \n",
       "7     42  0   3.812500  4        4      \n",
       "8     43  0   2.312500  3        2      \n",
       "9     44  0   3.250000  5        4      \n",
       "10    47  0   2.062500  5        3      \n",
       "11    58  0   3.562500  3        3      \n",
       "12    64  0   3.750000  5        4      \n",
       "13    71  0   3.312500  5        5      \n",
       "14    85  0   1.000000  1        2      \n",
       "15    88  0         NA NA       NA      \n",
       "16    89  0   1.866667  2        3      \n",
       "17    92  0   3.812500  5        4      \n",
       "18    95  0   2.125000  2        2      \n",
       "19    97  0   3.750000  4        3      \n",
       "20   103  0         NA NA       NA      \n",
       "21   105  0         NA NA       NA      \n",
       "22   106  0   2.750000  3        4      \n",
       "23   108  0   4.125000  5        4      \n",
       "24   109  0         NA NA       NA      \n",
       "25   122  0   4.125000  5        5      \n",
       "26   125  1   3.500000  4        3      \n",
       "27   126  0   3.625000  5        4      \n",
       "28   128  0   3.187500  4        3      \n",
       "29   129  0   4.466667  5        5      \n",
       "30   132  0   3.812500  4        4      \n",
       "⋮    ⋮    ⋮   ⋮        ⋮        ⋮       \n",
       "1058 5713 0         NA NA       NA      \n",
       "1059 5723 1   3.500000  5        4      \n",
       "1060 5730 0         NA NA       NA      \n",
       "1061 5732 0         NA NA       NA      \n",
       "1062 5735 0   3.250000  2        4      \n",
       "1063 5737 1   3.750000  4        5      \n",
       "1064 5748 1   3.687500  4        4      \n",
       "1065 5754 0   3.812500  5        4      \n",
       "1066 5757 0   3.142857  3       NA      \n",
       "1067 5771 0   2.937500  4        3      \n",
       "1068 5777 1   1.875000 NA       NA      \n",
       "1069 5792 0         NA NA       NA      \n",
       "1070 5793 1   2.375000  3        3      \n",
       "1071 5815 0   3.125000  5        3      \n",
       "1072 5818 0   4.562500  2        3      \n",
       "1073 5834 0   3.125000  4        4      \n",
       "1074 5835 0   3.437500  2        4      \n",
       "1075 5838 0   2.125000  3        3      \n",
       "1076 5877 0   3.437500  4        5      \n",
       "1077 5891 0   3.812500  3        3      \n",
       "1078 5894 0   3.312500  3        4      \n",
       "1079 5913 0   4.687500  5        5      \n",
       "1080 5914 1         NA NA       NA      \n",
       "1081 5936 1   1.000000  1        2      \n",
       "1082 5938 1         NA NA       NA      \n",
       "1083 5953 1         NA NA       NA      \n",
       "1084 5970 0   2.250000  4        4      \n",
       "1085 5978 0   3.250000  5        5      \n",
       "1086 5994 0   3.562500  3        3      \n",
       "1087 5995 0         NA NA       NA      "
      ]
     },
     "metadata": {},
     "output_type": "display_data"
    }
   ],
   "source": [
    "dfLongMDDComplete %>%\n",
    "group_by(ID1) %>%\n",
    "summarize(bpd = bpd[1],\n",
    "          depMean1 = depMean[1],\n",
    "         dep17[1],\n",
    "         dep18[1])"
   ]
  },
  {
   "cell_type": "code",
   "execution_count": 66,
   "id": "industrial-liberia",
   "metadata": {
    "scrolled": true
   },
   "outputs": [
    {
     "name": "stderr",
     "output_type": "stream",
     "text": [
      "`summarise()` ungrouping output (override with `.groups` argument)\n",
      "\n"
     ]
    },
    {
     "data": {
      "text/html": [
       "<table class=\"dataframe\">\n",
       "<caption>A matrix: 12 × 2 of type chr</caption>\n",
       "<tbody>\n",
       "\t<tr><th scope=row>bpd</th><td>0           </td><td>1            </td></tr>\n",
       "\t<tr><th scope=row>depMean1</th><td>3.37 (0.71) </td><td>3.59 (0.73)  </td></tr>\n",
       "\t<tr><th scope=row>dep171</th><td>3.78 (1.14) </td><td>3.95 (1.07)  </td></tr>\n",
       "\t<tr><th scope=row>dep181</th><td>3.59 (0.88) </td><td>3.74 (0.8)   </td></tr>\n",
       "\t<tr><th scope=row>depMeanF</th><td>2.25 (0.84) </td><td>2.39 (0.89)  </td></tr>\n",
       "\t<tr><th scope=row>dep17F</th><td>2.71 (1.16) </td><td>2.79 (1.21)  </td></tr>\n",
       "\t<tr><th scope=row>dep18F</th><td>2.86 (0.9)  </td><td>2.98 (1.02)  </td></tr>\n",
       "\t<tr><th scope=row>depMeanC</th><td>-1.18 (0.82)</td><td>-1.2 (0.99)  </td></tr>\n",
       "\t<tr><th scope=row>dep17C</th><td>-1.14 (1.28)</td><td>-1.29 (1.38) </td></tr>\n",
       "\t<tr><th scope=row>dep18c</th><td>-0.8 (1.04) </td><td>-0.89 (1.05) </td></tr>\n",
       "\t<tr><th scope=row>comorbidity</th><td>2.66 (1.37) </td><td>4.14 (1.45)  </td></tr>\n",
       "\t<tr><th scope=row>txlength</th><td>11.23 (5.17)</td><td>14.46 (11.01)</td></tr>\n",
       "</tbody>\n",
       "</table>\n"
      ],
      "text/latex": [
       "A matrix: 12 × 2 of type chr\n",
       "\\begin{tabular}{r|ll}\n",
       "\tbpd & 0            & 1            \\\\\n",
       "\tdepMean1 & 3.37 (0.71)  & 3.59 (0.73)  \\\\\n",
       "\tdep171 & 3.78 (1.14)  & 3.95 (1.07)  \\\\\n",
       "\tdep181 & 3.59 (0.88)  & 3.74 (0.8)   \\\\\n",
       "\tdepMeanF & 2.25 (0.84)  & 2.39 (0.89)  \\\\\n",
       "\tdep17F & 2.71 (1.16)  & 2.79 (1.21)  \\\\\n",
       "\tdep18F & 2.86 (0.9)   & 2.98 (1.02)  \\\\\n",
       "\tdepMeanC & -1.18 (0.82) & -1.2 (0.99)  \\\\\n",
       "\tdep17C & -1.14 (1.28) & -1.29 (1.38) \\\\\n",
       "\tdep18c & -0.8 (1.04)  & -0.89 (1.05) \\\\\n",
       "\tcomorbidity & 2.66 (1.37)  & 4.14 (1.45)  \\\\\n",
       "\ttxlength & 11.23 (5.17) & 14.46 (11.01)\\\\\n",
       "\\end{tabular}\n"
      ],
      "text/markdown": [
       "\n",
       "A matrix: 12 × 2 of type chr\n",
       "\n",
       "| bpd | 0            | 1             |\n",
       "| depMean1 | 3.37 (0.71)  | 3.59 (0.73)   |\n",
       "| dep171 | 3.78 (1.14)  | 3.95 (1.07)   |\n",
       "| dep181 | 3.59 (0.88)  | 3.74 (0.8)    |\n",
       "| depMeanF | 2.25 (0.84)  | 2.39 (0.89)   |\n",
       "| dep17F | 2.71 (1.16)  | 2.79 (1.21)   |\n",
       "| dep18F | 2.86 (0.9)   | 2.98 (1.02)   |\n",
       "| depMeanC | -1.18 (0.82) | -1.2 (0.99)   |\n",
       "| dep17C | -1.14 (1.28) | -1.29 (1.38)  |\n",
       "| dep18c | -0.8 (1.04)  | -0.89 (1.05)  |\n",
       "| comorbidity | 2.66 (1.37)  | 4.14 (1.45)   |\n",
       "| txlength | 11.23 (5.17) | 14.46 (11.01) |\n",
       "\n"
      ],
      "text/plain": [
       "            [,1]         [,2]         \n",
       "bpd         0            1            \n",
       "depMean1    3.37 (0.71)  3.59 (0.73)  \n",
       "dep171      3.78 (1.14)  3.95 (1.07)  \n",
       "dep181      3.59 (0.88)  3.74 (0.8)   \n",
       "depMeanF    2.25 (0.84)  2.39 (0.89)  \n",
       "dep17F      2.71 (1.16)  2.79 (1.21)  \n",
       "dep18F      2.86 (0.9)   2.98 (1.02)  \n",
       "depMeanC    -1.18 (0.82) -1.2 (0.99)  \n",
       "dep17C      -1.14 (1.28) -1.29 (1.38) \n",
       "dep18c      -0.8 (1.04)  -0.89 (1.05) \n",
       "comorbidity 2.66 (1.37)  4.14 (1.45)  \n",
       "txlength    11.23 (5.17) 14.46 (11.01)"
      ]
     },
     "metadata": {},
     "output_type": "display_data"
    }
   ],
   "source": [
    "mean_sdc = \n",
    "dfLongMDDComplete %>%\n",
    "group_by(ID1) %>%\n",
    "summarize(bpd = bpd[1],\n",
    "          depMean1 = depMean[1],\n",
    "          dep171 = dep17[1],\n",
    "          dep181 = dep18[1],\n",
    "          depMeanF = depMean[n()],\n",
    "          dep17F = dep17[n()],\n",
    "          dep18F = dep18[n()],\n",
    "         depMeanC = depMean[n()] - depMean[1],\n",
    "         dep17C = dep17[n()]-dep17[1],\n",
    "         dep18c = dep18[n()]-dep18[1],\n",
    "         comorbidity = comorbidity[1],\n",
    "         txlength = txlength[1]) %>%\n",
    "ungroup()%>%\n",
    "dplyr::select(-ID1)%>%\n",
    "group_by(bpd) %>%\n",
    "summarize_all(mean_sd) %>%\n",
    "t()\n",
    "\n",
    "mean_sdc\n"
   ]
  },
  {
   "cell_type": "code",
   "execution_count": 67,
   "id": "recreational-justice",
   "metadata": {},
   "outputs": [
    {
     "data": {
      "text/html": [
       "<table class=\"dataframe\">\n",
       "<caption>A grouped_df: 423 × 271</caption>\n",
       "<thead>\n",
       "\t<tr><th scope=col>ID1</th><th scope=col>day</th><th scope=col>dep1</th><th scope=col>dep2</th><th scope=col>dep3</th><th scope=col>dep4</th><th scope=col>dep5</th><th scope=col>dep6</th><th scope=col>dep7</th><th scope=col>dep8</th><th scope=col>⋯</th><th scope=col>condct_1</th><th scope=col>other_1_1</th><th scope=col>other_1_dx_1</th><th scope=col>other_2_1</th><th scope=col>other_2_dx_1</th><th scope=col>other_3_1</th><th scope=col>other_3_dx_1</th><th scope=col>comorbidity</th><th scope=col>bpd</th><th scope=col>txlength</th></tr>\n",
       "\t<tr><th scope=col>&lt;int&gt;</th><th scope=col>&lt;int&gt;</th><th scope=col>&lt;int&gt;</th><th scope=col>&lt;int&gt;</th><th scope=col>&lt;int&gt;</th><th scope=col>&lt;int&gt;</th><th scope=col>&lt;int&gt;</th><th scope=col>&lt;int&gt;</th><th scope=col>&lt;int&gt;</th><th scope=col>&lt;int&gt;</th><th scope=col>⋯</th><th scope=col>&lt;fct&gt;</th><th scope=col>&lt;fct&gt;</th><th scope=col>&lt;fct&gt;</th><th scope=col>&lt;fct&gt;</th><th scope=col>&lt;fct&gt;</th><th scope=col>&lt;fct&gt;</th><th scope=col>&lt;fct&gt;</th><th scope=col>&lt;dbl&gt;</th><th scope=col>&lt;dbl&gt;</th><th scope=col>&lt;int&gt;</th></tr>\n",
       "</thead>\n",
       "<tbody>\n",
       "\t<tr><td>  6</td><td>11</td><td> 4</td><td> 2</td><td> 3</td><td> 1</td><td> 3</td><td> 3</td><td> 2</td><td> 4</td><td>⋯</td><td>Not present</td><td>Not present</td><td>                                                  </td><td>Not present</td><td>                              </td><td>Not present</td><td>                              </td><td>6</td><td>0</td><td>20</td></tr>\n",
       "\t<tr><td> 23</td><td>11</td><td> 3</td><td> 3</td><td> 5</td><td> 1</td><td> 1</td><td> 5</td><td> 5</td><td> 4</td><td>⋯</td><td>Not present</td><td>Not present</td><td>                                                  </td><td>Not present</td><td>                              </td><td>Not present</td><td>                              </td><td>3</td><td>0</td><td>15</td></tr>\n",
       "\t<tr><td> 29</td><td>11</td><td> 5</td><td> 4</td><td> 4</td><td> 1</td><td> 4</td><td> 1</td><td> 4</td><td> 5</td><td>⋯</td><td>Not present</td><td>Not present</td><td>                                                  </td><td>Not present</td><td>                              </td><td>Not present</td><td>                              </td><td>2</td><td>0</td><td>24</td></tr>\n",
       "\t<tr><td> 32</td><td>11</td><td> 5</td><td> 4</td><td> 5</td><td> 1</td><td> 3</td><td> 1</td><td> 4</td><td> 3</td><td>⋯</td><td>Not present</td><td>Not present</td><td>                                                  </td><td>Not present</td><td>                              </td><td>Not present</td><td>                              </td><td>3</td><td>1</td><td>13</td></tr>\n",
       "\t<tr><td> 44</td><td>11</td><td> 4</td><td> 3</td><td> 4</td><td> 1</td><td> 4</td><td> 1</td><td> 4</td><td> 3</td><td>⋯</td><td>Not present</td><td>Not present</td><td>                                                  </td><td>Not present</td><td>                              </td><td>Not present</td><td>                              </td><td>2</td><td>0</td><td>19</td></tr>\n",
       "\t<tr><td> 92</td><td>11</td><td> 4</td><td> 4</td><td> 5</td><td> 1</td><td> 5</td><td> 1</td><td> 3</td><td> 3</td><td>⋯</td><td>Not present</td><td>Not present</td><td>                                                  </td><td>Not present</td><td>                              </td><td>Not present</td><td>                              </td><td>2</td><td>0</td><td>16</td></tr>\n",
       "\t<tr><td>105</td><td>11</td><td>NA</td><td>NA</td><td>NA</td><td>NA</td><td>NA</td><td>NA</td><td>NA</td><td>NA</td><td>⋯</td><td>Not present</td><td>Not present</td><td>                                                  </td><td>Not present</td><td>                              </td><td>Not present</td><td>                              </td><td>1</td><td>0</td><td> 6</td></tr>\n",
       "\t<tr><td>122</td><td>11</td><td> 3</td><td> 3</td><td> 2</td><td> 3</td><td> 3</td><td> 3</td><td> 3</td><td> 3</td><td>⋯</td><td>Not present</td><td>Not present</td><td>                                                  </td><td>Not present</td><td>                              </td><td>Not present</td><td>                              </td><td>1</td><td>0</td><td>20</td></tr>\n",
       "\t<tr><td>145</td><td>11</td><td> 5</td><td> 5</td><td> 5</td><td> 1</td><td> 4</td><td> 1</td><td> 1</td><td> 5</td><td>⋯</td><td>Not present</td><td>Not present</td><td>                                                  </td><td>Not present</td><td>                              </td><td>Not present</td><td>                              </td><td>3</td><td>0</td><td>13</td></tr>\n",
       "\t<tr><td>225</td><td>11</td><td> 5</td><td> 4</td><td> 2</td><td> 2</td><td> 1</td><td> 2</td><td> 4</td><td> 2</td><td>⋯</td><td>Not present</td><td>Not present</td><td>                                                  </td><td>Not present</td><td>                              </td><td>Not present</td><td>                              </td><td>4</td><td>0</td><td>22</td></tr>\n",
       "\t<tr><td>227</td><td>11</td><td> 4</td><td> 4</td><td> 2</td><td> 1</td><td> 2</td><td> 1</td><td> 2</td><td> 5</td><td>⋯</td><td>Not present</td><td>Not present</td><td>                                                  </td><td>Not present</td><td>                              </td><td>Not present</td><td>                              </td><td>4</td><td>0</td><td>16</td></tr>\n",
       "\t<tr><td>235</td><td>11</td><td> 4</td><td> 4</td><td> 2</td><td> 1</td><td> 3</td><td> 1</td><td> 3</td><td> 3</td><td>⋯</td><td>Not present</td><td>Not present</td><td>                                                  </td><td>Not present</td><td>                              </td><td>Not present</td><td>                              </td><td>4</td><td>1</td><td>15</td></tr>\n",
       "\t<tr><td>319</td><td>11</td><td> 2</td><td> 1</td><td> 5</td><td> 1</td><td> 3</td><td> 1</td><td> 3</td><td> 1</td><td>⋯</td><td>Not present</td><td>Not present</td><td>                                                  </td><td>Not present</td><td>                              </td><td>Not present</td><td>                              </td><td>3</td><td>0</td><td>15</td></tr>\n",
       "\t<tr><td>324</td><td>11</td><td> 4</td><td> 4</td><td> 1</td><td> 5</td><td> 5</td><td> 1</td><td> 3</td><td> 4</td><td>⋯</td><td>Not present</td><td>Not present</td><td>                                                  </td><td>Not present</td><td>                              </td><td>Not present</td><td>                              </td><td>2</td><td>0</td><td>13</td></tr>\n",
       "\t<tr><td>338</td><td>11</td><td>NA</td><td>NA</td><td>NA</td><td>NA</td><td>NA</td><td>NA</td><td>NA</td><td>NA</td><td>⋯</td><td>Not present</td><td>Not present</td><td>                                                  </td><td>Not present</td><td>                              </td><td>Not present</td><td>                              </td><td>2</td><td>0</td><td> 5</td></tr>\n",
       "\t<tr><td>347</td><td>11</td><td>NA</td><td>NA</td><td>NA</td><td>NA</td><td>NA</td><td>NA</td><td>NA</td><td>NA</td><td>⋯</td><td>Not present</td><td>Not present</td><td>                                                  </td><td>Not present</td><td>                              </td><td>Not present</td><td>                              </td><td>3</td><td>0</td><td>10</td></tr>\n",
       "\t<tr><td>348</td><td>11</td><td> 5</td><td> 3</td><td> 2</td><td> 1</td><td> 5</td><td> 1</td><td> 1</td><td> 3</td><td>⋯</td><td>Not present</td><td>Not present</td><td>                                                  </td><td>Not present</td><td>                              </td><td>Not present</td><td>                              </td><td>1</td><td>0</td><td>24</td></tr>\n",
       "\t<tr><td>367</td><td>11</td><td> 3</td><td> 2</td><td> 5</td><td> 1</td><td> 2</td><td> 1</td><td> 1</td><td> 4</td><td>⋯</td><td>Not present</td><td>Not present</td><td>                                                  </td><td>Not present</td><td>                              </td><td>Not present</td><td>                              </td><td>1</td><td>0</td><td>14</td></tr>\n",
       "\t<tr><td>395</td><td>11</td><td> 1</td><td> 1</td><td> 2</td><td> 1</td><td> 3</td><td> 1</td><td> 2</td><td> 1</td><td>⋯</td><td>Not present</td><td>Not present</td><td>                                                  </td><td>Not present</td><td>                              </td><td>Not present</td><td>                              </td><td>2</td><td>0</td><td>13</td></tr>\n",
       "\t<tr><td>436</td><td>11</td><td>NA</td><td>NA</td><td>NA</td><td>NA</td><td>NA</td><td>NA</td><td>NA</td><td>NA</td><td>⋯</td><td>Not present</td><td>Not present</td><td>                                                  </td><td>Not present</td><td>                              </td><td>Not present</td><td>                              </td><td>3</td><td>1</td><td>12</td></tr>\n",
       "\t<tr><td>438</td><td>11</td><td> 4</td><td> 4</td><td> 3</td><td> 1</td><td> 4</td><td> 3</td><td> 5</td><td> 4</td><td>⋯</td><td>Not present</td><td>Not present</td><td>                                                  </td><td>Not present</td><td>                              </td><td>Not present</td><td>                              </td><td>3</td><td>0</td><td>16</td></tr>\n",
       "\t<tr><td>439</td><td>11</td><td>NA</td><td>NA</td><td>NA</td><td>NA</td><td>NA</td><td>NA</td><td>NA</td><td>NA</td><td>⋯</td><td>Not present</td><td>Not present</td><td>                                                  </td><td>Not present</td><td>                              </td><td>Not present</td><td>                              </td><td>3</td><td>1</td><td>19</td></tr>\n",
       "\t<tr><td>473</td><td>11</td><td> 3</td><td> 3</td><td> 3</td><td> 3</td><td> 4</td><td> 1</td><td> 3</td><td> 3</td><td>⋯</td><td>Not present</td><td>Not present</td><td>                                                  </td><td>Not present</td><td>                              </td><td>Not present</td><td>                              </td><td>1</td><td>0</td><td>14</td></tr>\n",
       "\t<tr><td>484</td><td>11</td><td> 5</td><td> 5</td><td> 5</td><td> 1</td><td> 5</td><td> 1</td><td> 5</td><td> 5</td><td>⋯</td><td>Not present</td><td>Not present</td><td>                                                  </td><td>Not present</td><td>                              </td><td>Not present</td><td>                              </td><td>6</td><td>1</td><td>13</td></tr>\n",
       "\t<tr><td>511</td><td>11</td><td> 5</td><td> 5</td><td> 5</td><td> 1</td><td> 5</td><td> 2</td><td> 2</td><td> 5</td><td>⋯</td><td>Not present</td><td>Not present</td><td>                                                  </td><td>Not present</td><td>                              </td><td>Not present</td><td>                              </td><td>2</td><td>0</td><td>16</td></tr>\n",
       "\t<tr><td>522</td><td>11</td><td>NA</td><td>NA</td><td>NA</td><td>NA</td><td>NA</td><td>NA</td><td>NA</td><td>NA</td><td>⋯</td><td>Not present</td><td>Not present</td><td>                                                  </td><td>Not present</td><td>                              </td><td>Not present</td><td>                              </td><td>3</td><td>0</td><td>10</td></tr>\n",
       "\t<tr><td>557</td><td>11</td><td> 3</td><td> 3</td><td> 1</td><td> 3</td><td> 1</td><td> 2</td><td> 1</td><td> 2</td><td>⋯</td><td>Not present</td><td>Not present</td><td>                                                  </td><td>Not present</td><td>                              </td><td>Not present</td><td>                              </td><td>1</td><td>0</td><td>15</td></tr>\n",
       "\t<tr><td>569</td><td>11</td><td> 5</td><td> 4</td><td> 4</td><td> 1</td><td> 1</td><td> 5</td><td> 1</td><td> 5</td><td>⋯</td><td>Not present</td><td>Not present</td><td>                                                  </td><td>Not present</td><td>                              </td><td>Not present</td><td>                              </td><td>1</td><td>0</td><td>22</td></tr>\n",
       "\t<tr><td>590</td><td>11</td><td>NA</td><td>NA</td><td>NA</td><td>NA</td><td>NA</td><td>NA</td><td>NA</td><td>NA</td><td>⋯</td><td>Not present</td><td>Not present</td><td>                                                  </td><td>Not present</td><td>                              </td><td>Not present</td><td>                              </td><td>2</td><td>0</td><td> 8</td></tr>\n",
       "\t<tr><td>593</td><td>11</td><td> 5</td><td> 5</td><td> 1</td><td> 3</td><td> 5</td><td> 1</td><td> 3</td><td> 5</td><td>⋯</td><td>Not present</td><td>Not present</td><td>                                                  </td><td>Not present</td><td>                              </td><td>Not present</td><td>                              </td><td>1</td><td>0</td><td>15</td></tr>\n",
       "\t<tr><td>⋮</td><td>⋮</td><td>⋮</td><td>⋮</td><td>⋮</td><td>⋮</td><td>⋮</td><td>⋮</td><td>⋮</td><td>⋮</td><td>⋱</td><td>⋮</td><td>⋮</td><td>⋮</td><td>⋮</td><td>⋮</td><td>⋮</td><td>⋮</td><td>⋮</td><td>⋮</td><td>⋮</td></tr>\n",
       "\t<tr><td>5560</td><td>11</td><td> 4</td><td> 2</td><td> 5</td><td> 1</td><td> 5</td><td> 1</td><td> 5</td><td> 5</td><td>⋯</td><td>Not present</td><td>Not present</td><td>                                                  </td><td>Not present</td><td>                              </td><td>NA</td><td>                              </td><td>2</td><td>1</td><td>15</td></tr>\n",
       "\t<tr><td>5579</td><td>11</td><td> 5</td><td> 5</td><td> 4</td><td> 1</td><td>NA</td><td>NA</td><td>NA</td><td> 5</td><td>⋯</td><td>Not present</td><td>Not present</td><td>                                                  </td><td>Not present</td><td>                              </td><td>NA</td><td>                              </td><td>5</td><td>1</td><td>22</td></tr>\n",
       "\t<tr><td>5587</td><td>11</td><td> 2</td><td> 2</td><td> 1</td><td> 1</td><td> 2</td><td> 1</td><td> 1</td><td> 4</td><td>⋯</td><td>Not present</td><td>Not present</td><td>                                                  </td><td>Not present</td><td>                              </td><td>NA</td><td>                              </td><td>2</td><td>0</td><td>13</td></tr>\n",
       "\t<tr><td>5590</td><td>11</td><td> 2</td><td> 2</td><td> 1</td><td> 5</td><td> 3</td><td> 1</td><td> 1</td><td> 1</td><td>⋯</td><td>Not present</td><td>Not present</td><td>                                                  </td><td>Not present</td><td>                              </td><td>NA</td><td>                              </td><td>1</td><td>0</td><td>16</td></tr>\n",
       "\t<tr><td>5598</td><td>11</td><td> 2</td><td> 2</td><td> 1</td><td> 1</td><td> 1</td><td> 1</td><td> 3</td><td> 1</td><td>⋯</td><td>Not present</td><td>Not present</td><td>                                                  </td><td>Not present</td><td>                              </td><td>NA</td><td>                              </td><td>5</td><td>0</td><td>23</td></tr>\n",
       "\t<tr><td>5602</td><td>11</td><td> 5</td><td> 3</td><td> 4</td><td> 1</td><td> 4</td><td> 2</td><td> 5</td><td> 5</td><td>⋯</td><td>Not present</td><td>Not present</td><td>                                                  </td><td>Not present</td><td>                              </td><td>NA</td><td>                              </td><td>5</td><td>1</td><td>28</td></tr>\n",
       "\t<tr><td>5627</td><td>11</td><td> 3</td><td> 1</td><td> 2</td><td> 2</td><td> 3</td><td> 1</td><td> 3</td><td> 3</td><td>⋯</td><td>Not present</td><td>Not present</td><td>                                                  </td><td>Not present</td><td>                              </td><td>NA</td><td>                              </td><td>3</td><td>1</td><td>18</td></tr>\n",
       "\t<tr><td>5649</td><td>11</td><td> 5</td><td> 5</td><td> 1</td><td> 5</td><td> 3</td><td> 1</td><td> 2</td><td> 5</td><td>⋯</td><td>Not present</td><td>Not present</td><td>                                                  </td><td>Not present</td><td>                              </td><td>NA</td><td>                              </td><td>3</td><td>0</td><td>16</td></tr>\n",
       "\t<tr><td>5651</td><td>11</td><td> 3</td><td> 3</td><td> 4</td><td> 1</td><td> 3</td><td> 1</td><td> 2</td><td> 3</td><td>⋯</td><td>Not present</td><td>Not present</td><td>                                                  </td><td>Not present</td><td>                              </td><td>NA</td><td>                              </td><td>2</td><td>0</td><td>24</td></tr>\n",
       "\t<tr><td>5654</td><td>11</td><td> 2</td><td> 2</td><td> 4</td><td> 2</td><td> 4</td><td> 2</td><td> 5</td><td> 2</td><td>⋯</td><td>Not present</td><td>Not present</td><td>                                                  </td><td>Not present</td><td>                              </td><td>NA</td><td>                              </td><td>2</td><td>1</td><td>17</td></tr>\n",
       "\t<tr><td>5677</td><td>11</td><td>NA</td><td>NA</td><td>NA</td><td>NA</td><td>NA</td><td>NA</td><td>NA</td><td>NA</td><td>⋯</td><td>Not present</td><td>Not present</td><td>                                                  </td><td>Not present</td><td>                              </td><td>NA</td><td>                              </td><td>3</td><td>0</td><td> 9</td></tr>\n",
       "\t<tr><td>5678</td><td>11</td><td>NA</td><td>NA</td><td>NA</td><td>NA</td><td>NA</td><td>NA</td><td>NA</td><td>NA</td><td>⋯</td><td>Not present</td><td>Curr       </td><td>hoarding disorder                                 </td><td>Not present</td><td>                              </td><td>NA</td><td>                              </td><td>4</td><td>0</td><td>17</td></tr>\n",
       "\t<tr><td>5696</td><td>11</td><td> 3</td><td> 5</td><td> 2</td><td> 2</td><td> 2</td><td> 2</td><td> 3</td><td> 3</td><td>⋯</td><td>Not present</td><td>Not present</td><td>                                                  </td><td>Not present</td><td>                              </td><td>NA</td><td>                              </td><td>4</td><td>0</td><td>20</td></tr>\n",
       "\t<tr><td>5701</td><td>11</td><td> 4</td><td> 4</td><td> 4</td><td> 2</td><td> 4</td><td> 2</td><td> 3</td><td> 4</td><td>⋯</td><td>Not present</td><td>Not present</td><td>                                                  </td><td>Not present</td><td>                              </td><td>NA</td><td>                              </td><td>4</td><td>0</td><td>22</td></tr>\n",
       "\t<tr><td>5723</td><td>11</td><td> 5</td><td> 5</td><td> 2</td><td> 1</td><td> 1</td><td> 4</td><td> 1</td><td> 4</td><td>⋯</td><td>Not present</td><td>Not present</td><td>                                                  </td><td>Not present</td><td>                              </td><td>NA</td><td>                              </td><td>3</td><td>1</td><td>24</td></tr>\n",
       "\t<tr><td>5730</td><td>11</td><td> 4</td><td> 1</td><td> 4</td><td> 1</td><td> 1</td><td> 5</td><td> 4</td><td> 5</td><td>⋯</td><td>Not present</td><td>Not present</td><td>                                                  </td><td>Not present</td><td>                              </td><td>NA</td><td>                              </td><td>2</td><td>0</td><td>21</td></tr>\n",
       "\t<tr><td>5732</td><td>11</td><td>NA</td><td>NA</td><td>NA</td><td>NA</td><td>NA</td><td>NA</td><td>NA</td><td>NA</td><td>⋯</td><td>Not present</td><td>Not present</td><td>                                                  </td><td>Not present</td><td>                              </td><td>NA</td><td>                              </td><td>4</td><td>0</td><td>13</td></tr>\n",
       "\t<tr><td>5735</td><td>11</td><td>NA</td><td>NA</td><td>NA</td><td>NA</td><td>NA</td><td>NA</td><td>NA</td><td>NA</td><td>⋯</td><td>Not present</td><td>Not present</td><td>                                                  </td><td>Not present</td><td>                              </td><td>NA</td><td>                              </td><td>1</td><td>0</td><td> 9</td></tr>\n",
       "\t<tr><td>5737</td><td>11</td><td> 4</td><td> 3</td><td> 2</td><td> 2</td><td> 1</td><td> 5</td><td> 1</td><td> 4</td><td>⋯</td><td>Not present</td><td>Not present</td><td>                                                  </td><td>Not present</td><td>                              </td><td>NA</td><td>                              </td><td>4</td><td>1</td><td>29</td></tr>\n",
       "\t<tr><td>5757</td><td>11</td><td> 3</td><td> 5</td><td> 4</td><td> 1</td><td> 3</td><td> 1</td><td> 3</td><td> 3</td><td>⋯</td><td>Not present</td><td>Curr       </td><td>autism spectrum disorder                          </td><td>Not present</td><td>                              </td><td>NA</td><td>                              </td><td>2</td><td>0</td><td>22</td></tr>\n",
       "\t<tr><td>5771</td><td>11</td><td> 4</td><td> 4</td><td> 4</td><td> 1</td><td> 4</td><td> 1</td><td> 1</td><td> 4</td><td>⋯</td><td>Not present</td><td>Not present</td><td>                                                  </td><td>Not present</td><td>                              </td><td>NA</td><td>                              </td><td>2</td><td>0</td><td>23</td></tr>\n",
       "\t<tr><td>5793</td><td>11</td><td> 2</td><td> 1</td><td> 2</td><td> 1</td><td> 1</td><td> 1</td><td> 3</td><td> 2</td><td>⋯</td><td>Not present</td><td>Not present</td><td>                                                  </td><td>Not present</td><td>                              </td><td>NA</td><td>                              </td><td>5</td><td>1</td><td>13</td></tr>\n",
       "\t<tr><td>5815</td><td>11</td><td> 4</td><td> 2</td><td> 3</td><td> 2</td><td> 5</td><td> 1</td><td> 3</td><td> 3</td><td>⋯</td><td>Not present</td><td>Curr       </td><td>adult learning disorder                           </td><td>Not present</td><td>                              </td><td>NA</td><td>                              </td><td>3</td><td>0</td><td>14</td></tr>\n",
       "\t<tr><td>5818</td><td>11</td><td>NA</td><td>NA</td><td>NA</td><td>NA</td><td>NA</td><td>NA</td><td>NA</td><td>NA</td><td>⋯</td><td>Not present</td><td>Not present</td><td>                                                  </td><td>Not present</td><td>                              </td><td>NA</td><td>                              </td><td>3</td><td>0</td><td> 7</td></tr>\n",
       "\t<tr><td>5834</td><td>11</td><td> 3</td><td> 3</td><td> 3</td><td> 1</td><td> 3</td><td> 1</td><td> 4</td><td> 3</td><td>⋯</td><td>Not present</td><td>Not present</td><td>                                                  </td><td>Not present</td><td>                              </td><td>NA</td><td>                              </td><td>2</td><td>0</td><td>21</td></tr>\n",
       "\t<tr><td>5835</td><td>11</td><td>NA</td><td> 3</td><td> 2</td><td> 1</td><td> 2</td><td> 1</td><td> 5</td><td> 1</td><td>⋯</td><td>Not present</td><td>Not present</td><td>                                                  </td><td>Not present</td><td>                              </td><td>NA</td><td>                              </td><td>2</td><td>0</td><td>17</td></tr>\n",
       "\t<tr><td>5894</td><td>11</td><td> 2</td><td> 1</td><td> 1</td><td> 1</td><td> 1</td><td> 1</td><td> 2</td><td> 1</td><td>⋯</td><td>Not present</td><td>Not present</td><td>                                                  </td><td>Not present</td><td>                              </td><td>NA</td><td>                              </td><td>2</td><td>0</td><td>12</td></tr>\n",
       "\t<tr><td>5936</td><td>11</td><td> 1</td><td> 1</td><td> 1</td><td> 1</td><td> 1</td><td> 1</td><td> 1</td><td> 1</td><td>⋯</td><td>Not present</td><td>Not present</td><td>                                                  </td><td>Not present</td><td>                              </td><td>NA</td><td>                              </td><td>3</td><td>1</td><td>16</td></tr>\n",
       "\t<tr><td>5938</td><td>11</td><td>NA</td><td>NA</td><td>NA</td><td>NA</td><td>NA</td><td>NA</td><td>NA</td><td>NA</td><td>⋯</td><td>Not present</td><td>Not present</td><td>                                                  </td><td>Not present</td><td>                              </td><td>NA</td><td>                              </td><td>3</td><td>1</td><td>16</td></tr>\n",
       "\t<tr><td>5978</td><td>11</td><td> 5</td><td> 5</td><td> 3</td><td> 1</td><td> 4</td><td> 1</td><td> 3</td><td> 4</td><td>⋯</td><td>Not present</td><td>Not present</td><td>                                                  </td><td>Not present</td><td>                              </td><td>NA</td><td>                              </td><td>3</td><td>0</td><td>14</td></tr>\n",
       "</tbody>\n",
       "</table>\n"
      ],
      "text/latex": [
       "A grouped\\_df: 423 × 271\n",
       "\\begin{tabular}{lllllllllllllllllllll}\n",
       " ID1 & day & dep1 & dep2 & dep3 & dep4 & dep5 & dep6 & dep7 & dep8 & ⋯ & condct\\_1 & other\\_1\\_1 & other\\_1\\_dx\\_1 & other\\_2\\_1 & other\\_2\\_dx\\_1 & other\\_3\\_1 & other\\_3\\_dx\\_1 & comorbidity & bpd & txlength\\\\\n",
       " <int> & <int> & <int> & <int> & <int> & <int> & <int> & <int> & <int> & <int> & ⋯ & <fct> & <fct> & <fct> & <fct> & <fct> & <fct> & <fct> & <dbl> & <dbl> & <int>\\\\\n",
       "\\hline\n",
       "\t   6 & 11 &  4 &  2 &  3 &  1 &  3 &  3 &  2 &  4 & ⋯ & Not present & Not present &                                                    & Not present &                                & Not present &                                & 6 & 0 & 20\\\\\n",
       "\t  23 & 11 &  3 &  3 &  5 &  1 &  1 &  5 &  5 &  4 & ⋯ & Not present & Not present &                                                    & Not present &                                & Not present &                                & 3 & 0 & 15\\\\\n",
       "\t  29 & 11 &  5 &  4 &  4 &  1 &  4 &  1 &  4 &  5 & ⋯ & Not present & Not present &                                                    & Not present &                                & Not present &                                & 2 & 0 & 24\\\\\n",
       "\t  32 & 11 &  5 &  4 &  5 &  1 &  3 &  1 &  4 &  3 & ⋯ & Not present & Not present &                                                    & Not present &                                & Not present &                                & 3 & 1 & 13\\\\\n",
       "\t  44 & 11 &  4 &  3 &  4 &  1 &  4 &  1 &  4 &  3 & ⋯ & Not present & Not present &                                                    & Not present &                                & Not present &                                & 2 & 0 & 19\\\\\n",
       "\t  92 & 11 &  4 &  4 &  5 &  1 &  5 &  1 &  3 &  3 & ⋯ & Not present & Not present &                                                    & Not present &                                & Not present &                                & 2 & 0 & 16\\\\\n",
       "\t 105 & 11 & NA & NA & NA & NA & NA & NA & NA & NA & ⋯ & Not present & Not present &                                                    & Not present &                                & Not present &                                & 1 & 0 &  6\\\\\n",
       "\t 122 & 11 &  3 &  3 &  2 &  3 &  3 &  3 &  3 &  3 & ⋯ & Not present & Not present &                                                    & Not present &                                & Not present &                                & 1 & 0 & 20\\\\\n",
       "\t 145 & 11 &  5 &  5 &  5 &  1 &  4 &  1 &  1 &  5 & ⋯ & Not present & Not present &                                                    & Not present &                                & Not present &                                & 3 & 0 & 13\\\\\n",
       "\t 225 & 11 &  5 &  4 &  2 &  2 &  1 &  2 &  4 &  2 & ⋯ & Not present & Not present &                                                    & Not present &                                & Not present &                                & 4 & 0 & 22\\\\\n",
       "\t 227 & 11 &  4 &  4 &  2 &  1 &  2 &  1 &  2 &  5 & ⋯ & Not present & Not present &                                                    & Not present &                                & Not present &                                & 4 & 0 & 16\\\\\n",
       "\t 235 & 11 &  4 &  4 &  2 &  1 &  3 &  1 &  3 &  3 & ⋯ & Not present & Not present &                                                    & Not present &                                & Not present &                                & 4 & 1 & 15\\\\\n",
       "\t 319 & 11 &  2 &  1 &  5 &  1 &  3 &  1 &  3 &  1 & ⋯ & Not present & Not present &                                                    & Not present &                                & Not present &                                & 3 & 0 & 15\\\\\n",
       "\t 324 & 11 &  4 &  4 &  1 &  5 &  5 &  1 &  3 &  4 & ⋯ & Not present & Not present &                                                    & Not present &                                & Not present &                                & 2 & 0 & 13\\\\\n",
       "\t 338 & 11 & NA & NA & NA & NA & NA & NA & NA & NA & ⋯ & Not present & Not present &                                                    & Not present &                                & Not present &                                & 2 & 0 &  5\\\\\n",
       "\t 347 & 11 & NA & NA & NA & NA & NA & NA & NA & NA & ⋯ & Not present & Not present &                                                    & Not present &                                & Not present &                                & 3 & 0 & 10\\\\\n",
       "\t 348 & 11 &  5 &  3 &  2 &  1 &  5 &  1 &  1 &  3 & ⋯ & Not present & Not present &                                                    & Not present &                                & Not present &                                & 1 & 0 & 24\\\\\n",
       "\t 367 & 11 &  3 &  2 &  5 &  1 &  2 &  1 &  1 &  4 & ⋯ & Not present & Not present &                                                    & Not present &                                & Not present &                                & 1 & 0 & 14\\\\\n",
       "\t 395 & 11 &  1 &  1 &  2 &  1 &  3 &  1 &  2 &  1 & ⋯ & Not present & Not present &                                                    & Not present &                                & Not present &                                & 2 & 0 & 13\\\\\n",
       "\t 436 & 11 & NA & NA & NA & NA & NA & NA & NA & NA & ⋯ & Not present & Not present &                                                    & Not present &                                & Not present &                                & 3 & 1 & 12\\\\\n",
       "\t 438 & 11 &  4 &  4 &  3 &  1 &  4 &  3 &  5 &  4 & ⋯ & Not present & Not present &                                                    & Not present &                                & Not present &                                & 3 & 0 & 16\\\\\n",
       "\t 439 & 11 & NA & NA & NA & NA & NA & NA & NA & NA & ⋯ & Not present & Not present &                                                    & Not present &                                & Not present &                                & 3 & 1 & 19\\\\\n",
       "\t 473 & 11 &  3 &  3 &  3 &  3 &  4 &  1 &  3 &  3 & ⋯ & Not present & Not present &                                                    & Not present &                                & Not present &                                & 1 & 0 & 14\\\\\n",
       "\t 484 & 11 &  5 &  5 &  5 &  1 &  5 &  1 &  5 &  5 & ⋯ & Not present & Not present &                                                    & Not present &                                & Not present &                                & 6 & 1 & 13\\\\\n",
       "\t 511 & 11 &  5 &  5 &  5 &  1 &  5 &  2 &  2 &  5 & ⋯ & Not present & Not present &                                                    & Not present &                                & Not present &                                & 2 & 0 & 16\\\\\n",
       "\t 522 & 11 & NA & NA & NA & NA & NA & NA & NA & NA & ⋯ & Not present & Not present &                                                    & Not present &                                & Not present &                                & 3 & 0 & 10\\\\\n",
       "\t 557 & 11 &  3 &  3 &  1 &  3 &  1 &  2 &  1 &  2 & ⋯ & Not present & Not present &                                                    & Not present &                                & Not present &                                & 1 & 0 & 15\\\\\n",
       "\t 569 & 11 &  5 &  4 &  4 &  1 &  1 &  5 &  1 &  5 & ⋯ & Not present & Not present &                                                    & Not present &                                & Not present &                                & 1 & 0 & 22\\\\\n",
       "\t 590 & 11 & NA & NA & NA & NA & NA & NA & NA & NA & ⋯ & Not present & Not present &                                                    & Not present &                                & Not present &                                & 2 & 0 &  8\\\\\n",
       "\t 593 & 11 &  5 &  5 &  1 &  3 &  5 &  1 &  3 &  5 & ⋯ & Not present & Not present &                                                    & Not present &                                & Not present &                                & 1 & 0 & 15\\\\\n",
       "\t ⋮ & ⋮ & ⋮ & ⋮ & ⋮ & ⋮ & ⋮ & ⋮ & ⋮ & ⋮ & ⋱ & ⋮ & ⋮ & ⋮ & ⋮ & ⋮ & ⋮ & ⋮ & ⋮ & ⋮ & ⋮\\\\\n",
       "\t 5560 & 11 &  4 &  2 &  5 &  1 &  5 &  1 &  5 &  5 & ⋯ & Not present & Not present &                                                    & Not present &                                & NA &                                & 2 & 1 & 15\\\\\n",
       "\t 5579 & 11 &  5 &  5 &  4 &  1 & NA & NA & NA &  5 & ⋯ & Not present & Not present &                                                    & Not present &                                & NA &                                & 5 & 1 & 22\\\\\n",
       "\t 5587 & 11 &  2 &  2 &  1 &  1 &  2 &  1 &  1 &  4 & ⋯ & Not present & Not present &                                                    & Not present &                                & NA &                                & 2 & 0 & 13\\\\\n",
       "\t 5590 & 11 &  2 &  2 &  1 &  5 &  3 &  1 &  1 &  1 & ⋯ & Not present & Not present &                                                    & Not present &                                & NA &                                & 1 & 0 & 16\\\\\n",
       "\t 5598 & 11 &  2 &  2 &  1 &  1 &  1 &  1 &  3 &  1 & ⋯ & Not present & Not present &                                                    & Not present &                                & NA &                                & 5 & 0 & 23\\\\\n",
       "\t 5602 & 11 &  5 &  3 &  4 &  1 &  4 &  2 &  5 &  5 & ⋯ & Not present & Not present &                                                    & Not present &                                & NA &                                & 5 & 1 & 28\\\\\n",
       "\t 5627 & 11 &  3 &  1 &  2 &  2 &  3 &  1 &  3 &  3 & ⋯ & Not present & Not present &                                                    & Not present &                                & NA &                                & 3 & 1 & 18\\\\\n",
       "\t 5649 & 11 &  5 &  5 &  1 &  5 &  3 &  1 &  2 &  5 & ⋯ & Not present & Not present &                                                    & Not present &                                & NA &                                & 3 & 0 & 16\\\\\n",
       "\t 5651 & 11 &  3 &  3 &  4 &  1 &  3 &  1 &  2 &  3 & ⋯ & Not present & Not present &                                                    & Not present &                                & NA &                                & 2 & 0 & 24\\\\\n",
       "\t 5654 & 11 &  2 &  2 &  4 &  2 &  4 &  2 &  5 &  2 & ⋯ & Not present & Not present &                                                    & Not present &                                & NA &                                & 2 & 1 & 17\\\\\n",
       "\t 5677 & 11 & NA & NA & NA & NA & NA & NA & NA & NA & ⋯ & Not present & Not present &                                                    & Not present &                                & NA &                                & 3 & 0 &  9\\\\\n",
       "\t 5678 & 11 & NA & NA & NA & NA & NA & NA & NA & NA & ⋯ & Not present & Curr        & hoarding disorder                                  & Not present &                                & NA &                                & 4 & 0 & 17\\\\\n",
       "\t 5696 & 11 &  3 &  5 &  2 &  2 &  2 &  2 &  3 &  3 & ⋯ & Not present & Not present &                                                    & Not present &                                & NA &                                & 4 & 0 & 20\\\\\n",
       "\t 5701 & 11 &  4 &  4 &  4 &  2 &  4 &  2 &  3 &  4 & ⋯ & Not present & Not present &                                                    & Not present &                                & NA &                                & 4 & 0 & 22\\\\\n",
       "\t 5723 & 11 &  5 &  5 &  2 &  1 &  1 &  4 &  1 &  4 & ⋯ & Not present & Not present &                                                    & Not present &                                & NA &                                & 3 & 1 & 24\\\\\n",
       "\t 5730 & 11 &  4 &  1 &  4 &  1 &  1 &  5 &  4 &  5 & ⋯ & Not present & Not present &                                                    & Not present &                                & NA &                                & 2 & 0 & 21\\\\\n",
       "\t 5732 & 11 & NA & NA & NA & NA & NA & NA & NA & NA & ⋯ & Not present & Not present &                                                    & Not present &                                & NA &                                & 4 & 0 & 13\\\\\n",
       "\t 5735 & 11 & NA & NA & NA & NA & NA & NA & NA & NA & ⋯ & Not present & Not present &                                                    & Not present &                                & NA &                                & 1 & 0 &  9\\\\\n",
       "\t 5737 & 11 &  4 &  3 &  2 &  2 &  1 &  5 &  1 &  4 & ⋯ & Not present & Not present &                                                    & Not present &                                & NA &                                & 4 & 1 & 29\\\\\n",
       "\t 5757 & 11 &  3 &  5 &  4 &  1 &  3 &  1 &  3 &  3 & ⋯ & Not present & Curr        & autism spectrum disorder                           & Not present &                                & NA &                                & 2 & 0 & 22\\\\\n",
       "\t 5771 & 11 &  4 &  4 &  4 &  1 &  4 &  1 &  1 &  4 & ⋯ & Not present & Not present &                                                    & Not present &                                & NA &                                & 2 & 0 & 23\\\\\n",
       "\t 5793 & 11 &  2 &  1 &  2 &  1 &  1 &  1 &  3 &  2 & ⋯ & Not present & Not present &                                                    & Not present &                                & NA &                                & 5 & 1 & 13\\\\\n",
       "\t 5815 & 11 &  4 &  2 &  3 &  2 &  5 &  1 &  3 &  3 & ⋯ & Not present & Curr        & adult learning disorder                            & Not present &                                & NA &                                & 3 & 0 & 14\\\\\n",
       "\t 5818 & 11 & NA & NA & NA & NA & NA & NA & NA & NA & ⋯ & Not present & Not present &                                                    & Not present &                                & NA &                                & 3 & 0 &  7\\\\\n",
       "\t 5834 & 11 &  3 &  3 &  3 &  1 &  3 &  1 &  4 &  3 & ⋯ & Not present & Not present &                                                    & Not present &                                & NA &                                & 2 & 0 & 21\\\\\n",
       "\t 5835 & 11 & NA &  3 &  2 &  1 &  2 &  1 &  5 &  1 & ⋯ & Not present & Not present &                                                    & Not present &                                & NA &                                & 2 & 0 & 17\\\\\n",
       "\t 5894 & 11 &  2 &  1 &  1 &  1 &  1 &  1 &  2 &  1 & ⋯ & Not present & Not present &                                                    & Not present &                                & NA &                                & 2 & 0 & 12\\\\\n",
       "\t 5936 & 11 &  1 &  1 &  1 &  1 &  1 &  1 &  1 &  1 & ⋯ & Not present & Not present &                                                    & Not present &                                & NA &                                & 3 & 1 & 16\\\\\n",
       "\t 5938 & 11 & NA & NA & NA & NA & NA & NA & NA & NA & ⋯ & Not present & Not present &                                                    & Not present &                                & NA &                                & 3 & 1 & 16\\\\\n",
       "\t 5978 & 11 &  5 &  5 &  3 &  1 &  4 &  1 &  3 &  4 & ⋯ & Not present & Not present &                                                    & Not present &                                & NA &                                & 3 & 0 & 14\\\\\n",
       "\\end{tabular}\n"
      ],
      "text/markdown": [
       "\n",
       "A grouped_df: 423 × 271\n",
       "\n",
       "| ID1 &lt;int&gt; | day &lt;int&gt; | dep1 &lt;int&gt; | dep2 &lt;int&gt; | dep3 &lt;int&gt; | dep4 &lt;int&gt; | dep5 &lt;int&gt; | dep6 &lt;int&gt; | dep7 &lt;int&gt; | dep8 &lt;int&gt; | ⋯ ⋯ | condct_1 &lt;fct&gt; | other_1_1 &lt;fct&gt; | other_1_dx_1 &lt;fct&gt; | other_2_1 &lt;fct&gt; | other_2_dx_1 &lt;fct&gt; | other_3_1 &lt;fct&gt; | other_3_dx_1 &lt;fct&gt; | comorbidity &lt;dbl&gt; | bpd &lt;dbl&gt; | txlength &lt;int&gt; |\n",
       "|---|---|---|---|---|---|---|---|---|---|---|---|---|---|---|---|---|---|---|---|---|\n",
       "|   6 | 11 |  4 |  2 |  3 |  1 |  3 |  3 |  2 |  4 | ⋯ | Not present | Not present | <!----> | Not present | <!----> | Not present | <!----> | 6 | 0 | 20 |\n",
       "|  23 | 11 |  3 |  3 |  5 |  1 |  1 |  5 |  5 |  4 | ⋯ | Not present | Not present | <!----> | Not present | <!----> | Not present | <!----> | 3 | 0 | 15 |\n",
       "|  29 | 11 |  5 |  4 |  4 |  1 |  4 |  1 |  4 |  5 | ⋯ | Not present | Not present | <!----> | Not present | <!----> | Not present | <!----> | 2 | 0 | 24 |\n",
       "|  32 | 11 |  5 |  4 |  5 |  1 |  3 |  1 |  4 |  3 | ⋯ | Not present | Not present | <!----> | Not present | <!----> | Not present | <!----> | 3 | 1 | 13 |\n",
       "|  44 | 11 |  4 |  3 |  4 |  1 |  4 |  1 |  4 |  3 | ⋯ | Not present | Not present | <!----> | Not present | <!----> | Not present | <!----> | 2 | 0 | 19 |\n",
       "|  92 | 11 |  4 |  4 |  5 |  1 |  5 |  1 |  3 |  3 | ⋯ | Not present | Not present | <!----> | Not present | <!----> | Not present | <!----> | 2 | 0 | 16 |\n",
       "| 105 | 11 | NA | NA | NA | NA | NA | NA | NA | NA | ⋯ | Not present | Not present | <!----> | Not present | <!----> | Not present | <!----> | 1 | 0 |  6 |\n",
       "| 122 | 11 |  3 |  3 |  2 |  3 |  3 |  3 |  3 |  3 | ⋯ | Not present | Not present | <!----> | Not present | <!----> | Not present | <!----> | 1 | 0 | 20 |\n",
       "| 145 | 11 |  5 |  5 |  5 |  1 |  4 |  1 |  1 |  5 | ⋯ | Not present | Not present | <!----> | Not present | <!----> | Not present | <!----> | 3 | 0 | 13 |\n",
       "| 225 | 11 |  5 |  4 |  2 |  2 |  1 |  2 |  4 |  2 | ⋯ | Not present | Not present | <!----> | Not present | <!----> | Not present | <!----> | 4 | 0 | 22 |\n",
       "| 227 | 11 |  4 |  4 |  2 |  1 |  2 |  1 |  2 |  5 | ⋯ | Not present | Not present | <!----> | Not present | <!----> | Not present | <!----> | 4 | 0 | 16 |\n",
       "| 235 | 11 |  4 |  4 |  2 |  1 |  3 |  1 |  3 |  3 | ⋯ | Not present | Not present | <!----> | Not present | <!----> | Not present | <!----> | 4 | 1 | 15 |\n",
       "| 319 | 11 |  2 |  1 |  5 |  1 |  3 |  1 |  3 |  1 | ⋯ | Not present | Not present | <!----> | Not present | <!----> | Not present | <!----> | 3 | 0 | 15 |\n",
       "| 324 | 11 |  4 |  4 |  1 |  5 |  5 |  1 |  3 |  4 | ⋯ | Not present | Not present | <!----> | Not present | <!----> | Not present | <!----> | 2 | 0 | 13 |\n",
       "| 338 | 11 | NA | NA | NA | NA | NA | NA | NA | NA | ⋯ | Not present | Not present | <!----> | Not present | <!----> | Not present | <!----> | 2 | 0 |  5 |\n",
       "| 347 | 11 | NA | NA | NA | NA | NA | NA | NA | NA | ⋯ | Not present | Not present | <!----> | Not present | <!----> | Not present | <!----> | 3 | 0 | 10 |\n",
       "| 348 | 11 |  5 |  3 |  2 |  1 |  5 |  1 |  1 |  3 | ⋯ | Not present | Not present | <!----> | Not present | <!----> | Not present | <!----> | 1 | 0 | 24 |\n",
       "| 367 | 11 |  3 |  2 |  5 |  1 |  2 |  1 |  1 |  4 | ⋯ | Not present | Not present | <!----> | Not present | <!----> | Not present | <!----> | 1 | 0 | 14 |\n",
       "| 395 | 11 |  1 |  1 |  2 |  1 |  3 |  1 |  2 |  1 | ⋯ | Not present | Not present | <!----> | Not present | <!----> | Not present | <!----> | 2 | 0 | 13 |\n",
       "| 436 | 11 | NA | NA | NA | NA | NA | NA | NA | NA | ⋯ | Not present | Not present | <!----> | Not present | <!----> | Not present | <!----> | 3 | 1 | 12 |\n",
       "| 438 | 11 |  4 |  4 |  3 |  1 |  4 |  3 |  5 |  4 | ⋯ | Not present | Not present | <!----> | Not present | <!----> | Not present | <!----> | 3 | 0 | 16 |\n",
       "| 439 | 11 | NA | NA | NA | NA | NA | NA | NA | NA | ⋯ | Not present | Not present | <!----> | Not present | <!----> | Not present | <!----> | 3 | 1 | 19 |\n",
       "| 473 | 11 |  3 |  3 |  3 |  3 |  4 |  1 |  3 |  3 | ⋯ | Not present | Not present | <!----> | Not present | <!----> | Not present | <!----> | 1 | 0 | 14 |\n",
       "| 484 | 11 |  5 |  5 |  5 |  1 |  5 |  1 |  5 |  5 | ⋯ | Not present | Not present | <!----> | Not present | <!----> | Not present | <!----> | 6 | 1 | 13 |\n",
       "| 511 | 11 |  5 |  5 |  5 |  1 |  5 |  2 |  2 |  5 | ⋯ | Not present | Not present | <!----> | Not present | <!----> | Not present | <!----> | 2 | 0 | 16 |\n",
       "| 522 | 11 | NA | NA | NA | NA | NA | NA | NA | NA | ⋯ | Not present | Not present | <!----> | Not present | <!----> | Not present | <!----> | 3 | 0 | 10 |\n",
       "| 557 | 11 |  3 |  3 |  1 |  3 |  1 |  2 |  1 |  2 | ⋯ | Not present | Not present | <!----> | Not present | <!----> | Not present | <!----> | 1 | 0 | 15 |\n",
       "| 569 | 11 |  5 |  4 |  4 |  1 |  1 |  5 |  1 |  5 | ⋯ | Not present | Not present | <!----> | Not present | <!----> | Not present | <!----> | 1 | 0 | 22 |\n",
       "| 590 | 11 | NA | NA | NA | NA | NA | NA | NA | NA | ⋯ | Not present | Not present | <!----> | Not present | <!----> | Not present | <!----> | 2 | 0 |  8 |\n",
       "| 593 | 11 |  5 |  5 |  1 |  3 |  5 |  1 |  3 |  5 | ⋯ | Not present | Not present | <!----> | Not present | <!----> | Not present | <!----> | 1 | 0 | 15 |\n",
       "| ⋮ | ⋮ | ⋮ | ⋮ | ⋮ | ⋮ | ⋮ | ⋮ | ⋮ | ⋮ | ⋱ | ⋮ | ⋮ | ⋮ | ⋮ | ⋮ | ⋮ | ⋮ | ⋮ | ⋮ | ⋮ |\n",
       "| 5560 | 11 |  4 |  2 |  5 |  1 |  5 |  1 |  5 |  5 | ⋯ | Not present | Not present | <!----> | Not present | <!----> | NA | <!----> | 2 | 1 | 15 |\n",
       "| 5579 | 11 |  5 |  5 |  4 |  1 | NA | NA | NA |  5 | ⋯ | Not present | Not present | <!----> | Not present | <!----> | NA | <!----> | 5 | 1 | 22 |\n",
       "| 5587 | 11 |  2 |  2 |  1 |  1 |  2 |  1 |  1 |  4 | ⋯ | Not present | Not present | <!----> | Not present | <!----> | NA | <!----> | 2 | 0 | 13 |\n",
       "| 5590 | 11 |  2 |  2 |  1 |  5 |  3 |  1 |  1 |  1 | ⋯ | Not present | Not present | <!----> | Not present | <!----> | NA | <!----> | 1 | 0 | 16 |\n",
       "| 5598 | 11 |  2 |  2 |  1 |  1 |  1 |  1 |  3 |  1 | ⋯ | Not present | Not present | <!----> | Not present | <!----> | NA | <!----> | 5 | 0 | 23 |\n",
       "| 5602 | 11 |  5 |  3 |  4 |  1 |  4 |  2 |  5 |  5 | ⋯ | Not present | Not present | <!----> | Not present | <!----> | NA | <!----> | 5 | 1 | 28 |\n",
       "| 5627 | 11 |  3 |  1 |  2 |  2 |  3 |  1 |  3 |  3 | ⋯ | Not present | Not present | <!----> | Not present | <!----> | NA | <!----> | 3 | 1 | 18 |\n",
       "| 5649 | 11 |  5 |  5 |  1 |  5 |  3 |  1 |  2 |  5 | ⋯ | Not present | Not present | <!----> | Not present | <!----> | NA | <!----> | 3 | 0 | 16 |\n",
       "| 5651 | 11 |  3 |  3 |  4 |  1 |  3 |  1 |  2 |  3 | ⋯ | Not present | Not present | <!----> | Not present | <!----> | NA | <!----> | 2 | 0 | 24 |\n",
       "| 5654 | 11 |  2 |  2 |  4 |  2 |  4 |  2 |  5 |  2 | ⋯ | Not present | Not present | <!----> | Not present | <!----> | NA | <!----> | 2 | 1 | 17 |\n",
       "| 5677 | 11 | NA | NA | NA | NA | NA | NA | NA | NA | ⋯ | Not present | Not present | <!----> | Not present | <!----> | NA | <!----> | 3 | 0 |  9 |\n",
       "| 5678 | 11 | NA | NA | NA | NA | NA | NA | NA | NA | ⋯ | Not present | Curr        | hoarding disorder                                  | Not present | <!----> | NA | <!----> | 4 | 0 | 17 |\n",
       "| 5696 | 11 |  3 |  5 |  2 |  2 |  2 |  2 |  3 |  3 | ⋯ | Not present | Not present | <!----> | Not present | <!----> | NA | <!----> | 4 | 0 | 20 |\n",
       "| 5701 | 11 |  4 |  4 |  4 |  2 |  4 |  2 |  3 |  4 | ⋯ | Not present | Not present | <!----> | Not present | <!----> | NA | <!----> | 4 | 0 | 22 |\n",
       "| 5723 | 11 |  5 |  5 |  2 |  1 |  1 |  4 |  1 |  4 | ⋯ | Not present | Not present | <!----> | Not present | <!----> | NA | <!----> | 3 | 1 | 24 |\n",
       "| 5730 | 11 |  4 |  1 |  4 |  1 |  1 |  5 |  4 |  5 | ⋯ | Not present | Not present | <!----> | Not present | <!----> | NA | <!----> | 2 | 0 | 21 |\n",
       "| 5732 | 11 | NA | NA | NA | NA | NA | NA | NA | NA | ⋯ | Not present | Not present | <!----> | Not present | <!----> | NA | <!----> | 4 | 0 | 13 |\n",
       "| 5735 | 11 | NA | NA | NA | NA | NA | NA | NA | NA | ⋯ | Not present | Not present | <!----> | Not present | <!----> | NA | <!----> | 1 | 0 |  9 |\n",
       "| 5737 | 11 |  4 |  3 |  2 |  2 |  1 |  5 |  1 |  4 | ⋯ | Not present | Not present | <!----> | Not present | <!----> | NA | <!----> | 4 | 1 | 29 |\n",
       "| 5757 | 11 |  3 |  5 |  4 |  1 |  3 |  1 |  3 |  3 | ⋯ | Not present | Curr        | autism spectrum disorder                           | Not present | <!----> | NA | <!----> | 2 | 0 | 22 |\n",
       "| 5771 | 11 |  4 |  4 |  4 |  1 |  4 |  1 |  1 |  4 | ⋯ | Not present | Not present | <!----> | Not present | <!----> | NA | <!----> | 2 | 0 | 23 |\n",
       "| 5793 | 11 |  2 |  1 |  2 |  1 |  1 |  1 |  3 |  2 | ⋯ | Not present | Not present | <!----> | Not present | <!----> | NA | <!----> | 5 | 1 | 13 |\n",
       "| 5815 | 11 |  4 |  2 |  3 |  2 |  5 |  1 |  3 |  3 | ⋯ | Not present | Curr        | adult learning disorder                            | Not present | <!----> | NA | <!----> | 3 | 0 | 14 |\n",
       "| 5818 | 11 | NA | NA | NA | NA | NA | NA | NA | NA | ⋯ | Not present | Not present | <!----> | Not present | <!----> | NA | <!----> | 3 | 0 |  7 |\n",
       "| 5834 | 11 |  3 |  3 |  3 |  1 |  3 |  1 |  4 |  3 | ⋯ | Not present | Not present | <!----> | Not present | <!----> | NA | <!----> | 2 | 0 | 21 |\n",
       "| 5835 | 11 | NA |  3 |  2 |  1 |  2 |  1 |  5 |  1 | ⋯ | Not present | Not present | <!----> | Not present | <!----> | NA | <!----> | 2 | 0 | 17 |\n",
       "| 5894 | 11 |  2 |  1 |  1 |  1 |  1 |  1 |  2 |  1 | ⋯ | Not present | Not present | <!----> | Not present | <!----> | NA | <!----> | 2 | 0 | 12 |\n",
       "| 5936 | 11 |  1 |  1 |  1 |  1 |  1 |  1 |  1 |  1 | ⋯ | Not present | Not present | <!----> | Not present | <!----> | NA | <!----> | 3 | 1 | 16 |\n",
       "| 5938 | 11 | NA | NA | NA | NA | NA | NA | NA | NA | ⋯ | Not present | Not present | <!----> | Not present | <!----> | NA | <!----> | 3 | 1 | 16 |\n",
       "| 5978 | 11 |  5 |  5 |  3 |  1 |  4 |  1 |  3 |  4 | ⋯ | Not present | Not present | <!----> | Not present | <!----> | NA | <!----> | 3 | 0 | 14 |\n",
       "\n"
      ],
      "text/plain": [
       "    ID1  day dep1 dep2 dep3 dep4 dep5 dep6 dep7 dep8 ⋯ condct_1    other_1_1  \n",
       "1     6  11   4    2    3    1    3    3    2    4   ⋯ Not present Not present\n",
       "2    23  11   3    3    5    1    1    5    5    4   ⋯ Not present Not present\n",
       "3    29  11   5    4    4    1    4    1    4    5   ⋯ Not present Not present\n",
       "4    32  11   5    4    5    1    3    1    4    3   ⋯ Not present Not present\n",
       "5    44  11   4    3    4    1    4    1    4    3   ⋯ Not present Not present\n",
       "6    92  11   4    4    5    1    5    1    3    3   ⋯ Not present Not present\n",
       "7   105  11  NA   NA   NA   NA   NA   NA   NA   NA   ⋯ Not present Not present\n",
       "8   122  11   3    3    2    3    3    3    3    3   ⋯ Not present Not present\n",
       "9   145  11   5    5    5    1    4    1    1    5   ⋯ Not present Not present\n",
       "10  225  11   5    4    2    2    1    2    4    2   ⋯ Not present Not present\n",
       "11  227  11   4    4    2    1    2    1    2    5   ⋯ Not present Not present\n",
       "12  235  11   4    4    2    1    3    1    3    3   ⋯ Not present Not present\n",
       "13  319  11   2    1    5    1    3    1    3    1   ⋯ Not present Not present\n",
       "14  324  11   4    4    1    5    5    1    3    4   ⋯ Not present Not present\n",
       "15  338  11  NA   NA   NA   NA   NA   NA   NA   NA   ⋯ Not present Not present\n",
       "16  347  11  NA   NA   NA   NA   NA   NA   NA   NA   ⋯ Not present Not present\n",
       "17  348  11   5    3    2    1    5    1    1    3   ⋯ Not present Not present\n",
       "18  367  11   3    2    5    1    2    1    1    4   ⋯ Not present Not present\n",
       "19  395  11   1    1    2    1    3    1    2    1   ⋯ Not present Not present\n",
       "20  436  11  NA   NA   NA   NA   NA   NA   NA   NA   ⋯ Not present Not present\n",
       "21  438  11   4    4    3    1    4    3    5    4   ⋯ Not present Not present\n",
       "22  439  11  NA   NA   NA   NA   NA   NA   NA   NA   ⋯ Not present Not present\n",
       "23  473  11   3    3    3    3    4    1    3    3   ⋯ Not present Not present\n",
       "24  484  11   5    5    5    1    5    1    5    5   ⋯ Not present Not present\n",
       "25  511  11   5    5    5    1    5    2    2    5   ⋯ Not present Not present\n",
       "26  522  11  NA   NA   NA   NA   NA   NA   NA   NA   ⋯ Not present Not present\n",
       "27  557  11   3    3    1    3    1    2    1    2   ⋯ Not present Not present\n",
       "28  569  11   5    4    4    1    1    5    1    5   ⋯ Not present Not present\n",
       "29  590  11  NA   NA   NA   NA   NA   NA   NA   NA   ⋯ Not present Not present\n",
       "30  593  11   5    5    1    3    5    1    3    5   ⋯ Not present Not present\n",
       "⋮   ⋮    ⋮   ⋮    ⋮    ⋮    ⋮    ⋮    ⋮    ⋮    ⋮    ⋱ ⋮           ⋮          \n",
       "394 5560 11   4    2    5    1    5    1    5    5   ⋯ Not present Not present\n",
       "395 5579 11   5    5    4    1   NA   NA   NA    5   ⋯ Not present Not present\n",
       "396 5587 11   2    2    1    1    2    1    1    4   ⋯ Not present Not present\n",
       "397 5590 11   2    2    1    5    3    1    1    1   ⋯ Not present Not present\n",
       "398 5598 11   2    2    1    1    1    1    3    1   ⋯ Not present Not present\n",
       "399 5602 11   5    3    4    1    4    2    5    5   ⋯ Not present Not present\n",
       "400 5627 11   3    1    2    2    3    1    3    3   ⋯ Not present Not present\n",
       "401 5649 11   5    5    1    5    3    1    2    5   ⋯ Not present Not present\n",
       "402 5651 11   3    3    4    1    3    1    2    3   ⋯ Not present Not present\n",
       "403 5654 11   2    2    4    2    4    2    5    2   ⋯ Not present Not present\n",
       "404 5677 11  NA   NA   NA   NA   NA   NA   NA   NA   ⋯ Not present Not present\n",
       "405 5678 11  NA   NA   NA   NA   NA   NA   NA   NA   ⋯ Not present Curr       \n",
       "406 5696 11   3    5    2    2    2    2    3    3   ⋯ Not present Not present\n",
       "407 5701 11   4    4    4    2    4    2    3    4   ⋯ Not present Not present\n",
       "408 5723 11   5    5    2    1    1    4    1    4   ⋯ Not present Not present\n",
       "409 5730 11   4    1    4    1    1    5    4    5   ⋯ Not present Not present\n",
       "410 5732 11  NA   NA   NA   NA   NA   NA   NA   NA   ⋯ Not present Not present\n",
       "411 5735 11  NA   NA   NA   NA   NA   NA   NA   NA   ⋯ Not present Not present\n",
       "412 5737 11   4    3    2    2    1    5    1    4   ⋯ Not present Not present\n",
       "413 5757 11   3    5    4    1    3    1    3    3   ⋯ Not present Curr       \n",
       "414 5771 11   4    4    4    1    4    1    1    4   ⋯ Not present Not present\n",
       "415 5793 11   2    1    2    1    1    1    3    2   ⋯ Not present Not present\n",
       "416 5815 11   4    2    3    2    5    1    3    3   ⋯ Not present Curr       \n",
       "417 5818 11  NA   NA   NA   NA   NA   NA   NA   NA   ⋯ Not present Not present\n",
       "418 5834 11   3    3    3    1    3    1    4    3   ⋯ Not present Not present\n",
       "419 5835 11  NA    3    2    1    2    1    5    1   ⋯ Not present Not present\n",
       "420 5894 11   2    1    1    1    1    1    2    1   ⋯ Not present Not present\n",
       "421 5936 11   1    1    1    1    1    1    1    1   ⋯ Not present Not present\n",
       "422 5938 11  NA   NA   NA   NA   NA   NA   NA   NA   ⋯ Not present Not present\n",
       "423 5978 11   5    5    3    1    4    1    3    4   ⋯ Not present Not present\n",
       "    other_1_dx_1                                       other_2_1  \n",
       "1                                                      Not present\n",
       "2                                                      Not present\n",
       "3                                                      Not present\n",
       "4                                                      Not present\n",
       "5                                                      Not present\n",
       "6                                                      Not present\n",
       "7                                                      Not present\n",
       "8                                                      Not present\n",
       "9                                                      Not present\n",
       "10                                                     Not present\n",
       "11                                                     Not present\n",
       "12                                                     Not present\n",
       "13                                                     Not present\n",
       "14                                                     Not present\n",
       "15                                                     Not present\n",
       "16                                                     Not present\n",
       "17                                                     Not present\n",
       "18                                                     Not present\n",
       "19                                                     Not present\n",
       "20                                                     Not present\n",
       "21                                                     Not present\n",
       "22                                                     Not present\n",
       "23                                                     Not present\n",
       "24                                                     Not present\n",
       "25                                                     Not present\n",
       "26                                                     Not present\n",
       "27                                                     Not present\n",
       "28                                                     Not present\n",
       "29                                                     Not present\n",
       "30                                                     Not present\n",
       "⋮   ⋮                                                  ⋮          \n",
       "394                                                    Not present\n",
       "395                                                    Not present\n",
       "396                                                    Not present\n",
       "397                                                    Not present\n",
       "398                                                    Not present\n",
       "399                                                    Not present\n",
       "400                                                    Not present\n",
       "401                                                    Not present\n",
       "402                                                    Not present\n",
       "403                                                    Not present\n",
       "404                                                    Not present\n",
       "405 hoarding disorder                                  Not present\n",
       "406                                                    Not present\n",
       "407                                                    Not present\n",
       "408                                                    Not present\n",
       "409                                                    Not present\n",
       "410                                                    Not present\n",
       "411                                                    Not present\n",
       "412                                                    Not present\n",
       "413 autism spectrum disorder                           Not present\n",
       "414                                                    Not present\n",
       "415                                                    Not present\n",
       "416 adult learning disorder                            Not present\n",
       "417                                                    Not present\n",
       "418                                                    Not present\n",
       "419                                                    Not present\n",
       "420                                                    Not present\n",
       "421                                                    Not present\n",
       "422                                                    Not present\n",
       "423                                                    Not present\n",
       "    other_2_dx_1                   other_3_1   other_3_dx_1                  \n",
       "1                                  Not present                               \n",
       "2                                  Not present                               \n",
       "3                                  Not present                               \n",
       "4                                  Not present                               \n",
       "5                                  Not present                               \n",
       "6                                  Not present                               \n",
       "7                                  Not present                               \n",
       "8                                  Not present                               \n",
       "9                                  Not present                               \n",
       "10                                 Not present                               \n",
       "11                                 Not present                               \n",
       "12                                 Not present                               \n",
       "13                                 Not present                               \n",
       "14                                 Not present                               \n",
       "15                                 Not present                               \n",
       "16                                 Not present                               \n",
       "17                                 Not present                               \n",
       "18                                 Not present                               \n",
       "19                                 Not present                               \n",
       "20                                 Not present                               \n",
       "21                                 Not present                               \n",
       "22                                 Not present                               \n",
       "23                                 Not present                               \n",
       "24                                 Not present                               \n",
       "25                                 Not present                               \n",
       "26                                 Not present                               \n",
       "27                                 Not present                               \n",
       "28                                 Not present                               \n",
       "29                                 Not present                               \n",
       "30                                 Not present                               \n",
       "⋮   ⋮                              ⋮           ⋮                             \n",
       "394                                NA                                        \n",
       "395                                NA                                        \n",
       "396                                NA                                        \n",
       "397                                NA                                        \n",
       "398                                NA                                        \n",
       "399                                NA                                        \n",
       "400                                NA                                        \n",
       "401                                NA                                        \n",
       "402                                NA                                        \n",
       "403                                NA                                        \n",
       "404                                NA                                        \n",
       "405                                NA                                        \n",
       "406                                NA                                        \n",
       "407                                NA                                        \n",
       "408                                NA                                        \n",
       "409                                NA                                        \n",
       "410                                NA                                        \n",
       "411                                NA                                        \n",
       "412                                NA                                        \n",
       "413                                NA                                        \n",
       "414                                NA                                        \n",
       "415                                NA                                        \n",
       "416                                NA                                        \n",
       "417                                NA                                        \n",
       "418                                NA                                        \n",
       "419                                NA                                        \n",
       "420                                NA                                        \n",
       "421                                NA                                        \n",
       "422                                NA                                        \n",
       "423                                NA                                        \n",
       "    comorbidity bpd txlength\n",
       "1   6           0   20      \n",
       "2   3           0   15      \n",
       "3   2           0   24      \n",
       "4   3           1   13      \n",
       "5   2           0   19      \n",
       "6   2           0   16      \n",
       "7   1           0    6      \n",
       "8   1           0   20      \n",
       "9   3           0   13      \n",
       "10  4           0   22      \n",
       "11  4           0   16      \n",
       "12  4           1   15      \n",
       "13  3           0   15      \n",
       "14  2           0   13      \n",
       "15  2           0    5      \n",
       "16  3           0   10      \n",
       "17  1           0   24      \n",
       "18  1           0   14      \n",
       "19  2           0   13      \n",
       "20  3           1   12      \n",
       "21  3           0   16      \n",
       "22  3           1   19      \n",
       "23  1           0   14      \n",
       "24  6           1   13      \n",
       "25  2           0   16      \n",
       "26  3           0   10      \n",
       "27  1           0   15      \n",
       "28  1           0   22      \n",
       "29  2           0    8      \n",
       "30  1           0   15      \n",
       "⋮   ⋮           ⋮   ⋮       \n",
       "394 2           1   15      \n",
       "395 5           1   22      \n",
       "396 2           0   13      \n",
       "397 1           0   16      \n",
       "398 5           0   23      \n",
       "399 5           1   28      \n",
       "400 3           1   18      \n",
       "401 3           0   16      \n",
       "402 2           0   24      \n",
       "403 2           1   17      \n",
       "404 3           0    9      \n",
       "405 4           0   17      \n",
       "406 4           0   20      \n",
       "407 4           0   22      \n",
       "408 3           1   24      \n",
       "409 2           0   21      \n",
       "410 4           0   13      \n",
       "411 1           0    9      \n",
       "412 4           1   29      \n",
       "413 2           0   22      \n",
       "414 2           0   23      \n",
       "415 5           1   13      \n",
       "416 3           0   14      \n",
       "417 3           0    7      \n",
       "418 2           0   21      \n",
       "419 2           0   17      \n",
       "420 2           0   12      \n",
       "421 3           1   16      \n",
       "422 3           1   16      \n",
       "423 3           0   14      "
      ]
     },
     "metadata": {},
     "output_type": "display_data"
    }
   ],
   "source": [
    "dfLongMDDComplete %>%\n",
    "group_by(ID1) %>% \n",
    "filter(day == 11) "
   ]
  },
  {
   "cell_type": "code",
   "execution_count": 68,
   "id": "framed-therapy",
   "metadata": {},
   "outputs": [
    {
     "data": {
      "text/plain": [
       "Linear mixed model fit by REML. t-tests use Satterthwaite's method [\n",
       "lmerModLmerTest]\n",
       "Formula: depMean ~ day * bpd + (1 + day | ID1)\n",
       "   Data: dfLongMDDComplete\n",
       "\n",
       "REML criterion at convergence: 15097.6\n",
       "\n",
       "Scaled residuals: \n",
       "    Min      1Q  Median      3Q     Max \n",
       "-3.9394 -0.5550 -0.0300  0.4883  7.2253 \n",
       "\n",
       "Random effects:\n",
       " Groups   Name        Variance Std.Dev. Corr \n",
       " ID1      (Intercept) 0.436571 0.66074       \n",
       "          day         0.008061 0.08978  -0.02\n",
       " Residual             0.178750 0.42279       \n",
       "Number of obs: 9366, groups:  ID1, 1021\n",
       "\n",
       "Fixed effects:\n",
       "              Estimate Std. Error         df t value Pr(>|t|)    \n",
       "(Intercept)  3.075e+00  2.454e-02  1.020e+03 125.310  < 2e-16 ***\n",
       "day         -1.145e-01  3.835e-03  6.287e+02 -29.858  < 2e-16 ***\n",
       "bpd          2.500e-01  5.915e-02  9.919e+02   4.228 2.58e-05 ***\n",
       "day:bpd      1.893e-02  8.980e-03  5.563e+02   2.108   0.0355 *  \n",
       "---\n",
       "Signif. codes:  0 ‘***’ 0.001 ‘**’ 0.01 ‘*’ 0.05 ‘.’ 0.1 ‘ ’ 1\n",
       "\n",
       "Correlation of Fixed Effects:\n",
       "        (Intr) day    bpd   \n",
       "day     -0.176              \n",
       "bpd     -0.415  0.073       \n",
       "day:bpd  0.075 -0.427 -0.153"
      ]
     },
     "metadata": {},
     "output_type": "display_data"
    }
   ],
   "source": [
    "summary(lmer(depMean ~ day*bpd + (1+day|ID1) , data = dfLongMDDComplete)) \n"
   ]
  },
  {
   "cell_type": "code",
   "execution_count": 34,
   "id": "indoor-basket",
   "metadata": {
    "scrolled": false
   },
   "outputs": [
    {
     "name": "stdout",
     "output_type": "stream",
     "text": [
      "[1] \"Symptom reduction\"\n"
     ]
    },
    {
     "data": {
      "text/html": [
       "<table class=\"dataframe\">\n",
       "<caption>A matrix: 4 × 5 of type dbl</caption>\n",
       "<thead>\n",
       "\t<tr><th></th><th scope=col>Estimate</th><th scope=col>Std. Error</th><th scope=col>df</th><th scope=col>t value</th><th scope=col>Pr(&gt;|t|)</th></tr>\n",
       "</thead>\n",
       "<tbody>\n",
       "\t<tr><th scope=row>(Intercept)</th><td> 3.06671728</td><td>0.025258372</td><td>869.1783</td><td>121.413895</td><td> 0.000000e+00</td></tr>\n",
       "\t<tr><th scope=row>day</th><td>-0.11447574</td><td>0.003835685</td><td>628.8810</td><td>-29.844930</td><td>1.369742e-122</td></tr>\n",
       "\t<tr><th scope=row>bpd</th><td> 0.22402399</td><td>0.059645018</td><td>987.4762</td><td>  3.755955</td><td> 1.827820e-04</td></tr>\n",
       "\t<tr><th scope=row>day:bpd</th><td> 0.01895975</td><td>0.008981255</td><td>556.5013</td><td>  2.111036</td><td> 3.521458e-02</td></tr>\n",
       "</tbody>\n",
       "</table>\n"
      ],
      "text/latex": [
       "A matrix: 4 × 5 of type dbl\n",
       "\\begin{tabular}{r|lllll}\n",
       "  & Estimate & Std. Error & df & t value & Pr(>\\textbar{}t\\textbar{})\\\\\n",
       "\\hline\n",
       "\t(Intercept) &  3.06671728 & 0.025258372 & 869.1783 & 121.413895 &  0.000000e+00\\\\\n",
       "\tday & -0.11447574 & 0.003835685 & 628.8810 & -29.844930 & 1.369742e-122\\\\\n",
       "\tbpd &  0.22402399 & 0.059645018 & 987.4762 &   3.755955 &  1.827820e-04\\\\\n",
       "\tday:bpd &  0.01895975 & 0.008981255 & 556.5013 &   2.111036 &  3.521458e-02\\\\\n",
       "\\end{tabular}\n"
      ],
      "text/markdown": [
       "\n",
       "A matrix: 4 × 5 of type dbl\n",
       "\n",
       "| <!--/--> | Estimate | Std. Error | df | t value | Pr(&gt;|t|) |\n",
       "|---|---|---|---|---|---|\n",
       "| (Intercept) |  3.06671728 | 0.025258372 | 869.1783 | 121.413895 |  0.000000e+00 |\n",
       "| day | -0.11447574 | 0.003835685 | 628.8810 | -29.844930 | 1.369742e-122 |\n",
       "| bpd |  0.22402399 | 0.059645018 | 987.4762 |   3.755955 |  1.827820e-04 |\n",
       "| day:bpd |  0.01895975 | 0.008981255 | 556.5013 |   2.111036 |  3.521458e-02 |\n",
       "\n"
      ],
      "text/plain": [
       "            Estimate    Std. Error  df       t value    Pr(>|t|)     \n",
       "(Intercept)  3.06671728 0.025258372 869.1783 121.413895  0.000000e+00\n",
       "day         -0.11447574 0.003835685 628.8810 -29.844930 1.369742e-122\n",
       "bpd          0.22402399 0.059645018 987.4762   3.755955  1.827820e-04\n",
       "day:bpd      0.01895975 0.008981255 556.5013   2.111036  3.521458e-02"
      ]
     },
     "metadata": {},
     "output_type": "display_data"
    },
    {
     "name": "stdout",
     "output_type": "stream",
     "text": [
      "[1] \"Functionoing\"\n"
     ]
    },
    {
     "data": {
      "text/html": [
       "<table class=\"dataframe\">\n",
       "<caption>A matrix: 4 × 5 of type dbl</caption>\n",
       "<thead>\n",
       "\t<tr><th></th><th scope=col>Estimate</th><th scope=col>Std. Error</th><th scope=col>df</th><th scope=col>t value</th><th scope=col>Pr(&gt;|t|)</th></tr>\n",
       "</thead>\n",
       "<tbody>\n",
       "\t<tr><th scope=row>(Intercept)</th><td> 3.54211829</td><td>0.036397556</td><td>896.0899</td><td> 97.317475</td><td>0.000000e+00</td></tr>\n",
       "\t<tr><th scope=row>day</th><td>-0.10121698</td><td>0.004662517</td><td>580.6867</td><td>-21.708657</td><td>5.873550e-77</td></tr>\n",
       "\t<tr><th scope=row>bpd</th><td> 0.14727799</td><td>0.084593430</td><td>971.4401</td><td>  1.741010</td><td>8.199845e-02</td></tr>\n",
       "\t<tr><th scope=row>day:bpd</th><td> 0.01546846</td><td>0.010603076</td><td>475.1789</td><td>  1.458865</td><td>1.452629e-01</td></tr>\n",
       "</tbody>\n",
       "</table>\n"
      ],
      "text/latex": [
       "A matrix: 4 × 5 of type dbl\n",
       "\\begin{tabular}{r|lllll}\n",
       "  & Estimate & Std. Error & df & t value & Pr(>\\textbar{}t\\textbar{})\\\\\n",
       "\\hline\n",
       "\t(Intercept) &  3.54211829 & 0.036397556 & 896.0899 &  97.317475 & 0.000000e+00\\\\\n",
       "\tday & -0.10121698 & 0.004662517 & 580.6867 & -21.708657 & 5.873550e-77\\\\\n",
       "\tbpd &  0.14727799 & 0.084593430 & 971.4401 &   1.741010 & 8.199845e-02\\\\\n",
       "\tday:bpd &  0.01546846 & 0.010603076 & 475.1789 &   1.458865 & 1.452629e-01\\\\\n",
       "\\end{tabular}\n"
      ],
      "text/markdown": [
       "\n",
       "A matrix: 4 × 5 of type dbl\n",
       "\n",
       "| <!--/--> | Estimate | Std. Error | df | t value | Pr(&gt;|t|) |\n",
       "|---|---|---|---|---|---|\n",
       "| (Intercept) |  3.54211829 | 0.036397556 | 896.0899 |  97.317475 | 0.000000e+00 |\n",
       "| day | -0.10121698 | 0.004662517 | 580.6867 | -21.708657 | 5.873550e-77 |\n",
       "| bpd |  0.14727799 | 0.084593430 | 971.4401 |   1.741010 | 8.199845e-02 |\n",
       "| day:bpd |  0.01546846 | 0.010603076 | 475.1789 |   1.458865 | 1.452629e-01 |\n",
       "\n"
      ],
      "text/plain": [
       "            Estimate    Std. Error  df       t value    Pr(>|t|)    \n",
       "(Intercept)  3.54211829 0.036397556 896.0899  97.317475 0.000000e+00\n",
       "day         -0.10121698 0.004662517 580.6867 -21.708657 5.873550e-77\n",
       "bpd          0.14727799 0.084593430 971.4401   1.741010 8.199845e-02\n",
       "day:bpd      0.01546846 0.010603076 475.1789   1.458865 1.452629e-01"
      ]
     },
     "metadata": {},
     "output_type": "display_data"
    },
    {
     "name": "stdout",
     "output_type": "stream",
     "text": [
      "[1] \"Wellbeing\"\n"
     ]
    },
    {
     "name": "stderr",
     "output_type": "stream",
     "text": [
      "Warning message in checkConv(attr(opt, \"derivs\"), opt$par, ctrl = control$checkConv, :\n",
      "“Model failed to converge with max|grad| = 0.00372289 (tol = 0.002, component 1)”\n"
     ]
    },
    {
     "data": {
      "text/html": [
       "<table class=\"dataframe\">\n",
       "<caption>A matrix: 4 × 5 of type dbl</caption>\n",
       "<thead>\n",
       "\t<tr><th></th><th scope=col>Estimate</th><th scope=col>Std. Error</th><th scope=col>df</th><th scope=col>t value</th><th scope=col>Pr(&gt;|t|)</th></tr>\n",
       "</thead>\n",
       "<tbody>\n",
       "\t<tr><th scope=row>(Intercept)</th><td> 3.44068371</td><td>0.027231927</td><td>925.0889</td><td>126.347420</td><td>0.000000e+00</td></tr>\n",
       "\t<tr><th scope=row>day</th><td>-0.06787569</td><td>0.003471911</td><td>548.1964</td><td>-19.549951</td><td>5.690854e-65</td></tr>\n",
       "\t<tr><th scope=row>bpd</th><td> 0.12016096</td><td>0.063487581</td><td>975.0108</td><td>  1.892669</td><td>5.869793e-02</td></tr>\n",
       "\t<tr><th scope=row>day:bpd</th><td> 0.01102554</td><td>0.007849589</td><td>439.7864</td><td>  1.404601</td><td>1.608459e-01</td></tr>\n",
       "</tbody>\n",
       "</table>\n"
      ],
      "text/latex": [
       "A matrix: 4 × 5 of type dbl\n",
       "\\begin{tabular}{r|lllll}\n",
       "  & Estimate & Std. Error & df & t value & Pr(>\\textbar{}t\\textbar{})\\\\\n",
       "\\hline\n",
       "\t(Intercept) &  3.44068371 & 0.027231927 & 925.0889 & 126.347420 & 0.000000e+00\\\\\n",
       "\tday & -0.06787569 & 0.003471911 & 548.1964 & -19.549951 & 5.690854e-65\\\\\n",
       "\tbpd &  0.12016096 & 0.063487581 & 975.0108 &   1.892669 & 5.869793e-02\\\\\n",
       "\tday:bpd &  0.01102554 & 0.007849589 & 439.7864 &   1.404601 & 1.608459e-01\\\\\n",
       "\\end{tabular}\n"
      ],
      "text/markdown": [
       "\n",
       "A matrix: 4 × 5 of type dbl\n",
       "\n",
       "| <!--/--> | Estimate | Std. Error | df | t value | Pr(&gt;|t|) |\n",
       "|---|---|---|---|---|---|\n",
       "| (Intercept) |  3.44068371 | 0.027231927 | 925.0889 | 126.347420 | 0.000000e+00 |\n",
       "| day | -0.06787569 | 0.003471911 | 548.1964 | -19.549951 | 5.690854e-65 |\n",
       "| bpd |  0.12016096 | 0.063487581 | 975.0108 |   1.892669 | 5.869793e-02 |\n",
       "| day:bpd |  0.01102554 | 0.007849589 | 439.7864 |   1.404601 | 1.608459e-01 |\n",
       "\n"
      ],
      "text/plain": [
       "            Estimate    Std. Error  df       t value    Pr(>|t|)    \n",
       "(Intercept)  3.44068371 0.027231927 925.0889 126.347420 0.000000e+00\n",
       "day         -0.06787569 0.003471911 548.1964 -19.549951 5.690854e-65\n",
       "bpd          0.12016096 0.063487581 975.0108   1.892669 5.869793e-02\n",
       "day:bpd      0.01102554 0.007849589 439.7864   1.404601 1.608459e-01"
      ]
     },
     "metadata": {},
     "output_type": "display_data"
    }
   ],
   "source": [
    "#Predcit changes in depression with bpd while controling for txlength\n",
    "print('Symptom reduction')\n",
    "sum_sym = summary(lmer(depMean ~ day*bpd + (1|uniquePtId)+ (1+day|uniquePtId:ID1), data = dfLongMDDComplete)) \n",
    "sum_sym$coefficients\n",
    "\n",
    "print('Functionoing')\n",
    "sum_fun = summary(lmer(dep17 ~ day*bpd + (1|uniquePtId)+ (1+day|uniquePtId:ID1), data = dfLongMDDComplete))\n",
    "sum_fun$coefficients\n",
    "\n",
    "print('Wellbeing')\n",
    "sum_well = summary(lmer(dep18 ~ day*bpd + (1|uniquePtId)+ (1+day|uniquePtId:ID1), data = dfLongMDDComplete))\n",
    "sum_well$coefficients"
   ]
  },
  {
   "cell_type": "code",
   "execution_count": 107,
   "id": "becoming-lover",
   "metadata": {},
   "outputs": [],
   "source": [
    "model = lmer(depMean ~ day*(bpd) + (1|uniquePtId)+ (1+day|uniquePtId:ID1), data = dfLongMDDComplete)"
   ]
  },
  {
   "cell_type": "code",
   "execution_count": 110,
   "id": "surrounded-provincial",
   "metadata": {},
   "outputs": [],
   "source": [
    "#calculate probability of default for each individual in test dataset\n",
    "predicted <- predict(model, dfLongMDDComplete, allow.new.levels = T)\n"
   ]
  },
  {
   "cell_type": "code",
   "execution_count": 112,
   "id": "advised-jordan",
   "metadata": {},
   "outputs": [
    {
     "data": {
      "text/html": [
       "0.852164155496117"
      ],
      "text/latex": [
       "0.852164155496117"
      ],
      "text/markdown": [
       "0.852164155496117"
      ],
      "text/plain": [
       "[1] 0.8521642"
      ]
     },
     "metadata": {},
     "output_type": "display_data"
    }
   ],
   "source": [
    "1-sum((dfLongMDDComplete$depMean -predicted)^2, na.rm = T)/(var(dfLongMDDComplete$depMean, na.rm = T)*nrow(dfLongMDDComplete)-1)"
   ]
  },
  {
   "cell_type": "code",
   "execution_count": 35,
   "id": "effective-faculty",
   "metadata": {},
   "outputs": [
    {
     "data": {
      "text/plain": [
       "\n",
       "Cronbach's alpha for the 'dfLongMDDComplete[dfLongMDDComplete$day == 0, grep(\"^dep[0-9]*$\", ' '    colnames(dfLongMDDComplete))]' data-set\n",
       "\n",
       "Items: 18\n",
       "Sample units: 1063\n",
       "alpha: 0.855\n"
      ]
     },
     "metadata": {},
     "output_type": "display_data"
    }
   ],
   "source": [
    "#Chronbach's Alpha\n",
    "cronbach.alpha(dfLongMDDComplete[dfLongMDDComplete$day == 0,grep('^dep[0-9]*$', colnames(dfLongMDDComplete))], na.rm = T)\n"
   ]
  },
  {
   "cell_type": "code",
   "execution_count": 36,
   "id": "silent-argument",
   "metadata": {},
   "outputs": [
    {
     "name": "stdout",
     "output_type": "stream",
     "text": [
      "[1] \"Symptom reduction\"\n"
     ]
    },
    {
     "data": {
      "text/html": [
       "<table class=\"dataframe\">\n",
       "<caption>A matrix: 6 × 5 of type dbl</caption>\n",
       "<thead>\n",
       "\t<tr><th></th><th scope=col>Estimate</th><th scope=col>Std. Error</th><th scope=col>df</th><th scope=col>t value</th><th scope=col>Pr(&gt;|t|)</th></tr>\n",
       "</thead>\n",
       "<tbody>\n",
       "\t<tr><th scope=row>(Intercept)</th><td> 2.860379181</td><td>0.049503460</td><td>1013.1567</td><td> 57.7813992</td><td>5.928788e-323</td></tr>\n",
       "\t<tr><th scope=row>day</th><td>-0.135325270</td><td>0.007731907</td><td> 630.2149</td><td>-17.5021844</td><td> 3.409925e-56</td></tr>\n",
       "\t<tr><th scope=row>bpd</th><td> 0.114133457</td><td>0.063271369</td><td> 996.1231</td><td>  1.8038721</td><td> 7.155337e-02</td></tr>\n",
       "\t<tr><th scope=row>comorbidity</th><td> 0.077295318</td><td>0.015963855</td><td>1015.8819</td><td>  4.8418956</td><td> 1.485902e-06</td></tr>\n",
       "\t<tr><th scope=row>day:bpd</th><td> 0.007588447</td><td>0.009610949</td><td> 555.2650</td><td>  0.7895627</td><td> 4.301202e-01</td></tr>\n",
       "\t<tr><th scope=row>day:comorbidity</th><td> 0.007724168</td><td>0.002450547</td><td> 590.0039</td><td>  3.1520178</td><td> 1.703719e-03</td></tr>\n",
       "</tbody>\n",
       "</table>\n"
      ],
      "text/latex": [
       "A matrix: 6 × 5 of type dbl\n",
       "\\begin{tabular}{r|lllll}\n",
       "  & Estimate & Std. Error & df & t value & Pr(>\\textbar{}t\\textbar{})\\\\\n",
       "\\hline\n",
       "\t(Intercept) &  2.860379181 & 0.049503460 & 1013.1567 &  57.7813992 & 5.928788e-323\\\\\n",
       "\tday & -0.135325270 & 0.007731907 &  630.2149 & -17.5021844 &  3.409925e-56\\\\\n",
       "\tbpd &  0.114133457 & 0.063271369 &  996.1231 &   1.8038721 &  7.155337e-02\\\\\n",
       "\tcomorbidity &  0.077295318 & 0.015963855 & 1015.8819 &   4.8418956 &  1.485902e-06\\\\\n",
       "\tday:bpd &  0.007588447 & 0.009610949 &  555.2650 &   0.7895627 &  4.301202e-01\\\\\n",
       "\tday:comorbidity &  0.007724168 & 0.002450547 &  590.0039 &   3.1520178 &  1.703719e-03\\\\\n",
       "\\end{tabular}\n"
      ],
      "text/markdown": [
       "\n",
       "A matrix: 6 × 5 of type dbl\n",
       "\n",
       "| <!--/--> | Estimate | Std. Error | df | t value | Pr(&gt;|t|) |\n",
       "|---|---|---|---|---|---|\n",
       "| (Intercept) |  2.860379181 | 0.049503460 | 1013.1567 |  57.7813992 | 5.928788e-323 |\n",
       "| day | -0.135325270 | 0.007731907 |  630.2149 | -17.5021844 |  3.409925e-56 |\n",
       "| bpd |  0.114133457 | 0.063271369 |  996.1231 |   1.8038721 |  7.155337e-02 |\n",
       "| comorbidity |  0.077295318 | 0.015963855 | 1015.8819 |   4.8418956 |  1.485902e-06 |\n",
       "| day:bpd |  0.007588447 | 0.009610949 |  555.2650 |   0.7895627 |  4.301202e-01 |\n",
       "| day:comorbidity |  0.007724168 | 0.002450547 |  590.0039 |   3.1520178 |  1.703719e-03 |\n",
       "\n"
      ],
      "text/plain": [
       "                Estimate     Std. Error  df        t value     Pr(>|t|)     \n",
       "(Intercept)      2.860379181 0.049503460 1013.1567  57.7813992 5.928788e-323\n",
       "day             -0.135325270 0.007731907  630.2149 -17.5021844  3.409925e-56\n",
       "bpd              0.114133457 0.063271369  996.1231   1.8038721  7.155337e-02\n",
       "comorbidity      0.077295318 0.015963855 1015.8819   4.8418956  1.485902e-06\n",
       "day:bpd          0.007588447 0.009610949  555.2650   0.7895627  4.301202e-01\n",
       "day:comorbidity  0.007724168 0.002450547  590.0039   3.1520178  1.703719e-03"
      ]
     },
     "metadata": {},
     "output_type": "display_data"
    },
    {
     "name": "stdout",
     "output_type": "stream",
     "text": [
      "[1] \"Functionoing\"\n"
     ]
    },
    {
     "name": "stderr",
     "output_type": "stream",
     "text": [
      "Warning message in checkConv(attr(opt, \"derivs\"), opt$par, ctrl = control$checkConv, :\n",
      "“Model failed to converge with max|grad| = 0.00241969 (tol = 0.002, component 1)”\n"
     ]
    },
    {
     "data": {
      "text/html": [
       "<table class=\"dataframe\">\n",
       "<caption>A matrix: 6 × 5 of type dbl</caption>\n",
       "<thead>\n",
       "\t<tr><th></th><th scope=col>Estimate</th><th scope=col>Std. Error</th><th scope=col>df</th><th scope=col>t value</th><th scope=col>Pr(&gt;|t|)</th></tr>\n",
       "</thead>\n",
       "<tbody>\n",
       "\t<tr><th scope=row>(Intercept)</th><td> 3.232003942</td><td>0.070600506</td><td>1017.7418</td><td> 45.7787644</td><td>2.370262e-249</td></tr>\n",
       "\t<tr><th scope=row>day</th><td>-0.108372201</td><td>0.009456873</td><td> 581.4171</td><td>-11.4596228</td><td> 1.487053e-27</td></tr>\n",
       "\t<tr><th scope=row>bpd</th><td>-0.015220131</td><td>0.089628615</td><td> 975.4022</td><td> -0.1698133</td><td> 8.651922e-01</td></tr>\n",
       "\t<tr><th scope=row>comorbidity</th><td> 0.116269828</td><td>0.022662811</td><td> 999.4242</td><td>  5.1304239</td><td> 3.471872e-07</td></tr>\n",
       "\t<tr><th scope=row>day:bpd</th><td> 0.011838621</td><td>0.011400325</td><td> 476.6991</td><td>  1.0384459</td><td> 2.995889e-01</td></tr>\n",
       "\t<tr><th scope=row>day:comorbidity</th><td> 0.002575504</td><td>0.002953022</td><td> 528.3033</td><td>  0.8721587</td><td> 3.835180e-01</td></tr>\n",
       "</tbody>\n",
       "</table>\n"
      ],
      "text/latex": [
       "A matrix: 6 × 5 of type dbl\n",
       "\\begin{tabular}{r|lllll}\n",
       "  & Estimate & Std. Error & df & t value & Pr(>\\textbar{}t\\textbar{})\\\\\n",
       "\\hline\n",
       "\t(Intercept) &  3.232003942 & 0.070600506 & 1017.7418 &  45.7787644 & 2.370262e-249\\\\\n",
       "\tday & -0.108372201 & 0.009456873 &  581.4171 & -11.4596228 &  1.487053e-27\\\\\n",
       "\tbpd & -0.015220131 & 0.089628615 &  975.4022 &  -0.1698133 &  8.651922e-01\\\\\n",
       "\tcomorbidity &  0.116269828 & 0.022662811 &  999.4242 &   5.1304239 &  3.471872e-07\\\\\n",
       "\tday:bpd &  0.011838621 & 0.011400325 &  476.6991 &   1.0384459 &  2.995889e-01\\\\\n",
       "\tday:comorbidity &  0.002575504 & 0.002953022 &  528.3033 &   0.8721587 &  3.835180e-01\\\\\n",
       "\\end{tabular}\n"
      ],
      "text/markdown": [
       "\n",
       "A matrix: 6 × 5 of type dbl\n",
       "\n",
       "| <!--/--> | Estimate | Std. Error | df | t value | Pr(&gt;|t|) |\n",
       "|---|---|---|---|---|---|\n",
       "| (Intercept) |  3.232003942 | 0.070600506 | 1017.7418 |  45.7787644 | 2.370262e-249 |\n",
       "| day | -0.108372201 | 0.009456873 |  581.4171 | -11.4596228 |  1.487053e-27 |\n",
       "| bpd | -0.015220131 | 0.089628615 |  975.4022 |  -0.1698133 |  8.651922e-01 |\n",
       "| comorbidity |  0.116269828 | 0.022662811 |  999.4242 |   5.1304239 |  3.471872e-07 |\n",
       "| day:bpd |  0.011838621 | 0.011400325 |  476.6991 |   1.0384459 |  2.995889e-01 |\n",
       "| day:comorbidity |  0.002575504 | 0.002953022 |  528.3033 |   0.8721587 |  3.835180e-01 |\n",
       "\n"
      ],
      "text/plain": [
       "                Estimate     Std. Error  df        t value     Pr(>|t|)     \n",
       "(Intercept)      3.232003942 0.070600506 1017.7418  45.7787644 2.370262e-249\n",
       "day             -0.108372201 0.009456873  581.4171 -11.4596228  1.487053e-27\n",
       "bpd             -0.015220131 0.089628615  975.4022  -0.1698133  8.651922e-01\n",
       "comorbidity      0.116269828 0.022662811  999.4242   5.1304239  3.471872e-07\n",
       "day:bpd          0.011838621 0.011400325  476.6991   1.0384459  2.995889e-01\n",
       "day:comorbidity  0.002575504 0.002953022  528.3033   0.8721587  3.835180e-01"
      ]
     },
     "metadata": {},
     "output_type": "display_data"
    },
    {
     "name": "stdout",
     "output_type": "stream",
     "text": [
      "[1] \"Wellbeing\"\n"
     ]
    },
    {
     "name": "stderr",
     "output_type": "stream",
     "text": [
      "Warning message in checkConv(attr(opt, \"derivs\"), opt$par, ctrl = control$checkConv, :\n",
      "“Model failed to converge with max|grad| = 0.0170308 (tol = 0.002, component 1)”\n"
     ]
    },
    {
     "data": {
      "text/html": [
       "<table class=\"dataframe\">\n",
       "<caption>A matrix: 6 × 5 of type dbl</caption>\n",
       "<thead>\n",
       "\t<tr><th></th><th scope=col>Estimate</th><th scope=col>Std. Error</th><th scope=col>df</th><th scope=col>t value</th><th scope=col>Pr(&gt;|t|)</th></tr>\n",
       "</thead>\n",
       "<tbody>\n",
       "\t<tr><th scope=row>(Intercept)</th><td> 3.287208244</td><td>0.053355652</td><td>1021.7032</td><td> 61.6093730</td><td>0.000000e+00</td></tr>\n",
       "\t<tr><th scope=row>day</th><td>-0.082576769</td><td>0.007023872</td><td> 546.6144</td><td>-11.7565886</td><td>1.317606e-28</td></tr>\n",
       "\t<tr><th scope=row>bpd</th><td> 0.039501858</td><td>0.067705573</td><td> 976.3614</td><td>  0.5834358</td><td>5.597347e-01</td></tr>\n",
       "\t<tr><th scope=row>comorbidity</th><td> 0.057593671</td><td>0.017129069</td><td>1002.0298</td><td>  3.3623352</td><td>8.020879e-04</td></tr>\n",
       "\t<tr><th scope=row>day:bpd</th><td> 0.003354874</td><td>0.008412043</td><td> 440.9928</td><td>  0.3988180</td><td>6.902203e-01</td></tr>\n",
       "\t<tr><th scope=row>day:comorbidity</th><td> 0.005343657</td><td>0.002186782</td><td> 492.1484</td><td>  2.4436168</td><td>1.489109e-02</td></tr>\n",
       "</tbody>\n",
       "</table>\n"
      ],
      "text/latex": [
       "A matrix: 6 × 5 of type dbl\n",
       "\\begin{tabular}{r|lllll}\n",
       "  & Estimate & Std. Error & df & t value & Pr(>\\textbar{}t\\textbar{})\\\\\n",
       "\\hline\n",
       "\t(Intercept) &  3.287208244 & 0.053355652 & 1021.7032 &  61.6093730 & 0.000000e+00\\\\\n",
       "\tday & -0.082576769 & 0.007023872 &  546.6144 & -11.7565886 & 1.317606e-28\\\\\n",
       "\tbpd &  0.039501858 & 0.067705573 &  976.3614 &   0.5834358 & 5.597347e-01\\\\\n",
       "\tcomorbidity &  0.057593671 & 0.017129069 & 1002.0298 &   3.3623352 & 8.020879e-04\\\\\n",
       "\tday:bpd &  0.003354874 & 0.008412043 &  440.9928 &   0.3988180 & 6.902203e-01\\\\\n",
       "\tday:comorbidity &  0.005343657 & 0.002186782 &  492.1484 &   2.4436168 & 1.489109e-02\\\\\n",
       "\\end{tabular}\n"
      ],
      "text/markdown": [
       "\n",
       "A matrix: 6 × 5 of type dbl\n",
       "\n",
       "| <!--/--> | Estimate | Std. Error | df | t value | Pr(&gt;|t|) |\n",
       "|---|---|---|---|---|---|\n",
       "| (Intercept) |  3.287208244 | 0.053355652 | 1021.7032 |  61.6093730 | 0.000000e+00 |\n",
       "| day | -0.082576769 | 0.007023872 |  546.6144 | -11.7565886 | 1.317606e-28 |\n",
       "| bpd |  0.039501858 | 0.067705573 |  976.3614 |   0.5834358 | 5.597347e-01 |\n",
       "| comorbidity |  0.057593671 | 0.017129069 | 1002.0298 |   3.3623352 | 8.020879e-04 |\n",
       "| day:bpd |  0.003354874 | 0.008412043 |  440.9928 |   0.3988180 | 6.902203e-01 |\n",
       "| day:comorbidity |  0.005343657 | 0.002186782 |  492.1484 |   2.4436168 | 1.489109e-02 |\n",
       "\n"
      ],
      "text/plain": [
       "                Estimate     Std. Error  df        t value     Pr(>|t|)    \n",
       "(Intercept)      3.287208244 0.053355652 1021.7032  61.6093730 0.000000e+00\n",
       "day             -0.082576769 0.007023872  546.6144 -11.7565886 1.317606e-28\n",
       "bpd              0.039501858 0.067705573  976.3614   0.5834358 5.597347e-01\n",
       "comorbidity      0.057593671 0.017129069 1002.0298   3.3623352 8.020879e-04\n",
       "day:bpd          0.003354874 0.008412043  440.9928   0.3988180 6.902203e-01\n",
       "day:comorbidity  0.005343657 0.002186782  492.1484   2.4436168 1.489109e-02"
      ]
     },
     "metadata": {},
     "output_type": "display_data"
    }
   ],
   "source": [
    "#Predcit changes in depression with bpd and comorbidities while controling for txlength\n",
    "\n",
    "print('Symptom reduction')\n",
    "sum_dep_co = summary(lmer(depMean ~ day*(bpd+comorbidity) + (1|uniquePtId)+ (1+day|uniquePtId:ID1), data = dfLongMDDComplete)) \n",
    "sum_dep_co$coefficients\n",
    "\n",
    "print('Functionoing')\n",
    "sum_fun_co = summary(lmer(dep17 ~ day*(bpd+comorbidity) +  (1|uniquePtId)+ (1+day|uniquePtId:ID1), data = dfLongMDDComplete))\n",
    "sum_fun_co$coefficients\n",
    "\n",
    "print('Wellbeing')\n",
    "sum_well_co = summary(lmer(dep18 ~ day*(bpd+comorbidity) +  (1|uniquePtId)+ (1+day|uniquePtId:ID1), data = dfLongMDDComplete))\n",
    "sum_well_co$coefficients"
   ]
  },
  {
   "cell_type": "markdown",
   "id": "difficult-cabinet",
   "metadata": {},
   "source": [
    "### Figure"
   ]
  },
  {
   "cell_type": "code",
   "execution_count": 37,
   "id": "split-frontier",
   "metadata": {},
   "outputs": [
    {
     "name": "stderr",
     "output_type": "stream",
     "text": [
      "Warning message in checkConv(attr(opt, \"derivs\"), opt$par, ctrl = control$checkConv, :\n",
      "“Model failed to converge with max|grad| = 0.00372289 (tol = 0.002, component 1)”\n"
     ]
    }
   ],
   "source": [
    "model_dep = lmer(depMean ~ day*bpd + (1|uniquePtId)+ (1+day|uniquePtId:ID1), data = dfLongMDDComplete)\n",
    "model_fun = lmer(dep17 ~ day*bpd + (1|uniquePtId)+ (1+day|uniquePtId:ID1), data = dfLongMDDComplete)\n",
    "model_well = lmer(dep18 ~ day*bpd + (1|uniquePtId)+ (1+day|uniquePtId:ID1), data = dfLongMDDComplete)\n"
   ]
  },
  {
   "cell_type": "code",
   "execution_count": 38,
   "id": "other-hours",
   "metadata": {},
   "outputs": [],
   "source": [
    "newdata = data.frame(uniquePtId = 1000, ID1 = 1000, day = c(c(0:11),c(0:14)), bpd = c(rep(0,12), rep(1,15)))"
   ]
  },
  {
   "cell_type": "code",
   "execution_count": 39,
   "id": "former-upgrade",
   "metadata": {
    "scrolled": false
   },
   "outputs": [
    {
     "name": "stderr",
     "output_type": "stream",
     "text": [
      "Warning message:\n",
      "“     The following levels of uniquePtId:ID1 from newdata \n",
      " -- NA -- are not in the model data. \n",
      "     Currently, predictions for these values are based only on the \n",
      " fixed coefficients and the observation-level error.”\n",
      "Warning message:\n",
      "“     The following levels of uniquePtId from newdata \n",
      " -- 1000 -- are not in the model data. \n",
      "     Currently, predictions for these values are based only on the \n",
      " fixed coefficients and the observation-level error.”\n",
      "Warning message:\n",
      "“     The following levels of uniquePtId:ID1 from newdata \n",
      " -- NA -- are not in the model data. \n",
      "     Currently, predictions for these values are based only on the \n",
      " fixed coefficients and the observation-level error.”\n",
      "Warning message:\n",
      "“     The following levels of uniquePtId from newdata \n",
      " -- 1000 -- are not in the model data. \n",
      "     Currently, predictions for these values are based only on the \n",
      " fixed coefficients and the observation-level error.”\n",
      "Warning message:\n",
      "“     The following levels of uniquePtId:ID1 from newdata \n",
      " -- NA -- are not in the model data. \n",
      "     Currently, predictions for these values are based only on the \n",
      " fixed coefficients and the observation-level error.”\n",
      "Warning message:\n",
      "“     The following levels of uniquePtId from newdata \n",
      " -- 1000 -- are not in the model data. \n",
      "     Currently, predictions for these values are based only on the \n",
      " fixed coefficients and the observation-level error.”\n"
     ]
    }
   ],
   "source": [
    "pred_bpd_dep = \n",
    "predictInterval(merMod = model_dep, newdata = newdata,\n",
    "                        level = 0.95, n.sims = 1000, which = 'fixed',\n",
    "                        stat = \"median\", type=\"linear.prediction\",                        \n",
    "                        include.resid.var = F)\n",
    "pred_bpd_dep$var = 'Depressive\\nSymptom'\n",
    "\n",
    "pred_bpd_fun = \n",
    "predictInterval(merMod = model_fun, newdata = newdata,\n",
    "                        level = 0.95, n.sims = 1000, which = 'fixed',\n",
    "                        stat = \"median\", type=\"linear.prediction\",                        \n",
    "                        include.resid.var = F)\n",
    "pred_bpd_fun$var = 'Functional\\nImpairment'\n",
    "\n",
    "pred_bpd_well = \n",
    "predictInterval(merMod = model_well, newdata = newdata,\n",
    "                        level = 0.95, n.sims = 1000, which = 'fixed',\n",
    "                        stat = \"median\", type=\"linear.prediction\",                        \n",
    "                        include.resid.var = F)\n",
    "pred_bpd_well$var = 'Life\\nDissatisfaction'"
   ]
  },
  {
   "cell_type": "code",
   "execution_count": 40,
   "id": "editorial-school",
   "metadata": {},
   "outputs": [
    {
     "data": {
      "text/html": [
       "<table class=\"dataframe\">\n",
       "<caption>A data.frame: 81 × 6</caption>\n",
       "<thead>\n",
       "\t<tr><th scope=col>fit</th><th scope=col>upr</th><th scope=col>lwr</th><th scope=col>var</th><th scope=col>day</th><th scope=col>bpd</th></tr>\n",
       "\t<tr><th scope=col>&lt;dbl&gt;</th><th scope=col>&lt;dbl&gt;</th><th scope=col>&lt;dbl&gt;</th><th scope=col>&lt;chr&gt;</th><th scope=col>&lt;int&gt;</th><th scope=col>&lt;dbl&gt;</th></tr>\n",
       "</thead>\n",
       "<tbody>\n",
       "\t<tr><td>3.066665</td><td>3.116265</td><td>3.020371</td><td>Depressive\n",
       "Symptom   </td><td> 0</td><td>0</td></tr>\n",
       "\t<tr><td>2.951847</td><td>3.002724</td><td>2.905645</td><td>Depressive\n",
       "Symptom   </td><td> 1</td><td>0</td></tr>\n",
       "\t<tr><td>2.836501</td><td>2.891568</td><td>2.790661</td><td>Depressive\n",
       "Symptom   </td><td> 2</td><td>0</td></tr>\n",
       "\t<tr><td>2.722480</td><td>2.778490</td><td>2.673752</td><td>Depressive\n",
       "Symptom   </td><td> 3</td><td>0</td></tr>\n",
       "\t<tr><td>2.607546</td><td>2.664859</td><td>2.556223</td><td>Depressive\n",
       "Symptom   </td><td> 4</td><td>0</td></tr>\n",
       "\t<tr><td>2.492322</td><td>2.553845</td><td>2.436873</td><td>Depressive\n",
       "Symptom   </td><td> 5</td><td>0</td></tr>\n",
       "\t<tr><td>2.377687</td><td>2.442702</td><td>2.319590</td><td>Depressive\n",
       "Symptom   </td><td> 6</td><td>0</td></tr>\n",
       "\t<tr><td>2.263409</td><td>2.333911</td><td>2.200107</td><td>Depressive\n",
       "Symptom   </td><td> 7</td><td>0</td></tr>\n",
       "\t<tr><td>2.149157</td><td>2.224871</td><td>2.080580</td><td>Depressive\n",
       "Symptom   </td><td> 8</td><td>0</td></tr>\n",
       "\t<tr><td>2.034816</td><td>2.117293</td><td>1.960587</td><td>Depressive\n",
       "Symptom   </td><td> 9</td><td>0</td></tr>\n",
       "\t<tr><td>1.919753</td><td>2.008147</td><td>1.840624</td><td>Depressive\n",
       "Symptom   </td><td>10</td><td>0</td></tr>\n",
       "\t<tr><td>1.805182</td><td>1.898887</td><td>1.719351</td><td>Depressive\n",
       "Symptom   </td><td>11</td><td>0</td></tr>\n",
       "\t<tr><td>3.288663</td><td>3.397662</td><td>3.179194</td><td>Depressive\n",
       "Symptom   </td><td> 0</td><td>1</td></tr>\n",
       "\t<tr><td>3.194589</td><td>3.299664</td><td>3.085236</td><td>Depressive\n",
       "Symptom   </td><td> 1</td><td>1</td></tr>\n",
       "\t<tr><td>3.099857</td><td>3.205490</td><td>2.993565</td><td>Depressive\n",
       "Symptom   </td><td> 2</td><td>1</td></tr>\n",
       "\t<tr><td>3.004151</td><td>3.111760</td><td>2.894181</td><td>Depressive\n",
       "Symptom   </td><td> 3</td><td>1</td></tr>\n",
       "\t<tr><td>2.908099</td><td>3.020265</td><td>2.790912</td><td>Depressive\n",
       "Symptom   </td><td> 4</td><td>1</td></tr>\n",
       "\t<tr><td>2.814187</td><td>2.935529</td><td>2.691674</td><td>Depressive\n",
       "Symptom   </td><td> 5</td><td>1</td></tr>\n",
       "\t<tr><td>2.717287</td><td>2.852384</td><td>2.583490</td><td>Depressive\n",
       "Symptom   </td><td> 6</td><td>1</td></tr>\n",
       "\t<tr><td>2.622279</td><td>2.767756</td><td>2.479141</td><td>Depressive\n",
       "Symptom   </td><td> 7</td><td>1</td></tr>\n",
       "\t<tr><td>2.528538</td><td>2.689019</td><td>2.374881</td><td>Depressive\n",
       "Symptom   </td><td> 8</td><td>1</td></tr>\n",
       "\t<tr><td>2.433427</td><td>2.611770</td><td>2.267937</td><td>Depressive\n",
       "Symptom   </td><td> 9</td><td>1</td></tr>\n",
       "\t<tr><td>2.338907</td><td>2.531154</td><td>2.158365</td><td>Depressive\n",
       "Symptom   </td><td>10</td><td>1</td></tr>\n",
       "\t<tr><td>2.243523</td><td>2.448412</td><td>2.044733</td><td>Depressive\n",
       "Symptom   </td><td>11</td><td>1</td></tr>\n",
       "\t<tr><td>2.148223</td><td>2.362515</td><td>1.934147</td><td>Depressive\n",
       "Symptom   </td><td>12</td><td>1</td></tr>\n",
       "\t<tr><td>2.051647</td><td>2.287073</td><td>1.828060</td><td>Depressive\n",
       "Symptom   </td><td>13</td><td>1</td></tr>\n",
       "\t<tr><td>1.956222</td><td>2.207293</td><td>1.718362</td><td>Depressive\n",
       "Symptom   </td><td>14</td><td>1</td></tr>\n",
       "\t<tr><td>3.541674</td><td>3.613141</td><td>3.465740</td><td>Functional\n",
       "Impairment</td><td> 0</td><td>0</td></tr>\n",
       "\t<tr><td>3.440675</td><td>3.510047</td><td>3.367725</td><td>Functional\n",
       "Impairment</td><td> 1</td><td>0</td></tr>\n",
       "\t<tr><td>3.340616</td><td>3.409120</td><td>3.266490</td><td>Functional\n",
       "Impairment</td><td> 2</td><td>0</td></tr>\n",
       "\t<tr><td>⋮</td><td>⋮</td><td>⋮</td><td>⋮</td><td>⋮</td><td>⋮</td></tr>\n",
       "\t<tr><td>2.655698</td><td>2.896229</td><td>2.443145</td><td>Functional\n",
       "Impairment</td><td>12</td><td>1</td></tr>\n",
       "\t<tr><td>2.569435</td><td>2.827084</td><td>2.345615</td><td>Functional\n",
       "Impairment</td><td>13</td><td>1</td></tr>\n",
       "\t<tr><td>2.483200</td><td>2.753332</td><td>2.243489</td><td>Functional\n",
       "Impairment</td><td>14</td><td>1</td></tr>\n",
       "\t<tr><td>3.438731</td><td>3.492981</td><td>3.388180</td><td>Life\n",
       "Dissatisfaction </td><td> 0</td><td>0</td></tr>\n",
       "\t<tr><td>3.370694</td><td>3.424428</td><td>3.322773</td><td>Life\n",
       "Dissatisfaction </td><td> 1</td><td>0</td></tr>\n",
       "\t<tr><td>3.302718</td><td>3.356221</td><td>3.255502</td><td>Life\n",
       "Dissatisfaction </td><td> 2</td><td>0</td></tr>\n",
       "\t<tr><td>3.235731</td><td>3.287373</td><td>3.187119</td><td>Life\n",
       "Dissatisfaction </td><td> 3</td><td>0</td></tr>\n",
       "\t<tr><td>3.168311</td><td>3.219831</td><td>3.118444</td><td>Life\n",
       "Dissatisfaction </td><td> 4</td><td>0</td></tr>\n",
       "\t<tr><td>3.099791</td><td>3.154572</td><td>3.048818</td><td>Life\n",
       "Dissatisfaction </td><td> 5</td><td>0</td></tr>\n",
       "\t<tr><td>3.032064</td><td>3.088423</td><td>2.979313</td><td>Life\n",
       "Dissatisfaction </td><td> 6</td><td>0</td></tr>\n",
       "\t<tr><td>2.964457</td><td>3.023936</td><td>2.909195</td><td>Life\n",
       "Dissatisfaction </td><td> 7</td><td>0</td></tr>\n",
       "\t<tr><td>2.896684</td><td>2.960241</td><td>2.837742</td><td>Life\n",
       "Dissatisfaction </td><td> 8</td><td>0</td></tr>\n",
       "\t<tr><td>2.829333</td><td>2.898639</td><td>2.764861</td><td>Life\n",
       "Dissatisfaction </td><td> 9</td><td>0</td></tr>\n",
       "\t<tr><td>2.761831</td><td>2.836762</td><td>2.691551</td><td>Life\n",
       "Dissatisfaction </td><td>10</td><td>0</td></tr>\n",
       "\t<tr><td>2.694061</td><td>2.773180</td><td>2.619448</td><td>Life\n",
       "Dissatisfaction </td><td>11</td><td>0</td></tr>\n",
       "\t<tr><td>3.557900</td><td>3.678540</td><td>3.445957</td><td>Life\n",
       "Dissatisfaction </td><td> 0</td><td>1</td></tr>\n",
       "\t<tr><td>3.501611</td><td>3.616727</td><td>3.389634</td><td>Life\n",
       "Dissatisfaction </td><td> 1</td><td>1</td></tr>\n",
       "\t<tr><td>3.445985</td><td>3.556513</td><td>3.337652</td><td>Life\n",
       "Dissatisfaction </td><td> 2</td><td>1</td></tr>\n",
       "\t<tr><td>3.388164</td><td>3.499823</td><td>3.282772</td><td>Life\n",
       "Dissatisfaction </td><td> 3</td><td>1</td></tr>\n",
       "\t<tr><td>3.331572</td><td>3.440054</td><td>3.221824</td><td>Life\n",
       "Dissatisfaction </td><td> 4</td><td>1</td></tr>\n",
       "\t<tr><td>3.274388</td><td>3.383312</td><td>3.157023</td><td>Life\n",
       "Dissatisfaction </td><td> 5</td><td>1</td></tr>\n",
       "\t<tr><td>3.217631</td><td>3.330683</td><td>3.093444</td><td>Life\n",
       "Dissatisfaction </td><td> 6</td><td>1</td></tr>\n",
       "\t<tr><td>3.162540</td><td>3.276977</td><td>3.025960</td><td>Life\n",
       "Dissatisfaction </td><td> 7</td><td>1</td></tr>\n",
       "\t<tr><td>3.107158</td><td>3.229115</td><td>2.958397</td><td>Life\n",
       "Dissatisfaction </td><td> 8</td><td>1</td></tr>\n",
       "\t<tr><td>3.051181</td><td>3.182523</td><td>2.894487</td><td>Life\n",
       "Dissatisfaction </td><td> 9</td><td>1</td></tr>\n",
       "\t<tr><td>2.993901</td><td>3.132635</td><td>2.827182</td><td>Life\n",
       "Dissatisfaction </td><td>10</td><td>1</td></tr>\n",
       "\t<tr><td>2.937712</td><td>3.080480</td><td>2.760384</td><td>Life\n",
       "Dissatisfaction </td><td>11</td><td>1</td></tr>\n",
       "\t<tr><td>2.881368</td><td>3.032585</td><td>2.694000</td><td>Life\n",
       "Dissatisfaction </td><td>12</td><td>1</td></tr>\n",
       "\t<tr><td>2.824037</td><td>2.988748</td><td>2.625273</td><td>Life\n",
       "Dissatisfaction </td><td>13</td><td>1</td></tr>\n",
       "\t<tr><td>2.766559</td><td>2.946320</td><td>2.557846</td><td>Life\n",
       "Dissatisfaction </td><td>14</td><td>1</td></tr>\n",
       "</tbody>\n",
       "</table>\n"
      ],
      "text/latex": [
       "A data.frame: 81 × 6\n",
       "\\begin{tabular}{llllll}\n",
       " fit & upr & lwr & var & day & bpd\\\\\n",
       " <dbl> & <dbl> & <dbl> & <chr> & <int> & <dbl>\\\\\n",
       "\\hline\n",
       "\t 3.066665 & 3.116265 & 3.020371 & Depressive\n",
       "Symptom    &  0 & 0\\\\\n",
       "\t 2.951847 & 3.002724 & 2.905645 & Depressive\n",
       "Symptom    &  1 & 0\\\\\n",
       "\t 2.836501 & 2.891568 & 2.790661 & Depressive\n",
       "Symptom    &  2 & 0\\\\\n",
       "\t 2.722480 & 2.778490 & 2.673752 & Depressive\n",
       "Symptom    &  3 & 0\\\\\n",
       "\t 2.607546 & 2.664859 & 2.556223 & Depressive\n",
       "Symptom    &  4 & 0\\\\\n",
       "\t 2.492322 & 2.553845 & 2.436873 & Depressive\n",
       "Symptom    &  5 & 0\\\\\n",
       "\t 2.377687 & 2.442702 & 2.319590 & Depressive\n",
       "Symptom    &  6 & 0\\\\\n",
       "\t 2.263409 & 2.333911 & 2.200107 & Depressive\n",
       "Symptom    &  7 & 0\\\\\n",
       "\t 2.149157 & 2.224871 & 2.080580 & Depressive\n",
       "Symptom    &  8 & 0\\\\\n",
       "\t 2.034816 & 2.117293 & 1.960587 & Depressive\n",
       "Symptom    &  9 & 0\\\\\n",
       "\t 1.919753 & 2.008147 & 1.840624 & Depressive\n",
       "Symptom    & 10 & 0\\\\\n",
       "\t 1.805182 & 1.898887 & 1.719351 & Depressive\n",
       "Symptom    & 11 & 0\\\\\n",
       "\t 3.288663 & 3.397662 & 3.179194 & Depressive\n",
       "Symptom    &  0 & 1\\\\\n",
       "\t 3.194589 & 3.299664 & 3.085236 & Depressive\n",
       "Symptom    &  1 & 1\\\\\n",
       "\t 3.099857 & 3.205490 & 2.993565 & Depressive\n",
       "Symptom    &  2 & 1\\\\\n",
       "\t 3.004151 & 3.111760 & 2.894181 & Depressive\n",
       "Symptom    &  3 & 1\\\\\n",
       "\t 2.908099 & 3.020265 & 2.790912 & Depressive\n",
       "Symptom    &  4 & 1\\\\\n",
       "\t 2.814187 & 2.935529 & 2.691674 & Depressive\n",
       "Symptom    &  5 & 1\\\\\n",
       "\t 2.717287 & 2.852384 & 2.583490 & Depressive\n",
       "Symptom    &  6 & 1\\\\\n",
       "\t 2.622279 & 2.767756 & 2.479141 & Depressive\n",
       "Symptom    &  7 & 1\\\\\n",
       "\t 2.528538 & 2.689019 & 2.374881 & Depressive\n",
       "Symptom    &  8 & 1\\\\\n",
       "\t 2.433427 & 2.611770 & 2.267937 & Depressive\n",
       "Symptom    &  9 & 1\\\\\n",
       "\t 2.338907 & 2.531154 & 2.158365 & Depressive\n",
       "Symptom    & 10 & 1\\\\\n",
       "\t 2.243523 & 2.448412 & 2.044733 & Depressive\n",
       "Symptom    & 11 & 1\\\\\n",
       "\t 2.148223 & 2.362515 & 1.934147 & Depressive\n",
       "Symptom    & 12 & 1\\\\\n",
       "\t 2.051647 & 2.287073 & 1.828060 & Depressive\n",
       "Symptom    & 13 & 1\\\\\n",
       "\t 1.956222 & 2.207293 & 1.718362 & Depressive\n",
       "Symptom    & 14 & 1\\\\\n",
       "\t 3.541674 & 3.613141 & 3.465740 & Functional\n",
       "Impairment &  0 & 0\\\\\n",
       "\t 3.440675 & 3.510047 & 3.367725 & Functional\n",
       "Impairment &  1 & 0\\\\\n",
       "\t 3.340616 & 3.409120 & 3.266490 & Functional\n",
       "Impairment &  2 & 0\\\\\n",
       "\t ⋮ & ⋮ & ⋮ & ⋮ & ⋮ & ⋮\\\\\n",
       "\t 2.655698 & 2.896229 & 2.443145 & Functional\n",
       "Impairment & 12 & 1\\\\\n",
       "\t 2.569435 & 2.827084 & 2.345615 & Functional\n",
       "Impairment & 13 & 1\\\\\n",
       "\t 2.483200 & 2.753332 & 2.243489 & Functional\n",
       "Impairment & 14 & 1\\\\\n",
       "\t 3.438731 & 3.492981 & 3.388180 & Life\n",
       "Dissatisfaction  &  0 & 0\\\\\n",
       "\t 3.370694 & 3.424428 & 3.322773 & Life\n",
       "Dissatisfaction  &  1 & 0\\\\\n",
       "\t 3.302718 & 3.356221 & 3.255502 & Life\n",
       "Dissatisfaction  &  2 & 0\\\\\n",
       "\t 3.235731 & 3.287373 & 3.187119 & Life\n",
       "Dissatisfaction  &  3 & 0\\\\\n",
       "\t 3.168311 & 3.219831 & 3.118444 & Life\n",
       "Dissatisfaction  &  4 & 0\\\\\n",
       "\t 3.099791 & 3.154572 & 3.048818 & Life\n",
       "Dissatisfaction  &  5 & 0\\\\\n",
       "\t 3.032064 & 3.088423 & 2.979313 & Life\n",
       "Dissatisfaction  &  6 & 0\\\\\n",
       "\t 2.964457 & 3.023936 & 2.909195 & Life\n",
       "Dissatisfaction  &  7 & 0\\\\\n",
       "\t 2.896684 & 2.960241 & 2.837742 & Life\n",
       "Dissatisfaction  &  8 & 0\\\\\n",
       "\t 2.829333 & 2.898639 & 2.764861 & Life\n",
       "Dissatisfaction  &  9 & 0\\\\\n",
       "\t 2.761831 & 2.836762 & 2.691551 & Life\n",
       "Dissatisfaction  & 10 & 0\\\\\n",
       "\t 2.694061 & 2.773180 & 2.619448 & Life\n",
       "Dissatisfaction  & 11 & 0\\\\\n",
       "\t 3.557900 & 3.678540 & 3.445957 & Life\n",
       "Dissatisfaction  &  0 & 1\\\\\n",
       "\t 3.501611 & 3.616727 & 3.389634 & Life\n",
       "Dissatisfaction  &  1 & 1\\\\\n",
       "\t 3.445985 & 3.556513 & 3.337652 & Life\n",
       "Dissatisfaction  &  2 & 1\\\\\n",
       "\t 3.388164 & 3.499823 & 3.282772 & Life\n",
       "Dissatisfaction  &  3 & 1\\\\\n",
       "\t 3.331572 & 3.440054 & 3.221824 & Life\n",
       "Dissatisfaction  &  4 & 1\\\\\n",
       "\t 3.274388 & 3.383312 & 3.157023 & Life\n",
       "Dissatisfaction  &  5 & 1\\\\\n",
       "\t 3.217631 & 3.330683 & 3.093444 & Life\n",
       "Dissatisfaction  &  6 & 1\\\\\n",
       "\t 3.162540 & 3.276977 & 3.025960 & Life\n",
       "Dissatisfaction  &  7 & 1\\\\\n",
       "\t 3.107158 & 3.229115 & 2.958397 & Life\n",
       "Dissatisfaction  &  8 & 1\\\\\n",
       "\t 3.051181 & 3.182523 & 2.894487 & Life\n",
       "Dissatisfaction  &  9 & 1\\\\\n",
       "\t 2.993901 & 3.132635 & 2.827182 & Life\n",
       "Dissatisfaction  & 10 & 1\\\\\n",
       "\t 2.937712 & 3.080480 & 2.760384 & Life\n",
       "Dissatisfaction  & 11 & 1\\\\\n",
       "\t 2.881368 & 3.032585 & 2.694000 & Life\n",
       "Dissatisfaction  & 12 & 1\\\\\n",
       "\t 2.824037 & 2.988748 & 2.625273 & Life\n",
       "Dissatisfaction  & 13 & 1\\\\\n",
       "\t 2.766559 & 2.946320 & 2.557846 & Life\n",
       "Dissatisfaction  & 14 & 1\\\\\n",
       "\\end{tabular}\n"
      ],
      "text/markdown": [
       "\n",
       "A data.frame: 81 × 6\n",
       "\n",
       "| fit &lt;dbl&gt; | upr &lt;dbl&gt; | lwr &lt;dbl&gt; | var &lt;chr&gt; | day &lt;int&gt; | bpd &lt;dbl&gt; |\n",
       "|---|---|---|---|---|---|\n",
       "| 3.066665 | 3.116265 | 3.020371 | Depressive\n",
       "Symptom    |  0 | 0 |\n",
       "| 2.951847 | 3.002724 | 2.905645 | Depressive\n",
       "Symptom    |  1 | 0 |\n",
       "| 2.836501 | 2.891568 | 2.790661 | Depressive\n",
       "Symptom    |  2 | 0 |\n",
       "| 2.722480 | 2.778490 | 2.673752 | Depressive\n",
       "Symptom    |  3 | 0 |\n",
       "| 2.607546 | 2.664859 | 2.556223 | Depressive\n",
       "Symptom    |  4 | 0 |\n",
       "| 2.492322 | 2.553845 | 2.436873 | Depressive\n",
       "Symptom    |  5 | 0 |\n",
       "| 2.377687 | 2.442702 | 2.319590 | Depressive\n",
       "Symptom    |  6 | 0 |\n",
       "| 2.263409 | 2.333911 | 2.200107 | Depressive\n",
       "Symptom    |  7 | 0 |\n",
       "| 2.149157 | 2.224871 | 2.080580 | Depressive\n",
       "Symptom    |  8 | 0 |\n",
       "| 2.034816 | 2.117293 | 1.960587 | Depressive\n",
       "Symptom    |  9 | 0 |\n",
       "| 1.919753 | 2.008147 | 1.840624 | Depressive\n",
       "Symptom    | 10 | 0 |\n",
       "| 1.805182 | 1.898887 | 1.719351 | Depressive\n",
       "Symptom    | 11 | 0 |\n",
       "| 3.288663 | 3.397662 | 3.179194 | Depressive\n",
       "Symptom    |  0 | 1 |\n",
       "| 3.194589 | 3.299664 | 3.085236 | Depressive\n",
       "Symptom    |  1 | 1 |\n",
       "| 3.099857 | 3.205490 | 2.993565 | Depressive\n",
       "Symptom    |  2 | 1 |\n",
       "| 3.004151 | 3.111760 | 2.894181 | Depressive\n",
       "Symptom    |  3 | 1 |\n",
       "| 2.908099 | 3.020265 | 2.790912 | Depressive\n",
       "Symptom    |  4 | 1 |\n",
       "| 2.814187 | 2.935529 | 2.691674 | Depressive\n",
       "Symptom    |  5 | 1 |\n",
       "| 2.717287 | 2.852384 | 2.583490 | Depressive\n",
       "Symptom    |  6 | 1 |\n",
       "| 2.622279 | 2.767756 | 2.479141 | Depressive\n",
       "Symptom    |  7 | 1 |\n",
       "| 2.528538 | 2.689019 | 2.374881 | Depressive\n",
       "Symptom    |  8 | 1 |\n",
       "| 2.433427 | 2.611770 | 2.267937 | Depressive\n",
       "Symptom    |  9 | 1 |\n",
       "| 2.338907 | 2.531154 | 2.158365 | Depressive\n",
       "Symptom    | 10 | 1 |\n",
       "| 2.243523 | 2.448412 | 2.044733 | Depressive\n",
       "Symptom    | 11 | 1 |\n",
       "| 2.148223 | 2.362515 | 1.934147 | Depressive\n",
       "Symptom    | 12 | 1 |\n",
       "| 2.051647 | 2.287073 | 1.828060 | Depressive\n",
       "Symptom    | 13 | 1 |\n",
       "| 1.956222 | 2.207293 | 1.718362 | Depressive\n",
       "Symptom    | 14 | 1 |\n",
       "| 3.541674 | 3.613141 | 3.465740 | Functional\n",
       "Impairment |  0 | 0 |\n",
       "| 3.440675 | 3.510047 | 3.367725 | Functional\n",
       "Impairment |  1 | 0 |\n",
       "| 3.340616 | 3.409120 | 3.266490 | Functional\n",
       "Impairment |  2 | 0 |\n",
       "| ⋮ | ⋮ | ⋮ | ⋮ | ⋮ | ⋮ |\n",
       "| 2.655698 | 2.896229 | 2.443145 | Functional\n",
       "Impairment | 12 | 1 |\n",
       "| 2.569435 | 2.827084 | 2.345615 | Functional\n",
       "Impairment | 13 | 1 |\n",
       "| 2.483200 | 2.753332 | 2.243489 | Functional\n",
       "Impairment | 14 | 1 |\n",
       "| 3.438731 | 3.492981 | 3.388180 | Life\n",
       "Dissatisfaction  |  0 | 0 |\n",
       "| 3.370694 | 3.424428 | 3.322773 | Life\n",
       "Dissatisfaction  |  1 | 0 |\n",
       "| 3.302718 | 3.356221 | 3.255502 | Life\n",
       "Dissatisfaction  |  2 | 0 |\n",
       "| 3.235731 | 3.287373 | 3.187119 | Life\n",
       "Dissatisfaction  |  3 | 0 |\n",
       "| 3.168311 | 3.219831 | 3.118444 | Life\n",
       "Dissatisfaction  |  4 | 0 |\n",
       "| 3.099791 | 3.154572 | 3.048818 | Life\n",
       "Dissatisfaction  |  5 | 0 |\n",
       "| 3.032064 | 3.088423 | 2.979313 | Life\n",
       "Dissatisfaction  |  6 | 0 |\n",
       "| 2.964457 | 3.023936 | 2.909195 | Life\n",
       "Dissatisfaction  |  7 | 0 |\n",
       "| 2.896684 | 2.960241 | 2.837742 | Life\n",
       "Dissatisfaction  |  8 | 0 |\n",
       "| 2.829333 | 2.898639 | 2.764861 | Life\n",
       "Dissatisfaction  |  9 | 0 |\n",
       "| 2.761831 | 2.836762 | 2.691551 | Life\n",
       "Dissatisfaction  | 10 | 0 |\n",
       "| 2.694061 | 2.773180 | 2.619448 | Life\n",
       "Dissatisfaction  | 11 | 0 |\n",
       "| 3.557900 | 3.678540 | 3.445957 | Life\n",
       "Dissatisfaction  |  0 | 1 |\n",
       "| 3.501611 | 3.616727 | 3.389634 | Life\n",
       "Dissatisfaction  |  1 | 1 |\n",
       "| 3.445985 | 3.556513 | 3.337652 | Life\n",
       "Dissatisfaction  |  2 | 1 |\n",
       "| 3.388164 | 3.499823 | 3.282772 | Life\n",
       "Dissatisfaction  |  3 | 1 |\n",
       "| 3.331572 | 3.440054 | 3.221824 | Life\n",
       "Dissatisfaction  |  4 | 1 |\n",
       "| 3.274388 | 3.383312 | 3.157023 | Life\n",
       "Dissatisfaction  |  5 | 1 |\n",
       "| 3.217631 | 3.330683 | 3.093444 | Life\n",
       "Dissatisfaction  |  6 | 1 |\n",
       "| 3.162540 | 3.276977 | 3.025960 | Life\n",
       "Dissatisfaction  |  7 | 1 |\n",
       "| 3.107158 | 3.229115 | 2.958397 | Life\n",
       "Dissatisfaction  |  8 | 1 |\n",
       "| 3.051181 | 3.182523 | 2.894487 | Life\n",
       "Dissatisfaction  |  9 | 1 |\n",
       "| 2.993901 | 3.132635 | 2.827182 | Life\n",
       "Dissatisfaction  | 10 | 1 |\n",
       "| 2.937712 | 3.080480 | 2.760384 | Life\n",
       "Dissatisfaction  | 11 | 1 |\n",
       "| 2.881368 | 3.032585 | 2.694000 | Life\n",
       "Dissatisfaction  | 12 | 1 |\n",
       "| 2.824037 | 2.988748 | 2.625273 | Life\n",
       "Dissatisfaction  | 13 | 1 |\n",
       "| 2.766559 | 2.946320 | 2.557846 | Life\n",
       "Dissatisfaction  | 14 | 1 |\n",
       "\n"
      ],
      "text/plain": [
       "   fit      upr      lwr      var                    day bpd\n",
       "1  3.066665 3.116265 3.020371 Depressive\\nSymptom     0  0  \n",
       "2  2.951847 3.002724 2.905645 Depressive\\nSymptom     1  0  \n",
       "3  2.836501 2.891568 2.790661 Depressive\\nSymptom     2  0  \n",
       "4  2.722480 2.778490 2.673752 Depressive\\nSymptom     3  0  \n",
       "5  2.607546 2.664859 2.556223 Depressive\\nSymptom     4  0  \n",
       "6  2.492322 2.553845 2.436873 Depressive\\nSymptom     5  0  \n",
       "7  2.377687 2.442702 2.319590 Depressive\\nSymptom     6  0  \n",
       "8  2.263409 2.333911 2.200107 Depressive\\nSymptom     7  0  \n",
       "9  2.149157 2.224871 2.080580 Depressive\\nSymptom     8  0  \n",
       "10 2.034816 2.117293 1.960587 Depressive\\nSymptom     9  0  \n",
       "11 1.919753 2.008147 1.840624 Depressive\\nSymptom    10  0  \n",
       "12 1.805182 1.898887 1.719351 Depressive\\nSymptom    11  0  \n",
       "13 3.288663 3.397662 3.179194 Depressive\\nSymptom     0  1  \n",
       "14 3.194589 3.299664 3.085236 Depressive\\nSymptom     1  1  \n",
       "15 3.099857 3.205490 2.993565 Depressive\\nSymptom     2  1  \n",
       "16 3.004151 3.111760 2.894181 Depressive\\nSymptom     3  1  \n",
       "17 2.908099 3.020265 2.790912 Depressive\\nSymptom     4  1  \n",
       "18 2.814187 2.935529 2.691674 Depressive\\nSymptom     5  1  \n",
       "19 2.717287 2.852384 2.583490 Depressive\\nSymptom     6  1  \n",
       "20 2.622279 2.767756 2.479141 Depressive\\nSymptom     7  1  \n",
       "21 2.528538 2.689019 2.374881 Depressive\\nSymptom     8  1  \n",
       "22 2.433427 2.611770 2.267937 Depressive\\nSymptom     9  1  \n",
       "23 2.338907 2.531154 2.158365 Depressive\\nSymptom    10  1  \n",
       "24 2.243523 2.448412 2.044733 Depressive\\nSymptom    11  1  \n",
       "25 2.148223 2.362515 1.934147 Depressive\\nSymptom    12  1  \n",
       "26 2.051647 2.287073 1.828060 Depressive\\nSymptom    13  1  \n",
       "27 1.956222 2.207293 1.718362 Depressive\\nSymptom    14  1  \n",
       "28 3.541674 3.613141 3.465740 Functional\\nImpairment  0  0  \n",
       "29 3.440675 3.510047 3.367725 Functional\\nImpairment  1  0  \n",
       "30 3.340616 3.409120 3.266490 Functional\\nImpairment  2  0  \n",
       "⋮  ⋮        ⋮        ⋮        ⋮                      ⋮   ⋮  \n",
       "52 2.655698 2.896229 2.443145 Functional\\nImpairment 12  1  \n",
       "53 2.569435 2.827084 2.345615 Functional\\nImpairment 13  1  \n",
       "54 2.483200 2.753332 2.243489 Functional\\nImpairment 14  1  \n",
       "55 3.438731 3.492981 3.388180 Life\\nDissatisfaction   0  0  \n",
       "56 3.370694 3.424428 3.322773 Life\\nDissatisfaction   1  0  \n",
       "57 3.302718 3.356221 3.255502 Life\\nDissatisfaction   2  0  \n",
       "58 3.235731 3.287373 3.187119 Life\\nDissatisfaction   3  0  \n",
       "59 3.168311 3.219831 3.118444 Life\\nDissatisfaction   4  0  \n",
       "60 3.099791 3.154572 3.048818 Life\\nDissatisfaction   5  0  \n",
       "61 3.032064 3.088423 2.979313 Life\\nDissatisfaction   6  0  \n",
       "62 2.964457 3.023936 2.909195 Life\\nDissatisfaction   7  0  \n",
       "63 2.896684 2.960241 2.837742 Life\\nDissatisfaction   8  0  \n",
       "64 2.829333 2.898639 2.764861 Life\\nDissatisfaction   9  0  \n",
       "65 2.761831 2.836762 2.691551 Life\\nDissatisfaction  10  0  \n",
       "66 2.694061 2.773180 2.619448 Life\\nDissatisfaction  11  0  \n",
       "67 3.557900 3.678540 3.445957 Life\\nDissatisfaction   0  1  \n",
       "68 3.501611 3.616727 3.389634 Life\\nDissatisfaction   1  1  \n",
       "69 3.445985 3.556513 3.337652 Life\\nDissatisfaction   2  1  \n",
       "70 3.388164 3.499823 3.282772 Life\\nDissatisfaction   3  1  \n",
       "71 3.331572 3.440054 3.221824 Life\\nDissatisfaction   4  1  \n",
       "72 3.274388 3.383312 3.157023 Life\\nDissatisfaction   5  1  \n",
       "73 3.217631 3.330683 3.093444 Life\\nDissatisfaction   6  1  \n",
       "74 3.162540 3.276977 3.025960 Life\\nDissatisfaction   7  1  \n",
       "75 3.107158 3.229115 2.958397 Life\\nDissatisfaction   8  1  \n",
       "76 3.051181 3.182523 2.894487 Life\\nDissatisfaction   9  1  \n",
       "77 2.993901 3.132635 2.827182 Life\\nDissatisfaction  10  1  \n",
       "78 2.937712 3.080480 2.760384 Life\\nDissatisfaction  11  1  \n",
       "79 2.881368 3.032585 2.694000 Life\\nDissatisfaction  12  1  \n",
       "80 2.824037 2.988748 2.625273 Life\\nDissatisfaction  13  1  \n",
       "81 2.766559 2.946320 2.557846 Life\\nDissatisfaction  14  1  "
      ]
     },
     "metadata": {},
     "output_type": "display_data"
    }
   ],
   "source": [
    "pred_bpd = rbind(pred_bpd_dep, pred_bpd_fun, pred_bpd_well)\n",
    "pred_bpd$day = c(c(0:11),c(0:14))\n",
    "pred_bpd$bpd = c(rep(0,12), rep(1,15))\n",
    "pred_bpd\n"
   ]
  },
  {
   "cell_type": "code",
   "execution_count": 42,
   "id": "threatened-newport",
   "metadata": {
    "scrolled": false
   },
   "outputs": [
    {
     "data": {
      "image/png": "[encoded data removed]",
      "text/plain": [
       "plot without title"
      ]
     },
     "metadata": {
      "image/png": {
       "height": 420,
       "width": 420
      }
     },
     "output_type": "display_data"
    }
   ],
   "source": [
    "ggplot(pred_bpd , aes(x = day, y = fit, group = bpd, color = as.factor(bpd))) +\n",
    "     geom_point(size = 10) +\n",
    "     geom_ribbon(aes(ymin = lwr, ymax = upr, color = NULL, fill = as.factor(bpd)), alpha = .3) +\n",
    "     geom_line(aes(y = fit), size = 6) + \n",
    "     facet_grid(~var) +\n",
    "     theme_classic() + \n",
    "     xlab('Day') + \n",
    "     ylab('Predictive Score') +\n",
    "     scale_color_manual('Comorbidity',values = c('#3F3F3F','#B22F4A'),labels=c(\"BPD Absent\",\"BPD Present\")) + \n",
    "     scale_fill_manual('Comorbidity', values = c('#3F3F3F','#B22F4A'),labels=c(\"BPD Absent\",\"BPD Present\")) +\n",
    "     theme(\n",
    "         strip.text.x = element_text(size = 90, face = 'bold'),\n",
    "         title = element_text(size = 88, face = 'bold'),\n",
    "         legend.text = element_text(size = 86),\n",
    "         axis.title = element_text(size = 88, face = 'bold'),\n",
    "         axis.text = element_text(size = 86),\n",
    "         text=element_text(family=\"Helvetica\"))\n",
    "         \n",
    "ggsave(width = 40, height = 40, filename = \"Results.pdf\")"
   ]
  },
  {
   "cell_type": "code",
   "execution_count": 60,
   "id": "portable-george",
   "metadata": {},
   "outputs": [
    {
     "ename": "ERROR",
     "evalue": "Error in eval(expr, envir, enclos): object 'pred_bpd' not found\n",
     "output_type": "error",
     "traceback": [
      "Error in eval(expr, envir, enclos): object 'pred_bpd' not found\nTraceback:\n"
     ]
    }
   ],
   "source": [
    "pred_bpd"
   ]
  },
  {
   "cell_type": "code",
   "execution_count": null,
   "id": "romantic-division",
   "metadata": {},
   "outputs": [],
   "source": []
  }
 ],
 "metadata": {
  "kernelspec": {
   "display_name": "R",
   "language": "R",
   "name": "ir"
  },
  "language_info": {
   "codemirror_mode": "r",
   "file_extension": ".r",
   "mimetype": "text/x-r-source",
   "name": "R",
   "pygments_lexer": "r",
   "version": "3.6.3"
  }
 },
 "nbformat": 4,
 "nbformat_minor": 5
}
