{
 "cells": [
  {
   "cell_type": "markdown",
   "id": "median-burden",
   "metadata": {},
   "source": [
    "# Does Boderline Personality Disorder Affect the Treatment Trajectories of Patients with a Primary Diagnosis of Major Depressive Disorder?\n",
    "\n",
    "We used multilevel modeling to investigate the treatment trejactory differences in patients with or without comorbid borderline personality disorder. "
   ]
  },
  {
   "cell_type": "markdown",
   "id": "rolled-paste",
   "metadata": {},
   "source": [
    "## Load Pacakges"
   ]
  },
  {
   "cell_type": "code",
   "execution_count": 1,
   "id": "suitable-citizen",
   "metadata": {},
   "outputs": [
    {
     "name": "stderr",
     "output_type": "stream",
     "text": [
      "\n",
      "Attaching package: ‘dplyr’\n",
      "\n",
      "\n",
      "The following objects are masked from ‘package:stats’:\n",
      "\n",
      "    filter, lag\n",
      "\n",
      "\n",
      "The following objects are masked from ‘package:base’:\n",
      "\n",
      "    intersect, setdiff, setequal, union\n",
      "\n",
      "\n",
      "Loading required package: Matrix\n",
      "\n",
      "\n",
      "Attaching package: ‘nlme’\n",
      "\n",
      "\n",
      "The following object is masked from ‘package:lme4’:\n",
      "\n",
      "    lmList\n",
      "\n",
      "\n",
      "The following object is masked from ‘package:dplyr’:\n",
      "\n",
      "    collapse\n",
      "\n",
      "\n",
      "Loading required package: arm\n",
      "\n",
      "Loading required package: MASS\n",
      "\n",
      "\n",
      "Attaching package: ‘MASS’\n",
      "\n",
      "\n",
      "The following object is masked from ‘package:dplyr’:\n",
      "\n",
      "    select\n",
      "\n",
      "\n",
      "\n",
      "arm (Version 1.11-2, built: 2020-7-27)\n",
      "\n",
      "\n",
      "Working directory is /Users/catcat/Desktop/GitHub/phpTxOutcome/Code/MDD_BPD_Longitudinal\n",
      "\n",
      "\n",
      "Registered S3 method overwritten by 'broom.mixed':\n",
      "  method      from \n",
      "  tidy.gamlss broom\n",
      "\n",
      "\n",
      "Attaching package: ‘lmerTest’\n",
      "\n",
      "\n",
      "The following object is masked from ‘package:lme4’:\n",
      "\n",
      "    lmer\n",
      "\n",
      "\n",
      "The following object is masked from ‘package:stats’:\n",
      "\n",
      "    step\n",
      "\n",
      "\n",
      "Loading required package: msm\n",
      "\n",
      "Loading required package: polycor\n",
      "\n",
      "\n",
      "Attaching package: ‘performance’\n",
      "\n",
      "\n",
      "The following object is masked from ‘package:arm’:\n",
      "\n",
      "    display\n",
      "\n",
      "\n"
     ]
    }
   ],
   "source": [
    "library('foreign')\n",
    "library('dplyr')\n",
    "library('lme4')\n",
    "library('nlme')\n",
    "library('merTools')\n",
    "library('lmerTest')\n",
    "library('ltm')\n",
    "library('performance')\n",
    "library('ggplot2')"
   ]
  },
  {
   "cell_type": "markdown",
   "id": "outside-measurement",
   "metadata": {},
   "source": [
    "## Load Data"
   ]
  },
  {
   "cell_type": "code",
   "execution_count": 2,
   "id": "musical-concept",
   "metadata": {
    "scrolled": true
   },
   "outputs": [
    {
     "name": "stderr",
     "output_type": "stream",
     "text": [
      "Warning message in read.spss(\"../../Data/DemosDx/Diagnosis_1.sav\", to.data.frame = T):\n",
      "“../../Data/DemosDx/Diagnosis_1.sav: Long string value labels record found (record type 7, subtype 21), but ignored”\n",
      "Warning message in read.spss(\"../../Data/DemosDx/Diagnosis_1.sav\", to.data.frame = T):\n",
      "“Undeclared level(s) 22 added in variable: eatnos_1”\n",
      "Warning message in read.spss(\"../../Data/DemosDx/Diagnosis_1.sav\", to.data.frame = T):\n",
      "“Undeclared level(s) 10 added in variable: addhpr_1”\n"
     ]
    }
   ],
   "source": [
    "dfLong = read.csv('../../Data/daily_dfLong.csv')\n",
    "dx = read.spss('../../Data/DemosDx/Diagnosis_1.sav',to.data.frame = T)\n",
    "#Ignore the undeclared levels. The sav file was not prepared by me."
   ]
  },
  {
   "cell_type": "markdown",
   "id": "abroad-surprise",
   "metadata": {},
   "source": [
    "## Examine Data Characteristics"
   ]
  },
  {
   "cell_type": "code",
   "execution_count": 4,
   "id": "innocent-solution",
   "metadata": {},
   "outputs": [],
   "source": [
    "#Number of comorbid psychiatric diagnoses\n",
    "dx$comorbidity = \n",
    "dx[,5:124] %>%\n",
    "dplyr::select(-contains('nos'))%>% #exclude \"not otherwise specified\" diagnoses\n",
    "mutate_all(~ifelse(grepl('Curr',.),1, 0)) %>% #focuse on \"current\" diagnoses \n",
    "rowSums()"
   ]
  },
  {
   "cell_type": "code",
   "execution_count": 6,
   "id": "declared-continuity",
   "metadata": {},
   "outputs": [],
   "source": [
    "#Find people with MDD as their principle diagnoses\n",
    "dx_mddPrin = \n",
    "dx %>%\n",
    "filter(grepl('Prin',mddsp_1)|grepl('Prin',mddsnp_1)|grepl('Prin', mddrp_1)|grepl('Prin',mddrnp_1))%>%\n",
    "mutate(bpd = ifelse(grepl('Curr', bord_1), 1, 0))"
   ]
  },
  {
   "cell_type": "code",
   "execution_count": 7,
   "id": "excess-factory",
   "metadata": {
    "scrolled": true
   },
   "outputs": [
    {
     "data": {
      "text/html": [
       "<table class=\"dataframe\">\n",
       "<caption>A data.frame: 109 × 2</caption>\n",
       "<thead>\n",
       "\t<tr><th></th><th scope=col>names.rank.</th><th scope=col>rank</th></tr>\n",
       "\t<tr><th></th><th scope=col>&lt;fct&gt;</th><th scope=col>&lt;dbl&gt;</th></tr>\n",
       "</thead>\n",
       "<tbody>\n",
       "\t<tr><th scope=row>mddrnp_1</th><td>mddrnp_1</td><td>2706</td></tr>\n",
       "\t<tr><th scope=row>gad4_1</th><td>gad4_1  </td><td>1603</td></tr>\n",
       "\t<tr><th scope=row>ptsd4_1</th><td>ptsd4_1 </td><td> 999</td></tr>\n",
       "\t<tr><th scope=row>bord_1</th><td>bord_1  </td><td> 672</td></tr>\n",
       "\t<tr><th scope=row>socal4_1</th><td>socal4_1</td><td> 670</td></tr>\n",
       "\t<tr><th scope=row>mddsnp_1</th><td>mddsnp_1</td><td> 361</td></tr>\n",
       "\t<tr><th scope=row>dysth_1</th><td>dysth_1 </td><td> 352</td></tr>\n",
       "\t<tr><th scope=row>pda_1</th><td>pda_1   </td><td> 339</td></tr>\n",
       "\t<tr><th scope=row>panic_1</th><td>panic_1 </td><td> 299</td></tr>\n",
       "\t<tr><th scope=row>etohab_1</th><td>etohab_1</td><td> 261</td></tr>\n",
       "\t<tr><th scope=row>mjab_1</th><td>mjab_1  </td><td> 261</td></tr>\n",
       "\t<tr><th scope=row>addatt_1</th><td>addatt_1</td><td> 225</td></tr>\n",
       "\t<tr><th scope=row>addcom_1</th><td>addcom_1</td><td> 175</td></tr>\n",
       "\t<tr><th scope=row>ocd4_1</th><td>ocd4_1  </td><td> 159</td></tr>\n",
       "\t<tr><th scope=row>subpts_1</th><td>subpts_1</td><td> 148</td></tr>\n",
       "\t<tr><th scope=row>mddrp_1</th><td>mddrp_1 </td><td> 143</td></tr>\n",
       "\t<tr><th scope=row>spec4_1</th><td>spec4_1 </td><td> 133</td></tr>\n",
       "\t<tr><th scope=row>etohdp_1</th><td>etohdp_1</td><td> 125</td></tr>\n",
       "\t<tr><th scope=row>mjdep_1</th><td>mjdep_1 </td><td>  90</td></tr>\n",
       "\t<tr><th scope=row>binge_1</th><td>binge_1 </td><td>  85</td></tr>\n",
       "\t<tr><th scope=row>anxoth_1</th><td>anxoth_1</td><td>  79</td></tr>\n",
       "\t<tr><th scope=row>subgad_1</th><td>subgad_1</td><td>  65</td></tr>\n",
       "\t<tr><th scope=row>ied_1</th><td>ied_1   </td><td>  38</td></tr>\n",
       "\t<tr><th scope=row>bdd_1</th><td>bdd_1   </td><td>  35</td></tr>\n",
       "\t<tr><th scope=row>awopd_1</th><td>awopd_1 </td><td>  34</td></tr>\n",
       "\t<tr><th scope=row>trich_1</th><td>trich_1 </td><td>  33</td></tr>\n",
       "\t<tr><th scope=row>cbuy_1</th><td>cbuy_1  </td><td>  33</td></tr>\n",
       "\t<tr><th scope=row>mddsp_1</th><td>mddsp_1 </td><td>  29</td></tr>\n",
       "\t<tr><th scope=row>subpan_1</th><td>subpan_1</td><td>  27</td></tr>\n",
       "\t<tr><th scope=row>cokeab_1</th><td>cokeab_1</td><td>  25</td></tr>\n",
       "\t<tr><th scope=row>⋮</th><td>⋮</td><td>⋮</td></tr>\n",
       "\t<tr><th scope=row>zoid_1</th><td>zoid_1  </td><td>2</td></tr>\n",
       "\t<tr><th scope=row>delus_1</th><td>delus_1 </td><td>1</td></tr>\n",
       "\t<tr><th scope=row>gmcful_1</th><td>gmcful_1</td><td>1</td></tr>\n",
       "\t<tr><th scope=row>bp2dep_1</th><td>bp2dep_1</td><td>1</td></tr>\n",
       "\t<tr><th scope=row>ocdm_1</th><td>ocdm_1  </td><td>1</td></tr>\n",
       "\t<tr><th scope=row>ptsdm_1</th><td>ptsdm_1 </td><td>1</td></tr>\n",
       "\t<tr><th scope=row>para_1</th><td>para_1  </td><td>1</td></tr>\n",
       "\t<tr><th scope=row>anti_1</th><td>anti_1  </td><td>1</td></tr>\n",
       "\t<tr><th scope=row>narc_1</th><td>narc_1  </td><td>1</td></tr>\n",
       "\t<tr><th scope=row>haldep_1</th><td>haldep_1</td><td>0</td></tr>\n",
       "\t<tr><th scope=row>inhdep_1</th><td>inhdep_1</td><td>0</td></tr>\n",
       "\t<tr><th scope=row>pcpab_1</th><td>pcpab_1 </td><td>0</td></tr>\n",
       "\t<tr><th scope=row>pcpdep_1</th><td>pcpdep_1</td><td>0</td></tr>\n",
       "\t<tr><th scope=row>z_1</th><td>z_1     </td><td>0</td></tr>\n",
       "\t<tr><th scope=row>zform_1</th><td>zform_1 </td><td>0</td></tr>\n",
       "\t<tr><th scope=row>adjcnd_1</th><td>adjcnd_1</td><td>0</td></tr>\n",
       "\t<tr><th scope=row>adjun_1</th><td>adjun_1 </td><td>0</td></tr>\n",
       "\t<tr><th scope=row>gmcprt_1</th><td>gmcprt_1</td><td>0</td></tr>\n",
       "\t<tr><th scope=row>bp1hyp_1</th><td>bp1hyp_1</td><td>0</td></tr>\n",
       "\t<tr><th scope=row>bp1man_1</th><td>bp1man_1</td><td>0</td></tr>\n",
       "\t<tr><th scope=row>bp1mix_1</th><td>bp1mix_1</td><td>0</td></tr>\n",
       "\t<tr><th scope=row>bp1dpp_1</th><td>bp1dpp_1</td><td>0</td></tr>\n",
       "\t<tr><th scope=row>bp1dnp_1</th><td>bp1dnp_1</td><td>0</td></tr>\n",
       "\t<tr><th scope=row>bp2hyp_1</th><td>bp2hyp_1</td><td>0</td></tr>\n",
       "\t<tr><th scope=row>bp2mix_1</th><td>bp2mix_1</td><td>0</td></tr>\n",
       "\t<tr><th scope=row>bpmod_1</th><td>bpmod_1 </td><td>0</td></tr>\n",
       "\t<tr><th scope=row>cyclo_1</th><td>cyclo_1 </td><td>0</td></tr>\n",
       "\t<tr><th scope=row>specm_1</th><td>specm_1 </td><td>0</td></tr>\n",
       "\t<tr><th scope=row>pyro_1</th><td>pyro_1  </td><td>0</td></tr>\n",
       "\t<tr><th scope=row>condct_1</th><td>condct_1</td><td>0</td></tr>\n",
       "</tbody>\n",
       "</table>\n"
      ],
      "text/latex": [
       "A data.frame: 109 × 2\n",
       "\\begin{tabular}{r|ll}\n",
       "  & names.rank. & rank\\\\\n",
       "  & <fct> & <dbl>\\\\\n",
       "\\hline\n",
       "\tmddrnp\\_1 & mddrnp\\_1 & 2706\\\\\n",
       "\tgad4\\_1 & gad4\\_1   & 1603\\\\\n",
       "\tptsd4\\_1 & ptsd4\\_1  &  999\\\\\n",
       "\tbord\\_1 & bord\\_1   &  672\\\\\n",
       "\tsocal4\\_1 & socal4\\_1 &  670\\\\\n",
       "\tmddsnp\\_1 & mddsnp\\_1 &  361\\\\\n",
       "\tdysth\\_1 & dysth\\_1  &  352\\\\\n",
       "\tpda\\_1 & pda\\_1    &  339\\\\\n",
       "\tpanic\\_1 & panic\\_1  &  299\\\\\n",
       "\tetohab\\_1 & etohab\\_1 &  261\\\\\n",
       "\tmjab\\_1 & mjab\\_1   &  261\\\\\n",
       "\taddatt\\_1 & addatt\\_1 &  225\\\\\n",
       "\taddcom\\_1 & addcom\\_1 &  175\\\\\n",
       "\tocd4\\_1 & ocd4\\_1   &  159\\\\\n",
       "\tsubpts\\_1 & subpts\\_1 &  148\\\\\n",
       "\tmddrp\\_1 & mddrp\\_1  &  143\\\\\n",
       "\tspec4\\_1 & spec4\\_1  &  133\\\\\n",
       "\tetohdp\\_1 & etohdp\\_1 &  125\\\\\n",
       "\tmjdep\\_1 & mjdep\\_1  &   90\\\\\n",
       "\tbinge\\_1 & binge\\_1  &   85\\\\\n",
       "\tanxoth\\_1 & anxoth\\_1 &   79\\\\\n",
       "\tsubgad\\_1 & subgad\\_1 &   65\\\\\n",
       "\tied\\_1 & ied\\_1    &   38\\\\\n",
       "\tbdd\\_1 & bdd\\_1    &   35\\\\\n",
       "\tawopd\\_1 & awopd\\_1  &   34\\\\\n",
       "\ttrich\\_1 & trich\\_1  &   33\\\\\n",
       "\tcbuy\\_1 & cbuy\\_1   &   33\\\\\n",
       "\tmddsp\\_1 & mddsp\\_1  &   29\\\\\n",
       "\tsubpan\\_1 & subpan\\_1 &   27\\\\\n",
       "\tcokeab\\_1 & cokeab\\_1 &   25\\\\\n",
       "\t⋮ & ⋮ & ⋮\\\\\n",
       "\tzoid\\_1 & zoid\\_1   & 2\\\\\n",
       "\tdelus\\_1 & delus\\_1  & 1\\\\\n",
       "\tgmcful\\_1 & gmcful\\_1 & 1\\\\\n",
       "\tbp2dep\\_1 & bp2dep\\_1 & 1\\\\\n",
       "\tocdm\\_1 & ocdm\\_1   & 1\\\\\n",
       "\tptsdm\\_1 & ptsdm\\_1  & 1\\\\\n",
       "\tpara\\_1 & para\\_1   & 1\\\\\n",
       "\tanti\\_1 & anti\\_1   & 1\\\\\n",
       "\tnarc\\_1 & narc\\_1   & 1\\\\\n",
       "\thaldep\\_1 & haldep\\_1 & 0\\\\\n",
       "\tinhdep\\_1 & inhdep\\_1 & 0\\\\\n",
       "\tpcpab\\_1 & pcpab\\_1  & 0\\\\\n",
       "\tpcpdep\\_1 & pcpdep\\_1 & 0\\\\\n",
       "\tz\\_1 & z\\_1      & 0\\\\\n",
       "\tzform\\_1 & zform\\_1  & 0\\\\\n",
       "\tadjcnd\\_1 & adjcnd\\_1 & 0\\\\\n",
       "\tadjun\\_1 & adjun\\_1  & 0\\\\\n",
       "\tgmcprt\\_1 & gmcprt\\_1 & 0\\\\\n",
       "\tbp1hyp\\_1 & bp1hyp\\_1 & 0\\\\\n",
       "\tbp1man\\_1 & bp1man\\_1 & 0\\\\\n",
       "\tbp1mix\\_1 & bp1mix\\_1 & 0\\\\\n",
       "\tbp1dpp\\_1 & bp1dpp\\_1 & 0\\\\\n",
       "\tbp1dnp\\_1 & bp1dnp\\_1 & 0\\\\\n",
       "\tbp2hyp\\_1 & bp2hyp\\_1 & 0\\\\\n",
       "\tbp2mix\\_1 & bp2mix\\_1 & 0\\\\\n",
       "\tbpmod\\_1 & bpmod\\_1  & 0\\\\\n",
       "\tcyclo\\_1 & cyclo\\_1  & 0\\\\\n",
       "\tspecm\\_1 & specm\\_1  & 0\\\\\n",
       "\tpyro\\_1 & pyro\\_1   & 0\\\\\n",
       "\tcondct\\_1 & condct\\_1 & 0\\\\\n",
       "\\end{tabular}\n"
      ],
      "text/markdown": [
       "\n",
       "A data.frame: 109 × 2\n",
       "\n",
       "| <!--/--> | names.rank. &lt;fct&gt; | rank &lt;dbl&gt; |\n",
       "|---|---|---|\n",
       "| mddrnp_1 | mddrnp_1 | 2706 |\n",
       "| gad4_1 | gad4_1   | 1603 |\n",
       "| ptsd4_1 | ptsd4_1  |  999 |\n",
       "| bord_1 | bord_1   |  672 |\n",
       "| socal4_1 | socal4_1 |  670 |\n",
       "| mddsnp_1 | mddsnp_1 |  361 |\n",
       "| dysth_1 | dysth_1  |  352 |\n",
       "| pda_1 | pda_1    |  339 |\n",
       "| panic_1 | panic_1  |  299 |\n",
       "| etohab_1 | etohab_1 |  261 |\n",
       "| mjab_1 | mjab_1   |  261 |\n",
       "| addatt_1 | addatt_1 |  225 |\n",
       "| addcom_1 | addcom_1 |  175 |\n",
       "| ocd4_1 | ocd4_1   |  159 |\n",
       "| subpts_1 | subpts_1 |  148 |\n",
       "| mddrp_1 | mddrp_1  |  143 |\n",
       "| spec4_1 | spec4_1  |  133 |\n",
       "| etohdp_1 | etohdp_1 |  125 |\n",
       "| mjdep_1 | mjdep_1  |   90 |\n",
       "| binge_1 | binge_1  |   85 |\n",
       "| anxoth_1 | anxoth_1 |   79 |\n",
       "| subgad_1 | subgad_1 |   65 |\n",
       "| ied_1 | ied_1    |   38 |\n",
       "| bdd_1 | bdd_1    |   35 |\n",
       "| awopd_1 | awopd_1  |   34 |\n",
       "| trich_1 | trich_1  |   33 |\n",
       "| cbuy_1 | cbuy_1   |   33 |\n",
       "| mddsp_1 | mddsp_1  |   29 |\n",
       "| subpan_1 | subpan_1 |   27 |\n",
       "| cokeab_1 | cokeab_1 |   25 |\n",
       "| ⋮ | ⋮ | ⋮ |\n",
       "| zoid_1 | zoid_1   | 2 |\n",
       "| delus_1 | delus_1  | 1 |\n",
       "| gmcful_1 | gmcful_1 | 1 |\n",
       "| bp2dep_1 | bp2dep_1 | 1 |\n",
       "| ocdm_1 | ocdm_1   | 1 |\n",
       "| ptsdm_1 | ptsdm_1  | 1 |\n",
       "| para_1 | para_1   | 1 |\n",
       "| anti_1 | anti_1   | 1 |\n",
       "| narc_1 | narc_1   | 1 |\n",
       "| haldep_1 | haldep_1 | 0 |\n",
       "| inhdep_1 | inhdep_1 | 0 |\n",
       "| pcpab_1 | pcpab_1  | 0 |\n",
       "| pcpdep_1 | pcpdep_1 | 0 |\n",
       "| z_1 | z_1      | 0 |\n",
       "| zform_1 | zform_1  | 0 |\n",
       "| adjcnd_1 | adjcnd_1 | 0 |\n",
       "| adjun_1 | adjun_1  | 0 |\n",
       "| gmcprt_1 | gmcprt_1 | 0 |\n",
       "| bp1hyp_1 | bp1hyp_1 | 0 |\n",
       "| bp1man_1 | bp1man_1 | 0 |\n",
       "| bp1mix_1 | bp1mix_1 | 0 |\n",
       "| bp1dpp_1 | bp1dpp_1 | 0 |\n",
       "| bp1dnp_1 | bp1dnp_1 | 0 |\n",
       "| bp2hyp_1 | bp2hyp_1 | 0 |\n",
       "| bp2mix_1 | bp2mix_1 | 0 |\n",
       "| bpmod_1 | bpmod_1  | 0 |\n",
       "| cyclo_1 | cyclo_1  | 0 |\n",
       "| specm_1 | specm_1  | 0 |\n",
       "| pyro_1 | pyro_1   | 0 |\n",
       "| condct_1 | condct_1 | 0 |\n",
       "\n"
      ],
      "text/plain": [
       "         names.rank. rank\n",
       "mddrnp_1 mddrnp_1    2706\n",
       "gad4_1   gad4_1      1603\n",
       "ptsd4_1  ptsd4_1      999\n",
       "bord_1   bord_1       672\n",
       "socal4_1 socal4_1     670\n",
       "mddsnp_1 mddsnp_1     361\n",
       "dysth_1  dysth_1      352\n",
       "pda_1    pda_1        339\n",
       "panic_1  panic_1      299\n",
       "etohab_1 etohab_1     261\n",
       "mjab_1   mjab_1       261\n",
       "addatt_1 addatt_1     225\n",
       "addcom_1 addcom_1     175\n",
       "ocd4_1   ocd4_1       159\n",
       "subpts_1 subpts_1     148\n",
       "mddrp_1  mddrp_1      143\n",
       "spec4_1  spec4_1      133\n",
       "etohdp_1 etohdp_1     125\n",
       "mjdep_1  mjdep_1       90\n",
       "binge_1  binge_1       85\n",
       "anxoth_1 anxoth_1      79\n",
       "subgad_1 subgad_1      65\n",
       "ied_1    ied_1         38\n",
       "bdd_1    bdd_1         35\n",
       "awopd_1  awopd_1       34\n",
       "trich_1  trich_1       33\n",
       "cbuy_1   cbuy_1        33\n",
       "mddsp_1  mddsp_1       29\n",
       "subpan_1 subpan_1      27\n",
       "cokeab_1 cokeab_1      25\n",
       "⋮        ⋮           ⋮   \n",
       "zoid_1   zoid_1      2   \n",
       "delus_1  delus_1     1   \n",
       "gmcful_1 gmcful_1    1   \n",
       "bp2dep_1 bp2dep_1    1   \n",
       "ocdm_1   ocdm_1      1   \n",
       "ptsdm_1  ptsdm_1     1   \n",
       "para_1   para_1      1   \n",
       "anti_1   anti_1      1   \n",
       "narc_1   narc_1      1   \n",
       "haldep_1 haldep_1    0   \n",
       "inhdep_1 inhdep_1    0   \n",
       "pcpab_1  pcpab_1     0   \n",
       "pcpdep_1 pcpdep_1    0   \n",
       "z_1      z_1         0   \n",
       "zform_1  zform_1     0   \n",
       "adjcnd_1 adjcnd_1    0   \n",
       "adjun_1  adjun_1     0   \n",
       "gmcprt_1 gmcprt_1    0   \n",
       "bp1hyp_1 bp1hyp_1    0   \n",
       "bp1man_1 bp1man_1    0   \n",
       "bp1mix_1 bp1mix_1    0   \n",
       "bp1dpp_1 bp1dpp_1    0   \n",
       "bp1dnp_1 bp1dnp_1    0   \n",
       "bp2hyp_1 bp2hyp_1    0   \n",
       "bp2mix_1 bp2mix_1    0   \n",
       "bpmod_1  bpmod_1     0   \n",
       "cyclo_1  cyclo_1     0   \n",
       "specm_1  specm_1     0   \n",
       "pyro_1   pyro_1      0   \n",
       "condct_1 condct_1    0   "
      ]
     },
     "metadata": {},
     "output_type": "display_data"
    }
   ],
   "source": [
    "#Find most prevalent cormorbid disorders\n",
    "rank = \n",
    "dx_mddPrin[,5:124] %>%\n",
    "dplyr::select(-contains('nos'))%>%\n",
    "mutate_all(~ifelse(grepl('Curr',.),1, 0)) %>%\n",
    "colSums()\n",
    "\n",
    "dx_rank = data.frame(names(rank),  rank)\n",
    "dx_rank[order(dx_rank$rank,decreasing = T),]"
   ]
  },
  {
   "cell_type": "code",
   "execution_count": 8,
   "id": "bronze-mission",
   "metadata": {},
   "outputs": [
    {
     "data": {
      "text/html": [
       "1667"
      ],
      "text/latex": [
       "1667"
      ],
      "text/markdown": [
       "1667"
      ],
      "text/plain": [
       "[1] 1667"
      ]
     },
     "metadata": {},
     "output_type": "display_data"
    }
   ],
   "source": [
    "#Merge daily data with dx\n",
    "dfLongMDD = merge(dfLong, dx_mddPrin, by = 'ID1',all = F,no.dups = TRUE)\n",
    "\n",
    "dfLongMDD = dfLongMDD[order(dfLongMDD$ID1, dfLongMDD$day),]\n",
    "length(unique(dfLongMDD$ID)) #1667"
   ]
  },
  {
   "cell_type": "markdown",
   "id": "designing-figure",
   "metadata": {},
   "source": [
    "## Descriptive Stats"
   ]
  },
  {
   "cell_type": "code",
   "execution_count": 10,
   "id": "renewable-cleveland",
   "metadata": {},
   "outputs": [],
   "source": [
    "#First sessino info\n",
    "first_session = \n",
    "dfLongMDD %>%\n",
    "    group_by(ID1) %>%\n",
    "    filter(row_number() == 1) %>%\n",
    "    ungroup()\n"
   ]
  },
  {
   "cell_type": "code",
   "execution_count": 12,
   "id": "aging-mountain",
   "metadata": {
    "scrolled": true
   },
   "outputs": [
    {
     "data": {
      "text/plain": [
       "\n",
       "                                                      0 \n",
       "                                                      0 \n",
       "                                                     11 \n",
       "                                                     17 \n",
       "                                                     12 \n",
       "                                                      7 \n",
       "Inappropriate (language)/Referred to another tx setting \n",
       "                                                     18 \n",
       "                           Insurance no longer covering \n",
       "                                                     22 \n",
       "                                          Nonattendance \n",
       "                                                    199 \n",
       "                                                  Other \n",
       "                                                     30 \n",
       "                                    Other_duplicated_10 \n",
       "                                                     10 \n",
       "                 Reported dissatisfaction, withdrew AMA \n",
       "                                                     39 \n",
       "                               Transferred to inpatient \n",
       "                                                     69 \n",
       "                                     Treatment Complete \n",
       "                                                   1087 \n",
       "                              Treatment nearly complete \n",
       "                                                     57 \n",
       "                   Withdrew due to external limitations \n",
       "                                                    112 "
      ]
     },
     "metadata": {},
     "output_type": "display_data"
    },
    {
     "data": {
      "text/plain": [
       "\n",
       "                                                      0 \n",
       "                                               0.000000 \n",
       "                                                     11 \n",
       "                                               1.019796 \n",
       "                                                     12 \n",
       "                                               0.419916 \n",
       "Inappropriate (language)/Referred to another tx setting \n",
       "                                               1.079784 \n",
       "                           Insurance no longer covering \n",
       "                                               1.319736 \n",
       "                                          Nonattendance \n",
       "                                              11.937612 \n",
       "                                                  Other \n",
       "                                               1.799640 \n",
       "                                    Other_duplicated_10 \n",
       "                                               0.599880 \n",
       "                 Reported dissatisfaction, withdrew AMA \n",
       "                                               2.339532 \n",
       "                               Transferred to inpatient \n",
       "                                               4.139172 \n",
       "                                     Treatment Complete \n",
       "                                              65.206959 \n",
       "                              Treatment nearly complete \n",
       "                                               3.419316 \n",
       "                   Withdrew due to external limitations \n",
       "                                               6.718656 "
      ]
     },
     "metadata": {},
     "output_type": "display_data"
    }
   ],
   "source": [
    "#Examine Treatment Completion Rate\n",
    "table(first_session$DC_status_1) #Treatment Completion N = 1087\n",
    "table(first_session$DC_status_1)/nrow(first_session)*100 #65.21%"
   ]
  },
  {
   "cell_type": "code",
   "execution_count": 15,
   "id": "alert-timing",
   "metadata": {
    "scrolled": true
   },
   "outputs": [
    {
     "data": {
      "text/plain": [
       "                                                         \n",
       "                                                            0   1\n",
       "  0                                                         0   0\n",
       "  11                                                        8   9\n",
       "  12                                                        5   2\n",
       "  Inappropriate (language)/Referred to another tx setting  13   5\n",
       "  Insurance no longer covering                             17   5\n",
       "  Nonattendance                                           144  55\n",
       "  Other                                                    28   2\n",
       "  Other_duplicated_10                                       6   4\n",
       "  Reported dissatisfaction, withdrew AMA                   32   7\n",
       "  Transferred to inpatient                                 39  30\n",
       "  Treatment Complete                                      893 194\n",
       "  Treatment nearly complete                                45  12\n",
       "  Withdrew due to external limitations                     91  21"
      ]
     },
     "metadata": {},
     "output_type": "display_data"
    },
    {
     "data": {
      "text/plain": [
       "            \n",
       "               0   1\n",
       "  Complete   893 194\n",
       "  Incomplete 428 152"
      ]
     },
     "metadata": {},
     "output_type": "display_data"
    },
    {
     "data": {
      "text/plain": [
       "\n",
       "Call:\n",
       "glm(formula = ifelse(first_session$DC_status_1 == \"Treatment Complete\", \n",
       "    1, 0) ~ first_session$bpd, family = \"binomial\")\n",
       "\n",
       "Deviance Residuals: \n",
       "    Min       1Q   Median       3Q      Max  \n",
       "-1.5013  -1.5013   0.8849   0.8849   1.0757  \n",
       "\n",
       "Coefficients:\n",
       "                  Estimate Std. Error z value Pr(>|z|)    \n",
       "(Intercept)        0.73546    0.05879  12.510  < 2e-16 ***\n",
       "first_session$bpd -0.49149    0.12325  -3.988 6.67e-05 ***\n",
       "---\n",
       "Signif. codes:  0 ‘***’ 0.001 ‘**’ 0.01 ‘*’ 0.05 ‘.’ 0.1 ‘ ’ 1\n",
       "\n",
       "(Dispersion parameter for binomial family taken to be 1)\n",
       "\n",
       "    Null deviance: 2154.3  on 1666  degrees of freedom\n",
       "Residual deviance: 2138.6  on 1665  degrees of freedom\n",
       "AIC: 2142.6\n",
       "\n",
       "Number of Fisher Scoring iterations: 4\n"
      ]
     },
     "metadata": {},
     "output_type": "display_data"
    }
   ],
   "source": [
    "#Treatment Completion Rate by BPD status\n",
    "table(first_session$DC_status_1, first_session$bpd)\n",
    "\n",
    "#Treatment Completion Rate by BPD status (dichotomized completion status)\n",
    "table(ifelse(first_session$DC_status_1 == 'Treatment Complete','Complete','Incomplete'), first_session$bpd)\n",
    "\n",
    "#Losgitic regression\n",
    "summary(glm(ifelse(first_session$DC_status_1 == 'Treatment Complete',1,0) ~first_session$bpd, family = 'binomial'))\n"
   ]
  },
  {
   "cell_type": "markdown",
   "id": "polar-cancellation",
   "metadata": {},
   "source": [
    "MDD Patients with BPD had a signficantly lower odds in completeing treatment"
   ]
  },
  {
   "cell_type": "code",
   "execution_count": 16,
   "id": "negative-understanding",
   "metadata": {
    "scrolled": false
   },
   "outputs": [
    {
     "data": {
      "text/plain": [
       "\n",
       "Call:\n",
       "glm(formula = ifelse(first_session$DC_status_1 == \"Treatment Complete\", \n",
       "    1, 0) ~ first_session$comorbidity, family = \"binomial\")\n",
       "\n",
       "Deviance Residuals: \n",
       "    Min       1Q   Median       3Q      Max  \n",
       "-1.5252  -1.4287   0.9050   0.9251   1.0726  \n",
       "\n",
       "Coefficients:\n",
       "                          Estimate Std. Error z value Pr(>|z|)    \n",
       "(Intercept)                0.78838    0.11301   6.976 3.03e-12 ***\n",
       "first_session$comorbidity -0.05368    0.03351  -1.602    0.109    \n",
       "---\n",
       "Signif. codes:  0 ‘***’ 0.001 ‘**’ 0.01 ‘*’ 0.05 ‘.’ 0.1 ‘ ’ 1\n",
       "\n",
       "(Dispersion parameter for binomial family taken to be 1)\n",
       "\n",
       "    Null deviance: 2154.3  on 1666  degrees of freedom\n",
       "Residual deviance: 2151.7  on 1665  degrees of freedom\n",
       "AIC: 2155.7\n",
       "\n",
       "Number of Fisher Scoring iterations: 4\n"
      ]
     },
     "metadata": {},
     "output_type": "display_data"
    }
   ],
   "source": [
    "#Treatment Completion Rate by # of Comorbidities\n",
    "summary(glm(ifelse(first_session$DC_status_1 == 'Treatment Complete',1,0) ~ first_session$comorbidity, family = 'binomial'))\n"
   ]
  },
  {
   "cell_type": "markdown",
   "id": "further-trigger",
   "metadata": {},
   "source": [
    "Number of comorbidiy does not linearly related to the odds of completion rate"
   ]
  },
  {
   "cell_type": "code",
   "execution_count": 17,
   "id": "optical-plate",
   "metadata": {},
   "outputs": [],
   "source": [
    "#Create complete sample\n",
    "completeSample = first_session[first_session$DC_status_1 == 'Treatment Complete',]"
   ]
  },
  {
   "cell_type": "code",
   "execution_count": 19,
   "id": "sorted-professor",
   "metadata": {},
   "outputs": [
    {
     "data": {
      "text/plain": [
       "\n",
       "  2  no yes \n",
       "  0 860 227 "
      ]
     },
     "metadata": {},
     "output_type": "display_data"
    },
    {
     "data": {
      "text/plain": [
       "\n",
       "        2        no       yes \n",
       "0.0000000 0.7911684 0.2088316 "
      ]
     },
     "metadata": {},
     "output_type": "display_data"
    }
   ],
   "source": [
    "#How many people were SCID'd in the complete sample\n",
    "completeSample$SCID_1[completeSample$SCID_1==2] = 'yes'\n",
    "\n",
    "table(completeSample$SCID_1)\n",
    "table(completeSample$SCID_1)/sum(table(completeSample$SCID_1))"
   ]
  },
  {
   "cell_type": "code",
   "execution_count": 21,
   "id": "prostate-election",
   "metadata": {
    "scrolled": true
   },
   "outputs": [
    {
     "data": {
      "text/plain": [
       "\n",
       "  0   1 \n",
       "893 194 "
      ]
     },
     "metadata": {},
     "output_type": "display_data"
    },
    {
     "data": {
      "text/html": [
       "0.178472861085557"
      ],
      "text/latex": [
       "0.178472861085557"
      ],
      "text/markdown": [
       "0.178472861085557"
      ],
      "text/plain": [
       "[1] 0.1784729"
      ]
     },
     "metadata": {},
     "output_type": "display_data"
    }
   ],
   "source": [
    "#How many people had comorbid BPD in the complete sample\n",
    "table(completeSample$bpd)\n",
    "\n",
    "194/(893+194)"
   ]
  },
  {
   "cell_type": "code",
   "execution_count": 22,
   "id": "solved-stream",
   "metadata": {},
   "outputs": [
    {
     "data": {
      "text/plain": [
       "\n",
       "  0   1   2   3   4   5   6   7   8   9  10 \n",
       "  7 160 323 270 181  79  40  19   4   3   1 "
      ]
     },
     "metadata": {},
     "output_type": "display_data"
    },
    {
     "data": {
      "text/html": [
       "2.92272309107636"
      ],
      "text/latex": [
       "2.92272309107636"
      ],
      "text/markdown": [
       "2.92272309107636"
      ],
      "text/plain": [
       "[1] 2.922723"
      ]
     },
     "metadata": {},
     "output_type": "display_data"
    },
    {
     "data": {
      "text/html": [
       "1.49815993327875"
      ],
      "text/latex": [
       "1.49815993327875"
      ],
      "text/markdown": [
       "1.49815993327875"
      ],
      "text/plain": [
       "[1] 1.49816"
      ]
     },
     "metadata": {},
     "output_type": "display_data"
    }
   ],
   "source": [
    "#Comorbidity rates in the complete sample \n",
    "table(completeSample$comorbidity)\n",
    "mean(completeSample$comorbidity) #Mean number of comorbid psychiatric diagnoses: 2.75\n",
    "sd(completeSample$comorbidity) #SD: 1.50"
   ]
  },
  {
   "cell_type": "code",
   "execution_count": 23,
   "id": "nutritional-angle",
   "metadata": {},
   "outputs": [
    {
     "data": {
      "text/html": [
       "<table class=\"dataframe\">\n",
       "<caption>A data.frame: 10 × 3</caption>\n",
       "<thead>\n",
       "\t<tr><th></th><th scope=col>names.rank.</th><th scope=col>rank</th><th scope=col>rank.nrow.completeSample.</th></tr>\n",
       "\t<tr><th></th><th scope=col>&lt;fct&gt;</th><th scope=col>&lt;dbl&gt;</th><th scope=col>&lt;dbl&gt;</th></tr>\n",
       "</thead>\n",
       "<tbody>\n",
       "\t<tr><th scope=row>mddrnp_1</th><td>mddrnp_1</td><td>891</td><td>0.81968721</td></tr>\n",
       "\t<tr><th scope=row>gad4_1</th><td>gad4_1  </td><td>479</td><td>0.44066237</td></tr>\n",
       "\t<tr><th scope=row>ptsd4_1</th><td>ptsd4_1 </td><td>283</td><td>0.26034959</td></tr>\n",
       "\t<tr><th scope=row>bord_1</th><td>bord_1  </td><td>194</td><td>0.17847286</td></tr>\n",
       "\t<tr><th scope=row>socal4_1</th><td>socal4_1</td><td>178</td><td>0.16375345</td></tr>\n",
       "\t<tr><th scope=row>mddsnp_1</th><td>mddsnp_1</td><td>110</td><td>0.10119595</td></tr>\n",
       "\t<tr><th scope=row>etohab_1</th><td>etohab_1</td><td> 93</td><td>0.08555658</td></tr>\n",
       "\t<tr><th scope=row>panic_1</th><td>panic_1 </td><td> 92</td><td>0.08463661</td></tr>\n",
       "\t<tr><th scope=row>pda_1</th><td>pda_1   </td><td> 90</td><td>0.08279669</td></tr>\n",
       "\t<tr><th scope=row>mjab_1</th><td>mjab_1  </td><td> 82</td><td>0.07543698</td></tr>\n",
       "</tbody>\n",
       "</table>\n"
      ],
      "text/latex": [
       "A data.frame: 10 × 3\n",
       "\\begin{tabular}{r|lll}\n",
       "  & names.rank. & rank & rank.nrow.completeSample.\\\\\n",
       "  & <fct> & <dbl> & <dbl>\\\\\n",
       "\\hline\n",
       "\tmddrnp\\_1 & mddrnp\\_1 & 891 & 0.81968721\\\\\n",
       "\tgad4\\_1 & gad4\\_1   & 479 & 0.44066237\\\\\n",
       "\tptsd4\\_1 & ptsd4\\_1  & 283 & 0.26034959\\\\\n",
       "\tbord\\_1 & bord\\_1   & 194 & 0.17847286\\\\\n",
       "\tsocal4\\_1 & socal4\\_1 & 178 & 0.16375345\\\\\n",
       "\tmddsnp\\_1 & mddsnp\\_1 & 110 & 0.10119595\\\\\n",
       "\tetohab\\_1 & etohab\\_1 &  93 & 0.08555658\\\\\n",
       "\tpanic\\_1 & panic\\_1  &  92 & 0.08463661\\\\\n",
       "\tpda\\_1 & pda\\_1    &  90 & 0.08279669\\\\\n",
       "\tmjab\\_1 & mjab\\_1   &  82 & 0.07543698\\\\\n",
       "\\end{tabular}\n"
      ],
      "text/markdown": [
       "\n",
       "A data.frame: 10 × 3\n",
       "\n",
       "| <!--/--> | names.rank. &lt;fct&gt; | rank &lt;dbl&gt; | rank.nrow.completeSample. &lt;dbl&gt; |\n",
       "|---|---|---|---|\n",
       "| mddrnp_1 | mddrnp_1 | 891 | 0.81968721 |\n",
       "| gad4_1 | gad4_1   | 479 | 0.44066237 |\n",
       "| ptsd4_1 | ptsd4_1  | 283 | 0.26034959 |\n",
       "| bord_1 | bord_1   | 194 | 0.17847286 |\n",
       "| socal4_1 | socal4_1 | 178 | 0.16375345 |\n",
       "| mddsnp_1 | mddsnp_1 | 110 | 0.10119595 |\n",
       "| etohab_1 | etohab_1 |  93 | 0.08555658 |\n",
       "| panic_1 | panic_1  |  92 | 0.08463661 |\n",
       "| pda_1 | pda_1    |  90 | 0.08279669 |\n",
       "| mjab_1 | mjab_1   |  82 | 0.07543698 |\n",
       "\n"
      ],
      "text/plain": [
       "         names.rank. rank rank.nrow.completeSample.\n",
       "mddrnp_1 mddrnp_1    891  0.81968721               \n",
       "gad4_1   gad4_1      479  0.44066237               \n",
       "ptsd4_1  ptsd4_1     283  0.26034959               \n",
       "bord_1   bord_1      194  0.17847286               \n",
       "socal4_1 socal4_1    178  0.16375345               \n",
       "mddsnp_1 mddsnp_1    110  0.10119595               \n",
       "etohab_1 etohab_1     93  0.08555658               \n",
       "panic_1  panic_1      92  0.08463661               \n",
       "pda_1    pda_1        90  0.08279669               \n",
       "mjab_1   mjab_1       82  0.07543698               "
      ]
     },
     "metadata": {},
     "output_type": "display_data"
    }
   ],
   "source": [
    "#Most common comorbid psychitric diagnosis in the complete sample\n",
    "rank = \n",
    "completeSample[,142:261] %>%\n",
    "dplyr::select(-contains('nos'))%>%\n",
    "mutate_all(~ifelse(grepl('Curr',.),1, 0)) %>%\n",
    "colSums()\n",
    "\n",
    "dx_rank = data.frame(names(rank),  rank, rank/nrow(completeSample))\n",
    "dx_rank[order(dx_rank$rank,decreasing = T),][1:10,]"
   ]
  },
  {
   "cell_type": "code",
   "execution_count": 24,
   "id": "foreign-connectivity",
   "metadata": {},
   "outputs": [
    {
     "data": {
      "text/html": [
       "0.378627237722611"
      ],
      "text/latex": [
       "0.378627237722611"
      ],
      "text/markdown": [
       "0.378627237722611"
      ],
      "text/plain": [
       "[1] 0.3786272"
      ]
     },
     "metadata": {},
     "output_type": "display_data"
    }
   ],
   "source": [
    "#Correlation between BPD and # of cormorbidities \n",
    "cor(completeSample$bpd,completeSample$comorbidity) "
   ]
  },
  {
   "cell_type": "code",
   "execution_count": 29,
   "id": "personal-talent",
   "metadata": {},
   "outputs": [
    {
     "name": "stderr",
     "output_type": "stream",
     "text": [
      "`summarise()` ungrouping output (override with `.groups` argument)\n",
      "\n"
     ]
    },
    {
     "data": {
      "text/html": [
       "<table class=\"dataframe\">\n",
       "<caption>A tibble: 2 × 3</caption>\n",
       "<thead>\n",
       "\t<tr><th scope=col>bpd</th><th scope=col>mean</th><th scope=col>sd</th></tr>\n",
       "\t<tr><th scope=col>&lt;dbl&gt;</th><th scope=col>&lt;dbl&gt;</th><th scope=col>&lt;dbl&gt;</th></tr>\n",
       "</thead>\n",
       "<tbody>\n",
       "\t<tr><td>0</td><td>11.23068</td><td> 5.168298</td></tr>\n",
       "\t<tr><td>1</td><td>14.45876</td><td>11.007809</td></tr>\n",
       "</tbody>\n",
       "</table>\n"
      ],
      "text/latex": [
       "A tibble: 2 × 3\n",
       "\\begin{tabular}{lll}\n",
       " bpd & mean & sd\\\\\n",
       " <dbl> & <dbl> & <dbl>\\\\\n",
       "\\hline\n",
       "\t 0 & 11.23068 &  5.168298\\\\\n",
       "\t 1 & 14.45876 & 11.007809\\\\\n",
       "\\end{tabular}\n"
      ],
      "text/markdown": [
       "\n",
       "A tibble: 2 × 3\n",
       "\n",
       "| bpd &lt;dbl&gt; | mean &lt;dbl&gt; | sd &lt;dbl&gt; |\n",
       "|---|---|---|\n",
       "| 0 | 11.23068 |  5.168298 |\n",
       "| 1 | 14.45876 | 11.007809 |\n",
       "\n"
      ],
      "text/plain": [
       "  bpd mean     sd       \n",
       "1 0   11.23068  5.168298\n",
       "2 1   14.45876 11.007809"
      ]
     },
     "metadata": {},
     "output_type": "display_data"
    },
    {
     "data": {
      "text/plain": [
       "\n",
       "\tWelch Two Sample t-test\n",
       "\n",
       "data:  completeSample$tx_length[completeSample$bpd == 0] and completeSample$tx_length[completeSample$bpd == 1]\n",
       "t = -3.9901, df = 211.82, p-value = 9.098e-05\n",
       "alternative hypothesis: true difference in means is not equal to 0\n",
       "95 percent confidence interval:\n",
       " -4.822836 -1.633323\n",
       "sample estimates:\n",
       "mean of x mean of y \n",
       " 11.23068  14.45876 \n"
      ]
     },
     "metadata": {},
     "output_type": "display_data"
    }
   ],
   "source": [
    "#Differences in treatment length by BPD \n",
    "completeSample$tx_length = completeSample$Days_complete_1 + completeSample$Days_not_attended_1\n",
    "completeSample %>%\n",
    "group_by(bpd) %>%\n",
    "summarize(mean = mean(tx_length), sd = sd(tx_length))\n",
    "\n",
    "t.test(completeSample$tx_length[completeSample$bpd == 0],\n",
    "      completeSample$tx_length[completeSample$bpd == 1])\n"
   ]
  },
  {
   "cell_type": "markdown",
   "id": "contained-password",
   "metadata": {},
   "source": [
    "Significant differences in required treatment length between MDD patients with and without BPD."
   ]
  },
  {
   "cell_type": "code",
   "execution_count": 32,
   "id": "funded-manual",
   "metadata": {},
   "outputs": [
    {
     "name": "stderr",
     "output_type": "stream",
     "text": [
      "`summarise()` ungrouping output (override with `.groups` argument)\n",
      "\n"
     ]
    },
    {
     "data": {
      "text/html": [
       "<table class=\"dataframe\">\n",
       "<caption>A tibble: 2 × 3</caption>\n",
       "<thead>\n",
       "\t<tr><th scope=col>bpd</th><th scope=col>mean</th><th scope=col>sd</th></tr>\n",
       "\t<tr><th scope=col>&lt;dbl&gt;</th><th scope=col>&lt;dbl&gt;</th><th scope=col>&lt;dbl&gt;</th></tr>\n",
       "</thead>\n",
       "<tbody>\n",
       "\t<tr><td>0</td><td>2.658455</td><td>1.374344</td></tr>\n",
       "\t<tr><td>1</td><td>4.139175</td><td>1.445454</td></tr>\n",
       "</tbody>\n",
       "</table>\n"
      ],
      "text/latex": [
       "A tibble: 2 × 3\n",
       "\\begin{tabular}{lll}\n",
       " bpd & mean & sd\\\\\n",
       " <dbl> & <dbl> & <dbl>\\\\\n",
       "\\hline\n",
       "\t 0 & 2.658455 & 1.374344\\\\\n",
       "\t 1 & 4.139175 & 1.445454\\\\\n",
       "\\end{tabular}\n"
      ],
      "text/markdown": [
       "\n",
       "A tibble: 2 × 3\n",
       "\n",
       "| bpd &lt;dbl&gt; | mean &lt;dbl&gt; | sd &lt;dbl&gt; |\n",
       "|---|---|---|\n",
       "| 0 | 2.658455 | 1.374344 |\n",
       "| 1 | 4.139175 | 1.445454 |\n",
       "\n"
      ],
      "text/plain": [
       "  bpd mean     sd      \n",
       "1 0   2.658455 1.374344\n",
       "2 1   4.139175 1.445454"
      ]
     },
     "metadata": {},
     "output_type": "display_data"
    },
    {
     "data": {
      "text/plain": [
       "\n",
       "\tWelch Two Sample t-test\n",
       "\n",
       "data:  completeSample$comorbidity[completeSample$bpd == 0] and completeSample$comorbidity[completeSample$bpd == 1]\n",
       "t = -13.045, df = 273.97, p-value < 2.2e-16\n",
       "alternative hypothesis: true difference in means is not equal to 0\n",
       "95 percent confidence interval:\n",
       " -1.704187 -1.257254\n",
       "sample estimates:\n",
       "mean of x mean of y \n",
       " 2.658455  4.139175 \n"
      ]
     },
     "metadata": {},
     "output_type": "display_data"
    }
   ],
   "source": [
    "#Differences in comorbidities by BPD\n",
    "completeSample %>%\n",
    "group_by(bpd) %>%\n",
    "summarize(mean = mean(comorbidity), sd = sd(comorbidity))\n",
    "\n",
    "t.test(completeSample$comorbidity[completeSample$bpd == 0],\n",
    "      completeSample$comorbidity[completeSample$bpd == 1])\n",
    "\n",
    "\n",
    "#completeSample$tx_attendence_rate = completeSample$Days_complete_1/completeSample$tx_length\n",
    "#summary(lm(tx_length ~bpd + comorbidity, completeSample)) #Both BPD and Comorbidities predicted longer treatment length in tx completion sample\n",
    "#summary(lm(tx_attendence_rate ~bpd + comorbidity , completeSample)) #BPD does not predicted attendence rate, while # of comorbidities predicted lower attendence rate"
   ]
  },
  {
   "cell_type": "markdown",
   "id": "provincial-calcium",
   "metadata": {},
   "source": [
    "Patients with comorbidi BPD showed significantly higher numbers of comorbidity psychiatric diagnoses."
   ]
  },
  {
   "cell_type": "code",
   "execution_count": 34,
   "id": "supreme-communication",
   "metadata": {},
   "outputs": [
    {
     "data": {
      "text/html": [
       "<table class=\"dataframe\">\n",
       "<caption>A tibble: 1 × 6</caption>\n",
       "<thead>\n",
       "\t<tr><th scope=col>depM</th><th scope=col>depSD</th><th scope=col>anxM</th><th scope=col>anxSD</th><th scope=col>angM</th><th scope=col>angSD</th></tr>\n",
       "\t<tr><th scope=col>&lt;dbl&gt;</th><th scope=col>&lt;dbl&gt;</th><th scope=col>&lt;dbl&gt;</th><th scope=col>&lt;dbl&gt;</th><th scope=col>&lt;dbl&gt;</th><th scope=col>&lt;dbl&gt;</th></tr>\n",
       "</thead>\n",
       "<tbody>\n",
       "\t<tr><td>3.404691</td><td>0.7168148</td><td>3.1307</td><td>0.8878087</td><td>2.244165</td><td>0.9634773</td></tr>\n",
       "</tbody>\n",
       "</table>\n"
      ],
      "text/latex": [
       "A tibble: 1 × 6\n",
       "\\begin{tabular}{llllll}\n",
       " depM & depSD & anxM & anxSD & angM & angSD\\\\\n",
       " <dbl> & <dbl> & <dbl> & <dbl> & <dbl> & <dbl>\\\\\n",
       "\\hline\n",
       "\t 3.404691 & 0.7168148 & 3.1307 & 0.8878087 & 2.244165 & 0.9634773\\\\\n",
       "\\end{tabular}\n"
      ],
      "text/markdown": [
       "\n",
       "A tibble: 1 × 6\n",
       "\n",
       "| depM &lt;dbl&gt; | depSD &lt;dbl&gt; | anxM &lt;dbl&gt; | anxSD &lt;dbl&gt; | angM &lt;dbl&gt; | angSD &lt;dbl&gt; |\n",
       "|---|---|---|---|---|---|\n",
       "| 3.404691 | 0.7168148 | 3.1307 | 0.8878087 | 2.244165 | 0.9634773 |\n",
       "\n"
      ],
      "text/plain": [
       "  depM     depSD     anxM   anxSD     angM     angSD    \n",
       "1 3.404691 0.7168148 3.1307 0.8878087 2.244165 0.9634773"
      ]
     },
     "metadata": {},
     "output_type": "display_data"
    }
   ],
   "source": [
    "#Inital Severity\n",
    "completeSample %>% \n",
    "summarize(depM = mean(depMean, na.rm = T), depSD = sd(depMean, na.rm = T), #depression\n",
    "         anxM = mean(anxMean, na.rm = T), anxSD = sd(anxMean, na.rm = T), #anxiety\n",
    "         angM = mean(angMean, na.rm = T), angSD = sd(angMean, na.rm = T)) #anger"
   ]
  },
  {
   "cell_type": "markdown",
   "id": "complete-victor",
   "metadata": {},
   "source": [
    "## Demographics"
   ]
  },
  {
   "cell_type": "code",
   "execution_count": 36,
   "id": "finite-clinic",
   "metadata": {},
   "outputs": [
    {
     "data": {
      "text/plain": [
       "\n",
       "                                         Female \n",
       "                                            720 \n",
       "                                           Male \n",
       "                                            347 \n",
       "                                     Non-Binary \n",
       "                                              4 \n",
       "                                          Other \n",
       "                                              6 \n",
       "Unknown (ID as Trans Before Demos Change 12.18) \n",
       "                                              9 "
      ]
     },
     "metadata": {},
     "output_type": "display_data"
    },
    {
     "data": {
      "text/plain": [
       "\n",
       "                                         Female \n",
       "                                    0.662373505 \n",
       "                                           Male \n",
       "                                    0.319227231 \n",
       "                                     Non-Binary \n",
       "                                    0.003679853 \n",
       "                                          Other \n",
       "                                    0.005519779 \n",
       "Unknown (ID as Trans Before Demos Change 12.18) \n",
       "                                    0.008279669 "
      ]
     },
     "metadata": {},
     "output_type": "display_data"
    },
    {
     "data": {
      "text/html": [
       "1087"
      ],
      "text/latex": [
       "1087"
      ],
      "text/markdown": [
       "1087"
      ],
      "text/plain": [
       "[1] 1087"
      ]
     },
     "metadata": {},
     "output_type": "display_data"
    },
    {
     "data": {
      "text/html": [
       "0.009199632"
      ],
      "text/latex": [
       "0.009199632"
      ],
      "text/markdown": [
       "0.009199632"
      ],
      "text/plain": [
       "[1] 0.009199632"
      ]
     },
     "metadata": {},
     "output_type": "display_data"
    }
   ],
   "source": [
    "#Sex\n",
    "table(completeSample$Gender_1)\n",
    "table(completeSample$Gender_1)/nrow(completeSample)\n",
    "nrow(completeSample)\n",
    "0.003679853 + 0.005519779 "
   ]
  },
  {
   "cell_type": "code",
   "execution_count": 38,
   "id": "noted-waters",
   "metadata": {},
   "outputs": [
    {
     "data": {
      "text/html": [
       "40.3652253909844"
      ],
      "text/latex": [
       "40.3652253909844"
      ],
      "text/markdown": [
       "40.3652253909844"
      ],
      "text/plain": [
       "[1] 40.36523"
      ]
     },
     "metadata": {},
     "output_type": "display_data"
    },
    {
     "data": {
      "text/html": [
       "14.2595645107636"
      ],
      "text/latex": [
       "14.2595645107636"
      ],
      "text/markdown": [
       "14.2595645107636"
      ],
      "text/plain": [
       "[1] 14.25956"
      ]
     },
     "metadata": {},
     "output_type": "display_data"
    },
    {
     "data": {
      "text/html": [
       "<style>\n",
       ".list-inline {list-style: none; margin:0; padding: 0}\n",
       ".list-inline>li {display: inline-block}\n",
       ".list-inline>li:not(:last-child)::after {content: \"\\00b7\"; padding: 0 .5ex}\n",
       "</style>\n",
       "<ol class=list-inline><li>18</li><li>88</li></ol>\n"
      ],
      "text/latex": [
       "\\begin{enumerate*}\n",
       "\\item 18\n",
       "\\item 88\n",
       "\\end{enumerate*}\n"
      ],
      "text/markdown": [
       "1. 18\n",
       "2. 88\n",
       "\n",
       "\n"
      ],
      "text/plain": [
       "[1] 18 88"
      ]
     },
     "metadata": {},
     "output_type": "display_data"
    }
   ],
   "source": [
    "#Age\n",
    "mean(completeSample$Age_1)\n",
    "sd(completeSample$Age_1)\n",
    "range(completeSample$Age_1)"
   ]
  },
  {
   "cell_type": "code",
   "execution_count": 27,
   "id": "usual-processing",
   "metadata": {},
   "outputs": [
    {
     "data": {
      "text/plain": [
       "\n",
       "     Asian      Black   Hispanic      Other Portuguese      White \n",
       "        15         79        126         45         26        795 "
      ]
     },
     "metadata": {},
     "output_type": "display_data"
    },
    {
     "data": {
      "text/plain": [
       "\n",
       "     Asian      Black   Hispanic      Other Portuguese      White \n",
       "0.01379945 0.07267709 0.11591536 0.04139834 0.02391904 0.73137075 "
      ]
     },
     "metadata": {},
     "output_type": "display_data"
    }
   ],
   "source": [
    "#Race\n",
    "table(completeSample$Race_1)\n",
    "table(completeSample$Race_1)/nrow(completeSample)\n"
   ]
  },
  {
   "cell_type": "code",
   "execution_count": 44,
   "id": "victorian-visitor",
   "metadata": {},
   "outputs": [
    {
     "data": {
      "text/html": [
       "1087"
      ],
      "text/latex": [
       "1087"
      ],
      "text/markdown": [
       "1087"
      ],
      "text/plain": [
       "[1] 1087"
      ]
     },
     "metadata": {},
     "output_type": "display_data"
    },
    {
     "data": {
      "text/html": [
       "194"
      ],
      "text/latex": [
       "194"
      ],
      "text/markdown": [
       "194"
      ],
      "text/plain": [
       "[1] 194"
      ]
     },
     "metadata": {},
     "output_type": "display_data"
    }
   ],
   "source": [
    "#MDD Patients who completed treatment in long format \n",
    "dfLongMDDComplete = dfLongMDD[dfLongMDD$DC_status_1 == 'Treatment Complete',]\n",
    "length(unique(dfLongMDDComplete$ID)) #N = 1087\n",
    "length(unique(dfLongMDDComplete[dfLongMDDComplete$bpd == 1, 'ID1'])) #194 patients with comorbid BPD\n",
    "\n",
    "#Treatment length\n",
    "dfLongMDDComplete$txlength = dfLongMDDComplete$Days_complete_1 + dfLongMDDComplete$Days_not_attended_1\n"
   ]
  },
  {
   "cell_type": "code",
   "execution_count": 54,
   "id": "sublime-amsterdam",
   "metadata": {},
   "outputs": [
    {
     "data": {
      "text/html": [
       "<strong>ifelse(score &gt;= 21, 1, 0):</strong> 158"
      ],
      "text/latex": [
       "\\textbf{ifelse(score >= 21, 1, 0):} 158"
      ],
      "text/markdown": [
       "**ifelse(score &amp;gt;= 21, 1, 0):** 158"
      ],
      "text/plain": [
       "ifelse(score >= 21, 1, 0) \n",
       "                      158 "
      ]
     },
     "metadata": {},
     "output_type": "display_data"
    },
    {
     "data": {
      "text/html": [
       "<strong>ifelse(score &gt;= 21, 1, 0):</strong> 54"
      ],
      "text/latex": [
       "\\textbf{ifelse(score >= 21, 1, 0):} 54"
      ],
      "text/markdown": [
       "**ifelse(score &amp;gt;= 21, 1, 0):** 54"
      ],
      "text/plain": [
       "ifelse(score >= 21, 1, 0) \n",
       "                       54 "
      ]
     },
     "metadata": {},
     "output_type": "display_data"
    },
    {
     "data": {
      "text/html": [
       "<strong>ifelse(score &gt;= 21, 1, 0):</strong> 28"
      ],
      "text/latex": [
       "\\textbf{ifelse(score >= 21, 1, 0):} 28"
      ],
      "text/markdown": [
       "**ifelse(score &amp;gt;= 21, 1, 0):** 28"
      ],
      "text/plain": [
       "ifelse(score >= 21, 1, 0) \n",
       "                       28 "
      ]
     },
     "metadata": {},
     "output_type": "display_data"
    }
   ],
   "source": [
    "#Treatment Success Rate \n",
    "\n",
    "#Patients with cormorbid BPD who came in with moderate to severe MDD (N = 158)\n",
    "dfLongMDDComplete %>%\n",
    "filter(day == 0 & bpd == 1)%>%\n",
    "summarize(score = depMean*16 + dep17 + dep18) %>% #Sum score of CUDOS\n",
    "summarize(ifelse(score >= 21, 1, 0))%>% #cut off socre of mild depression\n",
    "colSums(na.rm = T) \n",
    "\n",
    "#Patients with cormorbid BPD who remained moderately to severely depressed on the average discharge (N =54)\n",
    "dfLongMDDComplete %>%\n",
    "filter(day == 12 & bpd == 1)%>%\n",
    "summarize(score = depMean*16 + dep17 + dep18) %>%\n",
    "summarize(ifelse(score >= 21, 1, 0))%>%\n",
    "colSums(na.rm = T)\n",
    "\n",
    "#Patients with cormorbid BPD who remained moderately to severely depressed on the expended discharge date (N =28)\n",
    "dfLongMDDComplete %>%\n",
    "filter(day == 15 & bpd == 1)%>%\n",
    "summarize(score = depMean*16 + dep17 + dep18) %>%\n",
    "summarize(ifelse(score >= 21, 1, 0))%>%\n",
    "colSums(na.rm = T)\n"
   ]
  },
  {
   "cell_type": "code",
   "execution_count": 43,
   "id": "sufficient-terry",
   "metadata": {},
   "outputs": [
    {
     "data": {
      "text/html": [
       "0.164556962025316"
      ],
      "text/latex": [
       "0.164556962025316"
      ],
      "text/markdown": [
       "0.164556962025316"
      ],
      "text/plain": [
       "[1] 0.164557"
      ]
     },
     "metadata": {},
     "output_type": "display_data"
    }
   ],
   "source": [
    "#Improvement in success rate by three days\n",
    "(54-28)/158"
   ]
  },
  {
   "cell_type": "markdown",
   "id": "processed-yield",
   "metadata": {},
   "source": [
    "## Between-Group Differences"
   ]
  },
  {
   "cell_type": "code",
   "execution_count": 45,
   "id": "artistic-training",
   "metadata": {},
   "outputs": [],
   "source": [
    "#Function for mean and Se\n",
    "meanSE = function(x){\n",
    "    paste0(round(x$coefficient['bpd','Estimate'],2), ' (',\n",
    "       round(x$coefficient['bpd','Std. Error'],2) ,')')\n",
    "    \n",
    "}"
   ]
  },
  {
   "cell_type": "code",
   "execution_count": 51,
   "id": "olive-midwest",
   "metadata": {},
   "outputs": [
    {
     "data": {
      "text/plain": [
       "Linear mixed model fit by REML. t-tests use Satterthwaite's method [\n",
       "lmerModLmerTest]\n",
       "Formula: depMean ~ bpd + (1 | uniquePtId)\n",
       "   Data: dfLongMDDComplete_Session1\n",
       "\n",
       "REML criterion at convergence: 2037.5\n",
       "\n",
       "Scaled residuals: \n",
       "    Min      1Q  Median      3Q     Max \n",
       "-3.2707 -0.4691  0.0832  0.6271  2.2671 \n",
       "\n",
       "Random effects:\n",
       " Groups     Name        Variance Std.Dev.\n",
       " uniquePtId (Intercept) 0.112    0.3347  \n",
       " Residual               0.391    0.6253  \n",
       "Number of obs: 949, groups:  uniquePtId, 795\n",
       "\n",
       "Fixed effects:\n",
       "             Estimate Std. Error        df t value Pr(>|t|)    \n",
       "(Intercept)   3.37059    0.02605 780.53138 129.367  < 2e-16 ***\n",
       "bpd           0.19427    0.06130 940.46308   3.169  0.00158 ** \n",
       "---\n",
       "Signif. codes:  0 ‘***’ 0.001 ‘**’ 0.01 ‘*’ 0.05 ‘.’ 0.1 ‘ ’ 1\n",
       "\n",
       "Correlation of Fixed Effects:\n",
       "    (Intr)\n",
       "bpd -0.394"
      ]
     },
     "metadata": {},
     "output_type": "display_data"
    },
    {
     "data": {
      "text/plain": [
       "Linear mixed model fit by REML. t-tests use Satterthwaite's method [\n",
       "lmerModLmerTest]\n",
       "Formula: dep17 ~ bpd + (1 | uniquePtId)\n",
       "   Data: dfLongMDDComplete_Session1\n",
       "\n",
       "REML criterion at convergence: 2887.2\n",
       "\n",
       "Scaled residuals: \n",
       "    Min      1Q  Median      3Q     Max \n",
       "-2.6966 -0.6394  0.1894  0.9550  1.3206 \n",
       "\n",
       "Random effects:\n",
       " Groups     Name        Variance Std.Dev.\n",
       " uniquePtId (Intercept) 0.1571   0.3963  \n",
       " Residual               1.1199   1.0582  \n",
       "Number of obs: 936, groups:  uniquePtId, 786\n",
       "\n",
       "Fixed effects:\n",
       "             Estimate Std. Error        df t value Pr(>|t|)    \n",
       "(Intercept)   3.77150    0.04135 689.62936  91.206   <2e-16 ***\n",
       "bpd           0.14665    0.09876 878.37203   1.485    0.138    \n",
       "---\n",
       "Signif. codes:  0 ‘***’ 0.001 ‘**’ 0.01 ‘*’ 0.05 ‘.’ 0.1 ‘ ’ 1\n",
       "\n",
       "Correlation of Fixed Effects:\n",
       "    (Intr)\n",
       "bpd -0.401"
      ]
     },
     "metadata": {},
     "output_type": "display_data"
    },
    {
     "data": {
      "text/plain": [
       "Linear mixed model fit by REML. t-tests use Satterthwaite's method [\n",
       "lmerModLmerTest]\n",
       "Formula: dep18 ~ bpd + (1 | uniquePtId)\n",
       "   Data: dfLongMDDComplete_Session1\n",
       "\n",
       "REML criterion at convergence: 2396\n",
       "\n",
       "Scaled residuals: \n",
       "    Min      1Q  Median      3Q     Max \n",
       "-2.8654 -0.6152  0.3000  0.4400  1.8631 \n",
       "\n",
       "Random effects:\n",
       " Groups     Name        Variance Std.Dev.\n",
       " uniquePtId (Intercept) 0.1140   0.3376  \n",
       " Residual               0.6503   0.8064  \n",
       "Number of obs: 932, groups:  uniquePtId, 783\n",
       "\n",
       "Fixed effects:\n",
       "             Estimate Std. Error        df t value Pr(>|t|)    \n",
       "(Intercept)   3.58304    0.03215 786.01669 111.442   <2e-16 ***\n",
       "bpd           0.13265    0.07663 910.88426   1.731   0.0838 .  \n",
       "---\n",
       "Signif. codes:  0 ‘***’ 0.001 ‘**’ 0.01 ‘*’ 0.05 ‘.’ 0.1 ‘ ’ 1\n",
       "\n",
       "Correlation of Fixed Effects:\n",
       "    (Intr)\n",
       "bpd -0.399"
      ]
     },
     "metadata": {},
     "output_type": "display_data"
    },
    {
     "data": {
      "text/html": [
       "<table class=\"dataframe\">\n",
       "<caption>A matrix: 3 × 1 of type chr</caption>\n",
       "<thead>\n",
       "\t<tr><th scope=col>pre</th></tr>\n",
       "</thead>\n",
       "<tbody>\n",
       "\t<tr><td>0.19 (0.06)</td></tr>\n",
       "\t<tr><td>0.15 (0.1) </td></tr>\n",
       "\t<tr><td>0.13 (0.08)</td></tr>\n",
       "</tbody>\n",
       "</table>\n"
      ],
      "text/latex": [
       "A matrix: 3 × 1 of type chr\n",
       "\\begin{tabular}{l}\n",
       " pre\\\\\n",
       "\\hline\n",
       "\t 0.19 (0.06)\\\\\n",
       "\t 0.15 (0.1) \\\\\n",
       "\t 0.13 (0.08)\\\\\n",
       "\\end{tabular}\n"
      ],
      "text/markdown": [
       "\n",
       "A matrix: 3 × 1 of type chr\n",
       "\n",
       "| pre |\n",
       "|---|\n",
       "| 0.19 (0.06) |\n",
       "| 0.15 (0.1)  |\n",
       "| 0.13 (0.08) |\n",
       "\n"
      ],
      "text/plain": [
       "     pre        \n",
       "[1,] 0.19 (0.06)\n",
       "[2,] 0.15 (0.1) \n",
       "[3,] 0.13 (0.08)"
      ]
     },
     "metadata": {},
     "output_type": "display_data"
    },
    {
     "data": {
      "text/plain": [
       "Linear mixed model fit by REML. t-tests use Satterthwaite's method [\n",
       "lmerModLmerTest]\n",
       "Formula: comorbidity ~ bpd + (1 | uniquePtId)\n",
       "   Data: dfLongMDDComplete_Session1\n",
       "\n",
       "REML criterion at convergence: 3722.1\n",
       "\n",
       "Scaled residuals: \n",
       "    Min      1Q  Median      3Q     Max \n",
       "-2.0536 -0.4424 -0.1150  0.5197  4.8250 \n",
       "\n",
       "Random effects:\n",
       " Groups     Name        Variance Std.Dev.\n",
       " uniquePtId (Intercept) 0.3047   0.552   \n",
       " Residual               1.6406   1.281   \n",
       "Number of obs: 1063, groups:  uniquePtId, 877\n",
       "\n",
       "Fixed effects:\n",
       "             Estimate Std. Error        df t value Pr(>|t|)    \n",
       "(Intercept)    2.6719     0.0483  913.4841   55.32   <2e-16 ***\n",
       "bpd            1.4471     0.1128 1044.7525   12.83   <2e-16 ***\n",
       "---\n",
       "Signif. codes:  0 ‘***’ 0.001 ‘**’ 0.01 ‘*’ 0.05 ‘.’ 0.1 ‘ ’ 1\n",
       "\n",
       "Correlation of Fixed Effects:\n",
       "    (Intr)\n",
       "bpd -0.400"
      ]
     },
     "metadata": {},
     "output_type": "display_data"
    },
    {
     "data": {
      "text/plain": [
       "Linear mixed model fit by REML. t-tests use Satterthwaite's method [\n",
       "lmerModLmerTest]\n",
       "Formula: txlength ~ bpd + (1 | uniquePtId)\n",
       "   Data: dfLongMDDComplete_Session1\n",
       "\n",
       "REML criterion at convergence: 7030.5\n",
       "\n",
       "Scaled residuals: \n",
       "    Min      1Q  Median      3Q     Max \n",
       "-1.6469 -0.6169 -0.1791  0.4046 13.9747 \n",
       "\n",
       "Random effects:\n",
       " Groups     Name        Variance Std.Dev.\n",
       " uniquePtId (Intercept)  2.991   1.729   \n",
       " Residual               40.756   6.384   \n",
       "Number of obs: 1063, groups:  uniquePtId, 877\n",
       "\n",
       "Fixed effects:\n",
       "             Estimate Std. Error        df t value Pr(>|t|)    \n",
       "(Intercept)   11.2276     0.2266  997.0100   49.56  < 2e-16 ***\n",
       "bpd            3.0556     0.5333 1041.5395    5.73 1.32e-08 ***\n",
       "---\n",
       "Signif. codes:  0 ‘***’ 0.001 ‘**’ 0.01 ‘*’ 0.05 ‘.’ 0.1 ‘ ’ 1\n",
       "\n",
       "Correlation of Fixed Effects:\n",
       "    (Intr)\n",
       "bpd -0.412"
      ]
     },
     "metadata": {},
     "output_type": "display_data"
    }
   ],
   "source": [
    "#Pre-Treatment Data\n",
    "dfLongMDDComplete_Session1 = \n",
    "    dfLongMDDComplete %>%\n",
    "    filter(day == 0)\n",
    "\n",
    "#Pre-Treatment Depressive Symptoms\n",
    "pre_dep_comp = summary(lmer(depMean ~ bpd + (1|uniquePtId), dfLongMDDComplete_Session1))\n",
    "pre_dep_comp\n",
    "\n",
    "#Pre-Treatment Functionality\n",
    "pre_fun_comp = summary(lmer(dep17 ~ bpd + (1|uniquePtId), dfLongMDDComplete_Session1))\n",
    "pre_fun_comp\n",
    "\n",
    "#Pre-Treatment Well-Being\n",
    "pre_well_comp = summary(lmer(dep18 ~ bpd + (1|uniquePtId), dfLongMDDComplete_Session1))\n",
    "pre_well_comp\n",
    "\n",
    "table1 = c()\n",
    "table1 = cbind(table1, pre = c(meanSE(pre_dep_comp), meanSE(pre_fun_comp), meanSE(pre_well_comp)))\n",
    "table1\n",
    "\n",
    "#Comorbidity\n",
    "summary(lmer(comorbidity ~ bpd + (1|uniquePtId), dfLongMDDComplete_Session1))\n",
    "\n",
    "#Treatment Length\n",
    "summary(lmer(txlength ~ bpd + (1|uniquePtId), dfLongMDDComplete_Session1))\n",
    "\n"
   ]
  },
  {
   "cell_type": "code",
   "execution_count": 52,
   "id": "uniform-pendant",
   "metadata": {},
   "outputs": [
    {
     "data": {
      "text/plain": [
       "Linear mixed model fit by REML. t-tests use Satterthwaite's method [\n",
       "lmerModLmerTest]\n",
       "Formula: depMean ~ bpd + (1 | uniquePtId)\n",
       "   Data: dfLongMDDComplete_SessionF\n",
       "\n",
       "REML criterion at convergence: 1653.4\n",
       "\n",
       "Scaled residuals: \n",
       "    Min      1Q  Median      3Q     Max \n",
       "-1.6228 -0.6854 -0.1110  0.6003  3.7688 \n",
       "\n",
       "Random effects:\n",
       " Groups     Name        Variance Std.Dev.\n",
       " uniquePtId (Intercept) 0.1762   0.4198  \n",
       " Residual               0.5575   0.7466  \n",
       "Number of obs: 654, groups:  uniquePtId, 574\n",
       "\n",
       "Fixed effects:\n",
       "             Estimate Std. Error        df t value Pr(>|t|)    \n",
       "(Intercept)   2.29659    0.03752 603.26514  61.204   <2e-16 ***\n",
       "bpd           0.06438    0.08878 651.55843   0.725    0.469    \n",
       "---\n",
       "Signif. codes:  0 ‘***’ 0.001 ‘**’ 0.01 ‘*’ 0.05 ‘.’ 0.1 ‘ ’ 1\n",
       "\n",
       "Correlation of Fixed Effects:\n",
       "    (Intr)\n",
       "bpd -0.394"
      ]
     },
     "metadata": {},
     "output_type": "display_data"
    },
    {
     "data": {
      "text/plain": [
       "Linear mixed model fit by REML. t-tests use Satterthwaite's method [\n",
       "lmerModLmerTest]\n",
       "Formula: dep17 ~ bpd + (1 | uniquePtId)\n",
       "   Data: dfLongMDDComplete_SessionF\n",
       "\n",
       "REML criterion at convergence: 1974.2\n",
       "\n",
       "Scaled residuals: \n",
       "    Min      1Q  Median      3Q     Max \n",
       "-1.7239 -0.5987  0.1275  0.9084  2.1860 \n",
       "\n",
       "Random effects:\n",
       " Groups     Name        Variance Std.Dev.\n",
       " uniquePtId (Intercept) 0.2634   0.5132  \n",
       " Residual               1.0466   1.0231  \n",
       "Number of obs: 635, groups:  uniquePtId, 560\n",
       "\n",
       "Fixed effects:\n",
       "             Estimate Std. Error        df t value Pr(>|t|)    \n",
       "(Intercept)   2.76658    0.05077 581.47592  54.489   <2e-16 ***\n",
       "bpd           0.07019    0.12060 632.36424   0.582    0.561    \n",
       "---\n",
       "Signif. codes:  0 ‘***’ 0.001 ‘**’ 0.01 ‘*’ 0.05 ‘.’ 0.1 ‘ ’ 1\n",
       "\n",
       "Correlation of Fixed Effects:\n",
       "    (Intr)\n",
       "bpd -0.399"
      ]
     },
     "metadata": {},
     "output_type": "display_data"
    },
    {
     "data": {
      "text/plain": [
       "Linear mixed model fit by REML. t-tests use Satterthwaite's method [\n",
       "lmerModLmerTest]\n",
       "Formula: dep18 ~ bpd + (1 | uniquePtId)\n",
       "   Data: dfLongMDDComplete_SessionF\n",
       "\n",
       "REML criterion at convergence: 1680.6\n",
       "\n",
       "Scaled residuals: \n",
       "    Min      1Q  Median      3Q     Max \n",
       "-1.9647 -0.8282  0.1024  0.3841  2.2899 \n",
       "\n",
       "Random effects:\n",
       " Groups     Name        Variance Std.Dev.\n",
       " uniquePtId (Intercept) 0.2419   0.4918  \n",
       " Residual               0.5679   0.7536  \n",
       "Number of obs: 641, groups:  uniquePtId, 564\n",
       "\n",
       "Fixed effects:\n",
       "             Estimate Std. Error        df t value Pr(>|t|)    \n",
       "(Intercept)   2.88997    0.03998 594.86250  72.292   <2e-16 ***\n",
       "bpd           0.10485    0.09311 634.35375   1.126    0.261    \n",
       "---\n",
       "Signif. codes:  0 ‘***’ 0.001 ‘**’ 0.01 ‘*’ 0.05 ‘.’ 0.1 ‘ ’ 1\n",
       "\n",
       "Correlation of Fixed Effects:\n",
       "    (Intr)\n",
       "bpd -0.394"
      ]
     },
     "metadata": {},
     "output_type": "display_data"
    },
    {
     "data": {
      "text/html": [
       "<table class=\"dataframe\">\n",
       "<caption>A matrix: 3 × 2 of type chr</caption>\n",
       "<thead>\n",
       "\t<tr><th scope=col>pre</th><th scope=col>post</th></tr>\n",
       "</thead>\n",
       "<tbody>\n",
       "\t<tr><td>0.19 (0.06)</td><td>0.06 (0.09)</td></tr>\n",
       "\t<tr><td>0.15 (0.1) </td><td>0.07 (0.12)</td></tr>\n",
       "\t<tr><td>0.13 (0.08)</td><td>0.1 (0.09) </td></tr>\n",
       "</tbody>\n",
       "</table>\n"
      ],
      "text/latex": [
       "A matrix: 3 × 2 of type chr\n",
       "\\begin{tabular}{ll}\n",
       " pre & post\\\\\n",
       "\\hline\n",
       "\t 0.19 (0.06) & 0.06 (0.09)\\\\\n",
       "\t 0.15 (0.1)  & 0.07 (0.12)\\\\\n",
       "\t 0.13 (0.08) & 0.1 (0.09) \\\\\n",
       "\\end{tabular}\n"
      ],
      "text/markdown": [
       "\n",
       "A matrix: 3 × 2 of type chr\n",
       "\n",
       "| pre | post |\n",
       "|---|---|\n",
       "| 0.19 (0.06) | 0.06 (0.09) |\n",
       "| 0.15 (0.1)  | 0.07 (0.12) |\n",
       "| 0.13 (0.08) | 0.1 (0.09)  |\n",
       "\n"
      ],
      "text/plain": [
       "     pre         post       \n",
       "[1,] 0.19 (0.06) 0.06 (0.09)\n",
       "[2,] 0.15 (0.1)  0.07 (0.12)\n",
       "[3,] 0.13 (0.08) 0.1 (0.09) "
      ]
     },
     "metadata": {},
     "output_type": "display_data"
    }
   ],
   "source": [
    "#Post-Treatment Data\n",
    "dfLongMDDComplete_SessionF = \n",
    "    dfLongMDDComplete %>%\n",
    "    group_by(ID1) %>%\n",
    "    slice(day = max(day))%>%\n",
    "    ungroup() \n",
    "\n",
    "#Post-Treatment Depressive Symptoms\n",
    "post_dep_comp = summary(lmer(depMean ~ bpd + (1|uniquePtId), dfLongMDDComplete_SessionF))\n",
    "post_dep_comp\n",
    "\n",
    "#Post-Treatment Functionality\n",
    "post_fun_comp = summary(lmer(dep17 ~ bpd + (1|uniquePtId), dfLongMDDComplete_SessionF))\n",
    "post_fun_comp\n",
    "\n",
    "#Post-Treatment Well-Being\n",
    "post_well_comp  = summary(lmer(dep18 ~ bpd + (1|uniquePtId), dfLongMDDComplete_SessionF))\n",
    "post_well_comp \n",
    "\n",
    "table1 = cbind(table1, post = c(meanSE(post_dep_comp), meanSE(post_fun_comp), meanSE(post_well_comp)))\n",
    "table1"
   ]
  },
  {
   "cell_type": "code",
   "execution_count": 53,
   "id": "expired-cambridge",
   "metadata": {
    "scrolled": true
   },
   "outputs": [
    {
     "name": "stderr",
     "output_type": "stream",
     "text": [
      "`summarise()` ungrouping output (override with `.groups` argument)\n",
      "\n"
     ]
    },
    {
     "data": {
      "text/plain": [
       "Linear mixed model fit by REML. t-tests use Satterthwaite's method [\n",
       "lmerModLmerTest]\n",
       "Formula: depMeanC ~ bpd + (1 | uniquePtId)\n",
       "   Data: dfLongMDDComplete_Change\n",
       "\n",
       "REML criterion at convergence: 1652.4\n",
       "\n",
       "Scaled residuals: \n",
       "     Min       1Q   Median       3Q      Max \n",
       "-2.27967 -0.65209 -0.04099  0.64997  3.12388 \n",
       "\n",
       "Random effects:\n",
       " Groups     Name        Variance Std.Dev.\n",
       " uniquePtId (Intercept) 0.1538   0.3922  \n",
       " Residual               0.5727   0.7568  \n",
       "Number of obs: 656, groups:  uniquePtId, 563\n",
       "\n",
       "Fixed effects:\n",
       "             Estimate Std. Error        df t value Pr(>|t|)    \n",
       "(Intercept)  -1.18648    0.03762 580.23704 -31.536   <2e-16 ***\n",
       "bpd          -0.02155    0.08639 653.98471  -0.249    0.803    \n",
       "---\n",
       "Signif. codes:  0 ‘***’ 0.001 ‘**’ 0.01 ‘*’ 0.05 ‘.’ 0.1 ‘ ’ 1\n",
       "\n",
       "Correlation of Fixed Effects:\n",
       "    (Intr)\n",
       "bpd -0.408"
      ]
     },
     "metadata": {},
     "output_type": "display_data"
    },
    {
     "data": {
      "text/plain": [
       "Linear mixed model fit by REML. t-tests use Satterthwaite's method [\n",
       "lmerModLmerTest]\n",
       "Formula: dep17C ~ bpd + (1 | uniquePtId)\n",
       "   Data: dfLongMDDComplete_Change\n",
       "\n",
       "REML criterion at convergence: 2129.2\n",
       "\n",
       "Scaled residuals: \n",
       "    Min      1Q  Median      3Q     Max \n",
       "-2.2020 -0.6520  0.1028  0.8576  3.2408 \n",
       "\n",
       "Random effects:\n",
       " Groups     Name        Variance Std.Dev.\n",
       " uniquePtId (Intercept) 0.06313  0.2513  \n",
       " Residual               1.62666  1.2754  \n",
       "Number of obs: 632, groups:  uniquePtId, 547\n",
       "\n",
       "Fixed effects:\n",
       "             Estimate Std. Error        df t value Pr(>|t|)    \n",
       "(Intercept)  -1.13621    0.05751 535.23635 -19.755   <2e-16 ***\n",
       "bpd          -0.15662    0.13394 601.55564  -1.169    0.243    \n",
       "---\n",
       "Signif. codes:  0 ‘***’ 0.001 ‘**’ 0.01 ‘*’ 0.05 ‘.’ 0.1 ‘ ’ 1\n",
       "\n",
       "Correlation of Fixed Effects:\n",
       "    (Intr)\n",
       "bpd -0.424"
      ]
     },
     "metadata": {},
     "output_type": "display_data"
    },
    {
     "data": {
      "text/plain": [
       "Linear mixed model fit by REML. t-tests use Satterthwaite's method [\n",
       "lmerModLmerTest]\n",
       "Formula: dep18C ~ bpd + (1 | uniquePtId)\n",
       "   Data: dfLongMDDComplete_Change\n",
       "\n",
       "REML criterion at convergence: 1836.4\n",
       "\n",
       "Scaled residuals: \n",
       "    Min      1Q  Median      3Q     Max \n",
       "-2.8287 -0.3883 -0.1800  0.7029  4.2345 \n",
       "\n",
       "Random effects:\n",
       " Groups     Name        Variance Std.Dev.\n",
       " uniquePtId (Intercept) 0.1632   0.4039  \n",
       " Residual               0.9278   0.9632  \n",
       "Number of obs: 627, groups:  uniquePtId, 542\n",
       "\n",
       "Fixed effects:\n",
       "             Estimate Std. Error        df t value Pr(>|t|)    \n",
       "(Intercept)  -0.79613    0.04687 550.57286 -16.987   <2e-16 ***\n",
       "bpd          -0.08994    0.10879 620.22368  -0.827    0.409    \n",
       "---\n",
       "Signif. codes:  0 ‘***’ 0.001 ‘**’ 0.01 ‘*’ 0.05 ‘.’ 0.1 ‘ ’ 1\n",
       "\n",
       "Correlation of Fixed Effects:\n",
       "    (Intr)\n",
       "bpd -0.412"
      ]
     },
     "metadata": {},
     "output_type": "display_data"
    }
   ],
   "source": [
    "#Change Data\n",
    "dfLongMDDComplete_Change = \n",
    "    dfLongMDDComplete %>%\n",
    "    group_by(ID1) %>%\n",
    "    summarize(bpd = bpd[1],\n",
    "    depMeanC = depMean[n()] - depMean[1],\n",
    "    dep17C = dep17[n()]-dep17[1],\n",
    "    dep18C = dep18[n()]-dep18[1],\n",
    "    SCID_1 = SCID_1[1],\n",
    "    uniquePtId = uniquePtId[1]) %>%\n",
    "    ungroup()\n",
    "\n",
    "#Change Depressive Symptoms\n",
    "change_dep_comp = summary(lmer(depMeanC ~ bpd + (1|uniquePtId), dfLongMDDComplete_Change))\n",
    "change_dep_comp\n",
    "\n",
    "#Change Functionality\n",
    "change_fun_comp = summary(lmer(dep17C ~ bpd + (1|uniquePtId), dfLongMDDComplete_Change))\n",
    "change_fun_comp\n",
    "\n",
    "#Change Well-Being\n",
    "change_well_comp = summary(lmer(dep18C ~ bpd + (1|uniquePtId), dfLongMDDComplete_Change))\n",
    "change_well_comp\n",
    "\n",
    "table1 = cbind(table1, change = c(meanSE(change_dep_comp), meanSE(change_fun_comp), meanSE(change_well_comp)))\n",
    "table1"
   ]
  },
  {
   "cell_type": "code",
   "execution_count": 54,
   "id": "handed-craps",
   "metadata": {},
   "outputs": [
    {
     "data": {
      "text/html": [
       "<table class=\"dataframe\">\n",
       "<caption>A matrix: 3 × 3 of type chr</caption>\n",
       "<thead>\n",
       "\t<tr><th scope=col>pre</th><th scope=col>post</th><th scope=col>change</th></tr>\n",
       "</thead>\n",
       "<tbody>\n",
       "\t<tr><td>0.19 (0.06)</td><td>0.06 (0.09)</td><td>-0.02 (0.09)</td></tr>\n",
       "\t<tr><td>0.15 (0.1) </td><td>0.07 (0.12)</td><td>-0.16 (0.13)</td></tr>\n",
       "\t<tr><td>0.13 (0.08)</td><td>0.1 (0.09) </td><td>-0.09 (0.11)</td></tr>\n",
       "</tbody>\n",
       "</table>\n"
      ],
      "text/latex": [
       "A matrix: 3 × 3 of type chr\n",
       "\\begin{tabular}{lll}\n",
       " pre & post & change\\\\\n",
       "\\hline\n",
       "\t 0.19 (0.06) & 0.06 (0.09) & -0.02 (0.09)\\\\\n",
       "\t 0.15 (0.1)  & 0.07 (0.12) & -0.16 (0.13)\\\\\n",
       "\t 0.13 (0.08) & 0.1 (0.09)  & -0.09 (0.11)\\\\\n",
       "\\end{tabular}\n"
      ],
      "text/markdown": [
       "\n",
       "A matrix: 3 × 3 of type chr\n",
       "\n",
       "| pre | post | change |\n",
       "|---|---|---|\n",
       "| 0.19 (0.06) | 0.06 (0.09) | -0.02 (0.09) |\n",
       "| 0.15 (0.1)  | 0.07 (0.12) | -0.16 (0.13) |\n",
       "| 0.13 (0.08) | 0.1 (0.09)  | -0.09 (0.11) |\n",
       "\n"
      ],
      "text/plain": [
       "     pre         post        change      \n",
       "[1,] 0.19 (0.06) 0.06 (0.09) -0.02 (0.09)\n",
       "[2,] 0.15 (0.1)  0.07 (0.12) -0.16 (0.13)\n",
       "[3,] 0.13 (0.08) 0.1 (0.09)  -0.09 (0.11)"
      ]
     },
     "metadata": {},
     "output_type": "display_data"
    }
   ],
   "source": [
    "table1"
   ]
  },
  {
   "cell_type": "code",
   "execution_count": 56,
   "id": "textile-rescue",
   "metadata": {},
   "outputs": [],
   "source": [
    "#function to retrive mean and sd\n",
    "mean_sd = function(x){\n",
    "    return(paste0(round(mean(x, na.rm = T),2), ' (',round(sd(x, na.rm = T),2),')'))\n",
    "    \n",
    "}"
   ]
  },
  {
   "cell_type": "code",
   "execution_count": 57,
   "id": "industrial-liberia",
   "metadata": {
    "scrolled": true
   },
   "outputs": [
    {
     "name": "stderr",
     "output_type": "stream",
     "text": [
      "`summarise()` ungrouping output (override with `.groups` argument)\n",
      "\n"
     ]
    },
    {
     "data": {
      "text/html": [
       "<table class=\"dataframe\">\n",
       "<caption>A matrix: 12 × 2 of type chr</caption>\n",
       "<tbody>\n",
       "\t<tr><th scope=row>bpd</th><td>0           </td><td>1            </td></tr>\n",
       "\t<tr><th scope=row>depMean1</th><td>3.37 (0.71) </td><td>3.59 (0.73)  </td></tr>\n",
       "\t<tr><th scope=row>dep171</th><td>3.78 (1.14) </td><td>3.95 (1.07)  </td></tr>\n",
       "\t<tr><th scope=row>dep181</th><td>3.59 (0.88) </td><td>3.74 (0.8)   </td></tr>\n",
       "\t<tr><th scope=row>depMeanF</th><td>2.25 (0.84) </td><td>2.39 (0.89)  </td></tr>\n",
       "\t<tr><th scope=row>dep17F</th><td>2.71 (1.16) </td><td>2.79 (1.21)  </td></tr>\n",
       "\t<tr><th scope=row>dep18F</th><td>2.86 (0.9)  </td><td>2.98 (1.02)  </td></tr>\n",
       "\t<tr><th scope=row>depMeanC</th><td>-1.18 (0.82)</td><td>-1.2 (0.99)  </td></tr>\n",
       "\t<tr><th scope=row>dep17C</th><td>-1.14 (1.28)</td><td>-1.29 (1.38) </td></tr>\n",
       "\t<tr><th scope=row>dep18c</th><td>-0.8 (1.04) </td><td>-0.89 (1.05) </td></tr>\n",
       "\t<tr><th scope=row>comorbidity</th><td>2.66 (1.37) </td><td>4.14 (1.45)  </td></tr>\n",
       "\t<tr><th scope=row>txlength</th><td>11.23 (5.17)</td><td>14.46 (11.01)</td></tr>\n",
       "</tbody>\n",
       "</table>\n"
      ],
      "text/latex": [
       "A matrix: 12 × 2 of type chr\n",
       "\\begin{tabular}{r|ll}\n",
       "\tbpd & 0            & 1            \\\\\n",
       "\tdepMean1 & 3.37 (0.71)  & 3.59 (0.73)  \\\\\n",
       "\tdep171 & 3.78 (1.14)  & 3.95 (1.07)  \\\\\n",
       "\tdep181 & 3.59 (0.88)  & 3.74 (0.8)   \\\\\n",
       "\tdepMeanF & 2.25 (0.84)  & 2.39 (0.89)  \\\\\n",
       "\tdep17F & 2.71 (1.16)  & 2.79 (1.21)  \\\\\n",
       "\tdep18F & 2.86 (0.9)   & 2.98 (1.02)  \\\\\n",
       "\tdepMeanC & -1.18 (0.82) & -1.2 (0.99)  \\\\\n",
       "\tdep17C & -1.14 (1.28) & -1.29 (1.38) \\\\\n",
       "\tdep18c & -0.8 (1.04)  & -0.89 (1.05) \\\\\n",
       "\tcomorbidity & 2.66 (1.37)  & 4.14 (1.45)  \\\\\n",
       "\ttxlength & 11.23 (5.17) & 14.46 (11.01)\\\\\n",
       "\\end{tabular}\n"
      ],
      "text/markdown": [
       "\n",
       "A matrix: 12 × 2 of type chr\n",
       "\n",
       "| bpd | 0            | 1             |\n",
       "| depMean1 | 3.37 (0.71)  | 3.59 (0.73)   |\n",
       "| dep171 | 3.78 (1.14)  | 3.95 (1.07)   |\n",
       "| dep181 | 3.59 (0.88)  | 3.74 (0.8)    |\n",
       "| depMeanF | 2.25 (0.84)  | 2.39 (0.89)   |\n",
       "| dep17F | 2.71 (1.16)  | 2.79 (1.21)   |\n",
       "| dep18F | 2.86 (0.9)   | 2.98 (1.02)   |\n",
       "| depMeanC | -1.18 (0.82) | -1.2 (0.99)   |\n",
       "| dep17C | -1.14 (1.28) | -1.29 (1.38)  |\n",
       "| dep18c | -0.8 (1.04)  | -0.89 (1.05)  |\n",
       "| comorbidity | 2.66 (1.37)  | 4.14 (1.45)   |\n",
       "| txlength | 11.23 (5.17) | 14.46 (11.01) |\n",
       "\n"
      ],
      "text/plain": [
       "            [,1]         [,2]         \n",
       "bpd         0            1            \n",
       "depMean1    3.37 (0.71)  3.59 (0.73)  \n",
       "dep171      3.78 (1.14)  3.95 (1.07)  \n",
       "dep181      3.59 (0.88)  3.74 (0.8)   \n",
       "depMeanF    2.25 (0.84)  2.39 (0.89)  \n",
       "dep17F      2.71 (1.16)  2.79 (1.21)  \n",
       "dep18F      2.86 (0.9)   2.98 (1.02)  \n",
       "depMeanC    -1.18 (0.82) -1.2 (0.99)  \n",
       "dep17C      -1.14 (1.28) -1.29 (1.38) \n",
       "dep18c      -0.8 (1.04)  -0.89 (1.05) \n",
       "comorbidity 2.66 (1.37)  4.14 (1.45)  \n",
       "txlength    11.23 (5.17) 14.46 (11.01)"
      ]
     },
     "metadata": {},
     "output_type": "display_data"
    }
   ],
   "source": [
    "mean_sdc = \n",
    "dfLongMDDComplete %>%\n",
    "group_by(ID1) %>%\n",
    "summarize(bpd = bpd[1],\n",
    "          depMean1 = depMean[1],\n",
    "          dep171 = dep17[1],\n",
    "          dep181 = dep18[1],\n",
    "          depMeanF = depMean[n()],\n",
    "          dep17F = dep17[n()],\n",
    "          dep18F = dep18[n()],\n",
    "         depMeanC = depMean[n()] - depMean[1],\n",
    "         dep17C = dep17[n()]-dep17[1],\n",
    "         dep18c = dep18[n()]-dep18[1],\n",
    "         comorbidity = comorbidity[1],\n",
    "         txlength = txlength[1]) %>%\n",
    "ungroup()%>%\n",
    "dplyr::select(-ID1)%>%\n",
    "group_by(bpd) %>%\n",
    "summarize_all(mean_sd) %>%\n",
    "t()\n",
    "\n",
    "mean_sdc\n"
   ]
  },
  {
   "cell_type": "markdown",
   "id": "tight-unemployment",
   "metadata": {},
   "source": [
    "## Longitudinal Analysis/Multilevel Modeling"
   ]
  },
  {
   "cell_type": "code",
   "execution_count": 76,
   "id": "varied-psychiatry",
   "metadata": {},
   "outputs": [
    {
     "data": {
      "text/plain": [
       "\u001b[34m# Intraclass Correlation Coefficient\n",
       "\n",
       "\u001b[39m     Adjusted ICC: 0.588\n",
       "  Conditional ICC: 0.588"
      ]
     },
     "metadata": {},
     "output_type": "display_data"
    },
    {
     "data": {
      "text/plain": [
       "\u001b[34m# Intraclass Correlation Coefficient\n",
       "\n",
       "\u001b[39m     Adjusted ICC: 0.526\n",
       "  Conditional ICC: 0.526"
      ]
     },
     "metadata": {},
     "output_type": "display_data"
    },
    {
     "data": {
      "text/plain": [
       "\u001b[34m# Intraclass Correlation Coefficient\n",
       "\n",
       "\u001b[39m     Adjusted ICC: 0.515\n",
       "  Conditional ICC: 0.515"
      ]
     },
     "metadata": {},
     "output_type": "display_data"
    }
   ],
   "source": [
    "#ICC\n",
    "base_dep = lmer(depMean~ 1 + (1|uniquePtId:ID1), data = dfLongMDDComplete)\n",
    "icc(base_dep, dfLongMDDComplete)\n",
    "\n",
    "base_fun = lmer(dep17~ 1 + (1|uniquePtId:ID1), data = dfLongMDDComplete)\n",
    "icc(base_fun, dfLongMDDComplete)\n",
    "\n",
    "base_well = lmer(dep18~ 1 + (1|uniquePtId:ID1), data = dfLongMDDComplete)\n",
    "icc(base_well, dfLongMDDComplete)"
   ]
  },
  {
   "cell_type": "code",
   "execution_count": 60,
   "id": "indoor-basket",
   "metadata": {
    "scrolled": false
   },
   "outputs": [
    {
     "name": "stdout",
     "output_type": "stream",
     "text": [
      "[1] \"Symptom reduction\"\n"
     ]
    },
    {
     "data": {
      "text/html": [
       "<table class=\"dataframe\">\n",
       "<caption>A matrix: 4 × 5 of type dbl</caption>\n",
       "<thead>\n",
       "\t<tr><th></th><th scope=col>Estimate</th><th scope=col>Std. Error</th><th scope=col>df</th><th scope=col>t value</th><th scope=col>Pr(&gt;|t|)</th></tr>\n",
       "</thead>\n",
       "<tbody>\n",
       "\t<tr><th scope=row>(Intercept)</th><td> 3.06671728</td><td>0.025258372</td><td>869.1783</td><td>121.413895</td><td> 0.000000e+00</td></tr>\n",
       "\t<tr><th scope=row>day</th><td>-0.11447574</td><td>0.003835685</td><td>628.8810</td><td>-29.844930</td><td>1.369742e-122</td></tr>\n",
       "\t<tr><th scope=row>bpd</th><td> 0.22402399</td><td>0.059645018</td><td>987.4762</td><td>  3.755955</td><td> 1.827820e-04</td></tr>\n",
       "\t<tr><th scope=row>day:bpd</th><td> 0.01895975</td><td>0.008981255</td><td>556.5013</td><td>  2.111036</td><td> 3.521458e-02</td></tr>\n",
       "</tbody>\n",
       "</table>\n"
      ],
      "text/latex": [
       "A matrix: 4 × 5 of type dbl\n",
       "\\begin{tabular}{r|lllll}\n",
       "  & Estimate & Std. Error & df & t value & Pr(>\\textbar{}t\\textbar{})\\\\\n",
       "\\hline\n",
       "\t(Intercept) &  3.06671728 & 0.025258372 & 869.1783 & 121.413895 &  0.000000e+00\\\\\n",
       "\tday & -0.11447574 & 0.003835685 & 628.8810 & -29.844930 & 1.369742e-122\\\\\n",
       "\tbpd &  0.22402399 & 0.059645018 & 987.4762 &   3.755955 &  1.827820e-04\\\\\n",
       "\tday:bpd &  0.01895975 & 0.008981255 & 556.5013 &   2.111036 &  3.521458e-02\\\\\n",
       "\\end{tabular}\n"
      ],
      "text/markdown": [
       "\n",
       "A matrix: 4 × 5 of type dbl\n",
       "\n",
       "| <!--/--> | Estimate | Std. Error | df | t value | Pr(&gt;|t|) |\n",
       "|---|---|---|---|---|---|\n",
       "| (Intercept) |  3.06671728 | 0.025258372 | 869.1783 | 121.413895 |  0.000000e+00 |\n",
       "| day | -0.11447574 | 0.003835685 | 628.8810 | -29.844930 | 1.369742e-122 |\n",
       "| bpd |  0.22402399 | 0.059645018 | 987.4762 |   3.755955 |  1.827820e-04 |\n",
       "| day:bpd |  0.01895975 | 0.008981255 | 556.5013 |   2.111036 |  3.521458e-02 |\n",
       "\n"
      ],
      "text/plain": [
       "            Estimate    Std. Error  df       t value    Pr(>|t|)     \n",
       "(Intercept)  3.06671728 0.025258372 869.1783 121.413895  0.000000e+00\n",
       "day         -0.11447574 0.003835685 628.8810 -29.844930 1.369742e-122\n",
       "bpd          0.22402399 0.059645018 987.4762   3.755955  1.827820e-04\n",
       "day:bpd      0.01895975 0.008981255 556.5013   2.111036  3.521458e-02"
      ]
     },
     "metadata": {},
     "output_type": "display_data"
    },
    {
     "name": "stdout",
     "output_type": "stream",
     "text": [
      "[1] \"Functionoing\"\n"
     ]
    },
    {
     "data": {
      "text/html": [
       "<table class=\"dataframe\">\n",
       "<caption>A matrix: 4 × 5 of type dbl</caption>\n",
       "<thead>\n",
       "\t<tr><th></th><th scope=col>Estimate</th><th scope=col>Std. Error</th><th scope=col>df</th><th scope=col>t value</th><th scope=col>Pr(&gt;|t|)</th></tr>\n",
       "</thead>\n",
       "<tbody>\n",
       "\t<tr><th scope=row>(Intercept)</th><td> 3.54211829</td><td>0.036397556</td><td>896.0899</td><td> 97.317475</td><td>0.000000e+00</td></tr>\n",
       "\t<tr><th scope=row>day</th><td>-0.10121698</td><td>0.004662517</td><td>580.6867</td><td>-21.708657</td><td>5.873550e-77</td></tr>\n",
       "\t<tr><th scope=row>bpd</th><td> 0.14727799</td><td>0.084593430</td><td>971.4401</td><td>  1.741010</td><td>8.199845e-02</td></tr>\n",
       "\t<tr><th scope=row>day:bpd</th><td> 0.01546846</td><td>0.010603076</td><td>475.1789</td><td>  1.458865</td><td>1.452629e-01</td></tr>\n",
       "</tbody>\n",
       "</table>\n"
      ],
      "text/latex": [
       "A matrix: 4 × 5 of type dbl\n",
       "\\begin{tabular}{r|lllll}\n",
       "  & Estimate & Std. Error & df & t value & Pr(>\\textbar{}t\\textbar{})\\\\\n",
       "\\hline\n",
       "\t(Intercept) &  3.54211829 & 0.036397556 & 896.0899 &  97.317475 & 0.000000e+00\\\\\n",
       "\tday & -0.10121698 & 0.004662517 & 580.6867 & -21.708657 & 5.873550e-77\\\\\n",
       "\tbpd &  0.14727799 & 0.084593430 & 971.4401 &   1.741010 & 8.199845e-02\\\\\n",
       "\tday:bpd &  0.01546846 & 0.010603076 & 475.1789 &   1.458865 & 1.452629e-01\\\\\n",
       "\\end{tabular}\n"
      ],
      "text/markdown": [
       "\n",
       "A matrix: 4 × 5 of type dbl\n",
       "\n",
       "| <!--/--> | Estimate | Std. Error | df | t value | Pr(&gt;|t|) |\n",
       "|---|---|---|---|---|---|\n",
       "| (Intercept) |  3.54211829 | 0.036397556 | 896.0899 |  97.317475 | 0.000000e+00 |\n",
       "| day | -0.10121698 | 0.004662517 | 580.6867 | -21.708657 | 5.873550e-77 |\n",
       "| bpd |  0.14727799 | 0.084593430 | 971.4401 |   1.741010 | 8.199845e-02 |\n",
       "| day:bpd |  0.01546846 | 0.010603076 | 475.1789 |   1.458865 | 1.452629e-01 |\n",
       "\n"
      ],
      "text/plain": [
       "            Estimate    Std. Error  df       t value    Pr(>|t|)    \n",
       "(Intercept)  3.54211829 0.036397556 896.0899  97.317475 0.000000e+00\n",
       "day         -0.10121698 0.004662517 580.6867 -21.708657 5.873550e-77\n",
       "bpd          0.14727799 0.084593430 971.4401   1.741010 8.199845e-02\n",
       "day:bpd      0.01546846 0.010603076 475.1789   1.458865 1.452629e-01"
      ]
     },
     "metadata": {},
     "output_type": "display_data"
    },
    {
     "name": "stdout",
     "output_type": "stream",
     "text": [
      "[1] \"Wellbeing\"\n"
     ]
    },
    {
     "name": "stderr",
     "output_type": "stream",
     "text": [
      "Warning message in checkConv(attr(opt, \"derivs\"), opt$par, ctrl = control$checkConv, :\n",
      "“Model failed to converge with max|grad| = 0.00372289 (tol = 0.002, component 1)”\n"
     ]
    },
    {
     "data": {
      "text/html": [
       "<table class=\"dataframe\">\n",
       "<caption>A matrix: 4 × 5 of type dbl</caption>\n",
       "<thead>\n",
       "\t<tr><th></th><th scope=col>Estimate</th><th scope=col>Std. Error</th><th scope=col>df</th><th scope=col>t value</th><th scope=col>Pr(&gt;|t|)</th></tr>\n",
       "</thead>\n",
       "<tbody>\n",
       "\t<tr><th scope=row>(Intercept)</th><td> 3.44068371</td><td>0.027231927</td><td>925.0889</td><td>126.347420</td><td>0.000000e+00</td></tr>\n",
       "\t<tr><th scope=row>day</th><td>-0.06787569</td><td>0.003471911</td><td>548.1964</td><td>-19.549951</td><td>5.690854e-65</td></tr>\n",
       "\t<tr><th scope=row>bpd</th><td> 0.12016096</td><td>0.063487581</td><td>975.0108</td><td>  1.892669</td><td>5.869793e-02</td></tr>\n",
       "\t<tr><th scope=row>day:bpd</th><td> 0.01102554</td><td>0.007849589</td><td>439.7864</td><td>  1.404601</td><td>1.608459e-01</td></tr>\n",
       "</tbody>\n",
       "</table>\n"
      ],
      "text/latex": [
       "A matrix: 4 × 5 of type dbl\n",
       "\\begin{tabular}{r|lllll}\n",
       "  & Estimate & Std. Error & df & t value & Pr(>\\textbar{}t\\textbar{})\\\\\n",
       "\\hline\n",
       "\t(Intercept) &  3.44068371 & 0.027231927 & 925.0889 & 126.347420 & 0.000000e+00\\\\\n",
       "\tday & -0.06787569 & 0.003471911 & 548.1964 & -19.549951 & 5.690854e-65\\\\\n",
       "\tbpd &  0.12016096 & 0.063487581 & 975.0108 &   1.892669 & 5.869793e-02\\\\\n",
       "\tday:bpd &  0.01102554 & 0.007849589 & 439.7864 &   1.404601 & 1.608459e-01\\\\\n",
       "\\end{tabular}\n"
      ],
      "text/markdown": [
       "\n",
       "A matrix: 4 × 5 of type dbl\n",
       "\n",
       "| <!--/--> | Estimate | Std. Error | df | t value | Pr(&gt;|t|) |\n",
       "|---|---|---|---|---|---|\n",
       "| (Intercept) |  3.44068371 | 0.027231927 | 925.0889 | 126.347420 | 0.000000e+00 |\n",
       "| day | -0.06787569 | 0.003471911 | 548.1964 | -19.549951 | 5.690854e-65 |\n",
       "| bpd |  0.12016096 | 0.063487581 | 975.0108 |   1.892669 | 5.869793e-02 |\n",
       "| day:bpd |  0.01102554 | 0.007849589 | 439.7864 |   1.404601 | 1.608459e-01 |\n",
       "\n"
      ],
      "text/plain": [
       "            Estimate    Std. Error  df       t value    Pr(>|t|)    \n",
       "(Intercept)  3.44068371 0.027231927 925.0889 126.347420 0.000000e+00\n",
       "day         -0.06787569 0.003471911 548.1964 -19.549951 5.690854e-65\n",
       "bpd          0.12016096 0.063487581 975.0108   1.892669 5.869793e-02\n",
       "day:bpd      0.01102554 0.007849589 439.7864   1.404601 1.608459e-01"
      ]
     },
     "metadata": {},
     "output_type": "display_data"
    }
   ],
   "source": [
    "#Predcit changes in depression with bpd while controling for txlength\n",
    "print('Symptom reduction')\n",
    "sum_sym = summary(lmer(depMean ~ day*bpd + (1|uniquePtId)+ (1+day|uniquePtId:ID1), data = dfLongMDDComplete)) \n",
    "sum_sym$coefficients\n",
    "\n",
    "print('Functionoing')\n",
    "sum_fun = summary(lmer(dep17 ~ day*bpd + (1|uniquePtId)+ (1+day|uniquePtId:ID1), data = dfLongMDDComplete))\n",
    "sum_fun$coefficients\n",
    "\n",
    "print('Wellbeing')\n",
    "sum_well = summary(lmer(dep18 ~ day*bpd + (1|uniquePtId)+ (1+day|uniquePtId:ID1), data = dfLongMDDComplete))\n",
    "sum_well$coefficients"
   ]
  },
  {
   "cell_type": "code",
   "execution_count": 63,
   "id": "surrounded-provincial",
   "metadata": {},
   "outputs": [
    {
     "data": {
      "text/html": [
       "0.852164155496117"
      ],
      "text/latex": [
       "0.852164155496117"
      ],
      "text/markdown": [
       "0.852164155496117"
      ],
      "text/plain": [
       "[1] 0.8521642"
      ]
     },
     "metadata": {},
     "output_type": "display_data"
    }
   ],
   "source": [
    "#Calculate pseudo R2\n",
    "model = lmer(depMean ~ day*(bpd) + (1|uniquePtId)+ (1+day|uniquePtId:ID1), data = dfLongMDDComplete)\n",
    "predicted <- predict(model, dfLongMDDComplete, allow.new.levels = T)\n",
    "1-sum((dfLongMDDComplete$depMean -predicted)^2, na.rm = T)/(var(dfLongMDDComplete$depMean, na.rm = T)*nrow(dfLongMDDComplete)-1)"
   ]
  },
  {
   "cell_type": "code",
   "execution_count": 64,
   "id": "effective-faculty",
   "metadata": {},
   "outputs": [
    {
     "data": {
      "text/plain": [
       "\n",
       "Cronbach's alpha for the 'dfLongMDDComplete[dfLongMDDComplete$day == 0, grep(\"^dep[0-9]*$\", ' '    colnames(dfLongMDDComplete))]' data-set\n",
       "\n",
       "Items: 18\n",
       "Sample units: 1063\n",
       "alpha: 0.855\n"
      ]
     },
     "metadata": {},
     "output_type": "display_data"
    }
   ],
   "source": [
    "#Chronbach's Alpha\n",
    "cronbach.alpha(dfLongMDDComplete[dfLongMDDComplete$day == 0,\n",
    "                                 grep('^dep[0-9]*$', colnames(dfLongMDDComplete))], na.rm = T)\n"
   ]
  },
  {
   "cell_type": "code",
   "execution_count": 36,
   "id": "silent-argument",
   "metadata": {},
   "outputs": [
    {
     "name": "stdout",
     "output_type": "stream",
     "text": [
      "[1] \"Symptom reduction\"\n"
     ]
    },
    {
     "data": {
      "text/html": [
       "<table class=\"dataframe\">\n",
       "<caption>A matrix: 6 × 5 of type dbl</caption>\n",
       "<thead>\n",
       "\t<tr><th></th><th scope=col>Estimate</th><th scope=col>Std. Error</th><th scope=col>df</th><th scope=col>t value</th><th scope=col>Pr(&gt;|t|)</th></tr>\n",
       "</thead>\n",
       "<tbody>\n",
       "\t<tr><th scope=row>(Intercept)</th><td> 2.860379181</td><td>0.049503460</td><td>1013.1567</td><td> 57.7813992</td><td>5.928788e-323</td></tr>\n",
       "\t<tr><th scope=row>day</th><td>-0.135325270</td><td>0.007731907</td><td> 630.2149</td><td>-17.5021844</td><td> 3.409925e-56</td></tr>\n",
       "\t<tr><th scope=row>bpd</th><td> 0.114133457</td><td>0.063271369</td><td> 996.1231</td><td>  1.8038721</td><td> 7.155337e-02</td></tr>\n",
       "\t<tr><th scope=row>comorbidity</th><td> 0.077295318</td><td>0.015963855</td><td>1015.8819</td><td>  4.8418956</td><td> 1.485902e-06</td></tr>\n",
       "\t<tr><th scope=row>day:bpd</th><td> 0.007588447</td><td>0.009610949</td><td> 555.2650</td><td>  0.7895627</td><td> 4.301202e-01</td></tr>\n",
       "\t<tr><th scope=row>day:comorbidity</th><td> 0.007724168</td><td>0.002450547</td><td> 590.0039</td><td>  3.1520178</td><td> 1.703719e-03</td></tr>\n",
       "</tbody>\n",
       "</table>\n"
      ],
      "text/latex": [
       "A matrix: 6 × 5 of type dbl\n",
       "\\begin{tabular}{r|lllll}\n",
       "  & Estimate & Std. Error & df & t value & Pr(>\\textbar{}t\\textbar{})\\\\\n",
       "\\hline\n",
       "\t(Intercept) &  2.860379181 & 0.049503460 & 1013.1567 &  57.7813992 & 5.928788e-323\\\\\n",
       "\tday & -0.135325270 & 0.007731907 &  630.2149 & -17.5021844 &  3.409925e-56\\\\\n",
       "\tbpd &  0.114133457 & 0.063271369 &  996.1231 &   1.8038721 &  7.155337e-02\\\\\n",
       "\tcomorbidity &  0.077295318 & 0.015963855 & 1015.8819 &   4.8418956 &  1.485902e-06\\\\\n",
       "\tday:bpd &  0.007588447 & 0.009610949 &  555.2650 &   0.7895627 &  4.301202e-01\\\\\n",
       "\tday:comorbidity &  0.007724168 & 0.002450547 &  590.0039 &   3.1520178 &  1.703719e-03\\\\\n",
       "\\end{tabular}\n"
      ],
      "text/markdown": [
       "\n",
       "A matrix: 6 × 5 of type dbl\n",
       "\n",
       "| <!--/--> | Estimate | Std. Error | df | t value | Pr(&gt;|t|) |\n",
       "|---|---|---|---|---|---|\n",
       "| (Intercept) |  2.860379181 | 0.049503460 | 1013.1567 |  57.7813992 | 5.928788e-323 |\n",
       "| day | -0.135325270 | 0.007731907 |  630.2149 | -17.5021844 |  3.409925e-56 |\n",
       "| bpd |  0.114133457 | 0.063271369 |  996.1231 |   1.8038721 |  7.155337e-02 |\n",
       "| comorbidity |  0.077295318 | 0.015963855 | 1015.8819 |   4.8418956 |  1.485902e-06 |\n",
       "| day:bpd |  0.007588447 | 0.009610949 |  555.2650 |   0.7895627 |  4.301202e-01 |\n",
       "| day:comorbidity |  0.007724168 | 0.002450547 |  590.0039 |   3.1520178 |  1.703719e-03 |\n",
       "\n"
      ],
      "text/plain": [
       "                Estimate     Std. Error  df        t value     Pr(>|t|)     \n",
       "(Intercept)      2.860379181 0.049503460 1013.1567  57.7813992 5.928788e-323\n",
       "day             -0.135325270 0.007731907  630.2149 -17.5021844  3.409925e-56\n",
       "bpd              0.114133457 0.063271369  996.1231   1.8038721  7.155337e-02\n",
       "comorbidity      0.077295318 0.015963855 1015.8819   4.8418956  1.485902e-06\n",
       "day:bpd          0.007588447 0.009610949  555.2650   0.7895627  4.301202e-01\n",
       "day:comorbidity  0.007724168 0.002450547  590.0039   3.1520178  1.703719e-03"
      ]
     },
     "metadata": {},
     "output_type": "display_data"
    },
    {
     "name": "stdout",
     "output_type": "stream",
     "text": [
      "[1] \"Functionoing\"\n"
     ]
    },
    {
     "name": "stderr",
     "output_type": "stream",
     "text": [
      "Warning message in checkConv(attr(opt, \"derivs\"), opt$par, ctrl = control$checkConv, :\n",
      "“Model failed to converge with max|grad| = 0.00241969 (tol = 0.002, component 1)”\n"
     ]
    },
    {
     "data": {
      "text/html": [
       "<table class=\"dataframe\">\n",
       "<caption>A matrix: 6 × 5 of type dbl</caption>\n",
       "<thead>\n",
       "\t<tr><th></th><th scope=col>Estimate</th><th scope=col>Std. Error</th><th scope=col>df</th><th scope=col>t value</th><th scope=col>Pr(&gt;|t|)</th></tr>\n",
       "</thead>\n",
       "<tbody>\n",
       "\t<tr><th scope=row>(Intercept)</th><td> 3.232003942</td><td>0.070600506</td><td>1017.7418</td><td> 45.7787644</td><td>2.370262e-249</td></tr>\n",
       "\t<tr><th scope=row>day</th><td>-0.108372201</td><td>0.009456873</td><td> 581.4171</td><td>-11.4596228</td><td> 1.487053e-27</td></tr>\n",
       "\t<tr><th scope=row>bpd</th><td>-0.015220131</td><td>0.089628615</td><td> 975.4022</td><td> -0.1698133</td><td> 8.651922e-01</td></tr>\n",
       "\t<tr><th scope=row>comorbidity</th><td> 0.116269828</td><td>0.022662811</td><td> 999.4242</td><td>  5.1304239</td><td> 3.471872e-07</td></tr>\n",
       "\t<tr><th scope=row>day:bpd</th><td> 0.011838621</td><td>0.011400325</td><td> 476.6991</td><td>  1.0384459</td><td> 2.995889e-01</td></tr>\n",
       "\t<tr><th scope=row>day:comorbidity</th><td> 0.002575504</td><td>0.002953022</td><td> 528.3033</td><td>  0.8721587</td><td> 3.835180e-01</td></tr>\n",
       "</tbody>\n",
       "</table>\n"
      ],
      "text/latex": [
       "A matrix: 6 × 5 of type dbl\n",
       "\\begin{tabular}{r|lllll}\n",
       "  & Estimate & Std. Error & df & t value & Pr(>\\textbar{}t\\textbar{})\\\\\n",
       "\\hline\n",
       "\t(Intercept) &  3.232003942 & 0.070600506 & 1017.7418 &  45.7787644 & 2.370262e-249\\\\\n",
       "\tday & -0.108372201 & 0.009456873 &  581.4171 & -11.4596228 &  1.487053e-27\\\\\n",
       "\tbpd & -0.015220131 & 0.089628615 &  975.4022 &  -0.1698133 &  8.651922e-01\\\\\n",
       "\tcomorbidity &  0.116269828 & 0.022662811 &  999.4242 &   5.1304239 &  3.471872e-07\\\\\n",
       "\tday:bpd &  0.011838621 & 0.011400325 &  476.6991 &   1.0384459 &  2.995889e-01\\\\\n",
       "\tday:comorbidity &  0.002575504 & 0.002953022 &  528.3033 &   0.8721587 &  3.835180e-01\\\\\n",
       "\\end{tabular}\n"
      ],
      "text/markdown": [
       "\n",
       "A matrix: 6 × 5 of type dbl\n",
       "\n",
       "| <!--/--> | Estimate | Std. Error | df | t value | Pr(&gt;|t|) |\n",
       "|---|---|---|---|---|---|\n",
       "| (Intercept) |  3.232003942 | 0.070600506 | 1017.7418 |  45.7787644 | 2.370262e-249 |\n",
       "| day | -0.108372201 | 0.009456873 |  581.4171 | -11.4596228 |  1.487053e-27 |\n",
       "| bpd | -0.015220131 | 0.089628615 |  975.4022 |  -0.1698133 |  8.651922e-01 |\n",
       "| comorbidity |  0.116269828 | 0.022662811 |  999.4242 |   5.1304239 |  3.471872e-07 |\n",
       "| day:bpd |  0.011838621 | 0.011400325 |  476.6991 |   1.0384459 |  2.995889e-01 |\n",
       "| day:comorbidity |  0.002575504 | 0.002953022 |  528.3033 |   0.8721587 |  3.835180e-01 |\n",
       "\n"
      ],
      "text/plain": [
       "                Estimate     Std. Error  df        t value     Pr(>|t|)     \n",
       "(Intercept)      3.232003942 0.070600506 1017.7418  45.7787644 2.370262e-249\n",
       "day             -0.108372201 0.009456873  581.4171 -11.4596228  1.487053e-27\n",
       "bpd             -0.015220131 0.089628615  975.4022  -0.1698133  8.651922e-01\n",
       "comorbidity      0.116269828 0.022662811  999.4242   5.1304239  3.471872e-07\n",
       "day:bpd          0.011838621 0.011400325  476.6991   1.0384459  2.995889e-01\n",
       "day:comorbidity  0.002575504 0.002953022  528.3033   0.8721587  3.835180e-01"
      ]
     },
     "metadata": {},
     "output_type": "display_data"
    },
    {
     "name": "stdout",
     "output_type": "stream",
     "text": [
      "[1] \"Wellbeing\"\n"
     ]
    },
    {
     "name": "stderr",
     "output_type": "stream",
     "text": [
      "Warning message in checkConv(attr(opt, \"derivs\"), opt$par, ctrl = control$checkConv, :\n",
      "“Model failed to converge with max|grad| = 0.0170308 (tol = 0.002, component 1)”\n"
     ]
    },
    {
     "data": {
      "text/html": [
       "<table class=\"dataframe\">\n",
       "<caption>A matrix: 6 × 5 of type dbl</caption>\n",
       "<thead>\n",
       "\t<tr><th></th><th scope=col>Estimate</th><th scope=col>Std. Error</th><th scope=col>df</th><th scope=col>t value</th><th scope=col>Pr(&gt;|t|)</th></tr>\n",
       "</thead>\n",
       "<tbody>\n",
       "\t<tr><th scope=row>(Intercept)</th><td> 3.287208244</td><td>0.053355652</td><td>1021.7032</td><td> 61.6093730</td><td>0.000000e+00</td></tr>\n",
       "\t<tr><th scope=row>day</th><td>-0.082576769</td><td>0.007023872</td><td> 546.6144</td><td>-11.7565886</td><td>1.317606e-28</td></tr>\n",
       "\t<tr><th scope=row>bpd</th><td> 0.039501858</td><td>0.067705573</td><td> 976.3614</td><td>  0.5834358</td><td>5.597347e-01</td></tr>\n",
       "\t<tr><th scope=row>comorbidity</th><td> 0.057593671</td><td>0.017129069</td><td>1002.0298</td><td>  3.3623352</td><td>8.020879e-04</td></tr>\n",
       "\t<tr><th scope=row>day:bpd</th><td> 0.003354874</td><td>0.008412043</td><td> 440.9928</td><td>  0.3988180</td><td>6.902203e-01</td></tr>\n",
       "\t<tr><th scope=row>day:comorbidity</th><td> 0.005343657</td><td>0.002186782</td><td> 492.1484</td><td>  2.4436168</td><td>1.489109e-02</td></tr>\n",
       "</tbody>\n",
       "</table>\n"
      ],
      "text/latex": [
       "A matrix: 6 × 5 of type dbl\n",
       "\\begin{tabular}{r|lllll}\n",
       "  & Estimate & Std. Error & df & t value & Pr(>\\textbar{}t\\textbar{})\\\\\n",
       "\\hline\n",
       "\t(Intercept) &  3.287208244 & 0.053355652 & 1021.7032 &  61.6093730 & 0.000000e+00\\\\\n",
       "\tday & -0.082576769 & 0.007023872 &  546.6144 & -11.7565886 & 1.317606e-28\\\\\n",
       "\tbpd &  0.039501858 & 0.067705573 &  976.3614 &   0.5834358 & 5.597347e-01\\\\\n",
       "\tcomorbidity &  0.057593671 & 0.017129069 & 1002.0298 &   3.3623352 & 8.020879e-04\\\\\n",
       "\tday:bpd &  0.003354874 & 0.008412043 &  440.9928 &   0.3988180 & 6.902203e-01\\\\\n",
       "\tday:comorbidity &  0.005343657 & 0.002186782 &  492.1484 &   2.4436168 & 1.489109e-02\\\\\n",
       "\\end{tabular}\n"
      ],
      "text/markdown": [
       "\n",
       "A matrix: 6 × 5 of type dbl\n",
       "\n",
       "| <!--/--> | Estimate | Std. Error | df | t value | Pr(&gt;|t|) |\n",
       "|---|---|---|---|---|---|\n",
       "| (Intercept) |  3.287208244 | 0.053355652 | 1021.7032 |  61.6093730 | 0.000000e+00 |\n",
       "| day | -0.082576769 | 0.007023872 |  546.6144 | -11.7565886 | 1.317606e-28 |\n",
       "| bpd |  0.039501858 | 0.067705573 |  976.3614 |   0.5834358 | 5.597347e-01 |\n",
       "| comorbidity |  0.057593671 | 0.017129069 | 1002.0298 |   3.3623352 | 8.020879e-04 |\n",
       "| day:bpd |  0.003354874 | 0.008412043 |  440.9928 |   0.3988180 | 6.902203e-01 |\n",
       "| day:comorbidity |  0.005343657 | 0.002186782 |  492.1484 |   2.4436168 | 1.489109e-02 |\n",
       "\n"
      ],
      "text/plain": [
       "                Estimate     Std. Error  df        t value     Pr(>|t|)    \n",
       "(Intercept)      3.287208244 0.053355652 1021.7032  61.6093730 0.000000e+00\n",
       "day             -0.082576769 0.007023872  546.6144 -11.7565886 1.317606e-28\n",
       "bpd              0.039501858 0.067705573  976.3614   0.5834358 5.597347e-01\n",
       "comorbidity      0.057593671 0.017129069 1002.0298   3.3623352 8.020879e-04\n",
       "day:bpd          0.003354874 0.008412043  440.9928   0.3988180 6.902203e-01\n",
       "day:comorbidity  0.005343657 0.002186782  492.1484   2.4436168 1.489109e-02"
      ]
     },
     "metadata": {},
     "output_type": "display_data"
    }
   ],
   "source": [
    "#Predcit changes in depression with bpd and comorbidities while controling for txlength\n",
    "\n",
    "print('Symptom reduction')\n",
    "sum_dep_co = summary(lmer(depMean ~ day*(bpd+comorbidity) + (1|uniquePtId)+ (1+day|uniquePtId:ID1), data = dfLongMDDComplete)) \n",
    "sum_dep_co$coefficients\n",
    "\n",
    "print('Functionoing')\n",
    "sum_fun_co = summary(lmer(dep17 ~ day*(bpd+comorbidity) +  (1|uniquePtId)+ (1+day|uniquePtId:ID1), data = dfLongMDDComplete))\n",
    "sum_fun_co$coefficients\n",
    "\n",
    "print('Wellbeing')\n",
    "sum_well_co = summary(lmer(dep18 ~ day*(bpd+comorbidity) +  (1|uniquePtId)+ (1+day|uniquePtId:ID1), data = dfLongMDDComplete))\n",
    "sum_well_co$coefficients"
   ]
  },
  {
   "cell_type": "markdown",
   "id": "difficult-cabinet",
   "metadata": {},
   "source": [
    "### Figure"
   ]
  },
  {
   "cell_type": "code",
   "execution_count": 77,
   "id": "split-frontier",
   "metadata": {},
   "outputs": [
    {
     "name": "stderr",
     "output_type": "stream",
     "text": [
      "Warning message in checkConv(attr(opt, \"derivs\"), opt$par, ctrl = control$checkConv, :\n",
      "“Model failed to converge with max|grad| = 0.00372289 (tol = 0.002, component 1)”\n"
     ]
    }
   ],
   "source": [
    "model_dep = lmer(depMean ~ day*bpd + (1|uniquePtId)+ (1+day|uniquePtId:ID1), data = dfLongMDDComplete)\n",
    "model_fun = lmer(dep17 ~ day*bpd + (1|uniquePtId)+ (1+day|uniquePtId:ID1), data = dfLongMDDComplete)\n",
    "model_well = lmer(dep18 ~ day*bpd + (1|uniquePtId)+ (1+day|uniquePtId:ID1), data = dfLongMDDComplete)\n"
   ]
  },
  {
   "cell_type": "code",
   "execution_count": 78,
   "id": "other-hours",
   "metadata": {},
   "outputs": [],
   "source": [
    "newdata = data.frame(uniquePtId = 1000, ID1 = 1000, day = c(c(0:11),c(0:14)), bpd = c(rep(0,12), rep(1,15)))"
   ]
  },
  {
   "cell_type": "code",
   "execution_count": 80,
   "id": "former-upgrade",
   "metadata": {
    "scrolled": false
   },
   "outputs": [
    {
     "name": "stderr",
     "output_type": "stream",
     "text": [
      "Warning message:\n",
      "“     The following levels of uniquePtId:ID1 from newdata \n",
      " -- NA -- are not in the model data. \n",
      "     Currently, predictions for these values are based only on the \n",
      " fixed coefficients and the observation-level error.”\n",
      "Warning message:\n",
      "“     The following levels of uniquePtId from newdata \n",
      " -- 1000 -- are not in the model data. \n",
      "     Currently, predictions for these values are based only on the \n",
      " fixed coefficients and the observation-level error.”\n",
      "Warning message:\n",
      "“     The following levels of uniquePtId:ID1 from newdata \n",
      " -- NA -- are not in the model data. \n",
      "     Currently, predictions for these values are based only on the \n",
      " fixed coefficients and the observation-level error.”\n",
      "Warning message:\n",
      "“     The following levels of uniquePtId from newdata \n",
      " -- 1000 -- are not in the model data. \n",
      "     Currently, predictions for these values are based only on the \n",
      " fixed coefficients and the observation-level error.”\n",
      "Warning message:\n",
      "“     The following levels of uniquePtId:ID1 from newdata \n",
      " -- NA -- are not in the model data. \n",
      "     Currently, predictions for these values are based only on the \n",
      " fixed coefficients and the observation-level error.”\n",
      "Warning message:\n",
      "“     The following levels of uniquePtId from newdata \n",
      " -- 1000 -- are not in the model data. \n",
      "     Currently, predictions for these values are based only on the \n",
      " fixed coefficients and the observation-level error.”\n"
     ]
    }
   ],
   "source": [
    "pred_bpd_dep = \n",
    "predictInterval(merMod = model_dep, newdata = newdata,\n",
    "                        level = 0.95, n.sims = 1000, which = 'fixed',\n",
    "                        stat = \"median\", type=\"linear.prediction\",                        \n",
    "                        include.resid.var = F)\n",
    "pred_bpd_dep$var = 'Depressive\\nSymptom'\n",
    "\n",
    "pred_bpd_fun = \n",
    "predictInterval(merMod = model_fun, newdata = newdata,\n",
    "                        level = 0.95, n.sims = 1000, which = 'fixed',\n",
    "                        stat = \"median\", type=\"linear.prediction\",                        \n",
    "                        include.resid.var = F)\n",
    "pred_bpd_fun$var = 'Functional\\nImpairment'\n",
    "\n",
    "pred_bpd_well = \n",
    "predictInterval(merMod = model_well, newdata = newdata,\n",
    "                        level = 0.95, n.sims = 1000, which = 'fixed',\n",
    "                        stat = \"median\", type=\"linear.prediction\",                        \n",
    "                        include.resid.var = F)\n",
    "pred_bpd_well$var = 'Life\\nDissatisfaction'"
   ]
  },
  {
   "cell_type": "code",
   "execution_count": 81,
   "id": "editorial-school",
   "metadata": {},
   "outputs": [
    {
     "data": {
      "text/html": [
       "<table class=\"dataframe\">\n",
       "<caption>A data.frame: 81 × 6</caption>\n",
       "<thead>\n",
       "\t<tr><th scope=col>fit</th><th scope=col>upr</th><th scope=col>lwr</th><th scope=col>var</th><th scope=col>day</th><th scope=col>bpd</th></tr>\n",
       "\t<tr><th scope=col>&lt;dbl&gt;</th><th scope=col>&lt;dbl&gt;</th><th scope=col>&lt;dbl&gt;</th><th scope=col>&lt;chr&gt;</th><th scope=col>&lt;int&gt;</th><th scope=col>&lt;dbl&gt;</th></tr>\n",
       "</thead>\n",
       "<tbody>\n",
       "\t<tr><td>3.067082</td><td>3.118352</td><td>3.021623</td><td>Depressive\n",
       "Symptom   </td><td> 0</td><td>0</td></tr>\n",
       "\t<tr><td>2.953209</td><td>3.000657</td><td>2.907774</td><td>Depressive\n",
       "Symptom   </td><td> 1</td><td>0</td></tr>\n",
       "\t<tr><td>2.839009</td><td>2.887165</td><td>2.793312</td><td>Depressive\n",
       "Symptom   </td><td> 2</td><td>0</td></tr>\n",
       "\t<tr><td>2.724823</td><td>2.775163</td><td>2.675916</td><td>Depressive\n",
       "Symptom   </td><td> 3</td><td>0</td></tr>\n",
       "\t<tr><td>2.610864</td><td>2.663219</td><td>2.559650</td><td>Depressive\n",
       "Symptom   </td><td> 4</td><td>0</td></tr>\n",
       "\t<tr><td>2.496461</td><td>2.550617</td><td>2.441769</td><td>Depressive\n",
       "Symptom   </td><td> 5</td><td>0</td></tr>\n",
       "\t<tr><td>2.382147</td><td>2.438261</td><td>2.320584</td><td>Depressive\n",
       "Symptom   </td><td> 6</td><td>0</td></tr>\n",
       "\t<tr><td>2.267736</td><td>2.327048</td><td>2.200401</td><td>Depressive\n",
       "Symptom   </td><td> 7</td><td>0</td></tr>\n",
       "\t<tr><td>2.153690</td><td>2.219663</td><td>2.079567</td><td>Depressive\n",
       "Symptom   </td><td> 8</td><td>0</td></tr>\n",
       "\t<tr><td>2.039782</td><td>2.110911</td><td>1.962396</td><td>Depressive\n",
       "Symptom   </td><td> 9</td><td>0</td></tr>\n",
       "\t<tr><td>1.925778</td><td>2.004016</td><td>1.841880</td><td>Depressive\n",
       "Symptom   </td><td>10</td><td>0</td></tr>\n",
       "\t<tr><td>1.811410</td><td>1.897701</td><td>1.722323</td><td>Depressive\n",
       "Symptom   </td><td>11</td><td>0</td></tr>\n",
       "\t<tr><td>3.293027</td><td>3.398370</td><td>3.179706</td><td>Depressive\n",
       "Symptom   </td><td> 0</td><td>1</td></tr>\n",
       "\t<tr><td>3.198643</td><td>3.298254</td><td>3.086655</td><td>Depressive\n",
       "Symptom   </td><td> 1</td><td>1</td></tr>\n",
       "\t<tr><td>3.101237</td><td>3.206051</td><td>2.987853</td><td>Depressive\n",
       "Symptom   </td><td> 2</td><td>1</td></tr>\n",
       "\t<tr><td>3.005789</td><td>3.113912</td><td>2.888044</td><td>Depressive\n",
       "Symptom   </td><td> 3</td><td>1</td></tr>\n",
       "\t<tr><td>2.909663</td><td>3.021994</td><td>2.788915</td><td>Depressive\n",
       "Symptom   </td><td> 4</td><td>1</td></tr>\n",
       "\t<tr><td>2.812875</td><td>2.929378</td><td>2.686603</td><td>Depressive\n",
       "Symptom   </td><td> 5</td><td>1</td></tr>\n",
       "\t<tr><td>2.717579</td><td>2.843198</td><td>2.585065</td><td>Depressive\n",
       "Symptom   </td><td> 6</td><td>1</td></tr>\n",
       "\t<tr><td>2.621418</td><td>2.760281</td><td>2.477813</td><td>Depressive\n",
       "Symptom   </td><td> 7</td><td>1</td></tr>\n",
       "\t<tr><td>2.526849</td><td>2.678505</td><td>2.370435</td><td>Depressive\n",
       "Symptom   </td><td> 8</td><td>1</td></tr>\n",
       "\t<tr><td>2.431471</td><td>2.596190</td><td>2.266600</td><td>Depressive\n",
       "Symptom   </td><td> 9</td><td>1</td></tr>\n",
       "\t<tr><td>2.335059</td><td>2.512863</td><td>2.162254</td><td>Depressive\n",
       "Symptom   </td><td>10</td><td>1</td></tr>\n",
       "\t<tr><td>2.239335</td><td>2.428351</td><td>2.052015</td><td>Depressive\n",
       "Symptom   </td><td>11</td><td>1</td></tr>\n",
       "\t<tr><td>2.144154</td><td>2.344185</td><td>1.941109</td><td>Depressive\n",
       "Symptom   </td><td>12</td><td>1</td></tr>\n",
       "\t<tr><td>2.048355</td><td>2.258946</td><td>1.830384</td><td>Depressive\n",
       "Symptom   </td><td>13</td><td>1</td></tr>\n",
       "\t<tr><td>1.953382</td><td>2.176903</td><td>1.719874</td><td>Depressive\n",
       "Symptom   </td><td>14</td><td>1</td></tr>\n",
       "\t<tr><td>3.539178</td><td>3.612598</td><td>3.471761</td><td>Functional\n",
       "Impairment</td><td> 0</td><td>0</td></tr>\n",
       "\t<tr><td>3.438467</td><td>3.506217</td><td>3.373543</td><td>Functional\n",
       "Impairment</td><td> 1</td><td>0</td></tr>\n",
       "\t<tr><td>3.336575</td><td>3.402894</td><td>3.272777</td><td>Functional\n",
       "Impairment</td><td> 2</td><td>0</td></tr>\n",
       "\t<tr><td>⋮</td><td>⋮</td><td>⋮</td><td>⋮</td><td>⋮</td><td>⋮</td></tr>\n",
       "\t<tr><td>2.656039</td><td>2.870611</td><td>2.430958</td><td>Functional\n",
       "Impairment</td><td>12</td><td>1</td></tr>\n",
       "\t<tr><td>2.570609</td><td>2.793442</td><td>2.326320</td><td>Functional\n",
       "Impairment</td><td>13</td><td>1</td></tr>\n",
       "\t<tr><td>2.485753</td><td>2.722283</td><td>2.223763</td><td>Functional\n",
       "Impairment</td><td>14</td><td>1</td></tr>\n",
       "\t<tr><td>3.440831</td><td>3.495936</td><td>3.387897</td><td>Life\n",
       "Dissatisfaction </td><td> 0</td><td>0</td></tr>\n",
       "\t<tr><td>3.372589</td><td>3.426976</td><td>3.321515</td><td>Life\n",
       "Dissatisfaction </td><td> 1</td><td>0</td></tr>\n",
       "\t<tr><td>3.304826</td><td>3.356308</td><td>3.253405</td><td>Life\n",
       "Dissatisfaction </td><td> 2</td><td>0</td></tr>\n",
       "\t<tr><td>3.236798</td><td>3.288465</td><td>3.184898</td><td>Life\n",
       "Dissatisfaction </td><td> 3</td><td>0</td></tr>\n",
       "\t<tr><td>3.168497</td><td>3.219360</td><td>3.116295</td><td>Life\n",
       "Dissatisfaction </td><td> 4</td><td>0</td></tr>\n",
       "\t<tr><td>3.100228</td><td>3.154124</td><td>3.046925</td><td>Life\n",
       "Dissatisfaction </td><td> 5</td><td>0</td></tr>\n",
       "\t<tr><td>3.032815</td><td>3.088765</td><td>2.977046</td><td>Life\n",
       "Dissatisfaction </td><td> 6</td><td>0</td></tr>\n",
       "\t<tr><td>2.965531</td><td>3.023160</td><td>2.908176</td><td>Life\n",
       "Dissatisfaction </td><td> 7</td><td>0</td></tr>\n",
       "\t<tr><td>2.897724</td><td>2.958395</td><td>2.836733</td><td>Life\n",
       "Dissatisfaction </td><td> 8</td><td>0</td></tr>\n",
       "\t<tr><td>2.830494</td><td>2.894381</td><td>2.764696</td><td>Life\n",
       "Dissatisfaction </td><td> 9</td><td>0</td></tr>\n",
       "\t<tr><td>2.762702</td><td>2.830353</td><td>2.690488</td><td>Life\n",
       "Dissatisfaction </td><td>10</td><td>0</td></tr>\n",
       "\t<tr><td>2.694819</td><td>2.767838</td><td>2.617742</td><td>Life\n",
       "Dissatisfaction </td><td>11</td><td>0</td></tr>\n",
       "\t<tr><td>3.561593</td><td>3.674286</td><td>3.448858</td><td>Life\n",
       "Dissatisfaction </td><td> 0</td><td>1</td></tr>\n",
       "\t<tr><td>3.506357</td><td>3.615054</td><td>3.396073</td><td>Life\n",
       "Dissatisfaction </td><td> 1</td><td>1</td></tr>\n",
       "\t<tr><td>3.451431</td><td>3.557877</td><td>3.339957</td><td>Life\n",
       "Dissatisfaction </td><td> 2</td><td>1</td></tr>\n",
       "\t<tr><td>3.393760</td><td>3.500653</td><td>3.286210</td><td>Life\n",
       "Dissatisfaction </td><td> 3</td><td>1</td></tr>\n",
       "\t<tr><td>3.336570</td><td>3.442759</td><td>3.226564</td><td>Life\n",
       "Dissatisfaction </td><td> 4</td><td>1</td></tr>\n",
       "\t<tr><td>3.280186</td><td>3.392098</td><td>3.166301</td><td>Life\n",
       "Dissatisfaction </td><td> 5</td><td>1</td></tr>\n",
       "\t<tr><td>3.222890</td><td>3.336186</td><td>3.105142</td><td>Life\n",
       "Dissatisfaction </td><td> 6</td><td>1</td></tr>\n",
       "\t<tr><td>3.165736</td><td>3.285666</td><td>3.043740</td><td>Life\n",
       "Dissatisfaction </td><td> 7</td><td>1</td></tr>\n",
       "\t<tr><td>3.110047</td><td>3.238823</td><td>2.975449</td><td>Life\n",
       "Dissatisfaction </td><td> 8</td><td>1</td></tr>\n",
       "\t<tr><td>3.053777</td><td>3.191258</td><td>2.910640</td><td>Life\n",
       "Dissatisfaction </td><td> 9</td><td>1</td></tr>\n",
       "\t<tr><td>2.997097</td><td>3.145246</td><td>2.844842</td><td>Life\n",
       "Dissatisfaction </td><td>10</td><td>1</td></tr>\n",
       "\t<tr><td>2.940882</td><td>3.098058</td><td>2.778584</td><td>Life\n",
       "Dissatisfaction </td><td>11</td><td>1</td></tr>\n",
       "\t<tr><td>2.883373</td><td>3.046953</td><td>2.712915</td><td>Life\n",
       "Dissatisfaction </td><td>12</td><td>1</td></tr>\n",
       "\t<tr><td>2.825429</td><td>2.998448</td><td>2.648371</td><td>Life\n",
       "Dissatisfaction </td><td>13</td><td>1</td></tr>\n",
       "\t<tr><td>2.767499</td><td>2.950092</td><td>2.580349</td><td>Life\n",
       "Dissatisfaction </td><td>14</td><td>1</td></tr>\n",
       "</tbody>\n",
       "</table>\n"
      ],
      "text/latex": [
       "A data.frame: 81 × 6\n",
       "\\begin{tabular}{llllll}\n",
       " fit & upr & lwr & var & day & bpd\\\\\n",
       " <dbl> & <dbl> & <dbl> & <chr> & <int> & <dbl>\\\\\n",
       "\\hline\n",
       "\t 3.067082 & 3.118352 & 3.021623 & Depressive\n",
       "Symptom    &  0 & 0\\\\\n",
       "\t 2.953209 & 3.000657 & 2.907774 & Depressive\n",
       "Symptom    &  1 & 0\\\\\n",
       "\t 2.839009 & 2.887165 & 2.793312 & Depressive\n",
       "Symptom    &  2 & 0\\\\\n",
       "\t 2.724823 & 2.775163 & 2.675916 & Depressive\n",
       "Symptom    &  3 & 0\\\\\n",
       "\t 2.610864 & 2.663219 & 2.559650 & Depressive\n",
       "Symptom    &  4 & 0\\\\\n",
       "\t 2.496461 & 2.550617 & 2.441769 & Depressive\n",
       "Symptom    &  5 & 0\\\\\n",
       "\t 2.382147 & 2.438261 & 2.320584 & Depressive\n",
       "Symptom    &  6 & 0\\\\\n",
       "\t 2.267736 & 2.327048 & 2.200401 & Depressive\n",
       "Symptom    &  7 & 0\\\\\n",
       "\t 2.153690 & 2.219663 & 2.079567 & Depressive\n",
       "Symptom    &  8 & 0\\\\\n",
       "\t 2.039782 & 2.110911 & 1.962396 & Depressive\n",
       "Symptom    &  9 & 0\\\\\n",
       "\t 1.925778 & 2.004016 & 1.841880 & Depressive\n",
       "Symptom    & 10 & 0\\\\\n",
       "\t 1.811410 & 1.897701 & 1.722323 & Depressive\n",
       "Symptom    & 11 & 0\\\\\n",
       "\t 3.293027 & 3.398370 & 3.179706 & Depressive\n",
       "Symptom    &  0 & 1\\\\\n",
       "\t 3.198643 & 3.298254 & 3.086655 & Depressive\n",
       "Symptom    &  1 & 1\\\\\n",
       "\t 3.101237 & 3.206051 & 2.987853 & Depressive\n",
       "Symptom    &  2 & 1\\\\\n",
       "\t 3.005789 & 3.113912 & 2.888044 & Depressive\n",
       "Symptom    &  3 & 1\\\\\n",
       "\t 2.909663 & 3.021994 & 2.788915 & Depressive\n",
       "Symptom    &  4 & 1\\\\\n",
       "\t 2.812875 & 2.929378 & 2.686603 & Depressive\n",
       "Symptom    &  5 & 1\\\\\n",
       "\t 2.717579 & 2.843198 & 2.585065 & Depressive\n",
       "Symptom    &  6 & 1\\\\\n",
       "\t 2.621418 & 2.760281 & 2.477813 & Depressive\n",
       "Symptom    &  7 & 1\\\\\n",
       "\t 2.526849 & 2.678505 & 2.370435 & Depressive\n",
       "Symptom    &  8 & 1\\\\\n",
       "\t 2.431471 & 2.596190 & 2.266600 & Depressive\n",
       "Symptom    &  9 & 1\\\\\n",
       "\t 2.335059 & 2.512863 & 2.162254 & Depressive\n",
       "Symptom    & 10 & 1\\\\\n",
       "\t 2.239335 & 2.428351 & 2.052015 & Depressive\n",
       "Symptom    & 11 & 1\\\\\n",
       "\t 2.144154 & 2.344185 & 1.941109 & Depressive\n",
       "Symptom    & 12 & 1\\\\\n",
       "\t 2.048355 & 2.258946 & 1.830384 & Depressive\n",
       "Symptom    & 13 & 1\\\\\n",
       "\t 1.953382 & 2.176903 & 1.719874 & Depressive\n",
       "Symptom    & 14 & 1\\\\\n",
       "\t 3.539178 & 3.612598 & 3.471761 & Functional\n",
       "Impairment &  0 & 0\\\\\n",
       "\t 3.438467 & 3.506217 & 3.373543 & Functional\n",
       "Impairment &  1 & 0\\\\\n",
       "\t 3.336575 & 3.402894 & 3.272777 & Functional\n",
       "Impairment &  2 & 0\\\\\n",
       "\t ⋮ & ⋮ & ⋮ & ⋮ & ⋮ & ⋮\\\\\n",
       "\t 2.656039 & 2.870611 & 2.430958 & Functional\n",
       "Impairment & 12 & 1\\\\\n",
       "\t 2.570609 & 2.793442 & 2.326320 & Functional\n",
       "Impairment & 13 & 1\\\\\n",
       "\t 2.485753 & 2.722283 & 2.223763 & Functional\n",
       "Impairment & 14 & 1\\\\\n",
       "\t 3.440831 & 3.495936 & 3.387897 & Life\n",
       "Dissatisfaction  &  0 & 0\\\\\n",
       "\t 3.372589 & 3.426976 & 3.321515 & Life\n",
       "Dissatisfaction  &  1 & 0\\\\\n",
       "\t 3.304826 & 3.356308 & 3.253405 & Life\n",
       "Dissatisfaction  &  2 & 0\\\\\n",
       "\t 3.236798 & 3.288465 & 3.184898 & Life\n",
       "Dissatisfaction  &  3 & 0\\\\\n",
       "\t 3.168497 & 3.219360 & 3.116295 & Life\n",
       "Dissatisfaction  &  4 & 0\\\\\n",
       "\t 3.100228 & 3.154124 & 3.046925 & Life\n",
       "Dissatisfaction  &  5 & 0\\\\\n",
       "\t 3.032815 & 3.088765 & 2.977046 & Life\n",
       "Dissatisfaction  &  6 & 0\\\\\n",
       "\t 2.965531 & 3.023160 & 2.908176 & Life\n",
       "Dissatisfaction  &  7 & 0\\\\\n",
       "\t 2.897724 & 2.958395 & 2.836733 & Life\n",
       "Dissatisfaction  &  8 & 0\\\\\n",
       "\t 2.830494 & 2.894381 & 2.764696 & Life\n",
       "Dissatisfaction  &  9 & 0\\\\\n",
       "\t 2.762702 & 2.830353 & 2.690488 & Life\n",
       "Dissatisfaction  & 10 & 0\\\\\n",
       "\t 2.694819 & 2.767838 & 2.617742 & Life\n",
       "Dissatisfaction  & 11 & 0\\\\\n",
       "\t 3.561593 & 3.674286 & 3.448858 & Life\n",
       "Dissatisfaction  &  0 & 1\\\\\n",
       "\t 3.506357 & 3.615054 & 3.396073 & Life\n",
       "Dissatisfaction  &  1 & 1\\\\\n",
       "\t 3.451431 & 3.557877 & 3.339957 & Life\n",
       "Dissatisfaction  &  2 & 1\\\\\n",
       "\t 3.393760 & 3.500653 & 3.286210 & Life\n",
       "Dissatisfaction  &  3 & 1\\\\\n",
       "\t 3.336570 & 3.442759 & 3.226564 & Life\n",
       "Dissatisfaction  &  4 & 1\\\\\n",
       "\t 3.280186 & 3.392098 & 3.166301 & Life\n",
       "Dissatisfaction  &  5 & 1\\\\\n",
       "\t 3.222890 & 3.336186 & 3.105142 & Life\n",
       "Dissatisfaction  &  6 & 1\\\\\n",
       "\t 3.165736 & 3.285666 & 3.043740 & Life\n",
       "Dissatisfaction  &  7 & 1\\\\\n",
       "\t 3.110047 & 3.238823 & 2.975449 & Life\n",
       "Dissatisfaction  &  8 & 1\\\\\n",
       "\t 3.053777 & 3.191258 & 2.910640 & Life\n",
       "Dissatisfaction  &  9 & 1\\\\\n",
       "\t 2.997097 & 3.145246 & 2.844842 & Life\n",
       "Dissatisfaction  & 10 & 1\\\\\n",
       "\t 2.940882 & 3.098058 & 2.778584 & Life\n",
       "Dissatisfaction  & 11 & 1\\\\\n",
       "\t 2.883373 & 3.046953 & 2.712915 & Life\n",
       "Dissatisfaction  & 12 & 1\\\\\n",
       "\t 2.825429 & 2.998448 & 2.648371 & Life\n",
       "Dissatisfaction  & 13 & 1\\\\\n",
       "\t 2.767499 & 2.950092 & 2.580349 & Life\n",
       "Dissatisfaction  & 14 & 1\\\\\n",
       "\\end{tabular}\n"
      ],
      "text/markdown": [
       "\n",
       "A data.frame: 81 × 6\n",
       "\n",
       "| fit &lt;dbl&gt; | upr &lt;dbl&gt; | lwr &lt;dbl&gt; | var &lt;chr&gt; | day &lt;int&gt; | bpd &lt;dbl&gt; |\n",
       "|---|---|---|---|---|---|\n",
       "| 3.067082 | 3.118352 | 3.021623 | Depressive\n",
       "Symptom    |  0 | 0 |\n",
       "| 2.953209 | 3.000657 | 2.907774 | Depressive\n",
       "Symptom    |  1 | 0 |\n",
       "| 2.839009 | 2.887165 | 2.793312 | Depressive\n",
       "Symptom    |  2 | 0 |\n",
       "| 2.724823 | 2.775163 | 2.675916 | Depressive\n",
       "Symptom    |  3 | 0 |\n",
       "| 2.610864 | 2.663219 | 2.559650 | Depressive\n",
       "Symptom    |  4 | 0 |\n",
       "| 2.496461 | 2.550617 | 2.441769 | Depressive\n",
       "Symptom    |  5 | 0 |\n",
       "| 2.382147 | 2.438261 | 2.320584 | Depressive\n",
       "Symptom    |  6 | 0 |\n",
       "| 2.267736 | 2.327048 | 2.200401 | Depressive\n",
       "Symptom    |  7 | 0 |\n",
       "| 2.153690 | 2.219663 | 2.079567 | Depressive\n",
       "Symptom    |  8 | 0 |\n",
       "| 2.039782 | 2.110911 | 1.962396 | Depressive\n",
       "Symptom    |  9 | 0 |\n",
       "| 1.925778 | 2.004016 | 1.841880 | Depressive\n",
       "Symptom    | 10 | 0 |\n",
       "| 1.811410 | 1.897701 | 1.722323 | Depressive\n",
       "Symptom    | 11 | 0 |\n",
       "| 3.293027 | 3.398370 | 3.179706 | Depressive\n",
       "Symptom    |  0 | 1 |\n",
       "| 3.198643 | 3.298254 | 3.086655 | Depressive\n",
       "Symptom    |  1 | 1 |\n",
       "| 3.101237 | 3.206051 | 2.987853 | Depressive\n",
       "Symptom    |  2 | 1 |\n",
       "| 3.005789 | 3.113912 | 2.888044 | Depressive\n",
       "Symptom    |  3 | 1 |\n",
       "| 2.909663 | 3.021994 | 2.788915 | Depressive\n",
       "Symptom    |  4 | 1 |\n",
       "| 2.812875 | 2.929378 | 2.686603 | Depressive\n",
       "Symptom    |  5 | 1 |\n",
       "| 2.717579 | 2.843198 | 2.585065 | Depressive\n",
       "Symptom    |  6 | 1 |\n",
       "| 2.621418 | 2.760281 | 2.477813 | Depressive\n",
       "Symptom    |  7 | 1 |\n",
       "| 2.526849 | 2.678505 | 2.370435 | Depressive\n",
       "Symptom    |  8 | 1 |\n",
       "| 2.431471 | 2.596190 | 2.266600 | Depressive\n",
       "Symptom    |  9 | 1 |\n",
       "| 2.335059 | 2.512863 | 2.162254 | Depressive\n",
       "Symptom    | 10 | 1 |\n",
       "| 2.239335 | 2.428351 | 2.052015 | Depressive\n",
       "Symptom    | 11 | 1 |\n",
       "| 2.144154 | 2.344185 | 1.941109 | Depressive\n",
       "Symptom    | 12 | 1 |\n",
       "| 2.048355 | 2.258946 | 1.830384 | Depressive\n",
       "Symptom    | 13 | 1 |\n",
       "| 1.953382 | 2.176903 | 1.719874 | Depressive\n",
       "Symptom    | 14 | 1 |\n",
       "| 3.539178 | 3.612598 | 3.471761 | Functional\n",
       "Impairment |  0 | 0 |\n",
       "| 3.438467 | 3.506217 | 3.373543 | Functional\n",
       "Impairment |  1 | 0 |\n",
       "| 3.336575 | 3.402894 | 3.272777 | Functional\n",
       "Impairment |  2 | 0 |\n",
       "| ⋮ | ⋮ | ⋮ | ⋮ | ⋮ | ⋮ |\n",
       "| 2.656039 | 2.870611 | 2.430958 | Functional\n",
       "Impairment | 12 | 1 |\n",
       "| 2.570609 | 2.793442 | 2.326320 | Functional\n",
       "Impairment | 13 | 1 |\n",
       "| 2.485753 | 2.722283 | 2.223763 | Functional\n",
       "Impairment | 14 | 1 |\n",
       "| 3.440831 | 3.495936 | 3.387897 | Life\n",
       "Dissatisfaction  |  0 | 0 |\n",
       "| 3.372589 | 3.426976 | 3.321515 | Life\n",
       "Dissatisfaction  |  1 | 0 |\n",
       "| 3.304826 | 3.356308 | 3.253405 | Life\n",
       "Dissatisfaction  |  2 | 0 |\n",
       "| 3.236798 | 3.288465 | 3.184898 | Life\n",
       "Dissatisfaction  |  3 | 0 |\n",
       "| 3.168497 | 3.219360 | 3.116295 | Life\n",
       "Dissatisfaction  |  4 | 0 |\n",
       "| 3.100228 | 3.154124 | 3.046925 | Life\n",
       "Dissatisfaction  |  5 | 0 |\n",
       "| 3.032815 | 3.088765 | 2.977046 | Life\n",
       "Dissatisfaction  |  6 | 0 |\n",
       "| 2.965531 | 3.023160 | 2.908176 | Life\n",
       "Dissatisfaction  |  7 | 0 |\n",
       "| 2.897724 | 2.958395 | 2.836733 | Life\n",
       "Dissatisfaction  |  8 | 0 |\n",
       "| 2.830494 | 2.894381 | 2.764696 | Life\n",
       "Dissatisfaction  |  9 | 0 |\n",
       "| 2.762702 | 2.830353 | 2.690488 | Life\n",
       "Dissatisfaction  | 10 | 0 |\n",
       "| 2.694819 | 2.767838 | 2.617742 | Life\n",
       "Dissatisfaction  | 11 | 0 |\n",
       "| 3.561593 | 3.674286 | 3.448858 | Life\n",
       "Dissatisfaction  |  0 | 1 |\n",
       "| 3.506357 | 3.615054 | 3.396073 | Life\n",
       "Dissatisfaction  |  1 | 1 |\n",
       "| 3.451431 | 3.557877 | 3.339957 | Life\n",
       "Dissatisfaction  |  2 | 1 |\n",
       "| 3.393760 | 3.500653 | 3.286210 | Life\n",
       "Dissatisfaction  |  3 | 1 |\n",
       "| 3.336570 | 3.442759 | 3.226564 | Life\n",
       "Dissatisfaction  |  4 | 1 |\n",
       "| 3.280186 | 3.392098 | 3.166301 | Life\n",
       "Dissatisfaction  |  5 | 1 |\n",
       "| 3.222890 | 3.336186 | 3.105142 | Life\n",
       "Dissatisfaction  |  6 | 1 |\n",
       "| 3.165736 | 3.285666 | 3.043740 | Life\n",
       "Dissatisfaction  |  7 | 1 |\n",
       "| 3.110047 | 3.238823 | 2.975449 | Life\n",
       "Dissatisfaction  |  8 | 1 |\n",
       "| 3.053777 | 3.191258 | 2.910640 | Life\n",
       "Dissatisfaction  |  9 | 1 |\n",
       "| 2.997097 | 3.145246 | 2.844842 | Life\n",
       "Dissatisfaction  | 10 | 1 |\n",
       "| 2.940882 | 3.098058 | 2.778584 | Life\n",
       "Dissatisfaction  | 11 | 1 |\n",
       "| 2.883373 | 3.046953 | 2.712915 | Life\n",
       "Dissatisfaction  | 12 | 1 |\n",
       "| 2.825429 | 2.998448 | 2.648371 | Life\n",
       "Dissatisfaction  | 13 | 1 |\n",
       "| 2.767499 | 2.950092 | 2.580349 | Life\n",
       "Dissatisfaction  | 14 | 1 |\n",
       "\n"
      ],
      "text/plain": [
       "   fit      upr      lwr      var                    day bpd\n",
       "1  3.067082 3.118352 3.021623 Depressive\\nSymptom     0  0  \n",
       "2  2.953209 3.000657 2.907774 Depressive\\nSymptom     1  0  \n",
       "3  2.839009 2.887165 2.793312 Depressive\\nSymptom     2  0  \n",
       "4  2.724823 2.775163 2.675916 Depressive\\nSymptom     3  0  \n",
       "5  2.610864 2.663219 2.559650 Depressive\\nSymptom     4  0  \n",
       "6  2.496461 2.550617 2.441769 Depressive\\nSymptom     5  0  \n",
       "7  2.382147 2.438261 2.320584 Depressive\\nSymptom     6  0  \n",
       "8  2.267736 2.327048 2.200401 Depressive\\nSymptom     7  0  \n",
       "9  2.153690 2.219663 2.079567 Depressive\\nSymptom     8  0  \n",
       "10 2.039782 2.110911 1.962396 Depressive\\nSymptom     9  0  \n",
       "11 1.925778 2.004016 1.841880 Depressive\\nSymptom    10  0  \n",
       "12 1.811410 1.897701 1.722323 Depressive\\nSymptom    11  0  \n",
       "13 3.293027 3.398370 3.179706 Depressive\\nSymptom     0  1  \n",
       "14 3.198643 3.298254 3.086655 Depressive\\nSymptom     1  1  \n",
       "15 3.101237 3.206051 2.987853 Depressive\\nSymptom     2  1  \n",
       "16 3.005789 3.113912 2.888044 Depressive\\nSymptom     3  1  \n",
       "17 2.909663 3.021994 2.788915 Depressive\\nSymptom     4  1  \n",
       "18 2.812875 2.929378 2.686603 Depressive\\nSymptom     5  1  \n",
       "19 2.717579 2.843198 2.585065 Depressive\\nSymptom     6  1  \n",
       "20 2.621418 2.760281 2.477813 Depressive\\nSymptom     7  1  \n",
       "21 2.526849 2.678505 2.370435 Depressive\\nSymptom     8  1  \n",
       "22 2.431471 2.596190 2.266600 Depressive\\nSymptom     9  1  \n",
       "23 2.335059 2.512863 2.162254 Depressive\\nSymptom    10  1  \n",
       "24 2.239335 2.428351 2.052015 Depressive\\nSymptom    11  1  \n",
       "25 2.144154 2.344185 1.941109 Depressive\\nSymptom    12  1  \n",
       "26 2.048355 2.258946 1.830384 Depressive\\nSymptom    13  1  \n",
       "27 1.953382 2.176903 1.719874 Depressive\\nSymptom    14  1  \n",
       "28 3.539178 3.612598 3.471761 Functional\\nImpairment  0  0  \n",
       "29 3.438467 3.506217 3.373543 Functional\\nImpairment  1  0  \n",
       "30 3.336575 3.402894 3.272777 Functional\\nImpairment  2  0  \n",
       "⋮  ⋮        ⋮        ⋮        ⋮                      ⋮   ⋮  \n",
       "52 2.656039 2.870611 2.430958 Functional\\nImpairment 12  1  \n",
       "53 2.570609 2.793442 2.326320 Functional\\nImpairment 13  1  \n",
       "54 2.485753 2.722283 2.223763 Functional\\nImpairment 14  1  \n",
       "55 3.440831 3.495936 3.387897 Life\\nDissatisfaction   0  0  \n",
       "56 3.372589 3.426976 3.321515 Life\\nDissatisfaction   1  0  \n",
       "57 3.304826 3.356308 3.253405 Life\\nDissatisfaction   2  0  \n",
       "58 3.236798 3.288465 3.184898 Life\\nDissatisfaction   3  0  \n",
       "59 3.168497 3.219360 3.116295 Life\\nDissatisfaction   4  0  \n",
       "60 3.100228 3.154124 3.046925 Life\\nDissatisfaction   5  0  \n",
       "61 3.032815 3.088765 2.977046 Life\\nDissatisfaction   6  0  \n",
       "62 2.965531 3.023160 2.908176 Life\\nDissatisfaction   7  0  \n",
       "63 2.897724 2.958395 2.836733 Life\\nDissatisfaction   8  0  \n",
       "64 2.830494 2.894381 2.764696 Life\\nDissatisfaction   9  0  \n",
       "65 2.762702 2.830353 2.690488 Life\\nDissatisfaction  10  0  \n",
       "66 2.694819 2.767838 2.617742 Life\\nDissatisfaction  11  0  \n",
       "67 3.561593 3.674286 3.448858 Life\\nDissatisfaction   0  1  \n",
       "68 3.506357 3.615054 3.396073 Life\\nDissatisfaction   1  1  \n",
       "69 3.451431 3.557877 3.339957 Life\\nDissatisfaction   2  1  \n",
       "70 3.393760 3.500653 3.286210 Life\\nDissatisfaction   3  1  \n",
       "71 3.336570 3.442759 3.226564 Life\\nDissatisfaction   4  1  \n",
       "72 3.280186 3.392098 3.166301 Life\\nDissatisfaction   5  1  \n",
       "73 3.222890 3.336186 3.105142 Life\\nDissatisfaction   6  1  \n",
       "74 3.165736 3.285666 3.043740 Life\\nDissatisfaction   7  1  \n",
       "75 3.110047 3.238823 2.975449 Life\\nDissatisfaction   8  1  \n",
       "76 3.053777 3.191258 2.910640 Life\\nDissatisfaction   9  1  \n",
       "77 2.997097 3.145246 2.844842 Life\\nDissatisfaction  10  1  \n",
       "78 2.940882 3.098058 2.778584 Life\\nDissatisfaction  11  1  \n",
       "79 2.883373 3.046953 2.712915 Life\\nDissatisfaction  12  1  \n",
       "80 2.825429 2.998448 2.648371 Life\\nDissatisfaction  13  1  \n",
       "81 2.767499 2.950092 2.580349 Life\\nDissatisfaction  14  1  "
      ]
     },
     "metadata": {},
     "output_type": "display_data"
    }
   ],
   "source": [
    "pred_bpd = rbind(pred_bpd_dep, pred_bpd_fun, pred_bpd_well)\n",
    "pred_bpd$day = c(c(0:11),c(0:14))\n",
    "pred_bpd$bpd = c(rep(0,12), rep(1,15))\n",
    "pred_bpd\n"
   ]
  },
  {
   "cell_type": "code",
   "execution_count": 87,
   "id": "reflected-venture",
   "metadata": {},
   "outputs": [
    {
     "data": {
      "image/png": "[encoded data removed]",
      "text/plain": [
       "plot without title"
      ]
     },
     "metadata": {
      "image/png": {
       "height": 420,
       "width": 420
      }
     },
     "output_type": "display_data"
    }
   ],
   "source": [
    "ggplot(pred_bpd , aes(x = day, y = fit, group = bpd, color = as.factor(bpd))) +\n",
    "     geom_point(size = 2) +\n",
    "     geom_ribbon(aes(ymin = lwr, ymax = upr, color = NULL, fill = as.factor(bpd)), alpha = .3) +\n",
    "     geom_line(aes(y = fit), size = 1) + \n",
    "     facet_grid(~var) +\n",
    "     theme_classic() + \n",
    "     xlab('Day') + \n",
    "     ylab('Predictive Score') +\n",
    "     scale_color_manual('Comorbidity',values = c('#3F3F3F','#B22F4A'),labels=c(\"BPD Absent\",\"BPD Present\")) + \n",
    "     scale_fill_manual('Comorbidity', values = c('#3F3F3F','#B22F4A'),labels=c(\"BPD Absent\",\"BPD Present\")) +\n",
    "     theme(\n",
    "         strip.text.x = element_text(size = 12, face = 'bold'),\n",
    "         title = element_text(size = 12, face = 'bold'),\n",
    "         legend.text = element_text(size = 10),\n",
    "         axis.title = element_text(size = 10, face = 'bold'),\n",
    "         axis.text = element_text(size = 10),\n",
    "         text=element_text(family=\"Helvetica\"))\n",
    "         "
   ]
  },
  {
   "cell_type": "code",
   "execution_count": 89,
   "id": "threatened-newport",
   "metadata": {
    "scrolled": false
   },
   "outputs": [
    {
     "data": {
      "image/png": "[encoded data removed]",
      "text/plain": [
       "plot without title"
      ]
     },
     "metadata": {
      "image/png": {
       "height": 420,
       "width": 420
      }
     },
     "output_type": "display_data"
    }
   ],
   "source": [
    "#Size adjustment for pdf (ignore the display)\n",
    "ggplot(pred_bpd , aes(x = day, y = fit, group = bpd, color = as.factor(bpd))) +\n",
    "     geom_point(size = 10) +\n",
    "     geom_ribbon(aes(ymin = lwr, ymax = upr, color = NULL, fill = as.factor(bpd)), alpha = .3) +\n",
    "     geom_line(aes(y = fit), size = 6) + \n",
    "     facet_grid(~var) +\n",
    "     theme_classic() + \n",
    "     xlab('Day') + \n",
    "     ylab('Predictive Score') +\n",
    "     scale_color_manual('Comorbidity',values = c('#3F3F3F','#B22F4A'),labels=c(\"BPD Absent\",\"BPD Present\")) + \n",
    "     scale_fill_manual('Comorbidity', values = c('#3F3F3F','#B22F4A'),labels=c(\"BPD Absent\",\"BPD Present\")) +\n",
    "     theme(\n",
    "         strip.text.x = element_text(size = 90, face = 'bold'),\n",
    "         title = element_text(size = 88, face = 'bold'),\n",
    "         legend.text = element_text(size = 86),\n",
    "         axis.title = element_text(size = 88, face = 'bold'),\n",
    "         axis.text = element_text(size = 86),\n",
    "         text=element_text(family=\"Helvetica\"))\n",
    "\n",
    "ggsave(width = 40, height = 40, filename = \"Results.pdf\")"
   ]
  }
 ],
 "metadata": {
  "kernelspec": {
   "display_name": "R",
   "language": "R",
   "name": "ir"
  },
  "language_info": {
   "codemirror_mode": "r",
   "file_extension": ".r",
   "mimetype": "text/x-r-source",
   "name": "R",
   "pygments_lexer": "r",
   "version": "3.6.3"
  }
 },
 "nbformat": 4,
 "nbformat_minor": 5
}
