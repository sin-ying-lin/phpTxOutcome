{
 "cells": [
  {
   "cell_type": "code",
   "execution_count": 74,
   "id": "passive-payment",
   "metadata": {},
   "outputs": [],
   "source": [
    "library('dplyr')\n",
    "library('effsize')\n",
    "library('ggplot2')\n",
    "library('foreign')\n",
    "library('pscl')\n",
    "library('ggrepel')\n",
    "library('epitools')"
   ]
  },
  {
   "cell_type": "code",
   "execution_count": 2,
   "id": "introductory-sterling",
   "metadata": {
    "scrolled": true
   },
   "outputs": [
    {
     "name": "stderr",
     "output_type": "stream",
     "text": [
      "Warning message in read.spss(\"../Data/DemosDx/Tx Day Consent Log_1.sav\"):\n",
      "“Undeclared level(s) 0, 11, 12 added in variable: DC_status_1”\n",
      "Warning message in read.spss(\"../Data/DemosDx/Tx Day Consent Log_1.sav\"):\n",
      "“Duplicated levels in factor DC_status_1: Other”\n",
      "Warning message in read.spss(\"../Data/DemosDx/Tx Day Consent Log_1.sav\"):\n",
      "“Undeclared level(s) 2 added in variable: SCID_1”\n",
      "Warning message in read.spss(\"../Data/DemosDx/Tx Day Consent Log_1.sav\"):\n",
      "“Undeclared level(s) 0 added in variable: Referral_1”\n"
     ]
    },
    {
     "data": {
      "text/html": [
       "844"
      ],
      "text/latex": [
       "844"
      ],
      "text/markdown": [
       "844"
      ],
      "text/plain": [
       "[1] 844"
      ]
     },
     "metadata": {},
     "output_type": "display_data"
    },
    {
     "name": "stderr",
     "output_type": "stream",
     "text": [
      "Warning message in read.spss(\"../Data/DemosDx/Demographics Form_1.sav\"):\n",
      "“Undeclared level(s) 6 added in variable: Race_1”\n",
      "Warning message in read.spss(\"../Data/DemosDx/Demographics Form_1.sav\"):\n",
      "“Undeclared level(s) 8 added in variable: Relationship_1”\n",
      "Warning message in read.spss(\"../Data/DemosDx/Diagnosis_1.sav\"):\n",
      "“../Data/DemosDx/Diagnosis_1.sav: Long string value labels record found (record type 7, subtype 21), but ignored”\n",
      "Warning message in read.spss(\"../Data/DemosDx/Diagnosis_1.sav\"):\n",
      "“Undeclared level(s) 22 added in variable: eatnos_1”\n",
      "Warning message in read.spss(\"../Data/DemosDx/Diagnosis_1.sav\"):\n",
      "“Undeclared level(s) 10 added in variable: addhpr_1”\n"
     ]
    }
   ],
   "source": [
    "dfMDD = read.csv('../Data/dfMDDMDDCurrPrin_satisfaction_rdq_dx_demo.csv')\n",
    "log = read.spss('../Data/DemosDx/Tx Day Consent Log_1.sav')\n",
    "nrow(dfMDD)\n",
    "demo = read.spss('../Data/DemosDx/Demographics Form_1.sav')\n",
    "dx = read.spss('../Data/DemosDx/Diagnosis_1.sav')"
   ]
  },
  {
   "cell_type": "code",
   "execution_count": 132,
   "id": "bulgarian-background",
   "metadata": {},
   "outputs": [],
   "source": [
    "#Reverse Scales\n",
    "dfMDD$pre_cope_r = abs(dfMDD$pre_cope-2)\n",
    "dfMDD$pre_pmh_r = abs(dfMDD$pre_pmh-2)\n",
    "dfMDD$pre_fun_r = abs(dfMDD$pre_fun-2)\n",
    "dfMDD$pre_well_r = abs(dfMDD$pre_well-2)\n",
    "dfMDD$post_cope_r = abs(dfMDD$post_cope-2)\n",
    "dfMDD$post_pmh_r = abs(dfMDD$post_pmh-2)\n",
    "dfMDD$post_fun_r = abs(dfMDD$post_fun-2)\n",
    "dfMDD$post_well_r = abs(dfMDD$post_well-2)"
   ]
  },
  {
   "cell_type": "code",
   "execution_count": 149,
   "id": "metropolitan-belgium",
   "metadata": {},
   "outputs": [],
   "source": [
    "#Groups\n",
    "groups = c('dep', 'any1', 'dep_plus1', 'any2', 'dep_plus2', 'any3', 'dep_plus3', 'any4', 'dep_plus4', 'any5', 'all6')"
   ]
  },
  {
   "cell_type": "code",
   "execution_count": 189,
   "id": "valid-hamilton",
   "metadata": {},
   "outputs": [],
   "source": [
    "dep_responder = ifelse((dfMDD$pre_dsym - dfMDD$post_dsym)/(dfMDD$pre_dsym+1e-10) >= 0.5 , 1, 0)\n",
    "ndep_responder = ifelse((dfMDD$pre_ndsym - dfMDD$post_ndsym)/(dfMDD$pre_ndsym+1e-10) >= 0.5, 1, 0)\n",
    "cope_responder = ifelse((dfMDD$pre_cope_r - dfMDD$post_cope_r)/(dfMDD$pre_cope_r+1e-10) >= 0.5, 1, 0)\n",
    "pmh_responder = ifelse((dfMDD$pre_pmh_r - dfMDD$post_pmh_r)/(dfMDD$pre_pmh_r+1e-10) >= 0.5, 1, 0)\n",
    "fun_responder = ifelse((dfMDD$pre_fun_r - dfMDD$post_fun_r)/(dfMDD$pre_fun_r+1e-10) >= 0.5, 1, 0)\n",
    "well_responder = ifelse((dfMDD$pre_well_r - dfMDD$post_well_r)/(dfMDD$pre_well_r+1e-10) >= 0.5, 1, 0)\n",
    "\n",
    "nondep_domain_counts = \n",
    "     ndep_responder + cope_responder + pmh_responder + fun_responder + well_responder\n",
    "\n",
    "\n",
    "any1_responder = ifelse(dep_responder + nondep_domain_counts >= 1, 1, 0)\n",
    "any2_responder = ifelse(dep_responder + nondep_domain_counts >= 2, 1, 0)\n",
    "any3_responder = ifelse(dep_responder + nondep_domain_counts >= 3, 1, 0)\n",
    "any4_responder = ifelse(dep_responder + nondep_domain_counts >= 4, 1, 0)\n",
    "any5_responder = ifelse(dep_responder + nondep_domain_counts >= 5, 1, 0)\n",
    "all6_responder = ifelse(dep_responder + nondep_domain_counts >= 6, 1, 0)\n",
    "\n",
    "dep_plus1_responder = ifelse(dep_responder == 1 & nondep_domain_counts >= 1, 1, 0)\n",
    "dep_plus2_responder = ifelse(dep_responder == 1 & nondep_domain_counts >= 2, 1, 0)\n",
    "dep_plus3_responder = ifelse(dep_responder == 1 & nondep_domain_counts >= 3, 1, 0)\n",
    "dep_plus4_responder = ifelse(dep_responder == 1 & nondep_domain_counts >= 4, 1, 0)"
   ]
  },
  {
   "cell_type": "code",
   "execution_count": 200,
   "id": "treated-upper",
   "metadata": {
    "scrolled": true
   },
   "outputs": [],
   "source": [
    "table1 = matrix(NA, nrow = 11, ncol = 9)\n",
    "\n",
    "for (i in 1:length(groups)){\n",
    "    group = groups[i]\n",
    "    responder = get(paste0(group,'_responder'))\n",
    "    \n",
    "    #N\n",
    "    table1[i,1] = paste0(round(sum(responder)/length(responder)*100,1), '% (', sum(responder),')')\n",
    "    \n",
    "    #Mean (SD)\n",
    "    table1[i,2] = paste0(round(mean(dfMDD$imprv1[responder==1]),1), ' (', round(sd(dfMDD$imprv1[responder==1]),1),')')\n",
    "    table1[i,3] = paste0(round(mean(dfMDD$imprv1[responder==0]),1), ' (', round(sd(dfMDD$imprv1[responder==0]),2),')')\n",
    "    \n",
    "    \n",
    "    if (sum(responder) >1){\n",
    "        #T-test\n",
    "        t_test_res = t.test(dfMDD$imprv1[responder==1], dfMDD$imprv1[responder==0])\n",
    "        \n",
    "        #t value\n",
    "        table1[i,4] = round(t_test_res$statistic, 2)\n",
    "    \n",
    "        #p-value\n",
    "        table1[i,5] = ifelse(t_test_res$p.value < 0.001, '<.001', round(t_test_res$p.value, 3))\n",
    "\n",
    "        #Cohen's d\n",
    "        table1[i,6] = round(cohen.d(dfMDD$imprv1[responder==1], dfMDD$imprv1[responder==0])$estimate, 2)\n",
    "    }  \n",
    "    \n",
    "    \n",
    "    #Responder PGI %\n",
    "    table1[i,7] = paste0(round(sum(dfMDD[responder==1,]$imprv1 >= 3)/nrow(dfMDD[responder==1,])*100,1),'% (',\n",
    "           sum(responder==1),')')\n",
    "    \n",
    "    #Non-Responder PGI%\n",
    "    table1[i,8] = paste0(round(sum(dfMDD[responder==0,]$imprv1 >= 3)/nrow(dfMDD[responder==0,])*100,1),'% (',\n",
    "           sum(responder==0),')')\n",
    "    \n",
    "    #Odds ratio\n",
    "    odds_ratio_data = table(responder, dfMDD$imprv1 >= 3)\n",
    "    if (all(odds_ratio_data>0)){\n",
    "        odds_ratio_res = oddsratio(odds_ratio_data)\n",
    "        odds_ratio_estimate = round(odds_ratio_res$measure[2,1],1)\n",
    "        odds_ratio_lower = round(odds_ratio_res$measure[2,2],1)\n",
    "        odds_ratio_upper = round(odds_ratio_res$measure[2,3],1)\n",
    "        table1[i,9] = paste0(odds_ratio_estimate, ' (',odds_ratio_lower,'-',odds_ratio_upper,')')\n",
    "    }\n",
    "    \n",
    "    \n",
    "}\n",
    "    \n"
   ]
  },
  {
   "cell_type": "code",
   "execution_count": 201,
   "id": "gentle-seeker",
   "metadata": {},
   "outputs": [
    {
     "data": {
      "text/html": [
       "<table class=\"dataframe\">\n",
       "<caption>A matrix: 11 × 9 of type chr</caption>\n",
       "<tbody>\n",
       "\t<tr><td>38.7% (327)</td><td>3.4 (0.7)</td><td>2.4 (1.04)</td><td>15.92</td><td>&lt;.001</td><td>1.03</td><td>91.4% (327)</td><td>52.2% (517)</td><td><span style=white-space:pre-wrap>9.7 (6.4-15.1)   </span></td></tr>\n",
       "\t<tr><td>61.4% (518)</td><td>3.2 (0.8)</td><td>2.2 (1.05)</td><td>15.22</td><td>&lt;.001</td><td>1.15</td><td><span style=white-space:pre-wrap>84% (518)  </span></td><td>41.1% (326)</td><td><span style=white-space:pre-wrap>7.5 (5.4-10.4)   </span></td></tr>\n",
       "\t<tr><td>36.1% (305)</td><td>3.4 (0.7)</td><td>2.4 (1.02)</td><td>15.95</td><td>&lt;.001</td><td>1.03</td><td>91.5% (305)</td><td>53.8% (539)</td><td><span style=white-space:pre-wrap>9.1 (6-14.5)     </span></td></tr>\n",
       "\t<tr><td>48.1% (406)</td><td>3.3 (0.7)</td><td>2.3 (0.99)</td><td>17.55</td><td>&lt;.001</td><td>1.2 </td><td>89.9% (406)</td><td>46.6% (438)</td><td><span style=white-space:pre-wrap>10.2 (7.1-14.9)  </span></td></tr>\n",
       "\t<tr><td>30.3% (256)</td><td>3.5 (0.6)</td><td>2.5 (1.01)</td><td>17.23</td><td>&lt;.001</td><td>1.09</td><td>94.5% (256)</td><td>55.6% (588)</td><td><span style=white-space:pre-wrap>13.6 (8-25.1)    </span></td></tr>\n",
       "\t<tr><td>35.7% (301)</td><td>3.4 (0.7)</td><td>2.4 (0.99)</td><td>17.67</td><td>&lt;.001</td><td>1.15</td><td><span style=white-space:pre-wrap>94% (301)  </span></td><td>52.7% (543)</td><td><span style=white-space:pre-wrap>14 (8.7-24)      </span></td></tr>\n",
       "\t<tr><td>25.1% (212)</td><td>3.6 (0.6)</td><td><span style=white-space:pre-wrap>2.5 (1)   </span></td><td>17.71</td><td>&lt;.001</td><td>1.12</td><td>96.7% (212)</td><td>57.6% (632)</td><td>21.1 (10.5-50.4) </td></tr>\n",
       "\t<tr><td>27.7% (234)</td><td>3.5 (0.7)</td><td>2.5 (0.99)</td><td>16.69</td><td>&lt;.001</td><td>1.1 </td><td>96.2% (234)</td><td>56.4% (610)</td><td><span style=white-space:pre-wrap>19 (10.1-40.7)   </span></td></tr>\n",
       "\t<tr><td>20.4% (172)</td><td>3.6 (0.6)</td><td><span style=white-space:pre-wrap>2.6 (1)   </span></td><td>18.47</td><td>&lt;.001</td><td>1.16</td><td>98.3% (172)</td><td>59.5% (672)</td><td>36.4 (13.6-153.1)</td></tr>\n",
       "\t<tr><td>20.9% (176)</td><td>3.6 (0.6)</td><td><span style=white-space:pre-wrap>2.6 (1)   </span></td><td>18.47</td><td>&lt;.001</td><td>1.15</td><td>98.3% (176)</td><td>59.3% (668)</td><td>37.6 (14.1-158.3)</td></tr>\n",
       "\t<tr><td>11.8% (100)</td><td>3.7 (0.4)</td><td>2.7 (1.01)</td><td>18.47</td><td>&lt;.001</td><td>1.11</td><td>100% (100) </td><td><span style=white-space:pre-wrap>63% (744)  </span></td><td><span style=white-space:pre-wrap>NA               </span></td></tr>\n",
       "</tbody>\n",
       "</table>\n"
      ],
      "text/latex": [
       "A matrix: 11 × 9 of type chr\n",
       "\\begin{tabular}{lllllllll}\n",
       "\t 38.7\\% (327) & 3.4 (0.7) & 2.4 (1.04) & 15.92 & <.001 & 1.03 & 91.4\\% (327) & 52.2\\% (517) & 9.7 (6.4-15.1)   \\\\\n",
       "\t 61.4\\% (518) & 3.2 (0.8) & 2.2 (1.05) & 15.22 & <.001 & 1.15 & 84\\% (518)   & 41.1\\% (326) & 7.5 (5.4-10.4)   \\\\\n",
       "\t 36.1\\% (305) & 3.4 (0.7) & 2.4 (1.02) & 15.95 & <.001 & 1.03 & 91.5\\% (305) & 53.8\\% (539) & 9.1 (6-14.5)     \\\\\n",
       "\t 48.1\\% (406) & 3.3 (0.7) & 2.3 (0.99) & 17.55 & <.001 & 1.2  & 89.9\\% (406) & 46.6\\% (438) & 10.2 (7.1-14.9)  \\\\\n",
       "\t 30.3\\% (256) & 3.5 (0.6) & 2.5 (1.01) & 17.23 & <.001 & 1.09 & 94.5\\% (256) & 55.6\\% (588) & 13.6 (8-25.1)    \\\\\n",
       "\t 35.7\\% (301) & 3.4 (0.7) & 2.4 (0.99) & 17.67 & <.001 & 1.15 & 94\\% (301)   & 52.7\\% (543) & 14 (8.7-24)      \\\\\n",
       "\t 25.1\\% (212) & 3.6 (0.6) & 2.5 (1)    & 17.71 & <.001 & 1.12 & 96.7\\% (212) & 57.6\\% (632) & 21.1 (10.5-50.4) \\\\\n",
       "\t 27.7\\% (234) & 3.5 (0.7) & 2.5 (0.99) & 16.69 & <.001 & 1.1  & 96.2\\% (234) & 56.4\\% (610) & 19 (10.1-40.7)   \\\\\n",
       "\t 20.4\\% (172) & 3.6 (0.6) & 2.6 (1)    & 18.47 & <.001 & 1.16 & 98.3\\% (172) & 59.5\\% (672) & 36.4 (13.6-153.1)\\\\\n",
       "\t 20.9\\% (176) & 3.6 (0.6) & 2.6 (1)    & 18.47 & <.001 & 1.15 & 98.3\\% (176) & 59.3\\% (668) & 37.6 (14.1-158.3)\\\\\n",
       "\t 11.8\\% (100) & 3.7 (0.4) & 2.7 (1.01) & 18.47 & <.001 & 1.11 & 100\\% (100)  & 63\\% (744)   & NA               \\\\\n",
       "\\end{tabular}\n"
      ],
      "text/markdown": [
       "\n",
       "A matrix: 11 × 9 of type chr\n",
       "\n",
       "| 38.7% (327) | 3.4 (0.7) | 2.4 (1.04) | 15.92 | &lt;.001 | 1.03 | 91.4% (327) | 52.2% (517) | 9.7 (6.4-15.1)    |\n",
       "| 61.4% (518) | 3.2 (0.8) | 2.2 (1.05) | 15.22 | &lt;.001 | 1.15 | 84% (518)   | 41.1% (326) | 7.5 (5.4-10.4)    |\n",
       "| 36.1% (305) | 3.4 (0.7) | 2.4 (1.02) | 15.95 | &lt;.001 | 1.03 | 91.5% (305) | 53.8% (539) | 9.1 (6-14.5)      |\n",
       "| 48.1% (406) | 3.3 (0.7) | 2.3 (0.99) | 17.55 | &lt;.001 | 1.2  | 89.9% (406) | 46.6% (438) | 10.2 (7.1-14.9)   |\n",
       "| 30.3% (256) | 3.5 (0.6) | 2.5 (1.01) | 17.23 | &lt;.001 | 1.09 | 94.5% (256) | 55.6% (588) | 13.6 (8-25.1)     |\n",
       "| 35.7% (301) | 3.4 (0.7) | 2.4 (0.99) | 17.67 | &lt;.001 | 1.15 | 94% (301)   | 52.7% (543) | 14 (8.7-24)       |\n",
       "| 25.1% (212) | 3.6 (0.6) | 2.5 (1)    | 17.71 | &lt;.001 | 1.12 | 96.7% (212) | 57.6% (632) | 21.1 (10.5-50.4)  |\n",
       "| 27.7% (234) | 3.5 (0.7) | 2.5 (0.99) | 16.69 | &lt;.001 | 1.1  | 96.2% (234) | 56.4% (610) | 19 (10.1-40.7)    |\n",
       "| 20.4% (172) | 3.6 (0.6) | 2.6 (1)    | 18.47 | &lt;.001 | 1.16 | 98.3% (172) | 59.5% (672) | 36.4 (13.6-153.1) |\n",
       "| 20.9% (176) | 3.6 (0.6) | 2.6 (1)    | 18.47 | &lt;.001 | 1.15 | 98.3% (176) | 59.3% (668) | 37.6 (14.1-158.3) |\n",
       "| 11.8% (100) | 3.7 (0.4) | 2.7 (1.01) | 18.47 | &lt;.001 | 1.11 | 100% (100)  | 63% (744)   | NA                |\n",
       "\n"
      ],
      "text/plain": [
       "      [,1]        [,2]      [,3]       [,4]  [,5]  [,6] [,7]        [,8]       \n",
       " [1,] 38.7% (327) 3.4 (0.7) 2.4 (1.04) 15.92 <.001 1.03 91.4% (327) 52.2% (517)\n",
       " [2,] 61.4% (518) 3.2 (0.8) 2.2 (1.05) 15.22 <.001 1.15 84% (518)   41.1% (326)\n",
       " [3,] 36.1% (305) 3.4 (0.7) 2.4 (1.02) 15.95 <.001 1.03 91.5% (305) 53.8% (539)\n",
       " [4,] 48.1% (406) 3.3 (0.7) 2.3 (0.99) 17.55 <.001 1.2  89.9% (406) 46.6% (438)\n",
       " [5,] 30.3% (256) 3.5 (0.6) 2.5 (1.01) 17.23 <.001 1.09 94.5% (256) 55.6% (588)\n",
       " [6,] 35.7% (301) 3.4 (0.7) 2.4 (0.99) 17.67 <.001 1.15 94% (301)   52.7% (543)\n",
       " [7,] 25.1% (212) 3.6 (0.6) 2.5 (1)    17.71 <.001 1.12 96.7% (212) 57.6% (632)\n",
       " [8,] 27.7% (234) 3.5 (0.7) 2.5 (0.99) 16.69 <.001 1.1  96.2% (234) 56.4% (610)\n",
       " [9,] 20.4% (172) 3.6 (0.6) 2.6 (1)    18.47 <.001 1.16 98.3% (172) 59.5% (672)\n",
       "[10,] 20.9% (176) 3.6 (0.6) 2.6 (1)    18.47 <.001 1.15 98.3% (176) 59.3% (668)\n",
       "[11,] 11.8% (100) 3.7 (0.4) 2.7 (1.01) 18.47 <.001 1.11 100% (100)  63% (744)  \n",
       "      [,9]             \n",
       " [1,] 9.7 (6.4-15.1)   \n",
       " [2,] 7.5 (5.4-10.4)   \n",
       " [3,] 9.1 (6-14.5)     \n",
       " [4,] 10.2 (7.1-14.9)  \n",
       " [5,] 13.6 (8-25.1)    \n",
       " [6,] 14 (8.7-24)      \n",
       " [7,] 21.1 (10.5-50.4) \n",
       " [8,] 19 (10.1-40.7)   \n",
       " [9,] 36.4 (13.6-153.1)\n",
       "[10,] 37.6 (14.1-158.3)\n",
       "[11,] NA               "
      ]
     },
     "metadata": {},
     "output_type": "display_data"
    }
   ],
   "source": [
    "table1"
   ]
  },
  {
   "cell_type": "code",
   "execution_count": 196,
   "id": "labeled-recording",
   "metadata": {},
   "outputs": [],
   "source": [
    "table1 = matrix(NA, nrow = 11, ncol = 9)\n",
    "\n",
    "for (i in 1:length(groups)){\n",
    "    group = groups[i]\n",
    "    responder = get(paste0(group,'_responder'))\n",
    "    \n",
    "    #N\n",
    "    table1[i,1] = sum(responder)\n",
    "    \n",
    "    #Mean (SD)\n",
    "    table1[i,2] = paste0(round(mean(dfMDD$imprv1[responder==1]),1), ' (', round(sd(dfMDD$imprv1[responder==1]),1),')')\n",
    "    table1[i,3] = paste0(round(mean(dfMDD$imprv1[responder==0]),1), ' (', round(sd(dfMDD$imprv1[responder==0]),2),')')\n",
    "    \n",
    "    \n",
    "    if (sum(responder) >1){\n",
    "        #T-test\n",
    "        t_test_res = t.test(dfMDD$imprv1[responder==1], dfMDD$imprv1[responder==0])\n",
    "        \n",
    "        #t value\n",
    "        table1[i,4] = round(t_test_res$statistic, 2)\n",
    "    \n",
    "        #p-value\n",
    "        table1[i,5] = ifelse(t_test_res$p.value < 0.001, '<.001', round(t_test_res$p.value, 3))\n",
    "\n",
    "        #Cohen's d\n",
    "        table1[i,6] = round(cohen.d(dfMDD$imprv1[responder==1], dfMDD$imprv1[responder==0])$estimate, 2)\n",
    "    }  \n",
    "    \n",
    "    \n",
    "    #Responder PGI %\n",
    "    table1[i,7] = paste0(round(sum(dfMDD[responder==1,]$imprv1 >= 4)/nrow(dfMDD[responder==1,])*100,1),'% (',\n",
    "           sum(responder==1),')')\n",
    "    \n",
    "    #Non-Responder PGI%\n",
    "    table1[i,8] = paste0(round(sum(dfMDD[responder==0,]$imprv1 >= 4)/nrow(dfMDD[responder==0,])*100,1),'% (',\n",
    "           sum(responder==0),')')\n",
    "    \n",
    "    #Odds ratio\n",
    "    odds_ratio_data = table(responder, dfMDD$imprv1 >= 4)\n",
    "    if (all(odds_ratio_data>0)){\n",
    "        odds_ratio_res = oddsratio(odds_ratio_data)\n",
    "        odds_ratio_estimate = round(odds_ratio_res$measure[2,1],1)\n",
    "        odds_ratio_lower = round(odds_ratio_res$measure[2,2],1)\n",
    "        odds_ratio_upper = round(odds_ratio_res$measure[2,3],1)\n",
    "        table1[i,9] = paste0(odds_ratio_estimate, ' (',odds_ratio_lower,'-',odds_ratio_upper,')')\n",
    "    }\n",
    "    \n",
    "    \n",
    "}\n",
    "    \n"
   ]
  },
  {
   "cell_type": "code",
   "execution_count": 197,
   "id": "failing-veteran",
   "metadata": {
    "scrolled": true
   },
   "outputs": [
    {
     "data": {
      "text/html": [
       "<table class=\"dataframe\">\n",
       "<caption>A matrix: 11 × 9 of type chr</caption>\n",
       "<tbody>\n",
       "\t<tr><td>327</td><td>3.4 (0.7)</td><td>2.4 (1.04)</td><td>15.92</td><td>&lt;.001</td><td>1.03</td><td>45.9% (327)</td><td><span style=white-space:pre-wrap>13% (517)  </span></td><td><span style=white-space:pre-wrap>5.7 (4.1-8)    </span></td></tr>\n",
       "\t<tr><td>518</td><td>3.2 (0.8)</td><td>2.2 (1.05)</td><td>15.22</td><td>&lt;.001</td><td>1.15</td><td>37.3% (518)</td><td>7.4% (326) </td><td>7.4 (4.8-11.9) </td></tr>\n",
       "\t<tr><td>305</td><td>3.4 (0.7)</td><td>2.4 (1.02)</td><td>15.95</td><td>&lt;.001</td><td>1.03</td><td>48.5% (305)</td><td>12.8% (539)</td><td><span style=white-space:pre-wrap>6.4 (4.6-9)    </span></td></tr>\n",
       "\t<tr><td>406</td><td>3.3 (0.7)</td><td>2.3 (0.99)</td><td>17.55</td><td>&lt;.001</td><td>1.2 </td><td>45.6% (406)</td><td>7.3% (438) </td><td>10.6 (7.1-16.1)</td></tr>\n",
       "\t<tr><td>256</td><td>3.5 (0.6)</td><td>2.5 (1.01)</td><td>17.23</td><td>&lt;.001</td><td>1.09</td><td>54.7% (256)</td><td>13.1% (588)</td><td><span style=white-space:pre-wrap>8 (5.7-11.3)   </span></td></tr>\n",
       "\t<tr><td>301</td><td>3.4 (0.7)</td><td>2.4 (0.99)</td><td>17.67</td><td>&lt;.001</td><td>1.15</td><td>53.2% (301)</td><td>10.5% (543)</td><td>9.6 (6.8-13.8) </td></tr>\n",
       "\t<tr><td>212</td><td>3.6 (0.6)</td><td><span style=white-space:pre-wrap>2.5 (1)   </span></td><td>17.71</td><td>&lt;.001</td><td>1.12</td><td>60.4% (212)</td><td>14.1% (632)</td><td>9.3 (6.5-13.3) </td></tr>\n",
       "\t<tr><td>234</td><td>3.5 (0.7)</td><td>2.5 (0.99)</td><td>16.69</td><td>&lt;.001</td><td>1.1 </td><td>58.1% (234)</td><td>13.3% (610)</td><td><span style=white-space:pre-wrap>9 (6.4-12.9)   </span></td></tr>\n",
       "\t<tr><td>172</td><td>3.6 (0.6)</td><td><span style=white-space:pre-wrap>2.6 (1)   </span></td><td>18.47</td><td>&lt;.001</td><td>1.16</td><td>66.9% (172)</td><td>15.2% (672)</td><td>11.2 (7.7-16.5)</td></tr>\n",
       "\t<tr><td>176</td><td>3.6 (0.6)</td><td><span style=white-space:pre-wrap>2.6 (1)   </span></td><td>18.47</td><td>&lt;.001</td><td>1.15</td><td>65.9% (176)</td><td>15.1% (668)</td><td>10.8 (7.4-15.8)</td></tr>\n",
       "\t<tr><td>100</td><td>3.7 (0.4)</td><td>2.7 (1.01)</td><td>18.47</td><td>&lt;.001</td><td>1.11</td><td><span style=white-space:pre-wrap>73% (100)  </span></td><td>19.4% (744)</td><td><span style=white-space:pre-wrap>11.2 (7-18.3)  </span></td></tr>\n",
       "</tbody>\n",
       "</table>\n"
      ],
      "text/latex": [
       "A matrix: 11 × 9 of type chr\n",
       "\\begin{tabular}{lllllllll}\n",
       "\t 327 & 3.4 (0.7) & 2.4 (1.04) & 15.92 & <.001 & 1.03 & 45.9\\% (327) & 13\\% (517)   & 5.7 (4.1-8)    \\\\\n",
       "\t 518 & 3.2 (0.8) & 2.2 (1.05) & 15.22 & <.001 & 1.15 & 37.3\\% (518) & 7.4\\% (326)  & 7.4 (4.8-11.9) \\\\\n",
       "\t 305 & 3.4 (0.7) & 2.4 (1.02) & 15.95 & <.001 & 1.03 & 48.5\\% (305) & 12.8\\% (539) & 6.4 (4.6-9)    \\\\\n",
       "\t 406 & 3.3 (0.7) & 2.3 (0.99) & 17.55 & <.001 & 1.2  & 45.6\\% (406) & 7.3\\% (438)  & 10.6 (7.1-16.1)\\\\\n",
       "\t 256 & 3.5 (0.6) & 2.5 (1.01) & 17.23 & <.001 & 1.09 & 54.7\\% (256) & 13.1\\% (588) & 8 (5.7-11.3)   \\\\\n",
       "\t 301 & 3.4 (0.7) & 2.4 (0.99) & 17.67 & <.001 & 1.15 & 53.2\\% (301) & 10.5\\% (543) & 9.6 (6.8-13.8) \\\\\n",
       "\t 212 & 3.6 (0.6) & 2.5 (1)    & 17.71 & <.001 & 1.12 & 60.4\\% (212) & 14.1\\% (632) & 9.3 (6.5-13.3) \\\\\n",
       "\t 234 & 3.5 (0.7) & 2.5 (0.99) & 16.69 & <.001 & 1.1  & 58.1\\% (234) & 13.3\\% (610) & 9 (6.4-12.9)   \\\\\n",
       "\t 172 & 3.6 (0.6) & 2.6 (1)    & 18.47 & <.001 & 1.16 & 66.9\\% (172) & 15.2\\% (672) & 11.2 (7.7-16.5)\\\\\n",
       "\t 176 & 3.6 (0.6) & 2.6 (1)    & 18.47 & <.001 & 1.15 & 65.9\\% (176) & 15.1\\% (668) & 10.8 (7.4-15.8)\\\\\n",
       "\t 100 & 3.7 (0.4) & 2.7 (1.01) & 18.47 & <.001 & 1.11 & 73\\% (100)   & 19.4\\% (744) & 11.2 (7-18.3)  \\\\\n",
       "\\end{tabular}\n"
      ],
      "text/markdown": [
       "\n",
       "A matrix: 11 × 9 of type chr\n",
       "\n",
       "| 327 | 3.4 (0.7) | 2.4 (1.04) | 15.92 | &lt;.001 | 1.03 | 45.9% (327) | 13% (517)   | 5.7 (4.1-8)     |\n",
       "| 518 | 3.2 (0.8) | 2.2 (1.05) | 15.22 | &lt;.001 | 1.15 | 37.3% (518) | 7.4% (326)  | 7.4 (4.8-11.9)  |\n",
       "| 305 | 3.4 (0.7) | 2.4 (1.02) | 15.95 | &lt;.001 | 1.03 | 48.5% (305) | 12.8% (539) | 6.4 (4.6-9)     |\n",
       "| 406 | 3.3 (0.7) | 2.3 (0.99) | 17.55 | &lt;.001 | 1.2  | 45.6% (406) | 7.3% (438)  | 10.6 (7.1-16.1) |\n",
       "| 256 | 3.5 (0.6) | 2.5 (1.01) | 17.23 | &lt;.001 | 1.09 | 54.7% (256) | 13.1% (588) | 8 (5.7-11.3)    |\n",
       "| 301 | 3.4 (0.7) | 2.4 (0.99) | 17.67 | &lt;.001 | 1.15 | 53.2% (301) | 10.5% (543) | 9.6 (6.8-13.8)  |\n",
       "| 212 | 3.6 (0.6) | 2.5 (1)    | 17.71 | &lt;.001 | 1.12 | 60.4% (212) | 14.1% (632) | 9.3 (6.5-13.3)  |\n",
       "| 234 | 3.5 (0.7) | 2.5 (0.99) | 16.69 | &lt;.001 | 1.1  | 58.1% (234) | 13.3% (610) | 9 (6.4-12.9)    |\n",
       "| 172 | 3.6 (0.6) | 2.6 (1)    | 18.47 | &lt;.001 | 1.16 | 66.9% (172) | 15.2% (672) | 11.2 (7.7-16.5) |\n",
       "| 176 | 3.6 (0.6) | 2.6 (1)    | 18.47 | &lt;.001 | 1.15 | 65.9% (176) | 15.1% (668) | 10.8 (7.4-15.8) |\n",
       "| 100 | 3.7 (0.4) | 2.7 (1.01) | 18.47 | &lt;.001 | 1.11 | 73% (100)   | 19.4% (744) | 11.2 (7-18.3)   |\n",
       "\n"
      ],
      "text/plain": [
       "      [,1] [,2]      [,3]       [,4]  [,5]  [,6] [,7]        [,8]       \n",
       " [1,] 327  3.4 (0.7) 2.4 (1.04) 15.92 <.001 1.03 45.9% (327) 13% (517)  \n",
       " [2,] 518  3.2 (0.8) 2.2 (1.05) 15.22 <.001 1.15 37.3% (518) 7.4% (326) \n",
       " [3,] 305  3.4 (0.7) 2.4 (1.02) 15.95 <.001 1.03 48.5% (305) 12.8% (539)\n",
       " [4,] 406  3.3 (0.7) 2.3 (0.99) 17.55 <.001 1.2  45.6% (406) 7.3% (438) \n",
       " [5,] 256  3.5 (0.6) 2.5 (1.01) 17.23 <.001 1.09 54.7% (256) 13.1% (588)\n",
       " [6,] 301  3.4 (0.7) 2.4 (0.99) 17.67 <.001 1.15 53.2% (301) 10.5% (543)\n",
       " [7,] 212  3.6 (0.6) 2.5 (1)    17.71 <.001 1.12 60.4% (212) 14.1% (632)\n",
       " [8,] 234  3.5 (0.7) 2.5 (0.99) 16.69 <.001 1.1  58.1% (234) 13.3% (610)\n",
       " [9,] 172  3.6 (0.6) 2.6 (1)    18.47 <.001 1.16 66.9% (172) 15.2% (672)\n",
       "[10,] 176  3.6 (0.6) 2.6 (1)    18.47 <.001 1.15 65.9% (176) 15.1% (668)\n",
       "[11,] 100  3.7 (0.4) 2.7 (1.01) 18.47 <.001 1.11 73% (100)   19.4% (744)\n",
       "      [,9]           \n",
       " [1,] 5.7 (4.1-8)    \n",
       " [2,] 7.4 (4.8-11.9) \n",
       " [3,] 6.4 (4.6-9)    \n",
       " [4,] 10.6 (7.1-16.1)\n",
       " [5,] 8 (5.7-11.3)   \n",
       " [6,] 9.6 (6.8-13.8) \n",
       " [7,] 9.3 (6.5-13.3) \n",
       " [8,] 9 (6.4-12.9)   \n",
       " [9,] 11.2 (7.7-16.5)\n",
       "[10,] 10.8 (7.4-15.8)\n",
       "[11,] 11.2 (7-18.3)  "
      ]
     },
     "metadata": {},
     "output_type": "display_data"
    }
   ],
   "source": [
    "table1"
   ]
  },
  {
   "cell_type": "code",
   "execution_count": 69,
   "id": "stone-ocean",
   "metadata": {},
   "outputs": [
    {
     "data": {
      "text/plain": [
       "         \n",
       "responder FALSE TRUE\n",
       "        0   247  270\n",
       "        1    28  299"
      ]
     },
     "metadata": {},
     "output_type": "display_data"
    }
   ],
   "source": [
    "table(responder, dfMDD$imprv1 >= 3)"
   ]
  },
  {
   "cell_type": "code",
   "execution_count": 58,
   "id": "olympic-acceptance",
   "metadata": {},
   "outputs": [
    {
     "data": {
      "text/html": [
       "327"
      ],
      "text/latex": [
       "327"
      ],
      "text/markdown": [
       "327"
      ],
      "text/plain": [
       "[1] 327"
      ]
     },
     "metadata": {},
     "output_type": "display_data"
    },
    {
     "data": {
      "text/html": [
       "<strong>t:</strong> 15.9239619897211"
      ],
      "text/latex": [
       "\\textbf{t:} 15.9239619897211"
      ],
      "text/markdown": [
       "**t:** 15.9239619897211"
      ],
      "text/plain": [
       "       t \n",
       "15.92396 "
      ]
     },
     "metadata": {},
     "output_type": "display_data"
    },
    {
     "data": {
      "text/plain": [
       "\n",
       "Cohen's d\n",
       "\n",
       "d estimate: 1.027495 (large)\n",
       "95 percent confidence interval:\n",
       "   lower    upper \n",
       "0.880381 1.174610 \n"
      ]
     },
     "metadata": {},
     "output_type": "display_data"
    },
    {
     "data": {
      "text/html": [
       "'3.4(0.7)'"
      ],
      "text/latex": [
       "'3.4(0.7)'"
      ],
      "text/markdown": [
       "'3.4(0.7)'"
      ],
      "text/plain": [
       "[1] \"3.4(0.7)\""
      ]
     },
     "metadata": {},
     "output_type": "display_data"
    }
   ],
   "source": [
    "i = 1\n",
    "group = groups[i]\n",
    "responder = get(paste0(group,'_responder'))\n",
    "length(dfMDD$imprv1[responder==1])\n",
    "t_test_res =  t.test(dfMDD$imprv1[responder==1], dfMDD$imprv1[responder==0])\n",
    "t_test_res$statistic\n",
    "\n",
    "cohen.d(dfMDD$imprv1[responder==1], dfMDD$imprv1[responder==0])\n",
    "paste0(round(mean(dfMDD$imprv1[responder==1]),1), '(', round(sd(dfMDD$imprv1[responder==1]),1),')')"
   ]
  },
  {
   "cell_type": "code",
   "execution_count": 52,
   "id": "backed-catch",
   "metadata": {},
   "outputs": [
    {
     "data": {
      "text/html": [
       "'&lt;.001'"
      ],
      "text/latex": [
       "'<.001'"
      ],
      "text/markdown": [
       "'&lt;.001'"
      ],
      "text/plain": [
       "[1] \"<.001\""
      ]
     },
     "metadata": {},
     "output_type": "display_data"
    }
   ],
   "source": [
    "ifelse(t_test_res$p.value < 0.001, '<.001', round(t_test_res$p.value, 3))"
   ]
  },
  {
   "cell_type": "code",
   "execution_count": null,
   "id": "secure-combining",
   "metadata": {},
   "outputs": [],
   "source": []
  }
 ],
 "metadata": {
  "kernelspec": {
   "display_name": "R",
   "language": "R",
   "name": "ir"
  },
  "language_info": {
   "codemirror_mode": "r",
   "file_extension": ".r",
   "mimetype": "text/x-r-source",
   "name": "R",
   "pygments_lexer": "r",
   "version": "3.6.3"
  }
 },
 "nbformat": 4,
 "nbformat_minor": 5
}
