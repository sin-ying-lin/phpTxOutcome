{
 "cells": [
  {
   "cell_type": "code",
   "execution_count": null,
   "id": "light-shark",
   "metadata": {},
   "outputs": [],
   "source": [
    "from sklearn import cluster\n",
    "from sklearn.experimental import enable_iterative_imputer\n",
    "from sklearn.impute import IterativeImputer\n",
    "from sklearn import metrics\n"
   ]
  },
  {
   "cell_type": "code",
   "execution_count": null,
   "id": "ambient-garlic",
   "metadata": {},
   "outputs": [],
   "source": [
    "X = df[df.mddrnp_1.str.contains('Curr, Prin') | df.mddsnp_1.str.contains('Curr, Prin')]\n",
    "X[['mddrnp_1', 'mddsnp_1']]\n",
    "Xpre = X.filter(regex='rdqpre')\n",
    "Xpost = X.filter(regex='rdqpost') "
   ]
  },
  {
   "cell_type": "code",
   "execution_count": null,
   "id": "blessed-athens",
   "metadata": {},
   "outputs": [],
   "source": [
    "Xpre.columns = Xpre.columns.str.replace('pre','')\n",
    "Xpost.columns = Xpost.columns.str.replace('post','')"
   ]
  },
  {
   "cell_type": "code",
   "execution_count": null,
   "id": "particular-bradley",
   "metadata": {},
   "outputs": [],
   "source": [
    "Xchange = Xpre.astype('float').subtract(Xpost.astype('float'), axis = 0, fill_value = 0)"
   ]
  },
  {
   "cell_type": "code",
   "execution_count": null,
   "id": "improved-angle",
   "metadata": {},
   "outputs": [],
   "source": [
    "Xpost_group = X.filter(regex='^post_')\n",
    "Xpost_group\n",
    "Xchange_group = X.filter(regex='^change_')\n",
    "Xchange_group"
   ]
  },
  {
   "cell_type": "code",
   "execution_count": null,
   "id": "radio-israel",
   "metadata": {},
   "outputs": [],
   "source": []
  },
  {
   "cell_type": "code",
   "execution_count": null,
   "id": "adjusted-nurse",
   "metadata": {},
   "outputs": [],
   "source": []
  },
  {
   "cell_type": "code",
   "execution_count": null,
   "id": "ethical-athens",
   "metadata": {},
   "outputs": [],
   "source": []
  },
  {
   "cell_type": "code",
   "execution_count": null,
   "id": "radio-production",
   "metadata": {},
   "outputs": [],
   "source": [
    "#Imputation \n",
    "target = Xchange\n",
    "imp = IterativeImputer(max_iter=10, random_state=0)\n",
    "imp.fit(target)\n",
    "IterativeImputer(random_state=0)\n",
    "X_imp = imp.transform(target)"
   ]
  },
  {
   "cell_type": "code",
   "execution_count": null,
   "id": "mathematical-cocktail",
   "metadata": {},
   "outputs": [],
   "source": [
    "distortions = []\n",
    "for k in range(1,10):\n",
    "    kmeanModel = KMeans(n_clusters=k)\n",
    "    kmeanModel.fit(X_imp)\n",
    "    distortions.append(kmeanModel.inertia_)\n",
    "    "
   ]
  },
  {
   "cell_type": "code",
   "execution_count": null,
   "id": "twelve-viking",
   "metadata": {},
   "outputs": [],
   "source": [
    "#Use the Elbow Method to Decide the Number of Groups in Clustering Analysis \n",
    "\n",
    "import matplotlib.pyplot as plt\n",
    "plt.figure(figsize=(16,8))\n",
    "plt.plot(range(1,10), distortions, 'bx-')\n",
    "plt.xlabel('k')\n",
    "plt.ylabel('Distortion')\n",
    "plt.title('The Elbow Method showing the optimal k')\n",
    "plt.show()"
   ]
  },
  {
   "cell_type": "code",
   "execution_count": null,
   "id": "happy-watch",
   "metadata": {},
   "outputs": [],
   "source": [
    "metrics.silhouette_score(X_imp, labels, metric='euclidean')"
   ]
  },
  {
   "cell_type": "code",
   "execution_count": null,
   "id": "stunning-scheme",
   "metadata": {},
   "outputs": [],
   "source": [
    "kmeanModel = KMeans(n_clusters=2)\n",
    "kmeanModel.fit(X_imp)\n",
    "distortions.append(kmeanModel.inertia_)\n",
    "labels = kmeanModel.labels_"
   ]
  },
  {
   "cell_type": "code",
   "execution_count": null,
   "id": "billion-fraction",
   "metadata": {},
   "outputs": [],
   "source": [
    "X['labels'] = labels"
   ]
  },
  {
   "cell_type": "code",
   "execution_count": null,
   "id": "monetary-quest",
   "metadata": {},
   "outputs": [],
   "source": [
    "print(X[labels == 0].change_sym.mean(),\n",
    "      X[labels == 0].change_pmh.mean(),\n",
    "      X[labels == 0].change_cope.mean(),\n",
    "      X[labels == 0].change_fun.mean(),\n",
    "      X[labels == 0].change_well.mean())"
   ]
  },
  {
   "cell_type": "code",
   "execution_count": null,
   "id": "dense-motorcycle",
   "metadata": {},
   "outputs": [],
   "source": [
    "print(X[labels == 1].change_sym.mean(),\n",
    "      X[labels == 1].change_pmh.mean(),\n",
    "      X[labels == 1].change_cope.mean(),\n",
    "      X[labels == 1].change_fun.mean(),\n",
    "      X[labels == 1].change_well.mean())"
   ]
  },
  {
   "cell_type": "code",
   "execution_count": null,
   "id": "reported-protest",
   "metadata": {},
   "outputs": [],
   "source": [
    "print(X[labels == 1].change_sym.mean() - X[labels == 0].change_sym.mean(),\n",
    "      X[labels == 1].change_pmh.mean() - X[labels == 0].change_pmh.mean(),\n",
    "      X[labels == 1].change_cope.mean() - X[labels == 0].change_cope.mean(),\n",
    "      X[labels == 1].change_fun.mean() - X[labels == 0].change_fun.mean(),\n",
    "      X[labels == 1].change_well.mean() - X[labels == 0].change_well.mean())"
   ]
  },
  {
   "cell_type": "code",
   "execution_count": null,
   "id": "juvenile-article",
   "metadata": {},
   "outputs": [],
   "source": [
    "from scipy.stats import ttest_ind"
   ]
  },
  {
   "cell_type": "code",
   "execution_count": null,
   "id": "compressed-keeping",
   "metadata": {},
   "outputs": [],
   "source": [
    "print(ttest_ind(X[labels == 1].change_sym,X[labels == 0].change_sym, nan_policy = 'omit'),'\\n',\n",
    "ttest_ind(X[labels == 1].change_pmh,X[labels == 0].change_pmh, nan_policy = 'omit'),'\\n',\n",
    "ttest_ind(X[labels == 1].change_cope,X[labels == 0].change_cope, nan_policy = 'omit'),'\\n',\n",
    "ttest_ind(X[labels == 1].change_fun,X[labels == 0].change_fun, nan_policy = 'omit'),'\\n',\n",
    "ttest_ind(X[labels == 1].change_well,X[labels == 0].change_well, nan_policy = 'omit'))"
   ]
  },
  {
   "cell_type": "code",
   "execution_count": null,
   "id": "former-papua",
   "metadata": {},
   "outputs": [],
   "source": [
    "print(X.change_sym.corr(X.imprv1),\n",
    "      X.change_pmh.corr(X.imprv1),\n",
    "      X.change_cope.corr(X.imprv1),\n",
    "      X.change_fun.corr(X.imprv1),\n",
    "      X.change_well.corr(X.imprv1),\n",
    "      X.labels.corr(X.imprv1))"
   ]
  },
  {
   "cell_type": "code",
   "execution_count": null,
   "id": "published-netscape",
   "metadata": {},
   "outputs": [],
   "source": [
    "print(X.change_sym.corr(X.overall1),\n",
    "      X.change_pmh.corr(X.overall1),\n",
    "      X.change_cope.corr(X.overall1),\n",
    "      X.change_fun.corr(X.overall1),\n",
    "      X.change_well.corr(X.overall1),\n",
    "      X.labels.corr(X.overall1))"
   ]
  },
  {
   "cell_type": "code",
   "execution_count": null,
   "id": "invisible-floor",
   "metadata": {},
   "outputs": [],
   "source": [
    "print(X.imprv1[labels == 0].mean(),\n",
    "X.imprv1[labels == 1].mean(),\n",
    "X.imprv1[labels == 2].mean())\n",
    "\n",
    "print(X.overall1[labels == 0].mean(),\n",
    "X.overall1[labels == 1].mean(),\n",
    "X.overall1[labels == 2].mean())"
   ]
  }
 ],
 "metadata": {
  "kernelspec": {
   "display_name": "Python 3",
   "language": "python",
   "name": "python3"
  },
  "language_info": {
   "codemirror_mode": {
    "name": "ipython",
    "version": 3
   },
   "file_extension": ".py",
   "mimetype": "text/x-python",
   "name": "python",
   "nbconvert_exporter": "python",
   "pygments_lexer": "ipython3",
   "version": "3.8.5"
  }
 },
 "nbformat": 4,
 "nbformat_minor": 5
}
